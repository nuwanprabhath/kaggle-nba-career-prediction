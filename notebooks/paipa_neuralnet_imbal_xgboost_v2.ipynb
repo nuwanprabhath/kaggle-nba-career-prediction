{
 "cells": [
  {
   "cell_type": "markdown",
   "metadata": {},
   "source": [
    "## Advance Data Science Innovation - Assignment 1 Second Submission\n",
    "\n",
    "### NBA Career Prediction - Predicting 5-Year Career Longevity for NBA Rookies\n",
    "\n",
    "**Group 1:** Nuwan Munasinghe, Wenying Wu, Nathan Fragar, Sean Williams, Carol Myhill\n",
    "\n",
    "**Pre-requisites:**\n",
    "- Create a github account (https://github.com/join)\n",
    "- Install git (https://git-scm.com/book/en/v2/Getting-Started-Installing-Git)\n",
    "- Install Docker (https://docs.docker.com/get-docker/)\n",
    "\n",
    "The steps are:\n",
    "1.   Launch Docker image\n",
    "2.   Load and prepare data\n",
    "3.   Model training and evaluation\n",
    "     - neural net\n",
    "     - logistic regression\n",
    "4.   Xgboost training and evaluation\n",
    "5.   Push changes\n",
    "\n",
    "## 1. Load Python packages and libraries"
   ]
  },
  {
   "cell_type": "code",
   "execution_count": 1,
   "metadata": {},
   "outputs": [
    {
     "name": "stdout",
     "output_type": "stream",
     "text": [
      "Requirement already satisfied: imbalanced-learn in /opt/conda/lib/python3.7/site-packages (0.9.0)\n",
      "Requirement already satisfied: numpy>=1.14.6 in /opt/conda/lib/python3.7/site-packages (from imbalanced-learn) (1.18.1)\n",
      "Requirement already satisfied: scipy>=1.1.0 in /opt/conda/lib/python3.7/site-packages (from imbalanced-learn) (1.4.1)\n",
      "Requirement already satisfied: threadpoolctl>=2.0.0 in /opt/conda/lib/python3.7/site-packages (from imbalanced-learn) (3.1.0)\n",
      "Requirement already satisfied: scikit-learn>=1.0.1 in /opt/conda/lib/python3.7/site-packages (from imbalanced-learn) (1.0.2)\n",
      "Requirement already satisfied: joblib>=0.11 in /opt/conda/lib/python3.7/site-packages (from imbalanced-learn) (0.14.1)\n"
     ]
    }
   ],
   "source": [
    "# Only run this step once per Docker session - run then RESTART the Kernal & run this code again\n",
    "!pip install imbalanced-learn"
   ]
  },
  {
   "cell_type": "code",
   "execution_count": 3,
   "metadata": {},
   "outputs": [],
   "source": [
    "# required python libraries\n",
    "import pandas as pd\n",
    "import numpy as np\n",
    "from joblib import dump\n",
    "import seaborn as sns\n",
    "import matplotlib.pyplot as plt\n",
    "import time\n",
    "\n",
    "# scikit-learn models and functions\n",
    "from sklearn.model_selection import train_test_split\n",
    "from sklearn.metrics import mean_squared_error as mse\n",
    "from sklearn.metrics import mean_absolute_error as mae\n",
    "from sklearn.metrics import accuracy_score\n",
    "\n",
    "from sklearn.feature_selection import SelectFromModel\n",
    "from sklearn.ensemble import ExtraTreesClassifier\n",
    "from sklearn.feature_selection import SelectKBest\n",
    "from sklearn.feature_selection import f_regression\n",
    "from sklearn.feature_selection import mutual_info_regression\n",
    "\n",
    "# Logistic Regression Models\n",
    "from sklearn.preprocessing import StandardScaler, LabelEncoder\n",
    "from sklearn.linear_model import LogisticRegression\n",
    "from sklearn.svm import LinearSVC\n",
    "from sklearn.metrics import roc_curve\n",
    "from sklearn.metrics import roc_auc_score\n",
    "from sklearn.metrics import plot_confusion_matrix\n",
    "\n",
    "import warnings\n",
    "warnings.filterwarnings('ignore')"
   ]
  },
  {
   "cell_type": "markdown",
   "metadata": {},
   "source": [
    "## 2. Prepare data for model training\n",
    "\n",
    "**[2.1]** Import training & final test (kaggle) data\n",
    "\n",
    "**[2.2]** Copy data for transformation for modelling steps"
   ]
  },
  {
   "cell_type": "code",
   "execution_count": 4,
   "metadata": {},
   "outputs": [],
   "source": [
    "# import training & final test data\n",
    "df_train = pd.read_csv('../data/raw/train.csv')\n",
    "df_test = pd.read_csv('../data/raw/test.csv')"
   ]
  },
  {
   "cell_type": "code",
   "execution_count": 6,
   "metadata": {},
   "outputs": [
    {
     "name": "stdout",
     "output_type": "stream",
     "text": [
      "df_cleaned row,cols     (8000, 19)\n",
      "df_clean_test rows,cols (3799, 19) \n",
      "\n",
      "['GP', 'MIN', 'PTS', 'FGM', 'FGA', 'FG%', '3P Made', '3PA', '3P%', 'FTM', 'FTA', 'FT%', 'OREB', 'DREB', 'REB', 'AST', 'STL', 'BLK', 'TOV']\n"
     ]
    }
   ],
   "source": [
    "# Create a copy of df and save it into a variable called df_cleaned\n",
    "df_cleaned = df_train.copy()\n",
    "df_clean_test = df_test.copy()\n",
    "\n",
    "# Drop columns 'Id'\n",
    "drop_cols = ['Id']   \n",
    "\n",
    "# We need to drop the Id column as this is irrelevant for modelling\n",
    "df_cleaned.drop(drop_cols, axis=1, inplace=True)\n",
    "df_clean_test.drop(drop_cols, axis=1, inplace=True)\n",
    "\n",
    "# Remove leading and trailing space from the column names\n",
    "df_cleaned.columns = df_cleaned.columns.str.strip()\n",
    "df_clean_test.columns = df_clean_test.columns.str.strip()\n",
    "\n",
    "# Extract the column TARGET_5Yrs and save it into variable called target\n",
    "target = df_cleaned.pop('TARGET_5Yrs')\n",
    "\n",
    "print('df_cleaned row,cols    ',df_cleaned.shape)\n",
    "print('df_clean_test rows,cols',df_clean_test.shape,'\\n')\n",
    "\n",
    "# we will need labels later for plotting results\n",
    "labels = df_cleaned.columns.tolist() \n",
    "print(labels)"
   ]
  },
  {
   "cell_type": "markdown",
   "metadata": {},
   "source": [
    "**[2.3]** Function to select required features only\n",
    "\n",
    "**[2.4]** Create first train/test data with ALL features remaining for Baseline testing & evaluation"
   ]
  },
  {
   "cell_type": "code",
   "execution_count": 9,
   "metadata": {},
   "outputs": [
    {
     "name": "stdout",
     "output_type": "stream",
     "text": [
      "df_clean_R1 row,cols     (8000, 19)\n"
     ]
    }
   ],
   "source": [
    "# only keep selected features / cols\n",
    "def select_features(df_train, df_test, keep_cols=['']):\n",
    "    # take copies of the Cleaned data up to now - so we can rerun from here different feature selections\n",
    "    df_clean_new = df_train.copy()\n",
    "    df_clean_new_test = df_test.copy()\n",
    "    \n",
    "    return df_clean_new[keep_cols], df_clean_new_test[keep_cols]\n",
    "\n",
    "\n",
    "# ALL Features for baseline testing for training models\n",
    "df_clean_R1, df_clean_R1_test = select_features(df_cleaned, df_clean_test,keep_cols=labels)\n",
    "\n",
    "# check still the same number of rows & columns as original cleaned training data\n",
    "print('df_clean_R1 row,cols    ',df_clean_R1.shape)"
   ]
  },
  {
   "cell_type": "markdown",
   "metadata": {},
   "source": [
    "### Standardising, Resampling Imbalance Data\n",
    "\n",
    "**[2.5]** Create function to prepare training data for modelling\n",
    "- apply Sci-kit Learn `StandardScaler` as the data contains negative values\n",
    "- allow for resampling techniques to treat imbalanced target data `SMOTE`, `ADASYN` are the current techniques\n",
    "\n",
    "(i) the Synthetic Minority Oversampling Technique (SMOTE) Sampling <br>\n",
    "(ii) the Adaptive Synthetic (ADASYN) Sampling <br>\n",
    "https://imbalanced-learn.org/stable/over_sampling.html#smote-adasyn"
   ]
  },
  {
   "cell_type": "code",
   "execution_count": 13,
   "metadata": {},
   "outputs": [],
   "source": [
    "from sklearn.preprocessing import StandardScaler, MinMaxScaler\n",
    "from sklearn.model_selection import train_test_split\n",
    "from imblearn.over_sampling import SMOTE, ADASYN\n",
    "\n",
    "# set defaults\n",
    "random_state=100\n",
    "scaler = StandardScaler()\n",
    "\n",
    "# Prepare training data for modelling - Standardising, Resampling for imbalanced data\n",
    "def Prep_Model_Data(df_clean, target, scaler, resample='', random_state=8):\n",
    "    \n",
    "    # rescale eg: scaler = StandardScaler()\n",
    "    df_clean = scaler.fit_transform(df_clean)\n",
    "    # df_clean_test = scaler.fit_transform(df_clean_test)\n",
    "\n",
    "    #---------------------------------------------------------------------------------------\n",
    "    # Split randomly the dataset with random_state=8 into 2 different sets: data (80%) and test (20%)\n",
    "    X_data, X_test, y_data, y_test = train_test_split(df_clean, target, test_size=0.2, random_state=random_state)\n",
    "\n",
    "    # Split the remaining data (80%) randomly with random_state=8 into 2 different sets: training (80%) and validation (20%)\n",
    "    X_train, X_val, y_train, y_val = train_test_split(X_data, y_data, test_size=0.2, random_state=random_state) \n",
    "    \n",
    "    #---------------------------------------------------------------------------------------\n",
    "    # RESAMPLE if indicated\n",
    "    \n",
    "    # Original Training data\n",
    "    if resample=='NO RESAMPLE' or resample=='':\n",
    "        X_train_res, y_train_res = X_train, y_train\n",
    "        X_val_res, y_val_res =  X_val, y_val\n",
    "        X_test_res, y_test_res =  X_test, y_test\n",
    "        print('NO Resample - ALL Features')\n",
    "    \n",
    "    # SMOTE - treat Imbalanced Target data after splitting Training & Test & Validation data\n",
    "    if resample=='SMOTE':\n",
    "        X_train_res, y_train_res = SMOTE(random_state=random_state).fit_resample(X_train, y_train)\n",
    "        X_val_res, y_val_res = SMOTE(random_state=random_state).fit_resample(X_val, y_val)\n",
    "        X_test_res, y_test_res = SMOTE(random_state=random_state).fit_resample(X_test, y_test)\n",
    "\n",
    "    # ADASYN - treat Imbalanced Target data after splitting Training & Test & Validation data\n",
    "    if resample=='ADASYN':\n",
    "        X_train_res, y_train_res = ADASYN(random_state=random_state).fit_resample(X_train, y_train)\n",
    "        X_val_res, y_val_res = ADASYN(random_state=random_state).fit_resample(X_val, y_val)\n",
    "        X_test_res, y_test_res = ADASYN(random_state=random_state).fit_resample(X_test, y_test)\n",
    "        \n",
    "    return X_train_res, y_train_res, X_val_res, y_val_res, X_test_res, y_test_res\n"
   ]
  },
  {
   "cell_type": "markdown",
   "metadata": {},
   "source": [
    "## 3. Model Training and Evaluation\n",
    "\n",
    "**[3.1]** Function to perform **Classification** training and basic evaluation"
   ]
  },
  {
   "cell_type": "code",
   "execution_count": 14,
   "metadata": {},
   "outputs": [],
   "source": [
    "from sklearn.metrics import roc_auc_score, make_scorer\n",
    "\n",
    "def Train_Classifier(X_train_res, y_train_res, X_val_res, y_val_res, X_test_res, y_test_res, classifier, features='all', resample='resample'):\n",
    "    t_start = time.process_time()\n",
    "    # fit model\n",
    "    classify = classifier.fit(X_train_res, y_train_res)\n",
    "    t_end = time.process_time()       \n",
    "    t_diff = t_end - t_start\n",
    "\n",
    "    #--------------------------------------------------------------------------\n",
    "    # Compare accuracy of the given test data\n",
    "    \n",
    "    # baseline target average\n",
    "    y_mode = y_train_res.mode()\n",
    "    \n",
    "    if resample=='NO RESAMPLE' or resample=='':\n",
    "        y_base_res = np.full((len(y_train_res), 1), y_mode)\n",
    "    else: \n",
    "        y_base_res = np.full((len(y_train_res), 1), y_mode[0])\n",
    "\n",
    "    # for debugging during dev/test\n",
    "    if 1==2:\n",
    "        print('mode',y_train_res.mode(), '\\ttype:',type(y_train_res.mode()))\n",
    "        print('len(X_train)',len(X_train_res))\n",
    "        print('len(y_train)',len(y_train_res))\n",
    "        print('y_base_res',y_base_res)\n",
    "\n",
    "    print(f\"Compare accuracy between data sets - testing {features} features \")\n",
    "    print(f\"Classifier - {classify}\")\n",
    "    print(f\"Imbalanced data fix - {resample}\")\n",
    "    print(\"Baseline:     \",accuracy_score(y_train_res, y_base_res))\n",
    "    print(\"Train data:   \",classifier.score(X_train_res, y_train_res))\n",
    "    print(\"Validation:   \",classifier.score(X_val_res, y_val_res))\n",
    "         \n",
    "    #--------------------------------------------------------------------------\n",
    "    # final test (unseen) data AUC score\n",
    "    pred_prob = classifier.predict_proba(X_test_res)\n",
    "    auc_score = roc_auc_score(y_test_res, pred_prob[:,1])\n",
    "    print('Test data auc:',auc_score,'\\n')    \n",
    "    \n",
    "    return classify, X_train_res, y_train_res, X_val_res, y_val_res, X_test_res, y_test_res\n"
   ]
  },
  {
   "cell_type": "markdown",
   "metadata": {},
   "source": [
    "**[3.2]** Functions to evaluate model accuracy and performance metrics\n",
    "\n",
    "- AUC - area under the curve https://stats.stackexchange.com/questions/132777/what-does-auc-stand-for-and-what-is-it"
   ]
  },
  {
   "cell_type": "code",
   "execution_count": 57,
   "metadata": {},
   "outputs": [],
   "source": [
    "import matplotlib.pyplot as plt\n",
    "from sklearn.metrics import roc_curve, roc_auc_score, plot_confusion_matrix\n",
    "from sklearn.metrics import make_scorer\n",
    "\n",
    "font_size=14\n",
    "plt.rcParams['font.size'] = font_size\n",
    "\n",
    "def Plot_Confusion_Matrix(classifier, X, y, title):\n",
    "    print(f'Confusion matrix - {title}')\n",
    "    plot_confusion_matrix(classifier, X, y, cmap=plt.cm.Blues, normalize='true')\n",
    "    plt.show();\n",
    "\n",
    "\n",
    "def Model_Perform_Evaluate(classifier, X_test, y_test, show_roc, class_label):\n",
    "    # predict probabilities\n",
    "    pred_prob = classifier.predict_proba(X_test)\n",
    "    \n",
    "    if show_roc==True:\n",
    "        # roc curve for models\n",
    "        fpr, tpr, thresh = roc_curve(y_test, pred_prob[:,1], pos_label=1)\n",
    "        Plot_ROC_Curve(pred_prob, fpr, tpr, class_label)\n",
    "    \n",
    "    return pred_prob, class_label\n",
    "\n",
    "    \n",
    "def Plot_ROC_Curve(pred_prob, fpr, tpr, model_name):\n",
    "    plt.style.use('seaborn')\n",
    "\n",
    "    # roc curve for models\n",
    "    # fpr, tpr, thresh = roc_curve(y_test, pred_prob[:,1], pos_label=1)\n",
    "\n",
    "    # plot roc curves\n",
    "    plt.plot(fpr, tpr, linestyle='--',color='orange', label=model_name)\n",
    "    # plt.plot(p_fpr, p_tpr, linestyle='--', color='blue')\n",
    "    \n",
    "    # title\n",
    "    plt.title(f'ROC curve - {model_name}', fontsize=font_size+2)\n",
    "    # x label\n",
    "    plt.xlabel('False Positive Rate', fontsize=font_size)\n",
    "    # y label\n",
    "    plt.ylabel('True Positive rate', fontsize=font_size)\n",
    "\n",
    "    plt.legend(loc='best', fontsize=(font_size-2))\n",
    "    plt.savefig('ROC',dpi=300)\n",
    "    plt.show();    "
   ]
  },
  {
   "cell_type": "markdown",
   "metadata": {},
   "source": [
    "**[3.3]** Save the model predictions on the Kaggle test data to CSV, then submit online to the Kaggle competition\n",
    "\n",
    "https://www.kaggle.com/c/uts-advdsi-22-02-nba-career-prediction/leaderboard"
   ]
  },
  {
   "cell_type": "code",
   "execution_count": 76,
   "metadata": {},
   "outputs": [],
   "source": [
    "#save the final \"test\" prediction probabilities for Kaggle\n",
    "\n",
    "def Save_Kaggle_Results(classifier, scaler, df_clean_test, save_csv=False, csv_name=''):\n",
    "    df_final_test = scaler.fit_transform(df_clean_test)\n",
    "    y_final_preds = classifier.predict_proba(df_final_test)\n",
    "    \n",
    "    # combine df_test Id column with prediction probabilities column (cover to dataframe first) \n",
    "    frames = [df_test.iloc[:,0], pd.DataFrame(y_final_preds[:,1])]\n",
    "    result = pd.concat(frames, axis=1) \n",
    "    result.columns = ['Id','tmp']\n",
    "    result['TARGET_5Yrs'] = [round(num, 2) for num in result['tmp']]\n",
    "    result.drop(['tmp'], axis=1, inplace=True)\n",
    "\n",
    "    # print(len(df_final_test),len(y_final_preds))\n",
    "    # print(result.shape)\n",
    "\n",
    "    #--------------------------------------------------------------------------\n",
    "    # Save the final predictions for submission to Kaggle\n",
    "    if save_csv==True:\n",
    "        result.to_csv('../data/processed/cazmayhem_{c}.csv'.format(c=csv_name), index=False)\n",
    "        print('kaggle results saved ../data/processed/cazmayhem_{c}.csv'.format(c=csv_name))\n",
    "    \n",
    "    return csv_name"
   ]
  },
  {
   "cell_type": "markdown",
   "metadata": {},
   "source": [
    "**[3.4]** Initialise Classification models & parameters\n",
    "\n",
    "1. Neural Network MLPClassifier()\n",
    "2. LogisticRegression()\n",
    "\n",
    "These 2 models performed the best in Test 1."
   ]
  },
  {
   "cell_type": "code",
   "execution_count": 17,
   "metadata": {},
   "outputs": [],
   "source": [
    "from sklearn.neural_network import MLPClassifier\n",
    "from sklearn.linear_model import LogisticRegression\n",
    "\n",
    "# MLPClassifier parameters\n",
    "activation='logistic'\n",
    "solver='adam'     # sgd, adam (default)\n",
    "alpha=0.01        # 0.0001 default\n",
    "max_iter=300\n",
    "batch_size=100    \n",
    "\n",
    "random_state=100\n",
    "\n",
    "# Classification Models defined - MLPClassifier()\n",
    "clf_NN_MLP=MLPClassifier(activation=activation, solver=solver, alpha=alpha, batch_size=batch_size, random_state=random_state)\n",
    "\n",
    "# Classification Models defined - LogisticRegression()\n",
    "clf_LR=LogisticRegression(C=109.85411419875572, class_weight=None, dual=False,\n",
    "          fit_intercept=True, intercept_scaling=1, max_iter=100, n_jobs=None, penalty='l2',\n",
    "          tol=0.0001, verbose=0, warm_start=False, random_state=random_state)"
   ]
  },
  {
   "cell_type": "markdown",
   "metadata": {},
   "source": [
    "#### [3.5] TEST 1 - Neural Net (MLPClassifier) ALL Features with SMOTE resampling\n",
    "\n",
    "Previous testing has been performed - these tests performed best for each model type"
   ]
  },
  {
   "cell_type": "code",
   "execution_count": 35,
   "metadata": {},
   "outputs": [
    {
     "name": "stdout",
     "output_type": "stream",
     "text": [
      "Compare accuracy between data sets - testing ALL features \n",
      "Classifier - MLPClassifier(activation='logistic', alpha=0.01, batch_size=100,\n",
      "              random_state=100)\n",
      "Imbalanced data fix - SMOTE\n",
      "Baseline:      0.5\n",
      "Train data:    0.6905541267243395\n",
      "Validation:    0.6117924528301887\n",
      "Test data auc: 0.7309956352749146 \n",
      "\n",
      "Confusion matrix - training data\n"
     ]
    },
    {
     "data": {
      "image/png": "[encoded data removed]",
      "text/plain": [
       "<Figure size 576x396 with 2 Axes>"
      ]
     },
     "metadata": {},
     "output_type": "display_data"
    },
    {
     "name": "stdout",
     "output_type": "stream",
     "text": [
      "Confusion matrix - test data\n"
     ]
    },
    {
     "data": {
      "image/png": "[encoded data removed]",
      "text/plain": [
       "<Figure size 576x396 with 2 Axes>"
      ]
     },
     "metadata": {},
     "output_type": "display_data"
    }
   ],
   "source": [
    "# Test 1 - Neural Net (MLPClassifier) Resampling Imbalance Data - ALL Original Features\n",
    "random_state = 100\n",
    "features='ALL'\n",
    "resample='SMOTE'\n",
    "model_name=f'Neural Net (MLPClassifier) {resample}'\n",
    "# labels = keep all features\n",
    "top_feat=labels \n",
    "\n",
    "classifier=clf_NN_MLP\n",
    "\n",
    "# create train/test data from selected important features only\n",
    "df_clean_mod, df_clean_mod_test = select_features(df_cleaned, df_clean_test, top_feat)\n",
    "\n",
    "# Prepare data for model training\n",
    "X_train_res, y_train_res, X_val_res, y_val_res, X_test_res, y_test_res = Prep_Model_Data(df_clean_mod, target, scaler, resample, random_state)\n",
    "\n",
    "# Train the Classification model\n",
    "classify, X_train_res, y_train_res, X_val_res, y_val_res, X_test_res, y_test_res = Train_Classifier(X_train_res, y_train_res, X_val_res, y_val_res, X_test_res, y_test_res, \n",
    "                                                                                                    classifier, features, resample)\n",
    "# Confusion Matrix Training data\n",
    "Plot_Confusion_Matrix(classify, X_train_res, y_train_res, 'training data')\n",
    "\n",
    "# Confusion Matrix Testing data\n",
    "Plot_Confusion_Matrix(classify, X_test_res, y_test_res, 'test data')\n",
    "\n",
    "# Model predictions & roc_curve\n",
    "pred_prob_1, model_name_1 = Model_Perform_Evaluate(classify, X_test_res, y_test_res, False, model_name)\n",
    "\n",
    "# save results for Kaggle comp\n",
    "Save_Kaggle_Results(classify, scaler, df_clean_mod_test, False, 'nn_mlp_smote')"
   ]
  },
  {
   "cell_type": "markdown",
   "metadata": {},
   "source": [
    "#### [3.6] TEST 2 - Logistic Regression ALL Features with SMOTE resampling"
   ]
  },
  {
   "cell_type": "code",
   "execution_count": 34,
   "metadata": {},
   "outputs": [
    {
     "name": "stdout",
     "output_type": "stream",
     "text": [
      "Compare accuracy between data sets - testing ALL features \n",
      "Classifier - LogisticRegression(C=109.85411419875572, random_state=100)\n",
      "Imbalanced data fix - SMOTE\n",
      "Baseline:      0.5\n",
      "Train data:    0.6605097030628946\n",
      "Validation:    0.6216981132075472\n",
      "Test data auc: 0.7301530133737341 \n",
      "\n",
      "Confusion matrix - training data\n"
     ]
    },
    {
     "data": {
      "image/png": "[encoded data removed]",
      "text/plain": [
       "<Figure size 576x396 with 2 Axes>"
      ]
     },
     "metadata": {},
     "output_type": "display_data"
    },
    {
     "name": "stdout",
     "output_type": "stream",
     "text": [
      "Confusion matrix - test data\n"
     ]
    },
    {
     "data": {
      "image/png": "[encoded data removed]",
      "text/plain": [
       "<Figure size 576x396 with 2 Axes>"
      ]
     },
     "metadata": {},
     "output_type": "display_data"
    }
   ],
   "source": [
    "# Test 2 - Logistic Regression Resampling Imbalance Data - ALL Original Features\n",
    "random_state = 100\n",
    "features='ALL'\n",
    "resample='SMOTE'\n",
    "model_name=f'Logistic Regression {resample}'\n",
    "csv_name='lr_smote'\n",
    "# labels = keep all features\n",
    "top_feat=labels \n",
    "\n",
    "classifier=clf_LR\n",
    "\n",
    "# intiailse training data for this test\n",
    "df_clean_mod, df_clean_mod_test = select_features(df_cleaned, df_clean_test, top_feat)\n",
    " \n",
    "# X_train, y_train, X_val, y_val, X_test, y_test = Prep_Model_Data(df_clean_R1, df_clean_R1_test, target, scaler, classifier, features, model_name, random_state)\n",
    "X_train_res, y_train_res, X_val_res, y_val_res, X_test_res, y_test_res = Prep_Model_Data(df_clean_mod, target, scaler, resample, random_state)\n",
    "\n",
    "# run the final Train_Classifier()\n",
    "classify, X_train_res, y_train_res, X_val_res, y_val_res, X_test_res, y_test_res = Train_Classifier(X_train_res, y_train_res, X_val_res, y_val_res, X_test_res, y_test_res, \n",
    "                                                                                                    classifier, features, resample)\n",
    "# Confusion Matrix Training data\n",
    "Plot_Confusion_Matrix(classify, X_train_res, y_train_res, 'training data')\n",
    "\n",
    "# Confusion Matrix Testing data\n",
    "Plot_Confusion_Matrix(classify, X_test_res, y_test_res, 'test data')\n",
    "\n",
    "# Plot ROC Curve\n",
    "pred_prob_2, model_name_2 = Model_Perform_Evaluate(classify, X_test_res, y_test_res, False, model_name)\n",
    "\n",
    "# save results for Kaggle comp\n",
    "Save_Kaggle_Results(classify, scaler, df_clean_mod_test, False, 'lr_smote')"
   ]
  },
  {
   "cell_type": "markdown",
   "metadata": {},
   "source": [
    "#### [3.7] TEST 3 - Logistic Regression Reduced Features with SMOTE resampling\n",
    "\n",
    "- remove the %-age columns as they are a reflection of \"made\" / \"attempts\" for the various features"
   ]
  },
  {
   "cell_type": "code",
   "execution_count": 36,
   "metadata": {},
   "outputs": [
    {
     "name": "stdout",
     "output_type": "stream",
     "text": [
      "Compare accuracy between data sets - testing reduced features \n",
      "Classifier - MLPClassifier(activation='logistic', alpha=0.01, batch_size=100,\n",
      "              random_state=100)\n",
      "Imbalanced data fix - SMOTE\n",
      "Baseline:      0.5\n",
      "Train data:    0.6568856675239654\n",
      "Validation:    0.6320754716981132\n",
      "Test data auc: 0.7215221978735492 \n",
      "\n",
      "Confusion matrix - training data\n"
     ]
    },
    {
     "data": {
      "image/png": "[encoded data removed]",
      "text/plain": [
       "<Figure size 576x396 with 2 Axes>"
      ]
     },
     "metadata": {},
     "output_type": "display_data"
    },
    {
     "name": "stdout",
     "output_type": "stream",
     "text": [
      "Confusion matrix - test data\n"
     ]
    },
    {
     "data": {
      "image/png": "[encoded data removed]",
      "text/plain": [
       "<Figure size 576x396 with 2 Axes>"
      ]
     },
     "metadata": {},
     "output_type": "display_data"
    }
   ],
   "source": [
    "# Test 3 - Neural Net (MLPClassifier) Resampling Imbalance Data - Reduced Features\n",
    "random_state = 100\n",
    "features='reduced'\n",
    "resample='SMOTE'\n",
    "model_name=f'Neural Net (MLPClassifier) {resample}'\n",
    "csv_name='mlp_smote_feat_2'\n",
    "# remove %-age columns\n",
    "top_feat=['GP', 'MIN', 'PTS', 'FGM', 'FGA', '3P Made', '3PA', 'FTM', 'FTA', 'OREB', 'DREB', 'REB', 'AST', 'STL', 'BLK', 'TOV']\n",
    "\n",
    "classifier=clf_NN_MLP\n",
    "\n",
    "# intiailse training data for this test\n",
    "df_clean_mod, df_clean_mod_test = select_features(df_cleaned, df_clean_test, top_feat)\n",
    " \n",
    "# Prepare data for model training\n",
    "X_train_res, y_train_res, X_val_res, y_val_res, X_test_res, y_test_res = Prep_Model_Data(df_clean_mod, target, scaler, resample, random_state)\n",
    "\n",
    "# Train the Classification model\n",
    "classify, X_train_res, y_train_res, X_val_res, y_val_res, X_test_res, y_test_res = Train_Classifier(X_train_res, y_train_res, X_val_res, y_val_res, X_test_res, y_test_res, \n",
    "                                                                                                    classifier, features, resample)\n",
    "# Confusion Matrix Training data\n",
    "Plot_Confusion_Matrix(classify, X_train_res, y_train_res, 'training data')\n",
    "\n",
    "# Confusion Matrix Testing data\n",
    "Plot_Confusion_Matrix(classify, X_test_res, y_test_res, 'test data')\n",
    "\n",
    "# Model predictions & roc_curve\n",
    "pred_prob_1, model_name_1 = Model_Perform_Evaluate(classify, X_test_res, y_test_res, False, model_name)\n",
    "\n",
    "# save results for Kaggle comp\n",
    "Save_Kaggle_Results(classify, scaler, df_clean_mod_test, False, csv_name)"
   ]
  },
  {
   "cell_type": "markdown",
   "metadata": {},
   "source": [
    "## 4. Perform Gradient Boosting model training\n",
    "\n",
    "**[4.1]** `Autoreload` extensions to refresh functions defined externally\n",
    "\n",
    "**[4.2]** Reload `Autoreload` extension if already loaded\n",
    "\n",
    "**[4.3]** Function to perform **Train_XGBoost** training and basic evaluation"
   ]
  },
  {
   "cell_type": "code",
   "execution_count": 37,
   "metadata": {},
   "outputs": [],
   "source": [
    "%load_ext autoreload\n",
    "%autoreload 2"
   ]
  },
  {
   "cell_type": "code",
   "execution_count": 38,
   "metadata": {},
   "outputs": [],
   "source": [
    "%reload_ext autoreload"
   ]
  },
  {
   "cell_type": "code",
   "execution_count": 71,
   "metadata": {},
   "outputs": [],
   "source": [
    "# Import the xgboost package as xgb\n",
    "import xgboost as xgb\n",
    "from src.models.performance import print_class_perf\n",
    "\n",
    "def Train_XGBoost(xgboost, X_train, y_train, X_val, y_val, X_test, y_test):\n",
    "    # Fit the model with the prepared data\n",
    "    xgboost.fit(X_train, y_train)\n",
    "    print('\\n',xgboost.fit(X_train, y_train),'\\n')\n",
    "\n",
    "    # Import dump from joblib and save the fitted model into the folder models as a file called xgboost_default\n",
    "    from joblib import dump \n",
    "    dump(xgboost,  '../models/xgboost_default.joblib')\n",
    "\n",
    "    # Save the predictions from this model for the training and validation sets into 2 variables called y_train_preds and y_val_preds\n",
    "    y_train_preds = xgboost.predict(X_train)\n",
    "    y_val_preds = xgboost.predict(X_val)\n",
    "    y_test_preds = xgboost.predict(X_test)\n",
    "    \n",
    "    # prediction probabilities for AUC\n",
    "    y_train_pred_prob = xgboost.predict_proba(X_train)\n",
    "    y_val_pred_prob = xgboost.predict_proba(X_val)\n",
    "    y_test_pred_prob = xgboost.predict_proba(X_test)\n",
    "\n",
    "    print_class_perf(y_preds=y_train_preds, y_actuals=y_train, y_pred_prob=y_train_pred_prob[:,1], set_name='Training', average='weighted')\n",
    "    print_class_perf(y_preds=y_val_preds, y_actuals=y_val, y_pred_prob=y_val_pred_prob[:,1], set_name='Validation', average='weighted')    \n",
    "    print_class_perf(y_preds=y_test_preds, y_actuals=y_test, y_pred_prob=y_test_pred_prob[:,1], set_name='Test', average='weighted')\n",
    "    \n",
    "    return xgboost, xgboost\n"
   ]
  },
  {
   "cell_type": "markdown",
   "metadata": {},
   "source": [
    "**[4.4]** Function to identify **feature importance** for xgboost trained data\n",
    "\n",
    "- return the top N features by importance value"
   ]
  },
  {
   "cell_type": "code",
   "execution_count": 40,
   "metadata": {},
   "outputs": [],
   "source": [
    "def xgb_feature_important(clf_xgb, df_clean, max_num_features=5):\n",
    "    # Extract the feature importance from the trained xgboost model\n",
    "    feat_imp = clf_xgb.get_booster().get_score(importance_type=\"gain\")\n",
    "\n",
    "    # Using a dictionary comprehension, create a dictionary called mapper with keys \n",
    "    # in the format of f0 (0 is the index of the first column) and values as column names\n",
    "    mapper = {'f{0}'.format(i): v for i, v in enumerate(df_clean.columns)}\n",
    "\n",
    "    # Using a dictionary comprehension, create a dictionary called mapping with keys \n",
    "    # as the column names from mapper and values as the corresponding feature importance\n",
    "    mapping = {mapper[k]: v for k, v in feat_imp.items()}\n",
    "\n",
    "    # Plot the partial dependence plot using plot_importance for the top 5 features\n",
    "    xgb.plot_importance(mapping, max_num_features=max_num_features)\n",
    "    \n",
    "    # extract top 5 features - but this will be an array\n",
    "    n_feat = max_num_features\n",
    "    top_feat = pd.DataFrame(sorted(mapping.items(), key=lambda x: x[1], reverse=True)).iloc[:n_feat,:1].values\n",
    "\n",
    "    # Convert elements in a numpy array to string\n",
    "    top_feat = [\",\".join(item) for item in top_feat.astype(str)]\n",
    "    print('\\n')\n",
    "    print('Top features list',top_feat)\n",
    "    \n",
    "    return top_feat"
   ]
  },
  {
   "cell_type": "markdown",
   "metadata": {},
   "source": [
    "**[4.5]** XGBoost training with default parameters"
   ]
  },
  {
   "cell_type": "code",
   "execution_count": 43,
   "metadata": {},
   "outputs": [
    {
     "name": "stdout",
     "output_type": "stream",
     "text": [
      "NO Resample - ALL Features\n",
      "\n",
      " XGBClassifier(base_score=0.5, booster='gbtree', colsample_bylevel=1,\n",
      "              colsample_bynode=1, colsample_bytree=1, gamma=0, gpu_id=-1,\n",
      "              importance_type='gain', interaction_constraints='',\n",
      "              learning_rate=0.01, max_delta_step=0, max_depth=6,\n",
      "              min_child_weight=1, missing=nan, monotone_constraints='()',\n",
      "              n_estimators=100, n_jobs=0, num_parallel_tree=1, random_state=100,\n",
      "              reg_alpha=0, reg_lambda=1, scale_pos_weight=1, subsample=1,\n",
      "              tree_method='exact', validate_parameters=1, verbosity=None) \n",
      "\n",
      "Accuracy Training: 0.85546875\n",
      "F1       Training: 0.8059690786292248\n",
      "AUC      Training: 0.812439484999491 \n",
      "\n",
      "Accuracy Validation: 0.8265625\n",
      "F1       Validation: 0.7605048802466723\n",
      "AUC      Validation: 0.6698434819897083 \n",
      "\n",
      "Accuracy Test: 0.8275\n",
      "F1       Test: 0.7666689655172415\n",
      "AUC      Test: 0.7006395387925239 \n",
      "\n"
     ]
    },
    {
     "data": {
      "text/plain": [
       "XGBClassifier(base_score=0.5, booster='gbtree', colsample_bylevel=1,\n",
       "              colsample_bynode=1, colsample_bytree=1, gamma=0, gpu_id=-1,\n",
       "              importance_type='gain', interaction_constraints='',\n",
       "              learning_rate=0.01, max_delta_step=0, max_depth=6,\n",
       "              min_child_weight=1, missing=nan, monotone_constraints='()',\n",
       "              n_estimators=100, n_jobs=0, num_parallel_tree=1, random_state=100,\n",
       "              reg_alpha=0, reg_lambda=1, scale_pos_weight=1, subsample=1,\n",
       "              tree_method='exact', validate_parameters=1, verbosity=None)"
      ]
     },
     "execution_count": 43,
     "metadata": {},
     "output_type": "execute_result"
    }
   ],
   "source": [
    "# Test 3 - Logistic Regression Resampling Imbalance Data - ALL Original Features\n",
    "random_state = 100\n",
    "features='ALL'\n",
    "resample='NO RESAMPLE'\n",
    "model_name=f'XGBoost {resample}'\n",
    "top_feat=labels\n",
    "\n",
    "# intiailse training data for this test\n",
    "df_clean_mod, df_clean_mod_test = select_features(df_cleaned, df_clean_test, top_feat)\n",
    " \n",
    "# instantiate the XGBClassifier class into a variable called xgboost1\n",
    "xgboost1 = xgb.XGBClassifier(learning_rate=0.01, random_state=random_state)\n",
    "\n",
    "X_train_res, y_train_res, X_val_res, y_val_res, X_test_res, y_test_res = Prep_Model_Data(df_clean_mod, target, scaler, resample, random_state)\n",
    "\n",
    "Train_XGBoost(xgboost1, X_train_res, y_train_res, X_val_res, y_val_res, X_test_res, y_test_res)"
   ]
  },
  {
   "cell_type": "markdown",
   "metadata": {},
   "source": [
    "**[4.6]** Perform hyperparameter tuning with Hyperopt\n",
    "\n",
    "- input parameters: hyperparameter seacrh space (`space`)\n",
    "- logics: train a xgboost model with the search space and calculate the average accuracy score for cross validation with 10 folds\n",
    "- output parameters: dictionary with the loss score and STATUS_OK"
   ]
  },
  {
   "cell_type": "code",
   "execution_count": 70,
   "metadata": {},
   "outputs": [],
   "source": [
    "# Import Trials, STATUS_OK, tpe, hp, fmin from hyperopt package\n",
    "from hyperopt import Trials, STATUS_OK, tpe, hp, fmin\n",
    "\n",
    "# Define the search space for xgboost hyperparameters\n",
    "space = {\n",
    "    'max_depth' : hp.choice('max_depth', range(5, 20, 1)),\n",
    "    'learning_rate' : hp.quniform('learning_rate', 0.01, 0.5, 0.05),\n",
    "    'min_child_weight' : hp.quniform('min_child_weight', 1, 10, 1),\n",
    "    'subsample' : hp.quniform('subsample', 0.1, 1, 0.05),\n",
    "    'colsample_bytree' : hp.quniform('colsample_bytree', 0.1, 1.0, 0.05)\n",
    "}\n",
    "\n",
    "# Define a function called objective\n",
    "def objective(space):\n",
    "    from sklearn.model_selection import cross_val_score\n",
    "    \n",
    "    xgboost = xgb.XGBClassifier(\n",
    "        max_depth = int(space['max_depth']),\n",
    "        learning_rate = space['learning_rate'],\n",
    "        min_child_weight = space['min_child_weight'],\n",
    "        subsample = space['subsample'],\n",
    "        colsample_bytree = space['colsample_bytree'],\n",
    "        random_state=random_state\n",
    "    )\n",
    "    \n",
    "    acc = cross_val_score(xgboost, X_train_res, y_train_res, cv=10, scoring=\"accuracy\").mean()\n",
    "\n",
    "    return{'loss': 1-acc, 'status': STATUS_OK }"
   ]
  },
  {
   "cell_type": "markdown",
   "metadata": {},
   "source": [
    "**[4.7]** Launch Hyperopt search and save the result in a variable called `best`"
   ]
  },
  {
   "cell_type": "code",
   "execution_count": 47,
   "metadata": {},
   "outputs": [
    {
     "name": "stdout",
     "output_type": "stream",
     "text": [
      "100%|██████████| 10/10 [00:17<00:00,  1.71s/trial, best loss: 0.16484374999999996]\n",
      "\n",
      "Best:  {'colsample_bytree': 0.1, 'learning_rate': 0.1, 'max_depth': 14, 'min_child_weight': 9.0, 'subsample': 0.6000000000000001}\n"
     ]
    }
   ],
   "source": [
    "# Launch Hyperopt search and save the result in a variable called `best`\n",
    "best = fmin(\n",
    "    fn=objective,   \n",
    "    space=space, \n",
    "    algo=tpe.suggest,       \n",
    "    max_evals=10\n",
    ")\n",
    "\n",
    "# Print the best set of hyperparameters\n",
    "print(\"\\nBest: \", best)"
   ]
  },
  {
   "cell_type": "markdown",
   "metadata": {},
   "source": [
    "**[4.7]** Instantiate a XGBClassifier with best set of hyperparameters\n",
    "\n",
    "**[4.8]** Fit the model with the prepared data"
   ]
  },
  {
   "cell_type": "code",
   "execution_count": 48,
   "metadata": {},
   "outputs": [
    {
     "data": {
      "text/plain": [
       "XGBClassifier(base_score=0.5, booster='gbtree', colsample_bylevel=1,\n",
       "              colsample_bynode=1, colsample_bytree=0.1, gamma=0, gpu_id=-1,\n",
       "              importance_type='gain', interaction_constraints='',\n",
       "              learning_rate=0.1, max_delta_step=0, max_depth=14,\n",
       "              min_child_weight=9.0, missing=nan, monotone_constraints='()',\n",
       "              n_estimators=100, n_jobs=0, num_parallel_tree=1, random_state=100,\n",
       "              reg_alpha=0, reg_lambda=1, scale_pos_weight=1,\n",
       "              subsample=0.6000000000000001, tree_method='exact',\n",
       "              validate_parameters=1, verbosity=None)"
      ]
     },
     "execution_count": 48,
     "metadata": {},
     "output_type": "execute_result"
    }
   ],
   "source": [
    "# Instantiate a XGBClassifier with best set of hyperparameters\n",
    "xgboost2 = xgb.XGBClassifier(\n",
    "    max_depth = best['max_depth'],\n",
    "    learning_rate = best['learning_rate'],\n",
    "    min_child_weight = best['min_child_weight'],\n",
    "    subsample = best['subsample'],\n",
    "    colsample_bytree = best['colsample_bytree'],\n",
    "    random_state=random_state\n",
    ")\n",
    "\n",
    "# Fit the model with the prepared data\n",
    "xgboost2.fit(X_train_res, y_train_res)"
   ]
  },
  {
   "cell_type": "code",
   "execution_count": 49,
   "metadata": {},
   "outputs": [
    {
     "name": "stdout",
     "output_type": "stream",
     "text": [
      "Accuracy Training: 0.840625\n",
      "F1       Training: 0.7761380234933606\n",
      "AUC      Training: 0.7965357753727558 \n",
      "\n",
      "Accuracy Validation: 0.828125\n",
      "F1       Validation: 0.7613836094985268\n",
      "AUC      Validation: 0.6354030874785591 \n",
      "\n",
      "Accuracy Test: 0.8325\n",
      "F1       Test: 0.7654242740392977\n",
      "AUC      Test: 0.6852169333512617 \n",
      "\n"
     ]
    }
   ],
   "source": [
    "# Display the accuracy and f1 scores of this baseline model on the training and validation sets\n",
    "print_class_perf(y_preds=xgboost2.predict(X_train_res), y_actuals=y_train_res, y_pred_prob=xgboost2.predict_proba(X_train_res)[:,1], set_name='Training', average='weighted')\n",
    "print_class_perf(y_preds=xgboost2.predict(X_val_res), y_actuals=y_val_res, y_pred_prob=xgboost2.predict_proba(X_val_res)[:,1], set_name='Validation', average='weighted')\n",
    "print_class_perf(y_preds=xgboost2.predict(X_test_res), y_actuals=y_test_res, y_pred_prob=xgboost2.predict_proba(X_test_res)[:,1], set_name='Test', average='weighted')\n",
    "\n",
    "# Test Accuracy Score \n",
    "# Test: 0.6852169333512617"
   ]
  },
  {
   "cell_type": "markdown",
   "metadata": {},
   "source": [
    "**[4.9]** Perform XGBoost training using SMOTE resampling for imbalanced target data\n",
    "\n",
    "- using best performing parameters from Hyperbot"
   ]
  },
  {
   "cell_type": "code",
   "execution_count": 72,
   "metadata": {},
   "outputs": [
    {
     "name": "stdout",
     "output_type": "stream",
     "text": [
      "\n",
      " XGBClassifier(base_score=0.5, booster='gbtree', colsample_bylevel=1,\n",
      "              colsample_bynode=1, colsample_bytree=0.1, gamma=0, gpu_id=-1,\n",
      "              importance_type='gain', interaction_constraints='',\n",
      "              learning_rate=0.1, max_delta_step=0, max_depth=14,\n",
      "              min_child_weight=9.0, missing=nan, monotone_constraints='()',\n",
      "              n_estimators=100, n_jobs=0, num_parallel_tree=1, random_state=100,\n",
      "              reg_alpha=0, reg_lambda=1, scale_pos_weight=1,\n",
      "              subsample=0.6000000000000001, tree_method='exact',\n",
      "              validate_parameters=1, verbosity=None) \n",
      "\n",
      "Accuracy Training: 0.9098667290156652\n",
      "F1       Training: 0.9092573196175017\n",
      "AUC      Training: 0.9636902181189039 \n",
      "\n",
      "Accuracy Validation: 0.8830188679245283\n",
      "F1       Validation: 0.8820309982758792\n",
      "AUC      Validation: 0.9187655749377002 \n",
      "\n",
      "Accuracy Test: 0.8933933933933934\n",
      "F1       Test: 0.8927009970075591\n",
      "AUC      Test: 0.9286273886499112 \n",
      "\n",
      "\n",
      "\n",
      "Top features list ['3P Made', 'BLK', 'OREB', 'STL', 'AST']\n"
     ]
    },
    {
     "data": {
      "image/png": "[encoded data removed]",
      "text/plain": [
       "<Figure size 576x396 with 1 Axes>"
      ]
     },
     "metadata": {},
     "output_type": "display_data"
    }
   ],
   "source": [
    "features='ALL'\n",
    "resample='SMOTE'\n",
    "scaler = StandardScaler()\n",
    "max_num_features=5\n",
    "# labels = ALL original features\n",
    "top_feat=labels\n",
    "\n",
    "# select required features for this tesm\n",
    "df_clean_mod, df_clean_mod_test = select_features(df_cleaned, df_clean_test, top_feat)\n",
    " \n",
    "# intiailse training data for this test\n",
    "X_train_res, y_train_res, X_val_res, y_val_res, X_test_res, y_test_res = Prep_Model_Data(df_clean_mod, target, scaler, resample, random_state)\n",
    "\n",
    "# use xgboost2 with best parameters from Hyperbot\n",
    "classify, clf_xgb_1 = Train_XGBoost(xgboost2, X_train_res, y_train_res, X_val_res, y_val_res, X_test_res, y_test_res)\n",
    "\n",
    "# New Test AUC Score \n",
    "# Test: 0.9286273886499112\n",
    "\n",
    "# Show XGB feature importance\n",
    "top_feat = xgb_feature_important(classify, df_clean_mod, max_num_features)"
   ]
  },
  {
   "cell_type": "markdown",
   "metadata": {},
   "source": [
    "**[4.10]** Repeat previous step with only top N features identified as most important\n",
    "\n",
    "- still using xgboost2"
   ]
  },
  {
   "cell_type": "code",
   "execution_count": 79,
   "metadata": {},
   "outputs": [
    {
     "name": "stdout",
     "output_type": "stream",
     "text": [
      "df_clean_mod rows,copls (8000, 5)\n",
      "X_train_res rows,copls  (8554, 5)\n",
      "\n",
      " XGBClassifier(base_score=0.5, booster='gbtree', colsample_bylevel=1,\n",
      "              colsample_bynode=1, colsample_bytree=0.1, gamma=0, gpu_id=-1,\n",
      "              importance_type='gain', interaction_constraints='',\n",
      "              learning_rate=0.1, max_delta_step=0, max_depth=14,\n",
      "              min_child_weight=9.0, missing=nan, monotone_constraints='()',\n",
      "              n_estimators=100, n_jobs=0, num_parallel_tree=1, random_state=100,\n",
      "              reg_alpha=0, reg_lambda=1, scale_pos_weight=1,\n",
      "              subsample=0.6000000000000001, tree_method='exact',\n",
      "              validate_parameters=1, verbosity=None) \n",
      "\n",
      "Accuracy Training: 0.8978255786766425\n",
      "F1       Training: 0.8969057249359096\n",
      "AUC      Training: 0.9377088842238903 \n",
      "\n",
      "Accuracy Validation: 0.8919811320754717\n",
      "F1       Validation: 0.8909615654566383\n",
      "AUC      Validation: 0.9174163403346387 \n",
      "\n",
      "Accuracy Test: 0.8937687687687688\n",
      "F1       Test: 0.892801917619322\n",
      "AUC      Test: 0.9275300074849625 \n",
      "\n",
      "Confusion matrix - training data\n"
     ]
    },
    {
     "data": {
      "image/png": "[encoded data removed]",
      "text/plain": [
       "<Figure size 576x396 with 2 Axes>"
      ]
     },
     "metadata": {},
     "output_type": "display_data"
    },
    {
     "name": "stdout",
     "output_type": "stream",
     "text": [
      "Confusion matrix - test data\n"
     ]
    },
    {
     "data": {
      "image/png": "[encoded data removed]",
      "text/plain": [
       "<Figure size 576x396 with 2 Axes>"
      ]
     },
     "metadata": {},
     "output_type": "display_data"
    },
    {
     "data": {
      "image/png": "[encoded data removed]",
      "text/plain": [
       "<Figure size 576x396 with 1 Axes>"
      ]
     },
     "metadata": {},
     "output_type": "display_data"
    },
    {
     "name": "stdout",
     "output_type": "stream",
     "text": [
      "kaggle results saved ../data/processed/cazmayhem_xgboost_smote_top_feat.csv\n"
     ]
    }
   ],
   "source": [
    "features='Top 5 Important'\n",
    "resample='SMOTE'\n",
    "model_name=f'XGBoost {resample}'\n",
    "csv_name='xgboost_smote_top_feat'\n",
    "max_num_features=5\n",
    "# features identified previous step\n",
    "top_feat=top_feat\n",
    "\n",
    "scaler = StandardScaler()\n",
    "\n",
    "# select required features for this tesm\n",
    "df_clean_mod, df_clean_mod_test = select_features(df_cleaned, df_clean_test, top_feat)\n",
    " \n",
    "# intiailse training data for this test\n",
    "X_train_res, y_train_res, X_val_res, y_val_res, X_test_res, y_test_res = Prep_Model_Data(df_clean_mod, target, scaler, resample, random_state)\n",
    "\n",
    "# quick check we have the same features selected in training data\n",
    "print('df_clean_mod rows,copls',df_clean_mod.shape)\n",
    "print('X_train_res rows,copls ',X_train_res.shape)\n",
    "\n",
    "# Train the model using xgboost2 after hyperopt\n",
    "classify, clf_xgb_2 = Train_XGBoost(xgboost2, X_train_res, y_train_res, X_val_res, y_val_res, X_test_res, y_test_res)\n",
    "\n",
    "# Confusion Matrix Training data\n",
    "Plot_Confusion_Matrix(classify, X_train_res, y_train_res, 'training data')\n",
    "\n",
    "# Confusion Matrix Testing data\n",
    "Plot_Confusion_Matrix(classify, X_test_res, y_test_res, 'test data')\n",
    "\n",
    "# Plot ROC Curve - save pret_prob & model_name for combined ROC graph\n",
    "pred_prob_3, model_name_3 = Model_Perform_Evaluate(classify, X_test_res, y_test_res, True, model_name)\n",
    "\n",
    "# save results for Kaggle comp - XGBoost with hyperopt using SMOTE for imbalanced target - correct model this time\n",
    "best_mod_xgb = Save_Kaggle_Results(classify, scaler, df_clean_mod_test, True, csv_name)\n",
    "\n",
    "# Show XGB feature importance - not required this step\n",
    "# xgb_feature_important(classify, df_clean_mod, max_num_features=5)\n",
    "\n",
    "# Test AUC Score\n",
    "# Test: 0.9275300074849625"
   ]
  },
  {
   "cell_type": "code",
   "execution_count": 68,
   "metadata": {},
   "outputs": [
    {
     "data": {
      "image/png": "[encoded data removed]",
      "text/plain": [
       "<Figure size 648x504 with 1 Axes>"
      ]
     },
     "metadata": {},
     "output_type": "display_data"
    }
   ],
   "source": [
    "#=========================================================================\n",
    "# COMBINE ROC CURVE GRAPH\n",
    "#=========================================================================\n",
    "\n",
    "# roc curve for models\n",
    "fpr1, tpr1, thresh1 = roc_curve(y_test_res, pred_prob_1[:,1], pos_label=1)\n",
    "fpr2, tpr2, thresh2 = roc_curve(y_test_res, pred_prob_2[:,1], pos_label=1)\n",
    "fpr3, tpr3, thresh3 = roc_curve(y_test_res, pred_prob_3[:,1], pos_label=1)\n",
    "\n",
    "# roc curve for tpr = fpr \n",
    "random_probs = [0 for i in range(len(y_test_res))]\n",
    "p_fpr, p_tpr, _ = roc_curve(y_test_res, random_probs, pos_label=1)\n",
    "\n",
    "# chart size\n",
    "plt.rcParams[\"figure.figsize\"] = (9,7) \n",
    "\n",
    "# plot roc curves\n",
    "plt.plot(fpr1, tpr1, linestyle='--',color='orange', label=model_name_1)\n",
    "plt.plot(fpr2, tpr2, linestyle='--',color='green', label=model_name_2)\n",
    "plt.plot(fpr3, tpr3, linestyle='--',color='cyan', label=model_name_3)\n",
    "plt.plot(p_fpr, p_tpr, linestyle='--', color='blue', label='TPR = FPR')\n",
    "\n",
    "# title\n",
    "plt.title(f'ROC curve combined models', fontsize=font_size+2)\n",
    "# x label\n",
    "plt.xlabel('False Positive Rate', fontsize=font_size)\n",
    "# y label\n",
    "plt.ylabel('True Positive rate', fontsize=font_size)\n",
    "\n",
    "plt.legend(loc='best', fontsize=(font_size-2))\n",
    "plt.savefig('ROC',dpi=300)\n",
    "plt.show();    "
   ]
  },
  {
   "cell_type": "markdown",
   "metadata": {},
   "source": [
    "**[4.11]** Save the best fitted model into the folder 'models'\n"
   ]
  },
  {
   "cell_type": "code",
   "execution_count": 80,
   "metadata": {},
   "outputs": [
    {
     "data": {
      "text/plain": [
       "['../models/xgboost_smote_top_feat.joblib']"
      ]
     },
     "execution_count": 80,
     "metadata": {},
     "output_type": "execute_result"
    }
   ],
   "source": [
    "#--------------------------------------------------------------------------\n",
    "# Save the best fitted model into the folder 'models', named for each classifier\n",
    "\n",
    "dump(clf_xgb_2,  '../models/{c}.joblib'.format(c=best_mod_xgb))"
   ]
  },
  {
   "cell_type": "markdown",
   "metadata": {},
   "source": [
    "## 5. Push changes to GitHub"
   ]
  },
  {
   "cell_type": "code",
   "execution_count": null,
   "metadata": {},
   "outputs": [],
   "source": [
    "\"\"\"\n",
    "# Add you changes to git staging area\n",
    "# Create the snapshot of your repository and add a description\n",
    "# Push your snapshot to Github\n",
    "\n",
    "git add .   \n",
    "git commit -m \"commit 4 xgboost hyperopt\"\n",
    "git push https://*********@github.com/CazMayhem/adv_dsi_AT1.git\n",
    "\n",
    "# Check out to the master branch\n",
    "# Pull the latest updates\n",
    "\n",
    "git checkout master\n",
    "git pull https://*********@github.com/CazMayhem/adv_dsi_AT1.git\n",
    "\n",
    "# Check out to the data_prep branch\n",
    "# Merge the master branch and push your changes\n",
    "git checkout xgboost_hyperopt\n",
    "git merge master\n",
    "git push https://*********@github.com/CazMayhem/adv_dsi_AT1.git\n",
    "\n",
    "\"\"\""
   ]
  }
 ],
 "metadata": {
  "kernelspec": {
   "display_name": "Python 3",
   "language": "python",
   "name": "python3"
  },
  "language_info": {
   "codemirror_mode": {
    "name": "ipython",
    "version": 3
   },
   "file_extension": ".py",
   "mimetype": "text/x-python",
   "name": "python",
   "nbconvert_exporter": "python",
   "pygments_lexer": "ipython3",
   "version": "3.7.6"
  }
 },
 "nbformat": 4,
 "nbformat_minor": 4
}
