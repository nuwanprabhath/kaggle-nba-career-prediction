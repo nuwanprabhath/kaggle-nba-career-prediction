{
 "cells": [
  {
   "cell_type": "markdown",
   "id": "1072d7ee-da99-4b15-8ded-496c770836dc",
   "metadata": {},
   "source": [
    "# **AdvDS - Assignment 1: Binary Classification - NBA Player Prediction - Data Preparation**"
   ]
  },
  {
   "cell_type": "markdown",
   "id": "92ff0a16-0385-4f56-bee2-d54827025980",
   "metadata": {},
   "source": [
    "Build a binary classification model that can predict if a rookie player will last at least 5 years in the NBA"
   ]
  },
  {
   "cell_type": "markdown",
   "id": "dcde699c-0dcd-4cb5-90db-9989080eed90",
   "metadata": {},
   "source": [
    "**Student Name:** Nathan Fragar\n",
    "\n",
    "**Student No. :** 93087548\n",
    "\n",
    "**Week:** 2\n",
    "\n",
    "**Date:** 20FEB2022\n",
    "\n",
    "**Team Name:** Group 1\n",
    "* Nuwan Munasinghe\n",
    "* Wenyingwuwy\n",
    "* Nathan Fragar\n",
    "* Sean Williams"
   ]
  },
  {
   "cell_type": "markdown",
   "id": "cc73ed60-6381-4db4-82c6-db70b15b0b4f",
   "metadata": {},
   "source": [
    "## 1. Load Dataset"
   ]
  },
  {
   "cell_type": "markdown",
   "id": "fcb5f006-c249-4004-83f8-fe7c39347f77",
   "metadata": {},
   "source": [
    "**[1.1]** Task: Import required packages: Pandas, Numpy, joblib"
   ]
  },
  {
   "cell_type": "code",
   "execution_count": 984,
   "id": "a4dd47ad-287f-4cc5-b3d1-24d2e87fddc3",
   "metadata": {},
   "outputs": [],
   "source": [
    "# Task: Import the pandas, numpy and joblib package\n",
    "import pandas as pd\n",
    "import numpy as np\n",
    "import joblib as job"
   ]
  },
  {
   "cell_type": "markdown",
   "id": "8b0a5f58-c5a8-4692-8f10-77d345b10698",
   "metadata": {},
   "source": [
    "**[1.2]** Task: Change working directory to /home/jovyan/work"
   ]
  },
  {
   "cell_type": "code",
   "execution_count": 985,
   "id": "ab947277-2f38-4ff7-8a92-df38c8f04f9f",
   "metadata": {},
   "outputs": [
    {
     "name": "stdout",
     "output_type": "stream",
     "text": [
      "/home/jovyan/work\n"
     ]
    }
   ],
   "source": [
    "cd /home/jovyan/work"
   ]
  },
  {
   "cell_type": "markdown",
   "id": "5e208409-c7d7-47d5-904a-840e8b6ede0e",
   "metadata": {},
   "source": [
    "**[1.3]** Task: Load Processed Data"
   ]
  },
  {
   "cell_type": "code",
   "execution_count": 986,
   "id": "39007e84-1c29-4295-bb3e-d5a33f3e3dba",
   "metadata": {},
   "outputs": [],
   "source": [
    "from src.data.sets import load_sets"
   ]
  },
  {
   "cell_type": "code",
   "execution_count": 987,
   "id": "bde035d8-2c87-4e06-9c29-2caa2f097449",
   "metadata": {},
   "outputs": [
    {
     "data": {
      "text/plain": [
       "(array([[0.35245902, 0.1212976 , 0.13173653, ..., 0.42888889, 0.29393939,\n",
       "         0.44692737],\n",
       "        [0.18032787, 0.04231312, 0.03592814, ..., 0.20888889, 0.43636364,\n",
       "         0.17504655],\n",
       "        [0.45081967, 0.09026798, 0.08982036, ..., 0.39111111, 0.20606061,\n",
       "         0.46927374],\n",
       "        ...,\n",
       "        [0.43442623, 0.14527504, 0.08682635, ..., 0.23555556, 0.21515152,\n",
       "         0.33333333],\n",
       "        [0.45901639, 0.09590973, 0.06586826, ..., 0.30444444, 0.3030303 ,\n",
       "         0.33705773],\n",
       "        [0.6557377 , 0.29337094, 0.37724551, ..., 0.43777778, 0.44242424,\n",
       "         0.36312849]]),\n",
       " array([1, 0, 1, ..., 1, 0, 1]),\n",
       " array([[0.30327869, 0.12834979, 0.10179641, ..., 0.36888889, 0.19090909,\n",
       "         0.45996276],\n",
       "        [0.45081967, 0.25246827, 0.08682635, ..., 0.07555556, 0.12121212,\n",
       "         0.25698324],\n",
       "        [0.41803279, 0.07898449, 0.0508982 , ..., 0.25777778, 0.18181818,\n",
       "         0.37243948],\n",
       "        ...,\n",
       "        [0.63114754, 0.42877292, 0.3742515 , ..., 0.28666667, 0.26666667,\n",
       "         0.34450652],\n",
       "        [0.51639344, 0.0719323 , 0.08083832, ..., 0.4       , 0.54848485,\n",
       "         0.26629423],\n",
       "        [0.18852459, 0.05500705, 0.02095808, ..., 0.21555556, 0.28484848,\n",
       "         0.27374302]]),\n",
       " array([0, 0, 1, ..., 1, 1, 1]),\n",
       " None,\n",
       " None)"
      ]
     },
     "execution_count": 987,
     "metadata": {},
     "output_type": "execute_result"
    }
   ],
   "source": [
    "load_sets(path='data/processed/', val=False)"
   ]
  },
  {
   "cell_type": "markdown",
   "id": "cab31dbb-e054-432b-9da0-2f191650418c",
   "metadata": {},
   "source": [
    "## 3. Create Baseline Model"
   ]
  },
  {
   "cell_type": "markdown",
   "id": "9bd312b4-9221-42e2-8855-ba0862a7abf8",
   "metadata": {},
   "source": [
    "**[3.1]** Task: Find the mode of the target variable and print it's value"
   ]
  },
  {
   "cell_type": "code",
   "execution_count": 988,
   "id": "1f1d57f3-0869-4f09-83d8-f0b59e259f17",
   "metadata": {},
   "outputs": [
    {
     "data": {
      "text/plain": [
       "0    1\n",
       "Name: TARGET_5Yrs, dtype: int64"
      ]
     },
     "execution_count": 988,
     "metadata": {},
     "output_type": "execute_result"
    }
   ],
   "source": [
    "y_mode = y_train.mode()\n",
    "y_mode"
   ]
  },
  {
   "cell_type": "markdown",
   "id": "0c80bc44-2540-4562-8fcc-921485da5aef",
   "metadata": {},
   "source": [
    "**[3.2]** Task: Create a numpy array called y_base filled with this value"
   ]
  },
  {
   "cell_type": "code",
   "execution_count": 989,
   "id": "945c5aac-59fe-4932-86dc-0476c25752cd",
   "metadata": {},
   "outputs": [],
   "source": [
    "y_shape = (len(y_train), 1)\n",
    "y_base = np.full(y_shape, y_mode)"
   ]
  },
  {
   "cell_type": "markdown",
   "id": "9467fadb-38a6-4ec0-99db-d24a7b17206c",
   "metadata": {},
   "source": [
    "**[3.3]** Task: Import the accuracy score from sklearn"
   ]
  },
  {
   "cell_type": "code",
   "execution_count": 990,
   "id": "8909debd-762c-4a2b-a61f-9dafa58cf115",
   "metadata": {},
   "outputs": [],
   "source": [
    "from src.models.performance import print_reg_perf"
   ]
  },
  {
   "cell_type": "markdown",
   "id": "fb877509-84ce-41fe-a5ac-5b915314239e",
   "metadata": {},
   "source": [
    "**[3.4]** Task: Display the accuracy score of this baseline model"
   ]
  },
  {
   "cell_type": "code",
   "execution_count": 991,
   "id": "104e83af-6237-438c-8914-94b943003809",
   "metadata": {},
   "outputs": [
    {
     "name": "stdout",
     "output_type": "stream",
     "text": [
      "Accuracy      Baseline: 0.83359375\n",
      "RMSE          Baseline: 0.407929221802018\n",
      "MAE           Baseline: 0.16640625\n",
      "Precision     Baseline: 1.0\n",
      "Recall        Baseline: 0.83359375\n",
      "F1            Baseline: 0.9092458457605455\n"
     ]
    }
   ],
   "source": [
    "print_reg_perf(y_train, y_base, set_name=\"Baseline\")"
   ]
  },
  {
   "cell_type": "code",
   "execution_count": 992,
   "id": "b31ff4ed-3ec0-46f6-9a8b-4cc990572c89",
   "metadata": {},
   "outputs": [
    {
     "data": {
      "text/plain": [
       "25"
      ]
     },
     "execution_count": 992,
     "metadata": {},
     "output_type": "execute_result"
    }
   ],
   "source": [
    "len(X_train.columns)"
   ]
  },
  {
   "cell_type": "markdown",
   "id": "5c50b1f4-aa1c-4888-a1cb-5999529e36a0",
   "metadata": {},
   "source": [
    "The null accuracy is 83.35%\n",
    "If we predict 1, we'll be correct 83.35% of the time"
   ]
  },
  {
   "cell_type": "markdown",
   "id": "eaf47a54-da6e-400d-9374-cf8a3aa0816c",
   "metadata": {},
   "source": [
    "## 4. Random Forest - Hyperparameter Tuning with Grid Search and KFold"
   ]
  },
  {
   "cell_type": "markdown",
   "id": "31018efc-3693-4388-904b-a9adb273560f",
   "metadata": {},
   "source": [
    "Train Random Forest Algorithm\n",
    "\n",
    "1.   Use Grid Search to tune Hyper Parameters\n",
    "2.   Use KFold with 5 Splits\n",
    "3.   Fit Algorithm"
   ]
  },
  {
   "cell_type": "markdown",
   "id": "ced0eb4e-e5fa-4952-b28e-f9db78bd6ad9",
   "metadata": {},
   "source": [
    "**[4.1]** Task: Import GridSearchCV, KFold from sklearn.model_selection"
   ]
  },
  {
   "cell_type": "code",
   "execution_count": 993,
   "id": "940fef9a-17ec-47f3-ace0-abafc87c5e2b",
   "metadata": {},
   "outputs": [],
   "source": [
    "from sklearn.model_selection import RandomizedSearchCV,GridSearchCV,KFold"
   ]
  },
  {
   "cell_type": "markdown",
   "id": "2fb063f6-55c6-41e1-bfd4-4323de13b253",
   "metadata": {},
   "source": [
    "**[4.2]** Create a dictionary containing the Randomized Grid Search Parameters"
   ]
  },
  {
   "cell_type": "code",
   "execution_count": 994,
   "id": "fa4ddc29-7a5b-4d18-8f58-5d2add6c90f8",
   "metadata": {},
   "outputs": [],
   "source": [
    "# Linear Regression Random Grid Parameters\n",
    "# Class Weight\n",
    "class_weight = ['balanced']\n",
    "# Penalty\n",
    "penalty = ['none','l2','l1','elasticnet']\n",
    "# Solver\n",
    "solver = ['liblinear','lbfgs']\n",
    "# max_iter\n",
    "max_iter = [500]\n",
    "\n",
    "random_grid = {'class_weight': class_weight,\n",
    "               'penalty':penalty,\n",
    "               'solver':solver,\n",
    "               'max_iter':max_iter\n",
    "               }\n",
    "\n"
   ]
  },
  {
   "cell_type": "code",
   "execution_count": 995,
   "id": "40bf00ac-9ef7-4de4-9500-58e1396d8cf6",
   "metadata": {},
   "outputs": [
    {
     "data": {
      "text/plain": [
       "{'class_weight': ['balanced'],\n",
       " 'penalty': ['none', 'l2', 'l1', 'elasticnet'],\n",
       " 'solver': ['liblinear', 'lbfgs'],\n",
       " 'max_iter': [500]}"
      ]
     },
     "execution_count": 995,
     "metadata": {},
     "output_type": "execute_result"
    }
   ],
   "source": [
    "random_grid"
   ]
  },
  {
   "cell_type": "markdown",
   "id": "ccf85da9-4853-408e-b7d2-cbc4179433ef",
   "metadata": {},
   "source": [
    "**[4.3]** Task: Create RF Model, and use Randomized Search to find GridSearch range"
   ]
  },
  {
   "cell_type": "code",
   "execution_count": 996,
   "id": "a28a49b7-3d63-4ec9-a7a7-85253587cb75",
   "metadata": {},
   "outputs": [],
   "source": [
    " from sklearn.linear_model import LogisticRegression as LR"
   ]
  },
  {
   "cell_type": "code",
   "execution_count": 997,
   "id": "896d1e2d-c082-4e56-8648-c9b07256def3",
   "metadata": {},
   "outputs": [],
   "source": [
    "lr_base = LR()\n",
    "lr_random = RandomizedSearchCV(estimator = lr_base,\n",
    "                               param_distributions = random_grid,\n",
    "                               n_iter = 50, \n",
    "                               cv = 5,\n",
    "                               verbose=2,\n",
    "                               random_state=8, \n",
    "                               n_jobs = 4)"
   ]
  },
  {
   "cell_type": "markdown",
   "id": "57fb7bed-4a4e-44bb-9767-3f8944b91502",
   "metadata": {},
   "source": [
    "**[4.4]** Train Model"
   ]
  },
  {
   "cell_type": "code",
   "execution_count": 998,
   "id": "656e3a75-8940-421d-8b54-69f0b26b5fdc",
   "metadata": {},
   "outputs": [],
   "source": [
    "# Import Beep\n",
    "from src.indicator.sounds import beep_when_done"
   ]
  },
  {
   "cell_type": "code",
   "execution_count": 999,
   "id": "8a3a61fc-9a67-4788-82b5-4d42d91ac5a6",
   "metadata": {},
   "outputs": [
    {
     "name": "stdout",
     "output_type": "stream",
     "text": [
      "Fitting 5 folds for each of 8 candidates, totalling 40 fits\n"
     ]
    },
    {
     "name": "stderr",
     "output_type": "stream",
     "text": [
      "/opt/conda/lib/python3.9/site-packages/sklearn/model_selection/_search.py:292: UserWarning: The total space of parameters 8 is smaller than n_iter=50. Running 8 iterations. For exhaustive searches, use GridSearchCV.\n",
      "  warnings.warn(\n"
     ]
    },
    {
     "name": "stdout",
     "output_type": "stream",
     "text": [
      "{'solver': 'lbfgs', 'penalty': 'l2', 'max_iter': 500, 'class_weight': 'balanced'}\n"
     ]
    },
    {
     "name": "stderr",
     "output_type": "stream",
     "text": [
      "/opt/conda/lib/python3.9/site-packages/sklearn/model_selection/_validation.py:372: FitFailedWarning: \n",
      "20 fits failed out of a total of 40.\n",
      "The score on these train-test partitions for these parameters will be set to nan.\n",
      "If these failures are not expected, you can try to debug them by setting error_score='raise'.\n",
      "\n",
      "Below are more details about the failures:\n",
      "--------------------------------------------------------------------------------\n",
      "5 fits failed with the following error:\n",
      "Traceback (most recent call last):\n",
      "  File \"/opt/conda/lib/python3.9/site-packages/sklearn/model_selection/_validation.py\", line 680, in _fit_and_score\n",
      "    estimator.fit(X_train, y_train, **fit_params)\n",
      "  File \"/opt/conda/lib/python3.9/site-packages/sklearn/linear_model/_logistic.py\", line 1461, in fit\n",
      "    solver = _check_solver(self.solver, self.penalty, self.dual)\n",
      "  File \"/opt/conda/lib/python3.9/site-packages/sklearn/linear_model/_logistic.py\", line 464, in _check_solver\n",
      "    raise ValueError(\"penalty='none' is not supported for the liblinear solver\")\n",
      "ValueError: penalty='none' is not supported for the liblinear solver\n",
      "\n",
      "--------------------------------------------------------------------------------\n",
      "5 fits failed with the following error:\n",
      "Traceback (most recent call last):\n",
      "  File \"/opt/conda/lib/python3.9/site-packages/sklearn/model_selection/_validation.py\", line 680, in _fit_and_score\n",
      "    estimator.fit(X_train, y_train, **fit_params)\n",
      "  File \"/opt/conda/lib/python3.9/site-packages/sklearn/linear_model/_logistic.py\", line 1461, in fit\n",
      "    solver = _check_solver(self.solver, self.penalty, self.dual)\n",
      "  File \"/opt/conda/lib/python3.9/site-packages/sklearn/linear_model/_logistic.py\", line 447, in _check_solver\n",
      "    raise ValueError(\n",
      "ValueError: Solver lbfgs supports only 'l2' or 'none' penalties, got l1 penalty.\n",
      "\n",
      "--------------------------------------------------------------------------------\n",
      "5 fits failed with the following error:\n",
      "Traceback (most recent call last):\n",
      "  File \"/opt/conda/lib/python3.9/site-packages/sklearn/model_selection/_validation.py\", line 680, in _fit_and_score\n",
      "    estimator.fit(X_train, y_train, **fit_params)\n",
      "  File \"/opt/conda/lib/python3.9/site-packages/sklearn/linear_model/_logistic.py\", line 1461, in fit\n",
      "    solver = _check_solver(self.solver, self.penalty, self.dual)\n",
      "  File \"/opt/conda/lib/python3.9/site-packages/sklearn/linear_model/_logistic.py\", line 457, in _check_solver\n",
      "    raise ValueError(\n",
      "ValueError: Only 'saga' solver supports elasticnet penalty, got solver=liblinear.\n",
      "\n",
      "--------------------------------------------------------------------------------\n",
      "5 fits failed with the following error:\n",
      "Traceback (most recent call last):\n",
      "  File \"/opt/conda/lib/python3.9/site-packages/sklearn/model_selection/_validation.py\", line 680, in _fit_and_score\n",
      "    estimator.fit(X_train, y_train, **fit_params)\n",
      "  File \"/opt/conda/lib/python3.9/site-packages/sklearn/linear_model/_logistic.py\", line 1461, in fit\n",
      "    solver = _check_solver(self.solver, self.penalty, self.dual)\n",
      "  File \"/opt/conda/lib/python3.9/site-packages/sklearn/linear_model/_logistic.py\", line 447, in _check_solver\n",
      "    raise ValueError(\n",
      "ValueError: Solver lbfgs supports only 'l2' or 'none' penalties, got elasticnet penalty.\n",
      "\n",
      "  warnings.warn(some_fits_failed_message, FitFailedWarning)\n",
      "/opt/conda/lib/python3.9/site-packages/sklearn/model_selection/_search.py:969: UserWarning: One or more of the test scores are non-finite: [       nan 0.64125    0.64234375 0.64296875 0.6403125         nan\n",
      "        nan        nan]\n",
      "  warnings.warn(\n"
     ]
    }
   ],
   "source": [
    "lr_random.fit(X_train, y_train)\n",
    "\n",
    "# Beep when completed\n",
    "#beep_when_done()\n",
    "\n",
    "print(lr_random.best_params_)"
   ]
  },
  {
   "cell_type": "markdown",
   "id": "7395b8e3-9d5f-43da-8723-8825d5747789",
   "metadata": {},
   "source": [
    "\"print(lr_random.best_params_)\"\n",
    "\n",
    "{'solver': 'lbfgs', 'penalty': 'l2', 'max_iter': 500, 'class_weight': 'balanced'}"
   ]
  },
  {
   "cell_type": "code",
   "execution_count": 1000,
   "id": "5db57386-8114-4dcd-97aa-681765fac8e2",
   "metadata": {},
   "outputs": [],
   "source": [
    "lr_best = LR(solver='lbfgs', penalty='l2', max_iter=500, class_weight='balanced').fit(X_train, y_train)"
   ]
  },
  {
   "cell_type": "code",
   "execution_count": 1001,
   "id": "c91663c7-9218-404e-a121-fbab3a3ba8df",
   "metadata": {},
   "outputs": [
    {
     "name": "stdout",
     "output_type": "stream",
     "text": [
      "--- Accuracy Scores Best Fit Model ---\n",
      "Accuracy      Baseline: 0.83359375\n",
      "RMSE          Baseline: 0.407929221802018\n",
      "MAE           Baseline: 0.16640625\n",
      "Precision     Baseline: 1.0\n",
      "Recall        Baseline: 0.83359375\n",
      "F1            Baseline: 0.9092458457605455\n",
      "Accuracy      Train   : 0.64609375\n",
      "RMSE          Train   : 0.5949002017145396\n",
      "MAE           Train   : 0.35390625\n",
      "Precision     Train   : 0.9028871391076115\n",
      "Recall        Train   : 0.6447985004686035\n",
      "F1            Train   : 0.7523236741388737\n",
      "Accuracy      Validate: 0.650625\n",
      "RMSE          Validate: 0.5910795208768445\n",
      "MAE           Validate: 0.349375\n",
      "Precision     Validate: 0.9049111807732497\n",
      "Recall        Validate: 0.6491754122938531\n",
      "F1            Validate: 0.7560017459624618\n"
     ]
    }
   ],
   "source": [
    "print(\"--- Accuracy Scores Best Fit Model ---\")\n",
    "print_reg_perf(y_train, y_base,                   set_name=\"Baseline\")\n",
    "print_reg_perf(lr_best.predict(X_train), y_train, set_name=\"Train   \")\n",
    "print_reg_perf(lr_best.predict(X_val), y_val,     set_name=\"Validate\")"
   ]
  },
  {
   "cell_type": "markdown",
   "id": "6583af27-1abb-4fb2-a96f-ac341f6a90cb",
   "metadata": {},
   "source": [
    "**Observation** Training Model is overfitting"
   ]
  },
  {
   "cell_type": "markdown",
   "id": "337ffca3-08e8-4d53-a70e-c3f00e57ab61",
   "metadata": {},
   "source": [
    "**[4.5]** Tune Hyperparameters to better reduce overfitting.\n",
    "\n",
    "1. Reduce Depth to and \n",
    "2. increase min samples per leaf to 10"
   ]
  },
  {
   "cell_type": "code",
   "execution_count": 1002,
   "id": "6862fd22-23d5-4cec-8697-c3a9abcd21ce",
   "metadata": {},
   "outputs": [],
   "source": [
    "lr_best_1 = LR(solver='lbfgs', penalty='none', max_iter=1000, class_weight='balanced').fit(X_train, y_train)"
   ]
  },
  {
   "cell_type": "code",
   "execution_count": 1003,
   "id": "53b8b44e-2670-4049-9a72-f51adaca55f2",
   "metadata": {},
   "outputs": [
    {
     "name": "stdout",
     "output_type": "stream",
     "text": [
      "--- Accuracy Scores Best Fit Model ---\n",
      "Accuracy      Baseline: 0.83359375\n",
      "RMSE          Baseline: 0.407929221802018\n",
      "MAE           Baseline: 0.16640625\n",
      "Precision     Baseline: 1.0\n",
      "Recall        Baseline: 0.83359375\n",
      "F1            Baseline: 0.9092458457605455\n",
      "Accuracy      Train   : 0.64609375\n",
      "RMSE          Train   : 0.5949002017145396\n",
      "MAE           Train   : 0.35390625\n",
      "Precision     Train   : 0.9022536687631028\n",
      "Recall        Train   : 0.6453608247422681\n",
      "F1            Train   : 0.7524860670964922\n",
      "Accuracy      Validate: 0.646875\n",
      "RMSE          Validate: 0.5942432162002357\n",
      "MAE           Validate: 0.353125\n",
      "Precision     Validate: 0.9017763845350052\n",
      "Recall        Validate: 0.6469265367316341\n",
      "F1            Validate: 0.7533828022697511\n"
     ]
    }
   ],
   "source": [
    "print(\"--- Accuracy Scores Best Fit Model ---\")\n",
    "print_reg_perf(y_train, y_base,                     set_name=\"Baseline\")\n",
    "print_reg_perf(lr_best_1.predict(X_train), y_train, set_name=\"Train   \")\n",
    "print_reg_perf(lr_best_1.predict(X_val), y_val,     set_name=\"Validate\")"
   ]
  },
  {
   "cell_type": "markdown",
   "id": "eaee372e-8dfa-4c36-8d21-9b0dacd3316a",
   "metadata": {},
   "source": [
    "**Observations**\n",
    "* Validation Dataset is not performing well for the model, indicating Model is overfitting on Train Dataset"
   ]
  },
  {
   "cell_type": "markdown",
   "id": "6a9f1c58-6a3c-4b56-9178-d6bb15e870a8",
   "metadata": {},
   "source": [
    "**[4.6]** Task: Plot Confusion Matrix\n",
    "\n",
    "Identify how well the model is performing at predicting the outcome"
   ]
  },
  {
   "cell_type": "code",
   "execution_count": 1004,
   "id": "291c41e0-dac8-439c-af3b-6bb9b6198b63",
   "metadata": {},
   "outputs": [],
   "source": [
    "from sklearn.metrics import plot_confusion_matrix\n",
    "from sklearn.metrics import ConfusionMatrixDisplay\n",
    "import matplotlib.pyplot as plt"
   ]
  },
  {
   "cell_type": "code",
   "execution_count": 1005,
   "id": "0763c405-d095-47fd-81d0-24ddb4a2cbca",
   "metadata": {},
   "outputs": [
    {
     "name": "stderr",
     "output_type": "stream",
     "text": [
      "/opt/conda/lib/python3.9/site-packages/sklearn/utils/deprecation.py:87: FutureWarning: Function plot_confusion_matrix is deprecated; Function `plot_confusion_matrix` is deprecated in 1.0 and will be removed in 1.2. Use one of the class methods: ConfusionMatrixDisplay.from_predictions or ConfusionMatrixDisplay.from_estimator.\n",
      "  warnings.warn(msg, category=FutureWarning)\n",
      "/opt/conda/lib/python3.9/site-packages/sklearn/utils/deprecation.py:87: FutureWarning: Function plot_confusion_matrix is deprecated; Function `plot_confusion_matrix` is deprecated in 1.0 and will be removed in 1.2. Use one of the class methods: ConfusionMatrixDisplay.from_predictions or ConfusionMatrixDisplay.from_estimator.\n",
      "  warnings.warn(msg, category=FutureWarning)\n"
     ]
    },
    {
     "data": {
      "text/plain": [
       "<sklearn.metrics._plot.confusion_matrix.ConfusionMatrixDisplay at 0x7f361b1e34c0>"
      ]
     },
     "execution_count": 1005,
     "metadata": {},
     "output_type": "execute_result"
    },
    {
     "data": {
      "image/png": "[encoded data removed]",
      "text/plain": [
       "<Figure size 432x288 with 2 Axes>"
      ]
     },
     "metadata": {
      "needs_background": "light"
     },
     "output_type": "display_data"
    },
    {
     "data": {
      "image/png": "[encoded data removed]",
      "text/plain": [
       "<Figure size 432x288 with 2 Axes>"
      ]
     },
     "metadata": {
      "needs_background": "light"
     },
     "output_type": "display_data"
    }
   ],
   "source": [
    "# Plot confusion matrix (with numbers)\n",
    "plot_confusion_matrix(lr_best_1, X_train, y_train, cmap=plt.cm.Blues)\n",
    "plot_confusion_matrix(lr_best_1, X_val, y_val, cmap=plt.cm.Blues)"
   ]
  },
  {
   "cell_type": "code",
   "execution_count": 1006,
   "id": "0cc1cfc3-9362-4916-a8e1-84c1f91140a0",
   "metadata": {},
   "outputs": [
    {
     "name": "stderr",
     "output_type": "stream",
     "text": [
      "/opt/conda/lib/python3.9/site-packages/sklearn/utils/deprecation.py:87: FutureWarning: Function plot_confusion_matrix is deprecated; Function `plot_confusion_matrix` is deprecated in 1.0 and will be removed in 1.2. Use one of the class methods: ConfusionMatrixDisplay.from_predictions or ConfusionMatrixDisplay.from_estimator.\n",
      "  warnings.warn(msg, category=FutureWarning)\n",
      "/opt/conda/lib/python3.9/site-packages/sklearn/utils/deprecation.py:87: FutureWarning: Function plot_confusion_matrix is deprecated; Function `plot_confusion_matrix` is deprecated in 1.0 and will be removed in 1.2. Use one of the class methods: ConfusionMatrixDisplay.from_predictions or ConfusionMatrixDisplay.from_estimator.\n",
      "  warnings.warn(msg, category=FutureWarning)\n"
     ]
    },
    {
     "data": {
      "text/plain": [
       "<sklearn.metrics._plot.confusion_matrix.ConfusionMatrixDisplay at 0x7f361b0c1070>"
      ]
     },
     "execution_count": 1006,
     "metadata": {},
     "output_type": "execute_result"
    },
    {
     "data": {
      "image/png": "[encoded data removed]",
      "text/plain": [
       "<Figure size 432x288 with 2 Axes>"
      ]
     },
     "metadata": {
      "needs_background": "light"
     },
     "output_type": "display_data"
    },
    {
     "data": {
      "image/png": "[encoded data removed]",
      "text/plain": [
       "<Figure size 432x288 with 2 Axes>"
      ]
     },
     "metadata": {
      "needs_background": "light"
     },
     "output_type": "display_data"
    }
   ],
   "source": [
    "# Plot confusion matrix (with ratios)\n",
    "plot_confusion_matrix(lr_best_1, X_train, y_train, cmap=plt.cm.Blues, normalize='true')\n",
    "plot_confusion_matrix(lr_best_1, X_val, y_val, cmap=plt.cm.Blues, normalize='true')"
   ]
  },
  {
   "cell_type": "markdown",
   "id": "e27fe1b7-c5fd-403e-abe0-dd45e0c23c9a",
   "metadata": {},
   "source": [
    "**Observation** Both Models is predicting alot of False Positives (FP) in both training and validation datasets"
   ]
  },
  {
   "cell_type": "markdown",
   "id": "013db129-34d0-4bda-ab01-de28ced9f900",
   "metadata": {},
   "source": [
    "**[4.7]** Task: Calculate AUROC"
   ]
  },
  {
   "cell_type": "code",
   "execution_count": 1007,
   "id": "d9fc1685-7dea-4391-b1c5-df33ac3dabee",
   "metadata": {},
   "outputs": [],
   "source": [
    "from sklearn.metrics import roc_auc_score"
   ]
  },
  {
   "cell_type": "code",
   "execution_count": 1008,
   "id": "d57a3114-300b-40f0-933b-6c5ef1adf11c",
   "metadata": {},
   "outputs": [
    {
     "name": "stdout",
     "output_type": "stream",
     "text": [
      "rf_best_1_proba: [0.50769309 0.09525316 0.63490077 ... 0.5190231  0.46045494 0.75111358]\n"
     ]
    }
   ],
   "source": [
    "lr_best_1_y_train_proba = lr_best_1.predict_proba(X_train)[:, 1]\n",
    "lr_best_1_y_val_proba = lr_best_1.predict_proba(X_val)[:, 1]\n",
    "print(\"rf_best_1_proba:\", lr_best_1_y_train_proba)"
   ]
  },
  {
   "cell_type": "code",
   "execution_count": 1009,
   "id": "79b00fed-f40e-4470-be93-bcf54e6cbaa3",
   "metadata": {},
   "outputs": [
    {
     "data": {
      "text/plain": [
       "0.7096284171759706"
      ]
     },
     "execution_count": 1009,
     "metadata": {},
     "output_type": "execute_result"
    }
   ],
   "source": [
    "roc_auc_score(y_train, lr_best_1_y_train_proba)"
   ]
  },
  {
   "cell_type": "code",
   "execution_count": 1010,
   "id": "bfda5baf-952f-4520-ae12-429701203645",
   "metadata": {},
   "outputs": [
    {
     "data": {
      "text/plain": [
       "0.6967146126185028"
      ]
     },
     "execution_count": 1010,
     "metadata": {},
     "output_type": "execute_result"
    }
   ],
   "source": [
    "roc_auc_score(y_val, lr_best_1_y_val_proba)"
   ]
  },
  {
   "cell_type": "markdown",
   "id": "068089aa-40a3-4c19-8bd6-dcd5aac6d9b2",
   "metadata": {},
   "source": [
    "**Observations** \n",
    "* Training Dataset has a AUROC prediction 0.709\n",
    "* Validation Dataset has a poor AUROC prediction 0.696. This indicates the model is fitting reasonably well on unseen data\n",
    "* The finaly Kaggle result AUROC 0.71136 - Best Personal Result"
   ]
  },
  {
   "cell_type": "markdown",
   "id": "0b648fb8-751e-4752-82e1-2806031c9c3c",
   "metadata": {},
   "source": [
    "## 5. Plot AUC"
   ]
  },
  {
   "cell_type": "code",
   "execution_count": 1011,
   "id": "d7eca4ab-4210-413e-8b9e-b96e42637e1c",
   "metadata": {},
   "outputs": [],
   "source": [
    "from sklearn.metrics import roc_curve"
   ]
  },
  {
   "cell_type": "code",
   "execution_count": 1012,
   "id": "9de58220-172d-4a1d-8038-111f80b7630c",
   "metadata": {},
   "outputs": [
    {
     "data": {
      "image/png": "[encoded data removed]",
      "text/plain": [
       "<Figure size 700x500 with 1 Axes>"
      ]
     },
     "metadata": {
      "needs_background": "light"
     },
     "output_type": "display_data"
    },
    {
     "data": {
      "text/plain": [
       "0.6967146126185028"
      ]
     },
     "execution_count": 1012,
     "metadata": {},
     "output_type": "execute_result"
    }
   ],
   "source": [
    "fpr,tpr,threshold=roc_curve(y_val,lr_best_1_y_val_proba)\n",
    "plt.figure(figsize=(7,5),dpi=100)\n",
    "plt.plot(fpr,tpr,color='green')\n",
    "plt.plot([0,1],[0,1],label='baseline',color='red')\n",
    "plt.xlabel('FPR',fontsize=15)\n",
    "plt.ylabel('TPR',fontsize=15)\n",
    "plt.title('AUC-ROC',fontsize=20)\n",
    "plt.show()\n",
    "roc_auc_score(y_val,lr_best_1_y_val_proba)"
   ]
  },
  {
   "cell_type": "markdown",
   "id": "f0fcdf46-0db9-449b-beab-7a335d13354c",
   "metadata": {},
   "source": [
    "## 6. Logistic Regression - Kaggle Competition Preparation"
   ]
  },
  {
   "cell_type": "markdown",
   "id": "95ac6bdf-49de-430a-a810-523fda2ca663",
   "metadata": {},
   "source": [
    "**[6.1]** Prepare Kaggle Input File using rf_best Random Forest Model"
   ]
  },
  {
   "cell_type": "code",
   "execution_count": 1013,
   "id": "4177fbec-fdcb-4d7e-a822-3aca6d16cd38",
   "metadata": {},
   "outputs": [],
   "source": [
    "# File URLs\n",
    "file_path_test= \"data/processed/test.csv\"\n",
    "\n",
    "# Load files into df_training and df_validation data frames\n",
    "df_test = pd.read_csv(file_path_test)"
   ]
  },
  {
   "cell_type": "code",
   "execution_count": 1014,
   "id": "eb8779e6-30a6-4351-b417-75af0c5d7060",
   "metadata": {},
   "outputs": [],
   "source": [
    "\n",
    "# Drop Target and ID for X, and create target from y\n",
    "X_test_id = df_test['Id']\n",
    "X_test = df_test.drop(['Id'], axis=1)"
   ]
  },
  {
   "cell_type": "markdown",
   "id": "3b0a1642-e83d-4784-94f7-c89057829fbc",
   "metadata": {},
   "source": [
    "**[6.2]** Check Test Dataset is ready for predicting"
   ]
  },
  {
   "cell_type": "code",
   "execution_count": 1015,
   "id": "2ff4404e-4433-43fe-8e5c-f1d3da4e7cd0",
   "metadata": {},
   "outputs": [
    {
     "name": "stdout",
     "output_type": "stream",
     "text": [
      "<class 'pandas.core.frame.DataFrame'>\n",
      "RangeIndex: 3799 entries, 0 to 3798\n",
      "Data columns (total 25 columns):\n",
      " #   Column     Non-Null Count  Dtype  \n",
      "---  ------     --------------  -----  \n",
      " 0   GP         3799 non-null   float64\n",
      " 1   MIN        3799 non-null   float64\n",
      " 2   PTS        3799 non-null   float64\n",
      " 3   FGM        3799 non-null   float64\n",
      " 4   FGA        3799 non-null   float64\n",
      " 5   FG%        3799 non-null   float64\n",
      " 6   3P Made    3799 non-null   float64\n",
      " 7   3PA        3799 non-null   float64\n",
      " 8   3P%        3799 non-null   float64\n",
      " 9   FTM        3799 non-null   float64\n",
      " 10  FTA        3799 non-null   float64\n",
      " 11  FT%        3799 non-null   float64\n",
      " 12  OREB       3799 non-null   float64\n",
      " 13  DREB       3799 non-null   float64\n",
      " 14  REB        3799 non-null   float64\n",
      " 15  AST        3799 non-null   float64\n",
      " 16  STL        3799 non-null   float64\n",
      " 17  BLK        3799 non-null   float64\n",
      " 18  TOV        3799 non-null   float64\n",
      " 19  FG_Missed  3799 non-null   float64\n",
      " 20  3P_Missed  3799 non-null   float64\n",
      " 21  FT_Missed  3799 non-null   float64\n",
      " 22  PPER       3799 non-null   float64\n",
      " 23  NPER       3799 non-null   float64\n",
      " 24  PER        3799 non-null   float64\n",
      "dtypes: float64(25)\n",
      "memory usage: 742.1 KB\n"
     ]
    }
   ],
   "source": [
    "X_test.info()"
   ]
  },
  {
   "cell_type": "markdown",
   "id": "83c4ef83-1e64-453b-9dca-d358aa3c5486",
   "metadata": {},
   "source": [
    "**[6.3]** Create y Prediction using the Test Dataset"
   ]
  },
  {
   "cell_type": "code",
   "execution_count": 1016,
   "id": "bd8c1325-8ae1-4a06-a435-5f42bb6cdce4",
   "metadata": {},
   "outputs": [],
   "source": [
    "y_predict = lr_best_1.predict_proba(X_test)"
   ]
  },
  {
   "cell_type": "code",
   "execution_count": 1017,
   "id": "427dccd0-8944-46fc-b5dd-535dc1d5d720",
   "metadata": {},
   "outputs": [
    {
     "name": "stdout",
     "output_type": "stream",
     "text": [
      "[[0.58331672 0.41668328]\n",
      " [0.63965861 0.36034139]\n",
      " [0.30665059 0.69334941]\n",
      " ...\n",
      " [0.64861817 0.35138183]\n",
      " [0.19148764 0.80851236]\n",
      " [0.65377891 0.34622109]]\n"
     ]
    }
   ],
   "source": [
    "print(y_predict)"
   ]
  },
  {
   "cell_type": "code",
   "execution_count": 1018,
   "id": "80d12dba",
   "metadata": {},
   "outputs": [
    {
     "name": "stdout",
     "output_type": "stream",
     "text": [
      "[0.41668328 0.36034139 0.69334941 ... 0.35138183 0.80851236 0.34622109]\n"
     ]
    }
   ],
   "source": [
    "print(y_predict[:,1])"
   ]
  },
  {
   "cell_type": "markdown",
   "id": "3358c9b7-13d1-48b8-ad95-41215d0bff9f",
   "metadata": {},
   "source": [
    "**[6.4]** Convert the Numpy Array into a Pandas Dataframe with a Column Name TARGET_5Yrs"
   ]
  },
  {
   "cell_type": "code",
   "execution_count": 1019,
   "id": "58fb81e7-6af3-4bcd-930f-49b24e0c1c78",
   "metadata": {},
   "outputs": [],
   "source": [
    "# Convert numpy arrany y_predict values back to df_train_cleaned_scaled data frame \n",
    "y_predict = pd.DataFrame(y_predict[:,1], columns = ['TARGET_5Yrs'])"
   ]
  },
  {
   "cell_type": "markdown",
   "id": "c802c901-1ea2-487f-8a4c-d540330b5b0d",
   "metadata": {},
   "source": [
    "**[6.5]** Concatenate Player ID and Prediction into on Data Frame and Sort by Id"
   ]
  },
  {
   "cell_type": "code",
   "execution_count": 1020,
   "id": "116ef162-791d-4574-a6be-3ed5f0289297",
   "metadata": {},
   "outputs": [],
   "source": [
    "y_predict = pd.concat([X_test_id, y_predict], axis=1)"
   ]
  },
  {
   "cell_type": "code",
   "execution_count": 1021,
   "id": "e738cf48-eeff-4205-b7a4-05f27c381369",
   "metadata": {},
   "outputs": [],
   "source": [
    "y_predict = y_predict.sort_values(by=['Id'])"
   ]
  },
  {
   "cell_type": "code",
   "execution_count": 1022,
   "id": "7b1085bd",
   "metadata": {},
   "outputs": [
    {
     "name": "stdout",
     "output_type": "stream",
     "text": [
      "         Id  TARGET_5Yrs\n",
      "0         1     0.416683\n",
      "2         3     0.693349\n",
      "5         6     0.620670\n",
      "8        14     0.460817\n",
      "10       17     0.504137\n",
      "...     ...          ...\n",
      "3057  13770     0.720387\n",
      "3058  13771     0.426266\n",
      "3059  13774     0.452307\n",
      "3063  13787     0.426515\n",
      "3064  13792     0.494427\n",
      "\n",
      "[3799 rows x 2 columns]\n"
     ]
    }
   ],
   "source": [
    "print(y_predict)"
   ]
  },
  {
   "cell_type": "markdown",
   "id": "d2430a87-7502-42df-bb97-43dc645d9fe9",
   "metadata": {},
   "source": [
    "**[6.6]** Export Dataframe to CSV and save model"
   ]
  },
  {
   "cell_type": "code",
   "execution_count": 1023,
   "id": "0aa7d879-f6b6-4604-b874-b89f0bdd2b8a",
   "metadata": {},
   "outputs": [
    {
     "data": {
      "text/plain": [
       "(3799, 2)"
      ]
     },
     "execution_count": 1023,
     "metadata": {},
     "output_type": "execute_result"
    },
    {
     "name": "stdout",
     "output_type": "stream",
     "text": [
      "[CV] END class_weight=balanced, max_iter=500, penalty=none, solver=liblinear; total time=   0.0s\n",
      "[CV] END class_weight=balanced, max_iter=500, penalty=none, solver=lbfgs; total time=   0.3s\n",
      "[CV] END class_weight=balanced, max_iter=500, penalty=none, solver=lbfgs; total time=   0.4s\n",
      "[CV] END class_weight=balanced, max_iter=500, penalty=l1, solver=liblinear; total time=   1.4s\n",
      "[CV] END class_weight=balanced, max_iter=500, penalty=l1, solver=lbfgs; total time=   0.0s\n",
      "[CV] END class_weight=balanced, max_iter=500, penalty=l1, solver=lbfgs; total time=   0.0s\n",
      "[CV] END class_weight=balanced, max_iter=500, penalty=l1, solver=lbfgs; total time=   0.0s\n",
      "[CV] END class_weight=balanced, max_iter=500, penalty=l1, solver=lbfgs; total time=   0.0s\n",
      "[CV] END class_weight=balanced, max_iter=500, penalty=l1, solver=lbfgs; total time=   0.0s\n",
      "[CV] END class_weight=balanced, max_iter=500, penalty=elasticnet, solver=liblinear; total time=   0.0s\n",
      "[CV] END class_weight=balanced, max_iter=500, penalty=elasticnet, solver=liblinear; total time=   0.0s\n",
      "[CV] END class_weight=balanced, max_iter=500, penalty=elasticnet, solver=liblinear; total time=   0.0s\n",
      "[CV] END class_weight=balanced, max_iter=500, penalty=elasticnet, solver=liblinear; total time=   0.0s\n",
      "[CV] END class_weight=balanced, max_iter=500, penalty=elasticnet, solver=liblinear; total time=   0.0s\n",
      "[CV] END class_weight=balanced, max_iter=500, penalty=elasticnet, solver=lbfgs; total time=   0.0s\n",
      "[CV] END class_weight=balanced, max_iter=500, penalty=elasticnet, solver=lbfgs; total time=   0.0s\n",
      "[CV] END class_weight=balanced, max_iter=500, penalty=elasticnet, solver=lbfgs; total time=   0.0s\n",
      "[CV] END class_weight=balanced, max_iter=500, penalty=elasticnet, solver=lbfgs; total time=   0.0s\n",
      "[CV] END class_weight=balanced, max_iter=500, penalty=elasticnet, solver=lbfgs; total time=   0.0s\n",
      "[CV] END class_weight=balanced, max_iter=500, penalty=none, solver=liblinear; total time=   0.0s\n",
      "[CV] END class_weight=balanced, max_iter=500, penalty=none, solver=lbfgs; total time=   0.4s\n",
      "[CV] END class_weight=balanced, max_iter=500, penalty=l2, solver=liblinear; total time=   0.1s\n",
      "[CV] END class_weight=balanced, max_iter=500, penalty=l2, solver=liblinear; total time=   0.1s\n",
      "[CV] END class_weight=balanced, max_iter=500, penalty=l2, solver=lbfgs; total time=   0.1s\n",
      "[CV] END class_weight=balanced, max_iter=500, penalty=l1, solver=liblinear; total time=   1.9s\n",
      "[CV] END class_weight=balanced, max_iter=500, penalty=none, solver=liblinear; total time=   0.0s\n",
      "[CV] END class_weight=balanced, max_iter=500, penalty=none, solver=liblinear; total time=   0.0s\n",
      "[CV] END class_weight=balanced, max_iter=500, penalty=none, solver=lbfgs; total time=   0.4s\n",
      "[CV] END class_weight=balanced, max_iter=500, penalty=l2, solver=liblinear; total time=   0.1s\n",
      "[CV] END class_weight=balanced, max_iter=500, penalty=l2, solver=lbfgs; total time=   0.1s\n",
      "[CV] END class_weight=balanced, max_iter=500, penalty=l2, solver=lbfgs; total time=   0.1s\n",
      "[CV] END class_weight=balanced, max_iter=500, penalty=l1, solver=liblinear; total time=   2.0s\n",
      "[CV] END class_weight=balanced, max_iter=500, penalty=none, solver=liblinear; total time=   0.0s\n",
      "[CV] END class_weight=balanced, max_iter=500, penalty=none, solver=lbfgs; total time=   0.4s\n",
      "[CV] END class_weight=balanced, max_iter=500, penalty=l2, solver=liblinear; total time=   0.1s\n",
      "[CV] END class_weight=balanced, max_iter=500, penalty=l2, solver=liblinear; total time=   0.1s\n",
      "[CV] END class_weight=balanced, max_iter=500, penalty=l2, solver=lbfgs; total time=   0.1s\n",
      "[CV] END class_weight=balanced, max_iter=500, penalty=l2, solver=lbfgs; total time=   0.1s\n",
      "[CV] END class_weight=balanced, max_iter=500, penalty=l1, solver=liblinear; total time=   0.9s\n",
      "[CV] END class_weight=balanced, max_iter=500, penalty=l1, solver=liblinear; total time=   1.8s\n"
     ]
    }
   ],
   "source": [
    "y_predict.to_csv(\"data/external/submission_nfragar_20220220_linear_regression_w2_1.csv\", index = False)\n",
    "y_predict.shape"
   ]
  }
 ],
 "metadata": {
  "kernelspec": {
   "display_name": "Python 3 (ipykernel)",
   "language": "python",
   "name": "python3"
  },
  "language_info": {
   "codemirror_mode": {
    "name": "ipython",
    "version": 3
   },
   "file_extension": ".py",
   "mimetype": "text/x-python",
   "name": "python",
   "nbconvert_exporter": "python",
   "pygments_lexer": "ipython3",
   "version": "3.9.7"
  }
 },
 "nbformat": 4,
 "nbformat_minor": 5
}
