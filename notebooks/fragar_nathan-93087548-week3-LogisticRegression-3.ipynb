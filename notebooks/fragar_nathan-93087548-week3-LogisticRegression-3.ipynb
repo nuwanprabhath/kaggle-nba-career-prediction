{
 "cells": [
  {
   "cell_type": "markdown",
   "id": "1072d7ee-da99-4b15-8ded-496c770836dc",
   "metadata": {},
   "source": [
    "# **AdvDS - Assignment 1: Binary Classification - NBA Player Prediction - Data Preparation**"
   ]
  },
  {
   "cell_type": "markdown",
   "id": "92ff0a16-0385-4f56-bee2-d54827025980",
   "metadata": {},
   "source": [
    "Build a binary classification model that can predict if a rookie player will last at least 5 years in the NBA"
   ]
  },
  {
   "cell_type": "markdown",
   "id": "dcde699c-0dcd-4cb5-90db-9989080eed90",
   "metadata": {},
   "source": [
    "**Student Name:** Nathan Fragar\n",
    "\n",
    "**Student No. :** 93087548\n",
    "\n",
    "**Week:** 2\n",
    "\n",
    "**Date:** 20FEB2022\n",
    "\n",
    "**Team Name:** Group 1\n",
    "* Nuwan Munasinghe\n",
    "* Wenyingwuwy\n",
    "* Nathan Fragar\n",
    "* Sean Williams"
   ]
  },
  {
   "cell_type": "markdown",
   "id": "cc73ed60-6381-4db4-82c6-db70b15b0b4f",
   "metadata": {},
   "source": [
    "## 1. Load Dataset"
   ]
  },
  {
   "cell_type": "markdown",
   "id": "fcb5f006-c249-4004-83f8-fe7c39347f77",
   "metadata": {},
   "source": [
    "**[1.1]** Task: Import required packages: Pandas, Numpy, joblib"
   ]
  },
  {
   "cell_type": "code",
   "execution_count": 484,
   "id": "a4dd47ad-287f-4cc5-b3d1-24d2e87fddc3",
   "metadata": {},
   "outputs": [],
   "source": [
    "# Task: Import the pandas, numpy, scipy stats and joblib package\n",
    "import pandas as pd\n",
    "import numpy as np\n",
    "from scipy import stats\n",
    "import joblib as job"
   ]
  },
  {
   "cell_type": "markdown",
   "id": "8b0a5f58-c5a8-4692-8f10-77d345b10698",
   "metadata": {},
   "source": [
    "**[1.2]** Task: Change working directory to /home/jovyan/work"
   ]
  },
  {
   "cell_type": "code",
   "execution_count": 485,
   "id": "ab947277-2f38-4ff7-8a92-df38c8f04f9f",
   "metadata": {},
   "outputs": [
    {
     "name": "stdout",
     "output_type": "stream",
     "text": [
      "/home/jovyan/work\n"
     ]
    }
   ],
   "source": [
    "cd /home/jovyan/work"
   ]
  },
  {
   "cell_type": "markdown",
   "id": "5e208409-c7d7-47d5-904a-840e8b6ede0e",
   "metadata": {},
   "source": [
    "**[1.3]** Task: Load Processed Data"
   ]
  },
  {
   "cell_type": "code",
   "execution_count": 486,
   "id": "39007e84-1c29-4295-bb3e-d5a33f3e3dba",
   "metadata": {},
   "outputs": [],
   "source": [
    "from src.data.sets import load_sets"
   ]
  },
  {
   "cell_type": "code",
   "execution_count": 487,
   "id": "bde035d8-2c87-4e06-9c29-2caa2f097449",
   "metadata": {},
   "outputs": [],
   "source": [
    "X_train, y_train, X_val, y_val, X_test, y_test = load_sets(path='data/processed/', val=False)"
   ]
  },
  {
   "cell_type": "markdown",
   "id": "fef5c1be-7dd6-4f0a-a795-7ed8df3d8a10",
   "metadata": {},
   "source": [
    "**[1.4]** Task: Automatically Reload Modules"
   ]
  },
  {
   "cell_type": "code",
   "execution_count": 488,
   "id": "703ec031-0c48-42a6-8ee7-6f3f115d5f0d",
   "metadata": {},
   "outputs": [
    {
     "name": "stdout",
     "output_type": "stream",
     "text": [
      "The autoreload extension is already loaded. To reload it, use:\n",
      "  %reload_ext autoreload\n"
     ]
    }
   ],
   "source": [
    "# Automatically reload modules\n",
    "%load_ext autoreload\n",
    "%autoreload 2"
   ]
  },
  {
   "cell_type": "markdown",
   "id": "cab31dbb-e054-432b-9da0-2f191650418c",
   "metadata": {},
   "source": [
    "## 3. Create Baseline Model"
   ]
  },
  {
   "cell_type": "markdown",
   "id": "9bd312b4-9221-42e2-8855-ba0862a7abf8",
   "metadata": {},
   "source": [
    "**[3.1]** Task: Find the mode of the target variable and print it's value"
   ]
  },
  {
   "cell_type": "code",
   "execution_count": 489,
   "id": "1f1d57f3-0869-4f09-83d8-f0b59e259f17",
   "metadata": {},
   "outputs": [
    {
     "name": "stdout",
     "output_type": "stream",
     "text": [
      "[1]\n"
     ]
    }
   ],
   "source": [
    "y_mode = np.array(stats.mode(y_train)[0])\n",
    "print(y_mode)"
   ]
  },
  {
   "cell_type": "markdown",
   "id": "0c80bc44-2540-4562-8fcc-921485da5aef",
   "metadata": {},
   "source": [
    "**[3.2]** Task: Create a numpy array called y_base filled with this value"
   ]
  },
  {
   "cell_type": "code",
   "execution_count": 490,
   "id": "945c5aac-59fe-4932-86dc-0476c25752cd",
   "metadata": {},
   "outputs": [],
   "source": [
    "y_shape = (len(y_train), 1)\n",
    "y_base = np.full(y_shape, y_mode)"
   ]
  },
  {
   "cell_type": "markdown",
   "id": "9467fadb-38a6-4ec0-99db-d24a7b17206c",
   "metadata": {},
   "source": [
    "**[3.3]** Task: Import the accuracy score from sklearn"
   ]
  },
  {
   "cell_type": "code",
   "execution_count": 491,
   "id": "8909debd-762c-4a2b-a61f-9dafa58cf115",
   "metadata": {},
   "outputs": [],
   "source": [
    "from src.models.performance import print_reg_perf"
   ]
  },
  {
   "cell_type": "markdown",
   "id": "fb877509-84ce-41fe-a5ac-5b915314239e",
   "metadata": {},
   "source": [
    "**[3.4]** Task: Display the accuracy score of this baseline model"
   ]
  },
  {
   "cell_type": "code",
   "execution_count": 492,
   "id": "104e83af-6237-438c-8914-94b943003809",
   "metadata": {},
   "outputs": [],
   "source": [
    "# print_reg_perf(y_train, y_base, set_name=\"Baseline\")"
   ]
  },
  {
   "cell_type": "markdown",
   "id": "5c50b1f4-aa1c-4888-a1cb-5999529e36a0",
   "metadata": {},
   "source": [
    "The null accuracy is 83.35%\n",
    "If we predict 1, we'll be correct 83.35% of the time"
   ]
  },
  {
   "cell_type": "markdown",
   "id": "eaf47a54-da6e-400d-9374-cf8a3aa0816c",
   "metadata": {},
   "source": [
    "## 4. Logistic Regression - Hyperparameter Tuning with Grid Search and KFold"
   ]
  },
  {
   "cell_type": "markdown",
   "id": "31018efc-3693-4388-904b-a9adb273560f",
   "metadata": {},
   "source": [
    "Train Logistic Regression Algorithm\n",
    "\n",
    "1.   Use Grid Search to tune Hyper Parameters\n",
    "2.   Use KFold with 5 Splits\n",
    "3.   Fit Algorithm"
   ]
  },
  {
   "cell_type": "markdown",
   "id": "ced0eb4e-e5fa-4952-b28e-f9db78bd6ad9",
   "metadata": {},
   "source": [
    "**[4.1]** Task: Import GridSearchCV, KFold from sklearn.model_selection"
   ]
  },
  {
   "cell_type": "code",
   "execution_count": 493,
   "id": "940fef9a-17ec-47f3-ace0-abafc87c5e2b",
   "metadata": {},
   "outputs": [],
   "source": [
    "from sklearn.model_selection import RandomizedSearchCV,GridSearchCV,KFold"
   ]
  },
  {
   "cell_type": "markdown",
   "id": "2fb063f6-55c6-41e1-bfd4-4323de13b253",
   "metadata": {},
   "source": [
    "**[4.2]** Create a dictionary containing the Randomized Grid Search Parameters"
   ]
  },
  {
   "cell_type": "code",
   "execution_count": 494,
   "id": "fa4ddc29-7a5b-4d18-8f58-5d2add6c90f8",
   "metadata": {},
   "outputs": [],
   "source": [
    "# Linear Regression Random Grid Parameters\n",
    "# Class Weight\n",
    "class_weight = ['balanced']\n",
    "# Penalty\n",
    "penalty = ['none','l2','l1','elasticnet']\n",
    "# Solver\n",
    "solver = ['liblinear','lbfgs']\n",
    "# max_iter\n",
    "max_iter = [500]\n",
    "\n",
    "random_grid = {'class_weight': class_weight,\n",
    "               'penalty':penalty,\n",
    "               'solver':solver,\n",
    "               'max_iter':max_iter\n",
    "               }\n",
    "\n"
   ]
  },
  {
   "cell_type": "code",
   "execution_count": 495,
   "id": "40bf00ac-9ef7-4de4-9500-58e1396d8cf6",
   "metadata": {},
   "outputs": [
    {
     "data": {
      "text/plain": [
       "{'class_weight': ['balanced'],\n",
       " 'penalty': ['none', 'l2', 'l1', 'elasticnet'],\n",
       " 'solver': ['liblinear', 'lbfgs'],\n",
       " 'max_iter': [500]}"
      ]
     },
     "execution_count": 495,
     "metadata": {},
     "output_type": "execute_result"
    }
   ],
   "source": [
    "random_grid"
   ]
  },
  {
   "cell_type": "markdown",
   "id": "ccf85da9-4853-408e-b7d2-cbc4179433ef",
   "metadata": {},
   "source": [
    "**[4.3]** Task: Create RF Model, and use Randomized Search to find GridSearch range"
   ]
  },
  {
   "cell_type": "code",
   "execution_count": 496,
   "id": "a28a49b7-3d63-4ec9-a7a7-85253587cb75",
   "metadata": {},
   "outputs": [],
   "source": [
    " from sklearn.linear_model import LogisticRegression as LR"
   ]
  },
  {
   "cell_type": "code",
   "execution_count": 497,
   "id": "896d1e2d-c082-4e56-8648-c9b07256def3",
   "metadata": {},
   "outputs": [],
   "source": [
    "lr_base = LR()\n",
    "lr_random = RandomizedSearchCV(estimator = lr_base,\n",
    "                               param_distributions = random_grid,\n",
    "                               n_iter = 50, \n",
    "                               cv = 5,\n",
    "                               verbose=2,\n",
    "                               random_state=8, \n",
    "                               n_jobs = 4)"
   ]
  },
  {
   "cell_type": "markdown",
   "id": "57fb7bed-4a4e-44bb-9767-3f8944b91502",
   "metadata": {},
   "source": [
    "**[4.4]** Train Model"
   ]
  },
  {
   "cell_type": "code",
   "execution_count": 498,
   "id": "656e3a75-8940-421d-8b54-69f0b26b5fdc",
   "metadata": {},
   "outputs": [],
   "source": [
    "# Import Beep\n",
    "from src.indicator.sounds import beep_when_done"
   ]
  },
  {
   "cell_type": "code",
   "execution_count": 499,
   "id": "8a3a61fc-9a67-4788-82b5-4d42d91ac5a6",
   "metadata": {},
   "outputs": [
    {
     "name": "stdout",
     "output_type": "stream",
     "text": [
      "Fitting 5 folds for each of 8 candidates, totalling 40 fits\n"
     ]
    },
    {
     "name": "stderr",
     "output_type": "stream",
     "text": [
      "/opt/conda/lib/python3.9/site-packages/sklearn/model_selection/_search.py:292: UserWarning: The total space of parameters 8 is smaller than n_iter=50. Running 8 iterations. For exhaustive searches, use GridSearchCV.\n",
      "  warnings.warn(\n",
      "/opt/conda/lib/python3.9/site-packages/sklearn/model_selection/_validation.py:372: FitFailedWarning: \n",
      "20 fits failed out of a total of 40.\n",
      "The score on these train-test partitions for these parameters will be set to nan.\n",
      "If these failures are not expected, you can try to debug them by setting error_score='raise'.\n",
      "\n",
      "Below are more details about the failures:\n",
      "--------------------------------------------------------------------------------\n",
      "5 fits failed with the following error:\n",
      "Traceback (most recent call last):\n",
      "  File \"/opt/conda/lib/python3.9/site-packages/sklearn/model_selection/_validation.py\", line 680, in _fit_and_score\n",
      "    estimator.fit(X_train, y_train, **fit_params)\n",
      "  File \"/opt/conda/lib/python3.9/site-packages/sklearn/linear_model/_logistic.py\", line 1461, in fit\n",
      "    solver = _check_solver(self.solver, self.penalty, self.dual)\n",
      "  File \"/opt/conda/lib/python3.9/site-packages/sklearn/linear_model/_logistic.py\", line 464, in _check_solver\n",
      "    raise ValueError(\"penalty='none' is not supported for the liblinear solver\")\n",
      "ValueError: penalty='none' is not supported for the liblinear solver\n",
      "\n",
      "--------------------------------------------------------------------------------\n",
      "5 fits failed with the following error:\n",
      "Traceback (most recent call last):\n",
      "  File \"/opt/conda/lib/python3.9/site-packages/sklearn/model_selection/_validation.py\", line 680, in _fit_and_score\n",
      "    estimator.fit(X_train, y_train, **fit_params)\n",
      "  File \"/opt/conda/lib/python3.9/site-packages/sklearn/linear_model/_logistic.py\", line 1461, in fit\n",
      "    solver = _check_solver(self.solver, self.penalty, self.dual)\n",
      "  File \"/opt/conda/lib/python3.9/site-packages/sklearn/linear_model/_logistic.py\", line 447, in _check_solver\n",
      "    raise ValueError(\n",
      "ValueError: Solver lbfgs supports only 'l2' or 'none' penalties, got l1 penalty.\n",
      "\n",
      "--------------------------------------------------------------------------------\n",
      "5 fits failed with the following error:\n",
      "Traceback (most recent call last):\n",
      "  File \"/opt/conda/lib/python3.9/site-packages/sklearn/model_selection/_validation.py\", line 680, in _fit_and_score\n",
      "    estimator.fit(X_train, y_train, **fit_params)\n",
      "  File \"/opt/conda/lib/python3.9/site-packages/sklearn/linear_model/_logistic.py\", line 1461, in fit\n",
      "    solver = _check_solver(self.solver, self.penalty, self.dual)\n",
      "  File \"/opt/conda/lib/python3.9/site-packages/sklearn/linear_model/_logistic.py\", line 457, in _check_solver\n",
      "    raise ValueError(\n",
      "ValueError: Only 'saga' solver supports elasticnet penalty, got solver=liblinear.\n",
      "\n",
      "--------------------------------------------------------------------------------\n",
      "5 fits failed with the following error:\n",
      "Traceback (most recent call last):\n",
      "  File \"/opt/conda/lib/python3.9/site-packages/sklearn/model_selection/_validation.py\", line 680, in _fit_and_score\n",
      "    estimator.fit(X_train, y_train, **fit_params)\n",
      "  File \"/opt/conda/lib/python3.9/site-packages/sklearn/linear_model/_logistic.py\", line 1461, in fit\n",
      "    solver = _check_solver(self.solver, self.penalty, self.dual)\n",
      "  File \"/opt/conda/lib/python3.9/site-packages/sklearn/linear_model/_logistic.py\", line 447, in _check_solver\n",
      "    raise ValueError(\n",
      "ValueError: Solver lbfgs supports only 'l2' or 'none' penalties, got elasticnet penalty.\n",
      "\n",
      "  warnings.warn(some_fits_failed_message, FitFailedWarning)\n",
      "/opt/conda/lib/python3.9/site-packages/sklearn/model_selection/_search.py:969: UserWarning: One or more of the test scores are non-finite: [       nan 0.64640625 0.6446875  0.64546875 0.64625           nan\n",
      "        nan        nan]\n",
      "  warnings.warn(\n"
     ]
    },
    {
     "name": "stdout",
     "output_type": "stream",
     "text": [
      "{'solver': 'lbfgs', 'penalty': 'none', 'max_iter': 500, 'class_weight': 'balanced'}\n"
     ]
    }
   ],
   "source": [
    "lr_random.fit(X_train, y_train)\n",
    "\n",
    "# Beep when completed\n",
    "#beep_when_done()\n",
    "\n",
    "print(lr_random.best_params_)"
   ]
  },
  {
   "cell_type": "markdown",
   "id": "7395b8e3-9d5f-43da-8723-8825d5747789",
   "metadata": {},
   "source": [
    "\"print(lr_random.best_params_)\"\n",
    "\n",
    "{'solver': 'lbfgs', 'penalty': 'l2', 'max_iter': 500, 'class_weight': 'balanced'}"
   ]
  },
  {
   "cell_type": "code",
   "execution_count": 500,
   "id": "5db57386-8114-4dcd-97aa-681765fac8e2",
   "metadata": {},
   "outputs": [],
   "source": [
    "lr_best = LR(solver='lbfgs', penalty='l2', max_iter=500, class_weight='balanced').fit(X_train, y_train)"
   ]
  },
  {
   "cell_type": "code",
   "execution_count": 501,
   "id": "65eb7899-fbdb-4447-9485-51276391d392",
   "metadata": {},
   "outputs": [],
   "source": [
    "from src.models.performance import score_models"
   ]
  },
  {
   "cell_type": "code",
   "execution_count": 502,
   "id": "f261f3f1-aaf9-4bb6-b239-cdb719993efa",
   "metadata": {},
   "outputs": [
    {
     "data": {
      "text/html": [
       "<div>\n",
       "<style scoped>\n",
       "    .dataframe tbody tr th:only-of-type {\n",
       "        vertical-align: middle;\n",
       "    }\n",
       "\n",
       "    .dataframe tbody tr th {\n",
       "        vertical-align: top;\n",
       "    }\n",
       "\n",
       "    .dataframe thead th {\n",
       "        text-align: right;\n",
       "    }\n",
       "</style>\n",
       "<table border=\"1\" class=\"dataframe\">\n",
       "  <thead>\n",
       "    <tr style=\"text-align: right;\">\n",
       "      <th></th>\n",
       "      <th>Set Name</th>\n",
       "      <th>ACC</th>\n",
       "      <th>MSE</th>\n",
       "      <th>MAE</th>\n",
       "      <th>PREC</th>\n",
       "      <th>RECALL</th>\n",
       "      <th>F1</th>\n",
       "      <th>AUC</th>\n",
       "    </tr>\n",
       "  </thead>\n",
       "  <tbody>\n",
       "    <tr>\n",
       "      <th>0</th>\n",
       "      <td>Train</td>\n",
       "      <td>0.648438</td>\n",
       "      <td>0.592927</td>\n",
       "      <td>0.351562</td>\n",
       "      <td>0.903057</td>\n",
       "      <td>0.647798</td>\n",
       "      <td>0.754420</td>\n",
       "      <td>0.710437</td>\n",
       "    </tr>\n",
       "    <tr>\n",
       "      <th>1</th>\n",
       "      <td>Validate</td>\n",
       "      <td>0.646250</td>\n",
       "      <td>0.594769</td>\n",
       "      <td>0.353750</td>\n",
       "      <td>0.901674</td>\n",
       "      <td>0.646177</td>\n",
       "      <td>0.752838</td>\n",
       "      <td>0.701607</td>\n",
       "    </tr>\n",
       "  </tbody>\n",
       "</table>\n",
       "</div>"
      ],
      "text/plain": [
       "   Set Name       ACC       MSE       MAE      PREC    RECALL        F1  \\\n",
       "0     Train  0.648438  0.592927  0.351562  0.903057  0.647798  0.754420   \n",
       "1  Validate  0.646250  0.594769  0.353750  0.901674  0.646177  0.752838   \n",
       "\n",
       "        AUC  \n",
       "0  0.710437  \n",
       "1  0.701607  "
      ]
     },
     "metadata": {},
     "output_type": "display_data"
    }
   ],
   "source": [
    "score_models(X_train = X_train, y_train = y_train, X_val = X_val, y_val = y_val, y_base = y_base, includeBase = True, model = lr_best)"
   ]
  },
  {
   "cell_type": "markdown",
   "id": "6583af27-1abb-4fb2-a96f-ac341f6a90cb",
   "metadata": {},
   "source": [
    "**Observation** Training Model is overfitting"
   ]
  },
  {
   "cell_type": "markdown",
   "id": "337ffca3-08e8-4d53-a70e-c3f00e57ab61",
   "metadata": {},
   "source": [
    "**[4.5]** Tune Hyperparameters to better reduce overfitting.\n",
    "\n",
    "1. Reduce Depth to and \n",
    "2. increase min samples per leaf to 10"
   ]
  },
  {
   "cell_type": "code",
   "execution_count": 503,
   "id": "6862fd22-23d5-4cec-8697-c3a9abcd21ce",
   "metadata": {},
   "outputs": [],
   "source": [
    "lr_best_1 = LR(solver='lbfgs', penalty='none', max_iter=1000, class_weight='balanced').fit(X_train, y_train)"
   ]
  },
  {
   "cell_type": "code",
   "execution_count": 504,
   "id": "53b8b44e-2670-4049-9a72-f51adaca55f2",
   "metadata": {},
   "outputs": [
    {
     "data": {
      "text/html": [
       "<div>\n",
       "<style scoped>\n",
       "    .dataframe tbody tr th:only-of-type {\n",
       "        vertical-align: middle;\n",
       "    }\n",
       "\n",
       "    .dataframe tbody tr th {\n",
       "        vertical-align: top;\n",
       "    }\n",
       "\n",
       "    .dataframe thead th {\n",
       "        text-align: right;\n",
       "    }\n",
       "</style>\n",
       "<table border=\"1\" class=\"dataframe\">\n",
       "  <thead>\n",
       "    <tr style=\"text-align: right;\">\n",
       "      <th></th>\n",
       "      <th>Set Name</th>\n",
       "      <th>ACC</th>\n",
       "      <th>MSE</th>\n",
       "      <th>MAE</th>\n",
       "      <th>PREC</th>\n",
       "      <th>RECALL</th>\n",
       "      <th>F1</th>\n",
       "      <th>AUC</th>\n",
       "    </tr>\n",
       "  </thead>\n",
       "  <tbody>\n",
       "    <tr>\n",
       "      <th>0</th>\n",
       "      <td>Train</td>\n",
       "      <td>0.651719</td>\n",
       "      <td>0.590154</td>\n",
       "      <td>0.348281</td>\n",
       "      <td>0.902958</td>\n",
       "      <td>0.652296</td>\n",
       "      <td>0.757427</td>\n",
       "      <td>0.711458</td>\n",
       "    </tr>\n",
       "    <tr>\n",
       "      <th>1</th>\n",
       "      <td>Validate</td>\n",
       "      <td>0.648750</td>\n",
       "      <td>0.592663</td>\n",
       "      <td>0.351250</td>\n",
       "      <td>0.902923</td>\n",
       "      <td>0.648426</td>\n",
       "      <td>0.754799</td>\n",
       "      <td>0.698676</td>\n",
       "    </tr>\n",
       "  </tbody>\n",
       "</table>\n",
       "</div>"
      ],
      "text/plain": [
       "   Set Name       ACC       MSE       MAE      PREC    RECALL        F1  \\\n",
       "0     Train  0.651719  0.590154  0.348281  0.902958  0.652296  0.757427   \n",
       "1  Validate  0.648750  0.592663  0.351250  0.902923  0.648426  0.754799   \n",
       "\n",
       "        AUC  \n",
       "0  0.711458  \n",
       "1  0.698676  "
      ]
     },
     "metadata": {},
     "output_type": "display_data"
    }
   ],
   "source": [
    "score_models(X_train = X_train, y_train = y_train, X_val = X_val, y_val = y_val, y_base = y_base, includeBase = True, model = lr_best_1)"
   ]
  },
  {
   "cell_type": "markdown",
   "id": "eaee372e-8dfa-4c36-8d21-9b0dacd3316a",
   "metadata": {},
   "source": [
    "**Observations**\n",
    "* Validation Dataset is not performing well for the model, indicating Model is overfitting on Train Dataset"
   ]
  },
  {
   "cell_type": "markdown",
   "id": "fcfdcef8-beaa-4684-a117-8fecd0cf715e",
   "metadata": {},
   "source": [
    "**[4.5.2]** Task: Attempt to use L2 Penalty"
   ]
  },
  {
   "cell_type": "code",
   "execution_count": 505,
   "id": "6e3bf92f-baa4-40db-a57b-3177460a0d97",
   "metadata": {},
   "outputs": [],
   "source": [
    "lr_best_2 = LR(solver='lbfgs', penalty='l2', max_iter=1000, class_weight='balanced').fit(X_train, y_train)"
   ]
  },
  {
   "cell_type": "code",
   "execution_count": 506,
   "id": "a5a410e4-4025-413f-bc1b-026f986115a3",
   "metadata": {},
   "outputs": [
    {
     "data": {
      "text/html": [
       "<div>\n",
       "<style scoped>\n",
       "    .dataframe tbody tr th:only-of-type {\n",
       "        vertical-align: middle;\n",
       "    }\n",
       "\n",
       "    .dataframe tbody tr th {\n",
       "        vertical-align: top;\n",
       "    }\n",
       "\n",
       "    .dataframe thead th {\n",
       "        text-align: right;\n",
       "    }\n",
       "</style>\n",
       "<table border=\"1\" class=\"dataframe\">\n",
       "  <thead>\n",
       "    <tr style=\"text-align: right;\">\n",
       "      <th></th>\n",
       "      <th>Set Name</th>\n",
       "      <th>ACC</th>\n",
       "      <th>MSE</th>\n",
       "      <th>MAE</th>\n",
       "      <th>PREC</th>\n",
       "      <th>RECALL</th>\n",
       "      <th>F1</th>\n",
       "      <th>AUC</th>\n",
       "    </tr>\n",
       "  </thead>\n",
       "  <tbody>\n",
       "    <tr>\n",
       "      <th>0</th>\n",
       "      <td>Train</td>\n",
       "      <td>0.648438</td>\n",
       "      <td>0.592927</td>\n",
       "      <td>0.351562</td>\n",
       "      <td>0.903057</td>\n",
       "      <td>0.647798</td>\n",
       "      <td>0.754420</td>\n",
       "      <td>0.710437</td>\n",
       "    </tr>\n",
       "    <tr>\n",
       "      <th>1</th>\n",
       "      <td>Validate</td>\n",
       "      <td>0.646250</td>\n",
       "      <td>0.594769</td>\n",
       "      <td>0.353750</td>\n",
       "      <td>0.901674</td>\n",
       "      <td>0.646177</td>\n",
       "      <td>0.752838</td>\n",
       "      <td>0.701607</td>\n",
       "    </tr>\n",
       "  </tbody>\n",
       "</table>\n",
       "</div>"
      ],
      "text/plain": [
       "   Set Name       ACC       MSE       MAE      PREC    RECALL        F1  \\\n",
       "0     Train  0.648438  0.592927  0.351562  0.903057  0.647798  0.754420   \n",
       "1  Validate  0.646250  0.594769  0.353750  0.901674  0.646177  0.752838   \n",
       "\n",
       "        AUC  \n",
       "0  0.710437  \n",
       "1  0.701607  "
      ]
     },
     "metadata": {},
     "output_type": "display_data"
    }
   ],
   "source": [
    "score_models(X_train = X_train, y_train = y_train, X_val = X_val, y_val = y_val, y_base = y_base, includeBase = True, model = lr_best_2)"
   ]
  },
  {
   "cell_type": "markdown",
   "id": "b2a65e6a-2fcc-416b-9d56-e2fabbcdae06",
   "metadata": {},
   "source": [
    "[4.5.3] Task: Attempt to use liblinear solver and L1 Penalty"
   ]
  },
  {
   "cell_type": "code",
   "execution_count": 507,
   "id": "0100074c-bad8-46c9-b8f1-4af493375412",
   "metadata": {},
   "outputs": [],
   "source": [
    "lr_best_3 = LR(solver='liblinear', penalty='l1', max_iter=1000, class_weight='balanced').fit(X_train, y_train)"
   ]
  },
  {
   "cell_type": "code",
   "execution_count": 508,
   "id": "05ace13f-ecc0-4dfa-89fd-67cbecb1bdde",
   "metadata": {},
   "outputs": [
    {
     "data": {
      "text/html": [
       "<div>\n",
       "<style scoped>\n",
       "    .dataframe tbody tr th:only-of-type {\n",
       "        vertical-align: middle;\n",
       "    }\n",
       "\n",
       "    .dataframe tbody tr th {\n",
       "        vertical-align: top;\n",
       "    }\n",
       "\n",
       "    .dataframe thead th {\n",
       "        text-align: right;\n",
       "    }\n",
       "</style>\n",
       "<table border=\"1\" class=\"dataframe\">\n",
       "  <thead>\n",
       "    <tr style=\"text-align: right;\">\n",
       "      <th></th>\n",
       "      <th>Set Name</th>\n",
       "      <th>ACC</th>\n",
       "      <th>MSE</th>\n",
       "      <th>MAE</th>\n",
       "      <th>PREC</th>\n",
       "      <th>RECALL</th>\n",
       "      <th>F1</th>\n",
       "      <th>AUC</th>\n",
       "    </tr>\n",
       "  </thead>\n",
       "  <tbody>\n",
       "    <tr>\n",
       "      <th>0</th>\n",
       "      <td>Train</td>\n",
       "      <td>0.648438</td>\n",
       "      <td>0.592927</td>\n",
       "      <td>0.351562</td>\n",
       "      <td>0.904537</td>\n",
       "      <td>0.646485</td>\n",
       "      <td>0.754045</td>\n",
       "      <td>0.710240</td>\n",
       "    </tr>\n",
       "    <tr>\n",
       "      <th>1</th>\n",
       "      <td>Validate</td>\n",
       "      <td>0.648125</td>\n",
       "      <td>0.593191</td>\n",
       "      <td>0.351875</td>\n",
       "      <td>0.901145</td>\n",
       "      <td>0.649175</td>\n",
       "      <td>0.754684</td>\n",
       "      <td>0.701212</td>\n",
       "    </tr>\n",
       "  </tbody>\n",
       "</table>\n",
       "</div>"
      ],
      "text/plain": [
       "   Set Name       ACC       MSE       MAE      PREC    RECALL        F1  \\\n",
       "0     Train  0.648438  0.592927  0.351562  0.904537  0.646485  0.754045   \n",
       "1  Validate  0.648125  0.593191  0.351875  0.901145  0.649175  0.754684   \n",
       "\n",
       "        AUC  \n",
       "0  0.710240  \n",
       "1  0.701212  "
      ]
     },
     "metadata": {},
     "output_type": "display_data"
    }
   ],
   "source": [
    "score_models(X_train = X_train, y_train = y_train, X_val = X_val, y_val = y_val, y_base = y_base, includeBase = True, model = lr_best_3)"
   ]
  },
  {
   "cell_type": "markdown",
   "id": "6a9f1c58-6a3c-4b56-9178-d6bb15e870a8",
   "metadata": {},
   "source": [
    "**[4.6]** Task: Plot Confusion Matrix\n",
    "\n",
    "Identify how well the model is performing at predicting the outcome"
   ]
  },
  {
   "cell_type": "code",
   "execution_count": 509,
   "id": "b6f165b6-ec0c-4def-84fb-37f480967559",
   "metadata": {},
   "outputs": [],
   "source": [
    "from src.visualization.visualize import plot_confusion_matrix_full"
   ]
  },
  {
   "cell_type": "code",
   "execution_count": 510,
   "id": "13e1920e-1b73-404c-9178-527163e29f01",
   "metadata": {},
   "outputs": [
    {
     "name": "stdout",
     "output_type": "stream",
     "text": [
      "Train - Confusion matrix, without normalization\n",
      "[[ 691  374]\n",
      " [1855 3480]]\n",
      "Train - Normalized confusion matrix\n",
      "[[0.64882629 0.35117371]\n",
      " [0.34770384 0.65229616]]\n",
      "Validate - Confusion matrix, without normalization\n",
      "[[173  93]\n",
      " [469 865]]\n",
      "Validate - Normalized confusion matrix\n",
      "[[0.65037594 0.34962406]\n",
      " [0.35157421 0.64842579]]\n"
     ]
    },
    {
     "data": {
      "image/png": "[encoded data removed]",
      "text/plain": [
       "<Figure size 432x288 with 2 Axes>"
      ]
     },
     "metadata": {
      "needs_background": "light"
     },
     "output_type": "display_data"
    },
    {
     "data": {
      "image/png": "[encoded data removed]",
      "text/plain": [
       "<Figure size 432x288 with 2 Axes>"
      ]
     },
     "metadata": {
      "needs_background": "light"
     },
     "output_type": "display_data"
    },
    {
     "data": {
      "image/png": "[encoded data removed]",
      "text/plain": [
       "<Figure size 432x288 with 2 Axes>"
      ]
     },
     "metadata": {
      "needs_background": "light"
     },
     "output_type": "display_data"
    },
    {
     "data": {
      "image/png": "[encoded data removed]",
      "text/plain": [
       "<Figure size 432x288 with 2 Axes>"
      ]
     },
     "metadata": {
      "needs_background": "light"
     },
     "output_type": "display_data"
    }
   ],
   "source": [
    "plot_confusion_matrix_full(model = lr_best_1 ,X_train = X_train, y_train = y_train, X_val = X_val, y_val = y_val)"
   ]
  },
  {
   "cell_type": "markdown",
   "id": "e27fe1b7-c5fd-403e-abe0-dd45e0c23c9a",
   "metadata": {},
   "source": [
    "**Observation** Both Models is predicting alot of False Positives (FP) in both training and validation datasets"
   ]
  },
  {
   "cell_type": "markdown",
   "id": "013db129-34d0-4bda-ab01-de28ced9f900",
   "metadata": {},
   "source": [
    "**[4.7]** Task: Calculate AUROC"
   ]
  },
  {
   "cell_type": "code",
   "execution_count": 511,
   "id": "d9fc1685-7dea-4391-b1c5-df33ac3dabee",
   "metadata": {},
   "outputs": [],
   "source": [
    "from sklearn.metrics import roc_auc_score"
   ]
  },
  {
   "cell_type": "code",
   "execution_count": 512,
   "id": "d57a3114-300b-40f0-933b-6c5ef1adf11c",
   "metadata": {},
   "outputs": [
    {
     "name": "stdout",
     "output_type": "stream",
     "text": [
      "rf_best_1_proba: [0.51965201 0.09627373 0.65765874 ... 0.41742965 0.48709772 0.76721697]\n"
     ]
    }
   ],
   "source": [
    "lr_best_1_y_train_proba = lr_best_1.predict_proba(X_train)[:, 1]\n",
    "lr_best_1_y_val_proba = lr_best_1.predict_proba(X_val)[:, 1]\n",
    "print(\"rf_best_1_proba:\", lr_best_1_y_train_proba)"
   ]
  },
  {
   "cell_type": "code",
   "execution_count": 513,
   "id": "79b00fed-f40e-4470-be93-bcf54e6cbaa3",
   "metadata": {},
   "outputs": [
    {
     "data": {
      "text/plain": [
       "0.7114577750790906"
      ]
     },
     "execution_count": 513,
     "metadata": {},
     "output_type": "execute_result"
    }
   ],
   "source": [
    "roc_auc_score(y_train, lr_best_1_y_train_proba)"
   ]
  },
  {
   "cell_type": "code",
   "execution_count": 514,
   "id": "bfda5baf-952f-4520-ae12-429701203645",
   "metadata": {},
   "outputs": [
    {
     "data": {
      "text/plain": [
       "0.6986760379208891"
      ]
     },
     "execution_count": 514,
     "metadata": {},
     "output_type": "execute_result"
    }
   ],
   "source": [
    "roc_auc_score(y_val, lr_best_1_y_val_proba)"
   ]
  },
  {
   "cell_type": "markdown",
   "id": "068089aa-40a3-4c19-8bd6-dcd5aac6d9b2",
   "metadata": {},
   "source": [
    "**Observations** \n",
    "* Training Dataset has a AUROC prediction 0.711\n",
    "* Validation Dataset has a poor AUROC prediction 0.698. This indicates the model is fitting reasonably well on unseen data\n",
    "* The finaly Kaggle result AUROC 0.71246 - Best Personal Result (to-date)"
   ]
  },
  {
   "cell_type": "markdown",
   "id": "0b648fb8-751e-4752-82e1-2806031c9c3c",
   "metadata": {},
   "source": [
    "## 5. Plot AUC"
   ]
  },
  {
   "cell_type": "code",
   "execution_count": 515,
   "id": "7199b4e7-e9fc-4ab8-bdac-61e038ff342b",
   "metadata": {},
   "outputs": [],
   "source": [
    "from src.visualization.visualize import plot_roc_auc"
   ]
  },
  {
   "cell_type": "code",
   "execution_count": 529,
   "id": "9c8ea513-7128-4dc0-a4a3-3a549d528811",
   "metadata": {},
   "outputs": [
    {
     "data": {
      "image/png": "[encoded data removed]",
      "text/plain": [
       "<Figure size 700x500 with 1 Axes>"
      ]
     },
     "metadata": {
      "needs_background": "light"
     },
     "output_type": "display_data"
    },
    {
     "data": {
      "image/png": "[encoded data removed]",
      "text/plain": [
       "<Figure size 700x500 with 1 Axes>"
      ]
     },
     "metadata": {
      "needs_background": "light"
     },
     "output_type": "display_data"
    }
   ],
   "source": [
    "plot_roc_auc(model = lr_best_1 ,X_train = X_train, y_train = y_train, X_val = X_val, y_val = y_val)"
   ]
  },
  {
   "cell_type": "markdown",
   "id": "7a237f02-5980-4373-bcb1-068cfb89c3e3",
   "metadata": {},
   "source": [
    "Correlation between X and y"
   ]
  },
  {
   "cell_type": "markdown",
   "id": "f0fcdf46-0db9-449b-beab-7a335d13354c",
   "metadata": {},
   "source": [
    "## 6. Logistic Regression - Kaggle Competition Preparation"
   ]
  },
  {
   "cell_type": "markdown",
   "id": "95ac6bdf-49de-430a-a810-523fda2ca663",
   "metadata": {},
   "source": [
    "**[6.1]** Prepare Kaggle Input File using rf_best Random Forest Model"
   ]
  },
  {
   "cell_type": "code",
   "execution_count": 517,
   "id": "4177fbec-fdcb-4d7e-a822-3aca6d16cd38",
   "metadata": {},
   "outputs": [],
   "source": [
    "# File URLs\n",
    "file_path_test= \"data/processed/test.csv\"\n",
    "\n",
    "# Load files into df_training and df_validation data frames\n",
    "df_test = pd.read_csv(file_path_test)"
   ]
  },
  {
   "cell_type": "code",
   "execution_count": 518,
   "id": "eb8779e6-30a6-4351-b417-75af0c5d7060",
   "metadata": {},
   "outputs": [],
   "source": [
    "\n",
    "# Drop Target and ID for X, and create target from y\n",
    "X_test_id = df_test['Id']\n",
    "X_test = df_test.drop(['Id'], axis=1)"
   ]
  },
  {
   "cell_type": "markdown",
   "id": "3b0a1642-e83d-4784-94f7-c89057829fbc",
   "metadata": {},
   "source": [
    "**[6.2]** Check Test Dataset is ready for predicting"
   ]
  },
  {
   "cell_type": "code",
   "execution_count": 519,
   "id": "2ff4404e-4433-43fe-8e5c-f1d3da4e7cd0",
   "metadata": {},
   "outputs": [
    {
     "name": "stdout",
     "output_type": "stream",
     "text": [
      "<class 'pandas.core.frame.DataFrame'>\n",
      "RangeIndex: 3799 entries, 0 to 3798\n",
      "Data columns (total 30 columns):\n",
      " #   Column           Non-Null Count  Dtype  \n",
      "---  ------           --------------  -----  \n",
      " 0   GP               3799 non-null   float64\n",
      " 1   MIN              3799 non-null   float64\n",
      " 2   PTS              3799 non-null   float64\n",
      " 3   FGM              3799 non-null   float64\n",
      " 4   FGA              3799 non-null   float64\n",
      " 5   FG%              3799 non-null   float64\n",
      " 6   3P Made          3799 non-null   float64\n",
      " 7   3PA              3799 non-null   float64\n",
      " 8   3P%              3799 non-null   float64\n",
      " 9   FTM              3799 non-null   float64\n",
      " 10  FTA              3799 non-null   float64\n",
      " 11  FT%              3799 non-null   float64\n",
      " 12  OREB             3799 non-null   float64\n",
      " 13  DREB             3799 non-null   float64\n",
      " 14  REB              3799 non-null   float64\n",
      " 15  AST              3799 non-null   float64\n",
      " 16  STL              3799 non-null   float64\n",
      " 17  BLK              3799 non-null   float64\n",
      " 18  TOV              3799 non-null   float64\n",
      " 19  FG_Missed        3799 non-null   float64\n",
      " 20  3P_Missed        3799 non-null   float64\n",
      " 21  FT_Missed        3799 non-null   float64\n",
      " 22  PPER             3799 non-null   float64\n",
      " 23  NPER             3799 non-null   float64\n",
      " 24  PER              3799 non-null   float64\n",
      " 25  KMeansCluster_0  3799 non-null   float64\n",
      " 26  KMeansCluster_1  3799 non-null   float64\n",
      " 27  KMeansCluster_2  3799 non-null   float64\n",
      " 28  KMeansCluster_3  3799 non-null   float64\n",
      " 29  KMeansCluster_4  3799 non-null   float64\n",
      "dtypes: float64(30)\n",
      "memory usage: 890.5 KB\n"
     ]
    }
   ],
   "source": [
    "X_test.info()"
   ]
  },
  {
   "cell_type": "markdown",
   "id": "83c4ef83-1e64-453b-9dca-d358aa3c5486",
   "metadata": {},
   "source": [
    "**[6.3]** Create y Prediction using the Test Dataset"
   ]
  },
  {
   "cell_type": "code",
   "execution_count": 520,
   "id": "bd8c1325-8ae1-4a06-a435-5f42bb6cdce4",
   "metadata": {},
   "outputs": [
    {
     "name": "stderr",
     "output_type": "stream",
     "text": [
      "/opt/conda/lib/python3.9/site-packages/sklearn/base.py:443: UserWarning: X has feature names, but LogisticRegression was fitted without feature names\n",
      "  warnings.warn(\n"
     ]
    }
   ],
   "source": [
    "y_predict = lr_best_1.predict_proba(X_test)"
   ]
  },
  {
   "cell_type": "code",
   "execution_count": 521,
   "id": "427dccd0-8944-46fc-b5dd-535dc1d5d720",
   "metadata": {},
   "outputs": [
    {
     "name": "stdout",
     "output_type": "stream",
     "text": [
      "[[0.63389353 0.36610647]\n",
      " [0.70619755 0.29380245]\n",
      " [0.34098824 0.65901176]\n",
      " ...\n",
      " [0.7022092  0.2977908 ]\n",
      " [0.23887647 0.76112353]\n",
      " [0.70069004 0.29930996]]\n"
     ]
    }
   ],
   "source": [
    "print(y_predict)"
   ]
  },
  {
   "cell_type": "code",
   "execution_count": 522,
   "id": "80d12dba",
   "metadata": {},
   "outputs": [
    {
     "name": "stdout",
     "output_type": "stream",
     "text": [
      "[0.36610647 0.29380245 0.65901176 ... 0.2977908  0.76112353 0.29930996]\n"
     ]
    }
   ],
   "source": [
    "print(y_predict[:,1])"
   ]
  },
  {
   "cell_type": "markdown",
   "id": "3358c9b7-13d1-48b8-ad95-41215d0bff9f",
   "metadata": {},
   "source": [
    "**[6.4]** Convert the Numpy Array into a Pandas Dataframe with a Column Name TARGET_5Yrs"
   ]
  },
  {
   "cell_type": "code",
   "execution_count": 523,
   "id": "58fb81e7-6af3-4bcd-930f-49b24e0c1c78",
   "metadata": {},
   "outputs": [],
   "source": [
    "# Convert numpy arrany y_predict values back to df_train_cleaned_scaled data frame \n",
    "y_predict = pd.DataFrame(y_predict[:,1], columns = ['TARGET_5Yrs'])"
   ]
  },
  {
   "cell_type": "markdown",
   "id": "c802c901-1ea2-487f-8a4c-d540330b5b0d",
   "metadata": {},
   "source": [
    "**[6.5]** Concatenate Player ID and Prediction into on Data Frame and Sort by Id"
   ]
  },
  {
   "cell_type": "code",
   "execution_count": 524,
   "id": "116ef162-791d-4574-a6be-3ed5f0289297",
   "metadata": {},
   "outputs": [],
   "source": [
    "y_predict = pd.concat([X_test_id, y_predict], axis=1)"
   ]
  },
  {
   "cell_type": "code",
   "execution_count": 525,
   "id": "e738cf48-eeff-4205-b7a4-05f27c381369",
   "metadata": {},
   "outputs": [],
   "source": [
    "y_predict = y_predict.sort_values(by=['Id'])"
   ]
  },
  {
   "cell_type": "code",
   "execution_count": 526,
   "id": "7b1085bd",
   "metadata": {},
   "outputs": [
    {
     "name": "stdout",
     "output_type": "stream",
     "text": [
      "         Id  TARGET_5Yrs\n",
      "0         1     0.366106\n",
      "2         3     0.659012\n",
      "5         6     0.568039\n",
      "8        14     0.407130\n",
      "10       17     0.468676\n",
      "...     ...          ...\n",
      "3057  13770     0.708379\n",
      "3058  13771     0.425001\n",
      "3059  13774     0.449909\n",
      "3063  13787     0.418589\n",
      "3064  13792     0.488821\n",
      "\n",
      "[3799 rows x 2 columns]\n"
     ]
    }
   ],
   "source": [
    "print(y_predict)"
   ]
  },
  {
   "cell_type": "markdown",
   "id": "d2430a87-7502-42df-bb97-43dc645d9fe9",
   "metadata": {},
   "source": [
    "**[6.6]** Export Dataframe to CSV and save model"
   ]
  },
  {
   "cell_type": "code",
   "execution_count": 528,
   "id": "0aa7d879-f6b6-4604-b874-b89f0bdd2b8a",
   "metadata": {},
   "outputs": [
    {
     "data": {
      "text/plain": [
       "(3799, 2)"
      ]
     },
     "execution_count": 528,
     "metadata": {},
     "output_type": "execute_result"
    }
   ],
   "source": [
    "y_predict.to_csv(\"data/external/submission_nfragar_20220227_linear_regression_w3_5_add_kmeans_feature.csv\", index = False)\n",
    "y_predict.shape"
   ]
  }
 ],
 "metadata": {
  "kernelspec": {
   "display_name": "Python 3 (ipykernel)",
   "language": "python",
   "name": "python3"
  },
  "language_info": {
   "codemirror_mode": {
    "name": "ipython",
    "version": 3
   },
   "file_extension": ".py",
   "mimetype": "text/x-python",
   "name": "python",
   "nbconvert_exporter": "python",
   "pygments_lexer": "ipython3",
   "version": "3.9.7"
  }
 },
 "nbformat": 4,
 "nbformat_minor": 5
}
