{
 "cells": [
  {
   "cell_type": "markdown",
   "id": "1072d7ee-da99-4b15-8ded-496c770836dc",
   "metadata": {},
   "source": [
    "# **AdvDS - Assignment 1: Binary Classification - NBA Player Prediction - Data Preparation**"
   ]
  },
  {
   "cell_type": "markdown",
   "id": "92ff0a16-0385-4f56-bee2-d54827025980",
   "metadata": {},
   "source": [
    "Build a binary classification model that can predict if a rookie player will last at least 5 years in the NBA"
   ]
  },
  {
   "cell_type": "markdown",
   "id": "dcde699c-0dcd-4cb5-90db-9989080eed90",
   "metadata": {},
   "source": [
    "**Student Name:** Nathan Fragar\n",
    "\n",
    "**Student No. :** 93087548\n",
    "\n",
    "**Week:** 4\n",
    "\n",
    "**Date:** 06MAR2022\n",
    "\n",
    "**Team Name:** Group 1\n",
    "* Carol Myhill - 90014679\n",
    "* Nathan Fragar - 93087548\n",
    "* Nuwan Munasinghe - 13104409\n",
    "* Sean Williams - ??\n",
    "* Wenying Wu - 14007025 "
   ]
  },
  {
   "cell_type": "markdown",
   "id": "cc73ed60-6381-4db4-82c6-db70b15b0b4f",
   "metadata": {},
   "source": [
    "## 1. Load Python packages and libraries"
   ]
  },
  {
   "cell_type": "markdown",
   "id": "60205938-abff-4a21-af07-9ccdfc560176",
   "metadata": {},
   "source": [
    "**[1.1]** Task: Change working directory to /home/jovyan/work"
   ]
  },
  {
   "cell_type": "code",
   "execution_count": 1,
   "id": "1c9a96f3-567e-4be1-897c-7278a4949259",
   "metadata": {},
   "outputs": [
    {
     "name": "stdout",
     "output_type": "stream",
     "text": [
      "/home/jovyan/work\n"
     ]
    }
   ],
   "source": [
    "cd /home/jovyan/work"
   ]
  },
  {
   "cell_type": "markdown",
   "id": "fcb5f006-c249-4004-83f8-fe7c39347f77",
   "metadata": {},
   "source": [
    "**[1.2]** Task: Import required packages: Pandas, Numpy, joblib"
   ]
  },
  {
   "cell_type": "code",
   "execution_count": 2,
   "id": "da550e50-0bef-49b0-bc21-85d135e65db6",
   "metadata": {},
   "outputs": [],
   "source": [
    "# Task: Import the pandas, numpy, scipy stats and joblib package\n",
    "import pandas as pd\n",
    "import numpy as np\n",
    "from scipy import stats\n",
    "import joblib as job\n",
    "\n",
    "# Learning Model\n",
    "from sklearn.linear_model import LogisticRegression as LR\n",
    "\n",
    "# Optimising\n",
    "from sklearn.model_selection import RandomizedSearchCV,GridSearchCV,KFold\n",
    "\n",
    "# Scoring\n",
    "from sklearn.metrics import accuracy_score\n",
    "from sklearn.metrics import mean_squared_error as mse\n",
    "from sklearn.metrics import mean_absolute_error as mae\n",
    "from sklearn.metrics import roc_auc_score\n",
    "from sklearn.metrics import precision_score\n",
    "from sklearn.metrics import recall_score\n",
    "from sklearn.metrics import f1_score\n",
    "\n",
    "# Custom Functions\n",
    "from src.data.sets import load_sets\n",
    "from src.models.null import NullModel\n",
    "from src.models.performance import score_model\n",
    "from src.models.performance import score_models\n",
    "from src.indicator.sounds import beep_when_done\t                   \n",
    "from src.visualization.visualize import plot_confusion_matrix_full\n",
    "from src.visualization.visualize import plot_roc_auc\n",
    "\n",
    "from src.models.performance import score_null_model"
   ]
  },
  {
   "cell_type": "markdown",
   "id": "fef5c1be-7dd6-4f0a-a795-7ed8df3d8a10",
   "metadata": {},
   "source": [
    "**[1.3]** Task: Automatically Reload Modules"
   ]
  },
  {
   "cell_type": "code",
   "execution_count": 3,
   "id": "703ec031-0c48-42a6-8ee7-6f3f115d5f0d",
   "metadata": {},
   "outputs": [],
   "source": [
    "# Automatically reload modules\n",
    "%load_ext autoreload\n",
    "%autoreload 2"
   ]
  },
  {
   "cell_type": "markdown",
   "id": "5e208409-c7d7-47d5-904a-840e8b6ede0e",
   "metadata": {},
   "source": [
    "**[1.3]** Task: Load Processed Data"
   ]
  },
  {
   "cell_type": "code",
   "execution_count": 4,
   "id": "bde035d8-2c87-4e06-9c29-2caa2f097449",
   "metadata": {},
   "outputs": [],
   "source": [
    "X_train, y_train, X_val, y_val, X_test, y_test = load_sets(path='data/processed/', val=False)"
   ]
  },
  {
   "cell_type": "markdown",
   "id": "cab31dbb-e054-432b-9da0-2f191650418c",
   "metadata": {},
   "source": [
    "## 3. Create Baseline Model"
   ]
  },
  {
   "cell_type": "markdown",
   "id": "9bd312b4-9221-42e2-8855-ba0862a7abf8",
   "metadata": {},
   "source": [
    "**[3.1]** Task: Find the mode of the target variable and print it's value"
   ]
  },
  {
   "cell_type": "code",
   "execution_count": 5,
   "id": "9f5f4fb7-4e9d-4853-b099-45291abbcd92",
   "metadata": {},
   "outputs": [],
   "source": [
    "base_model = NullModel(target_type=\"classification\")"
   ]
  },
  {
   "cell_type": "code",
   "execution_count": 6,
   "id": "1c2a25d3-8f1e-4f50-b742-6712fb71b99a",
   "metadata": {},
   "outputs": [],
   "source": [
    "y_base = base_model.fit_predict(y_train)"
   ]
  },
  {
   "cell_type": "code",
   "execution_count": 7,
   "id": "facc447a-7883-45a1-b406-711841c9e32d",
   "metadata": {},
   "outputs": [
    {
     "data": {
      "text/html": [
       "<div>\n",
       "<style scoped>\n",
       "    .dataframe tbody tr th:only-of-type {\n",
       "        vertical-align: middle;\n",
       "    }\n",
       "\n",
       "    .dataframe tbody tr th {\n",
       "        vertical-align: top;\n",
       "    }\n",
       "\n",
       "    .dataframe thead th {\n",
       "        text-align: right;\n",
       "    }\n",
       "</style>\n",
       "<table border=\"1\" class=\"dataframe\">\n",
       "  <thead>\n",
       "    <tr style=\"text-align: right;\">\n",
       "      <th></th>\n",
       "      <th>Set Name</th>\n",
       "      <th>ACC</th>\n",
       "      <th>MSE</th>\n",
       "      <th>MAE</th>\n",
       "      <th>PREC</th>\n",
       "      <th>RECALL</th>\n",
       "      <th>F1</th>\n",
       "      <th>AUC</th>\n",
       "    </tr>\n",
       "  </thead>\n",
       "  <tbody>\n",
       "    <tr>\n",
       "      <th>0</th>\n",
       "      <td>Base</td>\n",
       "      <td>0.833594</td>\n",
       "      <td>0.407929</td>\n",
       "      <td>0.166406</td>\n",
       "      <td>1.0</td>\n",
       "      <td>0.833594</td>\n",
       "      <td>0.909246</td>\n",
       "      <td>None</td>\n",
       "    </tr>\n",
       "  </tbody>\n",
       "</table>\n",
       "</div>"
      ],
      "text/plain": [
       "  Set Name       ACC       MSE       MAE  PREC    RECALL        F1   AUC\n",
       "0     Base  0.833594  0.407929  0.166406   1.0  0.833594  0.909246  None"
      ]
     },
     "execution_count": 7,
     "metadata": {},
     "output_type": "execute_result"
    }
   ],
   "source": [
    "score_null_model(y_train = y_train, y_base = y_base, set_name=\"Base\")"
   ]
  },
  {
   "cell_type": "markdown",
   "id": "5c50b1f4-aa1c-4888-a1cb-5999529e36a0",
   "metadata": {},
   "source": [
    "The null accuracy is 83.35%\n",
    "If we predict 1, we'll be correct 83.35% of the time"
   ]
  },
  {
   "cell_type": "markdown",
   "id": "eaf47a54-da6e-400d-9374-cf8a3aa0816c",
   "metadata": {},
   "source": [
    "## 4. Logistic Regression - Hyperparameter Tuning with Grid Search and KFold"
   ]
  },
  {
   "cell_type": "markdown",
   "id": "31018efc-3693-4388-904b-a9adb273560f",
   "metadata": {},
   "source": [
    "Train Logistic Regression Algorithm\n",
    "\n",
    "1.   Use Grid Search to tune Hyper Parameters\n",
    "2.   Use KFold with 5 Splits\n",
    "3.   Fit Algorithm"
   ]
  },
  {
   "cell_type": "markdown",
   "id": "2fb063f6-55c6-41e1-bfd4-4323de13b253",
   "metadata": {},
   "source": [
    "**[4.1]** Create a dictionary containing the Randomized Grid Search Parameters"
   ]
  },
  {
   "cell_type": "code",
   "execution_count": 8,
   "id": "fa4ddc29-7a5b-4d18-8f58-5d2add6c90f8",
   "metadata": {},
   "outputs": [],
   "source": [
    "# Linear Regression Random Grid Parameters\n",
    "# Class Weight\n",
    "class_weight = ['balanced']\n",
    "# Penalty\n",
    "penalty = ['none','l2','l1','elasticnet']\n",
    "# Solver\n",
    "solver = ['liblinear','lbfgs']\n",
    "# max_iter\n",
    "max_iter = [1000]\n",
    "\n",
    "random_grid = {'class_weight': class_weight,\n",
    "               'penalty':penalty,\n",
    "               'solver':solver,\n",
    "               'max_iter':max_iter\n",
    "               }\n",
    "\n"
   ]
  },
  {
   "cell_type": "code",
   "execution_count": 9,
   "id": "40bf00ac-9ef7-4de4-9500-58e1396d8cf6",
   "metadata": {},
   "outputs": [
    {
     "data": {
      "text/plain": [
       "{'class_weight': ['balanced'],\n",
       " 'penalty': ['none', 'l2', 'l1', 'elasticnet'],\n",
       " 'solver': ['liblinear', 'lbfgs'],\n",
       " 'max_iter': [1000]}"
      ]
     },
     "execution_count": 9,
     "metadata": {},
     "output_type": "execute_result"
    }
   ],
   "source": [
    "random_grid"
   ]
  },
  {
   "cell_type": "markdown",
   "id": "ccf85da9-4853-408e-b7d2-cbc4179433ef",
   "metadata": {},
   "source": [
    "**[4.2]** Task: Create RF Model, and use Randomized Search to find GridSearch range"
   ]
  },
  {
   "cell_type": "code",
   "execution_count": 10,
   "id": "896d1e2d-c082-4e56-8648-c9b07256def3",
   "metadata": {},
   "outputs": [],
   "source": [
    "lr_base = LR()\n",
    "lr_random = RandomizedSearchCV(estimator = lr_base,\n",
    "                               param_distributions = random_grid,\n",
    "                               n_iter = 500, \n",
    "                               cv = 5,\n",
    "                               verbose=2,\n",
    "                               random_state=8, \n",
    "                               n_jobs = 4)"
   ]
  },
  {
   "cell_type": "markdown",
   "id": "57fb7bed-4a4e-44bb-9767-3f8944b91502",
   "metadata": {},
   "source": [
    "**[4.3]** Train Model"
   ]
  },
  {
   "cell_type": "code",
   "execution_count": 11,
   "id": "8a3a61fc-9a67-4788-82b5-4d42d91ac5a6",
   "metadata": {},
   "outputs": [
    {
     "name": "stdout",
     "output_type": "stream",
     "text": [
      "Fitting 5 folds for each of 8 candidates, totalling 40 fits\n"
     ]
    },
    {
     "name": "stderr",
     "output_type": "stream",
     "text": [
      "/opt/conda/lib/python3.9/site-packages/sklearn/model_selection/_search.py:292: UserWarning: The total space of parameters 8 is smaller than n_iter=500. Running 8 iterations. For exhaustive searches, use GridSearchCV.\n",
      "  warnings.warn(\n",
      "/opt/conda/lib/python3.9/site-packages/sklearn/model_selection/_validation.py:372: FitFailedWarning: \n",
      "20 fits failed out of a total of 40.\n",
      "The score on these train-test partitions for these parameters will be set to nan.\n",
      "If these failures are not expected, you can try to debug them by setting error_score='raise'.\n",
      "\n",
      "Below are more details about the failures:\n",
      "--------------------------------------------------------------------------------\n",
      "5 fits failed with the following error:\n",
      "Traceback (most recent call last):\n",
      "  File \"/opt/conda/lib/python3.9/site-packages/sklearn/model_selection/_validation.py\", line 680, in _fit_and_score\n",
      "    estimator.fit(X_train, y_train, **fit_params)\n",
      "  File \"/opt/conda/lib/python3.9/site-packages/sklearn/linear_model/_logistic.py\", line 1461, in fit\n",
      "    solver = _check_solver(self.solver, self.penalty, self.dual)\n",
      "  File \"/opt/conda/lib/python3.9/site-packages/sklearn/linear_model/_logistic.py\", line 464, in _check_solver\n",
      "    raise ValueError(\"penalty='none' is not supported for the liblinear solver\")\n",
      "ValueError: penalty='none' is not supported for the liblinear solver\n",
      "\n",
      "--------------------------------------------------------------------------------\n",
      "5 fits failed with the following error:\n",
      "Traceback (most recent call last):\n",
      "  File \"/opt/conda/lib/python3.9/site-packages/sklearn/model_selection/_validation.py\", line 680, in _fit_and_score\n",
      "    estimator.fit(X_train, y_train, **fit_params)\n",
      "  File \"/opt/conda/lib/python3.9/site-packages/sklearn/linear_model/_logistic.py\", line 1461, in fit\n",
      "    solver = _check_solver(self.solver, self.penalty, self.dual)\n",
      "  File \"/opt/conda/lib/python3.9/site-packages/sklearn/linear_model/_logistic.py\", line 447, in _check_solver\n",
      "    raise ValueError(\n",
      "ValueError: Solver lbfgs supports only 'l2' or 'none' penalties, got l1 penalty.\n",
      "\n",
      "--------------------------------------------------------------------------------\n",
      "5 fits failed with the following error:\n",
      "Traceback (most recent call last):\n",
      "  File \"/opt/conda/lib/python3.9/site-packages/sklearn/model_selection/_validation.py\", line 680, in _fit_and_score\n",
      "    estimator.fit(X_train, y_train, **fit_params)\n",
      "  File \"/opt/conda/lib/python3.9/site-packages/sklearn/linear_model/_logistic.py\", line 1461, in fit\n",
      "    solver = _check_solver(self.solver, self.penalty, self.dual)\n",
      "  File \"/opt/conda/lib/python3.9/site-packages/sklearn/linear_model/_logistic.py\", line 457, in _check_solver\n",
      "    raise ValueError(\n",
      "ValueError: Only 'saga' solver supports elasticnet penalty, got solver=liblinear.\n",
      "\n",
      "--------------------------------------------------------------------------------\n",
      "5 fits failed with the following error:\n",
      "Traceback (most recent call last):\n",
      "  File \"/opt/conda/lib/python3.9/site-packages/sklearn/model_selection/_validation.py\", line 680, in _fit_and_score\n",
      "    estimator.fit(X_train, y_train, **fit_params)\n",
      "  File \"/opt/conda/lib/python3.9/site-packages/sklearn/linear_model/_logistic.py\", line 1461, in fit\n",
      "    solver = _check_solver(self.solver, self.penalty, self.dual)\n",
      "  File \"/opt/conda/lib/python3.9/site-packages/sklearn/linear_model/_logistic.py\", line 447, in _check_solver\n",
      "    raise ValueError(\n",
      "ValueError: Solver lbfgs supports only 'l2' or 'none' penalties, got elasticnet penalty.\n",
      "\n",
      "  warnings.warn(some_fits_failed_message, FitFailedWarning)\n",
      "/opt/conda/lib/python3.9/site-packages/sklearn/model_selection/_search.py:969: UserWarning: One or more of the test scores are non-finite: [       nan 0.64296875 0.64234375 0.64234375 0.64109375        nan\n",
      "        nan        nan]\n",
      "  warnings.warn(\n"
     ]
    },
    {
     "name": "stdout",
     "output_type": "stream",
     "text": [
      "{'solver': 'lbfgs', 'penalty': 'none', 'max_iter': 1000, 'class_weight': 'balanced'}\n"
     ]
    }
   ],
   "source": [
    "lr_random.fit(X_train, y_train.ravel())\n",
    "\n",
    "# Beep when completed\n",
    "# beep_when_done()\n",
    "\n",
    "print(lr_random.best_params_)"
   ]
  },
  {
   "cell_type": "markdown",
   "id": "7395b8e3-9d5f-43da-8723-8825d5747789",
   "metadata": {},
   "source": [
    "\"print(lr_random.best_params_)\"\n",
    "\n",
    "{'solver': 'lbfgs', 'penalty': 'l2', 'max_iter': 500, 'class_weight': 'balanced'}"
   ]
  },
  {
   "cell_type": "code",
   "execution_count": 12,
   "id": "5db57386-8114-4dcd-97aa-681765fac8e2",
   "metadata": {},
   "outputs": [],
   "source": [
    "lr_best = LR(solver='lbfgs', penalty='l2', max_iter=500, class_weight='balanced').fit(X_train, y_train.ravel())"
   ]
  },
  {
   "cell_type": "code",
   "execution_count": 13,
   "id": "f261f3f1-aaf9-4bb6-b239-cdb719993efa",
   "metadata": {},
   "outputs": [
    {
     "data": {
      "text/html": [
       "<div>\n",
       "<style scoped>\n",
       "    .dataframe tbody tr th:only-of-type {\n",
       "        vertical-align: middle;\n",
       "    }\n",
       "\n",
       "    .dataframe tbody tr th {\n",
       "        vertical-align: top;\n",
       "    }\n",
       "\n",
       "    .dataframe thead th {\n",
       "        text-align: right;\n",
       "    }\n",
       "</style>\n",
       "<table border=\"1\" class=\"dataframe\">\n",
       "  <thead>\n",
       "    <tr style=\"text-align: right;\">\n",
       "      <th></th>\n",
       "      <th>Set Name</th>\n",
       "      <th>ACC</th>\n",
       "      <th>MSE</th>\n",
       "      <th>MAE</th>\n",
       "      <th>PREC</th>\n",
       "      <th>RECALL</th>\n",
       "      <th>F1</th>\n",
       "      <th>AUC</th>\n",
       "    </tr>\n",
       "  </thead>\n",
       "  <tbody>\n",
       "    <tr>\n",
       "      <th>0</th>\n",
       "      <td>Base</td>\n",
       "      <td>0.833594</td>\n",
       "      <td>0.407929</td>\n",
       "      <td>0.166406</td>\n",
       "      <td>1.000000</td>\n",
       "      <td>0.833594</td>\n",
       "      <td>0.909246</td>\n",
       "      <td>None</td>\n",
       "    </tr>\n",
       "    <tr>\n",
       "      <th>1</th>\n",
       "      <td>Train</td>\n",
       "      <td>0.645938</td>\n",
       "      <td>0.595032</td>\n",
       "      <td>0.354063</td>\n",
       "      <td>0.901386</td>\n",
       "      <td>0.645923</td>\n",
       "      <td>0.752566</td>\n",
       "      <td>0.704423</td>\n",
       "    </tr>\n",
       "    <tr>\n",
       "      <th>2</th>\n",
       "      <td>Validate</td>\n",
       "      <td>0.656250</td>\n",
       "      <td>0.586302</td>\n",
       "      <td>0.343750</td>\n",
       "      <td>0.898374</td>\n",
       "      <td>0.662669</td>\n",
       "      <td>0.762726</td>\n",
       "      <td>0.696391</td>\n",
       "    </tr>\n",
       "  </tbody>\n",
       "</table>\n",
       "</div>"
      ],
      "text/plain": [
       "   Set Name       ACC       MSE       MAE      PREC    RECALL        F1  \\\n",
       "0      Base  0.833594  0.407929  0.166406  1.000000  0.833594  0.909246   \n",
       "1     Train  0.645938  0.595032  0.354063  0.901386  0.645923  0.752566   \n",
       "2  Validate  0.656250  0.586302  0.343750  0.898374  0.662669  0.762726   \n",
       "\n",
       "        AUC  \n",
       "0      None  \n",
       "1  0.704423  \n",
       "2  0.696391  "
      ]
     },
     "metadata": {},
     "output_type": "display_data"
    }
   ],
   "source": [
    "score_models(X_train = X_train, y_train = y_train, X_val = X_val, y_val = y_val, y_base = y_base, includeBase = True, model = lr_best)"
   ]
  },
  {
   "cell_type": "markdown",
   "id": "6583af27-1abb-4fb2-a96f-ac341f6a90cb",
   "metadata": {},
   "source": [
    "**Observation** Training Model is overfitting"
   ]
  },
  {
   "cell_type": "markdown",
   "id": "337ffca3-08e8-4d53-a70e-c3f00e57ab61",
   "metadata": {},
   "source": [
    "**[4.5]** Tune Hyperparameters to better reduce overfitting.\n",
    "\n",
    "1. Increase Max Iterations = 1000\n",
    "2. Penalty = l2"
   ]
  },
  {
   "cell_type": "code",
   "execution_count": 14,
   "id": "6862fd22-23d5-4cec-8697-c3a9abcd21ce",
   "metadata": {},
   "outputs": [
    {
     "name": "stderr",
     "output_type": "stream",
     "text": [
      "/opt/conda/lib/python3.9/site-packages/sklearn/utils/validation.py:993: DataConversionWarning: A column-vector y was passed when a 1d array was expected. Please change the shape of y to (n_samples, ), for example using ravel().\n",
      "  y = column_or_1d(y, warn=True)\n"
     ]
    }
   ],
   "source": [
    "lr_best_1 = LR(solver='lbfgs', penalty='l2', max_iter=1000, class_weight='balanced').fit(X_train, y_train)"
   ]
  },
  {
   "cell_type": "code",
   "execution_count": 15,
   "id": "53b8b44e-2670-4049-9a72-f51adaca55f2",
   "metadata": {},
   "outputs": [
    {
     "data": {
      "text/html": [
       "<div>\n",
       "<style scoped>\n",
       "    .dataframe tbody tr th:only-of-type {\n",
       "        vertical-align: middle;\n",
       "    }\n",
       "\n",
       "    .dataframe tbody tr th {\n",
       "        vertical-align: top;\n",
       "    }\n",
       "\n",
       "    .dataframe thead th {\n",
       "        text-align: right;\n",
       "    }\n",
       "</style>\n",
       "<table border=\"1\" class=\"dataframe\">\n",
       "  <thead>\n",
       "    <tr style=\"text-align: right;\">\n",
       "      <th></th>\n",
       "      <th>Set Name</th>\n",
       "      <th>ACC</th>\n",
       "      <th>MSE</th>\n",
       "      <th>MAE</th>\n",
       "      <th>PREC</th>\n",
       "      <th>RECALL</th>\n",
       "      <th>F1</th>\n",
       "      <th>AUC</th>\n",
       "    </tr>\n",
       "  </thead>\n",
       "  <tbody>\n",
       "    <tr>\n",
       "      <th>0</th>\n",
       "      <td>Base</td>\n",
       "      <td>0.833594</td>\n",
       "      <td>0.407929</td>\n",
       "      <td>0.166406</td>\n",
       "      <td>1.000000</td>\n",
       "      <td>0.833594</td>\n",
       "      <td>0.909246</td>\n",
       "      <td>None</td>\n",
       "    </tr>\n",
       "    <tr>\n",
       "      <th>1</th>\n",
       "      <td>Train</td>\n",
       "      <td>0.645938</td>\n",
       "      <td>0.595032</td>\n",
       "      <td>0.354063</td>\n",
       "      <td>0.901386</td>\n",
       "      <td>0.645923</td>\n",
       "      <td>0.752566</td>\n",
       "      <td>0.704423</td>\n",
       "    </tr>\n",
       "    <tr>\n",
       "      <th>2</th>\n",
       "      <td>Validate</td>\n",
       "      <td>0.656250</td>\n",
       "      <td>0.586302</td>\n",
       "      <td>0.343750</td>\n",
       "      <td>0.898374</td>\n",
       "      <td>0.662669</td>\n",
       "      <td>0.762726</td>\n",
       "      <td>0.696391</td>\n",
       "    </tr>\n",
       "  </tbody>\n",
       "</table>\n",
       "</div>"
      ],
      "text/plain": [
       "   Set Name       ACC       MSE       MAE      PREC    RECALL        F1  \\\n",
       "0      Base  0.833594  0.407929  0.166406  1.000000  0.833594  0.909246   \n",
       "1     Train  0.645938  0.595032  0.354063  0.901386  0.645923  0.752566   \n",
       "2  Validate  0.656250  0.586302  0.343750  0.898374  0.662669  0.762726   \n",
       "\n",
       "        AUC  \n",
       "0      None  \n",
       "1  0.704423  \n",
       "2  0.696391  "
      ]
     },
     "metadata": {},
     "output_type": "display_data"
    }
   ],
   "source": [
    "score_models(X_train = X_train, y_train = y_train, X_val = X_val, y_val = y_val, y_base = y_base, includeBase = True, model = lr_best_1)"
   ]
  },
  {
   "cell_type": "markdown",
   "id": "eaee372e-8dfa-4c36-8d21-9b0dacd3316a",
   "metadata": {},
   "source": [
    "**Observations**\n",
    "* Validation Dataset is not performing well for the model, indicating Model is overfitting on Train Dataset"
   ]
  },
  {
   "cell_type": "markdown",
   "id": "fcfdcef8-beaa-4684-a117-8fecd0cf715e",
   "metadata": {},
   "source": [
    "**[4.5.2]** Task: Attempt to use None Penalty"
   ]
  },
  {
   "cell_type": "code",
   "execution_count": 16,
   "id": "6e3bf92f-baa4-40db-a57b-3177460a0d97",
   "metadata": {},
   "outputs": [],
   "source": [
    "lr_best_2 = LR(solver='lbfgs', penalty='none', max_iter=1000, class_weight='balanced').fit(X_train, y_train.ravel())"
   ]
  },
  {
   "cell_type": "code",
   "execution_count": 17,
   "id": "a5a410e4-4025-413f-bc1b-026f986115a3",
   "metadata": {},
   "outputs": [
    {
     "data": {
      "text/html": [
       "<div>\n",
       "<style scoped>\n",
       "    .dataframe tbody tr th:only-of-type {\n",
       "        vertical-align: middle;\n",
       "    }\n",
       "\n",
       "    .dataframe tbody tr th {\n",
       "        vertical-align: top;\n",
       "    }\n",
       "\n",
       "    .dataframe thead th {\n",
       "        text-align: right;\n",
       "    }\n",
       "</style>\n",
       "<table border=\"1\" class=\"dataframe\">\n",
       "  <thead>\n",
       "    <tr style=\"text-align: right;\">\n",
       "      <th></th>\n",
       "      <th>Set Name</th>\n",
       "      <th>ACC</th>\n",
       "      <th>MSE</th>\n",
       "      <th>MAE</th>\n",
       "      <th>PREC</th>\n",
       "      <th>RECALL</th>\n",
       "      <th>F1</th>\n",
       "      <th>AUC</th>\n",
       "    </tr>\n",
       "  </thead>\n",
       "  <tbody>\n",
       "    <tr>\n",
       "      <th>0</th>\n",
       "      <td>Base</td>\n",
       "      <td>0.833594</td>\n",
       "      <td>0.407929</td>\n",
       "      <td>0.166406</td>\n",
       "      <td>1.000000</td>\n",
       "      <td>0.833594</td>\n",
       "      <td>0.909246</td>\n",
       "      <td>None</td>\n",
       "    </tr>\n",
       "    <tr>\n",
       "      <th>1</th>\n",
       "      <td>Train</td>\n",
       "      <td>0.645625</td>\n",
       "      <td>0.595294</td>\n",
       "      <td>0.354375</td>\n",
       "      <td>0.901335</td>\n",
       "      <td>0.645548</td>\n",
       "      <td>0.752294</td>\n",
       "      <td>0.704394</td>\n",
       "    </tr>\n",
       "    <tr>\n",
       "      <th>2</th>\n",
       "      <td>Validate</td>\n",
       "      <td>0.656250</td>\n",
       "      <td>0.586302</td>\n",
       "      <td>0.343750</td>\n",
       "      <td>0.898374</td>\n",
       "      <td>0.662669</td>\n",
       "      <td>0.762726</td>\n",
       "      <td>0.696309</td>\n",
       "    </tr>\n",
       "  </tbody>\n",
       "</table>\n",
       "</div>"
      ],
      "text/plain": [
       "   Set Name       ACC       MSE       MAE      PREC    RECALL        F1  \\\n",
       "0      Base  0.833594  0.407929  0.166406  1.000000  0.833594  0.909246   \n",
       "1     Train  0.645625  0.595294  0.354375  0.901335  0.645548  0.752294   \n",
       "2  Validate  0.656250  0.586302  0.343750  0.898374  0.662669  0.762726   \n",
       "\n",
       "        AUC  \n",
       "0      None  \n",
       "1  0.704394  \n",
       "2  0.696309  "
      ]
     },
     "metadata": {},
     "output_type": "display_data"
    }
   ],
   "source": [
    "score_models(X_train = X_train, y_train = y_train, X_val = X_val, y_val = y_val, y_base = y_base, includeBase = True, model = lr_best_2)"
   ]
  },
  {
   "cell_type": "markdown",
   "id": "b2a65e6a-2fcc-416b-9d56-e2fabbcdae06",
   "metadata": {},
   "source": [
    "**[4.5.3]** Task: Attempt to use liblinear solver and L1 Penalty"
   ]
  },
  {
   "cell_type": "code",
   "execution_count": 18,
   "id": "0100074c-bad8-46c9-b8f1-4af493375412",
   "metadata": {},
   "outputs": [],
   "source": [
    "lr_best_3 = LR(solver='liblinear', penalty='l1', max_iter=1000, class_weight='balanced').fit(X_train, y_train.ravel())"
   ]
  },
  {
   "cell_type": "code",
   "execution_count": 19,
   "id": "05ace13f-ecc0-4dfa-89fd-67cbecb1bdde",
   "metadata": {},
   "outputs": [
    {
     "data": {
      "text/html": [
       "<div>\n",
       "<style scoped>\n",
       "    .dataframe tbody tr th:only-of-type {\n",
       "        vertical-align: middle;\n",
       "    }\n",
       "\n",
       "    .dataframe tbody tr th {\n",
       "        vertical-align: top;\n",
       "    }\n",
       "\n",
       "    .dataframe thead th {\n",
       "        text-align: right;\n",
       "    }\n",
       "</style>\n",
       "<table border=\"1\" class=\"dataframe\">\n",
       "  <thead>\n",
       "    <tr style=\"text-align: right;\">\n",
       "      <th></th>\n",
       "      <th>Set Name</th>\n",
       "      <th>ACC</th>\n",
       "      <th>MSE</th>\n",
       "      <th>MAE</th>\n",
       "      <th>PREC</th>\n",
       "      <th>RECALL</th>\n",
       "      <th>F1</th>\n",
       "      <th>AUC</th>\n",
       "    </tr>\n",
       "  </thead>\n",
       "  <tbody>\n",
       "    <tr>\n",
       "      <th>0</th>\n",
       "      <td>Base</td>\n",
       "      <td>0.833594</td>\n",
       "      <td>0.407929</td>\n",
       "      <td>0.166406</td>\n",
       "      <td>1.000000</td>\n",
       "      <td>0.833594</td>\n",
       "      <td>0.909246</td>\n",
       "      <td>None</td>\n",
       "    </tr>\n",
       "    <tr>\n",
       "      <th>1</th>\n",
       "      <td>Train</td>\n",
       "      <td>0.645312</td>\n",
       "      <td>0.595556</td>\n",
       "      <td>0.354687</td>\n",
       "      <td>0.901493</td>\n",
       "      <td>0.644986</td>\n",
       "      <td>0.751967</td>\n",
       "      <td>0.704525</td>\n",
       "    </tr>\n",
       "    <tr>\n",
       "      <th>2</th>\n",
       "      <td>Validate</td>\n",
       "      <td>0.656250</td>\n",
       "      <td>0.586302</td>\n",
       "      <td>0.343750</td>\n",
       "      <td>0.897566</td>\n",
       "      <td>0.663418</td>\n",
       "      <td>0.762931</td>\n",
       "      <td>0.696667</td>\n",
       "    </tr>\n",
       "  </tbody>\n",
       "</table>\n",
       "</div>"
      ],
      "text/plain": [
       "   Set Name       ACC       MSE       MAE      PREC    RECALL        F1  \\\n",
       "0      Base  0.833594  0.407929  0.166406  1.000000  0.833594  0.909246   \n",
       "1     Train  0.645312  0.595556  0.354687  0.901493  0.644986  0.751967   \n",
       "2  Validate  0.656250  0.586302  0.343750  0.897566  0.663418  0.762931   \n",
       "\n",
       "        AUC  \n",
       "0      None  \n",
       "1  0.704525  \n",
       "2  0.696667  "
      ]
     },
     "metadata": {},
     "output_type": "display_data"
    }
   ],
   "source": [
    "score_models(X_train = X_train, y_train = y_train, X_val = X_val, y_val = y_val, y_base = y_base, includeBase = True, model = lr_best_3)"
   ]
  },
  {
   "cell_type": "markdown",
   "id": "6a9f1c58-6a3c-4b56-9178-d6bb15e870a8",
   "metadata": {},
   "source": [
    "**[4.6]** Task: Plot Confusion Matrix\n",
    "\n",
    "Identify how well the model is performing at predicting the outcome"
   ]
  },
  {
   "cell_type": "code",
   "execution_count": 20,
   "id": "13e1920e-1b73-404c-9178-527163e29f01",
   "metadata": {},
   "outputs": [
    {
     "name": "stdout",
     "output_type": "stream",
     "text": [
      "Train - Confusion matrix, without normalization\n",
      "[[ 688  377]\n",
      " [1889 3446]]\n",
      "Train - Normalized confusion matrix\n",
      "[[0.64600939 0.35399061]\n",
      " [0.35407685 0.64592315]]\n",
      "Validate - Confusion matrix, without normalization\n",
      "[[166 100]\n",
      " [450 884]]\n",
      "Validate - Normalized confusion matrix\n",
      "[[0.62406015 0.37593985]\n",
      " [0.33733133 0.66266867]]\n"
     ]
    },
    {
     "data": {
      "image/png": "[encoded data removed]",
      "text/plain": [
       "<Figure size 432x288 with 2 Axes>"
      ]
     },
     "metadata": {
      "needs_background": "light"
     },
     "output_type": "display_data"
    },
    {
     "data": {
      "image/png": "[encoded data removed]",
      "text/plain": [
       "<Figure size 432x288 with 2 Axes>"
      ]
     },
     "metadata": {
      "needs_background": "light"
     },
     "output_type": "display_data"
    },
    {
     "data": {
      "image/png": "[encoded data removed]",
      "text/plain": [
       "<Figure size 432x288 with 2 Axes>"
      ]
     },
     "metadata": {
      "needs_background": "light"
     },
     "output_type": "display_data"
    },
    {
     "data": {
      "image/png": "[encoded data removed]",
      "text/plain": [
       "<Figure size 432x288 with 2 Axes>"
      ]
     },
     "metadata": {
      "needs_background": "light"
     },
     "output_type": "display_data"
    }
   ],
   "source": [
    "plot_confusion_matrix_full(model = lr_best_1 ,X_train = X_train, y_train = y_train, X_val = X_val, y_val = y_val)"
   ]
  },
  {
   "cell_type": "markdown",
   "id": "e27fe1b7-c5fd-403e-abe0-dd45e0c23c9a",
   "metadata": {},
   "source": [
    "**Observation** Both Models is predicting alot of False Positives (FP) in both training and validation datasets"
   ]
  },
  {
   "cell_type": "markdown",
   "id": "013db129-34d0-4bda-ab01-de28ced9f900",
   "metadata": {},
   "source": [
    "**[4.7]** Task: Calculate AUROC"
   ]
  },
  {
   "cell_type": "code",
   "execution_count": 21,
   "id": "d9fc1685-7dea-4391-b1c5-df33ac3dabee",
   "metadata": {},
   "outputs": [
    {
     "data": {
      "text/html": [
       "<div>\n",
       "<style scoped>\n",
       "    .dataframe tbody tr th:only-of-type {\n",
       "        vertical-align: middle;\n",
       "    }\n",
       "\n",
       "    .dataframe tbody tr th {\n",
       "        vertical-align: top;\n",
       "    }\n",
       "\n",
       "    .dataframe thead th {\n",
       "        text-align: right;\n",
       "    }\n",
       "</style>\n",
       "<table border=\"1\" class=\"dataframe\">\n",
       "  <thead>\n",
       "    <tr style=\"text-align: right;\">\n",
       "      <th></th>\n",
       "      <th>Set Name</th>\n",
       "      <th>ACC</th>\n",
       "      <th>MSE</th>\n",
       "      <th>MAE</th>\n",
       "      <th>PREC</th>\n",
       "      <th>RECALL</th>\n",
       "      <th>F1</th>\n",
       "      <th>AUC</th>\n",
       "    </tr>\n",
       "  </thead>\n",
       "  <tbody>\n",
       "    <tr>\n",
       "      <th>0</th>\n",
       "      <td>Train</td>\n",
       "      <td>0.645938</td>\n",
       "      <td>0.595032</td>\n",
       "      <td>0.354063</td>\n",
       "      <td>0.901386</td>\n",
       "      <td>0.645923</td>\n",
       "      <td>0.752566</td>\n",
       "      <td>0.704423</td>\n",
       "    </tr>\n",
       "    <tr>\n",
       "      <th>1</th>\n",
       "      <td>Validate</td>\n",
       "      <td>0.656250</td>\n",
       "      <td>0.586302</td>\n",
       "      <td>0.343750</td>\n",
       "      <td>0.898374</td>\n",
       "      <td>0.662669</td>\n",
       "      <td>0.762726</td>\n",
       "      <td>0.696391</td>\n",
       "    </tr>\n",
       "  </tbody>\n",
       "</table>\n",
       "</div>"
      ],
      "text/plain": [
       "   Set Name       ACC       MSE       MAE      PREC    RECALL        F1  \\\n",
       "0     Train  0.645938  0.595032  0.354063  0.901386  0.645923  0.752566   \n",
       "1  Validate  0.656250  0.586302  0.343750  0.898374  0.662669  0.762726   \n",
       "\n",
       "        AUC  \n",
       "0  0.704423  \n",
       "1  0.696391  "
      ]
     },
     "metadata": {},
     "output_type": "display_data"
    }
   ],
   "source": [
    "score_models(X_train = X_train, y_train = y_train, X_val = X_val, y_val = y_val, y_base = y_base, includeBase = False, model = lr_best_1)"
   ]
  },
  {
   "cell_type": "markdown",
   "id": "068089aa-40a3-4c19-8bd6-dcd5aac6d9b2",
   "metadata": {},
   "source": [
    "**Observations** \n",
    "* Training Dataset has a AUROC prediction 0.710\n",
    "* Validation Dataset has a poor AUROC prediction 0.701. This indicates the model is fitting reasonably well on unseen data\n",
    "* The finaly Kaggle result AUROC 0.71174 - Best Personal Result (0.71246 24FEB2022)"
   ]
  },
  {
   "cell_type": "markdown",
   "id": "0b648fb8-751e-4752-82e1-2806031c9c3c",
   "metadata": {},
   "source": [
    "## 5. Plot AUC"
   ]
  },
  {
   "cell_type": "code",
   "execution_count": 22,
   "id": "9c8ea513-7128-4dc0-a4a3-3a549d528811",
   "metadata": {},
   "outputs": [
    {
     "data": {
      "image/png": "[encoded data removed]",
      "text/plain": [
       "<Figure size 700x500 with 1 Axes>"
      ]
     },
     "metadata": {
      "needs_background": "light"
     },
     "output_type": "display_data"
    },
    {
     "data": {
      "image/png": "[encoded data removed]",
      "text/plain": [
       "<Figure size 700x500 with 1 Axes>"
      ]
     },
     "metadata": {
      "needs_background": "light"
     },
     "output_type": "display_data"
    }
   ],
   "source": [
    "plot_roc_auc(X_train = X_train, y_train = y_train, X_val = X_val, y_val = y_val, model = lr_best_1)"
   ]
  },
  {
   "cell_type": "markdown",
   "id": "7a237f02-5980-4373-bcb1-068cfb89c3e3",
   "metadata": {},
   "source": [
    "Correlation between X and y"
   ]
  },
  {
   "cell_type": "markdown",
   "id": "f0fcdf46-0db9-449b-beab-7a335d13354c",
   "metadata": {},
   "source": [
    "## 6. Logistic Regression - Kaggle Competition Preparation"
   ]
  },
  {
   "cell_type": "markdown",
   "id": "95ac6bdf-49de-430a-a810-523fda2ca663",
   "metadata": {},
   "source": [
    "**[6.1]** Prepare Kaggle Input File using lr_best_1 Logistic Regression"
   ]
  },
  {
   "cell_type": "code",
   "execution_count": 23,
   "id": "4177fbec-fdcb-4d7e-a822-3aca6d16cd38",
   "metadata": {},
   "outputs": [],
   "source": [
    "# File URLs\n",
    "file_path_test= \"data/raw/test.csv\"\n",
    "\n",
    "# Load files into df_training and df_validation data frames\n",
    "df_test = pd.read_csv(file_path_test)"
   ]
  },
  {
   "cell_type": "code",
   "execution_count": 24,
   "id": "eb8779e6-30a6-4351-b417-75af0c5d7060",
   "metadata": {},
   "outputs": [],
   "source": [
    "# Drop Target and ID for X, and create target from y\n",
    "X_test_id = df_test['Id']"
   ]
  },
  {
   "cell_type": "markdown",
   "id": "3b0a1642-e83d-4784-94f7-c89057829fbc",
   "metadata": {},
   "source": [
    "**[6.2]** Check Test Dataset is ready for predicting"
   ]
  },
  {
   "cell_type": "code",
   "execution_count": 25,
   "id": "2ff4404e-4433-43fe-8e5c-f1d3da4e7cd0",
   "metadata": {},
   "outputs": [
    {
     "data": {
      "text/plain": [
       "(3799, 43)"
      ]
     },
     "execution_count": 25,
     "metadata": {},
     "output_type": "execute_result"
    }
   ],
   "source": [
    "X_test.shape"
   ]
  },
  {
   "cell_type": "markdown",
   "id": "83c4ef83-1e64-453b-9dca-d358aa3c5486",
   "metadata": {},
   "source": [
    "**[6.3]** Create y Prediction using the Test Dataset"
   ]
  },
  {
   "cell_type": "code",
   "execution_count": 26,
   "id": "bd8c1325-8ae1-4a06-a435-5f42bb6cdce4",
   "metadata": {},
   "outputs": [],
   "source": [
    "y_predict = lr_best_1.predict_proba(X_test)"
   ]
  },
  {
   "cell_type": "code",
   "execution_count": 27,
   "id": "427dccd0-8944-46fc-b5dd-535dc1d5d720",
   "metadata": {},
   "outputs": [
    {
     "name": "stdout",
     "output_type": "stream",
     "text": [
      "[[0.50225121 0.49774879]\n",
      " [0.53927131 0.46072869]\n",
      " [0.28685374 0.71314626]\n",
      " ...\n",
      " [0.55954758 0.44045242]\n",
      " [0.25117019 0.74882981]\n",
      " [0.59949226 0.40050774]]\n"
     ]
    }
   ],
   "source": [
    "print(y_predict)"
   ]
  },
  {
   "cell_type": "code",
   "execution_count": 28,
   "id": "80d12dba",
   "metadata": {},
   "outputs": [
    {
     "name": "stdout",
     "output_type": "stream",
     "text": [
      "[0.49774879 0.46072869 0.71314626 ... 0.44045242 0.74882981 0.40050774]\n"
     ]
    }
   ],
   "source": [
    "print(y_predict[:,1])"
   ]
  },
  {
   "cell_type": "markdown",
   "id": "3358c9b7-13d1-48b8-ad95-41215d0bff9f",
   "metadata": {},
   "source": [
    "**[6.4]** Convert the Numpy Array into a Pandas Dataframe with a Column Name TARGET_5Yrs"
   ]
  },
  {
   "cell_type": "code",
   "execution_count": 29,
   "id": "58fb81e7-6af3-4bcd-930f-49b24e0c1c78",
   "metadata": {},
   "outputs": [],
   "source": [
    "# Convert numpy arrany y_predict values back to df_train_cleaned_scaled data frame \n",
    "y_predict = pd.DataFrame(y_predict[:,1], columns = ['TARGET_5Yrs'])"
   ]
  },
  {
   "cell_type": "markdown",
   "id": "c802c901-1ea2-487f-8a4c-d540330b5b0d",
   "metadata": {},
   "source": [
    "**[6.5]** Concatenate Player ID and Prediction into on Data Frame and Sort by Id"
   ]
  },
  {
   "cell_type": "code",
   "execution_count": 30,
   "id": "116ef162-791d-4574-a6be-3ed5f0289297",
   "metadata": {},
   "outputs": [],
   "source": [
    "y_predict = pd.concat([X_test_id, y_predict], axis=1)"
   ]
  },
  {
   "cell_type": "code",
   "execution_count": 31,
   "id": "e738cf48-eeff-4205-b7a4-05f27c381369",
   "metadata": {},
   "outputs": [],
   "source": [
    "y_predict = y_predict.sort_values(by=['Id'])"
   ]
  },
  {
   "cell_type": "code",
   "execution_count": 32,
   "id": "7b1085bd",
   "metadata": {},
   "outputs": [
    {
     "name": "stdout",
     "output_type": "stream",
     "text": [
      "         Id  TARGET_5Yrs\n",
      "0         1     0.497749\n",
      "2         3     0.713146\n",
      "5         6     0.736112\n",
      "8        14     0.603479\n",
      "10       17     0.661728\n",
      "...     ...          ...\n",
      "3057  13770     0.821366\n",
      "3058  13771     0.368051\n",
      "3059  13774     0.567531\n",
      "3063  13787     0.528484\n",
      "3064  13792     0.508410\n",
      "\n",
      "[3799 rows x 2 columns]\n"
     ]
    }
   ],
   "source": [
    "print(y_predict)"
   ]
  },
  {
   "cell_type": "markdown",
   "id": "d2430a87-7502-42df-bb97-43dc645d9fe9",
   "metadata": {},
   "source": [
    "**[6.6]** Export Dataframe to CSV and save model"
   ]
  },
  {
   "cell_type": "code",
   "execution_count": 33,
   "id": "0aa7d879-f6b6-4604-b874-b89f0bdd2b8a",
   "metadata": {},
   "outputs": [
    {
     "data": {
      "text/plain": [
       "(3799, 2)"
      ]
     },
     "execution_count": 33,
     "metadata": {},
     "output_type": "execute_result"
    }
   ],
   "source": [
    "y_predict.to_csv(\"data/external/Group1_Assignment1_linear_regression_predictions.csv\", index = False)\n",
    "y_predict.shape"
   ]
  }
 ],
 "metadata": {
  "kernelspec": {
   "display_name": "Python 3 (ipykernel)",
   "language": "python",
   "name": "python3"
  },
  "language_info": {
   "codemirror_mode": {
    "name": "ipython",
    "version": 3
   },
   "file_extension": ".py",
   "mimetype": "text/x-python",
   "name": "python",
   "nbconvert_exporter": "python",
   "pygments_lexer": "ipython3",
   "version": "3.9.7"
  }
 },
 "nbformat": 4,
 "nbformat_minor": 5
}
