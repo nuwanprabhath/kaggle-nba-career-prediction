{
 "cells": [
  {
   "cell_type": "markdown",
   "metadata": {},
   "source": [
    "# **NBA Career Prediction**\n",
    "**Predict 5-Year Career Longevity for NBA Rookies**"
   ]
  },
  {
   "cell_type": "markdown",
   "metadata": {
    "tags": []
   },
   "source": [
    "## WEEK 1 - Logistic Model\n",
    "\n",
    "This notebook is using the datasets cleaned and seperated in \"wenying_wu-14007025-week1_datapreparation.ipynb\"\n",
    "\n",
    "**The steps are:**\n",
    "1. Prepare data\n",
    "2. Training logistic model \n",
    "3. Plot AUC\n",
    "4. Predict test dataset"
   ]
  },
  {
   "cell_type": "markdown",
   "metadata": {},
   "source": [
    "## 1. Prepare Data"
   ]
  },
  {
   "cell_type": "markdown",
   "metadata": {},
   "source": [
    "**[1.1]** Import all modules needed"
   ]
  },
  {
   "cell_type": "code",
   "execution_count": 1,
   "metadata": {},
   "outputs": [],
   "source": [
    "import pandas as pd\n",
    "import numpy as np\n",
    "from sklearn.linear_model import LogisticRegression as LR\n",
    "from joblib import dump  \n",
    "from sklearn.metrics import mean_squared_error as mse\n",
    "from sklearn.metrics import mean_absolute_error as mae\n",
    "from sklearn.metrics import roc_curve,roc_auc_score, precision_score, recall_score, f1_score, accuracy_score\n",
    "import matplotlib.pyplot as plt"
   ]
  },
  {
   "cell_type": "markdown",
   "metadata": {},
   "source": [
    "**[1.2]** Load saved sets"
   ]
  },
  {
   "cell_type": "code",
   "execution_count": 2,
   "metadata": {},
   "outputs": [],
   "source": [
    "X_train = np.load('../data/processed/X_train.npy')\n",
    "y_train = np.load('../data/processed/y_train.npy')\n",
    "\n",
    "X_val   = np.load('../data/processed/X_val.npy')\n",
    "y_val   = np.load('../data/processed/y_val.npy')\n",
    "\n",
    "test  = np.load('../data/processed/test.npy')"
   ]
  },
  {
   "cell_type": "code",
   "execution_count": 3,
   "metadata": {},
   "outputs": [
    {
     "data": {
      "text/plain": [
       "((6397, 15), (1600, 15))"
      ]
     },
     "execution_count": 3,
     "metadata": {},
     "output_type": "execute_result"
    }
   ],
   "source": [
    "X_train.shape, X_val.shape"
   ]
  },
  {
   "cell_type": "markdown",
   "metadata": {},
   "source": [
    "## 2. Train LR Model"
   ]
  },
  {
   "cell_type": "markdown",
   "metadata": {},
   "source": [
    "**[2.1]** Instantiate the LR class into a variable called rf then fit it"
   ]
  },
  {
   "cell_type": "code",
   "execution_count": 4,
   "metadata": {},
   "outputs": [],
   "source": [
    "classifier = LR(class_weight='balanced')"
   ]
  },
  {
   "cell_type": "code",
   "execution_count": 5,
   "metadata": {},
   "outputs": [
    {
     "data": {
      "text/plain": [
       "LogisticRegression(class_weight='balanced')"
      ]
     },
     "execution_count": 5,
     "metadata": {},
     "output_type": "execute_result"
    }
   ],
   "source": [
    "classifier.fit(X_train, y_train)"
   ]
  },
  {
   "cell_type": "markdown",
   "metadata": {},
   "source": [
    "**[2.2]** Save fitted model"
   ]
  },
  {
   "cell_type": "code",
   "execution_count": 6,
   "metadata": {},
   "outputs": [
    {
     "data": {
      "text/plain": [
       "['../models/LR_default.joblib']"
      ]
     },
     "execution_count": 6,
     "metadata": {},
     "output_type": "execute_result"
    }
   ],
   "source": [
    "dump(classifier,  '../models/LR_default.joblib')"
   ]
  },
  {
   "cell_type": "markdown",
   "metadata": {},
   "source": [
    "**[2.3]** Save the predictions from this model for the training and validation sets into 2 variables called y_train_preds and y_val_preds"
   ]
  },
  {
   "cell_type": "code",
   "execution_count": 7,
   "metadata": {},
   "outputs": [],
   "source": [
    "y_train_preds = classifier.predict(X_train)\n",
    "y_val_preds = classifier.predict(X_val)"
   ]
  },
  {
   "cell_type": "code",
   "execution_count": 8,
   "metadata": {},
   "outputs": [],
   "source": [
    "y_train_preds_probs=classifier.predict_proba(X_train)\n",
    "y_val_preds_probs=classifier.predict_proba(X_val)"
   ]
  },
  {
   "cell_type": "markdown",
   "metadata": {},
   "source": [
    "**[2.4]** Display the model scores of this model on the training set"
   ]
  },
  {
   "cell_type": "code",
   "execution_count": 9,
   "metadata": {},
   "outputs": [
    {
     "name": "stdout",
     "output_type": "stream",
     "text": [
      "RMSE: 0.46583255088780057\n",
      "MAE: 0.4308293933075174\n",
      "precision: 0.9060331019754405\n",
      "recall: 0.6364147759234953\n",
      "accuracy: 0.6418633734563076\n",
      "f1: 0.7476594338583544\n",
      "roc_auc_score: 0.7125462963615677\n"
     ]
    }
   ],
   "source": [
    "print(f'RMSE: {mse(y_train, y_train_preds_probs[:,1], squared=False)}')\n",
    "print(f'MAE: {mae(y_train, y_train_preds_probs[:,1])}')\n",
    "print(f'precision: {precision_score(y_train, y_train_preds)}')\n",
    "print(f'recall: {recall_score(y_train, y_train_preds)}')\n",
    "print(f'accuracy: {accuracy_score(y_train, y_train_preds)}')\n",
    "print(f'f1: {f1_score(y_train, y_train_preds)}')\n",
    "print(f'roc_auc_score: {roc_auc_score(y_train, y_train_preds_probs[:,1])}')"
   ]
  },
  {
   "cell_type": "markdown",
   "metadata": {},
   "source": [
    "**[2.5]** Display the model scores of this model on the validation set"
   ]
  },
  {
   "cell_type": "code",
   "execution_count": 10,
   "metadata": {},
   "outputs": [
    {
     "name": "stdout",
     "output_type": "stream",
     "text": [
      "RMSE: 0.4713445146662774\n",
      "MAE: 0.43594618483251857\n",
      "precision: 0.8928571428571429\n",
      "recall: 0.6371814092953523\n",
      "accuracy: 0.63375\n",
      "f1: 0.7436570428696414\n",
      "roc_auc_score: 0.6745386705143669\n"
     ]
    }
   ],
   "source": [
    "print(f'RMSE: {mse(y_val, y_val_preds_probs[:,1], squared=False)}')\n",
    "print(f'MAE: {mae(y_val, y_val_preds_probs[:,1])}')\n",
    "print(f'precision: {precision_score(y_val, y_val_preds)}')\n",
    "print(f'recall: {recall_score(y_val, y_val_preds)}')\n",
    "print(f'accuracy: {accuracy_score(y_val, y_val_preds)}')\n",
    "print(f'f1: {f1_score(y_val, y_val_preds)}')\n",
    "print(f'roc_auc_score: {roc_auc_score(y_val, y_val_preds_probs[:,1])}')"
   ]
  },
  {
   "cell_type": "markdown",
   "metadata": {},
   "source": [
    "## 3. Plot AUC"
   ]
  },
  {
   "cell_type": "code",
   "execution_count": 11,
   "metadata": {},
   "outputs": [
    {
     "data": {
      "image/png": "[encoded data removed]",
      "text/plain": [
       "<Figure size 700x500 with 1 Axes>"
      ]
     },
     "metadata": {
      "needs_background": "light"
     },
     "output_type": "display_data"
    },
    {
     "data": {
      "text/plain": [
       "0.6745386705143669"
      ]
     },
     "execution_count": 11,
     "metadata": {},
     "output_type": "execute_result"
    }
   ],
   "source": [
    "fpr,tpr,threshold=roc_curve(y_val,y_val_preds_probs[:,1])\n",
    "plt.figure(figsize=(7,5),dpi=100)\n",
    "plt.plot(fpr,tpr,color='green')\n",
    "plt.plot([0,1],[0,1],label='baseline',color='red')\n",
    "plt.xlabel('FPR',fontsize=15)\n",
    "plt.ylabel('TPR',fontsize=15)\n",
    "plt.title('AUC-ROC',fontsize=20)\n",
    "plt.show()\n",
    "roc_auc_score(y_val,y_val_preds_probs[:,1])"
   ]
  },
  {
   "cell_type": "markdown",
   "metadata": {},
   "source": [
    "## 4. Predict & save test set data"
   ]
  },
  {
   "cell_type": "code",
   "execution_count": 12,
   "metadata": {},
   "outputs": [],
   "source": [
    "predict = classifier.predict_proba(test)[:,1]\n",
    "X_test = pd.read_csv(\"../data/raw/test.csv\")\n",
    "result = pd.DataFrame(data = {'Id': X_test.loc[:,'Id'], 'TARGET_5Yrs': predict})\n",
    "result.to_csv(\"../data/external/test_wenying_LR_v3.csv\", index = False)"
   ]
  }
 ],
 "metadata": {
  "kernelspec": {
   "display_name": "Python 3 (ipykernel)",
   "language": "python",
   "name": "python3"
  },
  "language_info": {
   "codemirror_mode": {
    "name": "ipython",
    "version": 3
   },
   "file_extension": ".py",
   "mimetype": "text/x-python",
   "name": "python",
   "nbconvert_exporter": "python",
   "pygments_lexer": "ipython3",
   "version": "3.10.2"
  }
 },
 "nbformat": 4,
 "nbformat_minor": 4
}
