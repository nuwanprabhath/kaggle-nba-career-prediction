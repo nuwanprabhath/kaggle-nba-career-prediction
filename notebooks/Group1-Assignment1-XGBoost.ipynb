{
 "cells": [
  {
   "cell_type": "markdown",
   "metadata": {
    "tags": []
   },
   "source": [
    "# **Advanced Data Science for Innovation**"
   ]
  },
  {
   "cell_type": "markdown",
   "metadata": {
    "tags": []
   },
   "source": [
    "## Asignment 1: NBA Career Prediction - Predict 5-Year Longevity for NBA Rookies\n",
    "\n",
    "**Student Name:** Sean Williams\n",
    "\n",
    "**Student No. :** ??\n",
    "\n",
    "**Week:** 4\n",
    "\n",
    "**Date:** 06MAR2022\n",
    "\n",
    "**Team Name:** Group 1\n",
    "* Carol Myhill - 90014679\n",
    "* Nathan Fragar - 93087548\n",
    "* Nuwan Munasinghe - 13104409\n",
    "* Sean Williams - ??\n",
    "* Wenying Wu - 14007025"
   ]
  },
  {
   "cell_type": "markdown",
   "metadata": {
    "tags": []
   },
   "source": [
    "## 1. Load Python packages and libraries"
   ]
  },
  {
   "cell_type": "markdown",
   "metadata": {},
   "source": [
    "**[1.1]** Task: Change working directory to enable importing of Python modules"
   ]
  },
  {
   "cell_type": "code",
   "execution_count": 1,
   "metadata": {},
   "outputs": [
    {
     "name": "stdout",
     "output_type": "stream",
     "text": [
      "/home/jovyan/work\n"
     ]
    }
   ],
   "source": [
    "cd /home/jovyan/work"
   ]
  },
  {
   "cell_type": "code",
   "execution_count": 2,
   "metadata": {},
   "outputs": [],
   "source": [
    "# pip install xgboost"
   ]
  },
  {
   "cell_type": "markdown",
   "metadata": {},
   "source": [
    "**[1.2]** Task: Import required packages"
   ]
  },
  {
   "cell_type": "code",
   "execution_count": 3,
   "metadata": {},
   "outputs": [],
   "source": [
    "# Data manipulation and Utility modules\n",
    "import pandas as pd\n",
    "import numpy as np\n",
    "import joblib as job\n",
    "\n",
    "# Learning Model\n",
    "import xgboost as xgb\n",
    "\n",
    "# Model Optimising\n",
    "from sklearn.model_selection import GridSearchCV, StratifiedKFold, RandomizedSearchCV\n",
    "\n",
    "# Custom Functions\n",
    "from src.data.sets import load_sets\n",
    "from src.models.null import NullModel\n",
    "from src.models.performance import score_null_model\n",
    "from src.models.performance import score_models2\n",
    "from src.visualization.visualize import plot_confusion_matrix_full\n",
    "from src.visualization.visualize import plot_roc_auc"
   ]
  },
  {
   "cell_type": "markdown",
   "metadata": {},
   "source": [
    "**[1.3]** Task: Automatically Reload Modules"
   ]
  },
  {
   "cell_type": "code",
   "execution_count": 4,
   "metadata": {},
   "outputs": [],
   "source": [
    "# Automatically reload modules\n",
    "%load_ext autoreload\n",
    "%autoreload 2"
   ]
  },
  {
   "cell_type": "markdown",
   "metadata": {},
   "source": [
    "**[1.4]** Task: Load Processed Datasets"
   ]
  },
  {
   "cell_type": "code",
   "execution_count": 5,
   "metadata": {},
   "outputs": [],
   "source": [
    "X_train, y_train, X_val, y_val, X_test, y_test = load_sets(path='data/processed/', val=False)"
   ]
  },
  {
   "cell_type": "markdown",
   "metadata": {},
   "source": [
    "**[1.5]** Task: Verify number of observations in Processed Datasets"
   ]
  },
  {
   "cell_type": "code",
   "execution_count": 6,
   "metadata": {},
   "outputs": [
    {
     "data": {
      "text/plain": [
       "((5120, 42), (5120,), (1280, 42), (1280,), (1600, 42), (1600,))"
      ]
     },
     "execution_count": 6,
     "metadata": {},
     "output_type": "execute_result"
    }
   ],
   "source": [
    "X_train.shape, y_train.shape,  X_val.shape, y_val.shape, X_test.shape, y_test.shape"
   ]
  },
  {
   "cell_type": "markdown",
   "metadata": {},
   "source": [
    "## 2. Create Baseline Model"
   ]
  },
  {
   "cell_type": "markdown",
   "metadata": {},
   "source": [
    "**[2.1]** Task: Instantiate a Null Model class for a classification problem"
   ]
  },
  {
   "cell_type": "code",
   "execution_count": 7,
   "metadata": {},
   "outputs": [],
   "source": [
    "base_model = NullModel(target_type=\"classification\")"
   ]
  },
  {
   "cell_type": "markdown",
   "metadata": {},
   "source": [
    "**[2.2]** Task: Fit and make predictions on the data set"
   ]
  },
  {
   "cell_type": "code",
   "execution_count": 8,
   "metadata": {},
   "outputs": [],
   "source": [
    "y_base = base_model.fit_predict(y_train)"
   ]
  },
  {
   "cell_type": "markdown",
   "metadata": {},
   "source": [
    "**[2.3]** Task: Print the base model's performance metrics"
   ]
  },
  {
   "cell_type": "code",
   "execution_count": 9,
   "metadata": {},
   "outputs": [
    {
     "data": {
      "text/html": [
       "<div>\n",
       "<style scoped>\n",
       "    .dataframe tbody tr th:only-of-type {\n",
       "        vertical-align: middle;\n",
       "    }\n",
       "\n",
       "    .dataframe tbody tr th {\n",
       "        vertical-align: top;\n",
       "    }\n",
       "\n",
       "    .dataframe thead th {\n",
       "        text-align: right;\n",
       "    }\n",
       "</style>\n",
       "<table border=\"1\" class=\"dataframe\">\n",
       "  <thead>\n",
       "    <tr style=\"text-align: right;\">\n",
       "      <th></th>\n",
       "      <th>Set Name</th>\n",
       "      <th>ACC</th>\n",
       "      <th>MSE</th>\n",
       "      <th>MAE</th>\n",
       "      <th>PREC</th>\n",
       "      <th>RECALL</th>\n",
       "      <th>F1</th>\n",
       "      <th>AUC</th>\n",
       "    </tr>\n",
       "  </thead>\n",
       "  <tbody>\n",
       "    <tr>\n",
       "      <th>0</th>\n",
       "      <td>Base</td>\n",
       "      <td>0.833594</td>\n",
       "      <td>0.407929</td>\n",
       "      <td>0.166406</td>\n",
       "      <td>1.0</td>\n",
       "      <td>0.833594</td>\n",
       "      <td>0.909246</td>\n",
       "      <td>None</td>\n",
       "    </tr>\n",
       "  </tbody>\n",
       "</table>\n",
       "</div>"
      ],
      "text/plain": [
       "  Set Name       ACC       MSE       MAE  PREC    RECALL        F1   AUC\n",
       "0     Base  0.833594  0.407929  0.166406   1.0  0.833594  0.909246  None"
      ]
     },
     "execution_count": 9,
     "metadata": {},
     "output_type": "execute_result"
    }
   ],
   "source": [
    "score_null_model(y_train = y_train, y_base = y_base, set_name=\"Base\")"
   ]
  },
  {
   "cell_type": "markdown",
   "metadata": {},
   "source": [
    "## 3. Modelling - XGBoost - Hyperparameter Tuning with Random Search and KFold Cross Validation"
   ]
  },
  {
   "cell_type": "markdown",
   "metadata": {},
   "source": [
    "**[3.1]** Task: Build list of Hyperparameters to be tuned"
   ]
  },
  {
   "cell_type": "code",
   "execution_count": 10,
   "metadata": {},
   "outputs": [],
   "source": [
    "learning_rate = [0.01, 0.05, 0.1, 0.5]\n",
    "n_estimators = [100, 500, 1000]\n",
    "subsample = [0.5, 0.7, 0.8]\n",
    "colsample_bytree = [0.5, 0.7, 0.8]\n",
    "max_depth = [3, 7, 9]\n",
    "min_child_weight = [1, 5, 10]"
   ]
  },
  {
   "cell_type": "code",
   "execution_count": 11,
   "metadata": {},
   "outputs": [],
   "source": [
    "# Build dictionary for grid search\n",
    "param_grid = dict(learning_rate=learning_rate, n_estimators=n_estimators, subsample=subsample, colsample_bytree=colsample_bytree, max_depth=max_depth, min_child_weight=min_child_weight)"
   ]
  },
  {
   "cell_type": "code",
   "execution_count": 12,
   "metadata": {},
   "outputs": [],
   "source": [
    "# Setup cross validation folds\n",
    "kfold = StratifiedKFold(n_splits=5, shuffle=True, random_state=8)"
   ]
  },
  {
   "cell_type": "markdown",
   "metadata": {},
   "source": [
    "**[3.2]** Task: Build randomsearch with specified parameters and K-Folds"
   ]
  },
  {
   "cell_type": "code",
   "execution_count": 13,
   "metadata": {},
   "outputs": [],
   "source": [
    "# Instantiate XGBoost class with default parameters\n",
    "clf = xgb.XGBClassifier(use_label_encoder=False, eval_metric='logloss', gamma=0, scale_pos_weight=1)"
   ]
  },
  {
   "cell_type": "code",
   "execution_count": 14,
   "metadata": {},
   "outputs": [],
   "source": [
    "# Random search with cross validation\n",
    "random_search = RandomizedSearchCV(clf, param_grid, scoring=\"accuracy\", cv=kfold, n_jobs=4,  n_iter=500, random_state=8)"
   ]
  },
  {
   "cell_type": "markdown",
   "metadata": {},
   "source": [
    "**[3.3]** Task: Train Model and print best result and parameters"
   ]
  },
  {
   "cell_type": "code",
   "execution_count": 15,
   "metadata": {},
   "outputs": [],
   "source": [
    "#Fit to data\n",
    "random_result = random_search.fit(X_train, y_train)\n",
    "# Print best score and parameters\n",
    "print(\"Best: %f using %s\" % (random_result.best_score_, random_result.best_params_))"
   ]
  },
  {
   "cell_type": "code",
   "execution_count": 16,
   "metadata": {},
   "outputs": [],
   "source": [
    "# Get the best model from the random search and fit to data\n",
    "clf_best_random = xgb.XGBClassifier(learning_rate=0.01, max_depth=3, n_estimators=500, subsample=0.8, min_child_weight=10, colsample_bytree=0.8, use_label_encoder=False, eval_metric='logloss').fit(X_train, y_train)"
   ]
  },
  {
   "cell_type": "code",
   "execution_count": 17,
   "metadata": {},
   "outputs": [
    {
     "data": {
      "text/plain": [
       "['models/Group1-Assignment1-XGBoost.joblib']"
      ]
     },
     "execution_count": 17,
     "metadata": {},
     "output_type": "execute_result"
    }
   ],
   "source": [
    "job.dump(clf_best_random, \"models/Group1-Assignment1-XGBoost.joblib\", compress=3)"
   ]
  },
  {
   "cell_type": "markdown",
   "metadata": {},
   "source": [
    "**[3.5]** Task: Print the best XGBoost model's performance metrics"
   ]
  },
  {
   "cell_type": "code",
   "execution_count": 18,
   "metadata": {},
   "outputs": [
    {
     "data": {
      "text/html": [
       "<div>\n",
       "<style scoped>\n",
       "    .dataframe tbody tr th:only-of-type {\n",
       "        vertical-align: middle;\n",
       "    }\n",
       "\n",
       "    .dataframe tbody tr th {\n",
       "        vertical-align: top;\n",
       "    }\n",
       "\n",
       "    .dataframe thead th {\n",
       "        text-align: right;\n",
       "    }\n",
       "</style>\n",
       "<table border=\"1\" class=\"dataframe\">\n",
       "  <thead>\n",
       "    <tr style=\"text-align: right;\">\n",
       "      <th></th>\n",
       "      <th>Set Name</th>\n",
       "      <th>ACC</th>\n",
       "      <th>MSE</th>\n",
       "      <th>MAE</th>\n",
       "      <th>PREC</th>\n",
       "      <th>RECALL</th>\n",
       "      <th>F1</th>\n",
       "      <th>AUC</th>\n",
       "    </tr>\n",
       "  </thead>\n",
       "  <tbody>\n",
       "    <tr>\n",
       "      <th>0</th>\n",
       "      <td>Base</td>\n",
       "      <td>0.833594</td>\n",
       "      <td>0.407929</td>\n",
       "      <td>0.166406</td>\n",
       "      <td>1.000000</td>\n",
       "      <td>0.833594</td>\n",
       "      <td>0.909246</td>\n",
       "      <td>NaN</td>\n",
       "    </tr>\n",
       "    <tr>\n",
       "      <th>1</th>\n",
       "      <td>Train</td>\n",
       "      <td>0.839453</td>\n",
       "      <td>0.400683</td>\n",
       "      <td>0.160547</td>\n",
       "      <td>0.839307</td>\n",
       "      <td>0.998594</td>\n",
       "      <td>0.912048</td>\n",
       "      <td>0.775197</td>\n",
       "    </tr>\n",
       "    <tr>\n",
       "      <th>2</th>\n",
       "      <td>Validate</td>\n",
       "      <td>0.839063</td>\n",
       "      <td>0.401170</td>\n",
       "      <td>0.160938</td>\n",
       "      <td>0.838710</td>\n",
       "      <td>0.999063</td>\n",
       "      <td>0.911891</td>\n",
       "      <td>0.711912</td>\n",
       "    </tr>\n",
       "    <tr>\n",
       "      <th>3</th>\n",
       "      <td>Test</td>\n",
       "      <td>0.835000</td>\n",
       "      <td>0.406202</td>\n",
       "      <td>0.165000</td>\n",
       "      <td>0.836478</td>\n",
       "      <td>0.997001</td>\n",
       "      <td>0.909713</td>\n",
       "      <td>0.681835</td>\n",
       "    </tr>\n",
       "  </tbody>\n",
       "</table>\n",
       "</div>"
      ],
      "text/plain": [
       "   Set Name       ACC       MSE       MAE      PREC    RECALL        F1  \\\n",
       "0      Base  0.833594  0.407929  0.166406  1.000000  0.833594  0.909246   \n",
       "1     Train  0.839453  0.400683  0.160547  0.839307  0.998594  0.912048   \n",
       "2  Validate  0.839063  0.401170  0.160938  0.838710  0.999063  0.911891   \n",
       "3      Test  0.835000  0.406202  0.165000  0.836478  0.997001  0.909713   \n",
       "\n",
       "        AUC  \n",
       "0       NaN  \n",
       "1  0.775197  \n",
       "2  0.711912  \n",
       "3  0.681835  "
      ]
     },
     "metadata": {},
     "output_type": "display_data"
    }
   ],
   "source": [
    "# Print Scores for all Data Sets\n",
    "score_models2(X_train, y_train, X_val, y_val, X_test, y_test, y_base, True, clf_best_random)"
   ]
  },
  {
   "cell_type": "markdown",
   "metadata": {},
   "source": [
    "**[3.6]** Task: Plot the confusion matrix for the Train and Test datasets"
   ]
  },
  {
   "cell_type": "code",
   "execution_count": 19,
   "metadata": {},
   "outputs": [
    {
     "name": "stdout",
     "output_type": "stream",
     "text": [
      "Train - Confusion matrix, without normalization\n",
      "[[  36  816]\n",
      " [   6 4262]]\n",
      "Train - Normalized confusion matrix\n",
      "[[0.04225352 0.95774648]\n",
      " [0.00140581 0.99859419]]\n",
      "Validate - Confusion matrix, without normalization\n",
      "[[   6  260]\n",
      " [   4 1330]]\n",
      "Validate - Normalized confusion matrix\n",
      "[[0.02255639 0.97744361]\n",
      " [0.0029985  0.9970015 ]]\n"
     ]
    },
    {
     "data": {
      "image/png": "[encoded data removed]",
      "text/plain": [
       "<Figure size 432x288 with 2 Axes>"
      ]
     },
     "metadata": {
      "needs_background": "light"
     },
     "output_type": "display_data"
    },
    {
     "data": {
      "image/png": "[encoded data removed]",
      "text/plain": [
       "<Figure size 432x288 with 2 Axes>"
      ]
     },
     "metadata": {
      "needs_background": "light"
     },
     "output_type": "display_data"
    },
    {
     "data": {
      "image/png": "[encoded data removed]",
      "text/plain": [
       "<Figure size 432x288 with 2 Axes>"
      ]
     },
     "metadata": {
      "needs_background": "light"
     },
     "output_type": "display_data"
    },
    {
     "data": {
      "image/png": "[encoded data removed]",
      "text/plain": [
       "<Figure size 432x288 with 2 Axes>"
      ]
     },
     "metadata": {
      "needs_background": "light"
     },
     "output_type": "display_data"
    }
   ],
   "source": [
    "plot_confusion_matrix_full(model=clf_best_random, X_train = X_train, y_train = y_train, X_val = X_test, y_val = y_test)"
   ]
  },
  {
   "cell_type": "markdown",
   "metadata": {},
   "source": [
    "**[3.5]** Task: Visualise AUC Metric"
   ]
  },
  {
   "cell_type": "code",
   "execution_count": 20,
   "metadata": {},
   "outputs": [
    {
     "data": {
      "image/png": "[encoded data removed]",
      "text/plain": [
       "<Figure size 700x500 with 1 Axes>"
      ]
     },
     "metadata": {
      "needs_background": "light"
     },
     "output_type": "display_data"
    },
    {
     "data": {
      "image/png": "[encoded data removed]",
      "text/plain": [
       "<Figure size 700x500 with 1 Axes>"
      ]
     },
     "metadata": {
      "needs_background": "light"
     },
     "output_type": "display_data"
    }
   ],
   "source": [
    "plot_roc_auc(X_train = X_train, y_train = y_train, X_val = X_test, y_val = y_test, model = clf_best_random)"
   ]
  },
  {
   "cell_type": "markdown",
   "metadata": {},
   "source": [
    "## 4. Kaggle Submission - XGBoost"
   ]
  },
  {
   "cell_type": "markdown",
   "metadata": {},
   "source": [
    "**[4.1]** Task: Load processed datasets"
   ]
  },
  {
   "cell_type": "code",
   "execution_count": 21,
   "metadata": {},
   "outputs": [],
   "source": [
    "X_kaggle = pd.read_csv('data/processed/test.csv').to_numpy()\n",
    "Id_kaggle = pd.read_csv('data/raw/test.csv')"
   ]
  },
  {
   "cell_type": "markdown",
   "metadata": {},
   "source": [
    "**[4.2]** Task: Verify number of observations in Processed Datasets"
   ]
  },
  {
   "cell_type": "code",
   "execution_count": 22,
   "metadata": {},
   "outputs": [
    {
     "data": {
      "text/plain": [
       "((3799, 42), (3799, 20))"
      ]
     },
     "execution_count": 22,
     "metadata": {},
     "output_type": "execute_result"
    }
   ],
   "source": [
    "X_kaggle.shape, Id_kaggle.shape"
   ]
  },
  {
   "cell_type": "markdown",
   "metadata": {},
   "source": [
    "**[4.3]** Generate Predictions on the processed dataset using using the best XGBoost Model"
   ]
  },
  {
   "cell_type": "code",
   "execution_count": 23,
   "metadata": {},
   "outputs": [],
   "source": [
    "kaggle_probs = clf_best_random.predict_proba(X_kaggle)[:, 1]"
   ]
  },
  {
   "cell_type": "markdown",
   "metadata": {},
   "source": [
    "**[4.3]** Construct a dataframe in the format required for the submission"
   ]
  },
  {
   "cell_type": "code",
   "execution_count": 24,
   "metadata": {},
   "outputs": [],
   "source": [
    "df_kaggle = pd.DataFrame({'Id':Id_kaggle['Id'], 'TARGET_5Yrs': kaggle_probs});"
   ]
  },
  {
   "cell_type": "markdown",
   "metadata": {},
   "source": [
    "**[4.4]** Task: Verify number of observations and columns in submission dataset"
   ]
  },
  {
   "cell_type": "code",
   "execution_count": 25,
   "metadata": {},
   "outputs": [
    {
     "data": {
      "text/plain": [
       "(3799, 2)"
      ]
     },
     "execution_count": 25,
     "metadata": {},
     "output_type": "execute_result"
    }
   ],
   "source": [
    "df_kaggle.shape"
   ]
  },
  {
   "cell_type": "markdown",
   "metadata": {},
   "source": [
    "**[4.5]** Task: Write the dataframe to a csv file"
   ]
  },
  {
   "cell_type": "code",
   "execution_count": 26,
   "metadata": {},
   "outputs": [],
   "source": [
    "df_kaggle.to_csv(\"data/external/Group1_Assignment1_XGBoost_predictions.csv\", index=False)"
   ]
  }
 ],
 "metadata": {
  "kernelspec": {
   "display_name": "Python 3",
   "language": "python",
   "name": "python3"
  },
  "language_info": {
   "codemirror_mode": {
    "name": "ipython",
    "version": 3
   },
   "file_extension": ".py",
   "mimetype": "text/x-python",
   "name": "python",
   "nbconvert_exporter": "python",
   "pygments_lexer": "ipython3",
   "version": "3.7.6"
  }
 },
 "nbformat": 4,
 "nbformat_minor": 4
}
