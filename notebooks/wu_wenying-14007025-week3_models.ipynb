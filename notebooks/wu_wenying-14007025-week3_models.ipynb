{
 "cells": [
  {
   "cell_type": "markdown",
   "id": "b1a82612-b80a-415e-95ef-a690f620a62f",
   "metadata": {
    "tags": []
   },
   "source": [
    "# **NBA Career Prediction**\n",
    "**Predict 5-Year Career Longevity for NBA Rookies**"
   ]
  },
  {
   "cell_type": "markdown",
   "id": "711a2067-28a7-4532-87a0-c66955695283",
   "metadata": {},
   "source": [
    "## WEEK 3 - Models\n",
    "\n",
    "In this project, we are trying to classify a rookie player will last at least five years in the NBA or not. This notebook will explore and visualise data and prepare datasets for modelling. The labels are included in the train data, and the goal is to train a model to learn to predict the labels from the features.\n",
    "\n",
    "Classification: The label is a binary variable, 0 (if career years played < 5), 1 (if career years played >= 5).\n",
    "\n",
    "Model includes LRs, XGboost, KNN and Ramdom Forest.\n",
    "\n",
    "**The steps are:**\n",
    "1. Grid Serch Modeling\n",
    "    * Import Libraries\n",
    "    * Load data\n",
    "2. Start Hyperopt boosting XGboost\n",
    "3. Best model Prediction"
   ]
  },
  {
   "cell_type": "markdown",
   "id": "afa27be5-cbf2-42e5-a4df-c7e4dc7ccde1",
   "metadata": {},
   "source": [
    "## 1. Grid Search Modeling"
   ]
  },
  {
   "cell_type": "markdown",
   "id": "44efaaff-2a6f-4565-90af-0f5de646fc01",
   "metadata": {},
   "source": [
    "##### **[1.1]** Import all modules needed"
   ]
  },
  {
   "cell_type": "code",
   "execution_count": 1,
   "id": "b8096854-92fd-4476-9efc-e6e56bdc15eb",
   "metadata": {},
   "outputs": [],
   "source": [
    "import pandas as pd\n",
    "import numpy as np\n",
    "import matplotlib.pyplot as plt\n",
    "from sklearn.preprocessing import StandardScaler\n",
    "from sklearn.model_selection import train_test_split\n",
    "from sklearn.metrics import roc_curve,roc_auc_score, plot_confusion_matrix, classification_report\n",
    "from sklearn.metrics import accuracy_score,confusion_matrix\n",
    "from sklearn.impute import SimpleImputer\n",
    "from sklearn.linear_model import LogisticRegression as LR\n",
    "from sklearn.decomposition import PCA\n",
    "from sklearn.neighbors import KNeighborsClassifier\n",
    "from sklearn.ensemble import RandomForestClassifier\n",
    "from xgboost import XGBClassifier\n",
    "from sklearn.model_selection import RandomizedSearchCV, GridSearchCV\n",
    "from sklearn.neural_network import MLPClassifier\n",
    "from collections import Counter\n",
    "from imblearn.over_sampling import RandomOverSampler\n",
    "import warnings\n",
    "warnings.filterwarnings(action=\"ignore\")"
   ]
  },
  {
   "cell_type": "markdown",
   "id": "115e68f5-35bc-4acb-9c34-db8d63f40670",
   "metadata": {},
   "source": [
    "##### **[1.2]** Import and prepare datasets"
   ]
  },
  {
   "cell_type": "code",
   "execution_count": 31,
   "id": "50cf2f7a-1a05-4bb8-8f68-54eaa3ee3c61",
   "metadata": {},
   "outputs": [
    {
     "name": "stdout",
     "output_type": "stream",
     "text": [
      "Distribution of raw trainset y_train：Counter({1: 5335, 0: 1065})\n",
      "Distribution of trainset y_ros with oversampling：Counter({1: 5335, 0: 5335})\n"
     ]
    }
   ],
   "source": [
    "# Get y_train\n",
    "y_train = pd.read_csv('../data/raw/train.csv')\n",
    "y_train = y_train.loc[:,'TARGET_5Yrs']\n",
    "y_train = y_train.reset_index(drop=True)\n",
    "\n",
    "# Get Feature Engineered Dataset\n",
    "data = pd.read_csv(\"../data/processed/final_X_corrs2.csv\")\n",
    "data = data.reset_index(drop=True)\n",
    "\n",
    "# split train and test set\n",
    "train = data.iloc[:len(y_train), :]\n",
    "test = data.iloc[len(y_train):, :]\n",
    "\n",
    "# fill all np.nan with mode of each column\n",
    "imputer = SimpleImputer(missing_values=np.nan, strategy='most_frequent')\n",
    "X_train = imputer.fit_transform(train)\n",
    "X_test = imputer.transform(test)\n",
    "\n",
    "# Fit and apply the scaling on data and test\n",
    "scaler = StandardScaler()\n",
    "X_train = scaler.fit_transform(X_train)\n",
    "X_test = scaler.transform(X_test)\n",
    "\n",
    "X_train, X_val, y_train, y_val = train_test_split(X_train,\n",
    "                                                  y_train,\n",
    "                                                  test_size=0.2,\n",
    "                                                  random_state=0,\n",
    "                                                  stratify=y_train)\n",
    "\n",
    "# Apply RandomOversampling\n",
    "# Distribution of raw trainset y_train\n",
    "print('Distribution of raw trainset y_train：{}'.format(Counter(y_train)))\n",
    "\n",
    "# Distribution of trainset y_ros with oversampling\n",
    "ros = RandomOverSampler(random_state=0, sampling_strategy='auto')\n",
    "X_ros, y_ros = ros.fit_resample(X_train, y_train)\n",
    "print('Distribution of trainset y_ros with oversampling：{}'.format(Counter(y_ros)))"
   ]
  },
  {
   "cell_type": "markdown",
   "id": "aaf7d108-5cc2-45cf-979a-047940eb9b3f",
   "metadata": {},
   "source": [
    "Below cell is for reading in Gaussian Mixture clustered dataset, not shown in this version."
   ]
  },
  {
   "cell_type": "code",
   "execution_count": null,
   "id": "33be46e9-c2e9-4e07-8183-2a936bfeb8d6",
   "metadata": {},
   "outputs": [],
   "source": [
    "# X_train = np.load('../data/processed/X_train.npy')\n",
    "# y_train = np.load('../data/processed/y_train.npy')\n",
    "\n",
    "# X_val   = np.load('../data/processed/X_val.npy')\n",
    "# y_val  = np.load('../data/processed/y_val.npy')\n",
    "\n",
    "# X_test  = np.load('../data/processed/X_test.npy')"
   ]
  },
  {
   "cell_type": "markdown",
   "id": "989c0a06-4d80-4d50-87b2-0c7eba7da0f5",
   "metadata": {},
   "source": [
    "##### **[1.3]** Define functions"
   ]
  },
  {
   "cell_type": "code",
   "execution_count": 3,
   "id": "36990eed-28b9-43b0-a32a-2f8f0661d2cd",
   "metadata": {},
   "outputs": [],
   "source": [
    "# Models dictionary\n",
    "models = {\"Logistic Regression\": LR(),\n",
    "         \"KNN\": KNeighborsClassifier(),\n",
    "         \"Random Forest\": RandomForestClassifier(),\n",
    "         \"XGBoost\": XGBClassifier()}\n",
    "\n",
    "#Function that will evaluate the model performance using various metrics\n",
    "def evaluate_pred(y_pred, y_val):\n",
    "    accuracy = accuracy_score(y_val, y_pred)\n",
    "    precision = precision_score(y_val, y_pred)\n",
    "    recall = recall_score(y_val, y_pred)\n",
    "    f1 = f1_score(y_val, y_pred)\n",
    "    metric_dict = {\"accuracy\": round(accuracy, 2), \"precision\": round(precision, 2), \"recall\": round(recall, 2),\n",
    "                  \"f1\": round(f1,2)}\n",
    "    print(f\"Accuracy: {accuracy*100:.2f}%\")\n",
    "    print(f\"Precision: {precision:.2f}\")\n",
    "    print(f\"Recall: {recall:.2f}\")\n",
    "    print(f\"F1 score: {f1:.2f}\")\n",
    "    \n",
    "    return metric_dict\n",
    "\n",
    "# Function that will fit and score the models\n",
    "def fit_and_score(models, X_train, X_val, y_train, y_val):\n",
    "    np.random.seed(42)\n",
    "    \n",
    "    #Dictionary of model scores\n",
    "    model_scores = {}\n",
    "    \n",
    "    #Loop through models\n",
    "    for name, model in models.items():\n",
    "        clf = model\n",
    "        clf.fit(X_train, y_train)\n",
    "        model_scores[name] = model.score(X_val, y_val)\n",
    "    return model_scores"
   ]
  },
  {
   "cell_type": "markdown",
   "id": "cde1db04-c847-4367-bacd-4e5f9c9e2e7e",
   "metadata": {},
   "source": [
    "##### **[1.4]** Get default model scores"
   ]
  },
  {
   "cell_type": "code",
   "execution_count": 4,
   "id": "cddf17b7-3046-44e5-96b4-668bd3d3dde9",
   "metadata": {},
   "outputs": [
    {
     "name": "stdout",
     "output_type": "stream",
     "text": [
      "[19:40:44] WARNING: /private/var/folders/hs/ln67s53n0gxf57pyz_ftzkrw0000gn/T/pip-install-n7uylk98/xgboost_c778489d0ba746e7a2e74a37a7f0c4df/build/temp.macosx-10.9-universal2-3.10/xgboost/src/learner.cc:1115: Starting in XGBoost 1.3.0, the default evaluation metric used with the objective 'binary:logistic' was changed from 'error' to 'logloss'. Explicitly set eval_metric if you'd like to restore the old behavior.\n"
     ]
    },
    {
     "data": {
      "text/plain": [
       "{'Logistic Regression': 0.84,\n",
       " 'KNN': 0.813125,\n",
       " 'Random Forest': 0.83375,\n",
       " 'XGBoost': 0.820625}"
      ]
     },
     "execution_count": 4,
     "metadata": {},
     "output_type": "execute_result"
    }
   ],
   "source": [
    "model_scores = fit_and_score(models, X_train, X_val, y_train, y_val)\n",
    "model_scores"
   ]
  },
  {
   "cell_type": "markdown",
   "id": "6ecc59f8-cf2f-4baa-8e1d-07d6d962021a",
   "metadata": {},
   "source": [
    "##### **[1.5]** Define grid search functions"
   ]
  },
  {
   "cell_type": "code",
   "execution_count": 5,
   "id": "c832a8e0-af92-4abe-8c9e-3891a90ddd0d",
   "metadata": {},
   "outputs": [],
   "source": [
    "def grid_search_LR_default():\n",
    "    # Create hyperparameter options, classweight default\n",
    "    grid={\"C\":np.logspace(-4, 4, 20), \"penalty\":[\"l1\",\"l2\"]}\n",
    "\n",
    "    # Apply grid search\n",
    "    log_clf = GridSearchCV(LR(max_iter=10000), grid, cv=5, verbose=0, scoring=\"roc_auc\")\n",
    "\n",
    "    #Fit\n",
    "    log_clf.fit(X_train, y_train)\n",
    "\n",
    "    #instantiate the best estimator\n",
    "    estimator = log_clf.best_estimator_\n",
    "    estimator.fit(X_train, y_train)\n",
    "    y_pred = estimator.predict(X_val)\n",
    "    y_preds_probs=estimator.predict_proba(X_val)[:,1]\n",
    "    print(estimator)\n",
    "    print(f'accuracy_val:{accuracy_score(y_pred, y_val)}')\n",
    "    print(f'auc_val:{roc_auc_score(y_val, y_preds_probs)}')\n",
    "    print()\n",
    "    y_pred = estimator.predict(X_train)\n",
    "    y_preds_probs=estimator.predict_proba(X_train)[:,1]\n",
    "    print(f'accuracy_train:{accuracy_score(y_pred, y_train)}')\n",
    "    print(f'auc_train:{roc_auc_score(y_train, y_preds_probs)}')\n"
   ]
  },
  {
   "cell_type": "code",
   "execution_count": 6,
   "id": "3f2d58ae-4d9e-49a8-bbed-9e9a181d5b52",
   "metadata": {},
   "outputs": [],
   "source": [
    "def grid_search_LR_balanced():\n",
    "    # Create hyperparameter options, classweight = \"balabnced\"\n",
    "    grid={\"C\":np.logspace(-4, 4, 20), \"penalty\":[\"l1\",\"l2\"]}\n",
    "\n",
    "    # Apply grid search\n",
    "    log_clf = GridSearchCV(LR(max_iter=10000, class_weight='balanced'), grid, cv=5, verbose=0, scoring=\"roc_auc\")\n",
    "\n",
    "    #Fit\n",
    "    log_clf.fit(X_train, y_train)\n",
    "    \n",
    "    #instantiate the best estimator\n",
    "    estimator = log_clf.best_estimator_\n",
    "    estimator.fit(X_train, y_train)\n",
    "    y_pred = estimator.predict(X_val)\n",
    "    y_preds_probs=estimator.predict_proba(X_val)[:,1]\n",
    "    print(estimator)\n",
    "    print(f'accuracy_val:{accuracy_score(y_pred, y_val)}')\n",
    "    print(f'auc_val:{roc_auc_score(y_val, y_preds_probs)}')\n",
    "    print()\n",
    "    y_pred = estimator.predict(X_train)\n",
    "    y_preds_probs=estimator.predict_proba(X_train)[:,1]\n",
    "    print(f'accuracy_train:{accuracy_score(y_pred, y_train)}')\n",
    "    print(f'auc_train:{roc_auc_score(y_train, y_preds_probs)}')\n"
   ]
  },
  {
   "cell_type": "code",
   "execution_count": 7,
   "id": "5ce7839d-1c85-4b9f-a80e-a1b9e70e4019",
   "metadata": {},
   "outputs": [],
   "source": [
    "def grid_search_XGboost():\n",
    "    #Constructing the grid\n",
    "    param_test1 = {\n",
    "     'n_estimators':range(100,300,20),\n",
    "     'max_depth':range(3,10,2),\n",
    "     'min_child_weight':range(1,10,2)\n",
    "    }\n",
    "\n",
    "    #Apply grid search\n",
    "    xg_clf = GridSearchCV(XGBClassifier(use_label_encoder=False, eval_metric='logloss'), param_test1, cv=5, verbose=0, scoring=\"roc_auc\")\n",
    "    xg_clf.fit(X_train, y_train)\n",
    "    \n",
    "    #instantiate the best estimator\n",
    "    xg_clf1 = xg_clf.best_estimator_\n",
    "    xg_clf1.fit(X_train, y_train)\n",
    "    y_pred = xg_clf1.predict(X_val)\n",
    "    y_preds_probs = xg_clf1.predict_proba(X_val)[:,1]\n",
    "    print(xg_clf1)\n",
    "    print(f'accuracy_val:{accuracy_score(y_pred, y_val)}')\n",
    "    print(f'auc_val:{roc_auc_score(y_val, y_pred)}, 1&0')\n",
    "    print(f'auc_val:{roc_auc_score(y_val, y_preds_probs)}, %')\n",
    "    print()\n",
    "    y_pred = xg_clf1.predict(X_train)\n",
    "    y_preds_probs=xg_clf1.predict_proba(X_train)[:,1]\n",
    "    print(f'accuracy_train:{accuracy_score(y_pred, y_train)}')\n",
    "    print(f'auc_val:{roc_auc_score(y_train, y_pred)}, 1&0')\n",
    "    print(f'auc_train:{roc_auc_score(y_train, y_preds_probs)}, %')\n"
   ]
  },
  {
   "cell_type": "code",
   "execution_count": 8,
   "id": "f37d640f-dfc0-4f7c-ba7f-ce1bd44b46c0",
   "metadata": {},
   "outputs": [],
   "source": [
    "def grid_search_KNN():\n",
    "    #Desired range for k parameter\n",
    "    k_range = list(range(9, 50))\n",
    "\n",
    "    #Creating grid\n",
    "    param_grid = dict(n_neighbors=k_range)\n",
    "\n",
    "    #Applying GridSearchCV\n",
    "    knn_clf = GridSearchCV(KNeighborsClassifier(), param_grid, cv=5, scoring=\"roc_auc\")\n",
    "    knn_clf.fit(X_train, y_train)\n",
    "    \n",
    "    #instantiate the best estimator\n",
    "    knn_clf1 = knn_clf.best_estimator_\n",
    "    knn_clf1.fit(X_train, y_train)\n",
    "    y_pred = knn_clf1.predict(X_val)\n",
    "    y_preds_proba = knn_clf1.predict_proba(X_val)[:,1]\n",
    "    print(knn_clf1)\n",
    "    print(f'accuracy_val:{accuracy_score(y_pred, y_val)}')\n",
    "    print(f'auc_val:{roc_auc_score(y_val, y_pred)}, 1&0')\n",
    "    print(f'auc_val:{roc_auc_score(y_val, y_preds_proba)}, %')\n",
    "    y_pred = knn_clf1.predict(X_train)\n",
    "    y_preds_proba = knn_clf1.predict_proba(X_train)[:,1]\n",
    "    print()\n",
    "    print(f'accuracy_train:{accuracy_score(y_pred, y_train)}')\n",
    "    print(f'auc_train:{roc_auc_score(y_train, y_pred)}, 1&0')\n",
    "    print(f'auc_train:{roc_auc_score(y_train, y_preds_proba)}, %')\n"
   ]
  },
  {
   "cell_type": "code",
   "execution_count": 9,
   "id": "6e074c2c-8af8-4e1e-a0ca-6e9135608658",
   "metadata": {},
   "outputs": [],
   "source": [
    "def grid_search_RF():\n",
    "    #Creating the grid\n",
    "    param_grid = {\n",
    "        'n_estimators': range(100,300,20),\n",
    "        'max_depth': range(3,15,2),\n",
    "        'random_state': [8888],\n",
    "        #'max_features': ['auto'],\n",
    "        #'criterion' :['gini']\n",
    "    }\n",
    "\n",
    "    #Applying grid search\n",
    "    cv_rfc = GridSearchCV(estimator=RandomForestClassifier(), param_grid=param_grid, cv= 5, scoring=\"roc_auc\")\n",
    "    cv_rfc.fit(X_train, y_train)\n",
    "    \n",
    "    #instantiate the best estimator\n",
    "    rfc = cv_rfc.best_estimator_\n",
    "    rfc.fit(X_train, y_train)\n",
    "    y_pred = rfc.predict(X_val)\n",
    "    y_preds_proba = rfc.predict_proba(X_val)[:,1]\n",
    "    print(rfc)\n",
    "    print(f'accuracy_val:{accuracy_score(y_pred, y_val)}')\n",
    "    print(f'auc_val:{roc_auc_score(y_val, y_pred)}, 1&0')\n",
    "    print(f'auc_val:{roc_auc_score(y_val, y_preds_proba)}, %')\n",
    "    y_pred = rfc.predict(X_train)\n",
    "    y_preds_proba = rfc.predict_proba(X_train)[:,1]\n",
    "    print()\n",
    "    print(f'accuracy_train:{accuracy_score(y_pred, y_train)}')\n",
    "    print(f'auc_train:{roc_auc_score(y_train, y_pred)}, 1&0')\n",
    "    print(f'auc_train:{roc_auc_score(y_train, y_preds_proba)}, %')\n"
   ]
  },
  {
   "cell_type": "code",
   "execution_count": 20,
   "id": "c83fce95-9b04-429b-ac77-078a28228f7e",
   "metadata": {},
   "outputs": [],
   "source": [
    "def grid_search_NN():\n",
    "    #Creating the grid\n",
    "    parameter_space = {\n",
    "        'hidden_layer_sizes': [(10,30,10),(20,)],\n",
    "        'activation': ['tanh', 'relu'],\n",
    "        'solver': ['sgd', 'adam'],\n",
    "        'alpha': [0.0001, 0.05],\n",
    "        'learning_rate': ['constant','adaptive'],\n",
    "    }\n",
    "\n",
    "    clf = GridSearchCV(MLPClassifier(max_iter=10000), parameter_space, n_jobs=-1, cv=5, scoring=\"roc_auc\")\n",
    "    clf.fit(X_train, y_train)\n",
    "    \n",
    "    #instantiate the best estimator\n",
    "    nn_clf1 = clf.best_estimator_\n",
    "    nn_clf1.fit(X_train, y_train)\n",
    "    y_pred = nn_clf1.predict(X_val)\n",
    "    y_preds_proba = nn_clf1.predict_proba(X_val)[:,1]\n",
    "    print(nn_clf1)\n",
    "    print(f'accuracy_val:{accuracy_score(y_pred, y_val)}')\n",
    "    print(f'auc_val:{roc_auc_score(y_val, y_pred)}, 1&0')\n",
    "    print(f'auc_val:{roc_auc_score(y_val, y_preds_proba)}, %')\n",
    "    y_pred = nn_clf1.predict(X_train)\n",
    "    y_preds_proba = nn_clf1.predict_proba(X_train)[:,1]\n",
    "    print()\n",
    "    print(f'accuracy_train:{accuracy_score(y_pred, y_train)}')\n",
    "    print(f'auc_train:{roc_auc_score(y_train, y_pred)}, 1&0')\n",
    "    print(f'auc_train:{roc_auc_score(y_train, y_preds_proba)}, %')"
   ]
  },
  {
   "cell_type": "markdown",
   "id": "06917d1e-17b1-4afc-a8a6-565ef88700a4",
   "metadata": {
    "tags": []
   },
   "source": [
    "##### **[1.6]** Define start grid search function"
   ]
  },
  {
   "cell_type": "code",
   "execution_count": 11,
   "id": "8bc69d59-d37b-4c02-b02a-2c5b1248778c",
   "metadata": {},
   "outputs": [],
   "source": [
    "def grid_search_start():\n",
    "    print(\"LR default:\")\n",
    "    grid_search_LR_default()\n",
    "    print()\n",
    "    print(\"LR balanced:\")\n",
    "    grid_search_LR_balanced()\n",
    "    print()\n",
    "    print(\"XGboost:\")\n",
    "    grid_search_XGboost()\n",
    "    print()\n",
    "    print(\"KNN:\")\n",
    "    grid_search_KNN()\n",
    "    print()\n",
    "    print(\"RF:\")\n",
    "    grid_search_RF()\n"
   ]
  },
  {
   "cell_type": "markdown",
   "id": "cd5e993b-b9cc-4d82-8dcb-49671fb6fe21",
   "metadata": {
    "tags": []
   },
   "source": [
    "##### **[1.7]** Get results"
   ]
  },
  {
   "cell_type": "code",
   "execution_count": 12,
   "id": "94335296-b539-4bfd-9059-38c19a91592d",
   "metadata": {},
   "outputs": [
    {
     "name": "stdout",
     "output_type": "stream",
     "text": [
      "Data Cleaning: use wk3 result - 90 cols final_X_corrs2\n",
      "LR default:\n",
      "LogisticRegression(C=0.004832930238571752, max_iter=10000)\n",
      "accuracy_val:0.83625\n",
      "auc_val:0.7093539696317255\n",
      "\n",
      "accuracy_train:0.8346875\n",
      "auc_train:0.7079982927870252\n",
      "\n",
      "LR balanced:\n",
      "LogisticRegression(C=0.0018329807108324356, class_weight='balanced',\n",
      "                   max_iter=10000)\n",
      "accuracy_val:0.6625\n",
      "auc_val:0.708702979337399\n",
      "\n",
      "accuracy_train:0.643125\n",
      "auc_train:0.7071186381016497\n",
      "\n",
      "XGboost:\n",
      "XGBClassifier(base_score=0.5, booster='gbtree', colsample_bylevel=1,\n",
      "              colsample_bynode=1, colsample_bytree=1, enable_categorical=False,\n",
      "              eval_metric='logloss', gamma=0, gpu_id=-1, importance_type=None,\n",
      "              interaction_constraints='', learning_rate=0.300000012,\n",
      "              max_delta_step=0, max_depth=3, min_child_weight=1, missing=nan,\n",
      "              monotone_constraints='()', n_estimators=100, n_jobs=8,\n",
      "              num_parallel_tree=1, predictor='auto', random_state=0,\n",
      "              reg_alpha=0, reg_lambda=1, scale_pos_weight=1, subsample=1,\n",
      "              tree_method='exact', use_label_encoder=False,\n",
      "              validate_parameters=1, verbosity=None)\n",
      "accuracy_val:0.826875\n",
      "auc_val:0.5244699079031913, 1&0\n",
      "auc_val:0.6684712155200595, %\n",
      "\n",
      "accuracy_train:0.87828125\n",
      "auc_val:0.6380299290274607, 1&0\n",
      "auc_train:0.916043225928517, %\n",
      "\n",
      "KNN:\n",
      "KNeighborsClassifier(n_neighbors=49)\n",
      "accuracy_val:0.83375\n",
      "auc_val:0.5, 1&0\n",
      "auc_val:0.6434827698932489, %\n",
      "\n",
      "accuracy_train:0.8340625\n",
      "auc_train:0.5014084507042254, 1&0\n",
      "auc_train:0.7176793343629412, %\n",
      "\n",
      "RF:\n",
      "RandomForestClassifier(max_depth=5, n_estimators=120, random_state=8888)\n",
      "accuracy_val:0.83375\n",
      "auc_val:0.5, 1&0\n",
      "auc_val:0.6957085367090892, %\n",
      "\n",
      "accuracy_train:0.83609375\n",
      "auc_train:0.5075117370892019, 1&0\n",
      "auc_train:0.764158559605053, %\n"
     ]
    }
   ],
   "source": [
    "print(\"Data Cleaning: use wk3 result - 90 cols final_X_corrs2\")\n",
    "grid_search_start()"
   ]
  },
  {
   "cell_type": "code",
   "execution_count": 21,
   "id": "3f7cd631-6612-41d9-9b06-26cd1d738dc8",
   "metadata": {},
   "outputs": [
    {
     "name": "stdout",
     "output_type": "stream",
     "text": [
      "MLPClassifier(activation='tanh', hidden_layer_sizes=(20,), max_iter=10000,\n",
      "              solver='sgd')\n",
      "accuracy_val:0.835625\n",
      "auc_val:0.5116586443620296, 1&0\n",
      "auc_val:0.6996172966148504, %\n",
      "\n",
      "accuracy_train:0.8340625\n",
      "auc_train:0.5126813363781564, 1&0\n",
      "auc_train:0.705834004338433, %\n"
     ]
    }
   ],
   "source": [
    "grid_search_NN()"
   ]
  },
  {
   "cell_type": "markdown",
   "id": "3d27d5aa-547d-4693-a4eb-528dbdb751de",
   "metadata": {
    "tags": []
   },
   "source": [
    "## 2. Start Hyperopt boosting XGboost"
   ]
  },
  {
   "cell_type": "markdown",
   "id": "39f58894-18e6-4a50-9d58-7b460fda93f8",
   "metadata": {},
   "source": [
    "##### **[2.1]** Import all modules needed"
   ]
  },
  {
   "cell_type": "code",
   "execution_count": 13,
   "id": "c09934c3-d9e4-40bc-9aba-23599bf302ee",
   "metadata": {},
   "outputs": [],
   "source": [
    "from hyperopt import Trials, STATUS_OK, tpe, hp, fmin"
   ]
  },
  {
   "cell_type": "markdown",
   "id": "63d6c2b8-0241-4c52-a5ee-617c31c9d1ff",
   "metadata": {},
   "source": [
    "##### **[2.2]** Define search spaces and functions"
   ]
  },
  {
   "cell_type": "code",
   "execution_count": 14,
   "id": "214f7227-216d-44f1-b9ec-fbcbbc54f411",
   "metadata": {},
   "outputs": [],
   "source": [
    "# Define search spaces\n",
    "# wk2:\n",
    "# space = {\n",
    "#     'max_depth' : hp.choice('max_depth', range(5, 20, 1)),\n",
    "#     'learning_rate' : hp.quniform('learning_rate', 0.01, 0.5, 0.05),\n",
    "#     'min_child_weight' : hp.quniform('min_child_weight', 1, 10, 1),\n",
    "#     'subsample' : hp.quniform('subsample', 0.1, 1, 0.05),\n",
    "#     'colsample_bytree' : hp.quniform('colsample_bytree', 0.1, 1.0, 0.05)\n",
    "# }\n",
    "\n",
    "#wk3:\n",
    "space = {\n",
    "    'learning_rate' : hp.quniform('learning_rate', 0.01, 0.5, 0.05),\n",
    "    'n_estimators': hp.quniform('n_estimators', 100, 1000, 1),\n",
    "    'eta': hp.quniform('eta', 0.025, 0.5, 0.025),\n",
    "    'max_depth':  hp.choice('max_depth', range(2,20,1)),\n",
    "    'min_child_weight': hp.quniform('min_child_weight', 1, 10, 1),\n",
    "    'subsample': hp.quniform('subsample', 0.1, 1, 0.05),\n",
    "    'gamma': hp.quniform('gamma', 0.1, 1, 0.05),\n",
    "    'colsample_bytree': hp.quniform('colsample_bytree', 0.1, 1, 0.05),\n",
    "    'eval_metric': 'auc',\n",
    "    'objective': 'binary:logistic',\n",
    "    'booster': 'gbtree',\n",
    "    'tree_method': 'exact',\n",
    "    'silent': 1,\n",
    "    'seed': 9999\n",
    "}"
   ]
  },
  {
   "cell_type": "code",
   "execution_count": 15,
   "id": "15f91a13-9a81-40e2-bd7b-8fcbe6784807",
   "metadata": {},
   "outputs": [],
   "source": [
    "# Define objective sunction and self-defined loss function (aimming for higher AUC)\n",
    "def objective(space):\n",
    "    from sklearn.model_selection import cross_val_score\n",
    "    \n",
    "    xgboost = XGBClassifier(\n",
    "        max_depth = int(space['max_depth']),\n",
    "        learning_rate = space['learning_rate'],\n",
    "        min_child_weight = space['min_child_weight'],\n",
    "        subsample = space['subsample'],\n",
    "        colsample_bytree = space['colsample_bytree'],\n",
    "        eval_metric = 'auc',\n",
    "        eta = space['eta'],\n",
    "        gamma = space['gamma'],\n",
    "        n_estimators = int(space['n_estimators']) \n",
    "    )\n",
    "    \n",
    "    auc = cross_val_score(xgboost, X_train, y_train, cv=10, scoring=\"roc_auc\").mean()\n",
    "\n",
    "    return{'loss': 1-auc, 'status': STATUS_OK }"
   ]
  },
  {
   "cell_type": "markdown",
   "id": "72f50463-d69f-4c6e-aa83-605545329473",
   "metadata": {},
   "source": [
    "##### **[2.3]** Get Hyperopted XGBoost model and predict"
   ]
  },
  {
   "cell_type": "code",
   "execution_count": 16,
   "id": "70990cac-2acd-4862-b1d6-20515427d4a4",
   "metadata": {},
   "outputs": [
    {
     "name": "stdout",
     "output_type": "stream",
     "text": [
      "100%|█████████| 10/10 [06:52<00:00, 41.22s/trial, best loss: 0.3435428029383135]\n"
     ]
    }
   ],
   "source": [
    "# Start hyperboosting \n",
    "best = fmin(\n",
    "    fn=objective,   \n",
    "    space=space,       \n",
    "    algo=tpe.suggest,       \n",
    "    max_evals= 10\n",
    ")"
   ]
  },
  {
   "cell_type": "code",
   "execution_count": 22,
   "id": "c2d2764e-187d-47be-a1cc-f8ec47e4be07",
   "metadata": {},
   "outputs": [
    {
     "name": "stdout",
     "output_type": "stream",
     "text": [
      "Best:  {'colsample_bytree': 0.65, 'eta': 0.325, 'gamma': 0.15000000000000002, 'learning_rate': 0.05, 'max_depth': 7, 'min_child_weight': 5.0, 'n_estimators': 374.0, 'subsample': 0.6000000000000001}\n"
     ]
    }
   ],
   "source": [
    "# Print best model from hyperopt\n",
    "print(\"Best: \", best)"
   ]
  },
  {
   "cell_type": "code",
   "execution_count": 23,
   "id": "1cc4b813-dab9-47c9-bc66-bb5af476ff9d",
   "metadata": {},
   "outputs": [
    {
     "name": "stdout",
     "output_type": "stream",
     "text": [
      "accuracy:0.823125\n",
      "auc:0.517706372377721, 1&0\n",
      "auc:0.6602563379964154, %\n",
      "accuracy_train:0.96265625\n",
      "auc_train:0.887793427230047, 1&0\n",
      "auc_train:0.9995578846399232, %\n"
     ]
    }
   ],
   "source": [
    "# Instantiate best estimator from hyperopt\n",
    "xgboost2 = XGBClassifier(\n",
    "    max_depth = best['max_depth'],\n",
    "    learning_rate = best['learning_rate'],\n",
    "    min_child_weight = best['min_child_weight'],\n",
    "    subsample = best['subsample'],\n",
    "    colsample_bytree = best['colsample_bytree'],\n",
    "    eval_metric = 'auc',\n",
    "    eta = best['eta'],\n",
    "    gamma = best['gamma'],\n",
    "    n_estimators = int(best['n_estimators'])  \n",
    ")\n",
    "\n",
    "\n",
    "# Fit train data\n",
    "xgboost2.fit(X_train, y_train)\n",
    "\n",
    "# Predict validation dataset and print accuracy and auc score\n",
    "y_val_preds = xgboost2.predict(X_val)\n",
    "y_val_proba = xgboost2.predict_proba(X_val)[:,1]\n",
    "print(f'accuracy:{accuracy_score(y_val_preds, y_val)}')\n",
    "print(f'auc:{roc_auc_score(y_val, y_val_preds)}, 1&0')\n",
    "print(f'auc:{roc_auc_score(y_val, y_val_proba)}, %')\n",
    "y_train_preds = xgboost2.predict(X_train)\n",
    "y_train_proba = xgboost2.predict_proba(X_train)[:,1]\n",
    "print(f'accuracy_train:{accuracy_score(y_train_preds, y_train)}')\n",
    "print(f'auc_train:{roc_auc_score(y_train, y_train_preds)}, 1&0')\n",
    "print(f'auc_train:{roc_auc_score(y_train, y_train_proba)}, %')"
   ]
  },
  {
   "cell_type": "markdown",
   "id": "37305408-e94e-441b-8285-86e3f5b8a6bf",
   "metadata": {},
   "source": [
    "##### **[2.4]** Compare model scores"
   ]
  },
  {
   "cell_type": "markdown",
   "id": "aa90a3c2-b3a6-46db-8716-03a50d440485",
   "metadata": {},
   "source": [
    "**Note:**\n",
    "\n",
    "Comparing the AUC scores from 4 models using grid search and 1 XGboost model from hyperopt, the best one is default LR, followed by balanced LR then RF.\n",
    "\n",
    "Select default LR as the wk2 classifier.\n",
    "\n",
    "We can see the balanced LR model is with a lower accuracy at 0.65, which needs further investigation next week.\n",
    "\n",
    "Also, the auc for the hyperopted XGboost is suggesting it is overfitted to the train data, which might be resolved next week by reducing the max_evals."
   ]
  },
  {
   "cell_type": "markdown",
   "id": "d7895a04-c94e-42d6-b25f-2d4435497728",
   "metadata": {},
   "source": [
    "## 3. Best model Prediction"
   ]
  },
  {
   "cell_type": "markdown",
   "id": "ee131524-c0ab-4616-b1ca-2c4a975617b1",
   "metadata": {},
   "source": [
    "##### **[3.1]** Instantiate best model and predict "
   ]
  },
  {
   "cell_type": "code",
   "execution_count": 24,
   "id": "1c2c1074-0fb2-4bed-9381-78aafb986bbd",
   "metadata": {},
   "outputs": [],
   "source": [
    "classifier = LR(C=0.004832930238571752, max_iter=10000)\n",
    "classifier.fit(X_train, y_train)\n",
    "y_val_preds_probs=classifier.predict_proba(X_val)\n",
    "y_val_preds = classifier.predict(X_val)"
   ]
  },
  {
   "cell_type": "markdown",
   "id": "054ddd8d-29a2-44f8-a011-ee90e6328ce0",
   "metadata": {},
   "source": [
    "##### **[3.2]** Plot AUC graph"
   ]
  },
  {
   "cell_type": "code",
   "execution_count": 25,
   "id": "2a0e2b64-f88d-46db-b40d-829e72b54e49",
   "metadata": {},
   "outputs": [
    {
     "data": {
      "image/png": "[encoded data removed]",
      "text/plain": [
       "<Figure size 700x500 with 1 Axes>"
      ]
     },
     "metadata": {
      "needs_background": "light"
     },
     "output_type": "display_data"
    },
    {
     "data": {
      "text/plain": [
       "0.7093539696317255"
      ]
     },
     "execution_count": 25,
     "metadata": {},
     "output_type": "execute_result"
    }
   ],
   "source": [
    "fpr,tpr,threshold=roc_curve(y_val,y_val_preds_probs[:,1])\n",
    "plt.figure(figsize=(7,5),dpi=100)\n",
    "plt.plot(fpr,tpr,color='green')\n",
    "plt.plot([0,1],[0,1],label='baseline',color='red')\n",
    "plt.xlabel('FPR',fontsize=15)\n",
    "plt.ylabel('TPR',fontsize=15)\n",
    "plt.title('AUC-ROC',fontsize=20)\n",
    "plt.show()\n",
    "roc_auc_score(y_val,y_val_preds_probs[:,1])"
   ]
  },
  {
   "cell_type": "code",
   "execution_count": 26,
   "id": "f790373b-acea-4754-9ff6-e2b2fa4982f9",
   "metadata": {},
   "outputs": [
    {
     "data": {
      "image/png": "[encoded data removed]",
      "text/plain": [
       "<Figure size 432x288 with 2 Axes>"
      ]
     },
     "metadata": {
      "needs_background": "light"
     },
     "output_type": "display_data"
    }
   ],
   "source": [
    "plot_confusion_matrix(classifier, X_val, y_val)\n",
    "plt.show()"
   ]
  },
  {
   "cell_type": "code",
   "execution_count": 27,
   "id": "75268524-4c84-43b7-a1ce-02ebafcff2a4",
   "metadata": {},
   "outputs": [
    {
     "name": "stdout",
     "output_type": "stream",
     "text": [
      "              precision    recall  f1-score   support\n",
      "\n",
      "           0       0.75      0.02      0.04       266\n",
      "           1       0.84      1.00      0.91      1334\n",
      "\n",
      "    accuracy                           0.84      1600\n",
      "   macro avg       0.79      0.51      0.48      1600\n",
      "weighted avg       0.82      0.84      0.77      1600\n",
      "\n"
     ]
    }
   ],
   "source": [
    "print(classification_report(y_val, y_val_preds, labels=[0,1]))"
   ]
  },
  {
   "cell_type": "markdown",
   "id": "6b0e6efa-2d4a-4587-81b8-b1a22d585c5e",
   "metadata": {},
   "source": [
    "According to the auc_score, confusion matrix and the classification report, the model is with 0.84 precision, 1.00 recall, 0.84 accuracy and 0.91 f1-score, also given the accuracy and auc score are higher in validation set than in train set. It can be conclude that the predicting power of this model is considerably stronger."
   ]
  },
  {
   "cell_type": "markdown",
   "id": "9ae58cae-4d0c-435f-85bb-8c0befa8361f",
   "metadata": {},
   "source": [
    "##### **[3.3]** Save to csv"
   ]
  },
  {
   "cell_type": "code",
   "execution_count": 32,
   "id": "2534df65-97cc-468a-9df4-6487f044b009",
   "metadata": {},
   "outputs": [],
   "source": [
    "predict = classifier.predict_proba(X_test)[:,1]\n",
    "test = pd.read_csv('../data/raw/test.csv')\n",
    "result = pd.DataFrame(data = {'Id': test.loc[:,'Id'], 'TARGET_5Yrs': predict})\n",
    "result.to_csv(\"../data/external/wenying_LR_94cols_grids.csv\", index = False)"
   ]
  }
 ],
 "metadata": {
  "kernelspec": {
   "display_name": "Python 3 (ipykernel)",
   "language": "python",
   "name": "python3"
  },
  "language_info": {
   "codemirror_mode": {
    "name": "ipython",
    "version": 3
   },
   "file_extension": ".py",
   "mimetype": "text/x-python",
   "name": "python",
   "nbconvert_exporter": "python",
   "pygments_lexer": "ipython3",
   "version": "3.10.2"
  }
 },
 "nbformat": 4,
 "nbformat_minor": 5
}
