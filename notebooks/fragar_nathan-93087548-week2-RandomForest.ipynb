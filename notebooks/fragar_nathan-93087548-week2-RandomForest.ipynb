{
 "cells": [
  {
   "cell_type": "markdown",
   "id": "1072d7ee-da99-4b15-8ded-496c770836dc",
   "metadata": {},
   "source": [
    "# **AdvDS - Assignment 1: Binary Classification - NBA Player Prediction - Data Preparation**"
   ]
  },
  {
   "cell_type": "markdown",
   "id": "92ff0a16-0385-4f56-bee2-d54827025980",
   "metadata": {},
   "source": [
    "Build a binary classification model that can predict if a rookie player will last at least 5 years in the NBA"
   ]
  },
  {
   "cell_type": "markdown",
   "id": "dcde699c-0dcd-4cb5-90db-9989080eed90",
   "metadata": {},
   "source": [
    "**Student Name:** Nathan Fragar\n",
    "\n",
    "**Student No. :** 93087548\n",
    "\n",
    "**Week:** 2\n",
    "\n",
    "**Date:** 20FEB2022\n",
    "\n",
    "**Team Name:** Group 1\n",
    "* Nuwan Munasinghe\n",
    "* Wenyingwuwy\n",
    "* Nathan Fragar\n",
    "* Sean Williams"
   ]
  },
  {
   "cell_type": "markdown",
   "id": "cc73ed60-6381-4db4-82c6-db70b15b0b4f",
   "metadata": {},
   "source": [
    "## 1. Load Dataset"
   ]
  },
  {
   "cell_type": "markdown",
   "id": "fcb5f006-c249-4004-83f8-fe7c39347f77",
   "metadata": {},
   "source": [
    "**[1.1]** Task: Import required packages: Pandas, Numpy, joblib"
   ]
  },
  {
   "cell_type": "code",
   "execution_count": 828,
   "id": "a4dd47ad-287f-4cc5-b3d1-24d2e87fddc3",
   "metadata": {},
   "outputs": [],
   "source": [
    "# Task: Import the pandas, numpy and joblib package\n",
    "import pandas as pd\n",
    "import numpy as np\n",
    "import joblib as job"
   ]
  },
  {
   "cell_type": "markdown",
   "id": "8b0a5f58-c5a8-4692-8f10-77d345b10698",
   "metadata": {},
   "source": [
    "**[1.2]** Task: Change working directory to /home/jovyan/work"
   ]
  },
  {
   "cell_type": "code",
   "execution_count": 829,
   "id": "ab947277-2f38-4ff7-8a92-df38c8f04f9f",
   "metadata": {},
   "outputs": [
    {
     "name": "stdout",
     "output_type": "stream",
     "text": [
      "/home/jovyan/work\n"
     ]
    }
   ],
   "source": [
    "cd /home/jovyan/work"
   ]
  },
  {
   "cell_type": "markdown",
   "id": "5e208409-c7d7-47d5-904a-840e8b6ede0e",
   "metadata": {},
   "source": [
    "**[1.3]** Task: Load Processed Data"
   ]
  },
  {
   "cell_type": "code",
   "execution_count": 830,
   "id": "39007e84-1c29-4295-bb3e-d5a33f3e3dba",
   "metadata": {},
   "outputs": [],
   "source": [
    "from src.data.sets import load_sets"
   ]
  },
  {
   "cell_type": "code",
   "execution_count": 831,
   "id": "bde035d8-2c87-4e06-9c29-2caa2f097449",
   "metadata": {},
   "outputs": [
    {
     "data": {
      "text/plain": [
       "(array([[0.35245902, 0.1212976 , 0.13173653, ..., 0.42888889, 0.29393939,\n",
       "         0.44692737],\n",
       "        [0.18032787, 0.04231312, 0.03592814, ..., 0.20888889, 0.43636364,\n",
       "         0.17504655],\n",
       "        [0.45081967, 0.09026798, 0.08982036, ..., 0.39111111, 0.20606061,\n",
       "         0.46927374],\n",
       "        ...,\n",
       "        [0.43442623, 0.14527504, 0.08682635, ..., 0.23555556, 0.21515152,\n",
       "         0.33333333],\n",
       "        [0.45901639, 0.09590973, 0.06586826, ..., 0.30444444, 0.3030303 ,\n",
       "         0.33705773],\n",
       "        [0.6557377 , 0.29337094, 0.37724551, ..., 0.43777778, 0.44242424,\n",
       "         0.36312849]]),\n",
       " array([1, 0, 1, ..., 1, 0, 1]),\n",
       " array([[0.30327869, 0.12834979, 0.10179641, ..., 0.36888889, 0.19090909,\n",
       "         0.45996276],\n",
       "        [0.45081967, 0.25246827, 0.08682635, ..., 0.07555556, 0.12121212,\n",
       "         0.25698324],\n",
       "        [0.41803279, 0.07898449, 0.0508982 , ..., 0.25777778, 0.18181818,\n",
       "         0.37243948],\n",
       "        ...,\n",
       "        [0.63114754, 0.42877292, 0.3742515 , ..., 0.28666667, 0.26666667,\n",
       "         0.34450652],\n",
       "        [0.51639344, 0.0719323 , 0.08083832, ..., 0.4       , 0.54848485,\n",
       "         0.26629423],\n",
       "        [0.18852459, 0.05500705, 0.02095808, ..., 0.21555556, 0.28484848,\n",
       "         0.27374302]]),\n",
       " array([0, 0, 1, ..., 1, 1, 1]),\n",
       " None,\n",
       " None)"
      ]
     },
     "execution_count": 831,
     "metadata": {},
     "output_type": "execute_result"
    }
   ],
   "source": [
    "load_sets(path='data/processed/', val=False)"
   ]
  },
  {
   "cell_type": "markdown",
   "id": "cab31dbb-e054-432b-9da0-2f191650418c",
   "metadata": {},
   "source": [
    "## 3. Create Baseline Model"
   ]
  },
  {
   "cell_type": "markdown",
   "id": "9bd312b4-9221-42e2-8855-ba0862a7abf8",
   "metadata": {},
   "source": [
    "**[3.1]** Task: Find the mode of the target variable and print it's value"
   ]
  },
  {
   "cell_type": "code",
   "execution_count": 832,
   "id": "1f1d57f3-0869-4f09-83d8-f0b59e259f17",
   "metadata": {},
   "outputs": [
    {
     "data": {
      "text/plain": [
       "0    1\n",
       "Name: TARGET_5Yrs, dtype: int64"
      ]
     },
     "execution_count": 832,
     "metadata": {},
     "output_type": "execute_result"
    }
   ],
   "source": [
    "y_mode = y_train.mode()\n",
    "y_mode"
   ]
  },
  {
   "cell_type": "markdown",
   "id": "0c80bc44-2540-4562-8fcc-921485da5aef",
   "metadata": {},
   "source": [
    "**[3.2]** Task: Create a numpy array called y_base filled with this value"
   ]
  },
  {
   "cell_type": "code",
   "execution_count": 833,
   "id": "945c5aac-59fe-4932-86dc-0476c25752cd",
   "metadata": {},
   "outputs": [],
   "source": [
    "y_shape = (len(y_train), 1)\n",
    "y_base = np.full(y_shape, y_mode)"
   ]
  },
  {
   "cell_type": "markdown",
   "id": "9467fadb-38a6-4ec0-99db-d24a7b17206c",
   "metadata": {},
   "source": [
    "**[3.3]** Task: Import the accuracy score from sklearn"
   ]
  },
  {
   "cell_type": "code",
   "execution_count": 834,
   "id": "8909debd-762c-4a2b-a61f-9dafa58cf115",
   "metadata": {},
   "outputs": [],
   "source": [
    "from src.models.performance import print_reg_perf"
   ]
  },
  {
   "cell_type": "markdown",
   "id": "fb877509-84ce-41fe-a5ac-5b915314239e",
   "metadata": {},
   "source": [
    "**[3.4]** Task: Display the accuracy score of this baseline model"
   ]
  },
  {
   "cell_type": "code",
   "execution_count": 835,
   "id": "104e83af-6237-438c-8914-94b943003809",
   "metadata": {},
   "outputs": [
    {
     "name": "stdout",
     "output_type": "stream",
     "text": [
      "Accuracy Baseline: 0.83359375\n",
      "RMSE     Baseline: 0.407929221802018\n",
      "MAE      Baseline: 0.16640625\n"
     ]
    }
   ],
   "source": [
    "print_reg_perf(y_train, y_base, set_name=\"Baseline\")"
   ]
  },
  {
   "cell_type": "markdown",
   "id": "5c50b1f4-aa1c-4888-a1cb-5999529e36a0",
   "metadata": {},
   "source": [
    "The null accuracy is 83.35%\n",
    "If we predict 1, we'll be correct 83.35% of the time"
   ]
  },
  {
   "cell_type": "markdown",
   "id": "eaf47a54-da6e-400d-9374-cf8a3aa0816c",
   "metadata": {},
   "source": [
    "## 4. Random Forest - Hyperparameter Tuning with Grid Search and KFold"
   ]
  },
  {
   "cell_type": "markdown",
   "id": "31018efc-3693-4388-904b-a9adb273560f",
   "metadata": {},
   "source": [
    "Train Random Forest Algorithm\n",
    "\n",
    "1.   Use Grid Search to tune Hyper Parameters\n",
    "2.   Use KFold with 5 Splits\n",
    "3.   Fit Algorithm"
   ]
  },
  {
   "cell_type": "markdown",
   "id": "ced0eb4e-e5fa-4952-b28e-f9db78bd6ad9",
   "metadata": {},
   "source": [
    "**[4.1]** Task: Import GridSearchCV, KFold from sklearn.model_selection"
   ]
  },
  {
   "cell_type": "code",
   "execution_count": 836,
   "id": "940fef9a-17ec-47f3-ace0-abafc87c5e2b",
   "metadata": {},
   "outputs": [],
   "source": [
    "from sklearn.model_selection import RandomizedSearchCV,GridSearchCV,KFold"
   ]
  },
  {
   "cell_type": "markdown",
   "id": "2fb063f6-55c6-41e1-bfd4-4323de13b253",
   "metadata": {},
   "source": [
    "**[4.2]** Create a dictionary containing the Randomized Grid Search Parameters"
   ]
  },
  {
   "cell_type": "code",
   "execution_count": 837,
   "id": "1a5ad469-5108-44bc-ae36-7288bf864814",
   "metadata": {},
   "outputs": [],
   "source": [
    "# Number of trees in random forest\n",
    "n_estimators = np.linspace(50, 500, int((2000-100)/400) + 1, dtype=int)\n",
    "# Number of features to consider at every split\n",
    "max_features = ['auto', 'sqrt']\n",
    "# Maximum number of levels in tree\n",
    "max_depth = [1, 5, 10, 20, 50, 100]\n",
    "# Minimum number of samples required to split a node\n",
    "# min_samples_split = [int(x) for x in np.linspace(start = 2, stop = 10, num = 9)]\n",
    "min_samples_split = [1, 2, 5, 10, 15, 20]\n",
    "# Minimum number of samples required at each leaf node\n",
    "min_samples_leaf = [2, 5, 8]\n",
    "# Method of selecting samples for training each tree\n",
    "bootstrap = [True, False]\n",
    "# Criterion\n",
    "criterion=['gini', 'entropy']\n",
    "random_grid = {'n_estimators': n_estimators,\n",
    "#                'max_features': max_features,\n",
    "               'max_depth': max_depth,\n",
    "               'min_samples_split': min_samples_split,\n",
    "               'min_samples_leaf': min_samples_leaf,\n",
    "               'bootstrap': bootstrap,\n",
    "               'criterion': criterion}"
   ]
  },
  {
   "cell_type": "code",
   "execution_count": 838,
   "id": "40bf00ac-9ef7-4de4-9500-58e1396d8cf6",
   "metadata": {},
   "outputs": [
    {
     "data": {
      "text/plain": [
       "{'n_estimators': array([ 50, 162, 275, 387, 500]),\n",
       " 'max_depth': [1, 5, 10, 20, 50, 100],\n",
       " 'min_samples_split': [1, 2, 5, 10, 15, 20],\n",
       " 'min_samples_leaf': [2, 5, 8],\n",
       " 'bootstrap': [True, False],\n",
       " 'criterion': ['gini', 'entropy']}"
      ]
     },
     "execution_count": 838,
     "metadata": {},
     "output_type": "execute_result"
    }
   ],
   "source": [
    "random_grid"
   ]
  },
  {
   "cell_type": "markdown",
   "id": "ccf85da9-4853-408e-b7d2-cbc4179433ef",
   "metadata": {},
   "source": [
    "**[4.3]** Task: Create RF Model, and use Randomized Search to find GridSearch range"
   ]
  },
  {
   "cell_type": "code",
   "execution_count": 839,
   "id": "a28a49b7-3d63-4ec9-a7a7-85253587cb75",
   "metadata": {},
   "outputs": [],
   "source": [
    " from sklearn.ensemble import RandomForestClassifier"
   ]
  },
  {
   "cell_type": "code",
   "execution_count": 840,
   "id": "c68beb4c-62ca-4547-804a-e34fa110bb14",
   "metadata": {},
   "outputs": [],
   "source": [
    "rf_base = RandomForestClassifier()\n",
    "rf_random = RandomizedSearchCV(estimator = rf_base,\n",
    "                               param_distributions = random_grid,\n",
    "                               n_iter = 30, \n",
    "                               cv = 5,\n",
    "                               verbose=2,\n",
    "                               random_state=8, \n",
    "                               n_jobs = 4)"
   ]
  },
  {
   "cell_type": "markdown",
   "id": "57fb7bed-4a4e-44bb-9767-3f8944b91502",
   "metadata": {},
   "source": [
    "**[4.4]** Train Model"
   ]
  },
  {
   "cell_type": "code",
   "execution_count": 841,
   "id": "656e3a75-8940-421d-8b54-69f0b26b5fdc",
   "metadata": {},
   "outputs": [],
   "source": [
    "# Import Beep\n",
    "from src.indicator.sounds import beep_when_done"
   ]
  },
  {
   "cell_type": "code",
   "execution_count": 842,
   "id": "8a3a61fc-9a67-4788-82b5-4d42d91ac5a6",
   "metadata": {},
   "outputs": [],
   "source": [
    "#rf_random.fit(X_train, y_train)\n",
    "\n",
    "# Beep when completed\n",
    "#beep_when_done()\n",
    "\n",
    "#print(rf_random.best_params_)"
   ]
  },
  {
   "cell_type": "markdown",
   "id": "7395b8e3-9d5f-43da-8723-8825d5747789",
   "metadata": {},
   "source": [
    "*print(rf_random.best_params_)*\n",
    "\n",
    "{'n_estimators': 50, 'min_samples_split': 15, 'min_samples_leaf': 8, 'max_depth': 10, 'criterion': 'entropy', 'bootstrap': False}"
   ]
  },
  {
   "cell_type": "code",
   "execution_count": 843,
   "id": "5db57386-8114-4dcd-97aa-681765fac8e2",
   "metadata": {},
   "outputs": [],
   "source": [
    "rf_best = RandomForestClassifier(random_state=8, n_estimators=50, max_depth=10, min_samples_leaf=8, max_features=None).fit(X_train, y_train)"
   ]
  },
  {
   "cell_type": "code",
   "execution_count": 844,
   "id": "c91663c7-9218-404e-a121-fbab3a3ba8df",
   "metadata": {},
   "outputs": [
    {
     "name": "stdout",
     "output_type": "stream",
     "text": [
      "--- Accuracy Scores Best Fit Model ---\n",
      "Accuracy Baseline: 0.83359375\n",
      "RMSE     Baseline: 0.407929221802018\n",
      "MAE      Baseline: 0.16640625\n",
      "Accuracy Train   : 0.85890625\n",
      "RMSE     Train   : 0.375624480032918\n",
      "MAE      Train   : 0.14109375\n",
      "Accuracy Validate: 0.83375\n",
      "RMSE     Validate: 0.4077376607575023\n",
      "MAE      Validate: 0.16625\n"
     ]
    }
   ],
   "source": [
    "print(\"--- Accuracy Scores Best Fit Model ---\")\n",
    "print_reg_perf(y_train, y_base,                   set_name=\"Baseline\")\n",
    "print_reg_perf(rf_best.predict(X_train), y_train, set_name=\"Train   \")\n",
    "print_reg_perf(rf_best.predict(X_val), y_val,     set_name=\"Validate\")"
   ]
  },
  {
   "cell_type": "markdown",
   "id": "6583af27-1abb-4fb2-a96f-ac341f6a90cb",
   "metadata": {},
   "source": [
    "**Observation** Training Model is overfitting"
   ]
  },
  {
   "cell_type": "markdown",
   "id": "337ffca3-08e8-4d53-a70e-c3f00e57ab61",
   "metadata": {},
   "source": [
    "**[4.5]** Tune Hyperparameters to better reduce overfitting.\n",
    "\n",
    "1. Reduce Depth to and \n",
    "2. increase min samples per leaf to 10"
   ]
  },
  {
   "cell_type": "code",
   "execution_count": 845,
   "id": "6862fd22-23d5-4cec-8697-c3a9abcd21ce",
   "metadata": {},
   "outputs": [],
   "source": [
    "rf_best_1 = RandomForestClassifier(random_state=8, n_estimators=100, max_depth=10, min_samples_leaf=10, max_features=None, class_weight=None).fit(X_train, y_train)"
   ]
  },
  {
   "cell_type": "code",
   "execution_count": 846,
   "id": "53b8b44e-2670-4049-9a72-f51adaca55f2",
   "metadata": {},
   "outputs": [
    {
     "name": "stdout",
     "output_type": "stream",
     "text": [
      "--- Accuracy Scores Best Fit Model ---\n",
      "Accuracy Baseline: 0.83359375\n",
      "RMSE     Baseline: 0.407929221802018\n",
      "MAE      Baseline: 0.16640625\n",
      "Accuracy Train   : 0.8565625\n",
      "RMSE     Train   : 0.37873143518857794\n",
      "MAE      Train   : 0.1434375\n",
      "Accuracy Validate: 0.8325\n",
      "RMSE     Validate: 0.40926763859362253\n",
      "MAE      Validate: 0.1675\n"
     ]
    }
   ],
   "source": [
    "print(\"--- Accuracy Scores Best Fit Model ---\")\n",
    "print_reg_perf(y_train, y_base,                     set_name=\"Baseline\")\n",
    "print_reg_perf(rf_best_1.predict(X_train), y_train, set_name=\"Train   \")\n",
    "print_reg_perf(rf_best_1.predict(X_val), y_val,     set_name=\"Validate\")"
   ]
  },
  {
   "cell_type": "markdown",
   "id": "eaee372e-8dfa-4c36-8d21-9b0dacd3316a",
   "metadata": {},
   "source": [
    "**Observations**\n",
    "* Validation Dataset is not performing well for the model, indicating Model is overfitting on Train Dataset"
   ]
  },
  {
   "cell_type": "markdown",
   "id": "6a9f1c58-6a3c-4b56-9178-d6bb15e870a8",
   "metadata": {},
   "source": [
    "**[4.6]** Task: Plot Confusion Matrix\n",
    "\n",
    "Identify how well the model is performing at predicting the outcome"
   ]
  },
  {
   "cell_type": "code",
   "execution_count": 847,
   "id": "291c41e0-dac8-439c-af3b-6bb9b6198b63",
   "metadata": {},
   "outputs": [],
   "source": [
    "from sklearn.metrics import plot_confusion_matrix\n",
    "from sklearn.metrics import ConfusionMatrixDisplay\n",
    "import matplotlib.pyplot as plt"
   ]
  },
  {
   "cell_type": "code",
   "execution_count": 848,
   "id": "0763c405-d095-47fd-81d0-24ddb4a2cbca",
   "metadata": {},
   "outputs": [
    {
     "name": "stderr",
     "output_type": "stream",
     "text": [
      "/opt/conda/lib/python3.9/site-packages/sklearn/utils/deprecation.py:87: FutureWarning: Function plot_confusion_matrix is deprecated; Function `plot_confusion_matrix` is deprecated in 1.0 and will be removed in 1.2. Use one of the class methods: ConfusionMatrixDisplay.from_predictions or ConfusionMatrixDisplay.from_estimator.\n",
      "  warnings.warn(msg, category=FutureWarning)\n",
      "/opt/conda/lib/python3.9/site-packages/sklearn/utils/deprecation.py:87: FutureWarning: Function plot_confusion_matrix is deprecated; Function `plot_confusion_matrix` is deprecated in 1.0 and will be removed in 1.2. Use one of the class methods: ConfusionMatrixDisplay.from_predictions or ConfusionMatrixDisplay.from_estimator.\n",
      "  warnings.warn(msg, category=FutureWarning)\n"
     ]
    },
    {
     "data": {
      "text/plain": [
       "<sklearn.metrics._plot.confusion_matrix.ConfusionMatrixDisplay at 0x7f36293aa370>"
      ]
     },
     "execution_count": 848,
     "metadata": {},
     "output_type": "execute_result"
    },
    {
     "data": {
      "image/png": "[encoded data removed]",
      "text/plain": [
       "<Figure size 432x288 with 2 Axes>"
      ]
     },
     "metadata": {
      "needs_background": "light"
     },
     "output_type": "display_data"
    },
    {
     "data": {
      "image/png": "[encoded data removed]",
      "text/plain": [
       "<Figure size 432x288 with 2 Axes>"
      ]
     },
     "metadata": {
      "needs_background": "light"
     },
     "output_type": "display_data"
    }
   ],
   "source": [
    "# Plot confusion matrix (with numbers)\n",
    "plot_confusion_matrix(rf_best_1, X_train, y_train, cmap=plt.cm.Blues)\n",
    "plot_confusion_matrix(rf_best_1, X_val, y_val, cmap=plt.cm.Blues)"
   ]
  },
  {
   "cell_type": "code",
   "execution_count": 849,
   "id": "0cc1cfc3-9362-4916-a8e1-84c1f91140a0",
   "metadata": {},
   "outputs": [
    {
     "name": "stderr",
     "output_type": "stream",
     "text": [
      "/opt/conda/lib/python3.9/site-packages/sklearn/utils/deprecation.py:87: FutureWarning: Function plot_confusion_matrix is deprecated; Function `plot_confusion_matrix` is deprecated in 1.0 and will be removed in 1.2. Use one of the class methods: ConfusionMatrixDisplay.from_predictions or ConfusionMatrixDisplay.from_estimator.\n",
      "  warnings.warn(msg, category=FutureWarning)\n",
      "/opt/conda/lib/python3.9/site-packages/sklearn/utils/deprecation.py:87: FutureWarning: Function plot_confusion_matrix is deprecated; Function `plot_confusion_matrix` is deprecated in 1.0 and will be removed in 1.2. Use one of the class methods: ConfusionMatrixDisplay.from_predictions or ConfusionMatrixDisplay.from_estimator.\n",
      "  warnings.warn(msg, category=FutureWarning)\n"
     ]
    },
    {
     "data": {
      "text/plain": [
       "<sklearn.metrics._plot.confusion_matrix.ConfusionMatrixDisplay at 0x7f36291ffa60>"
      ]
     },
     "execution_count": 849,
     "metadata": {},
     "output_type": "execute_result"
    },
    {
     "data": {
      "image/png": "[encoded data removed]",
      "text/plain": [
       "<Figure size 432x288 with 2 Axes>"
      ]
     },
     "metadata": {
      "needs_background": "light"
     },
     "output_type": "display_data"
    },
    {
     "data": {
      "image/png": "[encoded data removed]",
      "text/plain": [
       "<Figure size 432x288 with 2 Axes>"
      ]
     },
     "metadata": {
      "needs_background": "light"
     },
     "output_type": "display_data"
    }
   ],
   "source": [
    "# Plot confusion matrix (with ratios)\n",
    "plot_confusion_matrix(rf_best_1, X_train, y_train, cmap=plt.cm.Blues, normalize='true')\n",
    "plot_confusion_matrix(rf_best_1, X_val, y_val, cmap=plt.cm.Blues, normalize='true')"
   ]
  },
  {
   "cell_type": "markdown",
   "id": "e27fe1b7-c5fd-403e-abe0-dd45e0c23c9a",
   "metadata": {},
   "source": [
    "**Observation** Both Models is predicting alot of False Positives (FP) in both training and validation datasets"
   ]
  },
  {
   "cell_type": "markdown",
   "id": "013db129-34d0-4bda-ab01-de28ced9f900",
   "metadata": {},
   "source": [
    "**[4.7]** Task: Calculate AUROC"
   ]
  },
  {
   "cell_type": "code",
   "execution_count": 850,
   "id": "d9fc1685-7dea-4391-b1c5-df33ac3dabee",
   "metadata": {},
   "outputs": [],
   "source": [
    "from sklearn.metrics import roc_auc_score"
   ]
  },
  {
   "cell_type": "code",
   "execution_count": 851,
   "id": "d57a3114-300b-40f0-933b-6c5ef1adf11c",
   "metadata": {},
   "outputs": [
    {
     "name": "stdout",
     "output_type": "stream",
     "text": [
      "rf_best_1_proba: [0.84423352 0.24651894 0.83960159 ... 0.81992902 0.70179499 0.92741714]\n"
     ]
    }
   ],
   "source": [
    "rf_best_1_X_train_proba = rf_best_1.predict_proba(X_train)[:, 1]\n",
    "rf_best_1_X_val_proba = rf_best_1.predict_proba(X_val)[:, 1]\n",
    "print(\"rf_best_1_proba:\", rf_best_1_X_train_proba)"
   ]
  },
  {
   "cell_type": "code",
   "execution_count": 852,
   "id": "79b00fed-f40e-4470-be93-bcf54e6cbaa3",
   "metadata": {},
   "outputs": [
    {
     "data": {
      "text/plain": [
       "0.9228169014084506"
      ]
     },
     "execution_count": 852,
     "metadata": {},
     "output_type": "execute_result"
    }
   ],
   "source": [
    "roc_auc_score(y_train, rf_best_1_X_train_proba)"
   ]
  },
  {
   "cell_type": "code",
   "execution_count": 853,
   "id": "bfda5baf-952f-4520-ae12-429701203645",
   "metadata": {},
   "outputs": [
    {
     "data": {
      "text/plain": [
       "0.6794422337703329"
      ]
     },
     "execution_count": 853,
     "metadata": {},
     "output_type": "execute_result"
    }
   ],
   "source": [
    "roc_auc_score(y_val, rf_best_1_X_val_proba)"
   ]
  },
  {
   "cell_type": "markdown",
   "id": "068089aa-40a3-4c19-8bd6-dcd5aac6d9b2",
   "metadata": {},
   "source": [
    "**Observations** \n",
    "* Training Dataset has a good AUROC prediction.\n",
    "* Validation Dataset has a poor AUROC prediction. This indicates the model is over-fitting and not working well on unseen data\n",
    "* The finaly Kaggle result AUROC 0.679 continues this trend\n",
    "* More work to be done"
   ]
  },
  {
   "cell_type": "markdown",
   "id": "b64bf39c-8aa2-4a98-93c5-81346645d12c",
   "metadata": {},
   "source": [
    "## 5. Random Forest - Feature Importance"
   ]
  },
  {
   "cell_type": "markdown",
   "id": "f0cc7273-bffa-4eb4-812d-950d6d35e1e0",
   "metadata": {},
   "source": [
    "**[5.1]** Task: Print feature importance"
   ]
  },
  {
   "cell_type": "code",
   "execution_count": 854,
   "id": "1aec0c78-7c8c-4c12-b55f-9cc8184c58a1",
   "metadata": {},
   "outputs": [
    {
     "data": {
      "text/plain": [
       "array([0.22286906, 0.03750991, 0.02773512, 0.01801176, 0.01997252,\n",
       "       0.08715108, 0.01065063, 0.01958543, 0.03139004, 0.02168692,\n",
       "       0.02752128, 0.04888101, 0.03033124, 0.0257002 , 0.03721702,\n",
       "       0.03420871, 0.02092578, 0.01639818, 0.02968393, 0.0181242 ,\n",
       "       0.01875055, 0.01210669, 0.05509395, 0.0546837 , 0.07381108])"
      ]
     },
     "execution_count": 854,
     "metadata": {},
     "output_type": "execute_result"
    }
   ],
   "source": [
    "rf_best_1.feature_importances_"
   ]
  },
  {
   "cell_type": "markdown",
   "id": "d5b3cab3-aede-407a-afb4-ba035018ae89",
   "metadata": {},
   "source": [
    "**[5.2]** Task: Create a Data Frame with feature importance values"
   ]
  },
  {
   "cell_type": "code",
   "execution_count": 855,
   "id": "3617c805-8717-4f62-afb3-9f64289bfd50",
   "metadata": {},
   "outputs": [],
   "source": [
    "feat_imp_rf_df = pd.DataFrame(\n",
    "    {'feature': X_train.columns,\n",
    "     'feature_importance': rf_best_1.feature_importances_\n",
    "     }\n",
    "     )"
   ]
  },
  {
   "cell_type": "markdown",
   "id": "318f2f40-34ba-4022-849a-4cb13dfd9681",
   "metadata": {},
   "source": [
    "**[5.3]** Task: Sort dataframe and reset index"
   ]
  },
  {
   "cell_type": "code",
   "execution_count": 856,
   "id": "5809ef22-cf6e-4dbc-a6ff-83bb26a2780d",
   "metadata": {},
   "outputs": [],
   "source": [
    "feat_imp_rf_df = feat_imp_rf_df.sort_values('feature_importance', ascending=False).reset_index(drop=True)"
   ]
  },
  {
   "cell_type": "markdown",
   "id": "e4e31baa-f2f0-42da-bedc-a8e7abe09c58",
   "metadata": {},
   "source": [
    "**[5.4]** Task: Display the first 10 rows of important features"
   ]
  },
  {
   "cell_type": "code",
   "execution_count": 857,
   "id": "a305eef4-95aa-4cee-b1b1-35403bf2d16e",
   "metadata": {},
   "outputs": [
    {
     "data": {
      "text/html": [
       "<div>\n",
       "<style scoped>\n",
       "    .dataframe tbody tr th:only-of-type {\n",
       "        vertical-align: middle;\n",
       "    }\n",
       "\n",
       "    .dataframe tbody tr th {\n",
       "        vertical-align: top;\n",
       "    }\n",
       "\n",
       "    .dataframe thead th {\n",
       "        text-align: right;\n",
       "    }\n",
       "</style>\n",
       "<table border=\"1\" class=\"dataframe\">\n",
       "  <thead>\n",
       "    <tr style=\"text-align: right;\">\n",
       "      <th></th>\n",
       "      <th>feature</th>\n",
       "      <th>feature_importance</th>\n",
       "    </tr>\n",
       "  </thead>\n",
       "  <tbody>\n",
       "    <tr>\n",
       "      <th>0</th>\n",
       "      <td>GP</td>\n",
       "      <td>0.222869</td>\n",
       "    </tr>\n",
       "    <tr>\n",
       "      <th>1</th>\n",
       "      <td>FG%</td>\n",
       "      <td>0.087151</td>\n",
       "    </tr>\n",
       "    <tr>\n",
       "      <th>2</th>\n",
       "      <td>PER</td>\n",
       "      <td>0.073811</td>\n",
       "    </tr>\n",
       "    <tr>\n",
       "      <th>3</th>\n",
       "      <td>PPER</td>\n",
       "      <td>0.055094</td>\n",
       "    </tr>\n",
       "    <tr>\n",
       "      <th>4</th>\n",
       "      <td>NPER</td>\n",
       "      <td>0.054684</td>\n",
       "    </tr>\n",
       "    <tr>\n",
       "      <th>5</th>\n",
       "      <td>FT%</td>\n",
       "      <td>0.048881</td>\n",
       "    </tr>\n",
       "    <tr>\n",
       "      <th>6</th>\n",
       "      <td>MIN</td>\n",
       "      <td>0.037510</td>\n",
       "    </tr>\n",
       "    <tr>\n",
       "      <th>7</th>\n",
       "      <td>REB</td>\n",
       "      <td>0.037217</td>\n",
       "    </tr>\n",
       "    <tr>\n",
       "      <th>8</th>\n",
       "      <td>AST</td>\n",
       "      <td>0.034209</td>\n",
       "    </tr>\n",
       "    <tr>\n",
       "      <th>9</th>\n",
       "      <td>3P%</td>\n",
       "      <td>0.031390</td>\n",
       "    </tr>\n",
       "  </tbody>\n",
       "</table>\n",
       "</div>"
      ],
      "text/plain": [
       "  feature  feature_importance\n",
       "0      GP            0.222869\n",
       "1     FG%            0.087151\n",
       "2     PER            0.073811\n",
       "3    PPER            0.055094\n",
       "4    NPER            0.054684\n",
       "5     FT%            0.048881\n",
       "6     MIN            0.037510\n",
       "7     REB            0.037217\n",
       "8     AST            0.034209\n",
       "9     3P%            0.031390"
      ]
     },
     "execution_count": 857,
     "metadata": {},
     "output_type": "execute_result"
    }
   ],
   "source": [
    "feat_imp_rf_df.head(10)"
   ]
  },
  {
   "cell_type": "markdown",
   "id": "29a1718c-745f-48fd-8c7f-82be235c30bc",
   "metadata": {},
   "source": [
    "**[5.5]**  Task: Create graph of Feature Importance"
   ]
  },
  {
   "cell_type": "code",
   "execution_count": 858,
   "id": "4850e8af-7660-4f7a-9979-545ac38906f2",
   "metadata": {},
   "outputs": [],
   "source": [
    "import altair as alt"
   ]
  },
  {
   "cell_type": "code",
   "execution_count": 859,
   "id": "4ed0bc2e-43aa-492c-9527-d6bc98dad2fd",
   "metadata": {},
   "outputs": [
    {
     "data": {
      "text/html": [
       "\n",
       "<div id=\"altair-viz-855393799ff546fcb78a25f125240ffa\"></div>\n",
       "<script type=\"text/javascript\">\n",
       "  var VEGA_DEBUG = (typeof VEGA_DEBUG == \"undefined\") ? {} : VEGA_DEBUG;\n",
       "  (function(spec, embedOpt){\n",
       "    let outputDiv = document.currentScript.previousElementSibling;\n",
       "    if (outputDiv.id !== \"altair-viz-855393799ff546fcb78a25f125240ffa\") {\n",
       "      outputDiv = document.getElementById(\"altair-viz-855393799ff546fcb78a25f125240ffa\");\n",
       "    }\n",
       "    const paths = {\n",
       "      \"vega\": \"https://cdn.jsdelivr.net/npm//vega@5?noext\",\n",
       "      \"vega-lib\": \"https://cdn.jsdelivr.net/npm//vega-lib?noext\",\n",
       "      \"vega-lite\": \"https://cdn.jsdelivr.net/npm//vega-lite@4.17.0?noext\",\n",
       "      \"vega-embed\": \"https://cdn.jsdelivr.net/npm//vega-embed@6?noext\",\n",
       "    };\n",
       "\n",
       "    function maybeLoadScript(lib, version) {\n",
       "      var key = `${lib.replace(\"-\", \"\")}_version`;\n",
       "      return (VEGA_DEBUG[key] == version) ?\n",
       "        Promise.resolve(paths[lib]) :\n",
       "        new Promise(function(resolve, reject) {\n",
       "          var s = document.createElement('script');\n",
       "          document.getElementsByTagName(\"head\")[0].appendChild(s);\n",
       "          s.async = true;\n",
       "          s.onload = () => {\n",
       "            VEGA_DEBUG[key] = version;\n",
       "            return resolve(paths[lib]);\n",
       "          };\n",
       "          s.onerror = () => reject(`Error loading script: ${paths[lib]}`);\n",
       "          s.src = paths[lib];\n",
       "        });\n",
       "    }\n",
       "\n",
       "    function showError(err) {\n",
       "      outputDiv.innerHTML = `<div class=\"error\" style=\"color:red;\">${err}</div>`;\n",
       "      throw err;\n",
       "    }\n",
       "\n",
       "    function displayChart(vegaEmbed) {\n",
       "      vegaEmbed(outputDiv, spec, embedOpt)\n",
       "        .catch(err => showError(`Javascript Error: ${err.message}<br>This usually means there's a typo in your chart specification. See the javascript console for the full traceback.`));\n",
       "    }\n",
       "\n",
       "    if(typeof define === \"function\" && define.amd) {\n",
       "      requirejs.config({paths});\n",
       "      require([\"vega-embed\"], displayChart, err => showError(`Error loading script: ${err.message}`));\n",
       "    } else {\n",
       "      maybeLoadScript(\"vega\", \"5\")\n",
       "        .then(() => maybeLoadScript(\"vega-lite\", \"4.17.0\"))\n",
       "        .then(() => maybeLoadScript(\"vega-embed\", \"6\"))\n",
       "        .catch(showError)\n",
       "        .then(() => displayChart(vegaEmbed));\n",
       "    }\n",
       "  })({\"config\": {\"view\": {\"continuousWidth\": 400, \"continuousHeight\": 300}}, \"data\": {\"name\": \"data-d30f6fa8aada457620de48be00b4cfc0\"}, \"mark\": \"bar\", \"encoding\": {\"tooltip\": [{\"field\": \"feature\", \"type\": \"nominal\"}, {\"field\": \"feature_importance\", \"type\": \"quantitative\"}], \"x\": {\"field\": \"feature_importance\", \"type\": \"quantitative\"}, \"y\": {\"field\": \"feature\", \"sort\": \"-x\", \"type\": \"nominal\"}}, \"$schema\": \"https://vega.github.io/schema/vega-lite/v4.17.0.json\", \"datasets\": {\"data-d30f6fa8aada457620de48be00b4cfc0\": [{\"feature\": \"GP\", \"feature_importance\": 0.22286905686831326}, {\"feature\": \"FG%\", \"feature_importance\": 0.08715108185319968}, {\"feature\": \"PER\", \"feature_importance\": 0.07381108034356863}, {\"feature\": \"PPER\", \"feature_importance\": 0.05509395183037041}, {\"feature\": \"NPER\", \"feature_importance\": 0.05468370433630059}, {\"feature\": \"FT%\", \"feature_importance\": 0.04888101331962853}, {\"feature\": \"MIN\", \"feature_importance\": 0.037509908544460624}, {\"feature\": \"REB\", \"feature_importance\": 0.03721702457434696}, {\"feature\": \"AST\", \"feature_importance\": 0.034208707362813146}, {\"feature\": \"3P%\", \"feature_importance\": 0.03139003744475991}, {\"feature\": \"OREB\", \"feature_importance\": 0.030331238070322925}, {\"feature\": \"TOV\", \"feature_importance\": 0.02968393484909453}, {\"feature\": \"PTS\", \"feature_importance\": 0.027735120971541266}, {\"feature\": \"FTA\", \"feature_importance\": 0.02752128192226551}, {\"feature\": \"DREB\", \"feature_importance\": 0.02570020197261957}, {\"feature\": \"FTM\", \"feature_importance\": 0.021686921376871882}, {\"feature\": \"STL\", \"feature_importance\": 0.020925775777583748}, {\"feature\": \"FGA\", \"feature_importance\": 0.019972519586091787}, {\"feature\": \"3PA\", \"feature_importance\": 0.019585428243690837}, {\"feature\": \"3P_Missed\", \"feature_importance\": 0.018750553083529152}, {\"feature\": \"FG_Missed\", \"feature_importance\": 0.018124200569833396}, {\"feature\": \"FGM\", \"feature_importance\": 0.018011758826804277}, {\"feature\": \"BLK\", \"feature_importance\": 0.01639817610243851}, {\"feature\": \"FT_Missed\", \"feature_importance\": 0.012106688627717455}, {\"feature\": \"3P Made\", \"feature_importance\": 0.010650633541833411}]}}, {\"mode\": \"vega-lite\"});\n",
       "</script>"
      ],
      "text/plain": [
       "alt.Chart(...)"
      ]
     },
     "execution_count": 859,
     "metadata": {},
     "output_type": "execute_result"
    }
   ],
   "source": [
    "alt.Chart(feat_imp_rf_df).mark_bar().encode(\n",
    "    x='feature_importance',\n",
    "    y=alt.Y(\"feature\", sort='-x'),\n",
    "    tooltip=['feature','feature_importance'])"
   ]
  },
  {
   "cell_type": "markdown",
   "id": "f0fcdf46-0db9-449b-beab-7a335d13354c",
   "metadata": {},
   "source": [
    "## 6. Random Forest - Kaggle Competition Preparation"
   ]
  },
  {
   "cell_type": "markdown",
   "id": "95ac6bdf-49de-430a-a810-523fda2ca663",
   "metadata": {},
   "source": [
    "**[6.1]** Prepare Kaggle Input File using rf_best Random Forest Model"
   ]
  },
  {
   "cell_type": "code",
   "execution_count": 62,
   "id": "eb8779e6-30a6-4351-b417-75af0c5d7060",
   "metadata": {},
   "outputs": [],
   "source": [
    "# Drop Target and ID for X, and create target from y\n",
    "df_test_id = df_test_cleaned['Id']\n",
    "X_test = df_test_cleaned.drop(['Id'], axis=1)"
   ]
  },
  {
   "cell_type": "markdown",
   "id": "3b0a1642-e83d-4784-94f7-c89057829fbc",
   "metadata": {},
   "source": [
    "**[6.2]** Check Test Dataset is ready for predicting"
   ]
  },
  {
   "cell_type": "code",
   "execution_count": 63,
   "id": "2ff4404e-4433-43fe-8e5c-f1d3da4e7cd0",
   "metadata": {},
   "outputs": [
    {
     "name": "stdout",
     "output_type": "stream",
     "text": [
      "<class 'pandas.core.frame.DataFrame'>\n",
      "RangeIndex: 3799 entries, 0 to 3798\n",
      "Data columns (total 19 columns):\n",
      " #   Column   Non-Null Count  Dtype  \n",
      "---  ------   --------------  -----  \n",
      " 0   GP       3799 non-null   float64\n",
      " 1   MIN      3799 non-null   float64\n",
      " 2   PTS      3799 non-null   float64\n",
      " 3   FGM      3799 non-null   float64\n",
      " 4   FGA      3799 non-null   float64\n",
      " 5   FG%      3799 non-null   float64\n",
      " 6   OREB     3799 non-null   float64\n",
      " 7   DREB     3799 non-null   float64\n",
      " 8   REB      3799 non-null   float64\n",
      " 9   AST      3799 non-null   float64\n",
      " 10  STL      3799 non-null   float64\n",
      " 11  TOV      3799 non-null   float64\n",
      " 12  3P Made  3799 non-null   float64\n",
      " 13  3PA      3799 non-null   float64\n",
      " 14  3P%      3799 non-null   float64\n",
      " 15  FTM      3799 non-null   float64\n",
      " 16  FTA      3799 non-null   float64\n",
      " 17  FT%      3799 non-null   float64\n",
      " 18  BLK      3799 non-null   float64\n",
      "dtypes: float64(19)\n",
      "memory usage: 564.0 KB\n"
     ]
    }
   ],
   "source": [
    "X_test.info()"
   ]
  },
  {
   "cell_type": "markdown",
   "id": "83c4ef83-1e64-453b-9dca-d358aa3c5486",
   "metadata": {},
   "source": [
    "**[6.3]** Create y Prediction using the Test Dataset"
   ]
  },
  {
   "cell_type": "code",
   "execution_count": 72,
   "id": "bd8c1325-8ae1-4a06-a435-5f42bb6cdce4",
   "metadata": {},
   "outputs": [],
   "source": [
    "y_predict = rf_best_1.predict_proba(X_test)"
   ]
  },
  {
   "cell_type": "code",
   "execution_count": 76,
   "id": "427dccd0-8944-46fc-b5dd-535dc1d5d720",
   "metadata": {},
   "outputs": [
    {
     "name": "stdout",
     "output_type": "stream",
     "text": [
      "[[0.26613207 0.73386793]\n",
      " [0.30919053 0.69080947]\n",
      " [0.11440978 0.88559022]\n",
      " ...\n",
      " [0.22347663 0.77652337]\n",
      " [0.06077046 0.93922954]\n",
      " [0.25728307 0.74271693]]\n"
     ]
    }
   ],
   "source": [
    "print(y_predict)"
   ]
  },
  {
   "cell_type": "code",
   "execution_count": 77,
   "id": "80d12dba",
   "metadata": {},
   "outputs": [
    {
     "name": "stdout",
     "output_type": "stream",
     "text": [
      "[0.73386793 0.69080947 0.88559022 ... 0.77652337 0.93922954 0.74271693]\n"
     ]
    }
   ],
   "source": [
    "print(y_predict[:,1])"
   ]
  },
  {
   "cell_type": "markdown",
   "id": "3358c9b7-13d1-48b8-ad95-41215d0bff9f",
   "metadata": {},
   "source": [
    "**[6.4]** Convert the Numpy Array into a Pandas Dataframe with a Column Name TARGET_5Yrs"
   ]
  },
  {
   "cell_type": "code",
   "execution_count": 78,
   "id": "58fb81e7-6af3-4bcd-930f-49b24e0c1c78",
   "metadata": {},
   "outputs": [],
   "source": [
    "# Convert numpy arrany y_predict values back to df_train_cleaned_scaled data frame \n",
    "y_predict = pd.DataFrame(y_predict[:,1], columns = ['TARGET_5Yrs'])"
   ]
  },
  {
   "cell_type": "markdown",
   "id": "c802c901-1ea2-487f-8a4c-d540330b5b0d",
   "metadata": {},
   "source": [
    "**[6.5]** Concatenate Player ID and Prediction into on Data Frame and Sort by Id"
   ]
  },
  {
   "cell_type": "code",
   "execution_count": 79,
   "id": "116ef162-791d-4574-a6be-3ed5f0289297",
   "metadata": {},
   "outputs": [],
   "source": [
    "y_predict = pd.concat([df_test_id, y_predict], axis=1)"
   ]
  },
  {
   "cell_type": "code",
   "execution_count": 80,
   "id": "e738cf48-eeff-4205-b7a4-05f27c381369",
   "metadata": {},
   "outputs": [],
   "source": [
    "y_predict = y_predict.sort_values(by=['Id'])"
   ]
  },
  {
   "cell_type": "code",
   "execution_count": 82,
   "id": "7b1085bd",
   "metadata": {},
   "outputs": [
    {
     "name": "stdout",
     "output_type": "stream",
     "text": [
      "         Id  TARGET_5Yrs\n",
      "0         1     0.733868\n",
      "2         3     0.885590\n",
      "5         6     0.663792\n",
      "8        14     0.771546\n",
      "10       17     0.787609\n",
      "...     ...          ...\n",
      "3057  13770     0.881461\n",
      "3058  13771     0.741607\n",
      "3059  13774     0.696779\n",
      "3063  13787     0.724787\n",
      "3064  13792     0.828467\n",
      "\n",
      "[3799 rows x 2 columns]\n"
     ]
    }
   ],
   "source": [
    "print(y_predict)"
   ]
  },
  {
   "cell_type": "markdown",
   "id": "d2430a87-7502-42df-bb97-43dc645d9fe9",
   "metadata": {},
   "source": [
    "**[6.6]** Export Dataframe to CSV and save model"
   ]
  },
  {
   "cell_type": "code",
   "execution_count": 83,
   "id": "0aa7d879-f6b6-4604-b874-b89f0bdd2b8a",
   "metadata": {},
   "outputs": [
    {
     "data": {
      "text/plain": [
       "(3799, 2)"
      ]
     },
     "execution_count": 83,
     "metadata": {},
     "output_type": "execute_result"
    }
   ],
   "source": [
    "#joblib.dump(rf_best_1, \"../models/nfragar_20220212_random_forest_v1_1.joblib\", compress=3)\n",
    "y_predict.to_csv(\"../data/external/submission_nfragar_20220212_random_forest_v1_2.csv\", index = False)\n",
    "y_predict.shape"
   ]
  }
 ],
 "metadata": {
  "kernelspec": {
   "display_name": "Python 3 (ipykernel)",
   "language": "python",
   "name": "python3"
  },
  "language_info": {
   "codemirror_mode": {
    "name": "ipython",
    "version": 3
   },
   "file_extension": ".py",
   "mimetype": "text/x-python",
   "name": "python",
   "nbconvert_exporter": "python",
   "pygments_lexer": "ipython3",
   "version": "3.9.7"
  }
 },
 "nbformat": 4,
 "nbformat_minor": 5
}
