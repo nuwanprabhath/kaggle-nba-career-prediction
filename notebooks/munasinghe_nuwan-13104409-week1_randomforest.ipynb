{
 "cells": [
  {
   "cell_type": "code",
   "execution_count": 69,
   "id": "1a09faa8-353f-4088-8eb7-e8e2a0ae0ef2",
   "metadata": {},
   "outputs": [],
   "source": [
    "import sys\n",
    "import numpy as np\n",
    "import pandas as pd\n",
    "import joblib\n",
    "from sklearn.ensemble import RandomForestClassifier \n",
    "from importlib.machinery import SourceFileLoader\n",
    "\n",
    "# TODO Jupyter working directory is /notebooks. Therefore normal \"from src.data\" isn't working. Manually passing --notebook-dir\n",
    "# when running the notebook didn't work. Needs to be investigated and fixed. This is a workaround\n",
    "split_test_data = SourceFileLoader('split_test_data', '../src/data/split_test_data.py').load_module()\n",
    "visualize = SourceFileLoader('visualize', '../src/visualization/visualize.py').load_module()\n",
    "\n",
    "# True if you want to run with the Kaggle train and test set. Otherwise it will use split data for model optimization\n",
    "use_kaggle_data = False "
   ]
  },
  {
   "cell_type": "markdown",
   "id": "fb4f35d8-68cc-4157-a4cb-454c3d385e2d",
   "metadata": {},
   "source": [
    "Importing datasets for training (80%), testing (10%) and validation (10%)\n",
    "and normalize features using MinMaxScaler. Load full Kaggle data and predict using Kaggle test set if training with that"
   ]
  },
  {
   "cell_type": "code",
   "execution_count": 70,
   "id": "56538e1b",
   "metadata": {},
   "outputs": [
    {
     "name": "stdout",
     "output_type": "stream",
     "text": [
      "X_train shape: (8000, 19)\n",
      "y_train shape: (8000,)\n",
      "X_test shape: (3799, 20)\n"
     ]
    }
   ],
   "source": [
    "if use_kaggle_data:\n",
    "    X_train, y_train, X_test = split_test_data.load_kaggle_train_and_test_data('../data/raw/train.csv', '../data/raw/test.csv')\n",
    "else:    \n",
    "    X_train, y_train, X_test, y_test, X_valid, y_valid = \\\n",
    "    split_test_data.split_and_normalize('../data/raw/train.csv', '../data/processed')"
   ]
  },
  {
   "cell_type": "markdown",
   "id": "1a633d36",
   "metadata": {},
   "source": [
    "Check details of the data if required"
   ]
  },
  {
   "cell_type": "code",
   "execution_count": 73,
   "id": "61da58b4",
   "metadata": {},
   "outputs": [
    {
     "data": {
      "text/html": [
       "<div>\n",
       "<style scoped>\n",
       "    .dataframe tbody tr th:only-of-type {\n",
       "        vertical-align: middle;\n",
       "    }\n",
       "\n",
       "    .dataframe tbody tr th {\n",
       "        vertical-align: top;\n",
       "    }\n",
       "\n",
       "    .dataframe thead th {\n",
       "        text-align: right;\n",
       "    }\n",
       "</style>\n",
       "<table border=\"1\" class=\"dataframe\">\n",
       "  <thead>\n",
       "    <tr style=\"text-align: right;\">\n",
       "      <th></th>\n",
       "      <th>GP</th>\n",
       "      <th>MIN</th>\n",
       "      <th>PTS</th>\n",
       "      <th>FGM</th>\n",
       "      <th>FGA</th>\n",
       "      <th>FG%</th>\n",
       "      <th>3P Made</th>\n",
       "      <th>3PA</th>\n",
       "      <th>3P%</th>\n",
       "      <th>FTM</th>\n",
       "      <th>FTA</th>\n",
       "      <th>FT%</th>\n",
       "      <th>OREB</th>\n",
       "      <th>DREB</th>\n",
       "      <th>REB</th>\n",
       "      <th>AST</th>\n",
       "      <th>STL</th>\n",
       "      <th>BLK</th>\n",
       "      <th>TOV</th>\n",
       "    </tr>\n",
       "  </thead>\n",
       "  <tbody>\n",
       "    <tr>\n",
       "      <th>count</th>\n",
       "      <td>8000.000000</td>\n",
       "      <td>8000.000000</td>\n",
       "      <td>8000.000000</td>\n",
       "      <td>8000.000000</td>\n",
       "      <td>8000.000000</td>\n",
       "      <td>8000.000000</td>\n",
       "      <td>8000.000000</td>\n",
       "      <td>8000.000000</td>\n",
       "      <td>8000.000000</td>\n",
       "      <td>8000.000000</td>\n",
       "      <td>8000.000000</td>\n",
       "      <td>8000.000000</td>\n",
       "      <td>8000.000000</td>\n",
       "      <td>8000.000000</td>\n",
       "      <td>8000.000000</td>\n",
       "      <td>8000.000000</td>\n",
       "      <td>8000.000000</td>\n",
       "      <td>8000.000000</td>\n",
       "      <td>8000.000000</td>\n",
       "    </tr>\n",
       "    <tr>\n",
       "      <th>mean</th>\n",
       "      <td>0.540289</td>\n",
       "      <td>0.221109</td>\n",
       "      <td>0.193625</td>\n",
       "      <td>0.195862</td>\n",
       "      <td>0.193282</td>\n",
       "      <td>0.507819</td>\n",
       "      <td>0.487330</td>\n",
       "      <td>0.502123</td>\n",
       "      <td>0.481623</td>\n",
       "      <td>0.171917</td>\n",
       "      <td>0.175476</td>\n",
       "      <td>0.464686</td>\n",
       "      <td>0.195970</td>\n",
       "      <td>0.182269</td>\n",
       "      <td>0.188801</td>\n",
       "      <td>0.126915</td>\n",
       "      <td>0.180191</td>\n",
       "      <td>0.493076</td>\n",
       "      <td>0.222647</td>\n",
       "    </tr>\n",
       "    <tr>\n",
       "      <th>std</th>\n",
       "      <td>0.130678</td>\n",
       "      <td>0.126026</td>\n",
       "      <td>0.129303</td>\n",
       "      <td>0.132295</td>\n",
       "      <td>0.127564</td>\n",
       "      <td>0.134106</td>\n",
       "      <td>0.137176</td>\n",
       "      <td>0.136021</td>\n",
       "      <td>0.132696</td>\n",
       "      <td>0.114340</td>\n",
       "      <td>0.112825</td>\n",
       "      <td>0.057247</td>\n",
       "      <td>0.142849</td>\n",
       "      <td>0.128910</td>\n",
       "      <td>0.133664</td>\n",
       "      <td>0.105936</td>\n",
       "      <td>0.113229</td>\n",
       "      <td>0.022311</td>\n",
       "      <td>0.139090</td>\n",
       "    </tr>\n",
       "    <tr>\n",
       "      <th>min</th>\n",
       "      <td>0.000000</td>\n",
       "      <td>0.000000</td>\n",
       "      <td>0.000000</td>\n",
       "      <td>0.000000</td>\n",
       "      <td>0.000000</td>\n",
       "      <td>0.000000</td>\n",
       "      <td>0.000000</td>\n",
       "      <td>0.000000</td>\n",
       "      <td>0.000000</td>\n",
       "      <td>0.000000</td>\n",
       "      <td>0.000000</td>\n",
       "      <td>0.000000</td>\n",
       "      <td>0.000000</td>\n",
       "      <td>0.000000</td>\n",
       "      <td>0.000000</td>\n",
       "      <td>0.000000</td>\n",
       "      <td>0.000000</td>\n",
       "      <td>0.000000</td>\n",
       "      <td>0.000000</td>\n",
       "    </tr>\n",
       "    <tr>\n",
       "      <th>25%</th>\n",
       "      <td>0.450382</td>\n",
       "      <td>0.128350</td>\n",
       "      <td>0.098802</td>\n",
       "      <td>0.101562</td>\n",
       "      <td>0.099644</td>\n",
       "      <td>0.416122</td>\n",
       "      <td>0.392857</td>\n",
       "      <td>0.410256</td>\n",
       "      <td>0.388889</td>\n",
       "      <td>0.086420</td>\n",
       "      <td>0.090090</td>\n",
       "      <td>0.429748</td>\n",
       "      <td>0.090909</td>\n",
       "      <td>0.083333</td>\n",
       "      <td>0.089744</td>\n",
       "      <td>0.054688</td>\n",
       "      <td>0.083333</td>\n",
       "      <td>0.489130</td>\n",
       "      <td>0.115385</td>\n",
       "    </tr>\n",
       "    <tr>\n",
       "      <th>50%</th>\n",
       "      <td>0.541985</td>\n",
       "      <td>0.196051</td>\n",
       "      <td>0.164671</td>\n",
       "      <td>0.164062</td>\n",
       "      <td>0.163701</td>\n",
       "      <td>0.503268</td>\n",
       "      <td>0.500000</td>\n",
       "      <td>0.500000</td>\n",
       "      <td>0.480929</td>\n",
       "      <td>0.148148</td>\n",
       "      <td>0.153153</td>\n",
       "      <td>0.464874</td>\n",
       "      <td>0.163636</td>\n",
       "      <td>0.157407</td>\n",
       "      <td>0.160256</td>\n",
       "      <td>0.101562</td>\n",
       "      <td>0.166667</td>\n",
       "      <td>0.491848</td>\n",
       "      <td>0.192308</td>\n",
       "    </tr>\n",
       "    <tr>\n",
       "      <th>75%</th>\n",
       "      <td>0.625954</td>\n",
       "      <td>0.290550</td>\n",
       "      <td>0.260479</td>\n",
       "      <td>0.265625</td>\n",
       "      <td>0.259786</td>\n",
       "      <td>0.596950</td>\n",
       "      <td>0.571429</td>\n",
       "      <td>0.589744</td>\n",
       "      <td>0.572968</td>\n",
       "      <td>0.234568</td>\n",
       "      <td>0.234234</td>\n",
       "      <td>0.498353</td>\n",
       "      <td>0.272727</td>\n",
       "      <td>0.250000</td>\n",
       "      <td>0.256410</td>\n",
       "      <td>0.171875</td>\n",
       "      <td>0.250000</td>\n",
       "      <td>0.497283</td>\n",
       "      <td>0.288462</td>\n",
       "    </tr>\n",
       "    <tr>\n",
       "      <th>max</th>\n",
       "      <td>1.000000</td>\n",
       "      <td>1.000000</td>\n",
       "      <td>1.000000</td>\n",
       "      <td>1.000000</td>\n",
       "      <td>1.000000</td>\n",
       "      <td>1.000000</td>\n",
       "      <td>1.000000</td>\n",
       "      <td>1.000000</td>\n",
       "      <td>1.000000</td>\n",
       "      <td>1.000000</td>\n",
       "      <td>1.000000</td>\n",
       "      <td>1.000000</td>\n",
       "      <td>1.000000</td>\n",
       "      <td>1.000000</td>\n",
       "      <td>1.000000</td>\n",
       "      <td>1.000000</td>\n",
       "      <td>1.000000</td>\n",
       "      <td>1.000000</td>\n",
       "      <td>1.000000</td>\n",
       "    </tr>\n",
       "  </tbody>\n",
       "</table>\n",
       "</div>"
      ],
      "text/plain": [
       "                GP          MIN          PTS          FGM          FGA  \\\n",
       "count  8000.000000  8000.000000  8000.000000  8000.000000  8000.000000   \n",
       "mean      0.540289     0.221109     0.193625     0.195862     0.193282   \n",
       "std       0.130678     0.126026     0.129303     0.132295     0.127564   \n",
       "min       0.000000     0.000000     0.000000     0.000000     0.000000   \n",
       "25%       0.450382     0.128350     0.098802     0.101562     0.099644   \n",
       "50%       0.541985     0.196051     0.164671     0.164062     0.163701   \n",
       "75%       0.625954     0.290550     0.260479     0.265625     0.259786   \n",
       "max       1.000000     1.000000     1.000000     1.000000     1.000000   \n",
       "\n",
       "               FG%      3P Made          3PA          3P%          FTM  \\\n",
       "count  8000.000000  8000.000000  8000.000000  8000.000000  8000.000000   \n",
       "mean      0.507819     0.487330     0.502123     0.481623     0.171917   \n",
       "std       0.134106     0.137176     0.136021     0.132696     0.114340   \n",
       "min       0.000000     0.000000     0.000000     0.000000     0.000000   \n",
       "25%       0.416122     0.392857     0.410256     0.388889     0.086420   \n",
       "50%       0.503268     0.500000     0.500000     0.480929     0.148148   \n",
       "75%       0.596950     0.571429     0.589744     0.572968     0.234568   \n",
       "max       1.000000     1.000000     1.000000     1.000000     1.000000   \n",
       "\n",
       "               FTA          FT%         OREB         DREB          REB  \\\n",
       "count  8000.000000  8000.000000  8000.000000  8000.000000  8000.000000   \n",
       "mean      0.175476     0.464686     0.195970     0.182269     0.188801   \n",
       "std       0.112825     0.057247     0.142849     0.128910     0.133664   \n",
       "min       0.000000     0.000000     0.000000     0.000000     0.000000   \n",
       "25%       0.090090     0.429748     0.090909     0.083333     0.089744   \n",
       "50%       0.153153     0.464874     0.163636     0.157407     0.160256   \n",
       "75%       0.234234     0.498353     0.272727     0.250000     0.256410   \n",
       "max       1.000000     1.000000     1.000000     1.000000     1.000000   \n",
       "\n",
       "               AST          STL          BLK          TOV  \n",
       "count  8000.000000  8000.000000  8000.000000  8000.000000  \n",
       "mean      0.126915     0.180191     0.493076     0.222647  \n",
       "std       0.105936     0.113229     0.022311     0.139090  \n",
       "min       0.000000     0.000000     0.000000     0.000000  \n",
       "25%       0.054688     0.083333     0.489130     0.115385  \n",
       "50%       0.101562     0.166667     0.491848     0.192308  \n",
       "75%       0.171875     0.250000     0.497283     0.288462  \n",
       "max       1.000000     1.000000     1.000000     1.000000  "
      ]
     },
     "execution_count": 73,
     "metadata": {},
     "output_type": "execute_result"
    }
   ],
   "source": [
    "# X_train.describe()"
   ]
  },
  {
   "cell_type": "markdown",
   "id": "8e73c16f-e5b8-4adf-a274-b71205accd7b",
   "metadata": {},
   "source": [
    "Training the random forest"
   ]
  },
  {
   "cell_type": "code",
   "execution_count": 74,
   "id": "1a837069",
   "metadata": {
    "scrolled": true
   },
   "outputs": [
    {
     "data": {
      "text/plain": [
       "RandomForestClassifier(n_jobs=1, random_state=44)"
      ]
     },
     "execution_count": 74,
     "metadata": {},
     "output_type": "execute_result"
    }
   ],
   "source": [
    "rf = RandomForestClassifier(n_estimators=100, n_jobs=1, random_state = 44, max_features=\"auto\")\n",
    "rf.fit(X_train, y_train.values.ravel()) # Converting column y values to 1d array"
   ]
  },
  {
   "cell_type": "markdown",
   "id": "8354c22b",
   "metadata": {},
   "source": [
    "Predicting using trained random forest "
   ]
  },
  {
   "cell_type": "code",
   "execution_count": 75,
   "id": "567ad90a",
   "metadata": {},
   "outputs": [],
   "source": [
    "pred = rf.predict(X_test.loc[:, 'GP':'TOV']) # Predicting using ranodm forest. Removing ID during predicting\n",
    "\n",
    "result = pd.DataFrame(data = {'Id': X_test.loc[:,'Id'], 'TARGET_5Yrs': pred}) # Data frame with ID for csv writing\n",
    "result_values = result[['TARGET_5Yrs']] # Extracting values for calculating stats"
   ]
  },
  {
   "cell_type": "markdown",
   "id": "d8ee49e4",
   "metadata": {},
   "source": [
    "Saving the trainned model and writing result to a CSV file"
   ]
  },
  {
   "cell_type": "code",
   "execution_count": 76,
   "id": "b2ec11c3",
   "metadata": {
    "scrolled": true
   },
   "outputs": [
    {
     "data": {
      "text/plain": [
       "(3799, 2)"
      ]
     },
     "execution_count": 76,
     "metadata": {},
     "output_type": "execute_result"
    }
   ],
   "source": [
    "joblib.dump(rf, \"../models/random_forest_v1.joblib\")\n",
    "result.to_csv(\"../data/external/test_v3.csv\", index = False)\n",
    "result.shape"
   ]
  },
  {
   "cell_type": "markdown",
   "id": "70c12746",
   "metadata": {},
   "source": [
    "Show stats related to performance of the model if not using Kaggle dataset"
   ]
  },
  {
   "cell_type": "code",
   "execution_count": 78,
   "id": "214fb000",
   "metadata": {},
   "outputs": [
    {
     "name": "stdout",
     "output_type": "stream",
     "text": [
      "Kaggle dataset - No stats\n"
     ]
    }
   ],
   "source": [
    "if use_kaggle_data==False:\n",
    "    visualize.show_random_forest_stats(result_values, y_test)\n",
    "else:\n",
    "    print(\"Kaggle dataset - No stats\")"
   ]
  },
  {
   "cell_type": "code",
   "execution_count": null,
   "id": "92840090",
   "metadata": {},
   "outputs": [],
   "source": []
  }
 ],
 "metadata": {
  "interpreter": {
   "hash": "dd8d2c4ed1a7f8449a8ed3fc82c2ff6cc1ec75d26fd7e344fadf328bd613336a"
  },
  "kernelspec": {
   "display_name": "Python 3 (ipykernel)",
   "language": "python",
   "name": "python3"
  },
  "language_info": {
   "codemirror_mode": {
    "name": "ipython",
    "version": 3
   },
   "file_extension": ".py",
   "mimetype": "text/x-python",
   "name": "python",
   "nbconvert_exporter": "python",
   "pygments_lexer": "ipython3",
   "version": "3.10.0"
  }
 },
 "nbformat": 4,
 "nbformat_minor": 5
}
