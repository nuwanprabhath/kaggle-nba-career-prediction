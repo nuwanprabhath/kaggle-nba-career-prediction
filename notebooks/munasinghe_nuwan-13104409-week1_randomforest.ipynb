{
 "cells": [
  {
   "cell_type": "code",
   "execution_count": 21,
   "id": "1a09faa8-353f-4088-8eb7-e8e2a0ae0ef2",
   "metadata": {},
   "outputs": [],
   "source": [
    "import sys\n",
    "import numpy as np\n",
    "import pandas as pd\n",
    "import joblib\n",
    "from sklearn.ensemble import RandomForestClassifier \n",
    "from importlib.machinery import SourceFileLoader\n",
    "\n",
    "# TODO Jupyter working directory is /notebooks. Therefore importing \"from src.data\" isn't working. Manually passing --notebook-dir\n",
    "# when running the notebook didn't work. Needs to be investigated and fixed. This is a workaround\n",
    "process_test_data = SourceFileLoader('process_test_data', '../src/data/process_test_data.py').load_module()\n",
    "visualize = SourceFileLoader('visualize', '../src/visualization/visualize.py').load_module()\n",
    "\n",
    "# True if you want to run with the Kaggle train and test set for submission. Otherwise it will use split kaggle train data for model \n",
    "# optimization to calculate stats and parameter optimization\n",
    "use_kaggle_data = False "
   ]
  },
  {
   "cell_type": "markdown",
   "id": "fb4f35d8-68cc-4157-a4cb-454c3d385e2d",
   "metadata": {},
   "source": [
    "If not using Kaggle data set for submission, split train datasets for training (80%), testing (10%) and validation (10%)\n",
    "and normalize features using MinMaxScaler. Else load full Kaggle data and predict using Kaggle test set for submission"
   ]
  },
  {
   "cell_type": "code",
   "execution_count": 22,
   "id": "56538e1b",
   "metadata": {},
   "outputs": [
    {
     "name": "stdout",
     "output_type": "stream",
     "text": [
      "Original train shape: (8000, 21)\n",
      "Concat shape: (8000, 20)\n",
      "Files written to: ../data/processed\n",
      "X_train shape: (6400, 19)\n",
      "y_train shape: (6400, 1)\n",
      "X_test shape: (800, 20)\n",
      "y_test shape: (800, 1)\n",
      "X_valid shape: (800, 20)\n",
      "y_valid shape: (800, 1)\n"
     ]
    }
   ],
   "source": [
    "if use_kaggle_data:\n",
    "    X_train, y_train, X_test = process_test_data.load_kaggle_train_and_test_data('../data/raw/train.csv', '../data/raw/test.csv')\n",
    "else:    \n",
    "    X_train, y_train, X_test, y_test, X_valid, y_valid = \\\n",
    "    process_test_data.split_and_normalize('../data/raw/train.csv', '../data/processed')"
   ]
  },
  {
   "cell_type": "markdown",
   "id": "3d70bc90",
   "metadata": {},
   "source": [
    "Check details of the data if required"
   ]
  },
  {
   "cell_type": "code",
   "execution_count": 23,
   "id": "773201bf",
   "metadata": {},
   "outputs": [],
   "source": [
    "# X_train.describe()"
   ]
  },
  {
   "cell_type": "markdown",
   "id": "fd1086e3",
   "metadata": {},
   "source": [
    "Dropping features that have low importance"
   ]
  },
  {
   "cell_type": "code",
   "execution_count": 24,
   "id": "cc1e141d",
   "metadata": {},
   "outputs": [],
   "source": [
    "X_train.drop('3P Made', axis=1, inplace=True)\n",
    "X_test.drop('3P Made', axis=1, inplace=True)"
   ]
  },
  {
   "cell_type": "markdown",
   "id": "8e73c16f-e5b8-4adf-a274-b71205accd7b",
   "metadata": {},
   "source": [
    "Training the random forest"
   ]
  },
  {
   "cell_type": "code",
   "execution_count": 25,
   "id": "1a837069",
   "metadata": {
    "scrolled": true
   },
   "outputs": [
    {
     "data": {
      "text/plain": [
       "RandomForestClassifier(class_weight='balanced_subsample', n_jobs=1,\n",
       "                       oob_score=True, random_state=44)"
      ]
     },
     "execution_count": 25,
     "metadata": {},
     "output_type": "execute_result"
    }
   ],
   "source": [
    "rf = RandomForestClassifier(n_estimators=100, n_jobs=1, random_state = 44, max_features=\"auto\", oob_score=True, class_weight=\"balanced_subsample\")\n",
    "# Converting column y values to 1d array\n",
    "rf.fit(X_train, y_train.values.ravel()) "
   ]
  },
  {
   "cell_type": "markdown",
   "id": "8354c22b",
   "metadata": {},
   "source": [
    "Predicting using trained random forest "
   ]
  },
  {
   "cell_type": "code",
   "execution_count": 26,
   "id": "567ad90a",
   "metadata": {},
   "outputs": [],
   "source": [
    "if use_kaggle_data==True:\n",
    "    # Predicting probabilities for kaggle submission and selecting probability of class 1.\n",
    "    pred = rf.predict_proba(X_test.loc[:, 'GP':'TOV'])[:,1]  \n",
    "else:\n",
    "    # Predicting classes (1 or 0) for calculating accuracy\n",
    "    pred = rf.predict(X_test.loc[:, 'GP':'TOV']) \n",
    "    rf_probs = rf.predict_proba(X_test.loc[:, 'GP':'TOV'])[:,1]\n",
    "\n",
    "# Data frame with ID for csv writing\n",
    "result = pd.DataFrame(data = {'Id': X_test.loc[:,'Id'], 'TARGET_5Yrs': pred}) \n",
    "# Extracting values for calculating stats\n",
    "result_values = result[['TARGET_5Yrs']] "
   ]
  },
  {
   "cell_type": "markdown",
   "id": "d8ee49e4",
   "metadata": {},
   "source": [
    "Saving the trainned model and writing result to a CSV file"
   ]
  },
  {
   "cell_type": "code",
   "execution_count": 27,
   "id": "b2ec11c3",
   "metadata": {
    "scrolled": true
   },
   "outputs": [
    {
     "data": {
      "text/plain": [
       "['../models/nuwan_random_forest_v7.joblib']"
      ]
     },
     "execution_count": 27,
     "metadata": {},
     "output_type": "execute_result"
    }
   ],
   "source": [
    "joblib.dump(rf, \"../models/nuwan_random_forest_v7.joblib\", compress=3)"
   ]
  },
  {
   "cell_type": "markdown",
   "id": "70c12746",
   "metadata": {},
   "source": [
    "Show stats related to performance of the model if not using Kaggle dataset"
   ]
  },
  {
   "cell_type": "code",
   "execution_count": 28,
   "id": "214fb000",
   "metadata": {},
   "outputs": [
    {
     "name": "stdout",
     "output_type": "stream",
     "text": [
      "Average absolute error: 16.625%\n",
      "ROC: 0.66966\n"
     ]
    }
   ],
   "source": [
    "if use_kaggle_data==False:\n",
    "    visualize.show_random_forest_stats(rf, X_test.loc[:, 'GP':'TOV'], y_test, rf_probs)\n",
    "    # visualize.show_feature_importance(rf, X_train) # Uncomment to see feature importance if required\n",
    "else:\n",
    "    result.to_csv(\"../data/external/submission_nuwan_v7.csv\", index = False)\n",
    "    print(\"Kaggle dataset and no stats. Writing to a file.\")"
   ]
  },
  {
   "cell_type": "code",
   "execution_count": null,
   "id": "58c9d985",
   "metadata": {},
   "outputs": [],
   "source": []
  }
 ],
 "metadata": {
  "interpreter": {
   "hash": "dd8d2c4ed1a7f8449a8ed3fc82c2ff6cc1ec75d26fd7e344fadf328bd613336a"
  },
  "kernelspec": {
   "display_name": "Python 3 (ipykernel)",
   "language": "python",
   "name": "python3"
  },
  "language_info": {
   "codemirror_mode": {
    "name": "ipython",
    "version": 3
   },
   "file_extension": ".py",
   "mimetype": "text/x-python",
   "name": "python",
   "nbconvert_exporter": "python",
   "pygments_lexer": "ipython3",
   "version": "3.10.0"
  }
 },
 "nbformat": 4,
 "nbformat_minor": 5
}
