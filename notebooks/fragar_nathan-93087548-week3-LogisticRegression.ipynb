{
 "cells": [
  {
   "cell_type": "markdown",
   "metadata": {},
   "source": [
    "# **AdvDS - Assignment 1: Binary Classification - NBA Player Prediction - Data Preparation**"
   ]
  },
  {
   "cell_type": "markdown",
   "metadata": {},
   "source": [
    "Build a binary classification model that can predict if a rookie player will last at least 5 years in the NBA"
   ]
  },
  {
   "cell_type": "markdown",
   "metadata": {},
   "source": [
    "**Student Name:** Nathan Fragar\n",
    "\n",
    "**Student No. :** 93087548\n",
    "\n",
    "**Week:** 2\n",
    "\n",
    "**Date:** 20FEB2022\n",
    "\n",
    "**Team Name:** Group 1\n",
    "* Nuwan Munasinghe\n",
    "* Wenyingwuwy\n",
    "* Nathan Fragar\n",
    "* Sean Williams"
   ]
  },
  {
   "cell_type": "markdown",
   "metadata": {},
   "source": [
    "## 1. Load Dataset"
   ]
  },
  {
   "cell_type": "markdown",
   "metadata": {},
   "source": [
    "**[1.1]** Task: Import required packages: Pandas, Numpy, joblib"
   ]
  },
  {
   "cell_type": "code",
   "execution_count": 140,
   "metadata": {},
   "outputs": [],
   "source": [
    "# Task: Import the pandas, numpy, scipy stats and joblib package\n",
    "import pandas as pd\n",
    "import numpy as np\n",
    "from scipy import stats\n",
    "import joblib as job"
   ]
  },
  {
   "cell_type": "markdown",
   "metadata": {},
   "source": [
    "**[1.2]** Task: Change working directory to /home/jovyan/work"
   ]
  },
  {
   "cell_type": "code",
   "execution_count": 141,
   "metadata": {},
   "outputs": [
    {
     "name": "stdout",
     "output_type": "stream",
     "text": [
      "/home/jovyan/work\n"
     ]
    }
   ],
   "source": [
    "cd /home/jovyan/work"
   ]
  },
  {
   "cell_type": "markdown",
   "metadata": {},
   "source": [
    "**[1.3]** Task: Load Processed Data"
   ]
  },
  {
   "cell_type": "code",
   "execution_count": 142,
   "metadata": {},
   "outputs": [],
   "source": [
    "from src.data.sets import load_sets"
   ]
  },
  {
   "cell_type": "code",
   "execution_count": 143,
   "metadata": {},
   "outputs": [],
   "source": [
    "X_train, y_train, X_val, y_val, X_test, y_test = load_sets(path='data/processed/', val=False)"
   ]
  },
  {
   "cell_type": "markdown",
   "metadata": {},
   "source": [
    "**[1.4]** Task: Automatically Reload Modules"
   ]
  },
  {
   "cell_type": "code",
   "execution_count": 144,
   "metadata": {},
   "outputs": [
    {
     "name": "stdout",
     "output_type": "stream",
     "text": [
      "The autoreload extension is already loaded. To reload it, use:\n",
      "  %reload_ext autoreload\n"
     ]
    }
   ],
   "source": [
    "# Automatically reload modules\n",
    "%load_ext autoreload\n",
    "%autoreload 2"
   ]
  },
  {
   "cell_type": "markdown",
   "metadata": {},
   "source": [
    "## 3. Create Baseline Model"
   ]
  },
  {
   "cell_type": "markdown",
   "metadata": {},
   "source": [
    "**[3.1]** Task: Find the mode of the target variable and print it's value"
   ]
  },
  {
   "cell_type": "code",
   "execution_count": 145,
   "metadata": {},
   "outputs": [
    {
     "name": "stdout",
     "output_type": "stream",
     "text": [
      "[1]\n"
     ]
    }
   ],
   "source": [
    "y_mode = np.array(stats.mode(y_train)[0])\n",
    "print(y_mode)"
   ]
  },
  {
   "cell_type": "markdown",
   "metadata": {},
   "source": [
    "**[3.2]** Task: Create a numpy array called y_base filled with this value"
   ]
  },
  {
   "cell_type": "code",
   "execution_count": 146,
   "metadata": {},
   "outputs": [],
   "source": [
    "y_shape = (len(y_train), 1)\n",
    "y_base = np.full(y_shape, y_mode)"
   ]
  },
  {
   "cell_type": "markdown",
   "metadata": {},
   "source": [
    "**[3.3]** Task: Import the accuracy score from sklearn"
   ]
  },
  {
   "cell_type": "code",
   "execution_count": 147,
   "metadata": {},
   "outputs": [],
   "source": [
    "from src.models.performance import print_reg_perf"
   ]
  },
  {
   "cell_type": "markdown",
   "metadata": {},
   "source": [
    "**[3.4]** Task: Display the accuracy score of this baseline model"
   ]
  },
  {
   "cell_type": "code",
   "execution_count": 148,
   "metadata": {},
   "outputs": [],
   "source": [
    "# print_reg_perf(y_train, y_base, set_name=\"Baseline\")"
   ]
  },
  {
   "cell_type": "markdown",
   "metadata": {},
   "source": [
    "The null accuracy is 83.35%\n",
    "If we predict 1, we'll be correct 83.35% of the time"
   ]
  },
  {
   "cell_type": "markdown",
   "metadata": {},
   "source": [
    "## 4. Logistic Regression - Hyperparameter Tuning with Grid Search and KFold"
   ]
  },
  {
   "cell_type": "markdown",
   "metadata": {},
   "source": [
    "Train Logistic Regression Algorithm\n",
    "\n",
    "1.   Use Grid Search to tune Hyper Parameters\n",
    "2.   Use KFold with 5 Splits\n",
    "3.   Fit Algorithm"
   ]
  },
  {
   "cell_type": "markdown",
   "metadata": {},
   "source": [
    "**[4.1]** Task: Import GridSearchCV, KFold from sklearn.model_selection"
   ]
  },
  {
   "cell_type": "code",
   "execution_count": 149,
   "metadata": {},
   "outputs": [],
   "source": [
    "from sklearn.model_selection import RandomizedSearchCV,GridSearchCV,KFold"
   ]
  },
  {
   "cell_type": "markdown",
   "metadata": {},
   "source": [
    "**[4.2]** Create a dictionary containing the Randomized Grid Search Parameters"
   ]
  },
  {
   "cell_type": "code",
   "execution_count": 150,
   "metadata": {},
   "outputs": [],
   "source": [
    "# Linear Regression Random Grid Parameters\n",
    "# Class Weight\n",
    "class_weight = ['balanced']\n",
    "# Penalty\n",
    "penalty = ['none','l2','l1','elasticnet']\n",
    "# Solver\n",
    "solver = ['liblinear','lbfgs']\n",
    "# max_iter\n",
    "max_iter = [500]\n",
    "\n",
    "random_grid = {'class_weight': class_weight,\n",
    "               'penalty':penalty,\n",
    "               'solver':solver,\n",
    "               'max_iter':max_iter\n",
    "               }\n",
    "\n"
   ]
  },
  {
   "cell_type": "code",
   "execution_count": 151,
   "metadata": {},
   "outputs": [
    {
     "data": {
      "text/plain": [
       "{'class_weight': ['balanced'],\n",
       " 'penalty': ['none', 'l2', 'l1', 'elasticnet'],\n",
       " 'solver': ['liblinear', 'lbfgs'],\n",
       " 'max_iter': [500]}"
      ]
     },
     "execution_count": 151,
     "metadata": {},
     "output_type": "execute_result"
    }
   ],
   "source": [
    "random_grid"
   ]
  },
  {
   "cell_type": "markdown",
   "metadata": {},
   "source": [
    "**[4.3]** Task: Create RF Model, and use Randomized Search to find GridSearch range"
   ]
  },
  {
   "cell_type": "code",
   "execution_count": 152,
   "metadata": {},
   "outputs": [],
   "source": [
    " from sklearn.linear_model import LogisticRegression as LR"
   ]
  },
  {
   "cell_type": "code",
   "execution_count": 153,
   "metadata": {},
   "outputs": [],
   "source": [
    "lr_base = LR()\n",
    "lr_random = RandomizedSearchCV(estimator = lr_base,\n",
    "                               param_distributions = random_grid,\n",
    "                               n_iter = 50, \n",
    "                               cv = 5,\n",
    "                               verbose=2,\n",
    "                               random_state=8, \n",
    "                               n_jobs = 4)"
   ]
  },
  {
   "cell_type": "markdown",
   "metadata": {},
   "source": [
    "**[4.4]** Train Model"
   ]
  },
  {
   "cell_type": "code",
   "execution_count": 154,
   "metadata": {},
   "outputs": [],
   "source": [
    "# Import Beep\n",
    "from src.indicator.sounds import beep_when_done"
   ]
  },
  {
   "cell_type": "code",
   "execution_count": 155,
   "metadata": {},
   "outputs": [
    {
     "name": "stdout",
     "output_type": "stream",
     "text": [
      "Fitting 5 folds for each of 8 candidates, totalling 40 fits\n"
     ]
    },
    {
     "name": "stderr",
     "output_type": "stream",
     "text": [
      "/opt/conda/lib/python3.9/site-packages/sklearn/model_selection/_search.py:292: UserWarning: The total space of parameters 8 is smaller than n_iter=50. Running 8 iterations. For exhaustive searches, use GridSearchCV.\n",
      "  warnings.warn(\n"
     ]
    },
    {
     "name": "stdout",
     "output_type": "stream",
     "text": [
      "{'solver': 'liblinear', 'penalty': 'l2', 'max_iter': 500, 'class_weight': 'balanced'}\n"
     ]
    },
    {
     "name": "stderr",
     "output_type": "stream",
     "text": [
      "/opt/conda/lib/python3.9/site-packages/sklearn/model_selection/_validation.py:372: FitFailedWarning: \n",
      "20 fits failed out of a total of 40.\n",
      "The score on these train-test partitions for these parameters will be set to nan.\n",
      "If these failures are not expected, you can try to debug them by setting error_score='raise'.\n",
      "\n",
      "Below are more details about the failures:\n",
      "--------------------------------------------------------------------------------\n",
      "5 fits failed with the following error:\n",
      "Traceback (most recent call last):\n",
      "  File \"/opt/conda/lib/python3.9/site-packages/sklearn/model_selection/_validation.py\", line 680, in _fit_and_score\n",
      "    estimator.fit(X_train, y_train, **fit_params)\n",
      "  File \"/opt/conda/lib/python3.9/site-packages/sklearn/linear_model/_logistic.py\", line 1461, in fit\n",
      "    solver = _check_solver(self.solver, self.penalty, self.dual)\n",
      "  File \"/opt/conda/lib/python3.9/site-packages/sklearn/linear_model/_logistic.py\", line 464, in _check_solver\n",
      "    raise ValueError(\"penalty='none' is not supported for the liblinear solver\")\n",
      "ValueError: penalty='none' is not supported for the liblinear solver\n",
      "\n",
      "--------------------------------------------------------------------------------\n",
      "5 fits failed with the following error:\n",
      "Traceback (most recent call last):\n",
      "  File \"/opt/conda/lib/python3.9/site-packages/sklearn/model_selection/_validation.py\", line 680, in _fit_and_score\n",
      "    estimator.fit(X_train, y_train, **fit_params)\n",
      "  File \"/opt/conda/lib/python3.9/site-packages/sklearn/linear_model/_logistic.py\", line 1461, in fit\n",
      "    solver = _check_solver(self.solver, self.penalty, self.dual)\n",
      "  File \"/opt/conda/lib/python3.9/site-packages/sklearn/linear_model/_logistic.py\", line 447, in _check_solver\n",
      "    raise ValueError(\n",
      "ValueError: Solver lbfgs supports only 'l2' or 'none' penalties, got l1 penalty.\n",
      "\n",
      "--------------------------------------------------------------------------------\n",
      "5 fits failed with the following error:\n",
      "Traceback (most recent call last):\n",
      "  File \"/opt/conda/lib/python3.9/site-packages/sklearn/model_selection/_validation.py\", line 680, in _fit_and_score\n",
      "    estimator.fit(X_train, y_train, **fit_params)\n",
      "  File \"/opt/conda/lib/python3.9/site-packages/sklearn/linear_model/_logistic.py\", line 1461, in fit\n",
      "    solver = _check_solver(self.solver, self.penalty, self.dual)\n",
      "  File \"/opt/conda/lib/python3.9/site-packages/sklearn/linear_model/_logistic.py\", line 457, in _check_solver\n",
      "    raise ValueError(\n",
      "ValueError: Only 'saga' solver supports elasticnet penalty, got solver=liblinear.\n",
      "\n",
      "--------------------------------------------------------------------------------\n",
      "5 fits failed with the following error:\n",
      "Traceback (most recent call last):\n",
      "  File \"/opt/conda/lib/python3.9/site-packages/sklearn/model_selection/_validation.py\", line 680, in _fit_and_score\n",
      "    estimator.fit(X_train, y_train, **fit_params)\n",
      "  File \"/opt/conda/lib/python3.9/site-packages/sklearn/linear_model/_logistic.py\", line 1461, in fit\n",
      "    solver = _check_solver(self.solver, self.penalty, self.dual)\n",
      "  File \"/opt/conda/lib/python3.9/site-packages/sklearn/linear_model/_logistic.py\", line 447, in _check_solver\n",
      "    raise ValueError(\n",
      "ValueError: Solver lbfgs supports only 'l2' or 'none' penalties, got elasticnet penalty.\n",
      "\n",
      "  warnings.warn(some_fits_failed_message, FitFailedWarning)\n",
      "/opt/conda/lib/python3.9/site-packages/sklearn/model_selection/_search.py:969: UserWarning: One or more of the test scores are non-finite: [       nan 0.6384375  0.64171875 0.64078125 0.64015625        nan\n",
      "        nan        nan]\n",
      "  warnings.warn(\n"
     ]
    }
   ],
   "source": [
    "lr_random.fit(X_train, y_train)\n",
    "\n",
    "# Beep when completed\n",
    "#beep_when_done()\n",
    "\n",
    "print(lr_random.best_params_)"
   ]
  },
  {
   "cell_type": "markdown",
   "metadata": {},
   "source": [
    "\"print(lr_random.best_params_)\"\n",
    "\n",
    "{'solver': 'lbfgs', 'penalty': 'l2', 'max_iter': 500, 'class_weight': 'balanced'}"
   ]
  },
  {
   "cell_type": "code",
   "execution_count": 156,
   "metadata": {},
   "outputs": [],
   "source": [
    "lr_best = LR(solver='lbfgs', penalty='l2', max_iter=500, class_weight='balanced').fit(X_train, y_train)"
   ]
  },
  {
   "cell_type": "code",
   "execution_count": 157,
   "metadata": {},
   "outputs": [],
   "source": [
    "from src.models.performance import score_models"
   ]
  },
  {
   "cell_type": "code",
   "execution_count": 158,
   "metadata": {},
   "outputs": [
    {
     "data": {
      "text/html": [
       "<div>\n",
       "<style scoped>\n",
       "    .dataframe tbody tr th:only-of-type {\n",
       "        vertical-align: middle;\n",
       "    }\n",
       "\n",
       "    .dataframe tbody tr th {\n",
       "        vertical-align: top;\n",
       "    }\n",
       "\n",
       "    .dataframe thead th {\n",
       "        text-align: right;\n",
       "    }\n",
       "</style>\n",
       "<table border=\"1\" class=\"dataframe\">\n",
       "  <thead>\n",
       "    <tr style=\"text-align: right;\">\n",
       "      <th></th>\n",
       "      <th>Set Name</th>\n",
       "      <th>ACC</th>\n",
       "      <th>MSE</th>\n",
       "      <th>MAE</th>\n",
       "      <th>PREC</th>\n",
       "      <th>RECALL</th>\n",
       "      <th>F1</th>\n",
       "      <th>AUC</th>\n",
       "    </tr>\n",
       "  </thead>\n",
       "  <tbody>\n",
       "    <tr>\n",
       "      <th>0</th>\n",
       "      <td>Train</td>\n",
       "      <td>0.644687</td>\n",
       "      <td>0.596081</td>\n",
       "      <td>0.355312</td>\n",
       "      <td>0.902023</td>\n",
       "      <td>0.643674</td>\n",
       "      <td>0.751258</td>\n",
       "      <td>0.708975</td>\n",
       "    </tr>\n",
       "    <tr>\n",
       "      <th>1</th>\n",
       "      <td>Validate</td>\n",
       "      <td>0.647500</td>\n",
       "      <td>0.593717</td>\n",
       "      <td>0.352500</td>\n",
       "      <td>0.902720</td>\n",
       "      <td>0.646927</td>\n",
       "      <td>0.753712</td>\n",
       "      <td>0.699031</td>\n",
       "    </tr>\n",
       "  </tbody>\n",
       "</table>\n",
       "</div>"
      ],
      "text/plain": [
       "   Set Name       ACC       MSE       MAE      PREC    RECALL        F1  \\\n",
       "0     Train  0.644687  0.596081  0.355312  0.902023  0.643674  0.751258   \n",
       "1  Validate  0.647500  0.593717  0.352500  0.902720  0.646927  0.753712   \n",
       "\n",
       "        AUC  \n",
       "0  0.708975  \n",
       "1  0.699031  "
      ]
     },
     "metadata": {},
     "output_type": "display_data"
    }
   ],
   "source": [
    "score_models(X_train = X_train, y_train = y_train, X_val = X_val, y_val = y_val, y_base = y_base, includeBase = True, model = lr_best)"
   ]
  },
  {
   "cell_type": "markdown",
   "metadata": {},
   "source": [
    "**Observation** Training Model is overfitting"
   ]
  },
  {
   "cell_type": "markdown",
   "metadata": {},
   "source": [
    "**[4.5]** Tune Hyperparameters to better reduce overfitting.\n",
    "\n",
    "1. Reduce Depth to and \n",
    "2. increase min samples per leaf to 10"
   ]
  },
  {
   "cell_type": "code",
   "execution_count": 159,
   "metadata": {},
   "outputs": [],
   "source": [
    "lr_best_1 = LR(solver='lbfgs', penalty='none', max_iter=1000, class_weight='balanced').fit(X_train, y_train)"
   ]
  },
  {
   "cell_type": "code",
   "execution_count": 160,
   "metadata": {},
   "outputs": [
    {
     "data": {
      "text/html": [
       "<div>\n",
       "<style scoped>\n",
       "    .dataframe tbody tr th:only-of-type {\n",
       "        vertical-align: middle;\n",
       "    }\n",
       "\n",
       "    .dataframe tbody tr th {\n",
       "        vertical-align: top;\n",
       "    }\n",
       "\n",
       "    .dataframe thead th {\n",
       "        text-align: right;\n",
       "    }\n",
       "</style>\n",
       "<table border=\"1\" class=\"dataframe\">\n",
       "  <thead>\n",
       "    <tr style=\"text-align: right;\">\n",
       "      <th></th>\n",
       "      <th>Set Name</th>\n",
       "      <th>ACC</th>\n",
       "      <th>MSE</th>\n",
       "      <th>MAE</th>\n",
       "      <th>PREC</th>\n",
       "      <th>RECALL</th>\n",
       "      <th>F1</th>\n",
       "      <th>AUC</th>\n",
       "    </tr>\n",
       "  </thead>\n",
       "  <tbody>\n",
       "    <tr>\n",
       "      <th>0</th>\n",
       "      <td>Train</td>\n",
       "      <td>0.645312</td>\n",
       "      <td>0.595556</td>\n",
       "      <td>0.354687</td>\n",
       "      <td>0.902337</td>\n",
       "      <td>0.644236</td>\n",
       "      <td>0.751750</td>\n",
       "      <td>0.709864</td>\n",
       "    </tr>\n",
       "    <tr>\n",
       "      <th>1</th>\n",
       "      <td>Validate</td>\n",
       "      <td>0.648750</td>\n",
       "      <td>0.592663</td>\n",
       "      <td>0.351250</td>\n",
       "      <td>0.902083</td>\n",
       "      <td>0.649175</td>\n",
       "      <td>0.755013</td>\n",
       "      <td>0.695494</td>\n",
       "    </tr>\n",
       "  </tbody>\n",
       "</table>\n",
       "</div>"
      ],
      "text/plain": [
       "   Set Name       ACC       MSE       MAE      PREC    RECALL        F1  \\\n",
       "0     Train  0.645312  0.595556  0.354687  0.902337  0.644236  0.751750   \n",
       "1  Validate  0.648750  0.592663  0.351250  0.902083  0.649175  0.755013   \n",
       "\n",
       "        AUC  \n",
       "0  0.709864  \n",
       "1  0.695494  "
      ]
     },
     "metadata": {},
     "output_type": "display_data"
    }
   ],
   "source": [
    "score_models(X_train = X_train, y_train = y_train, X_val = X_val, y_val = y_val, y_base = y_base, includeBase = True, model = lr_best_1)"
   ]
  },
  {
   "cell_type": "markdown",
   "metadata": {},
   "source": [
    "**Observations**\n",
    "* Validation Dataset is not performing well for the model, indicating Model is overfitting on Train Dataset"
   ]
  },
  {
   "cell_type": "markdown",
   "metadata": {},
   "source": [
    "**[4.6]** Task: Plot Confusion Matrix\n",
    "\n",
    "Identify how well the model is performing at predicting the outcome"
   ]
  },
  {
   "cell_type": "code",
   "execution_count": 161,
   "metadata": {},
   "outputs": [],
   "source": [
    "from src.visualization.visualize import plot_confusion_matrix_full"
   ]
  },
  {
   "cell_type": "code",
   "execution_count": 162,
   "metadata": {},
   "outputs": [
    {
     "name": "stdout",
     "output_type": "stream",
     "text": [
      "Train - Confusion matrix, without normalization\n",
      "[[ 693  372]\n",
      " [1898 3437]]\n",
      "Train - Normalized confusion matrix\n",
      "[[0.65070423 0.34929577]\n",
      " [0.35576382 0.64423618]]\n",
      "Validate - Confusion matrix, without normalization\n",
      "[[172  94]\n",
      " [468 866]]\n",
      "Validate - Normalized confusion matrix\n",
      "[[0.64661654 0.35338346]\n",
      " [0.35082459 0.64917541]]\n"
     ]
    },
    {
     "data": {
      "image/png": "[encoded data removed]",
      "text/plain": [
       "<Figure size 432x288 with 2 Axes>"
      ]
     },
     "metadata": {
      "needs_background": "light"
     },
     "output_type": "display_data"
    },
    {
     "data": {
      "image/png": "[encoded data removed]",
      "text/plain": [
       "<Figure size 432x288 with 2 Axes>"
      ]
     },
     "metadata": {
      "needs_background": "light"
     },
     "output_type": "display_data"
    },
    {
     "data": {
      "image/png": "[encoded data removed]",
      "text/plain": [
       "<Figure size 432x288 with 2 Axes>"
      ]
     },
     "metadata": {
      "needs_background": "light"
     },
     "output_type": "display_data"
    },
    {
     "data": {
      "image/png": "[encoded data removed]",
      "text/plain": [
       "<Figure size 432x288 with 2 Axes>"
      ]
     },
     "metadata": {
      "needs_background": "light"
     },
     "output_type": "display_data"
    }
   ],
   "source": [
    "plot_confusion_matrix_full(model = lr_best_1 ,X_train = X_train, y_train = y_train, X_val = X_val, y_val = y_val)"
   ]
  },
  {
   "cell_type": "markdown",
   "metadata": {},
   "source": [
    "**Observation** Both Models is predicting alot of False Positives (FP) in both training and validation datasets"
   ]
  },
  {
   "cell_type": "markdown",
   "metadata": {},
   "source": [
    "**[4.7]** Task: Calculate AUROC"
   ]
  },
  {
   "cell_type": "code",
   "execution_count": 163,
   "metadata": {},
   "outputs": [],
   "source": [
    "from sklearn.metrics import roc_auc_score"
   ]
  },
  {
   "cell_type": "code",
   "execution_count": 164,
   "metadata": {},
   "outputs": [
    {
     "name": "stdout",
     "output_type": "stream",
     "text": [
      "rf_best_1_proba: [0.50900252 0.09646172 0.65959178 ... 0.53937203 0.4747057  0.75499758]\n"
     ]
    }
   ],
   "source": [
    "lr_best_1_y_train_proba = lr_best_1.predict_proba(X_train)[:, 1]\n",
    "lr_best_1_y_val_proba = lr_best_1.predict_proba(X_val)[:, 1]\n",
    "print(\"rf_best_1_proba:\", lr_best_1_y_train_proba)"
   ]
  },
  {
   "cell_type": "code",
   "execution_count": 165,
   "metadata": {},
   "outputs": [
    {
     "data": {
      "text/plain": [
       "0.7098637309643554"
      ]
     },
     "execution_count": 165,
     "metadata": {},
     "output_type": "execute_result"
    }
   ],
   "source": [
    "roc_auc_score(y_train, lr_best_1_y_train_proba)"
   ]
  },
  {
   "cell_type": "code",
   "execution_count": 166,
   "metadata": {},
   "outputs": [
    {
     "data": {
      "text/plain": [
       "0.6954943580841157"
      ]
     },
     "execution_count": 166,
     "metadata": {},
     "output_type": "execute_result"
    }
   ],
   "source": [
    "roc_auc_score(y_val, lr_best_1_y_val_proba)"
   ]
  },
  {
   "cell_type": "markdown",
   "metadata": {},
   "source": [
    "**Observations** \n",
    "* Training Dataset has a AUROC prediction 0.711\n",
    "* Validation Dataset has a poor AUROC prediction 0.698. This indicates the model is fitting reasonably well on unseen data\n",
    "* The finaly Kaggle result AUROC 0.71246 - Best Personal Result (to-date)"
   ]
  },
  {
   "cell_type": "markdown",
   "metadata": {},
   "source": [
    "## 5. Plot AUC"
   ]
  },
  {
   "cell_type": "code",
   "execution_count": 167,
   "metadata": {},
   "outputs": [],
   "source": [
    "from src.visualization.visualize import plot_roc_auc"
   ]
  },
  {
   "cell_type": "code",
   "execution_count": 168,
   "metadata": {},
   "outputs": [
    {
     "data": {
      "image/png": "[encoded data removed]",
      "text/plain": [
       "<Figure size 700x500 with 1 Axes>"
      ]
     },
     "metadata": {
      "needs_background": "light"
     },
     "output_type": "display_data"
    },
    {
     "data": {
      "image/png": "[encoded data removed]",
      "text/plain": [
       "<Figure size 700x500 with 1 Axes>"
      ]
     },
     "metadata": {
      "needs_background": "light"
     },
     "output_type": "display_data"
    }
   ],
   "source": [
    "plot_roc_auc(model = lr_best_1 ,X_train = X_train, y_train = y_train, X_val = X_val, y_val = y_val)"
   ]
  },
  {
   "cell_type": "markdown",
   "metadata": {},
   "source": [
    "## 6. Logistic Regression - Kaggle Competition Preparation"
   ]
  },
  {
   "cell_type": "markdown",
   "metadata": {},
   "source": [
    "**[6.1]** Prepare Kaggle Input File using rf_best Random Forest Model"
   ]
  },
  {
   "cell_type": "code",
   "execution_count": 169,
   "metadata": {},
   "outputs": [],
   "source": [
    "# File URLs\n",
    "file_path_test= \"data/processed/test.csv\"\n",
    "\n",
    "# Load files into df_training and df_validation data frames\n",
    "df_test = pd.read_csv(file_path_test)"
   ]
  },
  {
   "cell_type": "code",
   "execution_count": 170,
   "metadata": {},
   "outputs": [],
   "source": [
    "\n",
    "# Drop Target and ID for X, and create target from y\n",
    "X_test_id = df_test['Id']\n",
    "X_test = df_test.drop(['Id'], axis=1)"
   ]
  },
  {
   "cell_type": "markdown",
   "metadata": {},
   "source": [
    "**[6.2]** Check Test Dataset is ready for predicting"
   ]
  },
  {
   "cell_type": "code",
   "execution_count": 171,
   "metadata": {},
   "outputs": [
    {
     "name": "stdout",
     "output_type": "stream",
     "text": [
      "<class 'pandas.core.frame.DataFrame'>\n",
      "RangeIndex: 3799 entries, 0 to 3798\n",
      "Data columns (total 30 columns):\n",
      " #   Column        Non-Null Count  Dtype  \n",
      "---  ------        --------------  -----  \n",
      " 0   GP            3799 non-null   float64\n",
      " 1   MIN           3799 non-null   float64\n",
      " 2   PTS           3799 non-null   float64\n",
      " 3   FGM           3799 non-null   float64\n",
      " 4   FGA           3799 non-null   float64\n",
      " 5   FG%           3799 non-null   float64\n",
      " 6   3P Made       3799 non-null   float64\n",
      " 7   3PA           3799 non-null   float64\n",
      " 8   3P%           3799 non-null   float64\n",
      " 9   FTM           3799 non-null   float64\n",
      " 10  FTA           3799 non-null   float64\n",
      " 11  FT%           3799 non-null   float64\n",
      " 12  OREB          3799 non-null   float64\n",
      " 13  DREB          3799 non-null   float64\n",
      " 14  REB           3799 non-null   float64\n",
      " 15  AST           3799 non-null   float64\n",
      " 16  STL           3799 non-null   float64\n",
      " 17  BLK           3799 non-null   float64\n",
      " 18  TOV           3799 non-null   float64\n",
      " 19  FG_Missed     3799 non-null   float64\n",
      " 20  3P_Missed     3799 non-null   float64\n",
      " 21  FT_Missed     3799 non-null   float64\n",
      " 22  PPER          3799 non-null   float64\n",
      " 23  NPER          3799 non-null   float64\n",
      " 24  PER           3799 non-null   float64\n",
      " 25  GmmCluster_0  3799 non-null   float64\n",
      " 26  GmmCluster_1  3799 non-null   float64\n",
      " 27  GmmCluster_2  3799 non-null   float64\n",
      " 28  GmmCluster_3  3799 non-null   float64\n",
      " 29  GmmCluster_4  3799 non-null   float64\n",
      "dtypes: float64(30)\n",
      "memory usage: 890.5 KB\n"
     ]
    }
   ],
   "source": [
    "X_test.info()"
   ]
  },
  {
   "cell_type": "markdown",
   "metadata": {},
   "source": [
    "**[6.3]** Create y Prediction using the Test Dataset"
   ]
  },
  {
   "cell_type": "code",
   "execution_count": 172,
   "metadata": {},
   "outputs": [
    {
     "name": "stderr",
     "output_type": "stream",
     "text": [
      "/opt/conda/lib/python3.9/site-packages/sklearn/base.py:443: UserWarning: X has feature names, but LogisticRegression was fitted without feature names\n",
      "  warnings.warn(\n"
     ]
    }
   ],
   "source": [
    "y_predict = lr_best_1.predict_proba(X_test)"
   ]
  },
  {
   "cell_type": "code",
   "execution_count": 173,
   "metadata": {},
   "outputs": [
    {
     "name": "stdout",
     "output_type": "stream",
     "text": [
      "[[0.59137596 0.40862404]\n",
      " [0.67245983 0.32754017]\n",
      " [0.33260677 0.66739323]\n",
      " ...\n",
      " [0.64105618 0.35894382]\n",
      " [0.20119632 0.79880368]\n",
      " [0.66686375 0.33313625]]\n"
     ]
    }
   ],
   "source": [
    "print(y_predict)"
   ]
  },
  {
   "cell_type": "code",
   "execution_count": 174,
   "metadata": {},
   "outputs": [
    {
     "name": "stdout",
     "output_type": "stream",
     "text": [
      "[0.40862404 0.32754017 0.66739323 ... 0.35894382 0.79880368 0.33313625]\n"
     ]
    }
   ],
   "source": [
    "print(y_predict[:,1])"
   ]
  },
  {
   "cell_type": "markdown",
   "metadata": {},
   "source": [
    "**[6.4]** Convert the Numpy Array into a Pandas Dataframe with a Column Name TARGET_5Yrs"
   ]
  },
  {
   "cell_type": "code",
   "execution_count": 175,
   "metadata": {},
   "outputs": [],
   "source": [
    "# Convert numpy arrany y_predict values back to df_train_cleaned_scaled data frame \n",
    "y_predict = pd.DataFrame(y_predict[:,1], columns = ['TARGET_5Yrs'])"
   ]
  },
  {
   "cell_type": "markdown",
   "metadata": {},
   "source": [
    "**[6.5]** Concatenate Player ID and Prediction into on Data Frame and Sort by Id"
   ]
  },
  {
   "cell_type": "code",
   "execution_count": 176,
   "metadata": {},
   "outputs": [],
   "source": [
    "y_predict = pd.concat([X_test_id, y_predict], axis=1)"
   ]
  },
  {
   "cell_type": "code",
   "execution_count": 177,
   "metadata": {},
   "outputs": [],
   "source": [
    "y_predict = y_predict.sort_values(by=['Id'])"
   ]
  },
  {
   "cell_type": "code",
   "execution_count": 178,
   "metadata": {},
   "outputs": [
    {
     "name": "stdout",
     "output_type": "stream",
     "text": [
      "         Id  TARGET_5Yrs\n",
      "0         1     0.408624\n",
      "2         3     0.667393\n",
      "5         6     0.623414\n",
      "8        14     0.428075\n",
      "10       17     0.526734\n",
      "...     ...          ...\n",
      "3057  13770     0.720739\n",
      "3058  13771     0.384998\n",
      "3059  13774     0.449022\n",
      "3063  13787     0.412688\n",
      "3064  13792     0.489058\n",
      "\n",
      "[3799 rows x 2 columns]\n"
     ]
    }
   ],
   "source": [
    "print(y_predict)"
   ]
  },
  {
   "cell_type": "markdown",
   "metadata": {},
   "source": [
    "**[6.6]** Export Dataframe to CSV and save model"
   ]
  },
  {
   "cell_type": "code",
   "execution_count": 179,
   "metadata": {},
   "outputs": [
    {
     "data": {
      "text/plain": [
       "(3799, 2)"
      ]
     },
     "execution_count": 179,
     "metadata": {},
     "output_type": "execute_result"
    },
    {
     "name": "stdout",
     "output_type": "stream",
     "text": [
      "[CV] END class_weight=balanced, max_iter=500, penalty=none, solver=liblinear; total time=   0.0s\n",
      "[CV] END class_weight=balanced, max_iter=500, penalty=none, solver=lbfgs; total time=   0.4s\n",
      "[CV] END class_weight=balanced, max_iter=500, penalty=l2, solver=liblinear; total time=   0.1s\n",
      "[CV] END class_weight=balanced, max_iter=500, penalty=l2, solver=liblinear; total time=   0.1s\n",
      "[CV] END class_weight=balanced, max_iter=500, penalty=l2, solver=lbfgs; total time=   0.3s\n",
      "[CV] END class_weight=balanced, max_iter=500, penalty=l1, solver=liblinear; total time=   2.2s\n",
      "[CV] END class_weight=balanced, max_iter=500, penalty=l1, solver=lbfgs; total time=   0.0s\n",
      "[CV] END class_weight=balanced, max_iter=500, penalty=l1, solver=lbfgs; total time=   0.0s\n",
      "[CV] END class_weight=balanced, max_iter=500, penalty=l1, solver=lbfgs; total time=   0.0s\n",
      "[CV] END class_weight=balanced, max_iter=500, penalty=l1, solver=lbfgs; total time=   0.0s\n",
      "[CV] END class_weight=balanced, max_iter=500, penalty=l1, solver=lbfgs; total time=   0.0s\n",
      "[CV] END class_weight=balanced, max_iter=500, penalty=elasticnet, solver=liblinear; total time=   0.0s\n",
      "[CV] END class_weight=balanced, max_iter=500, penalty=elasticnet, solver=liblinear; total time=   0.0s\n",
      "[CV] END class_weight=balanced, max_iter=500, penalty=elasticnet, solver=liblinear; total time=   0.0s\n",
      "[CV] END class_weight=balanced, max_iter=500, penalty=elasticnet, solver=liblinear; total time=   0.0s\n",
      "[CV] END class_weight=balanced, max_iter=500, penalty=elasticnet, solver=liblinear; total time=   0.0s\n",
      "[CV] END class_weight=balanced, max_iter=500, penalty=elasticnet, solver=lbfgs; total time=   0.0s\n",
      "[CV] END class_weight=balanced, max_iter=500, penalty=elasticnet, solver=lbfgs; total time=   0.0s\n",
      "[CV] END class_weight=balanced, max_iter=500, penalty=elasticnet, solver=lbfgs; total time=   0.0s\n",
      "[CV] END class_weight=balanced, max_iter=500, penalty=elasticnet, solver=lbfgs; total time=   0.0s\n",
      "[CV] END class_weight=balanced, max_iter=500, penalty=elasticnet, solver=lbfgs; total time=   0.0s\n",
      "[CV] END class_weight=balanced, max_iter=500, penalty=none, solver=liblinear; total time=   0.0s\n",
      "[CV] END class_weight=balanced, max_iter=500, penalty=none, solver=lbfgs; total time=   0.5s\n",
      "[CV] END class_weight=balanced, max_iter=500, penalty=none, solver=lbfgs; total time=   0.7s\n",
      "[CV] END class_weight=balanced, max_iter=500, penalty=l1, solver=liblinear; total time=   2.3s\n",
      "[CV] END class_weight=balanced, max_iter=500, penalty=none, solver=liblinear; total time=   0.0s\n",
      "[CV] END class_weight=balanced, max_iter=500, penalty=none, solver=lbfgs; total time=   0.6s\n",
      "[CV] END class_weight=balanced, max_iter=500, penalty=l2, solver=liblinear; total time=   0.1s\n",
      "[CV] END class_weight=balanced, max_iter=500, penalty=l2, solver=lbfgs; total time=   0.2s\n",
      "[CV] END class_weight=balanced, max_iter=500, penalty=l2, solver=lbfgs; total time=   0.3s\n",
      "[CV] END class_weight=balanced, max_iter=500, penalty=l1, solver=liblinear; total time=   2.7s\n",
      "[CV] END class_weight=balanced, max_iter=500, penalty=none, solver=liblinear; total time=   0.0s\n",
      "[CV] END class_weight=balanced, max_iter=500, penalty=none, solver=liblinear; total time=   0.0s\n",
      "[CV] END class_weight=balanced, max_iter=500, penalty=none, solver=lbfgs; total time=   0.5s\n",
      "[CV] END class_weight=balanced, max_iter=500, penalty=l2, solver=liblinear; total time=   0.1s\n",
      "[CV] END class_weight=balanced, max_iter=500, penalty=l2, solver=liblinear; total time=   0.1s\n",
      "[CV] END class_weight=balanced, max_iter=500, penalty=l2, solver=lbfgs; total time=   0.2s\n",
      "[CV] END class_weight=balanced, max_iter=500, penalty=l2, solver=lbfgs; total time=   0.3s\n",
      "[CV] END class_weight=balanced, max_iter=500, penalty=l1, solver=liblinear; total time=   1.2s\n",
      "[CV] END class_weight=balanced, max_iter=500, penalty=l1, solver=liblinear; total time=   2.3s\n"
     ]
    }
   ],
   "source": [
    "y_predict.to_csv(\"data/external/submission_nfragar_20220227_linear_regression_w3_2_add_kmeans_feature.csv\", index = False)\n",
    "y_predict.shape"
   ]
  }
 ],
 "metadata": {
  "kernelspec": {
   "display_name": "Python 3",
   "language": "python",
   "name": "python3"
  },
  "language_info": {
   "codemirror_mode": {
    "name": "ipython",
    "version": 3
   },
   "file_extension": ".py",
   "mimetype": "text/x-python",
   "name": "python",
   "nbconvert_exporter": "python",
   "pygments_lexer": "ipython3",
   "version": "3.7.6"
  }
 },
 "nbformat": 4,
 "nbformat_minor": 5
}
