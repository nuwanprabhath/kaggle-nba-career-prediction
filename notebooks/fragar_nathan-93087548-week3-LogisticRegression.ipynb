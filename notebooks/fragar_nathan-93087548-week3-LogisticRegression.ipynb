{
 "cells": [
  {
   "cell_type": "markdown",
   "id": "1072d7ee-da99-4b15-8ded-496c770836dc",
   "metadata": {},
   "source": [
    "# **AdvDS - Assignment 1: Binary Classification - NBA Player Prediction - Data Preparation**"
   ]
  },
  {
   "cell_type": "markdown",
   "id": "92ff0a16-0385-4f56-bee2-d54827025980",
   "metadata": {},
   "source": [
    "Build a binary classification model that can predict if a rookie player will last at least 5 years in the NBA"
   ]
  },
  {
   "cell_type": "markdown",
   "id": "dcde699c-0dcd-4cb5-90db-9989080eed90",
   "metadata": {},
   "source": [
    "**Student Name:** Nathan Fragar\n",
    "\n",
    "**Student No. :** 93087548\n",
    "\n",
    "**Week:** 2\n",
    "\n",
    "**Date:** 20FEB2022\n",
    "\n",
    "**Team Name:** Group 1\n",
    "* Nuwan Munasinghe\n",
    "* Wenyingwuwy\n",
    "* Nathan Fragar\n",
    "* Sean Williams"
   ]
  },
  {
   "cell_type": "markdown",
   "id": "cc73ed60-6381-4db4-82c6-db70b15b0b4f",
   "metadata": {},
   "source": [
    "## 1. Load Dataset"
   ]
  },
  {
   "cell_type": "markdown",
   "id": "fcb5f006-c249-4004-83f8-fe7c39347f77",
   "metadata": {},
   "source": [
    "**[1.1]** Task: Import required packages: Pandas, Numpy, joblib"
   ]
  },
  {
   "cell_type": "code",
   "execution_count": 1,
   "id": "a4dd47ad-287f-4cc5-b3d1-24d2e87fddc3",
   "metadata": {},
   "outputs": [],
   "source": [
    "# Task: Import the pandas, numpy and joblib package\n",
    "import pandas as pd\n",
    "import numpy as np\n",
    "import joblib as job"
   ]
  },
  {
   "cell_type": "markdown",
   "id": "8b0a5f58-c5a8-4692-8f10-77d345b10698",
   "metadata": {},
   "source": [
    "**[1.2]** Task: Change working directory to /home/jovyan/work"
   ]
  },
  {
   "cell_type": "code",
   "execution_count": 2,
   "id": "ab947277-2f38-4ff7-8a92-df38c8f04f9f",
   "metadata": {},
   "outputs": [
    {
     "name": "stdout",
     "output_type": "stream",
     "text": [
      "/home/jovyan/work\n"
     ]
    }
   ],
   "source": [
    "cd /home/jovyan/work"
   ]
  },
  {
   "cell_type": "markdown",
   "id": "5e208409-c7d7-47d5-904a-840e8b6ede0e",
   "metadata": {},
   "source": [
    "**[1.3]** Task: Load Processed Data"
   ]
  },
  {
   "cell_type": "code",
   "execution_count": 3,
   "id": "39007e84-1c29-4295-bb3e-d5a33f3e3dba",
   "metadata": {},
   "outputs": [],
   "source": [
    "from src.data.sets import load_sets"
   ]
  },
  {
   "cell_type": "code",
   "execution_count": 4,
   "id": "bde035d8-2c87-4e06-9c29-2caa2f097449",
   "metadata": {},
   "outputs": [],
   "source": [
    "X_train, y_train, X_val, y_val, X_test, y_test = load_sets(path='data/processed/', val=False)"
   ]
  },
  {
   "cell_type": "markdown",
   "id": "cab31dbb-e054-432b-9da0-2f191650418c",
   "metadata": {},
   "source": [
    "## 3. Create Baseline Model"
   ]
  },
  {
   "cell_type": "markdown",
   "id": "9bd312b4-9221-42e2-8855-ba0862a7abf8",
   "metadata": {},
   "source": [
    "**[3.1]** Task: Find the mode of the target variable and print it's value"
   ]
  },
  {
   "cell_type": "code",
   "execution_count": 6,
   "id": "1f1d57f3-0869-4f09-83d8-f0b59e259f17",
   "metadata": {},
   "outputs": [
    {
     "data": {
      "text/plain": [
       "0.83359375"
      ]
     },
     "execution_count": 6,
     "metadata": {},
     "output_type": "execute_result"
    }
   ],
   "source": [
    "y_mode = y_train.mean()\n",
    "y_mode"
   ]
  },
  {
   "cell_type": "markdown",
   "id": "0c80bc44-2540-4562-8fcc-921485da5aef",
   "metadata": {},
   "source": [
    "**[3.2]** Task: Create a numpy array called y_base filled with this value"
   ]
  },
  {
   "cell_type": "code",
   "execution_count": 7,
   "id": "945c5aac-59fe-4932-86dc-0476c25752cd",
   "metadata": {},
   "outputs": [],
   "source": [
    "y_shape = (len(y_train), 1)\n",
    "y_base = np.full(y_shape, y_mode)"
   ]
  },
  {
   "cell_type": "markdown",
   "id": "9467fadb-38a6-4ec0-99db-d24a7b17206c",
   "metadata": {},
   "source": [
    "**[3.3]** Task: Import the accuracy score from sklearn"
   ]
  },
  {
   "cell_type": "code",
   "execution_count": 10,
   "id": "8909debd-762c-4a2b-a61f-9dafa58cf115",
   "metadata": {},
   "outputs": [],
   "source": [
    "from src.models.performance import print_reg_perf"
   ]
  },
  {
   "cell_type": "markdown",
   "id": "fb877509-84ce-41fe-a5ac-5b915314239e",
   "metadata": {},
   "source": [
    "**[3.4]** Task: Display the accuracy score of this baseline model"
   ]
  },
  {
   "cell_type": "code",
   "execution_count": 11,
   "id": "104e83af-6237-438c-8914-94b943003809",
   "metadata": {},
   "outputs": [
    {
     "ename": "ValueError",
     "evalue": "Classification metrics can't handle a mix of continuous and binary targets",
     "output_type": "error",
     "traceback": [
      "\u001b[0;31m---------------------------------------------------------------------------\u001b[0m",
      "\u001b[0;31mValueError\u001b[0m                                Traceback (most recent call last)",
      "Input \u001b[0;32mIn [11]\u001b[0m, in \u001b[0;36m<module>\u001b[0;34m\u001b[0m\n\u001b[0;32m----> 1\u001b[0m \u001b[43mprint_reg_perf\u001b[49m\u001b[43m(\u001b[49m\u001b[43my_train\u001b[49m\u001b[43m,\u001b[49m\u001b[43m \u001b[49m\u001b[43my_base\u001b[49m\u001b[43m,\u001b[49m\u001b[43m \u001b[49m\u001b[43mset_name\u001b[49m\u001b[38;5;241;43m=\u001b[39;49m\u001b[38;5;124;43m\"\u001b[39;49m\u001b[38;5;124;43mBaseline\u001b[39;49m\u001b[38;5;124;43m\"\u001b[39;49m\u001b[43m)\u001b[49m\n",
      "File \u001b[0;32m~/work/src/models/performance.py:28\u001b[0m, in \u001b[0;36mprint_reg_perf\u001b[0;34m(y_preds, y_actuals, set_name)\u001b[0m\n\u001b[1;32m     24\u001b[0m \u001b[38;5;28;01mfrom\u001b[39;00m \u001b[38;5;21;01msklearn\u001b[39;00m\u001b[38;5;21;01m.\u001b[39;00m\u001b[38;5;21;01mmetrics\u001b[39;00m \u001b[38;5;28;01mimport\u001b[39;00m recall_score\n\u001b[1;32m     25\u001b[0m \u001b[38;5;28;01mfrom\u001b[39;00m \u001b[38;5;21;01msklearn\u001b[39;00m\u001b[38;5;21;01m.\u001b[39;00m\u001b[38;5;21;01mmetrics\u001b[39;00m \u001b[38;5;28;01mimport\u001b[39;00m f1_score\n\u001b[0;32m---> 28\u001b[0m \u001b[38;5;28mprint\u001b[39m(\u001b[38;5;124mf\u001b[39m\u001b[38;5;124m\"\u001b[39m\u001b[38;5;124mAccuracy      \u001b[39m\u001b[38;5;132;01m{\u001b[39;00mset_name\u001b[38;5;132;01m}\u001b[39;00m\u001b[38;5;124m: \u001b[39m\u001b[38;5;132;01m{\u001b[39;00m accuracy_score(y_actuals, y_preds)\u001b[38;5;132;01m}\u001b[39;00m\u001b[38;5;124m\"\u001b[39m)\n\u001b[1;32m     29\u001b[0m \u001b[38;5;28mprint\u001b[39m(\u001b[38;5;124mf\u001b[39m\u001b[38;5;124m\"\u001b[39m\u001b[38;5;124mRMSE          \u001b[39m\u001b[38;5;132;01m{\u001b[39;00mset_name\u001b[38;5;132;01m}\u001b[39;00m\u001b[38;5;124m: \u001b[39m\u001b[38;5;132;01m{\u001b[39;00mmse(y_actuals, y_preds, squared\u001b[38;5;241m=\u001b[39m\u001b[38;5;28;01mFalse\u001b[39;00m)\u001b[38;5;132;01m}\u001b[39;00m\u001b[38;5;124m\"\u001b[39m)\n\u001b[1;32m     30\u001b[0m \u001b[38;5;28mprint\u001b[39m(\u001b[38;5;124mf\u001b[39m\u001b[38;5;124m\"\u001b[39m\u001b[38;5;124mMAE           \u001b[39m\u001b[38;5;132;01m{\u001b[39;00mset_name\u001b[38;5;132;01m}\u001b[39;00m\u001b[38;5;124m: \u001b[39m\u001b[38;5;132;01m{\u001b[39;00mmae(y_actuals, y_preds)\u001b[38;5;132;01m}\u001b[39;00m\u001b[38;5;124m\"\u001b[39m)\n",
      "File \u001b[0;32m/opt/conda/lib/python3.9/site-packages/sklearn/metrics/_classification.py:211\u001b[0m, in \u001b[0;36maccuracy_score\u001b[0;34m(y_true, y_pred, normalize, sample_weight)\u001b[0m\n\u001b[1;32m    145\u001b[0m \u001b[38;5;124;03m\"\"\"Accuracy classification score.\u001b[39;00m\n\u001b[1;32m    146\u001b[0m \n\u001b[1;32m    147\u001b[0m \u001b[38;5;124;03mIn multilabel classification, this function computes subset accuracy:\u001b[39;00m\n\u001b[0;32m   (...)\u001b[0m\n\u001b[1;32m    207\u001b[0m \u001b[38;5;124;03m0.5\u001b[39;00m\n\u001b[1;32m    208\u001b[0m \u001b[38;5;124;03m\"\"\"\u001b[39;00m\n\u001b[1;32m    210\u001b[0m \u001b[38;5;66;03m# Compute accuracy for each possible representation\u001b[39;00m\n\u001b[0;32m--> 211\u001b[0m y_type, y_true, y_pred \u001b[38;5;241m=\u001b[39m \u001b[43m_check_targets\u001b[49m\u001b[43m(\u001b[49m\u001b[43my_true\u001b[49m\u001b[43m,\u001b[49m\u001b[43m \u001b[49m\u001b[43my_pred\u001b[49m\u001b[43m)\u001b[49m\n\u001b[1;32m    212\u001b[0m check_consistent_length(y_true, y_pred, sample_weight)\n\u001b[1;32m    213\u001b[0m \u001b[38;5;28;01mif\u001b[39;00m y_type\u001b[38;5;241m.\u001b[39mstartswith(\u001b[38;5;124m\"\u001b[39m\u001b[38;5;124mmultilabel\u001b[39m\u001b[38;5;124m\"\u001b[39m):\n",
      "File \u001b[0;32m/opt/conda/lib/python3.9/site-packages/sklearn/metrics/_classification.py:93\u001b[0m, in \u001b[0;36m_check_targets\u001b[0;34m(y_true, y_pred)\u001b[0m\n\u001b[1;32m     90\u001b[0m     y_type \u001b[38;5;241m=\u001b[39m {\u001b[38;5;124m\"\u001b[39m\u001b[38;5;124mmulticlass\u001b[39m\u001b[38;5;124m\"\u001b[39m}\n\u001b[1;32m     92\u001b[0m \u001b[38;5;28;01mif\u001b[39;00m \u001b[38;5;28mlen\u001b[39m(y_type) \u001b[38;5;241m>\u001b[39m \u001b[38;5;241m1\u001b[39m:\n\u001b[0;32m---> 93\u001b[0m     \u001b[38;5;28;01mraise\u001b[39;00m \u001b[38;5;167;01mValueError\u001b[39;00m(\n\u001b[1;32m     94\u001b[0m         \u001b[38;5;124m\"\u001b[39m\u001b[38;5;124mClassification metrics can\u001b[39m\u001b[38;5;124m'\u001b[39m\u001b[38;5;124mt handle a mix of \u001b[39m\u001b[38;5;132;01m{0}\u001b[39;00m\u001b[38;5;124m and \u001b[39m\u001b[38;5;132;01m{1}\u001b[39;00m\u001b[38;5;124m targets\u001b[39m\u001b[38;5;124m\"\u001b[39m\u001b[38;5;241m.\u001b[39mformat(\n\u001b[1;32m     95\u001b[0m             type_true, type_pred\n\u001b[1;32m     96\u001b[0m         )\n\u001b[1;32m     97\u001b[0m     )\n\u001b[1;32m     99\u001b[0m \u001b[38;5;66;03m# We can't have more than one value on y_type => The set is no more needed\u001b[39;00m\n\u001b[1;32m    100\u001b[0m y_type \u001b[38;5;241m=\u001b[39m y_type\u001b[38;5;241m.\u001b[39mpop()\n",
      "\u001b[0;31mValueError\u001b[0m: Classification metrics can't handle a mix of continuous and binary targets"
     ]
    }
   ],
   "source": [
    "print_reg_perf(y_train, y_base, set_name=\"Baseline\")"
   ]
  },
  {
   "cell_type": "code",
   "execution_count": 12,
   "id": "b31ff4ed-3ec0-46f6-9a8b-4cc990572c89",
   "metadata": {},
   "outputs": [
    {
     "ename": "AttributeError",
     "evalue": "'numpy.ndarray' object has no attribute 'columns'",
     "output_type": "error",
     "traceback": [
      "\u001b[0;31m---------------------------------------------------------------------------\u001b[0m",
      "\u001b[0;31mAttributeError\u001b[0m                            Traceback (most recent call last)",
      "Input \u001b[0;32mIn [12]\u001b[0m, in \u001b[0;36m<module>\u001b[0;34m\u001b[0m\n\u001b[0;32m----> 1\u001b[0m \u001b[38;5;28mlen\u001b[39m(\u001b[43mX_train\u001b[49m\u001b[38;5;241;43m.\u001b[39;49m\u001b[43mcolumns\u001b[49m)\n",
      "\u001b[0;31mAttributeError\u001b[0m: 'numpy.ndarray' object has no attribute 'columns'"
     ]
    }
   ],
   "source": [
    "len(X_train.columns)"
   ]
  },
  {
   "cell_type": "markdown",
   "id": "5c50b1f4-aa1c-4888-a1cb-5999529e36a0",
   "metadata": {},
   "source": [
    "The null accuracy is 83.35%\n",
    "If we predict 1, we'll be correct 83.35% of the time"
   ]
  },
  {
   "cell_type": "markdown",
   "id": "eaf47a54-da6e-400d-9374-cf8a3aa0816c",
   "metadata": {},
   "source": [
    "## 4. Random Forest - Hyperparameter Tuning with Grid Search and KFold"
   ]
  },
  {
   "cell_type": "markdown",
   "id": "31018efc-3693-4388-904b-a9adb273560f",
   "metadata": {},
   "source": [
    "Train Random Forest Algorithm\n",
    "\n",
    "1.   Use Grid Search to tune Hyper Parameters\n",
    "2.   Use KFold with 5 Splits\n",
    "3.   Fit Algorithm"
   ]
  },
  {
   "cell_type": "markdown",
   "id": "ced0eb4e-e5fa-4952-b28e-f9db78bd6ad9",
   "metadata": {},
   "source": [
    "**[4.1]** Task: Import GridSearchCV, KFold from sklearn.model_selection"
   ]
  },
  {
   "cell_type": "code",
   "execution_count": 13,
   "id": "940fef9a-17ec-47f3-ace0-abafc87c5e2b",
   "metadata": {},
   "outputs": [],
   "source": [
    "from sklearn.model_selection import RandomizedSearchCV,GridSearchCV,KFold"
   ]
  },
  {
   "cell_type": "markdown",
   "id": "2fb063f6-55c6-41e1-bfd4-4323de13b253",
   "metadata": {},
   "source": [
    "**[4.2]** Create a dictionary containing the Randomized Grid Search Parameters"
   ]
  },
  {
   "cell_type": "code",
   "execution_count": 14,
   "id": "fa4ddc29-7a5b-4d18-8f58-5d2add6c90f8",
   "metadata": {},
   "outputs": [],
   "source": [
    "# Linear Regression Random Grid Parameters\n",
    "# Class Weight\n",
    "class_weight = ['balanced']\n",
    "# Penalty\n",
    "penalty = ['none','l2','l1','elasticnet']\n",
    "# Solver\n",
    "solver = ['liblinear','lbfgs']\n",
    "# max_iter\n",
    "max_iter = [500]\n",
    "\n",
    "random_grid = {'class_weight': class_weight,\n",
    "               'penalty':penalty,\n",
    "               'solver':solver,\n",
    "               'max_iter':max_iter\n",
    "               }\n",
    "\n"
   ]
  },
  {
   "cell_type": "code",
   "execution_count": null,
   "id": "40bf00ac-9ef7-4de4-9500-58e1396d8cf6",
   "metadata": {},
   "outputs": [],
   "source": [
    "random_grid"
   ]
  },
  {
   "cell_type": "markdown",
   "id": "ccf85da9-4853-408e-b7d2-cbc4179433ef",
   "metadata": {},
   "source": [
    "**[4.3]** Task: Create RF Model, and use Randomized Search to find GridSearch range"
   ]
  },
  {
   "cell_type": "code",
   "execution_count": 15,
   "id": "a28a49b7-3d63-4ec9-a7a7-85253587cb75",
   "metadata": {},
   "outputs": [],
   "source": [
    " from sklearn.linear_model import LogisticRegression as LR"
   ]
  },
  {
   "cell_type": "code",
   "execution_count": 16,
   "id": "896d1e2d-c082-4e56-8648-c9b07256def3",
   "metadata": {},
   "outputs": [],
   "source": [
    "lr_base = LR()\n",
    "lr_random = RandomizedSearchCV(estimator = lr_base,\n",
    "                               param_distributions = random_grid,\n",
    "                               n_iter = 50, \n",
    "                               cv = 5,\n",
    "                               verbose=2,\n",
    "                               random_state=8, \n",
    "                               n_jobs = 4)"
   ]
  },
  {
   "cell_type": "markdown",
   "id": "57fb7bed-4a4e-44bb-9767-3f8944b91502",
   "metadata": {},
   "source": [
    "**[4.4]** Train Model"
   ]
  },
  {
   "cell_type": "code",
   "execution_count": 17,
   "id": "656e3a75-8940-421d-8b54-69f0b26b5fdc",
   "metadata": {},
   "outputs": [],
   "source": [
    "# Import Beep\n",
    "from src.indicator.sounds import beep_when_done"
   ]
  },
  {
   "cell_type": "code",
   "execution_count": 18,
   "id": "8a3a61fc-9a67-4788-82b5-4d42d91ac5a6",
   "metadata": {},
   "outputs": [
    {
     "name": "stdout",
     "output_type": "stream",
     "text": [
      "Fitting 5 folds for each of 8 candidates, totalling 40 fits\n"
     ]
    },
    {
     "name": "stderr",
     "output_type": "stream",
     "text": [
      "/opt/conda/lib/python3.9/site-packages/sklearn/model_selection/_search.py:292: UserWarning: The total space of parameters 8 is smaller than n_iter=50. Running 8 iterations. For exhaustive searches, use GridSearchCV.\n",
      "  warnings.warn(\n",
      "/opt/conda/lib/python3.9/site-packages/sklearn/model_selection/_validation.py:372: FitFailedWarning: \n",
      "20 fits failed out of a total of 40.\n",
      "The score on these train-test partitions for these parameters will be set to nan.\n",
      "If these failures are not expected, you can try to debug them by setting error_score='raise'.\n",
      "\n",
      "Below are more details about the failures:\n",
      "--------------------------------------------------------------------------------\n",
      "5 fits failed with the following error:\n",
      "Traceback (most recent call last):\n",
      "  File \"/opt/conda/lib/python3.9/site-packages/sklearn/model_selection/_validation.py\", line 680, in _fit_and_score\n",
      "    estimator.fit(X_train, y_train, **fit_params)\n",
      "  File \"/opt/conda/lib/python3.9/site-packages/sklearn/linear_model/_logistic.py\", line 1461, in fit\n",
      "    solver = _check_solver(self.solver, self.penalty, self.dual)\n",
      "  File \"/opt/conda/lib/python3.9/site-packages/sklearn/linear_model/_logistic.py\", line 464, in _check_solver\n",
      "    raise ValueError(\"penalty='none' is not supported for the liblinear solver\")\n",
      "ValueError: penalty='none' is not supported for the liblinear solver\n",
      "\n",
      "--------------------------------------------------------------------------------\n",
      "5 fits failed with the following error:\n",
      "Traceback (most recent call last):\n",
      "  File \"/opt/conda/lib/python3.9/site-packages/sklearn/model_selection/_validation.py\", line 680, in _fit_and_score\n",
      "    estimator.fit(X_train, y_train, **fit_params)\n",
      "  File \"/opt/conda/lib/python3.9/site-packages/sklearn/linear_model/_logistic.py\", line 1461, in fit\n",
      "    solver = _check_solver(self.solver, self.penalty, self.dual)\n",
      "  File \"/opt/conda/lib/python3.9/site-packages/sklearn/linear_model/_logistic.py\", line 447, in _check_solver\n",
      "    raise ValueError(\n",
      "ValueError: Solver lbfgs supports only 'l2' or 'none' penalties, got l1 penalty.\n",
      "\n",
      "--------------------------------------------------------------------------------\n",
      "5 fits failed with the following error:\n",
      "Traceback (most recent call last):\n",
      "  File \"/opt/conda/lib/python3.9/site-packages/sklearn/model_selection/_validation.py\", line 680, in _fit_and_score\n",
      "    estimator.fit(X_train, y_train, **fit_params)\n",
      "  File \"/opt/conda/lib/python3.9/site-packages/sklearn/linear_model/_logistic.py\", line 1461, in fit\n",
      "    solver = _check_solver(self.solver, self.penalty, self.dual)\n",
      "  File \"/opt/conda/lib/python3.9/site-packages/sklearn/linear_model/_logistic.py\", line 457, in _check_solver\n",
      "    raise ValueError(\n",
      "ValueError: Only 'saga' solver supports elasticnet penalty, got solver=liblinear.\n",
      "\n",
      "--------------------------------------------------------------------------------\n",
      "5 fits failed with the following error:\n",
      "Traceback (most recent call last):\n",
      "  File \"/opt/conda/lib/python3.9/site-packages/sklearn/model_selection/_validation.py\", line 680, in _fit_and_score\n",
      "    estimator.fit(X_train, y_train, **fit_params)\n",
      "  File \"/opt/conda/lib/python3.9/site-packages/sklearn/linear_model/_logistic.py\", line 1461, in fit\n",
      "    solver = _check_solver(self.solver, self.penalty, self.dual)\n",
      "  File \"/opt/conda/lib/python3.9/site-packages/sklearn/linear_model/_logistic.py\", line 447, in _check_solver\n",
      "    raise ValueError(\n",
      "ValueError: Solver lbfgs supports only 'l2' or 'none' penalties, got elasticnet penalty.\n",
      "\n",
      "  warnings.warn(some_fits_failed_message, FitFailedWarning)\n",
      "/opt/conda/lib/python3.9/site-packages/sklearn/model_selection/_search.py:969: UserWarning: One or more of the test scores are non-finite: [       nan 0.645625   0.64296875 0.64296875 0.64296875        nan\n",
      "        nan        nan]\n",
      "  warnings.warn(\n"
     ]
    },
    {
     "name": "stdout",
     "output_type": "stream",
     "text": [
      "{'solver': 'lbfgs', 'penalty': 'none', 'max_iter': 500, 'class_weight': 'balanced'}\n"
     ]
    }
   ],
   "source": [
    "lr_random.fit(X_train, y_train)\n",
    "\n",
    "# Beep when completed\n",
    "#beep_when_done()\n",
    "\n",
    "print(lr_random.best_params_)"
   ]
  },
  {
   "cell_type": "markdown",
   "id": "7395b8e3-9d5f-43da-8723-8825d5747789",
   "metadata": {},
   "source": [
    "\"print(lr_random.best_params_)\"\n",
    "\n",
    "{'solver': 'lbfgs', 'penalty': 'l2', 'max_iter': 500, 'class_weight': 'balanced'}"
   ]
  },
  {
   "cell_type": "code",
   "execution_count": 19,
   "id": "5db57386-8114-4dcd-97aa-681765fac8e2",
   "metadata": {},
   "outputs": [],
   "source": [
    "lr_best = LR(solver='lbfgs', penalty='l2', max_iter=500, class_weight='balanced').fit(X_train, y_train)"
   ]
  },
  {
   "cell_type": "code",
   "execution_count": 21,
   "id": "c91663c7-9218-404e-a121-fbab3a3ba8df",
   "metadata": {},
   "outputs": [
    {
     "name": "stdout",
     "output_type": "stream",
     "text": [
      "--- Accuracy Scores Best Fit Model ---\n",
      "Accuracy      Train   : 0.6465625\n",
      "RMSE          Train   : 0.5945060975297057\n",
      "MAE           Train   : 0.3534375\n",
      "Precision     Train   : 0.902330452998167\n",
      "Recall        Train   : 0.6459231490159325\n",
      "F1            Train   : 0.752894909329255\n",
      "Accuracy      Validate: 0.645625\n",
      "RMSE          Validate: 0.5952940449895329\n",
      "MAE           Validate: 0.354375\n",
      "Precision     Validate: 0.9024134312696747\n",
      "Recall        Validate: 0.6446776611694153\n",
      "F1            Validate: 0.7520769567118496\n"
     ]
    }
   ],
   "source": [
    "print(\"--- Accuracy Scores Best Fit Model ---\")\n",
    "#print_reg_perf(y_train, y_base,                   set_name=\"Baseline\")\n",
    "print_reg_perf(lr_best.predict(X_train), y_train, set_name=\"Train   \")\n",
    "print_reg_perf(lr_best.predict(X_val), y_val,     set_name=\"Validate\")"
   ]
  },
  {
   "cell_type": "markdown",
   "id": "6583af27-1abb-4fb2-a96f-ac341f6a90cb",
   "metadata": {},
   "source": [
    "**Observation** Training Model is overfitting"
   ]
  },
  {
   "cell_type": "markdown",
   "id": "337ffca3-08e8-4d53-a70e-c3f00e57ab61",
   "metadata": {},
   "source": [
    "**[4.5]** Tune Hyperparameters to better reduce overfitting.\n",
    "\n",
    "1. Reduce Depth to and \n",
    "2. increase min samples per leaf to 10"
   ]
  },
  {
   "cell_type": "code",
   "execution_count": 22,
   "id": "6862fd22-23d5-4cec-8697-c3a9abcd21ce",
   "metadata": {},
   "outputs": [],
   "source": [
    "lr_best_1 = LR(solver='lbfgs', penalty='none', max_iter=1000, class_weight='balanced').fit(X_train, y_train)"
   ]
  },
  {
   "cell_type": "code",
   "execution_count": 24,
   "id": "53b8b44e-2670-4049-9a72-f51adaca55f2",
   "metadata": {},
   "outputs": [
    {
     "name": "stdout",
     "output_type": "stream",
     "text": [
      "--- Accuracy Scores Best Fit Model ---\n",
      "Accuracy      Train   : 0.64875\n",
      "RMSE          Train   : 0.5926634795564849\n",
      "MAE           Train   : 0.35125\n",
      "Precision     Train   : 0.9018484769591252\n",
      "Recall        Train   : 0.6492970946579194\n",
      "F1            Train   : 0.7550130775937227\n",
      "Accuracy      Validate: 0.64375\n",
      "RMSE          Validate: 0.5968668193156661\n",
      "MAE           Validate: 0.35625\n",
      "Precision     Validate: 0.9012605042016807\n",
      "Recall        Validate: 0.6431784107946027\n",
      "F1            Validate: 0.7506561679790026\n"
     ]
    }
   ],
   "source": [
    "print(\"--- Accuracy Scores Best Fit Model ---\")\n",
    "#print_reg_perf(y_train, y_base,                     set_name=\"Baseline\")\n",
    "print_reg_perf(lr_best_1.predict(X_train), y_train, set_name=\"Train   \")\n",
    "print_reg_perf(lr_best_1.predict(X_val), y_val,     set_name=\"Validate\")"
   ]
  },
  {
   "cell_type": "markdown",
   "id": "eaee372e-8dfa-4c36-8d21-9b0dacd3316a",
   "metadata": {},
   "source": [
    "**Observations**\n",
    "* Validation Dataset is not performing well for the model, indicating Model is overfitting on Train Dataset"
   ]
  },
  {
   "cell_type": "markdown",
   "id": "6a9f1c58-6a3c-4b56-9178-d6bb15e870a8",
   "metadata": {},
   "source": [
    "**[4.6]** Task: Plot Confusion Matrix\n",
    "\n",
    "Identify how well the model is performing at predicting the outcome"
   ]
  },
  {
   "cell_type": "code",
   "execution_count": 25,
   "id": "291c41e0-dac8-439c-af3b-6bb9b6198b63",
   "metadata": {},
   "outputs": [],
   "source": [
    "from sklearn.metrics import plot_confusion_matrix\n",
    "from sklearn.metrics import ConfusionMatrixDisplay\n",
    "import matplotlib.pyplot as plt"
   ]
  },
  {
   "cell_type": "code",
   "execution_count": 26,
   "id": "0763c405-d095-47fd-81d0-24ddb4a2cbca",
   "metadata": {},
   "outputs": [
    {
     "name": "stderr",
     "output_type": "stream",
     "text": [
      "/opt/conda/lib/python3.9/site-packages/sklearn/utils/deprecation.py:87: FutureWarning: Function plot_confusion_matrix is deprecated; Function `plot_confusion_matrix` is deprecated in 1.0 and will be removed in 1.2. Use one of the class methods: ConfusionMatrixDisplay.from_predictions or ConfusionMatrixDisplay.from_estimator.\n",
      "  warnings.warn(msg, category=FutureWarning)\n",
      "/opt/conda/lib/python3.9/site-packages/sklearn/utils/deprecation.py:87: FutureWarning: Function plot_confusion_matrix is deprecated; Function `plot_confusion_matrix` is deprecated in 1.0 and will be removed in 1.2. Use one of the class methods: ConfusionMatrixDisplay.from_predictions or ConfusionMatrixDisplay.from_estimator.\n",
      "  warnings.warn(msg, category=FutureWarning)\n"
     ]
    },
    {
     "data": {
      "text/plain": [
       "<sklearn.metrics._plot.confusion_matrix.ConfusionMatrixDisplay at 0x7f6c1bfc8100>"
      ]
     },
     "execution_count": 26,
     "metadata": {},
     "output_type": "execute_result"
    },
    {
     "data": {
      "image/png": "[encoded data removed]",
      "text/plain": [
       "<Figure size 432x288 with 2 Axes>"
      ]
     },
     "metadata": {
      "needs_background": "light"
     },
     "output_type": "display_data"
    },
    {
     "data": {
      "image/png": "[encoded data removed]",
      "text/plain": [
       "<Figure size 432x288 with 2 Axes>"
      ]
     },
     "metadata": {
      "needs_background": "light"
     },
     "output_type": "display_data"
    }
   ],
   "source": [
    "# Plot confusion matrix (with numbers)\n",
    "plot_confusion_matrix(lr_best_1, X_train, y_train, cmap=plt.cm.Blues)\n",
    "plot_confusion_matrix(lr_best_1, X_val, y_val, cmap=plt.cm.Blues)"
   ]
  },
  {
   "cell_type": "code",
   "execution_count": 27,
   "id": "0cc1cfc3-9362-4916-a8e1-84c1f91140a0",
   "metadata": {},
   "outputs": [
    {
     "name": "stderr",
     "output_type": "stream",
     "text": [
      "/opt/conda/lib/python3.9/site-packages/sklearn/utils/deprecation.py:87: FutureWarning: Function plot_confusion_matrix is deprecated; Function `plot_confusion_matrix` is deprecated in 1.0 and will be removed in 1.2. Use one of the class methods: ConfusionMatrixDisplay.from_predictions or ConfusionMatrixDisplay.from_estimator.\n",
      "  warnings.warn(msg, category=FutureWarning)\n",
      "/opt/conda/lib/python3.9/site-packages/sklearn/utils/deprecation.py:87: FutureWarning: Function plot_confusion_matrix is deprecated; Function `plot_confusion_matrix` is deprecated in 1.0 and will be removed in 1.2. Use one of the class methods: ConfusionMatrixDisplay.from_predictions or ConfusionMatrixDisplay.from_estimator.\n",
      "  warnings.warn(msg, category=FutureWarning)\n"
     ]
    },
    {
     "data": {
      "text/plain": [
       "<sklearn.metrics._plot.confusion_matrix.ConfusionMatrixDisplay at 0x7f6c19c1f700>"
      ]
     },
     "execution_count": 27,
     "metadata": {},
     "output_type": "execute_result"
    },
    {
     "data": {
      "image/png": "[encoded data removed]",
      "text/plain": [
       "<Figure size 432x288 with 2 Axes>"
      ]
     },
     "metadata": {
      "needs_background": "light"
     },
     "output_type": "display_data"
    },
    {
     "data": {
      "image/png": "[encoded data removed]",
      "text/plain": [
       "<Figure size 432x288 with 2 Axes>"
      ]
     },
     "metadata": {
      "needs_background": "light"
     },
     "output_type": "display_data"
    }
   ],
   "source": [
    "# Plot confusion matrix (with ratios)\n",
    "plot_confusion_matrix(lr_best_1, X_train, y_train, cmap=plt.cm.Blues, normalize='true')\n",
    "plot_confusion_matrix(lr_best_1, X_val, y_val, cmap=plt.cm.Blues, normalize='true')"
   ]
  },
  {
   "cell_type": "markdown",
   "id": "e27fe1b7-c5fd-403e-abe0-dd45e0c23c9a",
   "metadata": {},
   "source": [
    "**Observation** Both Models is predicting alot of False Positives (FP) in both training and validation datasets"
   ]
  },
  {
   "cell_type": "markdown",
   "id": "013db129-34d0-4bda-ab01-de28ced9f900",
   "metadata": {},
   "source": [
    "**[4.7]** Task: Calculate AUROC"
   ]
  },
  {
   "cell_type": "code",
   "execution_count": 28,
   "id": "d9fc1685-7dea-4391-b1c5-df33ac3dabee",
   "metadata": {},
   "outputs": [],
   "source": [
    "from sklearn.metrics import roc_auc_score"
   ]
  },
  {
   "cell_type": "code",
   "execution_count": 29,
   "id": "d57a3114-300b-40f0-933b-6c5ef1adf11c",
   "metadata": {},
   "outputs": [
    {
     "name": "stdout",
     "output_type": "stream",
     "text": [
      "rf_best_1_proba: [0.52853165 0.09868567 0.65606225 ... 0.49932972 0.48172526 0.76725576]\n"
     ]
    }
   ],
   "source": [
    "lr_best_1_y_train_proba = lr_best_1.predict_proba(X_train)[:, 1]\n",
    "lr_best_1_y_val_proba = lr_best_1.predict_proba(X_val)[:, 1]\n",
    "print(\"rf_best_1_proba:\", lr_best_1_y_train_proba)"
   ]
  },
  {
   "cell_type": "code",
   "execution_count": 31,
   "id": "79b00fed-f40e-4470-be93-bcf54e6cbaa3",
   "metadata": {},
   "outputs": [
    {
     "data": {
      "text/plain": [
       "0.7108023460978303"
      ]
     },
     "execution_count": 31,
     "metadata": {},
     "output_type": "execute_result"
    }
   ],
   "source": [
    "roc_auc_score(y_train, lr_best_1_y_train_proba)"
   ]
  },
  {
   "cell_type": "code",
   "execution_count": 32,
   "id": "bfda5baf-952f-4520-ae12-429701203645",
   "metadata": {},
   "outputs": [
    {
     "data": {
      "text/plain": [
       "0.698946579341908"
      ]
     },
     "execution_count": 32,
     "metadata": {},
     "output_type": "execute_result"
    }
   ],
   "source": [
    "roc_auc_score(y_val, lr_best_1_y_val_proba)"
   ]
  },
  {
   "cell_type": "markdown",
   "id": "068089aa-40a3-4c19-8bd6-dcd5aac6d9b2",
   "metadata": {},
   "source": [
    "**Observations** \n",
    "* Training Dataset has a AUROC prediction 0.711\n",
    "* Validation Dataset has a poor AUROC prediction 0.698. This indicates the model is fitting reasonably well on unseen data\n",
    "* The finaly Kaggle result AUROC 0.71246 - Best Personal Result (to-date)"
   ]
  },
  {
   "cell_type": "markdown",
   "id": "0b648fb8-751e-4752-82e1-2806031c9c3c",
   "metadata": {},
   "source": [
    "## 5. Plot AUC"
   ]
  },
  {
   "cell_type": "code",
   "execution_count": 33,
   "id": "d7eca4ab-4210-413e-8b9e-b96e42637e1c",
   "metadata": {},
   "outputs": [],
   "source": [
    "from sklearn.metrics import roc_curve"
   ]
  },
  {
   "cell_type": "code",
   "execution_count": 34,
   "id": "9de58220-172d-4a1d-8038-111f80b7630c",
   "metadata": {},
   "outputs": [
    {
     "data": {
      "image/png": "[encoded data removed]",
      "text/plain": [
       "<Figure size 700x500 with 1 Axes>"
      ]
     },
     "metadata": {
      "needs_background": "light"
     },
     "output_type": "display_data"
    },
    {
     "data": {
      "text/plain": [
       "0.698946579341908"
      ]
     },
     "execution_count": 34,
     "metadata": {},
     "output_type": "execute_result"
    }
   ],
   "source": [
    "fpr,tpr,threshold=roc_curve(y_val,lr_best_1_y_val_proba)\n",
    "plt.figure(figsize=(7,5),dpi=100)\n",
    "plt.plot(fpr,tpr,color='green')\n",
    "plt.plot([0,1],[0,1],label='baseline',color='red')\n",
    "plt.xlabel('FPR',fontsize=15)\n",
    "plt.ylabel('TPR',fontsize=15)\n",
    "plt.title('AUC-ROC',fontsize=20)\n",
    "plt.show()\n",
    "roc_auc_score(y_val,lr_best_1_y_val_proba)"
   ]
  },
  {
   "cell_type": "markdown",
   "id": "f0fcdf46-0db9-449b-beab-7a335d13354c",
   "metadata": {},
   "source": [
    "## 6. Logistic Regression - Kaggle Competition Preparation"
   ]
  },
  {
   "cell_type": "markdown",
   "id": "95ac6bdf-49de-430a-a810-523fda2ca663",
   "metadata": {},
   "source": [
    "**[6.1]** Prepare Kaggle Input File using rf_best Random Forest Model"
   ]
  },
  {
   "cell_type": "code",
   "execution_count": 35,
   "id": "4177fbec-fdcb-4d7e-a822-3aca6d16cd38",
   "metadata": {},
   "outputs": [],
   "source": [
    "# File URLs\n",
    "file_path_test= \"data/processed/test.csv\"\n",
    "\n",
    "# Load files into df_training and df_validation data frames\n",
    "df_test = pd.read_csv(file_path_test)"
   ]
  },
  {
   "cell_type": "code",
   "execution_count": 36,
   "id": "eb8779e6-30a6-4351-b417-75af0c5d7060",
   "metadata": {},
   "outputs": [],
   "source": [
    "\n",
    "# Drop Target and ID for X, and create target from y\n",
    "X_test_id = df_test['Id']\n",
    "X_test = df_test.drop(['Id'], axis=1)"
   ]
  },
  {
   "cell_type": "markdown",
   "id": "3b0a1642-e83d-4784-94f7-c89057829fbc",
   "metadata": {},
   "source": [
    "**[6.2]** Check Test Dataset is ready for predicting"
   ]
  },
  {
   "cell_type": "code",
   "execution_count": 37,
   "id": "2ff4404e-4433-43fe-8e5c-f1d3da4e7cd0",
   "metadata": {},
   "outputs": [
    {
     "name": "stdout",
     "output_type": "stream",
     "text": [
      "<class 'pandas.core.frame.DataFrame'>\n",
      "RangeIndex: 3799 entries, 0 to 3798\n",
      "Data columns (total 30 columns):\n",
      " #   Column           Non-Null Count  Dtype  \n",
      "---  ------           --------------  -----  \n",
      " 0   GP               3799 non-null   float64\n",
      " 1   MIN              3799 non-null   float64\n",
      " 2   PTS              3799 non-null   float64\n",
      " 3   FGM              3799 non-null   float64\n",
      " 4   FGA              3799 non-null   float64\n",
      " 5   FG%              3799 non-null   float64\n",
      " 6   3P Made          3799 non-null   float64\n",
      " 7   3PA              3799 non-null   float64\n",
      " 8   3P%              3799 non-null   float64\n",
      " 9   FTM              3799 non-null   float64\n",
      " 10  FTA              3799 non-null   float64\n",
      " 11  FT%              3799 non-null   float64\n",
      " 12  OREB             3799 non-null   float64\n",
      " 13  DREB             3799 non-null   float64\n",
      " 14  REB              3799 non-null   float64\n",
      " 15  AST              3799 non-null   float64\n",
      " 16  STL              3799 non-null   float64\n",
      " 17  BLK              3799 non-null   float64\n",
      " 18  TOV              3799 non-null   float64\n",
      " 19  FG_Missed        3799 non-null   float64\n",
      " 20  3P_Missed        3799 non-null   float64\n",
      " 21  FT_Missed        3799 non-null   float64\n",
      " 22  PPER             3799 non-null   float64\n",
      " 23  NPER             3799 non-null   float64\n",
      " 24  PER              3799 non-null   float64\n",
      " 25  KMeansCluster_0  3799 non-null   float64\n",
      " 26  KMeansCluster_1  3799 non-null   float64\n",
      " 27  KMeansCluster_2  3799 non-null   float64\n",
      " 28  KMeansCluster_3  3799 non-null   float64\n",
      " 29  KMeansCluster_4  3799 non-null   float64\n",
      "dtypes: float64(30)\n",
      "memory usage: 890.5 KB\n"
     ]
    }
   ],
   "source": [
    "X_test.info()"
   ]
  },
  {
   "cell_type": "markdown",
   "id": "83c4ef83-1e64-453b-9dca-d358aa3c5486",
   "metadata": {},
   "source": [
    "**[6.3]** Create y Prediction using the Test Dataset"
   ]
  },
  {
   "cell_type": "code",
   "execution_count": 38,
   "id": "bd8c1325-8ae1-4a06-a435-5f42bb6cdce4",
   "metadata": {},
   "outputs": [
    {
     "name": "stderr",
     "output_type": "stream",
     "text": [
      "/opt/conda/lib/python3.9/site-packages/sklearn/base.py:443: UserWarning: X has feature names, but LogisticRegression was fitted without feature names\n",
      "  warnings.warn(\n"
     ]
    }
   ],
   "source": [
    "y_predict = lr_best_1.predict_proba(X_test)"
   ]
  },
  {
   "cell_type": "code",
   "execution_count": 39,
   "id": "427dccd0-8944-46fc-b5dd-535dc1d5d720",
   "metadata": {},
   "outputs": [
    {
     "name": "stdout",
     "output_type": "stream",
     "text": [
      "[[0.60204656 0.39795344]\n",
      " [0.6727464  0.3272536 ]\n",
      " [0.32128402 0.67871598]\n",
      " ...\n",
      " [0.67946398 0.32053602]\n",
      " [0.21318982 0.78681018]\n",
      " [0.68288775 0.31711225]]\n"
     ]
    }
   ],
   "source": [
    "print(y_predict)"
   ]
  },
  {
   "cell_type": "code",
   "execution_count": 40,
   "id": "80d12dba",
   "metadata": {},
   "outputs": [
    {
     "name": "stdout",
     "output_type": "stream",
     "text": [
      "[0.39795344 0.3272536  0.67871598 ... 0.32053602 0.78681018 0.31711225]\n"
     ]
    }
   ],
   "source": [
    "print(y_predict[:,1])"
   ]
  },
  {
   "cell_type": "markdown",
   "id": "3358c9b7-13d1-48b8-ad95-41215d0bff9f",
   "metadata": {},
   "source": [
    "**[6.4]** Convert the Numpy Array into a Pandas Dataframe with a Column Name TARGET_5Yrs"
   ]
  },
  {
   "cell_type": "code",
   "execution_count": 41,
   "id": "58fb81e7-6af3-4bcd-930f-49b24e0c1c78",
   "metadata": {},
   "outputs": [],
   "source": [
    "# Convert numpy arrany y_predict values back to df_train_cleaned_scaled data frame \n",
    "y_predict = pd.DataFrame(y_predict[:,1], columns = ['TARGET_5Yrs'])"
   ]
  },
  {
   "cell_type": "markdown",
   "id": "c802c901-1ea2-487f-8a4c-d540330b5b0d",
   "metadata": {},
   "source": [
    "**[6.5]** Concatenate Player ID and Prediction into on Data Frame and Sort by Id"
   ]
  },
  {
   "cell_type": "code",
   "execution_count": 42,
   "id": "116ef162-791d-4574-a6be-3ed5f0289297",
   "metadata": {},
   "outputs": [],
   "source": [
    "y_predict = pd.concat([X_test_id, y_predict], axis=1)"
   ]
  },
  {
   "cell_type": "code",
   "execution_count": 43,
   "id": "e738cf48-eeff-4205-b7a4-05f27c381369",
   "metadata": {},
   "outputs": [],
   "source": [
    "y_predict = y_predict.sort_values(by=['Id'])"
   ]
  },
  {
   "cell_type": "code",
   "execution_count": null,
   "id": "7b1085bd",
   "metadata": {},
   "outputs": [],
   "source": [
    "print(y_predict)"
   ]
  },
  {
   "cell_type": "markdown",
   "id": "d2430a87-7502-42df-bb97-43dc645d9fe9",
   "metadata": {},
   "source": [
    "**[6.6]** Export Dataframe to CSV and save model"
   ]
  },
  {
   "cell_type": "code",
   "execution_count": 44,
   "id": "0aa7d879-f6b6-4604-b874-b89f0bdd2b8a",
   "metadata": {},
   "outputs": [
    {
     "data": {
      "text/plain": [
       "(3799, 2)"
      ]
     },
     "execution_count": 44,
     "metadata": {},
     "output_type": "execute_result"
    },
    {
     "name": "stdout",
     "output_type": "stream",
     "text": [
      "[CV] END class_weight=balanced, max_iter=500, penalty=none, solver=liblinear; total time=   0.0s\n",
      "[CV] END class_weight=balanced, max_iter=500, penalty=none, solver=lbfgs; total time=   0.4s\n",
      "[CV] END class_weight=balanced, max_iter=500, penalty=l2, solver=liblinear; total time=   0.1s\n",
      "[CV] END class_weight=balanced, max_iter=500, penalty=l2, solver=liblinear; total time=   0.1s\n",
      "[CV] END class_weight=balanced, max_iter=500, penalty=l2, solver=lbfgs; total time=   0.2s\n",
      "[CV] END class_weight=balanced, max_iter=500, penalty=l1, solver=liblinear; total time=   1.5s\n",
      "[CV] END class_weight=balanced, max_iter=500, penalty=l1, solver=lbfgs; total time=   0.0s\n",
      "[CV] END class_weight=balanced, max_iter=500, penalty=l1, solver=lbfgs; total time=   0.0s\n",
      "[CV] END class_weight=balanced, max_iter=500, penalty=l1, solver=lbfgs; total time=   0.0s\n",
      "[CV] END class_weight=balanced, max_iter=500, penalty=l1, solver=lbfgs; total time=   0.0s\n",
      "[CV] END class_weight=balanced, max_iter=500, penalty=l1, solver=lbfgs; total time=   0.0s\n",
      "[CV] END class_weight=balanced, max_iter=500, penalty=elasticnet, solver=liblinear; total time=   0.0s\n",
      "[CV] END class_weight=balanced, max_iter=500, penalty=elasticnet, solver=liblinear; total time=   0.0s\n",
      "[CV] END class_weight=balanced, max_iter=500, penalty=elasticnet, solver=liblinear; total time=   0.0s\n",
      "[CV] END class_weight=balanced, max_iter=500, penalty=elasticnet, solver=liblinear; total time=   0.0s\n",
      "[CV] END class_weight=balanced, max_iter=500, penalty=elasticnet, solver=liblinear; total time=   0.0s\n",
      "[CV] END class_weight=balanced, max_iter=500, penalty=elasticnet, solver=lbfgs; total time=   0.0s\n",
      "[CV] END class_weight=balanced, max_iter=500, penalty=elasticnet, solver=lbfgs; total time=   0.0s\n",
      "[CV] END class_weight=balanced, max_iter=500, penalty=elasticnet, solver=lbfgs; total time=   0.0s\n",
      "[CV] END class_weight=balanced, max_iter=500, penalty=elasticnet, solver=lbfgs; total time=   0.0s\n",
      "[CV] END class_weight=balanced, max_iter=500, penalty=elasticnet, solver=lbfgs; total time=   0.0s\n",
      "[CV] END class_weight=balanced, max_iter=500, penalty=none, solver=liblinear; total time=   0.0s\n",
      "[CV] END class_weight=balanced, max_iter=500, penalty=none, solver=lbfgs; total time=   0.3s\n",
      "[CV] END class_weight=balanced, max_iter=500, penalty=l2, solver=liblinear; total time=   0.1s\n",
      "[CV] END class_weight=balanced, max_iter=500, penalty=l2, solver=liblinear; total time=   0.1s\n",
      "[CV] END class_weight=balanced, max_iter=500, penalty=l2, solver=lbfgs; total time=   0.2s\n",
      "[CV] END class_weight=balanced, max_iter=500, penalty=l1, solver=liblinear; total time=   1.7s\n",
      "[CV] END class_weight=balanced, max_iter=500, penalty=none, solver=liblinear; total time=   0.0s\n",
      "[CV] END class_weight=balanced, max_iter=500, penalty=none, solver=liblinear; total time=   0.0s\n",
      "[CV] END class_weight=balanced, max_iter=500, penalty=none, solver=lbfgs; total time=   0.3s\n",
      "[CV] END class_weight=balanced, max_iter=500, penalty=none, solver=lbfgs; total time=   0.4s\n",
      "[CV] END class_weight=balanced, max_iter=500, penalty=l2, solver=lbfgs; total time=   0.1s\n",
      "[CV] END class_weight=balanced, max_iter=500, penalty=l1, solver=liblinear; total time=   2.0s\n",
      "[CV] END class_weight=balanced, max_iter=500, penalty=none, solver=liblinear; total time=   0.0s\n",
      "[CV] END class_weight=balanced, max_iter=500, penalty=none, solver=lbfgs; total time=   0.4s\n",
      "[CV] END class_weight=balanced, max_iter=500, penalty=l2, solver=liblinear; total time=   0.1s\n",
      "[CV] END class_weight=balanced, max_iter=500, penalty=l2, solver=lbfgs; total time=   0.1s\n",
      "[CV] END class_weight=balanced, max_iter=500, penalty=l2, solver=lbfgs; total time=   0.2s\n",
      "[CV] END class_weight=balanced, max_iter=500, penalty=l1, solver=liblinear; total time=   1.0s\n",
      "[CV] END class_weight=balanced, max_iter=500, penalty=l1, solver=liblinear; total time=   1.9s\n"
     ]
    }
   ],
   "source": [
    "y_predict.to_csv(\"data/external/submission_nfragar_20220224_linear_regression_w3_1_add_kmeans_feature.csv\", index = False)\n",
    "y_predict.shape"
   ]
  }
 ],
 "metadata": {
  "kernelspec": {
   "display_name": "Python 3 (ipykernel)",
   "language": "python",
   "name": "python3"
  },
  "language_info": {
   "codemirror_mode": {
    "name": "ipython",
    "version": 3
   },
   "file_extension": ".py",
   "mimetype": "text/x-python",
   "name": "python",
   "nbconvert_exporter": "python",
   "pygments_lexer": "ipython3",
   "version": "3.9.7"
  }
 },
 "nbformat": 4,
 "nbformat_minor": 5
}
