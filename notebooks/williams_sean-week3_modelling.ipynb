{
 "cells": [
  {
   "cell_type": "markdown",
   "id": "4fd04699-6cd6-4318-84aa-6fe650869df2",
   "metadata": {
    "tags": []
   },
   "source": [
    "# **Advanced Data Science for Innovation - Assignment 1**\n"
   ]
  },
  {
   "cell_type": "markdown",
   "id": "ec16c8e7-22da-4fbd-b12f-637bd4883767",
   "metadata": {
    "tags": []
   },
   "source": [
    "## NBA Career Prediction: Predict 5-Year Longevity for NBA Rookies\n",
    "**Student Name:** Sean Williams\n",
    "\n",
    "**Team Name:** Group 1\n",
    "* Nuwan Munasinghe\n",
    "* Wenying Wu\n",
    "* Nathan Fragar\n",
    "* Sean Williams\n",
    "* Carol Myhill"
   ]
  },
  {
   "cell_type": "markdown",
   "id": "2a3f8ebf-d8d9-49df-bc95-8d6d08ced876",
   "metadata": {
    "tags": []
   },
   "source": [
    "## Environment Setup"
   ]
  },
  {
   "cell_type": "code",
   "execution_count": 104,
   "id": "cd90ef7b-9ab4-436f-beb3-0127d7e25364",
   "metadata": {},
   "outputs": [],
   "source": [
    "import pandas as pd\n",
    "import numpy as np\n",
    "from matplotlib import pyplot as plt\n",
    "from importlib.machinery import SourceFileLoader\n",
    "import datetime\n",
    "dataprep = SourceFileLoader('sets', '../src/data/prepare.py').load_module()\n",
    "base = SourceFileLoader('base', '../src/models/null.py').load_module()\n",
    "mdlhelpers = SourceFileLoader('mdlhelpers', '../src/models/helpers.py').load_module()\n",
    "from IPython.display import display\n",
    "from sklearn.linear_model import LogisticRegression\n",
    "from sklearn.neighbors import KNeighborsClassifier\n",
    "import xgboost as xgb\n",
    "from sklearn.model_selection import GridSearchCV, StratifiedKFold"
   ]
  },
  {
   "cell_type": "code",
   "execution_count": 110,
   "id": "3e5d662a-d61f-4aea-aed6-4c119c3c02c0",
   "metadata": {},
   "outputs": [],
   "source": [
    "def train_LR (set=None):\n",
    "    # 1. load saved dataset from filesystem\n",
    "    X_train, y_train, X_val, y_val, X_test, y_test = dataprep.load_sets(set)\n",
    "\n",
    "    # 2. Assess Baseline of Train and Validation datasets\n",
    "    # Instantiate base model class\n",
    "    base_model = base.NullModel(target_type=\"classification\")\n",
    "    # Fit base model and make predictions on traning and validation date\n",
    "    y_base_train_preds = base_model.fit_predict(y_train)\n",
    "    y_base_val_preds = base_model.fit_predict(y_val)\n",
    "    # Print metrics\n",
    "    print(\"******************\")\n",
    "    print(\"*   Null Model   *\")\n",
    "    print(\"******************\")\n",
    "    mdlhelpers.score_base(y_base_train_preds, y_train, y_base_val_preds, y_val)\n",
    "\n",
    "    # 3. Train various models with default parameters to provide a comparitive metrics\n",
    "    print(\"**************************\")\n",
    "    print(\"*   Comparison Models    *\")\n",
    "    print(\"**************************\")\n",
    "    print(datetime.datetime.now())\n",
    "    models_to_fit = {\"Logistic Regression\": LogisticRegression(random_state=8, solver='liblinear'),\n",
    "                     \"KNN Euclidian\": KNeighborsClassifier(metric='euclidean'),\n",
    "                     \"KNN Manhattan\": KNeighborsClassifier(metric='manhattan'),\n",
    "                     \"XGBoost\": xgb.XGBClassifier(random_state=8, use_label_encoder=False, eval_metric='logloss')}\n",
    "    clf1 = mdlhelpers.fit_score_models (models_to_fit, X_train, y_train, X_val, y_val)    \n",
    "\n",
    "    # 4. Perform a grid search to determine which hyperparameters result in best performance\n",
    "    print(\"**********************\")\n",
    "    print(\"*   Grid Search LR   *\")\n",
    "    print(\"**********************\")\n",
    "    print(datetime.datetime.now())\n",
    "    # Instantiate LR class\n",
    "    clf2 = LogisticRegression(random_state=8)\n",
    "    # Build list of Hyperparameters to be tuned\n",
    "    #class_weight = ['balanced']\n",
    "    solver = ['newton-cg','liblinear','lbfgs']\n",
    "    penalty = ['none','l2','l1']\n",
    "    c_values = [100,10,1.0,0.1,0.01]\n",
    "    max_iter = [500]\n",
    "    # Build dictionary for grid search\n",
    "    #param_grid = dict(solver=solver, penalty=penalty, C=c_values, class_weight=class_weight, max_iter=max_iter)\n",
    "    param_grid = dict(solver=solver, penalty=penalty, C=c_values, max_iter=max_iter)\n",
    "    # Setup cross validation folds\n",
    "    kfold = StratifiedKFold(n_splits=5, shuffle=True, random_state=8)\n",
    "    # Grid search with cross validation\n",
    "    grid_search = GridSearchCV(clf2, param_grid, scoring=\"accuracy\", n_jobs=-1, cv=kfold)\n",
    "    # Fit to data\n",
    "    grid_result = grid_search.fit(X_train, y_train)\n",
    "    # Print best score and parameters\n",
    "    print(\"Best: %f using %s\" % (grid_result.best_score_, grid_result.best_params_))\n",
    "\n",
    "    # 5. Get the best model from the grid search. Fit and score\n",
    "    print(\"*********************\")\n",
    "    print(\"*   Best LR Model   *\")\n",
    "    print(\"*********************\")\n",
    "    print(datetime.datetime.now())\n",
    "    models_to_fit = {\"Logistic Regression\": grid_result.best_estimator_}\n",
    "    clf3 = mdlhelpers.fit_score_models (models_to_fit, X_train, y_train, X_val, y_val, \"YES\", \"NO\")"
   ]
  },
  {
   "cell_type": "code",
   "execution_count": 111,
   "id": "1e28cade-5b6e-400a-9d52-f9f77b495aed",
   "metadata": {},
   "outputs": [],
   "source": [
    "def train_xgboost (set=None):\n",
    "    # 1. load saved dataset from filesystem\n",
    "    X_train, y_train, X_val, y_val, X_test, y_test = dataprep.load_sets(set)\n",
    "\n",
    "    # 2. Assess Baseline of Train and Validation datasets\n",
    "    # Instantiate base model class\n",
    "    base_model = base.NullModel(target_type=\"classification\")\n",
    "    # Fit base model and make predictions on traning and validation date\n",
    "    y_base_train_preds = base_model.fit_predict(y_train)\n",
    "    y_base_val_preds = base_model.fit_predict(y_val)\n",
    "    # Print metrics\n",
    "    print(\"******************\")\n",
    "    print(\"*   Null Model   *\")\n",
    "    print(\"******************\")\n",
    "    mdlhelpers.score_base(y_base_train_preds, y_train, y_base_val_preds, y_val)\n",
    "\n",
    "    # 3. Train various models with default parameters to provide a baseline\n",
    "    print(\"**************************\")\n",
    "    print(\"*   Comparison Models    *\")\n",
    "    print(\"**************************\")\n",
    "    print(datetime.datetime.now())\n",
    "    models_to_fit = {\"Logistic Regression\": LogisticRegression(random_state=8, solver='liblinear'),\n",
    "                     \"KNN Euclidian\": KNeighborsClassifier(metric='euclidean'),\n",
    "                     \"KNN Manhattan\": KNeighborsClassifier(metric='manhattan'),\n",
    "                     \"XGBoost\": xgb.XGBClassifier(random_state=8, use_label_encoder=False, eval_metric='logloss')}\n",
    "    clf4 = mdlhelpers.fit_score_models (models_to_fit, X_train, y_train, X_val, y_val)\n",
    "\n",
    "    # 4. Perform a grid search on XGBoost to determine which hyperparameters result in best performance\n",
    "    print(\"*******************\")\n",
    "    print(\"*   Grid Search   *\")\n",
    "    print(\"*******************\")\n",
    "    print(datetime.datetime.now())\n",
    "    # Instantiate XGBoost class    \n",
    "    clf5 = xgb.XGBClassifier(use_label_encoder=False, eval_metric='logloss')\n",
    "    # Build list of Hyperparameters to be tuned\n",
    "    n_estimators = [100, 200, 300, 400, 500]\n",
    "    learning_rate = [0.0001, 0.001, 0.01, 0.1]\n",
    "    subsample = [0.5, 0.7, 1.0]\n",
    "    max_depth = [3, 7, 9]\n",
    "    # Build dictionary for grid search\n",
    "    param_grid = dict(learning_rate=learning_rate, n_estimators=n_estimators, subsample=subsample, max_depth=max_depth)\n",
    "    # Setup cross validation folds\n",
    "    kfold = StratifiedKFold(n_splits=5, shuffle=True, random_state=8)\n",
    "    # Grid search with cross validation\n",
    "    grid_search = GridSearchCV(clf5, param_grid, scoring=\"accuracy\", n_jobs=-1, cv=kfold)\n",
    "    # Fit to data\n",
    "    grid_result = grid_search.fit(X_train, y_train)\n",
    "    # Print best score and parameters\n",
    "    print(\"Best: %f using %s\" % (grid_result.best_score_, grid_result.best_params_))\n",
    "\n",
    "    # 5. Get the best model from the grid search. Fit and score\n",
    "    print(\"**************************\")\n",
    "    print(\"*   Best XGBoost Model   *\")\n",
    "    print(\"**************************\")\n",
    "    print(datetime.datetime.now())\n",
    "    models_to_fit = {\"XGBoost\": grid_result.best_estimator_}\n",
    "    clf6 = mdlhelpers.fit_score_models (models_to_fit, X_train, y_train, X_val, y_val, \"YES\", \"NO\")"
   ]
  },
  {
   "cell_type": "markdown",
   "id": "8d5f3d40-c6f1-405c-96e8-b538f341c9a6",
   "metadata": {
    "tags": []
   },
   "source": [
    "# 3. Modelling"
   ]
  },
  {
   "cell_type": "markdown",
   "id": "e6f6eb5e-bff4-4c90-bdfa-53a650cd47ad",
   "metadata": {
    "tags": []
   },
   "source": [
    "## 3.1 Build Models"
   ]
  },
  {
   "cell_type": "markdown",
   "id": "c8a5da07-5286-4b87-9c00-f8b4475f9a82",
   "metadata": {
    "tags": []
   },
   "source": [
    "### 3.1.1 Logistic Regression (with all scaled features)"
   ]
  },
  {
   "cell_type": "code",
   "execution_count": 112,
   "id": "fb59066c-a726-4e47-804d-2ee2f9adfd79",
   "metadata": {},
   "outputs": [
    {
     "name": "stdout",
     "output_type": "stream",
     "text": [
      "******************\n",
      "*   Null Model   *\n",
      "******************\n"
     ]
    },
    {
     "data": {
      "text/html": [
       "<div>\n",
       "<style scoped>\n",
       "    .dataframe tbody tr th:only-of-type {\n",
       "        vertical-align: middle;\n",
       "    }\n",
       "\n",
       "    .dataframe tbody tr th {\n",
       "        vertical-align: top;\n",
       "    }\n",
       "\n",
       "    .dataframe thead th {\n",
       "        text-align: right;\n",
       "    }\n",
       "</style>\n",
       "<table border=\"1\" class=\"dataframe\">\n",
       "  <thead>\n",
       "    <tr style=\"text-align: right;\">\n",
       "      <th></th>\n",
       "      <th>model</th>\n",
       "      <th>t_accuracy</th>\n",
       "      <th>t_precision</th>\n",
       "      <th>t_recall</th>\n",
       "      <th>t_F1</th>\n",
       "      <th>v_accuracy</th>\n",
       "      <th>v_precision</th>\n",
       "      <th>v_recall</th>\n",
       "      <th>v_F1</th>\n",
       "    </tr>\n",
       "  </thead>\n",
       "  <tbody>\n",
       "    <tr>\n",
       "      <th>0</th>\n",
       "      <td>Base</td>\n",
       "      <td>0.833594</td>\n",
       "      <td>0.833594</td>\n",
       "      <td>1.0</td>\n",
       "      <td>0.757942</td>\n",
       "      <td>0.83375</td>\n",
       "      <td>0.83375</td>\n",
       "      <td>1.0</td>\n",
       "      <td>0.758161</td>\n",
       "    </tr>\n",
       "  </tbody>\n",
       "</table>\n",
       "</div>"
      ],
      "text/plain": [
       "  model  t_accuracy  t_precision  t_recall      t_F1  v_accuracy  v_precision  \\\n",
       "0  Base    0.833594     0.833594       1.0  0.757942     0.83375      0.83375   \n",
       "\n",
       "   v_recall      v_F1  \n",
       "0       1.0  0.758161  "
      ]
     },
     "metadata": {},
     "output_type": "display_data"
    },
    {
     "name": "stdout",
     "output_type": "stream",
     "text": [
      "**************************\n",
      "*   Comparison Models    *\n",
      "**************************\n",
      "2022-02-27 23:39:39.067221\n"
     ]
    },
    {
     "data": {
      "text/html": [
       "<div>\n",
       "<style scoped>\n",
       "    .dataframe tbody tr th:only-of-type {\n",
       "        vertical-align: middle;\n",
       "    }\n",
       "\n",
       "    .dataframe tbody tr th {\n",
       "        vertical-align: top;\n",
       "    }\n",
       "\n",
       "    .dataframe thead th {\n",
       "        text-align: right;\n",
       "    }\n",
       "</style>\n",
       "<table border=\"1\" class=\"dataframe\">\n",
       "  <thead>\n",
       "    <tr style=\"text-align: right;\">\n",
       "      <th></th>\n",
       "      <th>model</th>\n",
       "      <th>t_accuracy</th>\n",
       "      <th>t_precision</th>\n",
       "      <th>t_recall</th>\n",
       "      <th>t_F1</th>\n",
       "      <th>t_auc</th>\n",
       "      <th>v_accuracy</th>\n",
       "      <th>v_precision</th>\n",
       "      <th>v_recall</th>\n",
       "      <th>v_F1</th>\n",
       "      <th>v_auc</th>\n",
       "    </tr>\n",
       "  </thead>\n",
       "  <tbody>\n",
       "    <tr>\n",
       "      <th>0</th>\n",
       "      <td>Logistic Regression</td>\n",
       "      <td>0.834063</td>\n",
       "      <td>0.836192</td>\n",
       "      <td>0.996064</td>\n",
       "      <td>0.909153</td>\n",
       "      <td>0.706047</td>\n",
       "      <td>0.831875</td>\n",
       "      <td>0.834275</td>\n",
       "      <td>0.996252</td>\n",
       "      <td>0.908097</td>\n",
       "      <td>0.698507</td>\n",
       "    </tr>\n",
       "    <tr>\n",
       "      <th>1</th>\n",
       "      <td>KNN Euclidian</td>\n",
       "      <td>0.850938</td>\n",
       "      <td>0.863568</td>\n",
       "      <td>0.975258</td>\n",
       "      <td>0.916021</td>\n",
       "      <td>0.851987</td>\n",
       "      <td>0.815625</td>\n",
       "      <td>0.846103</td>\n",
       "      <td>0.952024</td>\n",
       "      <td>0.895944</td>\n",
       "      <td>0.586492</td>\n",
       "    </tr>\n",
       "    <tr>\n",
       "      <th>2</th>\n",
       "      <td>KNN Manhattan</td>\n",
       "      <td>0.852344</td>\n",
       "      <td>0.863050</td>\n",
       "      <td>0.978069</td>\n",
       "      <td>0.916967</td>\n",
       "      <td>0.856807</td>\n",
       "      <td>0.810625</td>\n",
       "      <td>0.841165</td>\n",
       "      <td>0.952774</td>\n",
       "      <td>0.893497</td>\n",
       "      <td>0.601494</td>\n",
       "    </tr>\n",
       "    <tr>\n",
       "      <th>3</th>\n",
       "      <td>XGBoost</td>\n",
       "      <td>0.983906</td>\n",
       "      <td>0.981059</td>\n",
       "      <td>1.000000</td>\n",
       "      <td>0.990439</td>\n",
       "      <td>0.999480</td>\n",
       "      <td>0.819375</td>\n",
       "      <td>0.838626</td>\n",
       "      <td>0.970015</td>\n",
       "      <td>0.899548</td>\n",
       "      <td>0.618934</td>\n",
       "    </tr>\n",
       "  </tbody>\n",
       "</table>\n",
       "</div>"
      ],
      "text/plain": [
       "                 model  t_accuracy  t_precision  t_recall      t_F1     t_auc  \\\n",
       "0  Logistic Regression    0.834063     0.836192  0.996064  0.909153  0.706047   \n",
       "1        KNN Euclidian    0.850938     0.863568  0.975258  0.916021  0.851987   \n",
       "2        KNN Manhattan    0.852344     0.863050  0.978069  0.916967  0.856807   \n",
       "3              XGBoost    0.983906     0.981059  1.000000  0.990439  0.999480   \n",
       "\n",
       "   v_accuracy  v_precision  v_recall      v_F1     v_auc  \n",
       "0    0.831875     0.834275  0.996252  0.908097  0.698507  \n",
       "1    0.815625     0.846103  0.952024  0.895944  0.586492  \n",
       "2    0.810625     0.841165  0.952774  0.893497  0.601494  \n",
       "3    0.819375     0.838626  0.970015  0.899548  0.618934  "
      ]
     },
     "metadata": {},
     "output_type": "display_data"
    },
    {
     "name": "stdout",
     "output_type": "stream",
     "text": [
      "**********************\n",
      "*   Grid Search LR   *\n",
      "**********************\n",
      "2022-02-27 23:39:46.773737\n"
     ]
    },
    {
     "name": "stderr",
     "output_type": "stream",
     "text": [
      "C:\\Users\\Sean Williams\\.virtualenvs\\kaggle-nba-career-prediction-0ju6VdSh\\lib\\site-packages\\sklearn\\model_selection\\_validation.py:372: FitFailedWarning: \n",
      "75 fits failed out of a total of 225.\n",
      "The score on these train-test partitions for these parameters will be set to nan.\n",
      "If these failures are not expected, you can try to debug them by setting error_score='raise'.\n",
      "\n",
      "Below are more details about the failures:\n",
      "--------------------------------------------------------------------------------\n",
      "25 fits failed with the following error:\n",
      "Traceback (most recent call last):\n",
      "  File \"C:\\Users\\Sean Williams\\.virtualenvs\\kaggle-nba-career-prediction-0ju6VdSh\\lib\\site-packages\\sklearn\\model_selection\\_validation.py\", line 680, in _fit_and_score\n",
      "    estimator.fit(X_train, y_train, **fit_params)\n",
      "  File \"C:\\Users\\Sean Williams\\.virtualenvs\\kaggle-nba-career-prediction-0ju6VdSh\\lib\\site-packages\\sklearn\\linear_model\\_logistic.py\", line 1461, in fit\n",
      "    solver = _check_solver(self.solver, self.penalty, self.dual)\n",
      "  File \"C:\\Users\\Sean Williams\\.virtualenvs\\kaggle-nba-career-prediction-0ju6VdSh\\lib\\site-packages\\sklearn\\linear_model\\_logistic.py\", line 464, in _check_solver\n",
      "    raise ValueError(\"penalty='none' is not supported for the liblinear solver\")\n",
      "ValueError: penalty='none' is not supported for the liblinear solver\n",
      "\n",
      "--------------------------------------------------------------------------------\n",
      "25 fits failed with the following error:\n",
      "Traceback (most recent call last):\n",
      "  File \"C:\\Users\\Sean Williams\\.virtualenvs\\kaggle-nba-career-prediction-0ju6VdSh\\lib\\site-packages\\sklearn\\model_selection\\_validation.py\", line 680, in _fit_and_score\n",
      "    estimator.fit(X_train, y_train, **fit_params)\n",
      "  File \"C:\\Users\\Sean Williams\\.virtualenvs\\kaggle-nba-career-prediction-0ju6VdSh\\lib\\site-packages\\sklearn\\linear_model\\_logistic.py\", line 1461, in fit\n",
      "    solver = _check_solver(self.solver, self.penalty, self.dual)\n",
      "  File \"C:\\Users\\Sean Williams\\.virtualenvs\\kaggle-nba-career-prediction-0ju6VdSh\\lib\\site-packages\\sklearn\\linear_model\\_logistic.py\", line 447, in _check_solver\n",
      "    raise ValueError(\n",
      "ValueError: Solver newton-cg supports only 'l2' or 'none' penalties, got l1 penalty.\n",
      "\n",
      "--------------------------------------------------------------------------------\n",
      "25 fits failed with the following error:\n",
      "Traceback (most recent call last):\n",
      "  File \"C:\\Users\\Sean Williams\\.virtualenvs\\kaggle-nba-career-prediction-0ju6VdSh\\lib\\site-packages\\sklearn\\model_selection\\_validation.py\", line 680, in _fit_and_score\n",
      "    estimator.fit(X_train, y_train, **fit_params)\n",
      "  File \"C:\\Users\\Sean Williams\\.virtualenvs\\kaggle-nba-career-prediction-0ju6VdSh\\lib\\site-packages\\sklearn\\linear_model\\_logistic.py\", line 1461, in fit\n",
      "    solver = _check_solver(self.solver, self.penalty, self.dual)\n",
      "  File \"C:\\Users\\Sean Williams\\.virtualenvs\\kaggle-nba-career-prediction-0ju6VdSh\\lib\\site-packages\\sklearn\\linear_model\\_logistic.py\", line 447, in _check_solver\n",
      "    raise ValueError(\n",
      "ValueError: Solver lbfgs supports only 'l2' or 'none' penalties, got l1 penalty.\n",
      "\n",
      "  warnings.warn(some_fits_failed_message, FitFailedWarning)\n",
      "C:\\Users\\Sean Williams\\.virtualenvs\\kaggle-nba-career-prediction-0ju6VdSh\\lib\\site-packages\\sklearn\\model_selection\\_search.py:969: UserWarning: One or more of the test scores are non-finite: [0.83421875        nan 0.83390625 0.83390625 0.83390625 0.8340625\n",
      "        nan 0.8340625         nan 0.83421875        nan 0.83390625\n",
      " 0.83390625 0.83421875 0.83375           nan 0.83421875        nan\n",
      " 0.83421875        nan 0.83390625 0.83328125 0.8334375  0.83328125\n",
      "        nan 0.83359375        nan 0.83421875        nan 0.83390625\n",
      " 0.83359375 0.8334375  0.83359375        nan 0.83375           nan\n",
      " 0.83421875        nan 0.83390625 0.83359375 0.83359375 0.83359375\n",
      "        nan 0.83359375        nan]\n",
      "  warnings.warn(\n",
      "C:\\Users\\Sean Williams\\.virtualenvs\\kaggle-nba-career-prediction-0ju6VdSh\\lib\\site-packages\\sklearn\\linear_model\\_logistic.py:1483: UserWarning: Setting penalty='none' will ignore the C and l1_ratio parameters\n",
      "  warnings.warn(\n"
     ]
    },
    {
     "name": "stdout",
     "output_type": "stream",
     "text": [
      "Best: 0.834219 using {'C': 100, 'max_iter': 500, 'penalty': 'none', 'solver': 'newton-cg'}\n",
      "*********************\n",
      "*   Best LR Model   *\n",
      "*********************\n",
      "2022-02-27 23:39:54.285480\n"
     ]
    },
    {
     "name": "stderr",
     "output_type": "stream",
     "text": [
      "C:\\Users\\Sean Williams\\.virtualenvs\\kaggle-nba-career-prediction-0ju6VdSh\\lib\\site-packages\\sklearn\\linear_model\\_logistic.py:1483: UserWarning: Setting penalty='none' will ignore the C and l1_ratio parameters\n",
      "  warnings.warn(\n"
     ]
    },
    {
     "data": {
      "text/html": [
       "<div>\n",
       "<style scoped>\n",
       "    .dataframe tbody tr th:only-of-type {\n",
       "        vertical-align: middle;\n",
       "    }\n",
       "\n",
       "    .dataframe tbody tr th {\n",
       "        vertical-align: top;\n",
       "    }\n",
       "\n",
       "    .dataframe thead th {\n",
       "        text-align: right;\n",
       "    }\n",
       "</style>\n",
       "<table border=\"1\" class=\"dataframe\">\n",
       "  <thead>\n",
       "    <tr style=\"text-align: right;\">\n",
       "      <th></th>\n",
       "      <th>model</th>\n",
       "      <th>t_accuracy</th>\n",
       "      <th>t_precision</th>\n",
       "      <th>t_recall</th>\n",
       "      <th>t_F1</th>\n",
       "      <th>t_auc</th>\n",
       "      <th>v_accuracy</th>\n",
       "      <th>v_precision</th>\n",
       "      <th>v_recall</th>\n",
       "      <th>v_F1</th>\n",
       "      <th>v_auc</th>\n",
       "    </tr>\n",
       "  </thead>\n",
       "  <tbody>\n",
       "    <tr>\n",
       "      <th>0</th>\n",
       "      <td>Logistic Regression</td>\n",
       "      <td>0.834531</td>\n",
       "      <td>0.838184</td>\n",
       "      <td>0.993252</td>\n",
       "      <td>0.909153</td>\n",
       "      <td>0.709084</td>\n",
       "      <td>0.831875</td>\n",
       "      <td>0.835539</td>\n",
       "      <td>0.994003</td>\n",
       "      <td>0.907908</td>\n",
       "      <td>0.696734</td>\n",
       "    </tr>\n",
       "  </tbody>\n",
       "</table>\n",
       "</div>"
      ],
      "text/plain": [
       "                 model  t_accuracy  t_precision  t_recall      t_F1     t_auc  \\\n",
       "0  Logistic Regression    0.834531     0.838184  0.993252  0.909153  0.709084   \n",
       "\n",
       "   v_accuracy  v_precision  v_recall      v_F1     v_auc  \n",
       "0    0.831875     0.835539  0.994003  0.907908  0.696734  "
      ]
     },
     "metadata": {},
     "output_type": "display_data"
    },
    {
     "data": {
      "image/png": "[encoded data removed]",
      "text/plain": [
       "<Figure size 432x288 with 2 Axes>"
      ]
     },
     "metadata": {
      "needs_background": "light"
     },
     "output_type": "display_data"
    },
    {
     "data": {
      "image/png": "[encoded data removed]",
      "text/plain": [
       "<Figure size 432x288 with 2 Axes>"
      ]
     },
     "metadata": {
      "needs_background": "light"
     },
     "output_type": "display_data"
    },
    {
     "data": {
      "image/png": "[encoded data removed]",
      "text/plain": [
       "<Figure size 700x500 with 1 Axes>"
      ]
     },
     "metadata": {
      "needs_background": "light"
     },
     "output_type": "display_data"
    },
    {
     "data": {
      "image/png": "[encoded data removed]",
      "text/plain": [
       "<Figure size 700x500 with 1 Axes>"
      ]
     },
     "metadata": {
      "needs_background": "light"
     },
     "output_type": "display_data"
    }
   ],
   "source": [
    "train_LR('scaled')"
   ]
  },
  {
   "cell_type": "markdown",
   "id": "ef67f135-1dac-4c80-a508-8b0c0a23c5bf",
   "metadata": {},
   "source": [
    "---\n",
    "### 3.1.2 Logistic Regression (with 16 most correlated scaled featured)"
   ]
  },
  {
   "cell_type": "code",
   "execution_count": 108,
   "id": "123e7d0e-f7ea-43f8-a4f0-018b1d530e62",
   "metadata": {},
   "outputs": [
    {
     "name": "stdout",
     "output_type": "stream",
     "text": [
      "******************\n",
      "*   Null Model   *\n",
      "******************\n"
     ]
    },
    {
     "data": {
      "text/html": [
       "<div>\n",
       "<style scoped>\n",
       "    .dataframe tbody tr th:only-of-type {\n",
       "        vertical-align: middle;\n",
       "    }\n",
       "\n",
       "    .dataframe tbody tr th {\n",
       "        vertical-align: top;\n",
       "    }\n",
       "\n",
       "    .dataframe thead th {\n",
       "        text-align: right;\n",
       "    }\n",
       "</style>\n",
       "<table border=\"1\" class=\"dataframe\">\n",
       "  <thead>\n",
       "    <tr style=\"text-align: right;\">\n",
       "      <th></th>\n",
       "      <th>model</th>\n",
       "      <th>t_accuracy</th>\n",
       "      <th>t_precision</th>\n",
       "      <th>t_recall</th>\n",
       "      <th>t_F1</th>\n",
       "      <th>v_accuracy</th>\n",
       "      <th>v_precision</th>\n",
       "      <th>v_recall</th>\n",
       "      <th>v_F1</th>\n",
       "    </tr>\n",
       "  </thead>\n",
       "  <tbody>\n",
       "    <tr>\n",
       "      <th>0</th>\n",
       "      <td>Base</td>\n",
       "      <td>0.833594</td>\n",
       "      <td>0.833594</td>\n",
       "      <td>1.0</td>\n",
       "      <td>0.757942</td>\n",
       "      <td>0.83375</td>\n",
       "      <td>0.83375</td>\n",
       "      <td>1.0</td>\n",
       "      <td>0.758161</td>\n",
       "    </tr>\n",
       "  </tbody>\n",
       "</table>\n",
       "</div>"
      ],
      "text/plain": [
       "  model  t_accuracy  t_precision  t_recall      t_F1  v_accuracy  v_precision  \\\n",
       "0  Base    0.833594     0.833594       1.0  0.757942     0.83375      0.83375   \n",
       "\n",
       "   v_recall      v_F1  \n",
       "0       1.0  0.758161  "
      ]
     },
     "metadata": {},
     "output_type": "display_data"
    },
    {
     "name": "stdout",
     "output_type": "stream",
     "text": [
      "**************************\n",
      "*   Comparison Models    *\n",
      "**************************\n",
      "2022-02-27 23:25:57.193289\n"
     ]
    },
    {
     "data": {
      "text/html": [
       "<div>\n",
       "<style scoped>\n",
       "    .dataframe tbody tr th:only-of-type {\n",
       "        vertical-align: middle;\n",
       "    }\n",
       "\n",
       "    .dataframe tbody tr th {\n",
       "        vertical-align: top;\n",
       "    }\n",
       "\n",
       "    .dataframe thead th {\n",
       "        text-align: right;\n",
       "    }\n",
       "</style>\n",
       "<table border=\"1\" class=\"dataframe\">\n",
       "  <thead>\n",
       "    <tr style=\"text-align: right;\">\n",
       "      <th></th>\n",
       "      <th>model</th>\n",
       "      <th>t_accuracy</th>\n",
       "      <th>t_precision</th>\n",
       "      <th>t_recall</th>\n",
       "      <th>t_F1</th>\n",
       "      <th>t_auc</th>\n",
       "      <th>v_accuracy</th>\n",
       "      <th>v_precision</th>\n",
       "      <th>v_recall</th>\n",
       "      <th>v_F1</th>\n",
       "      <th>v_auc</th>\n",
       "    </tr>\n",
       "  </thead>\n",
       "  <tbody>\n",
       "    <tr>\n",
       "      <th>0</th>\n",
       "      <td>Logistic Regression</td>\n",
       "      <td>0.834375</td>\n",
       "      <td>0.836561</td>\n",
       "      <td>0.995876</td>\n",
       "      <td>0.909293</td>\n",
       "      <td>0.704629</td>\n",
       "      <td>0.831875</td>\n",
       "      <td>0.834275</td>\n",
       "      <td>0.996252</td>\n",
       "      <td>0.908097</td>\n",
       "      <td>0.697597</td>\n",
       "    </tr>\n",
       "    <tr>\n",
       "      <th>1</th>\n",
       "      <td>KNN Euclidian</td>\n",
       "      <td>0.853906</td>\n",
       "      <td>0.864118</td>\n",
       "      <td>0.978632</td>\n",
       "      <td>0.917817</td>\n",
       "      <td>0.856692</td>\n",
       "      <td>0.804375</td>\n",
       "      <td>0.836076</td>\n",
       "      <td>0.952024</td>\n",
       "      <td>0.890291</td>\n",
       "      <td>0.582097</td>\n",
       "    </tr>\n",
       "    <tr>\n",
       "      <th>2</th>\n",
       "      <td>KNN Manhattan</td>\n",
       "      <td>0.853281</td>\n",
       "      <td>0.864511</td>\n",
       "      <td>0.977132</td>\n",
       "      <td>0.917378</td>\n",
       "      <td>0.859845</td>\n",
       "      <td>0.809375</td>\n",
       "      <td>0.839156</td>\n",
       "      <td>0.954273</td>\n",
       "      <td>0.893020</td>\n",
       "      <td>0.607729</td>\n",
       "    </tr>\n",
       "    <tr>\n",
       "      <th>3</th>\n",
       "      <td>XGBoost</td>\n",
       "      <td>0.964063</td>\n",
       "      <td>0.958835</td>\n",
       "      <td>0.999813</td>\n",
       "      <td>0.978895</td>\n",
       "      <td>0.996906</td>\n",
       "      <td>0.808125</td>\n",
       "      <td>0.839841</td>\n",
       "      <td>0.951274</td>\n",
       "      <td>0.892091</td>\n",
       "      <td>0.637663</td>\n",
       "    </tr>\n",
       "  </tbody>\n",
       "</table>\n",
       "</div>"
      ],
      "text/plain": [
       "                 model  t_accuracy  t_precision  t_recall      t_F1     t_auc  \\\n",
       "0  Logistic Regression    0.834375     0.836561  0.995876  0.909293  0.704629   \n",
       "1        KNN Euclidian    0.853906     0.864118  0.978632  0.917817  0.856692   \n",
       "2        KNN Manhattan    0.853281     0.864511  0.977132  0.917378  0.859845   \n",
       "3              XGBoost    0.964063     0.958835  0.999813  0.978895  0.996906   \n",
       "\n",
       "   v_accuracy  v_precision  v_recall      v_F1     v_auc  \n",
       "0    0.831875     0.834275  0.996252  0.908097  0.697597  \n",
       "1    0.804375     0.836076  0.952024  0.890291  0.582097  \n",
       "2    0.809375     0.839156  0.954273  0.893020  0.607729  \n",
       "3    0.808125     0.839841  0.951274  0.892091  0.637663  "
      ]
     },
     "metadata": {},
     "output_type": "display_data"
    },
    {
     "name": "stdout",
     "output_type": "stream",
     "text": [
      "**********************\n",
      "*   Grid Search LR   *\n",
      "**********************\n",
      "2022-02-27 23:26:03.731801\n",
      "Best: 0.833750 using {'C': 0.01, 'class_weight': 'balanced', 'max_iter': 500, 'penalty': 'l1', 'solver': 'liblinear'}\n",
      "*********************\n",
      "*   Best LR Model   *\n",
      "*********************\n",
      "2022-02-27 23:26:12.765387\n"
     ]
    },
    {
     "name": "stderr",
     "output_type": "stream",
     "text": [
      "C:\\Users\\Sean Williams\\.virtualenvs\\kaggle-nba-career-prediction-0ju6VdSh\\lib\\site-packages\\sklearn\\model_selection\\_validation.py:372: FitFailedWarning: \n",
      "75 fits failed out of a total of 225.\n",
      "The score on these train-test partitions for these parameters will be set to nan.\n",
      "If these failures are not expected, you can try to debug them by setting error_score='raise'.\n",
      "\n",
      "Below are more details about the failures:\n",
      "--------------------------------------------------------------------------------\n",
      "25 fits failed with the following error:\n",
      "Traceback (most recent call last):\n",
      "  File \"C:\\Users\\Sean Williams\\.virtualenvs\\kaggle-nba-career-prediction-0ju6VdSh\\lib\\site-packages\\sklearn\\model_selection\\_validation.py\", line 680, in _fit_and_score\n",
      "    estimator.fit(X_train, y_train, **fit_params)\n",
      "  File \"C:\\Users\\Sean Williams\\.virtualenvs\\kaggle-nba-career-prediction-0ju6VdSh\\lib\\site-packages\\sklearn\\linear_model\\_logistic.py\", line 1461, in fit\n",
      "    solver = _check_solver(self.solver, self.penalty, self.dual)\n",
      "  File \"C:\\Users\\Sean Williams\\.virtualenvs\\kaggle-nba-career-prediction-0ju6VdSh\\lib\\site-packages\\sklearn\\linear_model\\_logistic.py\", line 464, in _check_solver\n",
      "    raise ValueError(\"penalty='none' is not supported for the liblinear solver\")\n",
      "ValueError: penalty='none' is not supported for the liblinear solver\n",
      "\n",
      "--------------------------------------------------------------------------------\n",
      "25 fits failed with the following error:\n",
      "Traceback (most recent call last):\n",
      "  File \"C:\\Users\\Sean Williams\\.virtualenvs\\kaggle-nba-career-prediction-0ju6VdSh\\lib\\site-packages\\sklearn\\model_selection\\_validation.py\", line 680, in _fit_and_score\n",
      "    estimator.fit(X_train, y_train, **fit_params)\n",
      "  File \"C:\\Users\\Sean Williams\\.virtualenvs\\kaggle-nba-career-prediction-0ju6VdSh\\lib\\site-packages\\sklearn\\linear_model\\_logistic.py\", line 1461, in fit\n",
      "    solver = _check_solver(self.solver, self.penalty, self.dual)\n",
      "  File \"C:\\Users\\Sean Williams\\.virtualenvs\\kaggle-nba-career-prediction-0ju6VdSh\\lib\\site-packages\\sklearn\\linear_model\\_logistic.py\", line 447, in _check_solver\n",
      "    raise ValueError(\n",
      "ValueError: Solver newton-cg supports only 'l2' or 'none' penalties, got l1 penalty.\n",
      "\n",
      "--------------------------------------------------------------------------------\n",
      "25 fits failed with the following error:\n",
      "Traceback (most recent call last):\n",
      "  File \"C:\\Users\\Sean Williams\\.virtualenvs\\kaggle-nba-career-prediction-0ju6VdSh\\lib\\site-packages\\sklearn\\model_selection\\_validation.py\", line 680, in _fit_and_score\n",
      "    estimator.fit(X_train, y_train, **fit_params)\n",
      "  File \"C:\\Users\\Sean Williams\\.virtualenvs\\kaggle-nba-career-prediction-0ju6VdSh\\lib\\site-packages\\sklearn\\linear_model\\_logistic.py\", line 1461, in fit\n",
      "    solver = _check_solver(self.solver, self.penalty, self.dual)\n",
      "  File \"C:\\Users\\Sean Williams\\.virtualenvs\\kaggle-nba-career-prediction-0ju6VdSh\\lib\\site-packages\\sklearn\\linear_model\\_logistic.py\", line 447, in _check_solver\n",
      "    raise ValueError(\n",
      "ValueError: Solver lbfgs supports only 'l2' or 'none' penalties, got l1 penalty.\n",
      "\n",
      "  warnings.warn(some_fits_failed_message, FitFailedWarning)\n",
      "C:\\Users\\Sean Williams\\.virtualenvs\\kaggle-nba-career-prediction-0ju6VdSh\\lib\\site-packages\\sklearn\\model_selection\\_search.py:969: UserWarning: One or more of the test scores are non-finite: [0.638125          nan 0.6390625  0.63921875 0.63921875 0.63890625\n",
      "        nan 0.639375          nan 0.638125          nan 0.6390625\n",
      " 0.63953125 0.63953125 0.639375          nan 0.6384375         nan\n",
      " 0.638125          nan 0.6390625  0.63984375 0.6409375  0.63984375\n",
      "        nan 0.64234375        nan 0.638125          nan 0.6390625\n",
      " 0.63328125 0.63359375 0.63328125        nan 0.64265625        nan\n",
      " 0.638125          nan 0.6390625  0.60578125 0.64171875 0.6059375\n",
      "        nan 0.83375           nan]\n",
      "  warnings.warn(\n"
     ]
    },
    {
     "data": {
      "text/html": [
       "<div>\n",
       "<style scoped>\n",
       "    .dataframe tbody tr th:only-of-type {\n",
       "        vertical-align: middle;\n",
       "    }\n",
       "\n",
       "    .dataframe tbody tr th {\n",
       "        vertical-align: top;\n",
       "    }\n",
       "\n",
       "    .dataframe thead th {\n",
       "        text-align: right;\n",
       "    }\n",
       "</style>\n",
       "<table border=\"1\" class=\"dataframe\">\n",
       "  <thead>\n",
       "    <tr style=\"text-align: right;\">\n",
       "      <th></th>\n",
       "      <th>model</th>\n",
       "      <th>t_accuracy</th>\n",
       "      <th>t_precision</th>\n",
       "      <th>t_recall</th>\n",
       "      <th>t_F1</th>\n",
       "      <th>t_auc</th>\n",
       "      <th>v_accuracy</th>\n",
       "      <th>v_precision</th>\n",
       "      <th>v_recall</th>\n",
       "      <th>v_F1</th>\n",
       "      <th>v_auc</th>\n",
       "    </tr>\n",
       "  </thead>\n",
       "  <tbody>\n",
       "    <tr>\n",
       "      <th>0</th>\n",
       "      <td>Logistic Regression</td>\n",
       "      <td>0.83375</td>\n",
       "      <td>0.833724</td>\n",
       "      <td>1.0</td>\n",
       "      <td>0.909323</td>\n",
       "      <td>0.68683</td>\n",
       "      <td>0.83375</td>\n",
       "      <td>0.83375</td>\n",
       "      <td>1.0</td>\n",
       "      <td>0.909339</td>\n",
       "      <td>0.673366</td>\n",
       "    </tr>\n",
       "  </tbody>\n",
       "</table>\n",
       "</div>"
      ],
      "text/plain": [
       "                 model  t_accuracy  t_precision  t_recall      t_F1    t_auc  \\\n",
       "0  Logistic Regression     0.83375     0.833724       1.0  0.909323  0.68683   \n",
       "\n",
       "   v_accuracy  v_precision  v_recall      v_F1     v_auc  \n",
       "0     0.83375      0.83375       1.0  0.909339  0.673366  "
      ]
     },
     "metadata": {},
     "output_type": "display_data"
    },
    {
     "data": {
      "image/png": "[encoded data removed]",
      "text/plain": [
       "<Figure size 432x288 with 2 Axes>"
      ]
     },
     "metadata": {
      "needs_background": "light"
     },
     "output_type": "display_data"
    },
    {
     "data": {
      "image/png": "[encoded data removed]",
      "text/plain": [
       "<Figure size 432x288 with 2 Axes>"
      ]
     },
     "metadata": {
      "needs_background": "light"
     },
     "output_type": "display_data"
    },
    {
     "data": {
      "image/png": "[encoded data removed]",
      "text/plain": [
       "<Figure size 700x500 with 1 Axes>"
      ]
     },
     "metadata": {
      "needs_background": "light"
     },
     "output_type": "display_data"
    },
    {
     "data": {
      "image/png": "[encoded data removed]",
      "text/plain": [
       "<Figure size 700x500 with 1 Axes>"
      ]
     },
     "metadata": {
      "needs_background": "light"
     },
     "output_type": "display_data"
    }
   ],
   "source": [
    "train_LR('scaled_lr_features')"
   ]
  },
  {
   "cell_type": "markdown",
   "id": "248c3a5c-8477-408f-afc2-08e83bd2f2b9",
   "metadata": {},
   "source": [
    "---\n",
    "### 3.1.3 XGBoost (with all features)"
   ]
  },
  {
   "cell_type": "code",
   "execution_count": 103,
   "id": "7fb9433d-3fba-4732-bd6c-6c58b1c750f7",
   "metadata": {},
   "outputs": [
    {
     "name": "stdout",
     "output_type": "stream",
     "text": [
      "******************\n",
      "*   Null Model   *\n",
      "******************\n"
     ]
    },
    {
     "data": {
      "text/html": [
       "<div>\n",
       "<style scoped>\n",
       "    .dataframe tbody tr th:only-of-type {\n",
       "        vertical-align: middle;\n",
       "    }\n",
       "\n",
       "    .dataframe tbody tr th {\n",
       "        vertical-align: top;\n",
       "    }\n",
       "\n",
       "    .dataframe thead th {\n",
       "        text-align: right;\n",
       "    }\n",
       "</style>\n",
       "<table border=\"1\" class=\"dataframe\">\n",
       "  <thead>\n",
       "    <tr style=\"text-align: right;\">\n",
       "      <th></th>\n",
       "      <th>model</th>\n",
       "      <th>t_accuracy</th>\n",
       "      <th>t_precision</th>\n",
       "      <th>t_recall</th>\n",
       "      <th>t_F1</th>\n",
       "      <th>v_accuracy</th>\n",
       "      <th>v_precision</th>\n",
       "      <th>v_recall</th>\n",
       "      <th>v_F1</th>\n",
       "    </tr>\n",
       "  </thead>\n",
       "  <tbody>\n",
       "    <tr>\n",
       "      <th>0</th>\n",
       "      <td>Base</td>\n",
       "      <td>0.833594</td>\n",
       "      <td>0.833594</td>\n",
       "      <td>1.0</td>\n",
       "      <td>0.757942</td>\n",
       "      <td>0.83375</td>\n",
       "      <td>0.83375</td>\n",
       "      <td>1.0</td>\n",
       "      <td>0.758161</td>\n",
       "    </tr>\n",
       "  </tbody>\n",
       "</table>\n",
       "</div>"
      ],
      "text/plain": [
       "  model  t_accuracy  t_precision  t_recall      t_F1  v_accuracy  v_precision  \\\n",
       "0  Base    0.833594     0.833594       1.0  0.757942     0.83375      0.83375   \n",
       "\n",
       "   v_recall      v_F1  \n",
       "0       1.0  0.758161  "
      ]
     },
     "metadata": {},
     "output_type": "display_data"
    },
    {
     "name": "stdout",
     "output_type": "stream",
     "text": [
      "**************************\n",
      "*   Comparison Models    *\n",
      "**************************\n",
      "2022-02-27 23:06:26.257608\n"
     ]
    },
    {
     "data": {
      "text/html": [
       "<div>\n",
       "<style scoped>\n",
       "    .dataframe tbody tr th:only-of-type {\n",
       "        vertical-align: middle;\n",
       "    }\n",
       "\n",
       "    .dataframe tbody tr th {\n",
       "        vertical-align: top;\n",
       "    }\n",
       "\n",
       "    .dataframe thead th {\n",
       "        text-align: right;\n",
       "    }\n",
       "</style>\n",
       "<table border=\"1\" class=\"dataframe\">\n",
       "  <thead>\n",
       "    <tr style=\"text-align: right;\">\n",
       "      <th></th>\n",
       "      <th>model</th>\n",
       "      <th>t_accuracy</th>\n",
       "      <th>t_precision</th>\n",
       "      <th>t_recall</th>\n",
       "      <th>t_F1</th>\n",
       "      <th>t_auc</th>\n",
       "      <th>v_accuracy</th>\n",
       "      <th>v_precision</th>\n",
       "      <th>v_recall</th>\n",
       "      <th>v_F1</th>\n",
       "      <th>v_auc</th>\n",
       "    </tr>\n",
       "  </thead>\n",
       "  <tbody>\n",
       "    <tr>\n",
       "      <th>0</th>\n",
       "      <td>Logistic Regression</td>\n",
       "      <td>0.834063</td>\n",
       "      <td>0.836192</td>\n",
       "      <td>0.996064</td>\n",
       "      <td>0.909153</td>\n",
       "      <td>0.706047</td>\n",
       "      <td>0.831875</td>\n",
       "      <td>0.834275</td>\n",
       "      <td>0.996252</td>\n",
       "      <td>0.908097</td>\n",
       "      <td>0.698507</td>\n",
       "    </tr>\n",
       "    <tr>\n",
       "      <th>1</th>\n",
       "      <td>KNN Euclidian</td>\n",
       "      <td>0.850938</td>\n",
       "      <td>0.863568</td>\n",
       "      <td>0.975258</td>\n",
       "      <td>0.916021</td>\n",
       "      <td>0.851987</td>\n",
       "      <td>0.815625</td>\n",
       "      <td>0.846103</td>\n",
       "      <td>0.952024</td>\n",
       "      <td>0.895944</td>\n",
       "      <td>0.586492</td>\n",
       "    </tr>\n",
       "    <tr>\n",
       "      <th>2</th>\n",
       "      <td>KNN Manhattan</td>\n",
       "      <td>0.852344</td>\n",
       "      <td>0.863050</td>\n",
       "      <td>0.978069</td>\n",
       "      <td>0.916967</td>\n",
       "      <td>0.856807</td>\n",
       "      <td>0.810625</td>\n",
       "      <td>0.841165</td>\n",
       "      <td>0.952774</td>\n",
       "      <td>0.893497</td>\n",
       "      <td>0.601494</td>\n",
       "    </tr>\n",
       "    <tr>\n",
       "      <th>3</th>\n",
       "      <td>XGBoost</td>\n",
       "      <td>0.983906</td>\n",
       "      <td>0.981059</td>\n",
       "      <td>1.000000</td>\n",
       "      <td>0.990439</td>\n",
       "      <td>0.999480</td>\n",
       "      <td>0.819375</td>\n",
       "      <td>0.838626</td>\n",
       "      <td>0.970015</td>\n",
       "      <td>0.899548</td>\n",
       "      <td>0.618934</td>\n",
       "    </tr>\n",
       "  </tbody>\n",
       "</table>\n",
       "</div>"
      ],
      "text/plain": [
       "                 model  t_accuracy  t_precision  t_recall      t_F1     t_auc  \\\n",
       "0  Logistic Regression    0.834063     0.836192  0.996064  0.909153  0.706047   \n",
       "1        KNN Euclidian    0.850938     0.863568  0.975258  0.916021  0.851987   \n",
       "2        KNN Manhattan    0.852344     0.863050  0.978069  0.916967  0.856807   \n",
       "3              XGBoost    0.983906     0.981059  1.000000  0.990439  0.999480   \n",
       "\n",
       "   v_accuracy  v_precision  v_recall      v_F1     v_auc  \n",
       "0    0.831875     0.834275  0.996252  0.908097  0.698507  \n",
       "1    0.815625     0.846103  0.952024  0.895944  0.586492  \n",
       "2    0.810625     0.841165  0.952774  0.893497  0.601494  \n",
       "3    0.819375     0.838626  0.970015  0.899548  0.618934  "
      ]
     },
     "metadata": {},
     "output_type": "display_data"
    },
    {
     "name": "stdout",
     "output_type": "stream",
     "text": [
      "*******************\n",
      "*   Grid Search   *\n",
      "*******************\n",
      "2022-02-27 23:06:33.985613\n",
      "Best: 0.834219 using {'learning_rate': 0.0001, 'max_depth': 7, 'n_estimators': 200, 'subsample': 0.5}\n",
      "**************************\n",
      "*   Best XGBoost Model   *\n",
      "**************************\n",
      "2022-02-27 23:21:35.496400\n"
     ]
    },
    {
     "data": {
      "text/html": [
       "<div>\n",
       "<style scoped>\n",
       "    .dataframe tbody tr th:only-of-type {\n",
       "        vertical-align: middle;\n",
       "    }\n",
       "\n",
       "    .dataframe tbody tr th {\n",
       "        vertical-align: top;\n",
       "    }\n",
       "\n",
       "    .dataframe thead th {\n",
       "        text-align: right;\n",
       "    }\n",
       "</style>\n",
       "<table border=\"1\" class=\"dataframe\">\n",
       "  <thead>\n",
       "    <tr style=\"text-align: right;\">\n",
       "      <th></th>\n",
       "      <th>model</th>\n",
       "      <th>t_accuracy</th>\n",
       "      <th>t_precision</th>\n",
       "      <th>t_recall</th>\n",
       "      <th>t_F1</th>\n",
       "      <th>t_auc</th>\n",
       "      <th>v_accuracy</th>\n",
       "      <th>v_precision</th>\n",
       "      <th>v_recall</th>\n",
       "      <th>v_F1</th>\n",
       "      <th>v_auc</th>\n",
       "    </tr>\n",
       "  </thead>\n",
       "  <tbody>\n",
       "    <tr>\n",
       "      <th>0</th>\n",
       "      <td>XGBoost</td>\n",
       "      <td>0.852031</td>\n",
       "      <td>0.849474</td>\n",
       "      <td>0.999625</td>\n",
       "      <td>0.918453</td>\n",
       "      <td>0.805146</td>\n",
       "      <td>0.830625</td>\n",
       "      <td>0.837032</td>\n",
       "      <td>0.989505</td>\n",
       "      <td>0.906905</td>\n",
       "      <td>0.679427</td>\n",
       "    </tr>\n",
       "  </tbody>\n",
       "</table>\n",
       "</div>"
      ],
      "text/plain": [
       "     model  t_accuracy  t_precision  t_recall      t_F1     t_auc  v_accuracy  \\\n",
       "0  XGBoost    0.852031     0.849474  0.999625  0.918453  0.805146    0.830625   \n",
       "\n",
       "   v_precision  v_recall      v_F1     v_auc  \n",
       "0     0.837032  0.989505  0.906905  0.679427  "
      ]
     },
     "metadata": {},
     "output_type": "display_data"
    },
    {
     "data": {
      "image/png": "[encoded data removed]",
      "text/plain": [
       "<Figure size 432x288 with 2 Axes>"
      ]
     },
     "metadata": {
      "needs_background": "light"
     },
     "output_type": "display_data"
    },
    {
     "data": {
      "image/png": "[encoded data removed]",
      "text/plain": [
       "<Figure size 432x288 with 2 Axes>"
      ]
     },
     "metadata": {
      "needs_background": "light"
     },
     "output_type": "display_data"
    },
    {
     "data": {
      "image/png": "[encoded data removed]",
      "text/plain": [
       "<Figure size 700x500 with 1 Axes>"
      ]
     },
     "metadata": {
      "needs_background": "light"
     },
     "output_type": "display_data"
    }
   ],
   "source": [
    "train_xgboost('scaled')"
   ]
  },
  {
   "cell_type": "markdown",
   "id": "6d626aa4-678e-4756-be55-2119a0e7a080",
   "metadata": {},
   "source": [
    "---\n",
    "### 3.1.4 XGBoost (with most important features)"
   ]
  },
  {
   "cell_type": "code",
   "execution_count": 109,
   "id": "44a4c5c8-acb7-4559-8403-c0acdad57b9d",
   "metadata": {},
   "outputs": [
    {
     "name": "stdout",
     "output_type": "stream",
     "text": [
      "******************\n",
      "*   Null Model   *\n",
      "******************\n"
     ]
    },
    {
     "data": {
      "text/html": [
       "<div>\n",
       "<style scoped>\n",
       "    .dataframe tbody tr th:only-of-type {\n",
       "        vertical-align: middle;\n",
       "    }\n",
       "\n",
       "    .dataframe tbody tr th {\n",
       "        vertical-align: top;\n",
       "    }\n",
       "\n",
       "    .dataframe thead th {\n",
       "        text-align: right;\n",
       "    }\n",
       "</style>\n",
       "<table border=\"1\" class=\"dataframe\">\n",
       "  <thead>\n",
       "    <tr style=\"text-align: right;\">\n",
       "      <th></th>\n",
       "      <th>model</th>\n",
       "      <th>t_accuracy</th>\n",
       "      <th>t_precision</th>\n",
       "      <th>t_recall</th>\n",
       "      <th>t_F1</th>\n",
       "      <th>v_accuracy</th>\n",
       "      <th>v_precision</th>\n",
       "      <th>v_recall</th>\n",
       "      <th>v_F1</th>\n",
       "    </tr>\n",
       "  </thead>\n",
       "  <tbody>\n",
       "    <tr>\n",
       "      <th>0</th>\n",
       "      <td>Base</td>\n",
       "      <td>0.833594</td>\n",
       "      <td>0.833594</td>\n",
       "      <td>1.0</td>\n",
       "      <td>0.757942</td>\n",
       "      <td>0.83375</td>\n",
       "      <td>0.83375</td>\n",
       "      <td>1.0</td>\n",
       "      <td>0.758161</td>\n",
       "    </tr>\n",
       "  </tbody>\n",
       "</table>\n",
       "</div>"
      ],
      "text/plain": [
       "  model  t_accuracy  t_precision  t_recall      t_F1  v_accuracy  v_precision  \\\n",
       "0  Base    0.833594     0.833594       1.0  0.757942     0.83375      0.83375   \n",
       "\n",
       "   v_recall      v_F1  \n",
       "0       1.0  0.758161  "
      ]
     },
     "metadata": {},
     "output_type": "display_data"
    },
    {
     "name": "stdout",
     "output_type": "stream",
     "text": [
      "**************************\n",
      "*   Comparison Models    *\n",
      "**************************\n",
      "2022-02-27 23:26:54.101122\n"
     ]
    },
    {
     "data": {
      "text/html": [
       "<div>\n",
       "<style scoped>\n",
       "    .dataframe tbody tr th:only-of-type {\n",
       "        vertical-align: middle;\n",
       "    }\n",
       "\n",
       "    .dataframe tbody tr th {\n",
       "        vertical-align: top;\n",
       "    }\n",
       "\n",
       "    .dataframe thead th {\n",
       "        text-align: right;\n",
       "    }\n",
       "</style>\n",
       "<table border=\"1\" class=\"dataframe\">\n",
       "  <thead>\n",
       "    <tr style=\"text-align: right;\">\n",
       "      <th></th>\n",
       "      <th>model</th>\n",
       "      <th>t_accuracy</th>\n",
       "      <th>t_precision</th>\n",
       "      <th>t_recall</th>\n",
       "      <th>t_F1</th>\n",
       "      <th>t_auc</th>\n",
       "      <th>v_accuracy</th>\n",
       "      <th>v_precision</th>\n",
       "      <th>v_recall</th>\n",
       "      <th>v_F1</th>\n",
       "      <th>v_auc</th>\n",
       "    </tr>\n",
       "  </thead>\n",
       "  <tbody>\n",
       "    <tr>\n",
       "      <th>0</th>\n",
       "      <td>Logistic Regression</td>\n",
       "      <td>0.833906</td>\n",
       "      <td>0.836909</td>\n",
       "      <td>0.994564</td>\n",
       "      <td>0.908951</td>\n",
       "      <td>0.704703</td>\n",
       "      <td>0.831875</td>\n",
       "      <td>0.834275</td>\n",
       "      <td>0.996252</td>\n",
       "      <td>0.908097</td>\n",
       "      <td>0.691859</td>\n",
       "    </tr>\n",
       "    <tr>\n",
       "      <th>1</th>\n",
       "      <td>KNN Euclidian</td>\n",
       "      <td>0.852500</td>\n",
       "      <td>0.865734</td>\n",
       "      <td>0.974133</td>\n",
       "      <td>0.916740</td>\n",
       "      <td>0.858839</td>\n",
       "      <td>0.815625</td>\n",
       "      <td>0.842001</td>\n",
       "      <td>0.958771</td>\n",
       "      <td>0.896600</td>\n",
       "      <td>0.613957</td>\n",
       "    </tr>\n",
       "    <tr>\n",
       "      <th>2</th>\n",
       "      <td>KNN Manhattan</td>\n",
       "      <td>0.857187</td>\n",
       "      <td>0.867865</td>\n",
       "      <td>0.977507</td>\n",
       "      <td>0.919429</td>\n",
       "      <td>0.861409</td>\n",
       "      <td>0.806875</td>\n",
       "      <td>0.838284</td>\n",
       "      <td>0.952024</td>\n",
       "      <td>0.891541</td>\n",
       "      <td>0.623322</td>\n",
       "    </tr>\n",
       "    <tr>\n",
       "      <th>3</th>\n",
       "      <td>XGBoost</td>\n",
       "      <td>0.966250</td>\n",
       "      <td>0.961254</td>\n",
       "      <td>0.999813</td>\n",
       "      <td>0.980154</td>\n",
       "      <td>0.997648</td>\n",
       "      <td>0.812500</td>\n",
       "      <td>0.842384</td>\n",
       "      <td>0.953523</td>\n",
       "      <td>0.894515</td>\n",
       "      <td>0.643677</td>\n",
       "    </tr>\n",
       "  </tbody>\n",
       "</table>\n",
       "</div>"
      ],
      "text/plain": [
       "                 model  t_accuracy  t_precision  t_recall      t_F1     t_auc  \\\n",
       "0  Logistic Regression    0.833906     0.836909  0.994564  0.908951  0.704703   \n",
       "1        KNN Euclidian    0.852500     0.865734  0.974133  0.916740  0.858839   \n",
       "2        KNN Manhattan    0.857187     0.867865  0.977507  0.919429  0.861409   \n",
       "3              XGBoost    0.966250     0.961254  0.999813  0.980154  0.997648   \n",
       "\n",
       "   v_accuracy  v_precision  v_recall      v_F1     v_auc  \n",
       "0    0.831875     0.834275  0.996252  0.908097  0.691859  \n",
       "1    0.815625     0.842001  0.958771  0.896600  0.613957  \n",
       "2    0.806875     0.838284  0.952024  0.891541  0.623322  \n",
       "3    0.812500     0.842384  0.953523  0.894515  0.643677  "
      ]
     },
     "metadata": {},
     "output_type": "display_data"
    },
    {
     "name": "stdout",
     "output_type": "stream",
     "text": [
      "*******************\n",
      "*   Grid Search   *\n",
      "*******************\n",
      "2022-02-27 23:26:55.770311\n",
      "Best: 0.834375 using {'learning_rate': 0.01, 'max_depth': 3, 'n_estimators': 400, 'subsample': 0.5}\n",
      "**************************\n",
      "*   Best XGBoost Model   *\n",
      "**************************\n",
      "2022-02-27 23:36:48.112002\n"
     ]
    },
    {
     "data": {
      "text/html": [
       "<div>\n",
       "<style scoped>\n",
       "    .dataframe tbody tr th:only-of-type {\n",
       "        vertical-align: middle;\n",
       "    }\n",
       "\n",
       "    .dataframe tbody tr th {\n",
       "        vertical-align: top;\n",
       "    }\n",
       "\n",
       "    .dataframe thead th {\n",
       "        text-align: right;\n",
       "    }\n",
       "</style>\n",
       "<table border=\"1\" class=\"dataframe\">\n",
       "  <thead>\n",
       "    <tr style=\"text-align: right;\">\n",
       "      <th></th>\n",
       "      <th>model</th>\n",
       "      <th>t_accuracy</th>\n",
       "      <th>t_precision</th>\n",
       "      <th>t_recall</th>\n",
       "      <th>t_F1</th>\n",
       "      <th>t_auc</th>\n",
       "      <th>v_accuracy</th>\n",
       "      <th>v_precision</th>\n",
       "      <th>v_recall</th>\n",
       "      <th>v_F1</th>\n",
       "      <th>v_auc</th>\n",
       "    </tr>\n",
       "  </thead>\n",
       "  <tbody>\n",
       "    <tr>\n",
       "      <th>0</th>\n",
       "      <td>XGBoost</td>\n",
       "      <td>0.83875</td>\n",
       "      <td>0.840266</td>\n",
       "      <td>0.995876</td>\n",
       "      <td>0.911477</td>\n",
       "      <td>0.748216</td>\n",
       "      <td>0.83125</td>\n",
       "      <td>0.835435</td>\n",
       "      <td>0.993253</td>\n",
       "      <td>0.907534</td>\n",
       "      <td>0.690788</td>\n",
       "    </tr>\n",
       "  </tbody>\n",
       "</table>\n",
       "</div>"
      ],
      "text/plain": [
       "     model  t_accuracy  t_precision  t_recall      t_F1     t_auc  v_accuracy  \\\n",
       "0  XGBoost     0.83875     0.840266  0.995876  0.911477  0.748216     0.83125   \n",
       "\n",
       "   v_precision  v_recall      v_F1     v_auc  \n",
       "0     0.835435  0.993253  0.907534  0.690788  "
      ]
     },
     "metadata": {},
     "output_type": "display_data"
    },
    {
     "data": {
      "image/png": "[encoded data removed]",
      "text/plain": [
       "<Figure size 432x288 with 2 Axes>"
      ]
     },
     "metadata": {
      "needs_background": "light"
     },
     "output_type": "display_data"
    },
    {
     "data": {
      "image/png": "[encoded data removed]",
      "text/plain": [
       "<Figure size 432x288 with 2 Axes>"
      ]
     },
     "metadata": {
      "needs_background": "light"
     },
     "output_type": "display_data"
    },
    {
     "data": {
      "image/png": "[encoded data removed]",
      "text/plain": [
       "<Figure size 700x500 with 1 Axes>"
      ]
     },
     "metadata": {
      "needs_background": "light"
     },
     "output_type": "display_data"
    },
    {
     "data": {
      "image/png": "[encoded data removed]",
      "text/plain": [
       "<Figure size 700x500 with 1 Axes>"
      ]
     },
     "metadata": {
      "needs_background": "light"
     },
     "output_type": "display_data"
    }
   ],
   "source": [
    "train_xgboost('xgb_features')"
   ]
  },
  {
   "cell_type": "markdown",
   "id": "3238f18b-4e51-4dee-964d-5d43127fb1d8",
   "metadata": {},
   "source": [
    "# Kaggle Submission File"
   ]
  },
  {
   "cell_type": "code",
   "execution_count": 55,
   "id": "1fa8c088-dcda-4a30-acc2-4bf62c5c4c11",
   "metadata": {},
   "outputs": [
    {
     "data": {
      "text/html": [
       "<div>\n",
       "<style scoped>\n",
       "    .dataframe tbody tr th:only-of-type {\n",
       "        vertical-align: middle;\n",
       "    }\n",
       "\n",
       "    .dataframe tbody tr th {\n",
       "        vertical-align: top;\n",
       "    }\n",
       "\n",
       "    .dataframe thead th {\n",
       "        text-align: right;\n",
       "    }\n",
       "</style>\n",
       "<table border=\"1\" class=\"dataframe\">\n",
       "  <thead>\n",
       "    <tr style=\"text-align: right;\">\n",
       "      <th></th>\n",
       "      <th>model</th>\n",
       "      <th>t_accuracy</th>\n",
       "      <th>t_precision</th>\n",
       "      <th>t_recall</th>\n",
       "      <th>t_F1</th>\n",
       "      <th>t_auc</th>\n",
       "      <th>v_accuracy</th>\n",
       "      <th>v_precision</th>\n",
       "      <th>v_recall</th>\n",
       "      <th>v_F1</th>\n",
       "      <th>v_auc</th>\n",
       "    </tr>\n",
       "  </thead>\n",
       "  <tbody>\n",
       "    <tr>\n",
       "      <th>0</th>\n",
       "      <td>Logistic Regression</td>\n",
       "      <td>0.834531</td>\n",
       "      <td>0.836587</td>\n",
       "      <td>0.996064</td>\n",
       "      <td>0.909386</td>\n",
       "      <td>0.703675</td>\n",
       "      <td>0.8325</td>\n",
       "      <td>0.834379</td>\n",
       "      <td>0.997001</td>\n",
       "      <td>0.90847</td>\n",
       "      <td>0.694178</td>\n",
       "    </tr>\n",
       "  </tbody>\n",
       "</table>\n",
       "</div>"
      ],
      "text/plain": [
       "                 model  t_accuracy  t_precision  t_recall      t_F1     t_auc  \\\n",
       "0  Logistic Regression    0.834531     0.836587  0.996064  0.909386  0.703675   \n",
       "\n",
       "   v_accuracy  v_precision  v_recall     v_F1     v_auc  \n",
       "0      0.8325     0.834379  0.997001  0.90847  0.694178  "
      ]
     },
     "metadata": {},
     "output_type": "display_data"
    },
    {
     "name": "stderr",
     "output_type": "stream",
     "text": [
      "C:\\Users\\Sean Williams\\.virtualenvs\\kaggle-nba-career-prediction-0ju6VdSh\\lib\\site-packages\\sklearn\\base.py:443: UserWarning: X has feature names, but LogisticRegression was fitted without feature names\n",
      "  warnings.warn(\n"
     ]
    }
   ],
   "source": [
    "# Train LR with Best Parameters from hyperparameter tuning\n",
    "X_train, y_train, X_val, y_val, X_test, y_test = dataprep.load_sets('scaled_minmax_new_9features')\n",
    "models_to_fit = {\"Logistic Regression\": LogisticRegression(random_state=8, solver='liblinear', penalty='l2', C=1.0)}\n",
    "clf10 = fit_score_models (models_to_fit, X_train, y_train, X_val, y_val, \"YES\")\n",
    "df_test = pd.read_csv('../data/raw/test.csv')\n",
    "# Copy Dataset for Preparation\n",
    "df_cleaned = df_test.copy()\n",
    "# Replace negative values in identified columns with mean\n",
    "negCols = ['3P Made','3PA','3P%','BLK','GP','FT%']\n",
    "df_cleaned = dataprep.replace_negatives(df_cleaned, negCols)\n",
    "# Construct New Features\n",
    "df_cleaned['TSA'] = ((df_cleaned['FGA'] + (0.44*df_cleaned['FTA']))).round(1)\n",
    "df_cleaned['TS%'] = (((df_cleaned['PTS'] / (2*df_cleaned['TSA'])))*100).round(1)\n",
    "df_cleaned['TOV%'] = ((df_cleaned['TOV'] * 100) / (df_cleaned['TSA'] + df_cleaned['TSA'])).round(1)\n",
    "df_cleaned['EXPOS'] = (df_cleaned['STL'] + df_cleaned['BLK'] + df_cleaned['OREB'])\n",
    "# Drop unneccessary features\n",
    "#features=['Id','GP','MIN','PTS','FG%','FT%','REB','TS%','TOV%','EXPOS']\n",
    "new_features=['Id','GP','TS%','FG%','3P%','TOV%','FT%','MIN','EXPOS','AST']\n",
    "df_cleaned = df_cleaned[new_features]\n",
    "# Drop ID and Scale Features\n",
    "X_test = df_cleaned.copy()\n",
    "X_test = dataprep.drop_features(X_test, ['Id'])\n",
    "X_test = dataprep.scale_features(X_test, MinMaxScaler(), None)\n",
    "#X_test.describe()\n",
    "test_probs = clf10.predict_proba(X_test)[:, 1]\n",
    "df_kaggle = pd.DataFrame({'Id': df_cleaned['Id'], 'TARGET_5Yrs': test_probs});\n",
    "df_kaggle.shape\n",
    "df_kaggle.to_csv(\"../data/external/williams_sean-week3_LR-scaled_minmax_new_9features.csv\", index=False)"
   ]
  },
  {
   "cell_type": "code",
   "execution_count": null,
   "id": "f9865a9a-88be-472e-b08d-fc70244e6c4e",
   "metadata": {},
   "outputs": [],
   "source": []
  }
 ],
 "metadata": {
  "kernelspec": {
   "display_name": "Python 3 (ipykernel)",
   "language": "python",
   "name": "python3"
  },
  "language_info": {
   "codemirror_mode": {
    "name": "ipython",
    "version": 3
   },
   "file_extension": ".py",
   "mimetype": "text/x-python",
   "name": "python",
   "nbconvert_exporter": "python",
   "pygments_lexer": "ipython3",
   "version": "3.10.2"
  }
 },
 "nbformat": 4,
 "nbformat_minor": 5
}
