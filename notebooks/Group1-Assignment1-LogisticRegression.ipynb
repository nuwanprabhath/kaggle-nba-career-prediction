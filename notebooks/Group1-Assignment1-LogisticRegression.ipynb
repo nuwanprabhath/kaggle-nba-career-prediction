{
 "cells": [
  {
   "cell_type": "markdown",
   "metadata": {},
   "source": [
    "# **AdvDS - Assignment 1: Binary Classification - NBA Player Prediction - Data Preparation**"
   ]
  },
  {
   "cell_type": "markdown",
   "metadata": {},
   "source": [
    "Build a binary classification model that can predict if a rookie player will last at least 5 years in the NBA"
   ]
  },
  {
   "cell_type": "markdown",
   "metadata": {},
   "source": [
    "**Student Name:** Nathan Fragar\n",
    "\n",
    "**Student No. :** 93087548\n",
    "\n",
    "**Week:** 4\n",
    "\n",
    "**Date:** 06MAR2022\n",
    "\n",
    "**Team Name:** Group 1\n",
    "* Carol Myhill - 90014679\n",
    "* Nathan Fragar - 93087548\n",
    "* Nuwan Munasinghe - 13104409\n",
    "* Sean Williams - ??\n",
    "* Wenying Wu - 14007025 "
   ]
  },
  {
   "cell_type": "markdown",
   "metadata": {},
   "source": [
    "## 1. Load Python packages and libraries"
   ]
  },
  {
   "cell_type": "markdown",
   "metadata": {},
   "source": [
    "**[1.1]** Task: Change working directory to /home/jovyan/work"
   ]
  },
  {
   "cell_type": "code",
   "execution_count": 1,
   "metadata": {},
   "outputs": [
    {
     "name": "stdout",
     "output_type": "stream",
     "text": [
      "/home/jovyan/work\n"
     ]
    }
   ],
   "source": [
    "cd /home/jovyan/work"
   ]
  },
  {
   "cell_type": "markdown",
   "metadata": {},
   "source": [
    "**[1.2]** Task: Import required packages: Pandas, Numpy, joblib"
   ]
  },
  {
   "cell_type": "code",
   "execution_count": 2,
   "metadata": {},
   "outputs": [],
   "source": [
    "# Task: Import the pandas, numpy, scipy stats and joblib package\n",
    "import pandas as pd\n",
    "import numpy as np\n",
    "from scipy import stats\n",
    "import joblib as job\n",
    "\n",
    "# Learning Model\n",
    "from sklearn.linear_model import LogisticRegression as LR\n",
    "\n",
    "# Optimising\n",
    "from sklearn.model_selection import RandomizedSearchCV,GridSearchCV,KFold\n",
    "\n",
    "# Scoring\n",
    "from sklearn.metrics import accuracy_score\n",
    "from sklearn.metrics import mean_squared_error as mse\n",
    "from sklearn.metrics import mean_absolute_error as mae\n",
    "from sklearn.metrics import roc_auc_score\n",
    "from sklearn.metrics import precision_score\n",
    "from sklearn.metrics import recall_score\n",
    "from sklearn.metrics import f1_score\n",
    "\n",
    "# Custom Functions\n",
    "from src.data.sets import load_sets\n",
    "from src.models.null import NullModel\n",
    "from src.models.performance import score_model\n",
    "from src.models.performance import score_models2\n",
    "from src.indicator.sounds import beep_when_done\t                   \n",
    "from src.visualization.visualize import plot_confusion_matrix_full\n",
    "from src.visualization.visualize import plot_roc_auc\n",
    "\n",
    "from src.models.performance import score_null_model"
   ]
  },
  {
   "cell_type": "markdown",
   "metadata": {},
   "source": [
    "**[1.3]** Task: Automatically Reload Modules"
   ]
  },
  {
   "cell_type": "code",
   "execution_count": 3,
   "metadata": {},
   "outputs": [],
   "source": [
    "# Automatically reload modules\n",
    "%load_ext autoreload\n",
    "%autoreload 2"
   ]
  },
  {
   "cell_type": "markdown",
   "metadata": {},
   "source": [
    "**[1.3]** Task: Load Processed Data"
   ]
  },
  {
   "cell_type": "code",
   "execution_count": 4,
   "metadata": {},
   "outputs": [],
   "source": [
    "X_train, y_train, X_val, y_val, X_test, y_test = load_sets(path='data/processed/', val=False)"
   ]
  },
  {
   "cell_type": "markdown",
   "metadata": {},
   "source": [
    "**[1.4]** Task: Verify number of observations in Processed Datasets"
   ]
  },
  {
   "cell_type": "code",
   "execution_count": 5,
   "metadata": {},
   "outputs": [
    {
     "data": {
      "text/plain": [
       "((5120, 42), (5120,), (1280, 42), (1280,), (1600, 42), (1600,))"
      ]
     },
     "execution_count": 5,
     "metadata": {},
     "output_type": "execute_result"
    }
   ],
   "source": [
    "X_train.shape, y_train.shape,  X_val.shape, y_val.shape, X_test.shape, y_test.shape"
   ]
  },
  {
   "cell_type": "markdown",
   "metadata": {},
   "source": [
    "## 3. Create Baseline Model"
   ]
  },
  {
   "cell_type": "markdown",
   "metadata": {},
   "source": [
    "**[3.1]** Task: Find the mode of the target variable and print it's value"
   ]
  },
  {
   "cell_type": "code",
   "execution_count": 6,
   "metadata": {},
   "outputs": [],
   "source": [
    "base_model = NullModel(target_type=\"classification\")"
   ]
  },
  {
   "cell_type": "code",
   "execution_count": 7,
   "metadata": {},
   "outputs": [],
   "source": [
    "y_base = base_model.fit_predict(y_train)"
   ]
  },
  {
   "cell_type": "code",
   "execution_count": 8,
   "metadata": {},
   "outputs": [
    {
     "data": {
      "text/html": [
       "<div>\n",
       "<style scoped>\n",
       "    .dataframe tbody tr th:only-of-type {\n",
       "        vertical-align: middle;\n",
       "    }\n",
       "\n",
       "    .dataframe tbody tr th {\n",
       "        vertical-align: top;\n",
       "    }\n",
       "\n",
       "    .dataframe thead th {\n",
       "        text-align: right;\n",
       "    }\n",
       "</style>\n",
       "<table border=\"1\" class=\"dataframe\">\n",
       "  <thead>\n",
       "    <tr style=\"text-align: right;\">\n",
       "      <th></th>\n",
       "      <th>Set Name</th>\n",
       "      <th>ACC</th>\n",
       "      <th>MSE</th>\n",
       "      <th>MAE</th>\n",
       "      <th>PREC</th>\n",
       "      <th>RECALL</th>\n",
       "      <th>F1</th>\n",
       "      <th>AUC</th>\n",
       "    </tr>\n",
       "  </thead>\n",
       "  <tbody>\n",
       "    <tr>\n",
       "      <th>0</th>\n",
       "      <td>Base</td>\n",
       "      <td>0.833594</td>\n",
       "      <td>0.407929</td>\n",
       "      <td>0.166406</td>\n",
       "      <td>1.0</td>\n",
       "      <td>0.833594</td>\n",
       "      <td>0.909246</td>\n",
       "      <td>None</td>\n",
       "    </tr>\n",
       "  </tbody>\n",
       "</table>\n",
       "</div>"
      ],
      "text/plain": [
       "  Set Name       ACC       MSE       MAE  PREC    RECALL        F1   AUC\n",
       "0     Base  0.833594  0.407929  0.166406   1.0  0.833594  0.909246  None"
      ]
     },
     "execution_count": 8,
     "metadata": {},
     "output_type": "execute_result"
    }
   ],
   "source": [
    "score_null_model(y_train = y_train, y_base = y_base, set_name=\"Base\")"
   ]
  },
  {
   "cell_type": "markdown",
   "metadata": {},
   "source": [
    "The null accuracy is 83.35%\n",
    "If we predict 1, we'll be correct 83.35% of the time"
   ]
  },
  {
   "cell_type": "markdown",
   "metadata": {},
   "source": [
    "## 4. Logistic Regression - Hyperparameter Tuning with Grid Search and KFold"
   ]
  },
  {
   "cell_type": "markdown",
   "metadata": {},
   "source": [
    "Train Logistic Regression Algorithm\n",
    "\n",
    "1.   Use Grid Search to tune Hyper Parameters\n",
    "2.   Use KFold with 5 Splits\n",
    "3.   Fit Algorithm"
   ]
  },
  {
   "cell_type": "markdown",
   "metadata": {},
   "source": [
    "**[4.1]** Create a dictionary containing the Randomized Grid Search Parameters"
   ]
  },
  {
   "cell_type": "code",
   "execution_count": 9,
   "metadata": {},
   "outputs": [],
   "source": [
    "# Linear Regression Random Grid Parameters\n",
    "# Class Weight\n",
    "class_weight = ['balanced']\n",
    "# Penalty\n",
    "penalty = ['none','l2','l1','elasticnet']\n",
    "# Solver\n",
    "solver = ['liblinear','lbfgs']\n",
    "# max_iter\n",
    "max_iter = [1000]\n",
    "\n",
    "random_grid = {'class_weight': class_weight,\n",
    "               'penalty':penalty,\n",
    "               'solver':solver,\n",
    "               'max_iter':max_iter\n",
    "               }\n",
    "\n"
   ]
  },
  {
   "cell_type": "code",
   "execution_count": 10,
   "metadata": {},
   "outputs": [
    {
     "data": {
      "text/plain": [
       "{'class_weight': ['balanced'],\n",
       " 'penalty': ['none', 'l2', 'l1', 'elasticnet'],\n",
       " 'solver': ['liblinear', 'lbfgs'],\n",
       " 'max_iter': [1000]}"
      ]
     },
     "execution_count": 10,
     "metadata": {},
     "output_type": "execute_result"
    }
   ],
   "source": [
    "random_grid"
   ]
  },
  {
   "cell_type": "markdown",
   "metadata": {},
   "source": [
    "**[4.2]** Task: Create RF Model, and use Randomized Search to find GridSearch range"
   ]
  },
  {
   "cell_type": "code",
   "execution_count": 11,
   "metadata": {},
   "outputs": [],
   "source": [
    "lr_base = LR()\n",
    "lr_random = RandomizedSearchCV(estimator = lr_base,\n",
    "                               param_distributions = random_grid,\n",
    "                               n_iter = 500, \n",
    "                               cv = 5,\n",
    "                               verbose=2,\n",
    "                               random_state=8, \n",
    "                               n_jobs = 4)"
   ]
  },
  {
   "cell_type": "markdown",
   "metadata": {},
   "source": [
    "**[4.3]** Train Model"
   ]
  },
  {
   "cell_type": "code",
   "execution_count": 12,
   "metadata": {},
   "outputs": [
    {
     "name": "stdout",
     "output_type": "stream",
     "text": [
      "Fitting 5 folds for each of 8 candidates, totalling 40 fits\n"
     ]
    },
    {
     "name": "stderr",
     "output_type": "stream",
     "text": [
      "/opt/conda/lib/python3.7/site-packages/sklearn/model_selection/_search.py:296: UserWarning: The total space of parameters 8 is smaller than n_iter=500. Running 8 iterations. For exhaustive searches, use GridSearchCV.\n",
      "  UserWarning,\n"
     ]
    },
    {
     "name": "stdout",
     "output_type": "stream",
     "text": [
      "{'solver': 'lbfgs', 'penalty': 'l2', 'max_iter': 1000, 'class_weight': 'balanced'}\n"
     ]
    },
    {
     "name": "stderr",
     "output_type": "stream",
     "text": [
      "/opt/conda/lib/python3.7/site-packages/sklearn/model_selection/_validation.py:372: FitFailedWarning: \n",
      "20 fits failed out of a total of 40.\n",
      "The score on these train-test partitions for these parameters will be set to nan.\n",
      "If these failures are not expected, you can try to debug them by setting error_score='raise'.\n",
      "\n",
      "Below are more details about the failures:\n",
      "--------------------------------------------------------------------------------\n",
      "5 fits failed with the following error:\n",
      "Traceback (most recent call last):\n",
      "  File \"/opt/conda/lib/python3.7/site-packages/sklearn/model_selection/_validation.py\", line 680, in _fit_and_score\n",
      "    estimator.fit(X_train, y_train, **fit_params)\n",
      "  File \"/opt/conda/lib/python3.7/site-packages/sklearn/linear_model/_logistic.py\", line 1461, in fit\n",
      "    solver = _check_solver(self.solver, self.penalty, self.dual)\n",
      "  File \"/opt/conda/lib/python3.7/site-packages/sklearn/linear_model/_logistic.py\", line 464, in _check_solver\n",
      "    raise ValueError(\"penalty='none' is not supported for the liblinear solver\")\n",
      "ValueError: penalty='none' is not supported for the liblinear solver\n",
      "\n",
      "--------------------------------------------------------------------------------\n",
      "5 fits failed with the following error:\n",
      "Traceback (most recent call last):\n",
      "  File \"/opt/conda/lib/python3.7/site-packages/sklearn/model_selection/_validation.py\", line 680, in _fit_and_score\n",
      "    estimator.fit(X_train, y_train, **fit_params)\n",
      "  File \"/opt/conda/lib/python3.7/site-packages/sklearn/linear_model/_logistic.py\", line 1461, in fit\n",
      "    solver = _check_solver(self.solver, self.penalty, self.dual)\n",
      "  File \"/opt/conda/lib/python3.7/site-packages/sklearn/linear_model/_logistic.py\", line 449, in _check_solver\n",
      "    % (solver, penalty)\n",
      "ValueError: Solver lbfgs supports only 'l2' or 'none' penalties, got l1 penalty.\n",
      "\n",
      "--------------------------------------------------------------------------------\n",
      "5 fits failed with the following error:\n",
      "Traceback (most recent call last):\n",
      "  File \"/opt/conda/lib/python3.7/site-packages/sklearn/model_selection/_validation.py\", line 680, in _fit_and_score\n",
      "    estimator.fit(X_train, y_train, **fit_params)\n",
      "  File \"/opt/conda/lib/python3.7/site-packages/sklearn/linear_model/_logistic.py\", line 1461, in fit\n",
      "    solver = _check_solver(self.solver, self.penalty, self.dual)\n",
      "  File \"/opt/conda/lib/python3.7/site-packages/sklearn/linear_model/_logistic.py\", line 459, in _check_solver\n",
      "    solver\n",
      "ValueError: Only 'saga' solver supports elasticnet penalty, got solver=liblinear.\n",
      "\n",
      "--------------------------------------------------------------------------------\n",
      "5 fits failed with the following error:\n",
      "Traceback (most recent call last):\n",
      "  File \"/opt/conda/lib/python3.7/site-packages/sklearn/model_selection/_validation.py\", line 680, in _fit_and_score\n",
      "    estimator.fit(X_train, y_train, **fit_params)\n",
      "  File \"/opt/conda/lib/python3.7/site-packages/sklearn/linear_model/_logistic.py\", line 1461, in fit\n",
      "    solver = _check_solver(self.solver, self.penalty, self.dual)\n",
      "  File \"/opt/conda/lib/python3.7/site-packages/sklearn/linear_model/_logistic.py\", line 449, in _check_solver\n",
      "    % (solver, penalty)\n",
      "ValueError: Solver lbfgs supports only 'l2' or 'none' penalties, got elasticnet penalty.\n",
      "\n",
      "  warnings.warn(some_fits_failed_message, FitFailedWarning)\n",
      "/opt/conda/lib/python3.7/site-packages/sklearn/model_selection/_search.py:972: UserWarning: One or more of the test scores are non-finite: [       nan 0.64863281 0.64941406 0.64980469 0.64785156        nan\n",
      "        nan        nan]\n",
      "  category=UserWarning,\n"
     ]
    }
   ],
   "source": [
    "lr_random.fit(X_train, y_train.ravel())\n",
    "\n",
    "# Beep when completed\n",
    "# beep_when_done()\n",
    "\n",
    "print(lr_random.best_params_)"
   ]
  },
  {
   "cell_type": "markdown",
   "metadata": {},
   "source": [
    "\"print(lr_random.best_params_)\"\n",
    "\n",
    "{'solver': 'lbfgs', 'penalty': 'l2', 'max_iter': 500, 'class_weight': 'balanced'}"
   ]
  },
  {
   "cell_type": "code",
   "execution_count": 13,
   "metadata": {},
   "outputs": [],
   "source": [
    "lr_best = LR(solver='lbfgs', penalty='l2', max_iter=500, class_weight='balanced').fit(X_train, y_train.ravel())"
   ]
  },
  {
   "cell_type": "code",
   "execution_count": 14,
   "metadata": {},
   "outputs": [
    {
     "data": {
      "text/html": [
       "<div>\n",
       "<style scoped>\n",
       "    .dataframe tbody tr th:only-of-type {\n",
       "        vertical-align: middle;\n",
       "    }\n",
       "\n",
       "    .dataframe tbody tr th {\n",
       "        vertical-align: top;\n",
       "    }\n",
       "\n",
       "    .dataframe thead th {\n",
       "        text-align: right;\n",
       "    }\n",
       "</style>\n",
       "<table border=\"1\" class=\"dataframe\">\n",
       "  <thead>\n",
       "    <tr style=\"text-align: right;\">\n",
       "      <th></th>\n",
       "      <th>Set Name</th>\n",
       "      <th>ACC</th>\n",
       "      <th>MSE</th>\n",
       "      <th>MAE</th>\n",
       "      <th>PREC</th>\n",
       "      <th>RECALL</th>\n",
       "      <th>F1</th>\n",
       "      <th>AUC</th>\n",
       "    </tr>\n",
       "  </thead>\n",
       "  <tbody>\n",
       "    <tr>\n",
       "      <th>0</th>\n",
       "      <td>Base</td>\n",
       "      <td>0.833594</td>\n",
       "      <td>0.407929</td>\n",
       "      <td>0.166406</td>\n",
       "      <td>1.000000</td>\n",
       "      <td>0.833594</td>\n",
       "      <td>0.909246</td>\n",
       "      <td>NaN</td>\n",
       "    </tr>\n",
       "    <tr>\n",
       "      <th>1</th>\n",
       "      <td>Train</td>\n",
       "      <td>0.652734</td>\n",
       "      <td>0.589292</td>\n",
       "      <td>0.347266</td>\n",
       "      <td>0.901354</td>\n",
       "      <td>0.655108</td>\n",
       "      <td>0.758752</td>\n",
       "      <td>0.703840</td>\n",
       "    </tr>\n",
       "    <tr>\n",
       "      <th>2</th>\n",
       "      <td>Validate</td>\n",
       "      <td>0.671094</td>\n",
       "      <td>0.573503</td>\n",
       "      <td>0.328906</td>\n",
       "      <td>0.900744</td>\n",
       "      <td>0.680412</td>\n",
       "      <td>0.775227</td>\n",
       "      <td>0.710020</td>\n",
       "    </tr>\n",
       "    <tr>\n",
       "      <th>3</th>\n",
       "      <td>Test</td>\n",
       "      <td>0.643750</td>\n",
       "      <td>0.596867</td>\n",
       "      <td>0.356250</td>\n",
       "      <td>0.886640</td>\n",
       "      <td>0.656672</td>\n",
       "      <td>0.754522</td>\n",
       "      <td>0.679355</td>\n",
       "    </tr>\n",
       "  </tbody>\n",
       "</table>\n",
       "</div>"
      ],
      "text/plain": [
       "   Set Name       ACC       MSE       MAE      PREC    RECALL        F1  \\\n",
       "0      Base  0.833594  0.407929  0.166406  1.000000  0.833594  0.909246   \n",
       "1     Train  0.652734  0.589292  0.347266  0.901354  0.655108  0.758752   \n",
       "2  Validate  0.671094  0.573503  0.328906  0.900744  0.680412  0.775227   \n",
       "3      Test  0.643750  0.596867  0.356250  0.886640  0.656672  0.754522   \n",
       "\n",
       "        AUC  \n",
       "0       NaN  \n",
       "1  0.703840  \n",
       "2  0.710020  \n",
       "3  0.679355  "
      ]
     },
     "metadata": {},
     "output_type": "display_data"
    }
   ],
   "source": [
    "score_models2(X_train, y_train, X_val, y_val, X_test, y_test, y_base, True, lr_best)"
   ]
  },
  {
   "cell_type": "markdown",
   "metadata": {},
   "source": [
    "**Observation** Training Model is overfitting"
   ]
  },
  {
   "cell_type": "markdown",
   "metadata": {},
   "source": [
    "**[4.5]** Tune Hyperparameters to better reduce overfitting.\n",
    "\n",
    "1. Increase Max Iterations = 1000\n",
    "2. Penalty = l2"
   ]
  },
  {
   "cell_type": "code",
   "execution_count": 15,
   "metadata": {},
   "outputs": [],
   "source": [
    "lr_best_1 = LR(solver='lbfgs', penalty='l2', max_iter=1000, class_weight='balanced').fit(X_train, y_train)"
   ]
  },
  {
   "cell_type": "code",
   "execution_count": 16,
   "metadata": {},
   "outputs": [
    {
     "data": {
      "text/html": [
       "<div>\n",
       "<style scoped>\n",
       "    .dataframe tbody tr th:only-of-type {\n",
       "        vertical-align: middle;\n",
       "    }\n",
       "\n",
       "    .dataframe tbody tr th {\n",
       "        vertical-align: top;\n",
       "    }\n",
       "\n",
       "    .dataframe thead th {\n",
       "        text-align: right;\n",
       "    }\n",
       "</style>\n",
       "<table border=\"1\" class=\"dataframe\">\n",
       "  <thead>\n",
       "    <tr style=\"text-align: right;\">\n",
       "      <th></th>\n",
       "      <th>Set Name</th>\n",
       "      <th>ACC</th>\n",
       "      <th>MSE</th>\n",
       "      <th>MAE</th>\n",
       "      <th>PREC</th>\n",
       "      <th>RECALL</th>\n",
       "      <th>F1</th>\n",
       "      <th>AUC</th>\n",
       "    </tr>\n",
       "  </thead>\n",
       "  <tbody>\n",
       "    <tr>\n",
       "      <th>0</th>\n",
       "      <td>Base</td>\n",
       "      <td>0.833594</td>\n",
       "      <td>0.407929</td>\n",
       "      <td>0.166406</td>\n",
       "      <td>1.000000</td>\n",
       "      <td>0.833594</td>\n",
       "      <td>0.909246</td>\n",
       "      <td>NaN</td>\n",
       "    </tr>\n",
       "    <tr>\n",
       "      <th>1</th>\n",
       "      <td>Train</td>\n",
       "      <td>0.652734</td>\n",
       "      <td>0.589292</td>\n",
       "      <td>0.347266</td>\n",
       "      <td>0.901354</td>\n",
       "      <td>0.655108</td>\n",
       "      <td>0.758752</td>\n",
       "      <td>0.703840</td>\n",
       "    </tr>\n",
       "    <tr>\n",
       "      <th>2</th>\n",
       "      <td>Validate</td>\n",
       "      <td>0.671094</td>\n",
       "      <td>0.573503</td>\n",
       "      <td>0.328906</td>\n",
       "      <td>0.900744</td>\n",
       "      <td>0.680412</td>\n",
       "      <td>0.775227</td>\n",
       "      <td>0.710020</td>\n",
       "    </tr>\n",
       "    <tr>\n",
       "      <th>3</th>\n",
       "      <td>Test</td>\n",
       "      <td>0.643750</td>\n",
       "      <td>0.596867</td>\n",
       "      <td>0.356250</td>\n",
       "      <td>0.886640</td>\n",
       "      <td>0.656672</td>\n",
       "      <td>0.754522</td>\n",
       "      <td>0.679355</td>\n",
       "    </tr>\n",
       "  </tbody>\n",
       "</table>\n",
       "</div>"
      ],
      "text/plain": [
       "   Set Name       ACC       MSE       MAE      PREC    RECALL        F1  \\\n",
       "0      Base  0.833594  0.407929  0.166406  1.000000  0.833594  0.909246   \n",
       "1     Train  0.652734  0.589292  0.347266  0.901354  0.655108  0.758752   \n",
       "2  Validate  0.671094  0.573503  0.328906  0.900744  0.680412  0.775227   \n",
       "3      Test  0.643750  0.596867  0.356250  0.886640  0.656672  0.754522   \n",
       "\n",
       "        AUC  \n",
       "0       NaN  \n",
       "1  0.703840  \n",
       "2  0.710020  \n",
       "3  0.679355  "
      ]
     },
     "metadata": {},
     "output_type": "display_data"
    }
   ],
   "source": [
    "score_models2(X_train, y_train, X_val, y_val, X_test, y_test, y_base, True, lr_best_1)"
   ]
  },
  {
   "cell_type": "markdown",
   "metadata": {},
   "source": [
    "**Observations**\n",
    "* Validation Dataset is not performing well for the model, indicating Model is overfitting on Train Dataset"
   ]
  },
  {
   "cell_type": "markdown",
   "metadata": {},
   "source": [
    "**[4.5.2]** Task: Attempt to use None Penalty"
   ]
  },
  {
   "cell_type": "code",
   "execution_count": 17,
   "metadata": {},
   "outputs": [],
   "source": [
    "lr_best_2 = LR(solver='lbfgs', penalty='none', max_iter=1000, class_weight='balanced').fit(X_train, y_train.ravel())"
   ]
  },
  {
   "cell_type": "code",
   "execution_count": 18,
   "metadata": {},
   "outputs": [
    {
     "data": {
      "text/html": [
       "<div>\n",
       "<style scoped>\n",
       "    .dataframe tbody tr th:only-of-type {\n",
       "        vertical-align: middle;\n",
       "    }\n",
       "\n",
       "    .dataframe tbody tr th {\n",
       "        vertical-align: top;\n",
       "    }\n",
       "\n",
       "    .dataframe thead th {\n",
       "        text-align: right;\n",
       "    }\n",
       "</style>\n",
       "<table border=\"1\" class=\"dataframe\">\n",
       "  <thead>\n",
       "    <tr style=\"text-align: right;\">\n",
       "      <th></th>\n",
       "      <th>Set Name</th>\n",
       "      <th>ACC</th>\n",
       "      <th>MSE</th>\n",
       "      <th>MAE</th>\n",
       "      <th>PREC</th>\n",
       "      <th>RECALL</th>\n",
       "      <th>F1</th>\n",
       "      <th>AUC</th>\n",
       "    </tr>\n",
       "  </thead>\n",
       "  <tbody>\n",
       "    <tr>\n",
       "      <th>0</th>\n",
       "      <td>Base</td>\n",
       "      <td>0.833594</td>\n",
       "      <td>0.407929</td>\n",
       "      <td>0.166406</td>\n",
       "      <td>1.000000</td>\n",
       "      <td>0.833594</td>\n",
       "      <td>0.909246</td>\n",
       "      <td>NaN</td>\n",
       "    </tr>\n",
       "    <tr>\n",
       "      <th>1</th>\n",
       "      <td>Train</td>\n",
       "      <td>0.652148</td>\n",
       "      <td>0.589789</td>\n",
       "      <td>0.347852</td>\n",
       "      <td>0.900483</td>\n",
       "      <td>0.655108</td>\n",
       "      <td>0.758443</td>\n",
       "      <td>0.703843</td>\n",
       "    </tr>\n",
       "    <tr>\n",
       "      <th>2</th>\n",
       "      <td>Validate</td>\n",
       "      <td>0.671094</td>\n",
       "      <td>0.573503</td>\n",
       "      <td>0.328906</td>\n",
       "      <td>0.900744</td>\n",
       "      <td>0.680412</td>\n",
       "      <td>0.775227</td>\n",
       "      <td>0.709365</td>\n",
       "    </tr>\n",
       "    <tr>\n",
       "      <th>3</th>\n",
       "      <td>Test</td>\n",
       "      <td>0.641875</td>\n",
       "      <td>0.598435</td>\n",
       "      <td>0.358125</td>\n",
       "      <td>0.885512</td>\n",
       "      <td>0.655172</td>\n",
       "      <td>0.753124</td>\n",
       "      <td>0.678811</td>\n",
       "    </tr>\n",
       "  </tbody>\n",
       "</table>\n",
       "</div>"
      ],
      "text/plain": [
       "   Set Name       ACC       MSE       MAE      PREC    RECALL        F1  \\\n",
       "0      Base  0.833594  0.407929  0.166406  1.000000  0.833594  0.909246   \n",
       "1     Train  0.652148  0.589789  0.347852  0.900483  0.655108  0.758443   \n",
       "2  Validate  0.671094  0.573503  0.328906  0.900744  0.680412  0.775227   \n",
       "3      Test  0.641875  0.598435  0.358125  0.885512  0.655172  0.753124   \n",
       "\n",
       "        AUC  \n",
       "0       NaN  \n",
       "1  0.703843  \n",
       "2  0.709365  \n",
       "3  0.678811  "
      ]
     },
     "metadata": {},
     "output_type": "display_data"
    }
   ],
   "source": [
    "score_models2(X_train, y_train, X_val, y_val, X_test, y_test, y_base, True, lr_best_2)"
   ]
  },
  {
   "cell_type": "markdown",
   "metadata": {},
   "source": [
    "**[4.5.3]** Task: Attempt to use liblinear solver and L1 Penalty"
   ]
  },
  {
   "cell_type": "code",
   "execution_count": 19,
   "metadata": {},
   "outputs": [],
   "source": [
    "lr_best_3 = LR(solver='liblinear', penalty='l1', max_iter=1000, class_weight='balanced').fit(X_train, y_train.ravel())"
   ]
  },
  {
   "cell_type": "code",
   "execution_count": 20,
   "metadata": {},
   "outputs": [
    {
     "data": {
      "text/html": [
       "<div>\n",
       "<style scoped>\n",
       "    .dataframe tbody tr th:only-of-type {\n",
       "        vertical-align: middle;\n",
       "    }\n",
       "\n",
       "    .dataframe tbody tr th {\n",
       "        vertical-align: top;\n",
       "    }\n",
       "\n",
       "    .dataframe thead th {\n",
       "        text-align: right;\n",
       "    }\n",
       "</style>\n",
       "<table border=\"1\" class=\"dataframe\">\n",
       "  <thead>\n",
       "    <tr style=\"text-align: right;\">\n",
       "      <th></th>\n",
       "      <th>Set Name</th>\n",
       "      <th>ACC</th>\n",
       "      <th>MSE</th>\n",
       "      <th>MAE</th>\n",
       "      <th>PREC</th>\n",
       "      <th>RECALL</th>\n",
       "      <th>F1</th>\n",
       "      <th>AUC</th>\n",
       "    </tr>\n",
       "  </thead>\n",
       "  <tbody>\n",
       "    <tr>\n",
       "      <th>0</th>\n",
       "      <td>Base</td>\n",
       "      <td>0.833594</td>\n",
       "      <td>0.407929</td>\n",
       "      <td>0.166406</td>\n",
       "      <td>1.000000</td>\n",
       "      <td>0.833594</td>\n",
       "      <td>0.909246</td>\n",
       "      <td>NaN</td>\n",
       "    </tr>\n",
       "    <tr>\n",
       "      <th>1</th>\n",
       "      <td>Train</td>\n",
       "      <td>0.650977</td>\n",
       "      <td>0.590782</td>\n",
       "      <td>0.349023</td>\n",
       "      <td>0.901586</td>\n",
       "      <td>0.652530</td>\n",
       "      <td>0.757102</td>\n",
       "      <td>0.703883</td>\n",
       "    </tr>\n",
       "    <tr>\n",
       "      <th>2</th>\n",
       "      <td>Validate</td>\n",
       "      <td>0.667188</td>\n",
       "      <td>0.576899</td>\n",
       "      <td>0.332813</td>\n",
       "      <td>0.900125</td>\n",
       "      <td>0.675726</td>\n",
       "      <td>0.771949</td>\n",
       "      <td>0.710905</td>\n",
       "    </tr>\n",
       "    <tr>\n",
       "      <th>3</th>\n",
       "      <td>Test</td>\n",
       "      <td>0.645000</td>\n",
       "      <td>0.595819</td>\n",
       "      <td>0.355000</td>\n",
       "      <td>0.887652</td>\n",
       "      <td>0.657421</td>\n",
       "      <td>0.755383</td>\n",
       "      <td>0.680837</td>\n",
       "    </tr>\n",
       "  </tbody>\n",
       "</table>\n",
       "</div>"
      ],
      "text/plain": [
       "   Set Name       ACC       MSE       MAE      PREC    RECALL        F1  \\\n",
       "0      Base  0.833594  0.407929  0.166406  1.000000  0.833594  0.909246   \n",
       "1     Train  0.650977  0.590782  0.349023  0.901586  0.652530  0.757102   \n",
       "2  Validate  0.667188  0.576899  0.332813  0.900125  0.675726  0.771949   \n",
       "3      Test  0.645000  0.595819  0.355000  0.887652  0.657421  0.755383   \n",
       "\n",
       "        AUC  \n",
       "0       NaN  \n",
       "1  0.703883  \n",
       "2  0.710905  \n",
       "3  0.680837  "
      ]
     },
     "metadata": {},
     "output_type": "display_data"
    }
   ],
   "source": [
    "score_models2(X_train, y_train, X_val, y_val, X_test, y_test, y_base, True, lr_best_3)"
   ]
  },
  {
   "cell_type": "markdown",
   "metadata": {},
   "source": [
    "**[4.6]** Task: Plot Confusion Matrix\n",
    "\n",
    "Identify how well the model is performing at predicting the outcome"
   ]
  },
  {
   "cell_type": "code",
   "execution_count": 21,
   "metadata": {},
   "outputs": [
    {
     "name": "stdout",
     "output_type": "stream",
     "text": [
      "Train - Confusion matrix, without normalization\n",
      "[[ 546  306]\n",
      " [1472 2796]]\n",
      "Train - Normalized confusion matrix\n",
      "[[0.64084507 0.35915493]\n",
      " [0.34489222 0.65510778]]\n",
      "Validate - Confusion matrix, without normalization\n",
      "[[154 112]\n",
      " [458 876]]\n",
      "Validate - Normalized confusion matrix\n",
      "[[0.57894737 0.42105263]\n",
      " [0.34332834 0.65667166]]\n"
     ]
    },
    {
     "data": {
      "image/png": "[encoded data removed]",
      "text/plain": [
       "<Figure size 432x288 with 2 Axes>"
      ]
     },
     "metadata": {
      "needs_background": "light"
     },
     "output_type": "display_data"
    },
    {
     "data": {
      "image/png": "[encoded data removed]",
      "text/plain": [
       "<Figure size 432x288 with 2 Axes>"
      ]
     },
     "metadata": {
      "needs_background": "light"
     },
     "output_type": "display_data"
    },
    {
     "data": {
      "image/png": "[encoded data removed]",
      "text/plain": [
       "<Figure size 432x288 with 2 Axes>"
      ]
     },
     "metadata": {
      "needs_background": "light"
     },
     "output_type": "display_data"
    },
    {
     "data": {
      "image/png": "[encoded data removed]",
      "text/plain": [
       "<Figure size 432x288 with 2 Axes>"
      ]
     },
     "metadata": {
      "needs_background": "light"
     },
     "output_type": "display_data"
    }
   ],
   "source": [
    "plot_confusion_matrix_full(model=lr_best_1, X_train = X_train, y_train = y_train, X_val = X_test, y_val = y_test)"
   ]
  },
  {
   "cell_type": "markdown",
   "metadata": {},
   "source": [
    "**Observation** Both Models is predicting alot of False Positives (FP) in both training and validation datasets"
   ]
  },
  {
   "cell_type": "markdown",
   "metadata": {},
   "source": [
    "**[4.7]** Task: Calculate AUROC"
   ]
  },
  {
   "cell_type": "code",
   "execution_count": 36,
   "metadata": {},
   "outputs": [
    {
     "data": {
      "text/html": [
       "<div>\n",
       "<style scoped>\n",
       "    .dataframe tbody tr th:only-of-type {\n",
       "        vertical-align: middle;\n",
       "    }\n",
       "\n",
       "    .dataframe tbody tr th {\n",
       "        vertical-align: top;\n",
       "    }\n",
       "\n",
       "    .dataframe thead th {\n",
       "        text-align: right;\n",
       "    }\n",
       "</style>\n",
       "<table border=\"1\" class=\"dataframe\">\n",
       "  <thead>\n",
       "    <tr style=\"text-align: right;\">\n",
       "      <th></th>\n",
       "      <th>Set Name</th>\n",
       "      <th>ACC</th>\n",
       "      <th>MSE</th>\n",
       "      <th>MAE</th>\n",
       "      <th>PREC</th>\n",
       "      <th>RECALL</th>\n",
       "      <th>F1</th>\n",
       "      <th>AUC</th>\n",
       "    </tr>\n",
       "  </thead>\n",
       "  <tbody>\n",
       "    <tr>\n",
       "      <th>0</th>\n",
       "      <td>Base</td>\n",
       "      <td>0.833594</td>\n",
       "      <td>0.407929</td>\n",
       "      <td>0.166406</td>\n",
       "      <td>1.000000</td>\n",
       "      <td>0.833594</td>\n",
       "      <td>0.909246</td>\n",
       "      <td>NaN</td>\n",
       "    </tr>\n",
       "    <tr>\n",
       "      <th>1</th>\n",
       "      <td>Train</td>\n",
       "      <td>0.652734</td>\n",
       "      <td>0.589292</td>\n",
       "      <td>0.347266</td>\n",
       "      <td>0.901354</td>\n",
       "      <td>0.655108</td>\n",
       "      <td>0.758752</td>\n",
       "      <td>0.703840</td>\n",
       "    </tr>\n",
       "    <tr>\n",
       "      <th>2</th>\n",
       "      <td>Validate</td>\n",
       "      <td>0.671094</td>\n",
       "      <td>0.573503</td>\n",
       "      <td>0.328906</td>\n",
       "      <td>0.900744</td>\n",
       "      <td>0.680412</td>\n",
       "      <td>0.775227</td>\n",
       "      <td>0.710020</td>\n",
       "    </tr>\n",
       "    <tr>\n",
       "      <th>3</th>\n",
       "      <td>Test</td>\n",
       "      <td>0.643750</td>\n",
       "      <td>0.596867</td>\n",
       "      <td>0.356250</td>\n",
       "      <td>0.886640</td>\n",
       "      <td>0.656672</td>\n",
       "      <td>0.754522</td>\n",
       "      <td>0.679355</td>\n",
       "    </tr>\n",
       "  </tbody>\n",
       "</table>\n",
       "</div>"
      ],
      "text/plain": [
       "   Set Name       ACC       MSE       MAE      PREC    RECALL        F1  \\\n",
       "0      Base  0.833594  0.407929  0.166406  1.000000  0.833594  0.909246   \n",
       "1     Train  0.652734  0.589292  0.347266  0.901354  0.655108  0.758752   \n",
       "2  Validate  0.671094  0.573503  0.328906  0.900744  0.680412  0.775227   \n",
       "3      Test  0.643750  0.596867  0.356250  0.886640  0.656672  0.754522   \n",
       "\n",
       "        AUC  \n",
       "0       NaN  \n",
       "1  0.703840  \n",
       "2  0.710020  \n",
       "3  0.679355  "
      ]
     },
     "metadata": {},
     "output_type": "display_data"
    }
   ],
   "source": [
    "score_models2(X_train, y_train, X_val, y_val, X_test, y_test, y_base, True, lr_best_1)"
   ]
  },
  {
   "cell_type": "markdown",
   "metadata": {},
   "source": [
    "**Observations** \n",
    "* Training Dataset has a AUROC prediction 0.704\n",
    "* Validation Dataset AUROC prediction 0.710. This indicates the model is fitting reasonably well on unseen data\n",
    "* The finaly Kaggle result AUROC 0.70183 - Best Personal Result (0.71246 24FEB2022)"
   ]
  },
  {
   "cell_type": "markdown",
   "metadata": {},
   "source": [
    "**[4.8]** Save Model"
   ]
  },
  {
   "cell_type": "code",
   "execution_count": 23,
   "metadata": {},
   "outputs": [
    {
     "data": {
      "text/plain": [
       "['models/Group1-Assignment1-LogisticRegression.joblib']"
      ]
     },
     "execution_count": 23,
     "metadata": {},
     "output_type": "execute_result"
    }
   ],
   "source": [
    "job.dump(lr_best_1, \"models/Group1-Assignment1-LogisticRegression.joblib\", compress=3)"
   ]
  },
  {
   "cell_type": "markdown",
   "metadata": {},
   "source": [
    "## 5. Plot AUC"
   ]
  },
  {
   "cell_type": "code",
   "execution_count": 24,
   "metadata": {},
   "outputs": [
    {
     "data": {
      "image/png": "[encoded data removed]",
      "text/plain": [
       "<Figure size 700x500 with 1 Axes>"
      ]
     },
     "metadata": {
      "needs_background": "light"
     },
     "output_type": "display_data"
    },
    {
     "data": {
      "image/png": "[encoded data removed]",
      "text/plain": [
       "<Figure size 700x500 with 1 Axes>"
      ]
     },
     "metadata": {
      "needs_background": "light"
     },
     "output_type": "display_data"
    }
   ],
   "source": [
    "plot_roc_auc(X_train = X_train, y_train = y_train, X_val = X_val, y_val = y_val, model = lr_best_1)"
   ]
  },
  {
   "cell_type": "markdown",
   "metadata": {},
   "source": [
    "Correlation between X and y"
   ]
  },
  {
   "cell_type": "markdown",
   "metadata": {},
   "source": [
    "## 6. Logistic Regression - Kaggle Competition Preparation"
   ]
  },
  {
   "cell_type": "markdown",
   "metadata": {},
   "source": [
    "**[6.1]** Prepare Kaggle Input File using lr_best_1 Logistic Regression"
   ]
  },
  {
   "cell_type": "code",
   "execution_count": 25,
   "metadata": {},
   "outputs": [],
   "source": [
    "# File URLs\n",
    "file_path_raw_test= \"data/raw/test.csv\"\n",
    "file_path_test= \"data/processed/test.csv\"\n",
    "\n",
    "# Load files into df_training and df_validation data frames\n",
    "df_test = pd.read_csv(file_path_test)\n",
    "df_test_raw = pd.read_csv(file_path_raw_test)"
   ]
  },
  {
   "cell_type": "code",
   "execution_count": 26,
   "metadata": {},
   "outputs": [],
   "source": [
    "# Convert X_kaggle to Numpy Array and retrieve ID\n",
    "X_kaggle    = df_test.to_numpy()\n",
    "X_kaggle_id = df_test_raw['Id']"
   ]
  },
  {
   "cell_type": "markdown",
   "metadata": {},
   "source": [
    "**[6.2]** Check Test Dataset is ready for predicting"
   ]
  },
  {
   "cell_type": "code",
   "execution_count": 27,
   "metadata": {},
   "outputs": [
    {
     "data": {
      "text/plain": [
       "(3799,)"
      ]
     },
     "execution_count": 27,
     "metadata": {},
     "output_type": "execute_result"
    }
   ],
   "source": [
    "X_kaggle_id.shape"
   ]
  },
  {
   "cell_type": "markdown",
   "metadata": {},
   "source": [
    "**[6.3]** Create y Prediction using the Test Dataset"
   ]
  },
  {
   "cell_type": "code",
   "execution_count": 28,
   "metadata": {},
   "outputs": [],
   "source": [
    "y_predict = lr_best_1.predict_proba(X_kaggle)"
   ]
  },
  {
   "cell_type": "code",
   "execution_count": 29,
   "metadata": {},
   "outputs": [
    {
     "name": "stdout",
     "output_type": "stream",
     "text": [
      "[[0.5709634  0.4290366 ]\n",
      " [0.60195873 0.39804127]\n",
      " [0.28629188 0.71370812]\n",
      " ...\n",
      " [0.50952319 0.49047681]\n",
      " [0.21859924 0.78140076]\n",
      " [0.55505239 0.44494761]]\n"
     ]
    }
   ],
   "source": [
    "print(y_predict)"
   ]
  },
  {
   "cell_type": "code",
   "execution_count": 30,
   "metadata": {},
   "outputs": [
    {
     "name": "stdout",
     "output_type": "stream",
     "text": [
      "[0.4290366  0.39804127 0.71370812 ... 0.49047681 0.78140076 0.44494761]\n"
     ]
    }
   ],
   "source": [
    "print(y_predict[:,1])"
   ]
  },
  {
   "cell_type": "markdown",
   "metadata": {},
   "source": [
    "**[6.4]** Convert the Numpy Array into a Pandas Dataframe with a Column Name TARGET_5Yrs"
   ]
  },
  {
   "cell_type": "code",
   "execution_count": 31,
   "metadata": {},
   "outputs": [],
   "source": [
    "# Convert numpy arrany y_predict values back to df_train_cleaned_scaled data frame \n",
    "y_predict = pd.DataFrame(y_predict[:,1], columns = ['TARGET_5Yrs'])"
   ]
  },
  {
   "cell_type": "markdown",
   "metadata": {},
   "source": [
    "**[6.5]** Concatenate Player ID and Prediction into on Data Frame and Sort by Id"
   ]
  },
  {
   "cell_type": "code",
   "execution_count": 32,
   "metadata": {},
   "outputs": [],
   "source": [
    "y_predict = pd.concat([X_kaggle_id, y_predict], axis=1)"
   ]
  },
  {
   "cell_type": "code",
   "execution_count": 33,
   "metadata": {},
   "outputs": [],
   "source": [
    "#y_predict = y_predict.sort_values(by=['Id'])"
   ]
  },
  {
   "cell_type": "code",
   "execution_count": 34,
   "metadata": {},
   "outputs": [
    {
     "name": "stdout",
     "output_type": "stream",
     "text": [
      "        Id  TARGET_5Yrs\n",
      "0        1     0.429037\n",
      "1     8194     0.398041\n",
      "2        3     0.713708\n",
      "3     8196     0.717380\n",
      "4     8197     0.446114\n",
      "...    ...          ...\n",
      "3794  8175     0.714929\n",
      "3795  8176     0.458829\n",
      "3796  8178     0.490477\n",
      "3797  8181     0.781401\n",
      "3798  8183     0.444948\n",
      "\n",
      "[3799 rows x 2 columns]\n"
     ]
    }
   ],
   "source": [
    "print(y_predict)"
   ]
  },
  {
   "cell_type": "markdown",
   "metadata": {},
   "source": [
    "**[6.6]** Export Dataframe to CSV and save model"
   ]
  },
  {
   "cell_type": "code",
   "execution_count": 35,
   "metadata": {},
   "outputs": [
    {
     "data": {
      "text/plain": [
       "(3799, 2)"
      ]
     },
     "execution_count": 35,
     "metadata": {},
     "output_type": "execute_result"
    }
   ],
   "source": [
    "y_predict.to_csv(\"data/external/Group1_Assignment1_linear_regression_predictions.csv\", index = False)\n",
    "y_predict.shape"
   ]
  }
 ],
 "metadata": {
  "kernelspec": {
   "display_name": "Python 3",
   "language": "python",
   "name": "python3"
  },
  "language_info": {
   "codemirror_mode": {
    "name": "ipython",
    "version": 3
   },
   "file_extension": ".py",
   "mimetype": "text/x-python",
   "name": "python",
   "nbconvert_exporter": "python",
   "pygments_lexer": "ipython3",
   "version": "3.7.6"
  }
 },
 "nbformat": 4,
 "nbformat_minor": 5
}
