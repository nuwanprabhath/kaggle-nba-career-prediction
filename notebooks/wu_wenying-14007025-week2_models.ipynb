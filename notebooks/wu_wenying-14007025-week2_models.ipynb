{
 "cells": [
  {
   "cell_type": "markdown",
   "id": "a920ebfe-9fe3-4260-a806-815631efd8e2",
   "metadata": {
    "tags": []
   },
   "source": [
    "# **NBA Career Prediction**\n",
    "**Predict 5-Year Career Longevity for NBA Rookies**"
   ]
  },
  {
   "cell_type": "markdown",
   "id": "448ded24-b6f1-4737-a337-7023a079cf24",
   "metadata": {},
   "source": [
    "## WEEK 2 - Grid Search Modeling and Hyperopt Boosting XG Boost\n",
    "\n",
    "In this project, we are trying to classify a rookie player will last at least 5 years in the NBA or not. In this notwbook, we will use search to turn models.\n",
    "Model includes LRs, XGboost, KNN and Ramdom Forest.\n",
    "\n",
    "**The steps are:**\n",
    "1. Read Data\n",
    "    * Import Libraries\n",
    "    * Load data\n",
    "2. Data Exploration \n",
    "3. Data visualization\n",
    "3. Prepare data"
   ]
  },
  {
   "cell_type": "markdown",
   "id": "d865c566-563c-4a77-b869-24df5f920c5e",
   "metadata": {},
   "source": [
    "## 1. Grid Search Modeling"
   ]
  },
  {
   "cell_type": "markdown",
   "id": "8c1ed679-f82e-41c1-a31a-bb0a8a728f65",
   "metadata": {},
   "source": [
    "##### **[1.1]** Import all modules needed"
   ]
  },
  {
   "cell_type": "code",
   "execution_count": 1,
   "id": "32619bee-0010-497a-8f36-1d8b40dfff5c",
   "metadata": {},
   "outputs": [],
   "source": [
    "import pandas as pd\n",
    "import numpy as np\n",
    "import matplotlib.pyplot as plt\n",
    "from sklearn.metrics import roc_curve,roc_auc_score\n",
    "from sklearn.metrics import accuracy_score\n",
    "from sklearn.linear_model import LogisticRegression as LR\n",
    "from sklearn.decomposition import PCA\n",
    "from sklearn.neighbors import KNeighborsClassifier\n",
    "from sklearn.ensemble import RandomForestClassifier\n",
    "from xgboost import XGBClassifier\n",
    "from sklearn.model_selection import RandomizedSearchCV, GridSearchCV\n",
    "import warnings\n",
    "warnings.filterwarnings(action=\"ignore\")"
   ]
  },
  {
   "cell_type": "markdown",
   "id": "cc973323-6811-4a87-a067-6694f32aad47",
   "metadata": {},
   "source": [
    "##### **[1.2]** Import datasets"
   ]
  },
  {
   "cell_type": "code",
   "execution_count": 2,
   "id": "d9ff648f-965c-4224-beb8-3c133f535638",
   "metadata": {},
   "outputs": [],
   "source": [
    "X_train = np.load('../data/processed/X_train.npy')\n",
    "y_train = np.load('../data/processed/y_train.npy')\n",
    "\n",
    "X_ros = np.load('../data/processed/X_ros.npy')\n",
    "y_ros = np.load('../data/processed/y_ros.npy')\n",
    "\n",
    "X_sos = np.load('../data/processed/X_sos.npy')\n",
    "y_sos = np.load('../data/processed/y_sos.npy')\n",
    "\n",
    "X_kos = np.load('../data/processed/X_kos.npy')\n",
    "y_kos = np.load('../data/processed/y_kos.npy')\n",
    "\n",
    "X_val   = np.load('../data/processed/X_val.npy')\n",
    "y_val  = np.load('../data/processed/y_val.npy')\n",
    "\n",
    "X_test  = np.load('../data/processed/X_test.npy')"
   ]
  },
  {
   "cell_type": "markdown",
   "id": "38a87ea6-dde5-4669-aeb0-c5c4c013df4a",
   "metadata": {},
   "source": [
    "##### **[1.3]** Define functions"
   ]
  },
  {
   "cell_type": "code",
   "execution_count": 3,
   "id": "6d95cdb6-2cb9-4a93-9557-da9304e153de",
   "metadata": {},
   "outputs": [],
   "source": [
    "# Models dictionary\n",
    "models = {\"Logistic Regression\": LR(),\n",
    "         \"KNN\": KNeighborsClassifier(),\n",
    "         \"Random Forest\": RandomForestClassifier(),\n",
    "         \"XGBoost\": XGBClassifier()}\n",
    "\n",
    "#Function that will evaluate the model performance using various metrics\n",
    "def evaluate_pred(y_pred, y_val):\n",
    "    accuracy = accuracy_score(y_val, y_pred)\n",
    "    precision = precision_score(y_val, y_pred)\n",
    "    recall = recall_score(y_val, y_pred)\n",
    "    f1 = f1_score(y_val, y_pred)\n",
    "    metric_dict = {\"accuracy\": round(accuracy, 2), \"precision\": round(precision, 2), \"recall\": round(recall, 2),\n",
    "                  \"f1\": round(f1,2)}\n",
    "    print(f\"Accuracy: {accuracy*100:.2f}%\")\n",
    "    print(f\"Precision: {precision:.2f}\")\n",
    "    print(f\"Recall: {recall:.2f}\")\n",
    "    print(f\"F1 score: {f1:.2f}\")\n",
    "    \n",
    "    return metric_dict\n",
    "\n",
    "# Function that will fit and score the models\n",
    "def fit_and_score(models, X_train, X_val, y_train, y_val):\n",
    "    np.random.seed(42)\n",
    "    \n",
    "    #Dictionary of model scores\n",
    "    model_scores = {}\n",
    "    \n",
    "    #Loop through models\n",
    "    for name, model in models.items():\n",
    "        clf = model\n",
    "        clf.fit(X_train, y_train)\n",
    "        model_scores[name] = model.score(X_val, y_val)\n",
    "    return model_scores"
   ]
  },
  {
   "cell_type": "markdown",
   "id": "62358f1c-7450-4cc3-829d-3cd5a5346c21",
   "metadata": {},
   "source": [
    "##### **[1.4]** Get default model scores"
   ]
  },
  {
   "cell_type": "code",
   "execution_count": 4,
   "id": "444f5d47-f874-4409-8181-20f4af8ab890",
   "metadata": {},
   "outputs": [
    {
     "name": "stdout",
     "output_type": "stream",
     "text": [
      "[22:16:10] WARNING: /private/var/folders/hs/ln67s53n0gxf57pyz_ftzkrw0000gn/T/pip-install-n7uylk98/xgboost_c778489d0ba746e7a2e74a37a7f0c4df/build/temp.macosx-10.9-universal2-3.10/xgboost/src/learner.cc:1115: Starting in XGBoost 1.3.0, the default evaluation metric used with the objective 'binary:logistic' was changed from 'error' to 'logloss'. Explicitly set eval_metric if you'd like to restore the old behavior.\n"
     ]
    },
    {
     "data": {
      "text/plain": [
       "{'Logistic Regression': 0.83875,\n",
       " 'KNN': 0.81,\n",
       " 'Random Forest': 0.834375,\n",
       " 'XGBoost': 0.816875}"
      ]
     },
     "execution_count": 4,
     "metadata": {},
     "output_type": "execute_result"
    }
   ],
   "source": [
    "model_scores = fit_and_score(models, X_train, X_val, y_train, y_val)\n",
    "model_scores"
   ]
  },
  {
   "cell_type": "markdown",
   "id": "8b331885-a94b-41b0-9ec3-a32ac3543e54",
   "metadata": {},
   "source": [
    "##### **[1.5]** Define grid search functions"
   ]
  },
  {
   "cell_type": "code",
   "execution_count": 5,
   "id": "c7f8406f-aa7c-4ab4-8d83-dac548fac5ce",
   "metadata": {},
   "outputs": [],
   "source": [
    "def grid_search_LR_default():\n",
    "    # Create hyperparameter options, classweight default\n",
    "    grid={\"C\":np.logspace(-4, 4, 20), \"penalty\":[\"l1\",\"l2\"]}\n",
    "\n",
    "    # Apply grid search\n",
    "    log_clf = GridSearchCV(LR(max_iter=10000), grid, cv=5, verbose=0, scoring=\"roc_auc\")\n",
    "\n",
    "    #Fit\n",
    "    log_clf.fit(X_train, y_train)\n",
    "\n",
    "    #instantiate the best estimator\n",
    "    estimator = log_clf.best_estimator_\n",
    "    estimator.fit(X_train, y_train)\n",
    "    y_pred = estimator.predict(X_val)\n",
    "    y_preds_probs=estimator.predict_proba(X_val)[:,1]\n",
    "    print(estimator)\n",
    "    print(f'accuracy:{accuracy_score(y_pred, y_val)}')\n",
    "    print(f'auc:{roc_auc_score(y_val, y_preds_probs)}')\n"
   ]
  },
  {
   "cell_type": "code",
   "execution_count": 6,
   "id": "513f048b-eb59-4f0f-85b5-df1a3b0a2f01",
   "metadata": {},
   "outputs": [],
   "source": [
    "def grid_search_LR_balanced():\n",
    "    # Create hyperparameter options, classweight = \"balabnced\"\n",
    "    grid={\"C\":np.logspace(-4, 4, 20), \"penalty\":[\"l1\",\"l2\"]}\n",
    "\n",
    "    # Apply grid search\n",
    "    log_clf = GridSearchCV(LR(max_iter=10000, class_weight='balanced'), grid, cv=5, verbose=0, scoring=\"roc_auc\")\n",
    "\n",
    "    #Fit\n",
    "    log_clf.fit(X_train, y_train)\n",
    "    \n",
    "    #instantiate the best estimator\n",
    "    estimator = log_clf.best_estimator_\n",
    "    estimator.fit(X_train, y_train)\n",
    "    y_pred = estimator.predict(X_val)\n",
    "    y_preds_probs=estimator.predict_proba(X_val)[:,1]\n",
    "    print(estimator)\n",
    "    print(f'accuracy:{accuracy_score(y_pred, y_val)}')\n",
    "    print(f'auc:{roc_auc_score(y_val, y_preds_probs)}')\n"
   ]
  },
  {
   "cell_type": "code",
   "execution_count": 7,
   "id": "55755ae6-9dbd-4b96-a39d-89f5e9685314",
   "metadata": {},
   "outputs": [],
   "source": [
    "def grid_search_XGboost():\n",
    "    #Constructing the grid\n",
    "    param_test1 = {\n",
    "     'n_estimators':range(100,300,20),\n",
    "     'max_depth':range(3,10,2),\n",
    "     'min_child_weight':range(1,10,2)\n",
    "    }\n",
    "\n",
    "    #Apply grid search\n",
    "    xg_clf = GridSearchCV(XGBClassifier(use_label_encoder=False, eval_metric='logloss'), param_test1, cv=5, verbose=0, scoring=\"roc_auc\")\n",
    "    xg_clf.fit(X_train, y_train)\n",
    "    \n",
    "    #instantiate the best estimator\n",
    "    xg_clf1 = xg_clf.best_estimator_\n",
    "    xg_clf1.fit(X_train, y_train)\n",
    "    y_pred = xg_clf1.predict(X_val)\n",
    "    y_preds_proba = xg_clf1.predict_proba(X_val)[:,1]\n",
    "    print(xg_clf1)\n",
    "    print(f'accuracy:{accuracy_score(y_pred, y_val)}')\n",
    "    print(f'auc:{roc_auc_score(y_val, y_pred)}, 1&0')\n",
    "    print(f'auc:{roc_auc_score(y_val, y_preds_proba)}, %')\n"
   ]
  },
  {
   "cell_type": "code",
   "execution_count": 8,
   "id": "3f6b45ff-64d5-4685-8e70-a1f1a82030dd",
   "metadata": {},
   "outputs": [],
   "source": [
    "def grid_search_KNN():\n",
    "    #Desired range for k parameter\n",
    "    k_range = list(range(9, 50))\n",
    "\n",
    "    #Creating grid\n",
    "    param_grid = dict(n_neighbors=k_range)\n",
    "\n",
    "    #Applying GridSearchCV\n",
    "    knn_clf = GridSearchCV(KNeighborsClassifier(), param_grid, cv=10, scoring=\"roc_auc\")\n",
    "    knn_clf.fit(X_train, y_train)\n",
    "    \n",
    "    #instantiate the best estimator\n",
    "    knn_clf1 = knn_clf.best_estimator_\n",
    "    knn_clf1.fit(X_train, y_train)\n",
    "    y_pred = knn_clf1.predict(X_val)\n",
    "    y_preds_proba = knn_clf1.predict_proba(X_val)[:,1]\n",
    "    print(knn_clf1)\n",
    "    print(f'accuracy:{accuracy_score(y_pred, y_val)}')\n",
    "    print(f'auc:{roc_auc_score(y_val, y_pred)}, 1&0')\n",
    "    print(f'auc:{roc_auc_score(y_val, y_preds_proba)}, %')\n"
   ]
  },
  {
   "cell_type": "code",
   "execution_count": 9,
   "id": "dd15e161-3b0d-489d-9a24-c0674373eb05",
   "metadata": {},
   "outputs": [],
   "source": [
    "def grid_search_RF():\n",
    "    #Creating the grid\n",
    "    param_grid = {\n",
    "        'n_estimators': range(100,300,20),\n",
    "        'max_depth': range(3,15,2),\n",
    "        'random_state': [8888],\n",
    "        #'max_features': ['auto'],\n",
    "        #'criterion' :['gini']\n",
    "    }\n",
    "\n",
    "    #Applying grid search\n",
    "    cv_rfc = GridSearchCV(estimator=RandomForestClassifier(), param_grid=param_grid, cv= 10, scoring=\"roc_auc\")\n",
    "    cv_rfc.fit(X_train, y_train)\n",
    "    \n",
    "    #instantiate the best estimator\n",
    "    rfc = cv_rfc.best_estimator_\n",
    "    rfc.fit(X_train, y_train)\n",
    "    y_pred = rfc.predict(X_val)\n",
    "    y_preds_proba = rfc.predict_proba(X_val)[:,1]\n",
    "    print(rfc)\n",
    "    print(f'accuracy:{accuracy_score(y_pred, y_val)}')\n",
    "    print(f'auc:{roc_auc_score(y_val, y_pred)}, 1&0')\n",
    "    print(f'auc:{roc_auc_score(y_val, y_preds_proba)}, %')\n"
   ]
  },
  {
   "cell_type": "markdown",
   "id": "ebb08fae-2a42-4fd6-9eaf-a758a826fc56",
   "metadata": {},
   "source": [
    "##### **[1.6]** Define start grid search function"
   ]
  },
  {
   "cell_type": "code",
   "execution_count": 10,
   "id": "fb05be3c-6a3a-4b90-8b69-7a1973a425ad",
   "metadata": {},
   "outputs": [],
   "source": [
    "def grid_search_start():\n",
    "    print(\"LR default:\")\n",
    "    grid_search_LR_default()\n",
    "    print()\n",
    "    print(\"LR balanced:\")\n",
    "    grid_search_LR_balanced()\n",
    "    print()\n",
    "    print(\"XGboost:\")\n",
    "    grid_search_XGboost()\n",
    "    print()\n",
    "    print(\"KNN:\")\n",
    "    grid_search_KNN()\n",
    "    print()\n",
    "    print(\"RF:\")\n",
    "    grid_search_RF()\n"
   ]
  },
  {
   "cell_type": "markdown",
   "id": "eb88b03c-9730-4636-9557-7f5b09296055",
   "metadata": {},
   "source": [
    "##### **[1.7]** Get results"
   ]
  },
  {
   "cell_type": "code",
   "execution_count": 11,
   "id": "d7c2cd72-9725-4d91-8421-094e139e3546",
   "metadata": {},
   "outputs": [
    {
     "name": "stdout",
     "output_type": "stream",
     "text": [
      "Data Cleaning: use wk2 result - scaled, negs subs with mode, recalculated %s and corresponding data, delete columns, substitue upper outliers with mode, use historical best records as threshold.\n",
      "LR default:\n",
      "LogisticRegression(C=0.012742749857031334, max_iter=10000)\n",
      "accuracy:0.835\n",
      "auc:0.7061525628163362\n",
      "\n",
      "LR balanced:\n",
      "LogisticRegression(C=0.004832930238571752, class_weight='balanced',\n",
      "                   max_iter=10000)\n",
      "accuracy:0.653125\n",
      "auc:0.7053155752950593\n",
      "\n",
      "XGboost:\n",
      "XGBClassifier(base_score=0.5, booster='gbtree', colsample_bylevel=1,\n",
      "              colsample_bynode=1, colsample_bytree=1, enable_categorical=False,\n",
      "              eval_metric='logloss', gamma=0, gpu_id=-1, importance_type=None,\n",
      "              interaction_constraints='', learning_rate=0.300000012,\n",
      "              max_delta_step=0, max_depth=3, min_child_weight=3, missing=nan,\n",
      "              monotone_constraints='()', n_estimators=100, n_jobs=8,\n",
      "              num_parallel_tree=1, predictor='auto', random_state=0,\n",
      "              reg_alpha=0, reg_lambda=1, scale_pos_weight=1, subsample=1,\n",
      "              tree_method='exact', use_label_encoder=False,\n",
      "              validate_parameters=1, verbosity=None)\n",
      "accuracy:0.834375\n",
      "auc:0.5244529990643776, 1&0\n",
      "auc:0.6997215677875348, %\n",
      "\n",
      "KNN:\n",
      "KNeighborsClassifier(n_neighbors=48)\n",
      "accuracy:0.835\n",
      "auc:0.506769171805075, 1&0\n",
      "auc:0.670645410377518, %\n",
      "\n",
      "RF:\n",
      "RandomForestClassifier(max_depth=5, n_estimators=220, random_state=8888)\n",
      "accuracy:0.83375\n",
      "auc:0.5015048866544172, 1&0\n",
      "auc:0.7045208598708165, %\n"
     ]
    }
   ],
   "source": [
    "print(\"Data Cleaning: use wk2 result - scaled, negs subs with mode, recalculated %s and corresponding data, delete columns, substitue upper outliers with mode, use historical best records as threshold.\")\n",
    "grid_search_start()"
   ]
  },
  {
   "cell_type": "markdown",
   "id": "b5e0cce4-35ba-4f51-84dd-cff5815c2d88",
   "metadata": {},
   "source": [
    "## 2. Start Hyperopt boosting XGboost"
   ]
  },
  {
   "cell_type": "markdown",
   "id": "0f80fd34-c362-4550-9368-007ab9853704",
   "metadata": {},
   "source": [
    "##### **[2.1]** Import all modules needed"
   ]
  },
  {
   "cell_type": "code",
   "execution_count": 12,
   "id": "46e796ca-b65c-439d-ae45-92992ceeae92",
   "metadata": {},
   "outputs": [],
   "source": [
    "from hyperopt import Trials, STATUS_OK, tpe, hp, fmin"
   ]
  },
  {
   "cell_type": "markdown",
   "id": "fa286ff2-e1bb-4fe3-ac60-9858c26b3111",
   "metadata": {},
   "source": [
    "##### **[2.2]** Define search spaces and functions"
   ]
  },
  {
   "cell_type": "code",
   "execution_count": 13,
   "id": "ef91c641-06d8-4702-bfc9-1308a3f20c3c",
   "metadata": {},
   "outputs": [],
   "source": [
    "# Define search spaces\n",
    "space = {\n",
    "    'max_depth' : hp.choice('max_depth', range(5, 20, 1)),\n",
    "    'learning_rate' : hp.quniform('learning_rate', 0.01, 0.5, 0.05),\n",
    "    'min_child_weight' : hp.quniform('min_child_weight', 1, 10, 1),\n",
    "    'subsample' : hp.quniform('subsample', 0.1, 1, 0.05),\n",
    "    'colsample_bytree' : hp.quniform('colsample_bytree', 0.1, 1.0, 0.05)\n",
    "}"
   ]
  },
  {
   "cell_type": "code",
   "execution_count": 14,
   "id": "f6ecdd19-d74c-4cf5-8e40-4f3df9331181",
   "metadata": {},
   "outputs": [],
   "source": [
    "# Define objective sunction and self-defined loss function (aimming for higher AUC)\n",
    "def objective(space):\n",
    "    from sklearn.model_selection import cross_val_score\n",
    "    \n",
    "    xgboost = XGBClassifier(\n",
    "        max_depth = int(space['max_depth']),\n",
    "        learning_rate = space['learning_rate'],\n",
    "        min_child_weight = space['min_child_weight'],\n",
    "        subsample = space['subsample'],\n",
    "        colsample_bytree = space['colsample_bytree'],\n",
    "        eval_metric = 'auc'\n",
    "    )\n",
    "    \n",
    "    auc = cross_val_score(xgboost, X_train, y_train, cv=10, scoring=\"roc_auc\").mean()\n",
    "\n",
    "    return{'loss': 1-auc, 'status': STATUS_OK }"
   ]
  },
  {
   "cell_type": "markdown",
   "id": "80347b4d-ee56-4db8-9ca0-11980dae8b09",
   "metadata": {},
   "source": [
    "##### **[2.3]** Get Hyperopted XGBoost model and predict"
   ]
  },
  {
   "cell_type": "code",
   "execution_count": 16,
   "id": "fbb74f8f-cd28-42a3-aedf-06cbcd698927",
   "metadata": {},
   "outputs": [
    {
     "name": "stdout",
     "output_type": "stream",
     "text": [
      "100%|████████████████████████████████████████████████████████████████████████| 200/200 [15:55<00:00,  4.78s/trial, best loss: 0.30968404708555775]\n"
     ]
    }
   ],
   "source": [
    "# Start hyperboosting \n",
    "best = fmin(\n",
    "    fn=objective,   \n",
    "    space=space,       \n",
    "    algo=tpe.suggest,       \n",
    "    max_evals=200 # can use larger value to increase optimization power\n",
    ")"
   ]
  },
  {
   "cell_type": "code",
   "execution_count": 17,
   "id": "969f73e0-78c5-4a05-a2ff-9f2f1c0e3d06",
   "metadata": {},
   "outputs": [
    {
     "name": "stdout",
     "output_type": "stream",
     "text": [
      "Best:  {'colsample_bytree': 0.65, 'learning_rate': 0.05, 'max_depth': 0, 'min_child_weight': 2.0, 'subsample': 0.4}\n"
     ]
    }
   ],
   "source": [
    "# Print best model from hyperopt\n",
    "print(\"Best: \", best)"
   ]
  },
  {
   "cell_type": "code",
   "execution_count": 18,
   "id": "bfb1dadb-c153-49e8-92c2-bebdf491ecd7",
   "metadata": {},
   "outputs": [
    {
     "name": "stdout",
     "output_type": "stream",
     "text": [
      "accuracy:0.83375\n",
      "auc:0.5, 1&0\n",
      "auc:0.5, %\n"
     ]
    }
   ],
   "source": [
    "# Instantiate best estimator from hyperopt\n",
    "xgboost2 = XGBClassifier(\n",
    "    max_depth = best['max_depth'],\n",
    "    learning_rate = best['learning_rate'],\n",
    "    min_child_weight = best['min_child_weight'],\n",
    "    subsample = best['subsample'],\n",
    "    colsample_bytree = best['colsample_bytree'],\n",
    "    eval_metric = 'auc'\n",
    ")\n",
    "\n",
    "# Fit train data\n",
    "xgboost2.fit(X_train, y_train)\n",
    "\n",
    "# Predict validation dataset and print accuracy and auc score\n",
    "y_val_preds = xgboost2.predict(X_val)\n",
    "y_val_proba = xgboost2.predict_proba(X_val)[:,1]\n",
    "print(f'accuracy:{accuracy_score(y_val_preds, y_val)}')\n",
    "print(f'auc:{roc_auc_score(y_val, y_val_preds)}, 1&0')\n",
    "print(f'auc:{roc_auc_score(y_val, y_val_proba)}, %')"
   ]
  },
  {
   "cell_type": "markdown",
   "id": "dc411fa8-cda4-44e8-aa14-e84e0f30b5d5",
   "metadata": {},
   "source": [
    "##### **[2.4]** Compare model scores"
   ]
  },
  {
   "cell_type": "markdown",
   "id": "082da082-5b6b-4745-9377-71af719db44d",
   "metadata": {},
   "source": [
    "**Note:**\n",
    "\n",
    "Comparing the AUC scores from 4 models using grid search and 1 XGboost model from hyperopt, the best one is default LR, followed by balanced LR then RF.\n",
    "\n",
    "Select default LR as the wk2 classifier.\n",
    "\n",
    "We can see the balanced LR model is with a lower accuracy at 0.65, which needs further investigation next week.\n",
    "\n",
    "Also, the auc for the hyperopted XGboost is suggesting it is overfitted to the train data, which might be resolved next week by reducing the max_evals."
   ]
  },
  {
   "cell_type": "markdown",
   "id": "da9c3437-bed0-4103-9143-26bbe5826650",
   "metadata": {},
   "source": [
    "## 3. Best model Prediction"
   ]
  },
  {
   "cell_type": "markdown",
   "id": "8edb1a03-80e1-43a8-91ea-982b2179f01a",
   "metadata": {},
   "source": [
    "##### **[3.1]** Instantiate best model and predict "
   ]
  },
  {
   "cell_type": "code",
   "execution_count": 20,
   "id": "5fcbe4fc-a405-4edd-a311-406a6cda89bf",
   "metadata": {},
   "outputs": [],
   "source": [
    "classifier = LR(C=0.012742749857031334, max_iter=10000)\n",
    "classifier.fit(X_train, y_train)\n",
    "y_val_preds_probs=classifier.predict_proba(X_val)\n",
    "y_val_preds = classifier.predict(X_val)"
   ]
  },
  {
   "cell_type": "markdown",
   "id": "ffcd1d6b-ad83-4d77-85e5-2e1a68b8c48e",
   "metadata": {},
   "source": [
    "##### **[3.2]** Plot AUC graph"
   ]
  },
  {
   "cell_type": "code",
   "execution_count": 21,
   "id": "85cc3514-995f-473b-a3db-89ecac1e5c2e",
   "metadata": {},
   "outputs": [
    {
     "data": {
      "image/png": "[encoded data removed]",
      "text/plain": [
       "<Figure size 700x500 with 1 Axes>"
      ]
     },
     "metadata": {
      "needs_background": "light"
     },
     "output_type": "display_data"
    },
    {
     "data": {
      "text/plain": [
       "0.7061525628163362"
      ]
     },
     "execution_count": 21,
     "metadata": {},
     "output_type": "execute_result"
    }
   ],
   "source": [
    "fpr,tpr,threshold=roc_curve(y_val,y_val_preds_probs[:,1])\n",
    "plt.figure(figsize=(7,5),dpi=100)\n",
    "plt.plot(fpr,tpr,color='green')\n",
    "plt.plot([0,1],[0,1],label='baseline',color='red')\n",
    "plt.xlabel('FPR',fontsize=15)\n",
    "plt.ylabel('TPR',fontsize=15)\n",
    "plt.title('AUC-ROC',fontsize=20)\n",
    "plt.show()\n",
    "roc_auc_score(y_val,y_val_preds_probs[:,1])"
   ]
  },
  {
   "cell_type": "markdown",
   "id": "eb5ed1d8-ed7f-4ad9-9e26-352cfd0899d2",
   "metadata": {},
   "source": [
    "##### **[3.3]** Predict test set and save"
   ]
  },
  {
   "cell_type": "code",
   "execution_count": 28,
   "id": "a362b999-d2f1-4dc6-8b28-63a86a04f322",
   "metadata": {},
   "outputs": [],
   "source": [
    "X_test = np.load('../data/processed/X_test.npy')\n",
    "predict = classifier.predict_proba(X_test)[:,1]\n",
    "test = pd.read_csv('../data/raw/test.csv')\n",
    "result = pd.DataFrame(data = {'Id': test.loc[:,'Id'], 'TARGET_5Yrs': predict})\n",
    "result.to_csv(\"../data/external/wenying_LR_v10.csv\", index = False)"
   ]
  }
 ],
 "metadata": {
  "kernelspec": {
   "display_name": "Python 3 (ipykernel)",
   "language": "python",
   "name": "python3"
  },
  "language_info": {
   "codemirror_mode": {
    "name": "ipython",
    "version": 3
   },
   "file_extension": ".py",
   "mimetype": "text/x-python",
   "name": "python",
   "nbconvert_exporter": "python",
   "pygments_lexer": "ipython3",
   "version": "3.10.2"
  },
  "toc-autonumbering": false,
  "toc-showcode": false,
  "toc-showmarkdowntxt": false
 },
 "nbformat": 4,
 "nbformat_minor": 5
}
