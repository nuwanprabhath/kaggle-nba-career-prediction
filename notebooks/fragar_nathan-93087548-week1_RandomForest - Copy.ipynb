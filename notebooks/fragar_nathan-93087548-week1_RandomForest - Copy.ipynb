{
 "cells": [
  {
   "cell_type": "markdown",
   "id": "1072d7ee-da99-4b15-8ded-496c770836dc",
   "metadata": {},
   "source": [
    "# **AdvDS - Assignment 1: Binary Classification - NBA Player Prediction - Data Preparation**"
   ]
  },
  {
   "cell_type": "markdown",
   "id": "92ff0a16-0385-4f56-bee2-d54827025980",
   "metadata": {},
   "source": [
    "Build a binary classification model that can predict if a rookie player will last at least 5 years in the NBA"
   ]
  },
  {
   "cell_type": "markdown",
   "id": "dcde699c-0dcd-4cb5-90db-9989080eed90",
   "metadata": {},
   "source": [
    "**Student Name:** Nathan Fragar\n",
    "\n",
    "**Student No. :** 93087548\n",
    "\n",
    "**Team Name:** Group 1\n",
    "* Nuwan Munasinghe\n",
    "* Wenyingwuwy\n",
    "* Nathan Fragar\n",
    "* Sean Williams"
   ]
  },
  {
   "cell_type": "markdown",
   "id": "cc73ed60-6381-4db4-82c6-db70b15b0b4f",
   "metadata": {},
   "source": [
    "## 1. Load and Discover Dataset"
   ]
  },
  {
   "cell_type": "markdown",
   "id": "fcb5f006-c249-4004-83f8-fe7c39347f77",
   "metadata": {},
   "source": [
    "**[1.1]** TEask: Import required packages: Pandas, Numpy, joblib"
   ]
  },
  {
   "cell_type": "code",
   "execution_count": 591,
   "id": "5c9960da-6c55-45d6-b7da-b59eec80c83c",
   "metadata": {},
   "outputs": [],
   "source": [
    "# Task: Import the pandas, numpy and joblib package\n",
    "import pandas as pd\n",
    "import numpy as np\n",
    "import joblib as job"
   ]
  },
  {
   "cell_type": "markdown",
   "id": "911b8028-e258-4282-81aa-bc238e9b8eab",
   "metadata": {},
   "source": [
    "**[1.2]** Task: Identify correct directory"
   ]
  },
  {
   "cell_type": "code",
   "execution_count": 592,
   "id": "ecaa7d55-841f-4e38-b018-d50ab7169d21",
   "metadata": {},
   "outputs": [
    {
     "name": "stdout",
     "output_type": "stream",
     "text": [
      "total 1040\n",
      "-rwxrwxrwx 1 root root  41952 Feb  8 10:25 sample_submission.csv\n",
      "-rwxrwxrwx 1 root root 322813 Feb  8 10:25 test.csv\n",
      "-rwxrwxrwx 1 root root 695622 Feb  8 10:25 train.csv\n"
     ]
    }
   ],
   "source": [
    "! ls -l ../data/raw"
   ]
  },
  {
   "cell_type": "markdown",
   "id": "e5f578bd-f9ef-4533-ac47-ee021a208e6f",
   "metadata": {},
   "source": [
    "**[1.3]** Task: Load Test and Train Files into Pandas Data Frames"
   ]
  },
  {
   "cell_type": "code",
   "execution_count": 593,
   "id": "77cc417f-bd39-4b91-abb2-492fcc64e236",
   "metadata": {},
   "outputs": [],
   "source": [
    "# File URLs\n",
    "file_path_train = \"../data/raw/train.csv\"\n",
    "file_path_test= \"../data/raw/test.csv\"\n",
    "\n",
    "# Load files into df_training and df_validation data frames\n",
    "df_train = pd.read_csv(file_path_train)\n",
    "df_test = pd.read_csv(file_path_test)"
   ]
  },
  {
   "cell_type": "markdown",
   "id": "2f83b321-4bd8-4bc6-9bbf-8aa375acff46",
   "metadata": {},
   "source": [
    "**[1.4]** Task: Display Train and Test Data Frames"
   ]
  },
  {
   "cell_type": "code",
   "execution_count": 594,
   "id": "796cd7e2-a3d3-4a2e-9770-17995c8032a9",
   "metadata": {},
   "outputs": [
    {
     "data": {
      "text/html": [
       "<div>\n",
       "<style scoped>\n",
       "    .dataframe tbody tr th:only-of-type {\n",
       "        vertical-align: middle;\n",
       "    }\n",
       "\n",
       "    .dataframe tbody tr th {\n",
       "        vertical-align: top;\n",
       "    }\n",
       "\n",
       "    .dataframe thead th {\n",
       "        text-align: right;\n",
       "    }\n",
       "</style>\n",
       "<table border=\"1\" class=\"dataframe\">\n",
       "  <thead>\n",
       "    <tr style=\"text-align: right;\">\n",
       "      <th></th>\n",
       "      <th>Id</th>\n",
       "      <th>GP</th>\n",
       "      <th>MIN</th>\n",
       "      <th>PTS</th>\n",
       "      <th>FGM</th>\n",
       "      <th>FGA</th>\n",
       "      <th>FG%</th>\n",
       "      <th>3P Made</th>\n",
       "      <th>3PA</th>\n",
       "      <th>3P%</th>\n",
       "      <th>...</th>\n",
       "      <th>FTA</th>\n",
       "      <th>FT%</th>\n",
       "      <th>OREB</th>\n",
       "      <th>DREB</th>\n",
       "      <th>REB</th>\n",
       "      <th>AST</th>\n",
       "      <th>STL</th>\n",
       "      <th>BLK</th>\n",
       "      <th>TOV</th>\n",
       "      <th>TARGET_5Yrs</th>\n",
       "    </tr>\n",
       "  </thead>\n",
       "  <tbody>\n",
       "    <tr>\n",
       "      <th>0</th>\n",
       "      <td>10556</td>\n",
       "      <td>80</td>\n",
       "      <td>24.3</td>\n",
       "      <td>7.8</td>\n",
       "      <td>3.0</td>\n",
       "      <td>6.4</td>\n",
       "      <td>45.7</td>\n",
       "      <td>0.1</td>\n",
       "      <td>0.3</td>\n",
       "      <td>22.6</td>\n",
       "      <td>...</td>\n",
       "      <td>2.9</td>\n",
       "      <td>72.1</td>\n",
       "      <td>2.2</td>\n",
       "      <td>2.0</td>\n",
       "      <td>3.8</td>\n",
       "      <td>3.2</td>\n",
       "      <td>1.1</td>\n",
       "      <td>0.2</td>\n",
       "      <td>1.6</td>\n",
       "      <td>1</td>\n",
       "    </tr>\n",
       "    <tr>\n",
       "      <th>1</th>\n",
       "      <td>5342</td>\n",
       "      <td>75</td>\n",
       "      <td>21.8</td>\n",
       "      <td>10.5</td>\n",
       "      <td>4.2</td>\n",
       "      <td>7.9</td>\n",
       "      <td>55.1</td>\n",
       "      <td>-0.3</td>\n",
       "      <td>-1.0</td>\n",
       "      <td>34.9</td>\n",
       "      <td>...</td>\n",
       "      <td>3.6</td>\n",
       "      <td>67.8</td>\n",
       "      <td>3.6</td>\n",
       "      <td>3.7</td>\n",
       "      <td>6.6</td>\n",
       "      <td>0.7</td>\n",
       "      <td>0.5</td>\n",
       "      <td>0.6</td>\n",
       "      <td>1.4</td>\n",
       "      <td>1</td>\n",
       "    </tr>\n",
       "    <tr>\n",
       "      <th>2</th>\n",
       "      <td>5716</td>\n",
       "      <td>85</td>\n",
       "      <td>19.1</td>\n",
       "      <td>4.5</td>\n",
       "      <td>1.9</td>\n",
       "      <td>4.5</td>\n",
       "      <td>42.8</td>\n",
       "      <td>0.4</td>\n",
       "      <td>1.2</td>\n",
       "      <td>34.3</td>\n",
       "      <td>...</td>\n",
       "      <td>0.6</td>\n",
       "      <td>75.7</td>\n",
       "      <td>0.6</td>\n",
       "      <td>1.8</td>\n",
       "      <td>2.4</td>\n",
       "      <td>0.8</td>\n",
       "      <td>0.4</td>\n",
       "      <td>0.2</td>\n",
       "      <td>0.6</td>\n",
       "      <td>1</td>\n",
       "    </tr>\n",
       "    <tr>\n",
       "      <th>3</th>\n",
       "      <td>13790</td>\n",
       "      <td>63</td>\n",
       "      <td>19.1</td>\n",
       "      <td>8.2</td>\n",
       "      <td>3.5</td>\n",
       "      <td>6.7</td>\n",
       "      <td>52.5</td>\n",
       "      <td>0.3</td>\n",
       "      <td>0.8</td>\n",
       "      <td>23.7</td>\n",
       "      <td>...</td>\n",
       "      <td>1.5</td>\n",
       "      <td>66.9</td>\n",
       "      <td>0.8</td>\n",
       "      <td>2.0</td>\n",
       "      <td>3.0</td>\n",
       "      <td>1.8</td>\n",
       "      <td>0.4</td>\n",
       "      <td>0.1</td>\n",
       "      <td>1.9</td>\n",
       "      <td>1</td>\n",
       "    </tr>\n",
       "    <tr>\n",
       "      <th>4</th>\n",
       "      <td>5470</td>\n",
       "      <td>63</td>\n",
       "      <td>17.8</td>\n",
       "      <td>3.7</td>\n",
       "      <td>1.7</td>\n",
       "      <td>3.4</td>\n",
       "      <td>50.8</td>\n",
       "      <td>0.5</td>\n",
       "      <td>1.4</td>\n",
       "      <td>13.7</td>\n",
       "      <td>...</td>\n",
       "      <td>0.5</td>\n",
       "      <td>54.0</td>\n",
       "      <td>2.4</td>\n",
       "      <td>2.7</td>\n",
       "      <td>4.9</td>\n",
       "      <td>0.4</td>\n",
       "      <td>0.4</td>\n",
       "      <td>0.6</td>\n",
       "      <td>0.7</td>\n",
       "      <td>1</td>\n",
       "    </tr>\n",
       "  </tbody>\n",
       "</table>\n",
       "<p>5 rows × 21 columns</p>\n",
       "</div>"
      ],
      "text/plain": [
       "      Id  GP   MIN   PTS  FGM  FGA   FG%  3P Made  3PA   3P%  ...  FTA   FT%  \\\n",
       "0  10556  80  24.3   7.8  3.0  6.4  45.7      0.1  0.3  22.6  ...  2.9  72.1   \n",
       "1   5342  75  21.8  10.5  4.2  7.9  55.1     -0.3 -1.0  34.9  ...  3.6  67.8   \n",
       "2   5716  85  19.1   4.5  1.9  4.5  42.8      0.4  1.2  34.3  ...  0.6  75.7   \n",
       "3  13790  63  19.1   8.2  3.5  6.7  52.5      0.3  0.8  23.7  ...  1.5  66.9   \n",
       "4   5470  63  17.8   3.7  1.7  3.4  50.8      0.5  1.4  13.7  ...  0.5  54.0   \n",
       "\n",
       "   OREB  DREB  REB  AST  STL  BLK  TOV  TARGET_5Yrs  \n",
       "0   2.2   2.0  3.8  3.2  1.1  0.2  1.6            1  \n",
       "1   3.6   3.7  6.6  0.7  0.5  0.6  1.4            1  \n",
       "2   0.6   1.8  2.4  0.8  0.4  0.2  0.6            1  \n",
       "3   0.8   2.0  3.0  1.8  0.4  0.1  1.9            1  \n",
       "4   2.4   2.7  4.9  0.4  0.4  0.6  0.7            1  \n",
       "\n",
       "[5 rows x 21 columns]"
      ]
     },
     "execution_count": 594,
     "metadata": {},
     "output_type": "execute_result"
    }
   ],
   "source": [
    "# Task: Display first 5 rows of df_train\n",
    "df_train.head()"
   ]
  },
  {
   "cell_type": "code",
   "execution_count": 595,
   "id": "98e41569-f531-4746-b6a1-ab7c6082edad",
   "metadata": {},
   "outputs": [
    {
     "data": {
      "text/html": [
       "<div>\n",
       "<style scoped>\n",
       "    .dataframe tbody tr th:only-of-type {\n",
       "        vertical-align: middle;\n",
       "    }\n",
       "\n",
       "    .dataframe tbody tr th {\n",
       "        vertical-align: top;\n",
       "    }\n",
       "\n",
       "    .dataframe thead th {\n",
       "        text-align: right;\n",
       "    }\n",
       "</style>\n",
       "<table border=\"1\" class=\"dataframe\">\n",
       "  <thead>\n",
       "    <tr style=\"text-align: right;\">\n",
       "      <th></th>\n",
       "      <th>Id</th>\n",
       "      <th>GP</th>\n",
       "      <th>MIN</th>\n",
       "      <th>PTS</th>\n",
       "      <th>FGM</th>\n",
       "      <th>FGA</th>\n",
       "      <th>FG%</th>\n",
       "      <th>3P Made</th>\n",
       "      <th>3PA</th>\n",
       "      <th>3P%</th>\n",
       "      <th>FTM</th>\n",
       "      <th>FTA</th>\n",
       "      <th>FT%</th>\n",
       "      <th>OREB</th>\n",
       "      <th>DREB</th>\n",
       "      <th>REB</th>\n",
       "      <th>AST</th>\n",
       "      <th>STL</th>\n",
       "      <th>BLK</th>\n",
       "      <th>TOV</th>\n",
       "    </tr>\n",
       "  </thead>\n",
       "  <tbody>\n",
       "    <tr>\n",
       "      <th>0</th>\n",
       "      <td>1</td>\n",
       "      <td>56</td>\n",
       "      <td>9.1</td>\n",
       "      <td>4.0</td>\n",
       "      <td>1.6</td>\n",
       "      <td>3.7</td>\n",
       "      <td>43.7</td>\n",
       "      <td>0.1</td>\n",
       "      <td>0.3</td>\n",
       "      <td>7.3</td>\n",
       "      <td>0.7</td>\n",
       "      <td>1.2</td>\n",
       "      <td>63.4</td>\n",
       "      <td>1.2</td>\n",
       "      <td>0.8</td>\n",
       "      <td>1.7</td>\n",
       "      <td>0.4</td>\n",
       "      <td>0.2</td>\n",
       "      <td>0.3</td>\n",
       "      <td>0.8</td>\n",
       "    </tr>\n",
       "    <tr>\n",
       "      <th>1</th>\n",
       "      <td>8194</td>\n",
       "      <td>43</td>\n",
       "      <td>19.3</td>\n",
       "      <td>10.1</td>\n",
       "      <td>3.7</td>\n",
       "      <td>8.1</td>\n",
       "      <td>46.0</td>\n",
       "      <td>0.6</td>\n",
       "      <td>1.7</td>\n",
       "      <td>35.1</td>\n",
       "      <td>1.8</td>\n",
       "      <td>2.5</td>\n",
       "      <td>75.3</td>\n",
       "      <td>0.5</td>\n",
       "      <td>0.9</td>\n",
       "      <td>1.5</td>\n",
       "      <td>3.5</td>\n",
       "      <td>0.6</td>\n",
       "      <td>-0.0</td>\n",
       "      <td>1.8</td>\n",
       "    </tr>\n",
       "    <tr>\n",
       "      <th>2</th>\n",
       "      <td>3</td>\n",
       "      <td>82</td>\n",
       "      <td>33.9</td>\n",
       "      <td>11.3</td>\n",
       "      <td>4.9</td>\n",
       "      <td>10.6</td>\n",
       "      <td>45.6</td>\n",
       "      <td>0.5</td>\n",
       "      <td>1.9</td>\n",
       "      <td>44.8</td>\n",
       "      <td>1.8</td>\n",
       "      <td>2.7</td>\n",
       "      <td>71.2</td>\n",
       "      <td>1.3</td>\n",
       "      <td>3.3</td>\n",
       "      <td>4.5</td>\n",
       "      <td>2.5</td>\n",
       "      <td>1.3</td>\n",
       "      <td>0.3</td>\n",
       "      <td>2.0</td>\n",
       "    </tr>\n",
       "    <tr>\n",
       "      <th>3</th>\n",
       "      <td>8196</td>\n",
       "      <td>86</td>\n",
       "      <td>44.7</td>\n",
       "      <td>18.8</td>\n",
       "      <td>6.8</td>\n",
       "      <td>15.9</td>\n",
       "      <td>42.9</td>\n",
       "      <td>0.5</td>\n",
       "      <td>1.8</td>\n",
       "      <td>13.5</td>\n",
       "      <td>4.5</td>\n",
       "      <td>6.3</td>\n",
       "      <td>70.9</td>\n",
       "      <td>1.5</td>\n",
       "      <td>3.2</td>\n",
       "      <td>5.0</td>\n",
       "      <td>4.1</td>\n",
       "      <td>0.9</td>\n",
       "      <td>0.1</td>\n",
       "      <td>3.6</td>\n",
       "    </tr>\n",
       "    <tr>\n",
       "      <th>4</th>\n",
       "      <td>8197</td>\n",
       "      <td>58</td>\n",
       "      <td>12.3</td>\n",
       "      <td>4.7</td>\n",
       "      <td>1.6</td>\n",
       "      <td>4.0</td>\n",
       "      <td>40.0</td>\n",
       "      <td>0.5</td>\n",
       "      <td>1.7</td>\n",
       "      <td>38.7</td>\n",
       "      <td>1.1</td>\n",
       "      <td>1.3</td>\n",
       "      <td>76.9</td>\n",
       "      <td>0.2</td>\n",
       "      <td>0.6</td>\n",
       "      <td>0.9</td>\n",
       "      <td>1.5</td>\n",
       "      <td>0.5</td>\n",
       "      <td>-0.4</td>\n",
       "      <td>0.9</td>\n",
       "    </tr>\n",
       "  </tbody>\n",
       "</table>\n",
       "</div>"
      ],
      "text/plain": [
       "     Id  GP   MIN   PTS  FGM   FGA   FG%  3P Made  3PA   3P%  FTM  FTA   FT%  \\\n",
       "0     1  56   9.1   4.0  1.6   3.7  43.7      0.1  0.3   7.3  0.7  1.2  63.4   \n",
       "1  8194  43  19.3  10.1  3.7   8.1  46.0      0.6  1.7  35.1  1.8  2.5  75.3   \n",
       "2     3  82  33.9  11.3  4.9  10.6  45.6      0.5  1.9  44.8  1.8  2.7  71.2   \n",
       "3  8196  86  44.7  18.8  6.8  15.9  42.9      0.5  1.8  13.5  4.5  6.3  70.9   \n",
       "4  8197  58  12.3   4.7  1.6   4.0  40.0      0.5  1.7  38.7  1.1  1.3  76.9   \n",
       "\n",
       "   OREB  DREB  REB  AST  STL  BLK  TOV  \n",
       "0   1.2   0.8  1.7  0.4  0.2  0.3  0.8  \n",
       "1   0.5   0.9  1.5  3.5  0.6 -0.0  1.8  \n",
       "2   1.3   3.3  4.5  2.5  1.3  0.3  2.0  \n",
       "3   1.5   3.2  5.0  4.1  0.9  0.1  3.6  \n",
       "4   0.2   0.6  0.9  1.5  0.5 -0.4  0.9  "
      ]
     },
     "execution_count": 595,
     "metadata": {},
     "output_type": "execute_result"
    }
   ],
   "source": [
    "# Task: Display first 5 rows of df_train\n",
    "df_test.head()"
   ]
  },
  {
   "cell_type": "markdown",
   "id": "2e213bb3-e474-4f68-b590-e37b3c6220e0",
   "metadata": {},
   "source": [
    "**Observation:** Both datasets are identical with the exception the Test Dataset does not have the Target Variable. This is to be expected"
   ]
  },
  {
   "cell_type": "markdown",
   "id": "516cb05f-2071-4338-9ea9-8e5b35d4d726",
   "metadata": {},
   "source": [
    "**[1.5]** Task: Display Train and Test Shape"
   ]
  },
  {
   "cell_type": "code",
   "execution_count": 596,
   "id": "b5e1115d-6a0a-4978-99d6-f8116e2006ba",
   "metadata": {},
   "outputs": [
    {
     "data": {
      "text/plain": [
       "(8000, 21)"
      ]
     },
     "execution_count": 596,
     "metadata": {},
     "output_type": "execute_result"
    }
   ],
   "source": [
    "# Task: Display shape of df_train\n",
    "df_train.shape"
   ]
  },
  {
   "cell_type": "code",
   "execution_count": 597,
   "id": "bf3ced10-248d-41e0-b950-44ae01fcb43f",
   "metadata": {},
   "outputs": [
    {
     "data": {
      "text/plain": [
       "(3799, 20)"
      ]
     },
     "execution_count": 597,
     "metadata": {},
     "output_type": "execute_result"
    }
   ],
   "source": [
    "# Task: Display shape of df_test\n",
    "df_test.shape"
   ]
  },
  {
   "cell_type": "markdown",
   "id": "97e2adda-fef2-4f57-8a06-1451d2ac805c",
   "metadata": {},
   "source": [
    "**[1.6]** Task: Display descriptive statistics for Train and Test Datasets"
   ]
  },
  {
   "cell_type": "code",
   "execution_count": 598,
   "id": "73822357-d868-4f05-a90f-553893940608",
   "metadata": {},
   "outputs": [
    {
     "data": {
      "text/html": [
       "<div>\n",
       "<style scoped>\n",
       "    .dataframe tbody tr th:only-of-type {\n",
       "        vertical-align: middle;\n",
       "    }\n",
       "\n",
       "    .dataframe tbody tr th {\n",
       "        vertical-align: top;\n",
       "    }\n",
       "\n",
       "    .dataframe thead th {\n",
       "        text-align: right;\n",
       "    }\n",
       "</style>\n",
       "<table border=\"1\" class=\"dataframe\">\n",
       "  <thead>\n",
       "    <tr style=\"text-align: right;\">\n",
       "      <th></th>\n",
       "      <th>Id</th>\n",
       "      <th>GP</th>\n",
       "      <th>MIN</th>\n",
       "      <th>PTS</th>\n",
       "      <th>FGM</th>\n",
       "      <th>FGA</th>\n",
       "      <th>FG%</th>\n",
       "      <th>3P Made</th>\n",
       "      <th>3PA</th>\n",
       "      <th>3P%</th>\n",
       "      <th>...</th>\n",
       "      <th>FTA</th>\n",
       "      <th>FT%</th>\n",
       "      <th>OREB</th>\n",
       "      <th>DREB</th>\n",
       "      <th>REB</th>\n",
       "      <th>AST</th>\n",
       "      <th>STL</th>\n",
       "      <th>BLK</th>\n",
       "      <th>TOV</th>\n",
       "      <th>TARGET_5Yrs</th>\n",
       "    </tr>\n",
       "  </thead>\n",
       "  <tbody>\n",
       "    <tr>\n",
       "      <th>count</th>\n",
       "      <td>8000.000000</td>\n",
       "      <td>8000.000000</td>\n",
       "      <td>8000.000000</td>\n",
       "      <td>8000.000000</td>\n",
       "      <td>8000.000000</td>\n",
       "      <td>8000.000000</td>\n",
       "      <td>8000.000000</td>\n",
       "      <td>8000.000000</td>\n",
       "      <td>8000.000000</td>\n",
       "      <td>8000.000000</td>\n",
       "      <td>...</td>\n",
       "      <td>8000.000000</td>\n",
       "      <td>8000.000000</td>\n",
       "      <td>8000.000000</td>\n",
       "      <td>8000.000000</td>\n",
       "      <td>8000.000000</td>\n",
       "      <td>8000.000000</td>\n",
       "      <td>8000.000000</td>\n",
       "      <td>8000.000000</td>\n",
       "      <td>8000.000000</td>\n",
       "      <td>8000.000000</td>\n",
       "    </tr>\n",
       "    <tr>\n",
       "      <th>mean</th>\n",
       "      <td>6856.971000</td>\n",
       "      <td>62.777875</td>\n",
       "      <td>18.576663</td>\n",
       "      <td>7.267087</td>\n",
       "      <td>2.807037</td>\n",
       "      <td>6.231213</td>\n",
       "      <td>44.608900</td>\n",
       "      <td>0.264525</td>\n",
       "      <td>0.816563</td>\n",
       "      <td>19.583700</td>\n",
       "      <td>...</td>\n",
       "      <td>1.947787</td>\n",
       "      <td>71.365825</td>\n",
       "      <td>1.077838</td>\n",
       "      <td>2.168500</td>\n",
       "      <td>3.245300</td>\n",
       "      <td>1.624513</td>\n",
       "      <td>0.648688</td>\n",
       "      <td>0.245212</td>\n",
       "      <td>1.257762</td>\n",
       "      <td>0.833625</td>\n",
       "    </tr>\n",
       "    <tr>\n",
       "      <th>std</th>\n",
       "      <td>3977.447579</td>\n",
       "      <td>17.118774</td>\n",
       "      <td>8.935263</td>\n",
       "      <td>4.318732</td>\n",
       "      <td>1.693373</td>\n",
       "      <td>3.584559</td>\n",
       "      <td>6.155453</td>\n",
       "      <td>0.384093</td>\n",
       "      <td>1.060964</td>\n",
       "      <td>16.003155</td>\n",
       "      <td>...</td>\n",
       "      <td>1.252352</td>\n",
       "      <td>10.430447</td>\n",
       "      <td>0.785670</td>\n",
       "      <td>1.392224</td>\n",
       "      <td>2.085154</td>\n",
       "      <td>1.355986</td>\n",
       "      <td>0.407626</td>\n",
       "      <td>0.821037</td>\n",
       "      <td>0.723270</td>\n",
       "      <td>0.372440</td>\n",
       "    </tr>\n",
       "    <tr>\n",
       "      <th>min</th>\n",
       "      <td>4.000000</td>\n",
       "      <td>-8.000000</td>\n",
       "      <td>2.900000</td>\n",
       "      <td>0.800000</td>\n",
       "      <td>0.300000</td>\n",
       "      <td>0.800000</td>\n",
       "      <td>21.300000</td>\n",
       "      <td>-1.100000</td>\n",
       "      <td>-3.100000</td>\n",
       "      <td>-38.500000</td>\n",
       "      <td>...</td>\n",
       "      <td>0.000000</td>\n",
       "      <td>-13.300000</td>\n",
       "      <td>0.000000</td>\n",
       "      <td>0.200000</td>\n",
       "      <td>0.300000</td>\n",
       "      <td>0.000000</td>\n",
       "      <td>0.000000</td>\n",
       "      <td>-17.900000</td>\n",
       "      <td>0.100000</td>\n",
       "      <td>0.000000</td>\n",
       "    </tr>\n",
       "    <tr>\n",
       "      <th>25%</th>\n",
       "      <td>3413.750000</td>\n",
       "      <td>51.000000</td>\n",
       "      <td>12.000000</td>\n",
       "      <td>4.100000</td>\n",
       "      <td>1.600000</td>\n",
       "      <td>3.600000</td>\n",
       "      <td>40.400000</td>\n",
       "      <td>0.000000</td>\n",
       "      <td>0.100000</td>\n",
       "      <td>8.400000</td>\n",
       "      <td>...</td>\n",
       "      <td>1.000000</td>\n",
       "      <td>65.000000</td>\n",
       "      <td>0.500000</td>\n",
       "      <td>1.100000</td>\n",
       "      <td>1.700000</td>\n",
       "      <td>0.700000</td>\n",
       "      <td>0.300000</td>\n",
       "      <td>0.100000</td>\n",
       "      <td>0.700000</td>\n",
       "      <td>1.000000</td>\n",
       "    </tr>\n",
       "    <tr>\n",
       "      <th>50%</th>\n",
       "      <td>6787.500000</td>\n",
       "      <td>63.000000</td>\n",
       "      <td>16.800000</td>\n",
       "      <td>6.300000</td>\n",
       "      <td>2.400000</td>\n",
       "      <td>5.400000</td>\n",
       "      <td>44.400000</td>\n",
       "      <td>0.300000</td>\n",
       "      <td>0.800000</td>\n",
       "      <td>19.500000</td>\n",
       "      <td>...</td>\n",
       "      <td>1.700000</td>\n",
       "      <td>71.400000</td>\n",
       "      <td>0.900000</td>\n",
       "      <td>1.900000</td>\n",
       "      <td>2.800000</td>\n",
       "      <td>1.300000</td>\n",
       "      <td>0.600000</td>\n",
       "      <td>0.200000</td>\n",
       "      <td>1.100000</td>\n",
       "      <td>1.000000</td>\n",
       "    </tr>\n",
       "    <tr>\n",
       "      <th>75%</th>\n",
       "      <td>10299.250000</td>\n",
       "      <td>74.000000</td>\n",
       "      <td>23.500000</td>\n",
       "      <td>9.500000</td>\n",
       "      <td>3.700000</td>\n",
       "      <td>8.100000</td>\n",
       "      <td>48.700000</td>\n",
       "      <td>0.500000</td>\n",
       "      <td>1.500000</td>\n",
       "      <td>30.600000</td>\n",
       "      <td>...</td>\n",
       "      <td>2.600000</td>\n",
       "      <td>77.500000</td>\n",
       "      <td>1.500000</td>\n",
       "      <td>2.900000</td>\n",
       "      <td>4.300000</td>\n",
       "      <td>2.200000</td>\n",
       "      <td>0.900000</td>\n",
       "      <td>0.400000</td>\n",
       "      <td>1.600000</td>\n",
       "      <td>1.000000</td>\n",
       "    </tr>\n",
       "    <tr>\n",
       "      <th>max</th>\n",
       "      <td>13798.000000</td>\n",
       "      <td>123.000000</td>\n",
       "      <td>73.800000</td>\n",
       "      <td>34.200000</td>\n",
       "      <td>13.100000</td>\n",
       "      <td>28.900000</td>\n",
       "      <td>67.200000</td>\n",
       "      <td>1.700000</td>\n",
       "      <td>4.700000</td>\n",
       "      <td>82.100000</td>\n",
       "      <td>...</td>\n",
       "      <td>11.100000</td>\n",
       "      <td>168.900000</td>\n",
       "      <td>5.500000</td>\n",
       "      <td>11.000000</td>\n",
       "      <td>15.900000</td>\n",
       "      <td>12.800000</td>\n",
       "      <td>3.600000</td>\n",
       "      <td>18.900000</td>\n",
       "      <td>5.300000</td>\n",
       "      <td>1.000000</td>\n",
       "    </tr>\n",
       "  </tbody>\n",
       "</table>\n",
       "<p>8 rows × 21 columns</p>\n",
       "</div>"
      ],
      "text/plain": [
       "                 Id           GP          MIN          PTS          FGM  \\\n",
       "count   8000.000000  8000.000000  8000.000000  8000.000000  8000.000000   \n",
       "mean    6856.971000    62.777875    18.576663     7.267087     2.807037   \n",
       "std     3977.447579    17.118774     8.935263     4.318732     1.693373   \n",
       "min        4.000000    -8.000000     2.900000     0.800000     0.300000   \n",
       "25%     3413.750000    51.000000    12.000000     4.100000     1.600000   \n",
       "50%     6787.500000    63.000000    16.800000     6.300000     2.400000   \n",
       "75%    10299.250000    74.000000    23.500000     9.500000     3.700000   \n",
       "max    13798.000000   123.000000    73.800000    34.200000    13.100000   \n",
       "\n",
       "               FGA          FG%      3P Made          3PA          3P%  ...  \\\n",
       "count  8000.000000  8000.000000  8000.000000  8000.000000  8000.000000  ...   \n",
       "mean      6.231213    44.608900     0.264525     0.816563    19.583700  ...   \n",
       "std       3.584559     6.155453     0.384093     1.060964    16.003155  ...   \n",
       "min       0.800000    21.300000    -1.100000    -3.100000   -38.500000  ...   \n",
       "25%       3.600000    40.400000     0.000000     0.100000     8.400000  ...   \n",
       "50%       5.400000    44.400000     0.300000     0.800000    19.500000  ...   \n",
       "75%       8.100000    48.700000     0.500000     1.500000    30.600000  ...   \n",
       "max      28.900000    67.200000     1.700000     4.700000    82.100000  ...   \n",
       "\n",
       "               FTA          FT%         OREB         DREB          REB  \\\n",
       "count  8000.000000  8000.000000  8000.000000  8000.000000  8000.000000   \n",
       "mean      1.947787    71.365825     1.077838     2.168500     3.245300   \n",
       "std       1.252352    10.430447     0.785670     1.392224     2.085154   \n",
       "min       0.000000   -13.300000     0.000000     0.200000     0.300000   \n",
       "25%       1.000000    65.000000     0.500000     1.100000     1.700000   \n",
       "50%       1.700000    71.400000     0.900000     1.900000     2.800000   \n",
       "75%       2.600000    77.500000     1.500000     2.900000     4.300000   \n",
       "max      11.100000   168.900000     5.500000    11.000000    15.900000   \n",
       "\n",
       "               AST          STL          BLK          TOV  TARGET_5Yrs  \n",
       "count  8000.000000  8000.000000  8000.000000  8000.000000  8000.000000  \n",
       "mean      1.624513     0.648688     0.245212     1.257762     0.833625  \n",
       "std       1.355986     0.407626     0.821037     0.723270     0.372440  \n",
       "min       0.000000     0.000000   -17.900000     0.100000     0.000000  \n",
       "25%       0.700000     0.300000     0.100000     0.700000     1.000000  \n",
       "50%       1.300000     0.600000     0.200000     1.100000     1.000000  \n",
       "75%       2.200000     0.900000     0.400000     1.600000     1.000000  \n",
       "max      12.800000     3.600000    18.900000     5.300000     1.000000  \n",
       "\n",
       "[8 rows x 21 columns]"
      ]
     },
     "execution_count": 598,
     "metadata": {},
     "output_type": "execute_result"
    }
   ],
   "source": [
    "# Task: Describe df_train\n",
    "df_train.describe()"
   ]
  },
  {
   "cell_type": "markdown",
   "id": "bcdb171e-236e-4c50-a178-cceacccbebd8",
   "metadata": {},
   "source": [
    "**Observations**\n",
    "\n",
    "**Outlier - Minimum Values** - Negative for GP, 3P Made, 3PA, FTM, BLK\n",
    "* GP: -8 games\n",
    "* 3P Made: -1.1 \n",
    "* 3PA: -3.1\n",
    "* FTM: \n",
    "* BLK: -17.9\n",
    "\n",
    "**Outlier - Maximum Values**\n",
    "* MIN - A max value of 73.8 minutes played per game appears high, particularly with 75% at 23.5 - may have some outlier records\n",
    "* a NBA Game has 48 minutes per game\n"
   ]
  },
  {
   "cell_type": "code",
   "execution_count": 599,
   "id": "a156bc81-95de-491f-ade7-3db6c7b17032",
   "metadata": {},
   "outputs": [
    {
     "data": {
      "text/html": [
       "<div>\n",
       "<style scoped>\n",
       "    .dataframe tbody tr th:only-of-type {\n",
       "        vertical-align: middle;\n",
       "    }\n",
       "\n",
       "    .dataframe tbody tr th {\n",
       "        vertical-align: top;\n",
       "    }\n",
       "\n",
       "    .dataframe thead th {\n",
       "        text-align: right;\n",
       "    }\n",
       "</style>\n",
       "<table border=\"1\" class=\"dataframe\">\n",
       "  <thead>\n",
       "    <tr style=\"text-align: right;\">\n",
       "      <th></th>\n",
       "      <th>Id</th>\n",
       "      <th>GP</th>\n",
       "      <th>MIN</th>\n",
       "      <th>PTS</th>\n",
       "      <th>FGM</th>\n",
       "      <th>FGA</th>\n",
       "      <th>FG%</th>\n",
       "      <th>3P Made</th>\n",
       "      <th>3PA</th>\n",
       "      <th>3P%</th>\n",
       "      <th>FTM</th>\n",
       "      <th>FTA</th>\n",
       "      <th>FT%</th>\n",
       "      <th>OREB</th>\n",
       "      <th>DREB</th>\n",
       "      <th>REB</th>\n",
       "      <th>AST</th>\n",
       "      <th>STL</th>\n",
       "      <th>BLK</th>\n",
       "      <th>TOV</th>\n",
       "    </tr>\n",
       "  </thead>\n",
       "  <tbody>\n",
       "    <tr>\n",
       "      <th>count</th>\n",
       "      <td>3799.000000</td>\n",
       "      <td>3799.000000</td>\n",
       "      <td>3799.000000</td>\n",
       "      <td>3799.000000</td>\n",
       "      <td>3799.000000</td>\n",
       "      <td>3799.000000</td>\n",
       "      <td>3799.000000</td>\n",
       "      <td>3799.000000</td>\n",
       "      <td>3799.000000</td>\n",
       "      <td>3799.000000</td>\n",
       "      <td>3799.000000</td>\n",
       "      <td>3799.000000</td>\n",
       "      <td>3799.000000</td>\n",
       "      <td>3799.000000</td>\n",
       "      <td>3799.000000</td>\n",
       "      <td>3799.000000</td>\n",
       "      <td>3799.000000</td>\n",
       "      <td>3799.000000</td>\n",
       "      <td>3799.000000</td>\n",
       "      <td>3799.000000</td>\n",
       "    </tr>\n",
       "    <tr>\n",
       "      <th>mean</th>\n",
       "      <td>7010.614109</td>\n",
       "      <td>62.853909</td>\n",
       "      <td>18.650224</td>\n",
       "      <td>7.328034</td>\n",
       "      <td>2.835404</td>\n",
       "      <td>6.302580</td>\n",
       "      <td>44.599079</td>\n",
       "      <td>0.255962</td>\n",
       "      <td>0.796920</td>\n",
       "      <td>19.234746</td>\n",
       "      <td>1.399842</td>\n",
       "      <td>1.953567</td>\n",
       "      <td>71.612924</td>\n",
       "      <td>1.096025</td>\n",
       "      <td>2.179495</td>\n",
       "      <td>3.275783</td>\n",
       "      <td>1.636483</td>\n",
       "      <td>0.653593</td>\n",
       "      <td>0.257726</td>\n",
       "      <td>1.257910</td>\n",
       "    </tr>\n",
       "    <tr>\n",
       "      <th>std</th>\n",
       "      <td>3954.173641</td>\n",
       "      <td>17.151740</td>\n",
       "      <td>8.727259</td>\n",
       "      <td>4.294724</td>\n",
       "      <td>1.688427</td>\n",
       "      <td>3.579221</td>\n",
       "      <td>6.040168</td>\n",
       "      <td>0.380987</td>\n",
       "      <td>1.052862</td>\n",
       "      <td>15.968989</td>\n",
       "      <td>0.926140</td>\n",
       "      <td>1.250376</td>\n",
       "      <td>10.457336</td>\n",
       "      <td>0.785678</td>\n",
       "      <td>1.371935</td>\n",
       "      <td>2.070646</td>\n",
       "      <td>1.335496</td>\n",
       "      <td>0.410573</td>\n",
       "      <td>0.639660</td>\n",
       "      <td>0.712449</td>\n",
       "    </tr>\n",
       "    <tr>\n",
       "      <th>min</th>\n",
       "      <td>1.000000</td>\n",
       "      <td>6.000000</td>\n",
       "      <td>3.700000</td>\n",
       "      <td>0.700000</td>\n",
       "      <td>0.300000</td>\n",
       "      <td>0.800000</td>\n",
       "      <td>25.100000</td>\n",
       "      <td>-1.000000</td>\n",
       "      <td>-2.700000</td>\n",
       "      <td>-38.000000</td>\n",
       "      <td>0.000000</td>\n",
       "      <td>0.000000</td>\n",
       "      <td>23.700000</td>\n",
       "      <td>0.000000</td>\n",
       "      <td>0.200000</td>\n",
       "      <td>0.300000</td>\n",
       "      <td>0.000000</td>\n",
       "      <td>0.000000</td>\n",
       "      <td>-7.100000</td>\n",
       "      <td>0.100000</td>\n",
       "    </tr>\n",
       "    <tr>\n",
       "      <th>25%</th>\n",
       "      <td>3644.000000</td>\n",
       "      <td>51.000000</td>\n",
       "      <td>12.200000</td>\n",
       "      <td>4.200000</td>\n",
       "      <td>1.600000</td>\n",
       "      <td>3.700000</td>\n",
       "      <td>40.500000</td>\n",
       "      <td>0.000000</td>\n",
       "      <td>0.100000</td>\n",
       "      <td>8.500000</td>\n",
       "      <td>0.700000</td>\n",
       "      <td>1.000000</td>\n",
       "      <td>65.000000</td>\n",
       "      <td>0.500000</td>\n",
       "      <td>1.200000</td>\n",
       "      <td>1.800000</td>\n",
       "      <td>0.600000</td>\n",
       "      <td>0.400000</td>\n",
       "      <td>0.100000</td>\n",
       "      <td>0.700000</td>\n",
       "    </tr>\n",
       "    <tr>\n",
       "      <th>50%</th>\n",
       "      <td>7062.000000</td>\n",
       "      <td>63.000000</td>\n",
       "      <td>17.000000</td>\n",
       "      <td>6.400000</td>\n",
       "      <td>2.500000</td>\n",
       "      <td>5.500000</td>\n",
       "      <td>44.600000</td>\n",
       "      <td>0.300000</td>\n",
       "      <td>0.800000</td>\n",
       "      <td>19.400000</td>\n",
       "      <td>1.200000</td>\n",
       "      <td>1.700000</td>\n",
       "      <td>71.500000</td>\n",
       "      <td>0.900000</td>\n",
       "      <td>1.900000</td>\n",
       "      <td>2.800000</td>\n",
       "      <td>1.300000</td>\n",
       "      <td>0.600000</td>\n",
       "      <td>0.200000</td>\n",
       "      <td>1.100000</td>\n",
       "    </tr>\n",
       "    <tr>\n",
       "      <th>75%</th>\n",
       "      <td>10402.500000</td>\n",
       "      <td>74.000000</td>\n",
       "      <td>23.300000</td>\n",
       "      <td>9.400000</td>\n",
       "      <td>3.700000</td>\n",
       "      <td>8.100000</td>\n",
       "      <td>48.500000</td>\n",
       "      <td>0.500000</td>\n",
       "      <td>1.500000</td>\n",
       "      <td>30.250000</td>\n",
       "      <td>1.900000</td>\n",
       "      <td>2.600000</td>\n",
       "      <td>78.000000</td>\n",
       "      <td>1.500000</td>\n",
       "      <td>2.900000</td>\n",
       "      <td>4.300000</td>\n",
       "      <td>2.300000</td>\n",
       "      <td>0.900000</td>\n",
       "      <td>0.400000</td>\n",
       "      <td>1.600000</td>\n",
       "    </tr>\n",
       "    <tr>\n",
       "      <th>max</th>\n",
       "      <td>13792.000000</td>\n",
       "      <td>126.000000</td>\n",
       "      <td>68.000000</td>\n",
       "      <td>33.000000</td>\n",
       "      <td>13.400000</td>\n",
       "      <td>26.200000</td>\n",
       "      <td>74.600000</td>\n",
       "      <td>1.600000</td>\n",
       "      <td>4.300000</td>\n",
       "      <td>73.800000</td>\n",
       "      <td>7.800000</td>\n",
       "      <td>9.800000</td>\n",
       "      <td>127.100000</td>\n",
       "      <td>6.900000</td>\n",
       "      <td>12.000000</td>\n",
       "      <td>18.500000</td>\n",
       "      <td>9.000000</td>\n",
       "      <td>2.700000</td>\n",
       "      <td>14.800000</td>\n",
       "      <td>5.200000</td>\n",
       "    </tr>\n",
       "  </tbody>\n",
       "</table>\n",
       "</div>"
      ],
      "text/plain": [
       "                 Id           GP          MIN          PTS          FGM  \\\n",
       "count   3799.000000  3799.000000  3799.000000  3799.000000  3799.000000   \n",
       "mean    7010.614109    62.853909    18.650224     7.328034     2.835404   \n",
       "std     3954.173641    17.151740     8.727259     4.294724     1.688427   \n",
       "min        1.000000     6.000000     3.700000     0.700000     0.300000   \n",
       "25%     3644.000000    51.000000    12.200000     4.200000     1.600000   \n",
       "50%     7062.000000    63.000000    17.000000     6.400000     2.500000   \n",
       "75%    10402.500000    74.000000    23.300000     9.400000     3.700000   \n",
       "max    13792.000000   126.000000    68.000000    33.000000    13.400000   \n",
       "\n",
       "               FGA          FG%      3P Made          3PA          3P%  \\\n",
       "count  3799.000000  3799.000000  3799.000000  3799.000000  3799.000000   \n",
       "mean      6.302580    44.599079     0.255962     0.796920    19.234746   \n",
       "std       3.579221     6.040168     0.380987     1.052862    15.968989   \n",
       "min       0.800000    25.100000    -1.000000    -2.700000   -38.000000   \n",
       "25%       3.700000    40.500000     0.000000     0.100000     8.500000   \n",
       "50%       5.500000    44.600000     0.300000     0.800000    19.400000   \n",
       "75%       8.100000    48.500000     0.500000     1.500000    30.250000   \n",
       "max      26.200000    74.600000     1.600000     4.300000    73.800000   \n",
       "\n",
       "               FTM          FTA          FT%         OREB         DREB  \\\n",
       "count  3799.000000  3799.000000  3799.000000  3799.000000  3799.000000   \n",
       "mean      1.399842     1.953567    71.612924     1.096025     2.179495   \n",
       "std       0.926140     1.250376    10.457336     0.785678     1.371935   \n",
       "min       0.000000     0.000000    23.700000     0.000000     0.200000   \n",
       "25%       0.700000     1.000000    65.000000     0.500000     1.200000   \n",
       "50%       1.200000     1.700000    71.500000     0.900000     1.900000   \n",
       "75%       1.900000     2.600000    78.000000     1.500000     2.900000   \n",
       "max       7.800000     9.800000   127.100000     6.900000    12.000000   \n",
       "\n",
       "               REB          AST          STL          BLK          TOV  \n",
       "count  3799.000000  3799.000000  3799.000000  3799.000000  3799.000000  \n",
       "mean      3.275783     1.636483     0.653593     0.257726     1.257910  \n",
       "std       2.070646     1.335496     0.410573     0.639660     0.712449  \n",
       "min       0.300000     0.000000     0.000000    -7.100000     0.100000  \n",
       "25%       1.800000     0.600000     0.400000     0.100000     0.700000  \n",
       "50%       2.800000     1.300000     0.600000     0.200000     1.100000  \n",
       "75%       4.300000     2.300000     0.900000     0.400000     1.600000  \n",
       "max      18.500000     9.000000     2.700000    14.800000     5.200000  "
      ]
     },
     "execution_count": 599,
     "metadata": {},
     "output_type": "execute_result"
    }
   ],
   "source": [
    "# Task: Describe df_train\n",
    "df_test.describe()"
   ]
  },
  {
   "cell_type": "markdown",
   "id": "7310f492-1cc8-44af-9711-e2a4dc5eb298",
   "metadata": {},
   "source": [
    "**Obervations**\n",
    "* No Negative minimums\n",
    "* Outlier Maximum Values - MIN - a max value of 68 mins per game appears high\n",
    "* Mean and Standard Deviation between train and test appear to be reasonably well aligned\n"
   ]
  },
  {
   "cell_type": "markdown",
   "id": "eb650160-6861-47f3-b9fa-107128596366",
   "metadata": {},
   "source": [
    "**[1.7]** Task: Identify Missing Values"
   ]
  },
  {
   "cell_type": "code",
   "execution_count": 600,
   "id": "1a4c7f4c-85e3-4407-b1b2-949ae40145d2",
   "metadata": {},
   "outputs": [
    {
     "name": "stdout",
     "output_type": "stream",
     "text": [
      "<class 'pandas.core.frame.DataFrame'>\n",
      "RangeIndex: 8000 entries, 0 to 7999\n",
      "Data columns (total 21 columns):\n",
      " #   Column       Non-Null Count  Dtype  \n",
      "---  ------       --------------  -----  \n",
      " 0   Id           8000 non-null   int64  \n",
      " 1   GP           8000 non-null   int64  \n",
      " 2   MIN          8000 non-null   float64\n",
      " 3   PTS          8000 non-null   float64\n",
      " 4   FGM          8000 non-null   float64\n",
      " 5   FGA          8000 non-null   float64\n",
      " 6   FG%          8000 non-null   float64\n",
      " 7   3P Made      8000 non-null   float64\n",
      " 8   3PA          8000 non-null   float64\n",
      " 9   3P%          8000 non-null   float64\n",
      " 10  FTM          8000 non-null   float64\n",
      " 11  FTA          8000 non-null   float64\n",
      " 12  FT%          8000 non-null   float64\n",
      " 13  OREB         8000 non-null   float64\n",
      " 14  DREB         8000 non-null   float64\n",
      " 15  REB          8000 non-null   float64\n",
      " 16  AST          8000 non-null   float64\n",
      " 17  STL          8000 non-null   float64\n",
      " 18  BLK          8000 non-null   float64\n",
      " 19  TOV          8000 non-null   float64\n",
      " 20  TARGET_5Yrs  8000 non-null   int64  \n",
      "dtypes: float64(18), int64(3)\n",
      "memory usage: 1.3 MB\n"
     ]
    }
   ],
   "source": [
    "# Task: Display Summary (Info)\n",
    "df_train.info()"
   ]
  },
  {
   "cell_type": "markdown",
   "id": "7f2e0cd0-6f96-47ff-89fc-e6c99ccb5bea",
   "metadata": {},
   "source": [
    "**Oberservation** \n",
    "There are no missing values in this dataset"
   ]
  },
  {
   "cell_type": "markdown",
   "id": "4b9a1024-f701-43b5-93d6-0d15272de31e",
   "metadata": {},
   "source": [
    "**[1.8]** Task: Investigate Column Details - Find Min Values for each columns"
   ]
  },
  {
   "cell_type": "code",
   "execution_count": 601,
   "id": "0444afea-22a8-4672-8c22-45001d34a454",
   "metadata": {},
   "outputs": [
    {
     "data": {
      "text/plain": [
       "Id              4.0\n",
       "GP             -8.0\n",
       "MIN             2.9\n",
       "PTS             0.8\n",
       "FGM             0.3\n",
       "FGA             0.8\n",
       "FG%            21.3\n",
       "3P Made        -1.1\n",
       "3PA            -3.1\n",
       "3P%           -38.5\n",
       "FTM             0.0\n",
       "FTA             0.0\n",
       "FT%           -13.3\n",
       "OREB            0.0\n",
       "DREB            0.2\n",
       "REB             0.3\n",
       "AST             0.0\n",
       "STL             0.0\n",
       "BLK           -17.9\n",
       "TOV             0.1\n",
       "TARGET_5Yrs     0.0\n",
       "dtype: float64"
      ]
     },
     "execution_count": 601,
     "metadata": {},
     "output_type": "execute_result"
    }
   ],
   "source": [
    "df_train.min()"
   ]
  },
  {
   "cell_type": "markdown",
   "id": "970c31cf-796c-4207-b9a2-523e5651ed85",
   "metadata": {},
   "source": [
    "**[1.8.1]** Task: Find Rows where GP (Games Played) is negative"
   ]
  },
  {
   "cell_type": "code",
   "execution_count": 602,
   "id": "670bb7c1-e3bc-4a62-86af-3607ae155692",
   "metadata": {},
   "outputs": [
    {
     "name": "stdout",
     "output_type": "stream",
     "text": [
      "        Id  GP  MIN  PTS  FGM  FGA   FG%  3P Made  3PA   3P%  ...  FTA   FT%  \\\n",
      "5323  1756  -8  5.8  1.5  0.6  1.9  33.6      0.0  0.2  13.9  ...  0.2  63.6   \n",
      "7400  7478  -3  6.1  2.1  0.8  1.9  39.1     -0.2 -0.5  19.2  ...  0.9  70.2   \n",
      "\n",
      "      OREB  DREB  REB  AST  STL  BLK  TOV  TARGET_5Yrs  \n",
      "5323   0.0   0.5  0.6  0.2  0.1 -0.5  0.3            0  \n",
      "7400   0.6   0.4  0.8  0.1  0.3  0.1  0.4            1  \n",
      "\n",
      "[2 rows x 21 columns]\n"
     ]
    }
   ],
   "source": [
    "df_train_mask_GP = df_train['GP'] < 0\n",
    "df_train_GP_less_zero = df_train[df_train_mask_GP]\n",
    "print(df_train_GP_less_zero)"
   ]
  },
  {
   "cell_type": "markdown",
   "id": "e40e184b-2351-46ce-b2ad-98da15d27d3d",
   "metadata": {},
   "source": [
    "**[1.8.2]** Task: Find Rows where 3P Made (3 Points Made) is negative"
   ]
  },
  {
   "cell_type": "code",
   "execution_count": 603,
   "id": "7f7c14b6-d592-4ba0-92cc-1c66b310db4f",
   "metadata": {},
   "outputs": [
    {
     "name": "stdout",
     "output_type": "stream",
     "text": [
      "         Id  GP   MIN  3P Made  3PA   3P%\n",
      "1      5342  75  21.8     -0.3 -1.0  34.9\n",
      "5      1961  88  20.0     -0.2 -0.5   6.9\n",
      "12    13144  41   9.8     -0.4 -0.6  -4.7\n",
      "18     3062  83   8.5     -0.3 -1.0   5.6\n",
      "19      829  64  10.4     -0.1 -0.2  -6.1\n",
      "...     ...  ..   ...      ...  ...   ...\n",
      "7990  13494  63  10.6     -0.3 -0.8 -12.3\n",
      "7991   7895  60  18.3     -0.2 -0.5  -6.4\n",
      "7992   5632  45   7.1     -0.2 -0.4  23.6\n",
      "7995   2996  32   9.2     -0.1 -0.2  23.1\n",
      "7998   1292  39   7.7     -0.3 -0.5  13.3\n",
      "\n",
      "[1629 rows x 6 columns]\n"
     ]
    }
   ],
   "source": [
    "# Identify how many rows are positive, negative and zero\n",
    "#df_train_mask_3PMade = df_train['3P Made'] > 0\n",
    "#df_train_mask_3PMade = df_train['3P Made'] == 0\n",
    "df_train_mask_3PMade = df_train['3P Made'] < 0\n",
    "df_train_3PMade_less_zero = df_train[df_train_mask_3PMade]\n",
    "print(df_train_3PMade_less_zero[['Id','GP','MIN','3P Made','3PA','3P%']])"
   ]
  },
  {
   "cell_type": "markdown",
   "id": "3d1b849b-06f0-49f6-9495-8c1e8a6c99ad",
   "metadata": {},
   "source": [
    "**Observed Statistics - Negative Values for 3P Made**\n",
    "* Negative - 1629 (20.4%)\n",
    "* Zero - 673 (8.4%)\n",
    "* Positive - 5698 (71.2%)\n"
   ]
  },
  {
   "cell_type": "markdown",
   "id": "f96af6df-6227-46f2-b4e2-49564f112c7d",
   "metadata": {},
   "source": [
    "**[1.8.3]** Task: Find Rows where 3PA (3 Points Attempted) is negative"
   ]
  },
  {
   "cell_type": "code",
   "execution_count": 604,
   "id": "13689121-ea25-45c2-8ec6-b34b65e52211",
   "metadata": {},
   "outputs": [
    {
     "name": "stdout",
     "output_type": "stream",
     "text": [
      "         Id  GP   MIN  3P Made  3PA   3P%\n",
      "0     10556  80  24.3      0.1  0.3  22.6\n",
      "2      5716  85  19.1      0.4  1.2  34.3\n",
      "3     13790  63  19.1      0.3  0.8  23.7\n",
      "4      5470  63  17.8      0.5  1.4  13.7\n",
      "7     11722  57  17.6      0.9  2.8  33.2\n",
      "...     ...  ..   ...      ...  ...   ...\n",
      "7993   1413  27  11.4      0.7  2.1  19.3\n",
      "7994   5460  65  22.2      0.5  1.5  36.6\n",
      "7996  11679  54   6.0      0.1  0.1   3.1\n",
      "7997   5537  85  28.2      0.2  0.6  23.6\n",
      "7999   2900  49  19.2      0.7  2.4  41.3\n",
      "\n",
      "[6122 rows x 6 columns]\n"
     ]
    }
   ],
   "source": [
    "# Identify how many rows are positive, negative and zero\n",
    "#df_train_mask_3PMade = df_train['3PA'] > 0\n",
    "#df_train_mask_3PMade = df_train['3PA'] == 0\n",
    "df_train_mask_3PMade = (df_train['3PA'] > 0)\n",
    "df_train_3PMade_less_zero = df_train[df_train_mask_3PMade]\n",
    "print(df_train_3PMade_less_zero[['Id','GP','MIN','3P Made','3PA','3P%']])"
   ]
  },
  {
   "cell_type": "markdown",
   "id": "e1a35d7e-2eb1-4b82-8afe-8b3674cb53a0",
   "metadata": {},
   "source": [
    "**Observated Statistics**\n",
    "* Negative - 1658 (20.7%)\n",
    "* Zero - 220 (2.8%)\n",
    "* Positive - 6342  (76.5%)\n",
    "\n",
    "**Observation:** The 3 point statistics do not look reliable.\n",
    "\n",
    "**Proposal:** Remove 3 point statistics from initial analysis\n",
    "\n",
    "**Notes**\n",
    "The following columns do not appear to have reliable information, they do not fit the profile of the statistic\n",
    "* 3P Made - Negative Numbers should not be possible\n",
    "* 3PA - Points Attempted should always be the same or greater than Points Made\n",
    "* 3P% - Calculation of % should be (Points Made / Points Attempted) within a certain tolerance of error (due to rounding)\n",
    "* FTM - Negative Numbers should not be possible\n",
    "* FTA - Points Attempted should always be the same or greater than Points Made\n",
    "* FT% \n",
    "* BLK  - Negative Numbers should not be possible\n"
   ]
  },
  {
   "cell_type": "markdown",
   "id": "2567681b-a8aa-46c8-a073-48c349b6d192",
   "metadata": {},
   "source": [
    "**[1.9]** Task: Check for duplicates"
   ]
  },
  {
   "cell_type": "code",
   "execution_count": 605,
   "id": "3eccab10-9f35-41c9-b079-d098969508da",
   "metadata": {},
   "outputs": [
    {
     "data": {
      "text/html": [
       "<div>\n",
       "<style scoped>\n",
       "    .dataframe tbody tr th:only-of-type {\n",
       "        vertical-align: middle;\n",
       "    }\n",
       "\n",
       "    .dataframe tbody tr th {\n",
       "        vertical-align: top;\n",
       "    }\n",
       "\n",
       "    .dataframe thead th {\n",
       "        text-align: right;\n",
       "    }\n",
       "</style>\n",
       "<table border=\"1\" class=\"dataframe\">\n",
       "  <thead>\n",
       "    <tr style=\"text-align: right;\">\n",
       "      <th></th>\n",
       "      <th>Id</th>\n",
       "      <th>GP</th>\n",
       "      <th>MIN</th>\n",
       "      <th>PTS</th>\n",
       "      <th>FGM</th>\n",
       "      <th>FGA</th>\n",
       "      <th>FG%</th>\n",
       "      <th>3P Made</th>\n",
       "      <th>3PA</th>\n",
       "      <th>3P%</th>\n",
       "      <th>...</th>\n",
       "      <th>FTA</th>\n",
       "      <th>FT%</th>\n",
       "      <th>OREB</th>\n",
       "      <th>DREB</th>\n",
       "      <th>REB</th>\n",
       "      <th>AST</th>\n",
       "      <th>STL</th>\n",
       "      <th>BLK</th>\n",
       "      <th>TOV</th>\n",
       "      <th>TARGET_5Yrs</th>\n",
       "    </tr>\n",
       "  </thead>\n",
       "  <tbody>\n",
       "  </tbody>\n",
       "</table>\n",
       "<p>0 rows × 21 columns</p>\n",
       "</div>"
      ],
      "text/plain": [
       "Empty DataFrame\n",
       "Columns: [Id, GP, MIN, PTS, FGM, FGA, FG%, 3P Made, 3PA, 3P%, FTM, FTA, FT%, OREB, DREB, REB, AST, STL, BLK, TOV, TARGET_5Yrs]\n",
       "Index: []\n",
       "\n",
       "[0 rows x 21 columns]"
      ]
     },
     "execution_count": 605,
     "metadata": {},
     "output_type": "execute_result"
    }
   ],
   "source": [
    "# Identify Rows that are Duplicated\n",
    "dup = df_train.duplicated()\n",
    "df_train[dup]"
   ]
  },
  {
   "cell_type": "code",
   "execution_count": 606,
   "id": "bd57c7c3-1332-4415-8ddf-e084dcfc49fe",
   "metadata": {},
   "outputs": [
    {
     "data": {
      "text/html": [
       "<div>\n",
       "<style scoped>\n",
       "    .dataframe tbody tr th:only-of-type {\n",
       "        vertical-align: middle;\n",
       "    }\n",
       "\n",
       "    .dataframe tbody tr th {\n",
       "        vertical-align: top;\n",
       "    }\n",
       "\n",
       "    .dataframe thead th {\n",
       "        text-align: right;\n",
       "    }\n",
       "</style>\n",
       "<table border=\"1\" class=\"dataframe\">\n",
       "  <thead>\n",
       "    <tr style=\"text-align: right;\">\n",
       "      <th></th>\n",
       "      <th>Id</th>\n",
       "      <th>GP</th>\n",
       "      <th>MIN</th>\n",
       "      <th>PTS</th>\n",
       "      <th>FGM</th>\n",
       "      <th>FGA</th>\n",
       "      <th>FG%</th>\n",
       "      <th>3P Made</th>\n",
       "      <th>3PA</th>\n",
       "      <th>3P%</th>\n",
       "      <th>FTM</th>\n",
       "      <th>FTA</th>\n",
       "      <th>FT%</th>\n",
       "      <th>OREB</th>\n",
       "      <th>DREB</th>\n",
       "      <th>REB</th>\n",
       "      <th>AST</th>\n",
       "      <th>STL</th>\n",
       "      <th>BLK</th>\n",
       "      <th>TOV</th>\n",
       "    </tr>\n",
       "  </thead>\n",
       "  <tbody>\n",
       "  </tbody>\n",
       "</table>\n",
       "</div>"
      ],
      "text/plain": [
       "Empty DataFrame\n",
       "Columns: [Id, GP, MIN, PTS, FGM, FGA, FG%, 3P Made, 3PA, 3P%, FTM, FTA, FT%, OREB, DREB, REB, AST, STL, BLK, TOV]\n",
       "Index: []"
      ]
     },
     "execution_count": 606,
     "metadata": {},
     "output_type": "execute_result"
    }
   ],
   "source": [
    "# Identify Rows that are Duplicated\n",
    "dup = df_test.duplicated()\n",
    "df_test[dup]"
   ]
  },
  {
   "cell_type": "markdown",
   "id": "83017dc3-7ee9-47df-a0b1-f34284cf4bdb",
   "metadata": {},
   "source": [
    "## 2. Feature Engineering"
   ]
  },
  {
   "cell_type": "markdown",
   "id": "447cd444-997a-40d4-9e3b-db09eddd8fca",
   "metadata": {},
   "source": [
    "No creation of new features at this time."
   ]
  },
  {
   "cell_type": "markdown",
   "id": "9c9bdb24-0541-4b38-b89d-195fb3e84fc5",
   "metadata": {},
   "source": [
    "**[2.1]** Create copy of Training and Test Datasets\n"
   ]
  },
  {
   "cell_type": "code",
   "execution_count": 607,
   "id": "72021fb1-9f8f-4501-a0f5-417ab40d39c5",
   "metadata": {},
   "outputs": [],
   "source": [
    "# Create copy of df_train and df_test\n",
    "df_train_cleaned = df_train\n",
    "df_test_cleaned = df_test"
   ]
  },
  {
   "cell_type": "markdown",
   "id": "4904fcac-915f-48e8-89e9-7d7d4c206b09",
   "metadata": {},
   "source": [
    "**[2.2]** Task:Create Training and Test Datasets\n",
    "\n",
    "Drop Columns: 3P Made,3PA ,3P%, FTM,FTA,FT%, ,BLK"
   ]
  },
  {
   "cell_type": "code",
   "execution_count": 608,
   "id": "d0dfb17b-2356-4e80-b78c-c8a951cc739c",
   "metadata": {},
   "outputs": [],
   "source": [
    "# Drop Columns for Train and Test Datasets\n",
    "df_train_cleaned = df_train_cleaned.drop(['3P Made','3PA','3P%','FTM','FTA','FT%','BLK'],axis=1)\n",
    "df_test_cleaned = df_test_cleaned.drop(['3P Made','3PA','3P%','FTM','FTA','FT%','BLK'],axis=1)"
   ]
  },
  {
   "cell_type": "markdown",
   "id": "f0637f15-ecbd-46b0-bda9-8689ad2dad4c",
   "metadata": {},
   "source": [
    "Task: Display df_train_cleaned Information"
   ]
  },
  {
   "cell_type": "code",
   "execution_count": 609,
   "id": "a7080de6-4371-4079-84b2-7fc8bd77babf",
   "metadata": {},
   "outputs": [
    {
     "name": "stdout",
     "output_type": "stream",
     "text": [
      "<class 'pandas.core.frame.DataFrame'>\n",
      "RangeIndex: 8000 entries, 0 to 7999\n",
      "Data columns (total 14 columns):\n",
      " #   Column       Non-Null Count  Dtype  \n",
      "---  ------       --------------  -----  \n",
      " 0   Id           8000 non-null   int64  \n",
      " 1   GP           8000 non-null   int64  \n",
      " 2   MIN          8000 non-null   float64\n",
      " 3   PTS          8000 non-null   float64\n",
      " 4   FGM          8000 non-null   float64\n",
      " 5   FGA          8000 non-null   float64\n",
      " 6   FG%          8000 non-null   float64\n",
      " 7   OREB         8000 non-null   float64\n",
      " 8   DREB         8000 non-null   float64\n",
      " 9   REB          8000 non-null   float64\n",
      " 10  AST          8000 non-null   float64\n",
      " 11  STL          8000 non-null   float64\n",
      " 12  TOV          8000 non-null   float64\n",
      " 13  TARGET_5Yrs  8000 non-null   int64  \n",
      "dtypes: float64(11), int64(3)\n",
      "memory usage: 875.1 KB\n"
     ]
    }
   ],
   "source": [
    "# Display df_train_cleaned information\n",
    "df_train_cleaned.info()"
   ]
  },
  {
   "cell_type": "code",
   "execution_count": 610,
   "id": "f357a83e-225c-42e6-b466-7b639a33cf28",
   "metadata": {},
   "outputs": [
    {
     "name": "stdout",
     "output_type": "stream",
     "text": [
      "<class 'pandas.core.frame.DataFrame'>\n",
      "RangeIndex: 3799 entries, 0 to 3798\n",
      "Data columns (total 13 columns):\n",
      " #   Column  Non-Null Count  Dtype  \n",
      "---  ------  --------------  -----  \n",
      " 0   Id      3799 non-null   int64  \n",
      " 1   GP      3799 non-null   int64  \n",
      " 2   MIN     3799 non-null   float64\n",
      " 3   PTS     3799 non-null   float64\n",
      " 4   FGM     3799 non-null   float64\n",
      " 5   FGA     3799 non-null   float64\n",
      " 6   FG%     3799 non-null   float64\n",
      " 7   OREB    3799 non-null   float64\n",
      " 8   DREB    3799 non-null   float64\n",
      " 9   REB     3799 non-null   float64\n",
      " 10  AST     3799 non-null   float64\n",
      " 11  STL     3799 non-null   float64\n",
      " 12  TOV     3799 non-null   float64\n",
      "dtypes: float64(11), int64(2)\n",
      "memory usage: 386.0 KB\n"
     ]
    }
   ],
   "source": [
    "df_test_cleaned.info()"
   ]
  },
  {
   "cell_type": "markdown",
   "id": "62edd976-7876-47fc-aea2-aab49a17ba97",
   "metadata": {},
   "source": [
    "**[2.3]** Task: Import and Normalise all statistic columns"
   ]
  },
  {
   "cell_type": "code",
   "execution_count": 611,
   "id": "f1827fde-adcd-4df6-a715-880d013eae29",
   "metadata": {},
   "outputs": [],
   "source": [
    "# Import MinMaxScaler\n",
    "from sklearn.preprocessing import MinMaxScaler\n",
    "# Instantiate Scaler\n",
    "scaler = MinMaxScaler()"
   ]
  },
  {
   "cell_type": "code",
   "execution_count": 612,
   "id": "15ae8713-6241-4317-a7c7-a2fd21f7be86",
   "metadata": {},
   "outputs": [
    {
     "data": {
      "text/html": [
       "<div>\n",
       "<style scoped>\n",
       "    .dataframe tbody tr th:only-of-type {\n",
       "        vertical-align: middle;\n",
       "    }\n",
       "\n",
       "    .dataframe tbody tr th {\n",
       "        vertical-align: top;\n",
       "    }\n",
       "\n",
       "    .dataframe thead th {\n",
       "        text-align: right;\n",
       "    }\n",
       "</style>\n",
       "<table border=\"1\" class=\"dataframe\">\n",
       "  <thead>\n",
       "    <tr style=\"text-align: right;\">\n",
       "      <th></th>\n",
       "      <th>GP</th>\n",
       "      <th>MIN</th>\n",
       "      <th>PTS</th>\n",
       "      <th>FGM</th>\n",
       "      <th>FGA</th>\n",
       "      <th>FG%</th>\n",
       "      <th>OREB</th>\n",
       "      <th>DREB</th>\n",
       "      <th>REB</th>\n",
       "      <th>AST</th>\n",
       "      <th>STL</th>\n",
       "      <th>TOV</th>\n",
       "    </tr>\n",
       "  </thead>\n",
       "  <tbody>\n",
       "    <tr>\n",
       "      <th>0</th>\n",
       "      <td>80</td>\n",
       "      <td>24.3</td>\n",
       "      <td>7.8</td>\n",
       "      <td>3.0</td>\n",
       "      <td>6.4</td>\n",
       "      <td>45.7</td>\n",
       "      <td>2.2</td>\n",
       "      <td>2.0</td>\n",
       "      <td>3.8</td>\n",
       "      <td>3.2</td>\n",
       "      <td>1.1</td>\n",
       "      <td>1.6</td>\n",
       "    </tr>\n",
       "    <tr>\n",
       "      <th>1</th>\n",
       "      <td>75</td>\n",
       "      <td>21.8</td>\n",
       "      <td>10.5</td>\n",
       "      <td>4.2</td>\n",
       "      <td>7.9</td>\n",
       "      <td>55.1</td>\n",
       "      <td>3.6</td>\n",
       "      <td>3.7</td>\n",
       "      <td>6.6</td>\n",
       "      <td>0.7</td>\n",
       "      <td>0.5</td>\n",
       "      <td>1.4</td>\n",
       "    </tr>\n",
       "    <tr>\n",
       "      <th>2</th>\n",
       "      <td>85</td>\n",
       "      <td>19.1</td>\n",
       "      <td>4.5</td>\n",
       "      <td>1.9</td>\n",
       "      <td>4.5</td>\n",
       "      <td>42.8</td>\n",
       "      <td>0.6</td>\n",
       "      <td>1.8</td>\n",
       "      <td>2.4</td>\n",
       "      <td>0.8</td>\n",
       "      <td>0.4</td>\n",
       "      <td>0.6</td>\n",
       "    </tr>\n",
       "    <tr>\n",
       "      <th>3</th>\n",
       "      <td>63</td>\n",
       "      <td>19.1</td>\n",
       "      <td>8.2</td>\n",
       "      <td>3.5</td>\n",
       "      <td>6.7</td>\n",
       "      <td>52.5</td>\n",
       "      <td>0.8</td>\n",
       "      <td>2.0</td>\n",
       "      <td>3.0</td>\n",
       "      <td>1.8</td>\n",
       "      <td>0.4</td>\n",
       "      <td>1.9</td>\n",
       "    </tr>\n",
       "    <tr>\n",
       "      <th>4</th>\n",
       "      <td>63</td>\n",
       "      <td>17.8</td>\n",
       "      <td>3.7</td>\n",
       "      <td>1.7</td>\n",
       "      <td>3.4</td>\n",
       "      <td>50.8</td>\n",
       "      <td>2.4</td>\n",
       "      <td>2.7</td>\n",
       "      <td>4.9</td>\n",
       "      <td>0.4</td>\n",
       "      <td>0.4</td>\n",
       "      <td>0.7</td>\n",
       "    </tr>\n",
       "  </tbody>\n",
       "</table>\n",
       "</div>"
      ],
      "text/plain": [
       "   GP   MIN   PTS  FGM  FGA   FG%  OREB  DREB  REB  AST  STL  TOV\n",
       "0  80  24.3   7.8  3.0  6.4  45.7   2.2   2.0  3.8  3.2  1.1  1.6\n",
       "1  75  21.8  10.5  4.2  7.9  55.1   3.6   3.7  6.6  0.7  0.5  1.4\n",
       "2  85  19.1   4.5  1.9  4.5  42.8   0.6   1.8  2.4  0.8  0.4  0.6\n",
       "3  63  19.1   8.2  3.5  6.7  52.5   0.8   2.0  3.0  1.8  0.4  1.9\n",
       "4  63  17.8   3.7  1.7  3.4  50.8   2.4   2.7  4.9  0.4  0.4  0.7"
      ]
     },
     "execution_count": 612,
     "metadata": {},
     "output_type": "execute_result"
    }
   ],
   "source": [
    "# Create df_train_cleaned_scaled_cols with columns to be scaled \n",
    "df_train_cleaned_scaled_cols = df_train_cleaned[['GP','MIN','PTS','FGM','FGA','FG%','OREB','DREB','REB','AST','STL','TOV']]\n",
    "df_test_cleaned_scaled_cols = df_test_cleaned[['GP','MIN','PTS','FGM','FGA','FG%','OREB','DREB','REB','AST','STL','TOV']]\n",
    "df_train_cleaned_scaled_cols.head()"
   ]
  },
  {
   "cell_type": "code",
   "execution_count": 613,
   "id": "2f378121-b7bd-4c33-8eba-49ecbc565c79",
   "metadata": {},
   "outputs": [],
   "source": [
    "# Scale Columns\n",
    "df_train_cleaned_scaled = scaler.fit_transform(df_train_cleaned_scaled_cols)\n",
    "df_test_cleaned_scaled = scaler.fit_transform(df_test_cleaned_scaled_cols)"
   ]
  },
  {
   "cell_type": "code",
   "execution_count": 614,
   "id": "4d877a9c-0b2c-43df-a4a4-a9715a9fd7be",
   "metadata": {},
   "outputs": [],
   "source": [
    "# Convert numpy arrany df_train_cleaned_scaled values back to df_train_cleaned_scaled data frame \n",
    "df_train_cleaned_scaled = pd.DataFrame(np.squeeze(df_train_cleaned_scaled), columns=df_train_cleaned_scaled_cols.columns) \n",
    "df_test_cleaned_scaled = pd.DataFrame(np.squeeze(df_test_cleaned_scaled), columns=df_test_cleaned_scaled_cols.columns) "
   ]
  },
  {
   "cell_type": "code",
   "execution_count": 615,
   "id": "66830fc5-a4d4-450b-a598-316cc19c5a31",
   "metadata": {},
   "outputs": [
    {
     "data": {
      "text/html": [
       "<div>\n",
       "<style scoped>\n",
       "    .dataframe tbody tr th:only-of-type {\n",
       "        vertical-align: middle;\n",
       "    }\n",
       "\n",
       "    .dataframe tbody tr th {\n",
       "        vertical-align: top;\n",
       "    }\n",
       "\n",
       "    .dataframe thead th {\n",
       "        text-align: right;\n",
       "    }\n",
       "</style>\n",
       "<table border=\"1\" class=\"dataframe\">\n",
       "  <thead>\n",
       "    <tr style=\"text-align: right;\">\n",
       "      <th></th>\n",
       "      <th>GP</th>\n",
       "      <th>MIN</th>\n",
       "      <th>PTS</th>\n",
       "      <th>FGM</th>\n",
       "      <th>FGA</th>\n",
       "      <th>FG%</th>\n",
       "      <th>OREB</th>\n",
       "      <th>DREB</th>\n",
       "      <th>REB</th>\n",
       "      <th>AST</th>\n",
       "      <th>STL</th>\n",
       "      <th>TOV</th>\n",
       "    </tr>\n",
       "  </thead>\n",
       "  <tbody>\n",
       "    <tr>\n",
       "      <th>count</th>\n",
       "      <td>8000.000000</td>\n",
       "      <td>8000.000000</td>\n",
       "      <td>8000.000000</td>\n",
       "      <td>8000.000000</td>\n",
       "      <td>8000.000000</td>\n",
       "      <td>8000.000000</td>\n",
       "      <td>8000.000000</td>\n",
       "      <td>8000.000000</td>\n",
       "      <td>8000.000000</td>\n",
       "      <td>8000.000000</td>\n",
       "      <td>8000.000000</td>\n",
       "      <td>8000.000000</td>\n",
       "    </tr>\n",
       "    <tr>\n",
       "      <th>mean</th>\n",
       "      <td>0.540289</td>\n",
       "      <td>0.221109</td>\n",
       "      <td>0.193625</td>\n",
       "      <td>0.195862</td>\n",
       "      <td>0.193282</td>\n",
       "      <td>0.507819</td>\n",
       "      <td>0.195970</td>\n",
       "      <td>0.182269</td>\n",
       "      <td>0.188801</td>\n",
       "      <td>0.126915</td>\n",
       "      <td>0.180191</td>\n",
       "      <td>0.222647</td>\n",
       "    </tr>\n",
       "    <tr>\n",
       "      <th>std</th>\n",
       "      <td>0.130678</td>\n",
       "      <td>0.126026</td>\n",
       "      <td>0.129303</td>\n",
       "      <td>0.132295</td>\n",
       "      <td>0.127564</td>\n",
       "      <td>0.134106</td>\n",
       "      <td>0.142849</td>\n",
       "      <td>0.128910</td>\n",
       "      <td>0.133664</td>\n",
       "      <td>0.105936</td>\n",
       "      <td>0.113229</td>\n",
       "      <td>0.139090</td>\n",
       "    </tr>\n",
       "    <tr>\n",
       "      <th>min</th>\n",
       "      <td>0.000000</td>\n",
       "      <td>0.000000</td>\n",
       "      <td>0.000000</td>\n",
       "      <td>0.000000</td>\n",
       "      <td>0.000000</td>\n",
       "      <td>0.000000</td>\n",
       "      <td>0.000000</td>\n",
       "      <td>0.000000</td>\n",
       "      <td>0.000000</td>\n",
       "      <td>0.000000</td>\n",
       "      <td>0.000000</td>\n",
       "      <td>0.000000</td>\n",
       "    </tr>\n",
       "    <tr>\n",
       "      <th>25%</th>\n",
       "      <td>0.450382</td>\n",
       "      <td>0.128350</td>\n",
       "      <td>0.098802</td>\n",
       "      <td>0.101562</td>\n",
       "      <td>0.099644</td>\n",
       "      <td>0.416122</td>\n",
       "      <td>0.090909</td>\n",
       "      <td>0.083333</td>\n",
       "      <td>0.089744</td>\n",
       "      <td>0.054688</td>\n",
       "      <td>0.083333</td>\n",
       "      <td>0.115385</td>\n",
       "    </tr>\n",
       "    <tr>\n",
       "      <th>50%</th>\n",
       "      <td>0.541985</td>\n",
       "      <td>0.196051</td>\n",
       "      <td>0.164671</td>\n",
       "      <td>0.164062</td>\n",
       "      <td>0.163701</td>\n",
       "      <td>0.503268</td>\n",
       "      <td>0.163636</td>\n",
       "      <td>0.157407</td>\n",
       "      <td>0.160256</td>\n",
       "      <td>0.101562</td>\n",
       "      <td>0.166667</td>\n",
       "      <td>0.192308</td>\n",
       "    </tr>\n",
       "    <tr>\n",
       "      <th>75%</th>\n",
       "      <td>0.625954</td>\n",
       "      <td>0.290550</td>\n",
       "      <td>0.260479</td>\n",
       "      <td>0.265625</td>\n",
       "      <td>0.259786</td>\n",
       "      <td>0.596950</td>\n",
       "      <td>0.272727</td>\n",
       "      <td>0.250000</td>\n",
       "      <td>0.256410</td>\n",
       "      <td>0.171875</td>\n",
       "      <td>0.250000</td>\n",
       "      <td>0.288462</td>\n",
       "    </tr>\n",
       "    <tr>\n",
       "      <th>max</th>\n",
       "      <td>1.000000</td>\n",
       "      <td>1.000000</td>\n",
       "      <td>1.000000</td>\n",
       "      <td>1.000000</td>\n",
       "      <td>1.000000</td>\n",
       "      <td>1.000000</td>\n",
       "      <td>1.000000</td>\n",
       "      <td>1.000000</td>\n",
       "      <td>1.000000</td>\n",
       "      <td>1.000000</td>\n",
       "      <td>1.000000</td>\n",
       "      <td>1.000000</td>\n",
       "    </tr>\n",
       "  </tbody>\n",
       "</table>\n",
       "</div>"
      ],
      "text/plain": [
       "                GP          MIN          PTS          FGM          FGA  \\\n",
       "count  8000.000000  8000.000000  8000.000000  8000.000000  8000.000000   \n",
       "mean      0.540289     0.221109     0.193625     0.195862     0.193282   \n",
       "std       0.130678     0.126026     0.129303     0.132295     0.127564   \n",
       "min       0.000000     0.000000     0.000000     0.000000     0.000000   \n",
       "25%       0.450382     0.128350     0.098802     0.101562     0.099644   \n",
       "50%       0.541985     0.196051     0.164671     0.164062     0.163701   \n",
       "75%       0.625954     0.290550     0.260479     0.265625     0.259786   \n",
       "max       1.000000     1.000000     1.000000     1.000000     1.000000   \n",
       "\n",
       "               FG%         OREB         DREB          REB          AST  \\\n",
       "count  8000.000000  8000.000000  8000.000000  8000.000000  8000.000000   \n",
       "mean      0.507819     0.195970     0.182269     0.188801     0.126915   \n",
       "std       0.134106     0.142849     0.128910     0.133664     0.105936   \n",
       "min       0.000000     0.000000     0.000000     0.000000     0.000000   \n",
       "25%       0.416122     0.090909     0.083333     0.089744     0.054688   \n",
       "50%       0.503268     0.163636     0.157407     0.160256     0.101562   \n",
       "75%       0.596950     0.272727     0.250000     0.256410     0.171875   \n",
       "max       1.000000     1.000000     1.000000     1.000000     1.000000   \n",
       "\n",
       "               STL          TOV  \n",
       "count  8000.000000  8000.000000  \n",
       "mean      0.180191     0.222647  \n",
       "std       0.113229     0.139090  \n",
       "min       0.000000     0.000000  \n",
       "25%       0.083333     0.115385  \n",
       "50%       0.166667     0.192308  \n",
       "75%       0.250000     0.288462  \n",
       "max       1.000000     1.000000  "
      ]
     },
     "execution_count": 615,
     "metadata": {},
     "output_type": "execute_result"
    }
   ],
   "source": [
    "df_train_cleaned_scaled.describe()"
   ]
  },
  {
   "cell_type": "code",
   "execution_count": 616,
   "id": "637b42e3-8d1e-4491-b32b-98c52bf9dd6c",
   "metadata": {},
   "outputs": [
    {
     "data": {
      "text/html": [
       "<div>\n",
       "<style scoped>\n",
       "    .dataframe tbody tr th:only-of-type {\n",
       "        vertical-align: middle;\n",
       "    }\n",
       "\n",
       "    .dataframe tbody tr th {\n",
       "        vertical-align: top;\n",
       "    }\n",
       "\n",
       "    .dataframe thead th {\n",
       "        text-align: right;\n",
       "    }\n",
       "</style>\n",
       "<table border=\"1\" class=\"dataframe\">\n",
       "  <thead>\n",
       "    <tr style=\"text-align: right;\">\n",
       "      <th></th>\n",
       "      <th>Id</th>\n",
       "      <th>GP</th>\n",
       "      <th>MIN</th>\n",
       "      <th>PTS</th>\n",
       "      <th>FGM</th>\n",
       "      <th>FGA</th>\n",
       "      <th>FG%</th>\n",
       "      <th>OREB</th>\n",
       "      <th>DREB</th>\n",
       "      <th>REB</th>\n",
       "      <th>AST</th>\n",
       "      <th>STL</th>\n",
       "      <th>TOV</th>\n",
       "      <th>TARGET_5Yrs</th>\n",
       "    </tr>\n",
       "  </thead>\n",
       "  <tbody>\n",
       "    <tr>\n",
       "      <th>count</th>\n",
       "      <td>8000.000000</td>\n",
       "      <td>8000.000000</td>\n",
       "      <td>8000.000000</td>\n",
       "      <td>8000.000000</td>\n",
       "      <td>8000.000000</td>\n",
       "      <td>8000.000000</td>\n",
       "      <td>8000.000000</td>\n",
       "      <td>8000.000000</td>\n",
       "      <td>8000.000000</td>\n",
       "      <td>8000.000000</td>\n",
       "      <td>8000.000000</td>\n",
       "      <td>8000.000000</td>\n",
       "      <td>8000.000000</td>\n",
       "      <td>8000.000000</td>\n",
       "    </tr>\n",
       "    <tr>\n",
       "      <th>mean</th>\n",
       "      <td>6856.971000</td>\n",
       "      <td>62.777875</td>\n",
       "      <td>18.576663</td>\n",
       "      <td>7.267087</td>\n",
       "      <td>2.807037</td>\n",
       "      <td>6.231213</td>\n",
       "      <td>44.608900</td>\n",
       "      <td>1.077838</td>\n",
       "      <td>2.168500</td>\n",
       "      <td>3.245300</td>\n",
       "      <td>1.624513</td>\n",
       "      <td>0.648688</td>\n",
       "      <td>1.257762</td>\n",
       "      <td>0.833625</td>\n",
       "    </tr>\n",
       "    <tr>\n",
       "      <th>std</th>\n",
       "      <td>3977.447579</td>\n",
       "      <td>17.118774</td>\n",
       "      <td>8.935263</td>\n",
       "      <td>4.318732</td>\n",
       "      <td>1.693373</td>\n",
       "      <td>3.584559</td>\n",
       "      <td>6.155453</td>\n",
       "      <td>0.785670</td>\n",
       "      <td>1.392224</td>\n",
       "      <td>2.085154</td>\n",
       "      <td>1.355986</td>\n",
       "      <td>0.407626</td>\n",
       "      <td>0.723270</td>\n",
       "      <td>0.372440</td>\n",
       "    </tr>\n",
       "    <tr>\n",
       "      <th>min</th>\n",
       "      <td>4.000000</td>\n",
       "      <td>-8.000000</td>\n",
       "      <td>2.900000</td>\n",
       "      <td>0.800000</td>\n",
       "      <td>0.300000</td>\n",
       "      <td>0.800000</td>\n",
       "      <td>21.300000</td>\n",
       "      <td>0.000000</td>\n",
       "      <td>0.200000</td>\n",
       "      <td>0.300000</td>\n",
       "      <td>0.000000</td>\n",
       "      <td>0.000000</td>\n",
       "      <td>0.100000</td>\n",
       "      <td>0.000000</td>\n",
       "    </tr>\n",
       "    <tr>\n",
       "      <th>25%</th>\n",
       "      <td>3413.750000</td>\n",
       "      <td>51.000000</td>\n",
       "      <td>12.000000</td>\n",
       "      <td>4.100000</td>\n",
       "      <td>1.600000</td>\n",
       "      <td>3.600000</td>\n",
       "      <td>40.400000</td>\n",
       "      <td>0.500000</td>\n",
       "      <td>1.100000</td>\n",
       "      <td>1.700000</td>\n",
       "      <td>0.700000</td>\n",
       "      <td>0.300000</td>\n",
       "      <td>0.700000</td>\n",
       "      <td>1.000000</td>\n",
       "    </tr>\n",
       "    <tr>\n",
       "      <th>50%</th>\n",
       "      <td>6787.500000</td>\n",
       "      <td>63.000000</td>\n",
       "      <td>16.800000</td>\n",
       "      <td>6.300000</td>\n",
       "      <td>2.400000</td>\n",
       "      <td>5.400000</td>\n",
       "      <td>44.400000</td>\n",
       "      <td>0.900000</td>\n",
       "      <td>1.900000</td>\n",
       "      <td>2.800000</td>\n",
       "      <td>1.300000</td>\n",
       "      <td>0.600000</td>\n",
       "      <td>1.100000</td>\n",
       "      <td>1.000000</td>\n",
       "    </tr>\n",
       "    <tr>\n",
       "      <th>75%</th>\n",
       "      <td>10299.250000</td>\n",
       "      <td>74.000000</td>\n",
       "      <td>23.500000</td>\n",
       "      <td>9.500000</td>\n",
       "      <td>3.700000</td>\n",
       "      <td>8.100000</td>\n",
       "      <td>48.700000</td>\n",
       "      <td>1.500000</td>\n",
       "      <td>2.900000</td>\n",
       "      <td>4.300000</td>\n",
       "      <td>2.200000</td>\n",
       "      <td>0.900000</td>\n",
       "      <td>1.600000</td>\n",
       "      <td>1.000000</td>\n",
       "    </tr>\n",
       "    <tr>\n",
       "      <th>max</th>\n",
       "      <td>13798.000000</td>\n",
       "      <td>123.000000</td>\n",
       "      <td>73.800000</td>\n",
       "      <td>34.200000</td>\n",
       "      <td>13.100000</td>\n",
       "      <td>28.900000</td>\n",
       "      <td>67.200000</td>\n",
       "      <td>5.500000</td>\n",
       "      <td>11.000000</td>\n",
       "      <td>15.900000</td>\n",
       "      <td>12.800000</td>\n",
       "      <td>3.600000</td>\n",
       "      <td>5.300000</td>\n",
       "      <td>1.000000</td>\n",
       "    </tr>\n",
       "  </tbody>\n",
       "</table>\n",
       "</div>"
      ],
      "text/plain": [
       "                 Id           GP          MIN          PTS          FGM  \\\n",
       "count   8000.000000  8000.000000  8000.000000  8000.000000  8000.000000   \n",
       "mean    6856.971000    62.777875    18.576663     7.267087     2.807037   \n",
       "std     3977.447579    17.118774     8.935263     4.318732     1.693373   \n",
       "min        4.000000    -8.000000     2.900000     0.800000     0.300000   \n",
       "25%     3413.750000    51.000000    12.000000     4.100000     1.600000   \n",
       "50%     6787.500000    63.000000    16.800000     6.300000     2.400000   \n",
       "75%    10299.250000    74.000000    23.500000     9.500000     3.700000   \n",
       "max    13798.000000   123.000000    73.800000    34.200000    13.100000   \n",
       "\n",
       "               FGA          FG%         OREB         DREB          REB  \\\n",
       "count  8000.000000  8000.000000  8000.000000  8000.000000  8000.000000   \n",
       "mean      6.231213    44.608900     1.077838     2.168500     3.245300   \n",
       "std       3.584559     6.155453     0.785670     1.392224     2.085154   \n",
       "min       0.800000    21.300000     0.000000     0.200000     0.300000   \n",
       "25%       3.600000    40.400000     0.500000     1.100000     1.700000   \n",
       "50%       5.400000    44.400000     0.900000     1.900000     2.800000   \n",
       "75%       8.100000    48.700000     1.500000     2.900000     4.300000   \n",
       "max      28.900000    67.200000     5.500000    11.000000    15.900000   \n",
       "\n",
       "               AST          STL          TOV  TARGET_5Yrs  \n",
       "count  8000.000000  8000.000000  8000.000000  8000.000000  \n",
       "mean      1.624513     0.648688     1.257762     0.833625  \n",
       "std       1.355986     0.407626     0.723270     0.372440  \n",
       "min       0.000000     0.000000     0.100000     0.000000  \n",
       "25%       0.700000     0.300000     0.700000     1.000000  \n",
       "50%       1.300000     0.600000     1.100000     1.000000  \n",
       "75%       2.200000     0.900000     1.600000     1.000000  \n",
       "max      12.800000     3.600000     5.300000     1.000000  "
      ]
     },
     "execution_count": 616,
     "metadata": {},
     "output_type": "execute_result"
    }
   ],
   "source": [
    "df_train_cleaned.describe()"
   ]
  },
  {
   "cell_type": "code",
   "execution_count": 617,
   "id": "dbc9c273-55cf-4c99-bd49-85340a39b9c4",
   "metadata": {},
   "outputs": [],
   "source": [
    "df_train_cleaned = df_train_cleaned.drop(['GP','MIN','PTS','FGM','FGA','FG%','OREB','DREB','REB','AST','STL','TOV'],axis=1)\n",
    "df_test_cleaned = df_test_cleaned.drop(['GP','MIN','PTS','FGM','FGA','FG%','OREB','DREB','REB','AST','STL','TOV'],axis=1)"
   ]
  },
  {
   "cell_type": "code",
   "execution_count": 618,
   "id": "e0bb57b7-a43f-489e-b3bd-9e52733f1458",
   "metadata": {},
   "outputs": [],
   "source": [
    "df_train_cleaned = pd.concat([df_train_cleaned, df_train_cleaned_scaled], axis=1)\n",
    "df_test_cleaned = pd.concat([df_test_cleaned, df_test_cleaned_scaled], axis=1)"
   ]
  },
  {
   "cell_type": "code",
   "execution_count": 619,
   "id": "8efb548b-41cf-4890-a17d-07e18850da05",
   "metadata": {},
   "outputs": [
    {
     "data": {
      "text/html": [
       "<div>\n",
       "<style scoped>\n",
       "    .dataframe tbody tr th:only-of-type {\n",
       "        vertical-align: middle;\n",
       "    }\n",
       "\n",
       "    .dataframe tbody tr th {\n",
       "        vertical-align: top;\n",
       "    }\n",
       "\n",
       "    .dataframe thead th {\n",
       "        text-align: right;\n",
       "    }\n",
       "</style>\n",
       "<table border=\"1\" class=\"dataframe\">\n",
       "  <thead>\n",
       "    <tr style=\"text-align: right;\">\n",
       "      <th></th>\n",
       "      <th>Id</th>\n",
       "      <th>TARGET_5Yrs</th>\n",
       "      <th>GP</th>\n",
       "      <th>MIN</th>\n",
       "      <th>PTS</th>\n",
       "      <th>FGM</th>\n",
       "      <th>FGA</th>\n",
       "      <th>FG%</th>\n",
       "      <th>OREB</th>\n",
       "      <th>DREB</th>\n",
       "      <th>REB</th>\n",
       "      <th>AST</th>\n",
       "      <th>STL</th>\n",
       "      <th>TOV</th>\n",
       "    </tr>\n",
       "  </thead>\n",
       "  <tbody>\n",
       "    <tr>\n",
       "      <th>0</th>\n",
       "      <td>10556</td>\n",
       "      <td>1</td>\n",
       "      <td>0.671756</td>\n",
       "      <td>0.301834</td>\n",
       "      <td>0.209581</td>\n",
       "      <td>0.210938</td>\n",
       "      <td>0.199288</td>\n",
       "      <td>0.531590</td>\n",
       "      <td>0.400000</td>\n",
       "      <td>0.166667</td>\n",
       "      <td>0.224359</td>\n",
       "      <td>0.250000</td>\n",
       "      <td>0.305556</td>\n",
       "      <td>0.288462</td>\n",
       "    </tr>\n",
       "    <tr>\n",
       "      <th>1</th>\n",
       "      <td>5342</td>\n",
       "      <td>1</td>\n",
       "      <td>0.633588</td>\n",
       "      <td>0.266573</td>\n",
       "      <td>0.290419</td>\n",
       "      <td>0.304688</td>\n",
       "      <td>0.252669</td>\n",
       "      <td>0.736383</td>\n",
       "      <td>0.654545</td>\n",
       "      <td>0.324074</td>\n",
       "      <td>0.403846</td>\n",
       "      <td>0.054688</td>\n",
       "      <td>0.138889</td>\n",
       "      <td>0.250000</td>\n",
       "    </tr>\n",
       "    <tr>\n",
       "      <th>2</th>\n",
       "      <td>5716</td>\n",
       "      <td>1</td>\n",
       "      <td>0.709924</td>\n",
       "      <td>0.228491</td>\n",
       "      <td>0.110778</td>\n",
       "      <td>0.125000</td>\n",
       "      <td>0.131673</td>\n",
       "      <td>0.468410</td>\n",
       "      <td>0.109091</td>\n",
       "      <td>0.148148</td>\n",
       "      <td>0.134615</td>\n",
       "      <td>0.062500</td>\n",
       "      <td>0.111111</td>\n",
       "      <td>0.096154</td>\n",
       "    </tr>\n",
       "    <tr>\n",
       "      <th>3</th>\n",
       "      <td>13790</td>\n",
       "      <td>1</td>\n",
       "      <td>0.541985</td>\n",
       "      <td>0.228491</td>\n",
       "      <td>0.221557</td>\n",
       "      <td>0.250000</td>\n",
       "      <td>0.209964</td>\n",
       "      <td>0.679739</td>\n",
       "      <td>0.145455</td>\n",
       "      <td>0.166667</td>\n",
       "      <td>0.173077</td>\n",
       "      <td>0.140625</td>\n",
       "      <td>0.111111</td>\n",
       "      <td>0.346154</td>\n",
       "    </tr>\n",
       "    <tr>\n",
       "      <th>4</th>\n",
       "      <td>5470</td>\n",
       "      <td>1</td>\n",
       "      <td>0.541985</td>\n",
       "      <td>0.210155</td>\n",
       "      <td>0.086826</td>\n",
       "      <td>0.109375</td>\n",
       "      <td>0.092527</td>\n",
       "      <td>0.642702</td>\n",
       "      <td>0.436364</td>\n",
       "      <td>0.231481</td>\n",
       "      <td>0.294872</td>\n",
       "      <td>0.031250</td>\n",
       "      <td>0.111111</td>\n",
       "      <td>0.115385</td>\n",
       "    </tr>\n",
       "    <tr>\n",
       "      <th>5</th>\n",
       "      <td>1961</td>\n",
       "      <td>1</td>\n",
       "      <td>0.732824</td>\n",
       "      <td>0.241185</td>\n",
       "      <td>0.239521</td>\n",
       "      <td>0.265625</td>\n",
       "      <td>0.281139</td>\n",
       "      <td>0.485839</td>\n",
       "      <td>0.327273</td>\n",
       "      <td>0.250000</td>\n",
       "      <td>0.282051</td>\n",
       "      <td>0.140625</td>\n",
       "      <td>0.111111</td>\n",
       "      <td>0.192308</td>\n",
       "    </tr>\n",
       "    <tr>\n",
       "      <th>6</th>\n",
       "      <td>2677</td>\n",
       "      <td>1</td>\n",
       "      <td>0.595420</td>\n",
       "      <td>0.249647</td>\n",
       "      <td>0.185629</td>\n",
       "      <td>0.226562</td>\n",
       "      <td>0.163701</td>\n",
       "      <td>0.819172</td>\n",
       "      <td>0.527273</td>\n",
       "      <td>0.407407</td>\n",
       "      <td>0.467949</td>\n",
       "      <td>0.046875</td>\n",
       "      <td>0.111111</td>\n",
       "      <td>0.211538</td>\n",
       "    </tr>\n",
       "    <tr>\n",
       "      <th>7</th>\n",
       "      <td>11722</td>\n",
       "      <td>1</td>\n",
       "      <td>0.496183</td>\n",
       "      <td>0.207334</td>\n",
       "      <td>0.137725</td>\n",
       "      <td>0.109375</td>\n",
       "      <td>0.138790</td>\n",
       "      <td>0.346405</td>\n",
       "      <td>0.145455</td>\n",
       "      <td>0.138889</td>\n",
       "      <td>0.147436</td>\n",
       "      <td>0.031250</td>\n",
       "      <td>0.166667</td>\n",
       "      <td>0.038462</td>\n",
       "    </tr>\n",
       "    <tr>\n",
       "      <th>8</th>\n",
       "      <td>6148</td>\n",
       "      <td>1</td>\n",
       "      <td>0.412214</td>\n",
       "      <td>0.332863</td>\n",
       "      <td>0.254491</td>\n",
       "      <td>0.218750</td>\n",
       "      <td>0.227758</td>\n",
       "      <td>0.494553</td>\n",
       "      <td>0.236364</td>\n",
       "      <td>0.240741</td>\n",
       "      <td>0.243590</td>\n",
       "      <td>0.140625</td>\n",
       "      <td>0.194444</td>\n",
       "      <td>0.307692</td>\n",
       "    </tr>\n",
       "    <tr>\n",
       "      <th>9</th>\n",
       "      <td>3040</td>\n",
       "      <td>1</td>\n",
       "      <td>0.549618</td>\n",
       "      <td>0.430183</td>\n",
       "      <td>0.482036</td>\n",
       "      <td>0.476562</td>\n",
       "      <td>0.373665</td>\n",
       "      <td>0.821351</td>\n",
       "      <td>0.618182</td>\n",
       "      <td>0.722222</td>\n",
       "      <td>0.743590</td>\n",
       "      <td>0.062500</td>\n",
       "      <td>0.111111</td>\n",
       "      <td>0.442308</td>\n",
       "    </tr>\n",
       "  </tbody>\n",
       "</table>\n",
       "</div>"
      ],
      "text/plain": [
       "      Id  TARGET_5Yrs        GP       MIN       PTS       FGM       FGA  \\\n",
       "0  10556            1  0.671756  0.301834  0.209581  0.210938  0.199288   \n",
       "1   5342            1  0.633588  0.266573  0.290419  0.304688  0.252669   \n",
       "2   5716            1  0.709924  0.228491  0.110778  0.125000  0.131673   \n",
       "3  13790            1  0.541985  0.228491  0.221557  0.250000  0.209964   \n",
       "4   5470            1  0.541985  0.210155  0.086826  0.109375  0.092527   \n",
       "5   1961            1  0.732824  0.241185  0.239521  0.265625  0.281139   \n",
       "6   2677            1  0.595420  0.249647  0.185629  0.226562  0.163701   \n",
       "7  11722            1  0.496183  0.207334  0.137725  0.109375  0.138790   \n",
       "8   6148            1  0.412214  0.332863  0.254491  0.218750  0.227758   \n",
       "9   3040            1  0.549618  0.430183  0.482036  0.476562  0.373665   \n",
       "\n",
       "        FG%      OREB      DREB       REB       AST       STL       TOV  \n",
       "0  0.531590  0.400000  0.166667  0.224359  0.250000  0.305556  0.288462  \n",
       "1  0.736383  0.654545  0.324074  0.403846  0.054688  0.138889  0.250000  \n",
       "2  0.468410  0.109091  0.148148  0.134615  0.062500  0.111111  0.096154  \n",
       "3  0.679739  0.145455  0.166667  0.173077  0.140625  0.111111  0.346154  \n",
       "4  0.642702  0.436364  0.231481  0.294872  0.031250  0.111111  0.115385  \n",
       "5  0.485839  0.327273  0.250000  0.282051  0.140625  0.111111  0.192308  \n",
       "6  0.819172  0.527273  0.407407  0.467949  0.046875  0.111111  0.211538  \n",
       "7  0.346405  0.145455  0.138889  0.147436  0.031250  0.166667  0.038462  \n",
       "8  0.494553  0.236364  0.240741  0.243590  0.140625  0.194444  0.307692  \n",
       "9  0.821351  0.618182  0.722222  0.743590  0.062500  0.111111  0.442308  "
      ]
     },
     "execution_count": 619,
     "metadata": {},
     "output_type": "execute_result"
    }
   ],
   "source": [
    "df_train_cleaned.head(10)"
   ]
  },
  {
   "cell_type": "code",
   "execution_count": 620,
   "id": "2d1a8e8a-86fd-45ee-8ee7-7259a578dd14",
   "metadata": {},
   "outputs": [
    {
     "data": {
      "text/html": [
       "<div>\n",
       "<style scoped>\n",
       "    .dataframe tbody tr th:only-of-type {\n",
       "        vertical-align: middle;\n",
       "    }\n",
       "\n",
       "    .dataframe tbody tr th {\n",
       "        vertical-align: top;\n",
       "    }\n",
       "\n",
       "    .dataframe thead th {\n",
       "        text-align: right;\n",
       "    }\n",
       "</style>\n",
       "<table border=\"1\" class=\"dataframe\">\n",
       "  <thead>\n",
       "    <tr style=\"text-align: right;\">\n",
       "      <th></th>\n",
       "      <th>Id</th>\n",
       "      <th>GP</th>\n",
       "      <th>MIN</th>\n",
       "      <th>PTS</th>\n",
       "      <th>FGM</th>\n",
       "      <th>FGA</th>\n",
       "      <th>FG%</th>\n",
       "      <th>OREB</th>\n",
       "      <th>DREB</th>\n",
       "      <th>REB</th>\n",
       "      <th>AST</th>\n",
       "      <th>STL</th>\n",
       "      <th>TOV</th>\n",
       "    </tr>\n",
       "  </thead>\n",
       "  <tbody>\n",
       "    <tr>\n",
       "      <th>0</th>\n",
       "      <td>1</td>\n",
       "      <td>0.416667</td>\n",
       "      <td>0.083981</td>\n",
       "      <td>0.102167</td>\n",
       "      <td>0.099237</td>\n",
       "      <td>0.114173</td>\n",
       "      <td>0.375758</td>\n",
       "      <td>0.173913</td>\n",
       "      <td>0.050847</td>\n",
       "      <td>0.076923</td>\n",
       "      <td>0.044444</td>\n",
       "      <td>0.074074</td>\n",
       "      <td>0.137255</td>\n",
       "    </tr>\n",
       "    <tr>\n",
       "      <th>1</th>\n",
       "      <td>8194</td>\n",
       "      <td>0.308333</td>\n",
       "      <td>0.242613</td>\n",
       "      <td>0.291022</td>\n",
       "      <td>0.259542</td>\n",
       "      <td>0.287402</td>\n",
       "      <td>0.422222</td>\n",
       "      <td>0.072464</td>\n",
       "      <td>0.059322</td>\n",
       "      <td>0.065934</td>\n",
       "      <td>0.388889</td>\n",
       "      <td>0.222222</td>\n",
       "      <td>0.333333</td>\n",
       "    </tr>\n",
       "    <tr>\n",
       "      <th>2</th>\n",
       "      <td>3</td>\n",
       "      <td>0.633333</td>\n",
       "      <td>0.469673</td>\n",
       "      <td>0.328173</td>\n",
       "      <td>0.351145</td>\n",
       "      <td>0.385827</td>\n",
       "      <td>0.414141</td>\n",
       "      <td>0.188406</td>\n",
       "      <td>0.262712</td>\n",
       "      <td>0.230769</td>\n",
       "      <td>0.277778</td>\n",
       "      <td>0.481481</td>\n",
       "      <td>0.372549</td>\n",
       "    </tr>\n",
       "    <tr>\n",
       "      <th>3</th>\n",
       "      <td>8196</td>\n",
       "      <td>0.666667</td>\n",
       "      <td>0.637636</td>\n",
       "      <td>0.560372</td>\n",
       "      <td>0.496183</td>\n",
       "      <td>0.594488</td>\n",
       "      <td>0.359596</td>\n",
       "      <td>0.217391</td>\n",
       "      <td>0.254237</td>\n",
       "      <td>0.258242</td>\n",
       "      <td>0.455556</td>\n",
       "      <td>0.333333</td>\n",
       "      <td>0.686275</td>\n",
       "    </tr>\n",
       "    <tr>\n",
       "      <th>4</th>\n",
       "      <td>8197</td>\n",
       "      <td>0.433333</td>\n",
       "      <td>0.133748</td>\n",
       "      <td>0.123839</td>\n",
       "      <td>0.099237</td>\n",
       "      <td>0.125984</td>\n",
       "      <td>0.301010</td>\n",
       "      <td>0.028986</td>\n",
       "      <td>0.033898</td>\n",
       "      <td>0.032967</td>\n",
       "      <td>0.166667</td>\n",
       "      <td>0.185185</td>\n",
       "      <td>0.156863</td>\n",
       "    </tr>\n",
       "    <tr>\n",
       "      <th>5</th>\n",
       "      <td>6</td>\n",
       "      <td>0.441667</td>\n",
       "      <td>0.192846</td>\n",
       "      <td>0.198142</td>\n",
       "      <td>0.190840</td>\n",
       "      <td>0.145669</td>\n",
       "      <td>0.745455</td>\n",
       "      <td>0.260870</td>\n",
       "      <td>0.203390</td>\n",
       "      <td>0.236264</td>\n",
       "      <td>0.066667</td>\n",
       "      <td>0.222222</td>\n",
       "      <td>0.156863</td>\n",
       "    </tr>\n",
       "    <tr>\n",
       "      <th>6</th>\n",
       "      <td>8198</td>\n",
       "      <td>0.325000</td>\n",
       "      <td>0.071540</td>\n",
       "      <td>0.077399</td>\n",
       "      <td>0.083969</td>\n",
       "      <td>0.078740</td>\n",
       "      <td>0.430303</td>\n",
       "      <td>0.072464</td>\n",
       "      <td>0.025424</td>\n",
       "      <td>0.049451</td>\n",
       "      <td>0.022222</td>\n",
       "      <td>0.037037</td>\n",
       "      <td>0.058824</td>\n",
       "    </tr>\n",
       "    <tr>\n",
       "      <th>7</th>\n",
       "      <td>8202</td>\n",
       "      <td>0.391667</td>\n",
       "      <td>0.130638</td>\n",
       "      <td>0.123839</td>\n",
       "      <td>0.114504</td>\n",
       "      <td>0.129921</td>\n",
       "      <td>0.383838</td>\n",
       "      <td>0.086957</td>\n",
       "      <td>0.076271</td>\n",
       "      <td>0.071429</td>\n",
       "      <td>0.088889</td>\n",
       "      <td>0.148148</td>\n",
       "      <td>0.098039</td>\n",
       "    </tr>\n",
       "    <tr>\n",
       "      <th>8</th>\n",
       "      <td>14</td>\n",
       "      <td>0.291667</td>\n",
       "      <td>0.278383</td>\n",
       "      <td>0.222910</td>\n",
       "      <td>0.213740</td>\n",
       "      <td>0.204724</td>\n",
       "      <td>0.494949</td>\n",
       "      <td>0.347826</td>\n",
       "      <td>0.203390</td>\n",
       "      <td>0.263736</td>\n",
       "      <td>0.155556</td>\n",
       "      <td>0.185185</td>\n",
       "      <td>0.254902</td>\n",
       "    </tr>\n",
       "    <tr>\n",
       "      <th>9</th>\n",
       "      <td>8207</td>\n",
       "      <td>0.158333</td>\n",
       "      <td>0.097978</td>\n",
       "      <td>0.058824</td>\n",
       "      <td>0.053435</td>\n",
       "      <td>0.059055</td>\n",
       "      <td>0.402020</td>\n",
       "      <td>0.057971</td>\n",
       "      <td>0.110169</td>\n",
       "      <td>0.082418</td>\n",
       "      <td>0.044444</td>\n",
       "      <td>0.074074</td>\n",
       "      <td>0.078431</td>\n",
       "    </tr>\n",
       "  </tbody>\n",
       "</table>\n",
       "</div>"
      ],
      "text/plain": [
       "     Id        GP       MIN       PTS       FGM       FGA       FG%      OREB  \\\n",
       "0     1  0.416667  0.083981  0.102167  0.099237  0.114173  0.375758  0.173913   \n",
       "1  8194  0.308333  0.242613  0.291022  0.259542  0.287402  0.422222  0.072464   \n",
       "2     3  0.633333  0.469673  0.328173  0.351145  0.385827  0.414141  0.188406   \n",
       "3  8196  0.666667  0.637636  0.560372  0.496183  0.594488  0.359596  0.217391   \n",
       "4  8197  0.433333  0.133748  0.123839  0.099237  0.125984  0.301010  0.028986   \n",
       "5     6  0.441667  0.192846  0.198142  0.190840  0.145669  0.745455  0.260870   \n",
       "6  8198  0.325000  0.071540  0.077399  0.083969  0.078740  0.430303  0.072464   \n",
       "7  8202  0.391667  0.130638  0.123839  0.114504  0.129921  0.383838  0.086957   \n",
       "8    14  0.291667  0.278383  0.222910  0.213740  0.204724  0.494949  0.347826   \n",
       "9  8207  0.158333  0.097978  0.058824  0.053435  0.059055  0.402020  0.057971   \n",
       "\n",
       "       DREB       REB       AST       STL       TOV  \n",
       "0  0.050847  0.076923  0.044444  0.074074  0.137255  \n",
       "1  0.059322  0.065934  0.388889  0.222222  0.333333  \n",
       "2  0.262712  0.230769  0.277778  0.481481  0.372549  \n",
       "3  0.254237  0.258242  0.455556  0.333333  0.686275  \n",
       "4  0.033898  0.032967  0.166667  0.185185  0.156863  \n",
       "5  0.203390  0.236264  0.066667  0.222222  0.156863  \n",
       "6  0.025424  0.049451  0.022222  0.037037  0.058824  \n",
       "7  0.076271  0.071429  0.088889  0.148148  0.098039  \n",
       "8  0.203390  0.263736  0.155556  0.185185  0.254902  \n",
       "9  0.110169  0.082418  0.044444  0.074074  0.078431  "
      ]
     },
     "execution_count": 620,
     "metadata": {},
     "output_type": "execute_result"
    }
   ],
   "source": [
    "df_test_cleaned.head(10)"
   ]
  },
  {
   "cell_type": "code",
   "execution_count": 621,
   "id": "a2d742ac-f907-482d-8d44-974b1476b2cc",
   "metadata": {},
   "outputs": [
    {
     "data": {
      "text/plain": [
       "(8000, 14)"
      ]
     },
     "execution_count": 621,
     "metadata": {},
     "output_type": "execute_result"
    }
   ],
   "source": [
    "df_train_cleaned.shape"
   ]
  },
  {
   "cell_type": "code",
   "execution_count": 622,
   "id": "d0f9492e-a44e-40cc-81ec-1fe757b0bdea",
   "metadata": {},
   "outputs": [
    {
     "data": {
      "text/plain": [
       "(3799, 13)"
      ]
     },
     "execution_count": 622,
     "metadata": {},
     "output_type": "execute_result"
    }
   ],
   "source": [
    "df_test_cleaned.shape"
   ]
  },
  {
   "cell_type": "code",
   "execution_count": 623,
   "id": "67a507dc-697d-4fb2-89d7-eeb2525c6bbe",
   "metadata": {},
   "outputs": [
    {
     "data": {
      "text/html": [
       "<div>\n",
       "<style scoped>\n",
       "    .dataframe tbody tr th:only-of-type {\n",
       "        vertical-align: middle;\n",
       "    }\n",
       "\n",
       "    .dataframe tbody tr th {\n",
       "        vertical-align: top;\n",
       "    }\n",
       "\n",
       "    .dataframe thead th {\n",
       "        text-align: right;\n",
       "    }\n",
       "</style>\n",
       "<table border=\"1\" class=\"dataframe\">\n",
       "  <thead>\n",
       "    <tr style=\"text-align: right;\">\n",
       "      <th></th>\n",
       "      <th>Id</th>\n",
       "      <th>TARGET_5Yrs</th>\n",
       "      <th>GP</th>\n",
       "      <th>MIN</th>\n",
       "      <th>PTS</th>\n",
       "      <th>FGM</th>\n",
       "      <th>FGA</th>\n",
       "      <th>FG%</th>\n",
       "      <th>OREB</th>\n",
       "      <th>DREB</th>\n",
       "      <th>REB</th>\n",
       "      <th>AST</th>\n",
       "      <th>STL</th>\n",
       "      <th>TOV</th>\n",
       "    </tr>\n",
       "  </thead>\n",
       "  <tbody>\n",
       "    <tr>\n",
       "      <th>count</th>\n",
       "      <td>8000.000000</td>\n",
       "      <td>8000.000000</td>\n",
       "      <td>8000.000000</td>\n",
       "      <td>8000.000000</td>\n",
       "      <td>8000.000000</td>\n",
       "      <td>8000.000000</td>\n",
       "      <td>8000.000000</td>\n",
       "      <td>8000.000000</td>\n",
       "      <td>8000.000000</td>\n",
       "      <td>8000.000000</td>\n",
       "      <td>8000.000000</td>\n",
       "      <td>8000.000000</td>\n",
       "      <td>8000.000000</td>\n",
       "      <td>8000.000000</td>\n",
       "    </tr>\n",
       "    <tr>\n",
       "      <th>mean</th>\n",
       "      <td>6856.971000</td>\n",
       "      <td>0.833625</td>\n",
       "      <td>0.540289</td>\n",
       "      <td>0.221109</td>\n",
       "      <td>0.193625</td>\n",
       "      <td>0.195862</td>\n",
       "      <td>0.193282</td>\n",
       "      <td>0.507819</td>\n",
       "      <td>0.195970</td>\n",
       "      <td>0.182269</td>\n",
       "      <td>0.188801</td>\n",
       "      <td>0.126915</td>\n",
       "      <td>0.180191</td>\n",
       "      <td>0.222647</td>\n",
       "    </tr>\n",
       "    <tr>\n",
       "      <th>std</th>\n",
       "      <td>3977.447579</td>\n",
       "      <td>0.372440</td>\n",
       "      <td>0.130678</td>\n",
       "      <td>0.126026</td>\n",
       "      <td>0.129303</td>\n",
       "      <td>0.132295</td>\n",
       "      <td>0.127564</td>\n",
       "      <td>0.134106</td>\n",
       "      <td>0.142849</td>\n",
       "      <td>0.128910</td>\n",
       "      <td>0.133664</td>\n",
       "      <td>0.105936</td>\n",
       "      <td>0.113229</td>\n",
       "      <td>0.139090</td>\n",
       "    </tr>\n",
       "    <tr>\n",
       "      <th>min</th>\n",
       "      <td>4.000000</td>\n",
       "      <td>0.000000</td>\n",
       "      <td>0.000000</td>\n",
       "      <td>0.000000</td>\n",
       "      <td>0.000000</td>\n",
       "      <td>0.000000</td>\n",
       "      <td>0.000000</td>\n",
       "      <td>0.000000</td>\n",
       "      <td>0.000000</td>\n",
       "      <td>0.000000</td>\n",
       "      <td>0.000000</td>\n",
       "      <td>0.000000</td>\n",
       "      <td>0.000000</td>\n",
       "      <td>0.000000</td>\n",
       "    </tr>\n",
       "    <tr>\n",
       "      <th>25%</th>\n",
       "      <td>3413.750000</td>\n",
       "      <td>1.000000</td>\n",
       "      <td>0.450382</td>\n",
       "      <td>0.128350</td>\n",
       "      <td>0.098802</td>\n",
       "      <td>0.101562</td>\n",
       "      <td>0.099644</td>\n",
       "      <td>0.416122</td>\n",
       "      <td>0.090909</td>\n",
       "      <td>0.083333</td>\n",
       "      <td>0.089744</td>\n",
       "      <td>0.054688</td>\n",
       "      <td>0.083333</td>\n",
       "      <td>0.115385</td>\n",
       "    </tr>\n",
       "    <tr>\n",
       "      <th>50%</th>\n",
       "      <td>6787.500000</td>\n",
       "      <td>1.000000</td>\n",
       "      <td>0.541985</td>\n",
       "      <td>0.196051</td>\n",
       "      <td>0.164671</td>\n",
       "      <td>0.164062</td>\n",
       "      <td>0.163701</td>\n",
       "      <td>0.503268</td>\n",
       "      <td>0.163636</td>\n",
       "      <td>0.157407</td>\n",
       "      <td>0.160256</td>\n",
       "      <td>0.101562</td>\n",
       "      <td>0.166667</td>\n",
       "      <td>0.192308</td>\n",
       "    </tr>\n",
       "    <tr>\n",
       "      <th>75%</th>\n",
       "      <td>10299.250000</td>\n",
       "      <td>1.000000</td>\n",
       "      <td>0.625954</td>\n",
       "      <td>0.290550</td>\n",
       "      <td>0.260479</td>\n",
       "      <td>0.265625</td>\n",
       "      <td>0.259786</td>\n",
       "      <td>0.596950</td>\n",
       "      <td>0.272727</td>\n",
       "      <td>0.250000</td>\n",
       "      <td>0.256410</td>\n",
       "      <td>0.171875</td>\n",
       "      <td>0.250000</td>\n",
       "      <td>0.288462</td>\n",
       "    </tr>\n",
       "    <tr>\n",
       "      <th>max</th>\n",
       "      <td>13798.000000</td>\n",
       "      <td>1.000000</td>\n",
       "      <td>1.000000</td>\n",
       "      <td>1.000000</td>\n",
       "      <td>1.000000</td>\n",
       "      <td>1.000000</td>\n",
       "      <td>1.000000</td>\n",
       "      <td>1.000000</td>\n",
       "      <td>1.000000</td>\n",
       "      <td>1.000000</td>\n",
       "      <td>1.000000</td>\n",
       "      <td>1.000000</td>\n",
       "      <td>1.000000</td>\n",
       "      <td>1.000000</td>\n",
       "    </tr>\n",
       "  </tbody>\n",
       "</table>\n",
       "</div>"
      ],
      "text/plain": [
       "                 Id  TARGET_5Yrs           GP          MIN          PTS  \\\n",
       "count   8000.000000  8000.000000  8000.000000  8000.000000  8000.000000   \n",
       "mean    6856.971000     0.833625     0.540289     0.221109     0.193625   \n",
       "std     3977.447579     0.372440     0.130678     0.126026     0.129303   \n",
       "min        4.000000     0.000000     0.000000     0.000000     0.000000   \n",
       "25%     3413.750000     1.000000     0.450382     0.128350     0.098802   \n",
       "50%     6787.500000     1.000000     0.541985     0.196051     0.164671   \n",
       "75%    10299.250000     1.000000     0.625954     0.290550     0.260479   \n",
       "max    13798.000000     1.000000     1.000000     1.000000     1.000000   \n",
       "\n",
       "               FGM          FGA          FG%         OREB         DREB  \\\n",
       "count  8000.000000  8000.000000  8000.000000  8000.000000  8000.000000   \n",
       "mean      0.195862     0.193282     0.507819     0.195970     0.182269   \n",
       "std       0.132295     0.127564     0.134106     0.142849     0.128910   \n",
       "min       0.000000     0.000000     0.000000     0.000000     0.000000   \n",
       "25%       0.101562     0.099644     0.416122     0.090909     0.083333   \n",
       "50%       0.164062     0.163701     0.503268     0.163636     0.157407   \n",
       "75%       0.265625     0.259786     0.596950     0.272727     0.250000   \n",
       "max       1.000000     1.000000     1.000000     1.000000     1.000000   \n",
       "\n",
       "               REB          AST          STL          TOV  \n",
       "count  8000.000000  8000.000000  8000.000000  8000.000000  \n",
       "mean      0.188801     0.126915     0.180191     0.222647  \n",
       "std       0.133664     0.105936     0.113229     0.139090  \n",
       "min       0.000000     0.000000     0.000000     0.000000  \n",
       "25%       0.089744     0.054688     0.083333     0.115385  \n",
       "50%       0.160256     0.101562     0.166667     0.192308  \n",
       "75%       0.256410     0.171875     0.250000     0.288462  \n",
       "max       1.000000     1.000000     1.000000     1.000000  "
      ]
     },
     "execution_count": 623,
     "metadata": {},
     "output_type": "execute_result"
    }
   ],
   "source": [
    "df_train_cleaned.describe()"
   ]
  },
  {
   "cell_type": "code",
   "execution_count": 624,
   "id": "5c9485dd-a06f-4b42-86d6-b40010a59619",
   "metadata": {},
   "outputs": [
    {
     "data": {
      "text/html": [
       "<div>\n",
       "<style scoped>\n",
       "    .dataframe tbody tr th:only-of-type {\n",
       "        vertical-align: middle;\n",
       "    }\n",
       "\n",
       "    .dataframe tbody tr th {\n",
       "        vertical-align: top;\n",
       "    }\n",
       "\n",
       "    .dataframe thead th {\n",
       "        text-align: right;\n",
       "    }\n",
       "</style>\n",
       "<table border=\"1\" class=\"dataframe\">\n",
       "  <thead>\n",
       "    <tr style=\"text-align: right;\">\n",
       "      <th></th>\n",
       "      <th>Id</th>\n",
       "      <th>GP</th>\n",
       "      <th>MIN</th>\n",
       "      <th>PTS</th>\n",
       "      <th>FGM</th>\n",
       "      <th>FGA</th>\n",
       "      <th>FG%</th>\n",
       "      <th>OREB</th>\n",
       "      <th>DREB</th>\n",
       "      <th>REB</th>\n",
       "      <th>AST</th>\n",
       "      <th>STL</th>\n",
       "      <th>TOV</th>\n",
       "    </tr>\n",
       "  </thead>\n",
       "  <tbody>\n",
       "    <tr>\n",
       "      <th>count</th>\n",
       "      <td>3799.000000</td>\n",
       "      <td>3799.000000</td>\n",
       "      <td>3799.000000</td>\n",
       "      <td>3799.000000</td>\n",
       "      <td>3799.000000</td>\n",
       "      <td>3799.000000</td>\n",
       "      <td>3799.000000</td>\n",
       "      <td>3799.000000</td>\n",
       "      <td>3799.000000</td>\n",
       "      <td>3799.000000</td>\n",
       "      <td>3799.000000</td>\n",
       "      <td>3799.000000</td>\n",
       "      <td>3799.000000</td>\n",
       "    </tr>\n",
       "    <tr>\n",
       "      <th>mean</th>\n",
       "      <td>7010.614109</td>\n",
       "      <td>0.473783</td>\n",
       "      <td>0.232507</td>\n",
       "      <td>0.205202</td>\n",
       "      <td>0.193542</td>\n",
       "      <td>0.216637</td>\n",
       "      <td>0.393921</td>\n",
       "      <td>0.158844</td>\n",
       "      <td>0.167754</td>\n",
       "      <td>0.163505</td>\n",
       "      <td>0.181831</td>\n",
       "      <td>0.242072</td>\n",
       "      <td>0.227041</td>\n",
       "    </tr>\n",
       "    <tr>\n",
       "      <th>std</th>\n",
       "      <td>3954.173641</td>\n",
       "      <td>0.142931</td>\n",
       "      <td>0.135727</td>\n",
       "      <td>0.132964</td>\n",
       "      <td>0.128888</td>\n",
       "      <td>0.140914</td>\n",
       "      <td>0.122024</td>\n",
       "      <td>0.113866</td>\n",
       "      <td>0.116266</td>\n",
       "      <td>0.113772</td>\n",
       "      <td>0.148388</td>\n",
       "      <td>0.152064</td>\n",
       "      <td>0.139696</td>\n",
       "    </tr>\n",
       "    <tr>\n",
       "      <th>min</th>\n",
       "      <td>1.000000</td>\n",
       "      <td>0.000000</td>\n",
       "      <td>0.000000</td>\n",
       "      <td>0.000000</td>\n",
       "      <td>0.000000</td>\n",
       "      <td>0.000000</td>\n",
       "      <td>0.000000</td>\n",
       "      <td>0.000000</td>\n",
       "      <td>0.000000</td>\n",
       "      <td>0.000000</td>\n",
       "      <td>0.000000</td>\n",
       "      <td>0.000000</td>\n",
       "      <td>0.000000</td>\n",
       "    </tr>\n",
       "    <tr>\n",
       "      <th>25%</th>\n",
       "      <td>3644.000000</td>\n",
       "      <td>0.375000</td>\n",
       "      <td>0.132193</td>\n",
       "      <td>0.108359</td>\n",
       "      <td>0.099237</td>\n",
       "      <td>0.114173</td>\n",
       "      <td>0.311111</td>\n",
       "      <td>0.072464</td>\n",
       "      <td>0.084746</td>\n",
       "      <td>0.082418</td>\n",
       "      <td>0.066667</td>\n",
       "      <td>0.148148</td>\n",
       "      <td>0.117647</td>\n",
       "    </tr>\n",
       "    <tr>\n",
       "      <th>50%</th>\n",
       "      <td>7062.000000</td>\n",
       "      <td>0.475000</td>\n",
       "      <td>0.206843</td>\n",
       "      <td>0.176471</td>\n",
       "      <td>0.167939</td>\n",
       "      <td>0.185039</td>\n",
       "      <td>0.393939</td>\n",
       "      <td>0.130435</td>\n",
       "      <td>0.144068</td>\n",
       "      <td>0.137363</td>\n",
       "      <td>0.144444</td>\n",
       "      <td>0.222222</td>\n",
       "      <td>0.196078</td>\n",
       "    </tr>\n",
       "    <tr>\n",
       "      <th>75%</th>\n",
       "      <td>10402.500000</td>\n",
       "      <td>0.566667</td>\n",
       "      <td>0.304821</td>\n",
       "      <td>0.269350</td>\n",
       "      <td>0.259542</td>\n",
       "      <td>0.287402</td>\n",
       "      <td>0.472727</td>\n",
       "      <td>0.217391</td>\n",
       "      <td>0.228814</td>\n",
       "      <td>0.219780</td>\n",
       "      <td>0.255556</td>\n",
       "      <td>0.333333</td>\n",
       "      <td>0.294118</td>\n",
       "    </tr>\n",
       "    <tr>\n",
       "      <th>max</th>\n",
       "      <td>13792.000000</td>\n",
       "      <td>1.000000</td>\n",
       "      <td>1.000000</td>\n",
       "      <td>1.000000</td>\n",
       "      <td>1.000000</td>\n",
       "      <td>1.000000</td>\n",
       "      <td>1.000000</td>\n",
       "      <td>1.000000</td>\n",
       "      <td>1.000000</td>\n",
       "      <td>1.000000</td>\n",
       "      <td>1.000000</td>\n",
       "      <td>1.000000</td>\n",
       "      <td>1.000000</td>\n",
       "    </tr>\n",
       "  </tbody>\n",
       "</table>\n",
       "</div>"
      ],
      "text/plain": [
       "                 Id           GP          MIN          PTS          FGM  \\\n",
       "count   3799.000000  3799.000000  3799.000000  3799.000000  3799.000000   \n",
       "mean    7010.614109     0.473783     0.232507     0.205202     0.193542   \n",
       "std     3954.173641     0.142931     0.135727     0.132964     0.128888   \n",
       "min        1.000000     0.000000     0.000000     0.000000     0.000000   \n",
       "25%     3644.000000     0.375000     0.132193     0.108359     0.099237   \n",
       "50%     7062.000000     0.475000     0.206843     0.176471     0.167939   \n",
       "75%    10402.500000     0.566667     0.304821     0.269350     0.259542   \n",
       "max    13792.000000     1.000000     1.000000     1.000000     1.000000   \n",
       "\n",
       "               FGA          FG%         OREB         DREB          REB  \\\n",
       "count  3799.000000  3799.000000  3799.000000  3799.000000  3799.000000   \n",
       "mean      0.216637     0.393921     0.158844     0.167754     0.163505   \n",
       "std       0.140914     0.122024     0.113866     0.116266     0.113772   \n",
       "min       0.000000     0.000000     0.000000     0.000000     0.000000   \n",
       "25%       0.114173     0.311111     0.072464     0.084746     0.082418   \n",
       "50%       0.185039     0.393939     0.130435     0.144068     0.137363   \n",
       "75%       0.287402     0.472727     0.217391     0.228814     0.219780   \n",
       "max       1.000000     1.000000     1.000000     1.000000     1.000000   \n",
       "\n",
       "               AST          STL          TOV  \n",
       "count  3799.000000  3799.000000  3799.000000  \n",
       "mean      0.181831     0.242072     0.227041  \n",
       "std       0.148388     0.152064     0.139696  \n",
       "min       0.000000     0.000000     0.000000  \n",
       "25%       0.066667     0.148148     0.117647  \n",
       "50%       0.144444     0.222222     0.196078  \n",
       "75%       0.255556     0.333333     0.294118  \n",
       "max       1.000000     1.000000     1.000000  "
      ]
     },
     "execution_count": 624,
     "metadata": {},
     "output_type": "execute_result"
    }
   ],
   "source": [
    "df_test_cleaned.describe()"
   ]
  },
  {
   "cell_type": "markdown",
   "id": "f816b8ce-2829-42a8-b813-5e28ad8c1940",
   "metadata": {},
   "source": [
    "**[2.4]** Task: Create Train and Validate Datasets"
   ]
  },
  {
   "cell_type": "code",
   "execution_count": 625,
   "id": "91617b30-e4a5-46fd-a2d3-1742604b3774",
   "metadata": {},
   "outputs": [],
   "source": [
    "# Drop Target and ID for X, and create target from y\n",
    "df_train_id = df_train_cleaned['Id']\n",
    "X = df_train_cleaned.drop(['Id', 'TARGET_5Yrs'], axis=1)\n",
    "y = df_train_cleaned['TARGET_5Yrs']"
   ]
  },
  {
   "cell_type": "code",
   "execution_count": 626,
   "id": "7f2687fe-e417-4f8c-89a8-70fe2ebb1e60",
   "metadata": {},
   "outputs": [
    {
     "name": "stdout",
     "output_type": "stream",
     "text": [
      "<class 'pandas.core.frame.DataFrame'>\n",
      "RangeIndex: 8000 entries, 0 to 7999\n",
      "Data columns (total 12 columns):\n",
      " #   Column  Non-Null Count  Dtype  \n",
      "---  ------  --------------  -----  \n",
      " 0   GP      8000 non-null   float64\n",
      " 1   MIN     8000 non-null   float64\n",
      " 2   PTS     8000 non-null   float64\n",
      " 3   FGM     8000 non-null   float64\n",
      " 4   FGA     8000 non-null   float64\n",
      " 5   FG%     8000 non-null   float64\n",
      " 6   OREB    8000 non-null   float64\n",
      " 7   DREB    8000 non-null   float64\n",
      " 8   REB     8000 non-null   float64\n",
      " 9   AST     8000 non-null   float64\n",
      " 10  STL     8000 non-null   float64\n",
      " 11  TOV     8000 non-null   float64\n",
      "dtypes: float64(12)\n",
      "memory usage: 750.1 KB\n"
     ]
    }
   ],
   "source": [
    "X.info()"
   ]
  },
  {
   "cell_type": "code",
   "execution_count": 627,
   "id": "75473db3-5789-4b27-b7d3-d7abb37b9e00",
   "metadata": {},
   "outputs": [],
   "source": [
    "from sklearn.model_selection import train_test_split"
   ]
  },
  {
   "cell_type": "code",
   "execution_count": 628,
   "id": "baae14b5-891d-49bd-b9db-36d475a002c5",
   "metadata": {},
   "outputs": [],
   "source": [
    "# split the data in training and remaining dataset. 80:10:10 for train:valid:test\n",
    "X_train, X_validate, y_train, y_validate  = train_test_split(X, y, train_size=0.8, shuffle = True, stratify=y, random_state = 8)"
   ]
  },
  {
   "cell_type": "markdown",
   "id": "c6d7b202-92ad-469c-8537-b7c62aa86bfe",
   "metadata": {},
   "source": [
    "**[2.5]** Task: Check train and validate datasets have been distributed well"
   ]
  },
  {
   "cell_type": "code",
   "execution_count": 629,
   "id": "726c34ae-c308-4a80-b37b-a0eaeebc7530",
   "metadata": {},
   "outputs": [
    {
     "data": {
      "text/plain": [
       "1    0.833625\n",
       "0    0.166375\n",
       "Name: TARGET_5Yrs, dtype: float64"
      ]
     },
     "execution_count": 629,
     "metadata": {},
     "output_type": "execute_result"
    }
   ],
   "source": [
    "y.value_counts(normalize=True)"
   ]
  },
  {
   "cell_type": "code",
   "execution_count": 630,
   "id": "8f89087e-ff4e-4f89-ae09-1d2f371e146e",
   "metadata": {},
   "outputs": [
    {
     "data": {
      "text/plain": [
       "1    0.833594\n",
       "0    0.166406\n",
       "Name: TARGET_5Yrs, dtype: float64"
      ]
     },
     "execution_count": 630,
     "metadata": {},
     "output_type": "execute_result"
    }
   ],
   "source": [
    "y_train.value_counts(normalize=True)"
   ]
  },
  {
   "cell_type": "code",
   "execution_count": 631,
   "id": "2c142302-62ba-460e-a122-d99336b6ccf1",
   "metadata": {},
   "outputs": [
    {
     "data": {
      "text/plain": [
       "1    0.83375\n",
       "0    0.16625\n",
       "Name: TARGET_5Yrs, dtype: float64"
      ]
     },
     "execution_count": 631,
     "metadata": {},
     "output_type": "execute_result"
    }
   ],
   "source": [
    "y_validate.value_counts(normalize=True)"
   ]
  },
  {
   "cell_type": "markdown",
   "id": "cab31dbb-e054-432b-9da0-2f191650418c",
   "metadata": {},
   "source": [
    "## 3. Create Baseline Model"
   ]
  },
  {
   "cell_type": "markdown",
   "id": "9bd312b4-9221-42e2-8855-ba0862a7abf8",
   "metadata": {},
   "source": [
    "**[3.1]** Task: Find the mode of the target variable and print it's value"
   ]
  },
  {
   "cell_type": "code",
   "execution_count": 632,
   "id": "1f1d57f3-0869-4f09-83d8-f0b59e259f17",
   "metadata": {},
   "outputs": [
    {
     "data": {
      "text/plain": [
       "0    1\n",
       "Name: TARGET_5Yrs, dtype: int64"
      ]
     },
     "execution_count": 632,
     "metadata": {},
     "output_type": "execute_result"
    }
   ],
   "source": [
    "y_mode = y_train.mode()\n",
    "y_mode"
   ]
  },
  {
   "cell_type": "markdown",
   "id": "0c80bc44-2540-4562-8fcc-921485da5aef",
   "metadata": {},
   "source": [
    "**[3.2]** Task: Create a numpy array called y_base filled with this value"
   ]
  },
  {
   "cell_type": "code",
   "execution_count": 633,
   "id": "945c5aac-59fe-4932-86dc-0476c25752cd",
   "metadata": {},
   "outputs": [],
   "source": [
    "y_shape = (len(y_train), 1)\n",
    "y_base = np.full(y_shape, y_mode)"
   ]
  },
  {
   "cell_type": "markdown",
   "id": "9467fadb-38a6-4ec0-99db-d24a7b17206c",
   "metadata": {},
   "source": [
    "**[3.3]** Task: Import the accuracy score from sklearn"
   ]
  },
  {
   "cell_type": "code",
   "execution_count": 634,
   "id": "8909debd-762c-4a2b-a61f-9dafa58cf115",
   "metadata": {},
   "outputs": [],
   "source": [
    "from sklearn.metrics import accuracy_score"
   ]
  },
  {
   "cell_type": "markdown",
   "id": "fb877509-84ce-41fe-a5ac-5b915314239e",
   "metadata": {},
   "source": [
    "**[3.4]** Task: Display the accuracy score of this baseline model"
   ]
  },
  {
   "cell_type": "code",
   "execution_count": 635,
   "id": "104e83af-6237-438c-8914-94b943003809",
   "metadata": {},
   "outputs": [
    {
     "data": {
      "text/plain": [
       "0.83359375"
      ]
     },
     "execution_count": 635,
     "metadata": {},
     "output_type": "execute_result"
    }
   ],
   "source": [
    "accuracy_score(y_train, y_base)"
   ]
  },
  {
   "cell_type": "markdown",
   "id": "5c50b1f4-aa1c-4888-a1cb-5999529e36a0",
   "metadata": {},
   "source": [
    "The null accuracy is 83.35%\n",
    "If we predict 1, we'll be correct 83.35% of the time"
   ]
  },
  {
   "cell_type": "markdown",
   "id": "eaf47a54-da6e-400d-9374-cf8a3aa0816c",
   "metadata": {},
   "source": [
    "## 4. Random Forest - Hyperparameter Tuning with Grid Search and KFold"
   ]
  },
  {
   "cell_type": "markdown",
   "id": "31018efc-3693-4388-904b-a9adb273560f",
   "metadata": {},
   "source": [
    "Train Random Forest Algorithm\n",
    "\n",
    "1.   Use Grid Search to tune Hyper Parameters\n",
    "2.   Use KFold with 5 Splits\n",
    "3.   Fit Algorithm"
   ]
  },
  {
   "cell_type": "markdown",
   "id": "ced0eb4e-e5fa-4952-b28e-f9db78bd6ad9",
   "metadata": {},
   "source": [
    "**[4.1]** Task: Import GridSearchCV, KFold from sklearn.model_selection"
   ]
  },
  {
   "cell_type": "code",
   "execution_count": 636,
   "id": "940fef9a-17ec-47f3-ace0-abafc87c5e2b",
   "metadata": {},
   "outputs": [],
   "source": [
    "from sklearn.model_selection import RandomizedSearchCV,GridSearchCV,KFold"
   ]
  },
  {
   "cell_type": "markdown",
   "id": "2fb063f6-55c6-41e1-bfd4-4323de13b253",
   "metadata": {},
   "source": [
    "**[4.2]** Create a dictionary containing the Randomized Grid Search Parameters"
   ]
  },
  {
   "cell_type": "code",
   "execution_count": 637,
   "id": "1a5ad469-5108-44bc-ae36-7288bf864814",
   "metadata": {},
   "outputs": [],
   "source": [
    "# Number of trees in random forest\n",
    "n_estimators = np.linspace(50, 500, int((2000-100)/400) + 1, dtype=int)\n",
    "# Number of features to consider at every split\n",
    "max_features = ['auto', 'sqrt']\n",
    "# Maximum number of levels in tree\n",
    "max_depth = [1, 5, 10, 20, 50, 100]\n",
    "# Minimum number of samples required to split a node\n",
    "# min_samples_split = [int(x) for x in np.linspace(start = 2, stop = 10, num = 9)]\n",
    "min_samples_split = [1, 2, 5, 10, 15, 20]\n",
    "# Minimum number of samples required at each leaf node\n",
    "min_samples_leaf = [2, 5, 8]\n",
    "# Method of selecting samples for training each tree\n",
    "bootstrap = [True, False]\n",
    "# Criterion\n",
    "criterion=['gini', 'entropy']\n",
    "random_grid = {'n_estimators': n_estimators,\n",
    "#                'max_features': max_features,\n",
    "               'max_depth': max_depth,\n",
    "               'min_samples_split': min_samples_split,\n",
    "               'min_samples_leaf': min_samples_leaf,\n",
    "               'bootstrap': bootstrap,\n",
    "               'criterion': criterion}"
   ]
  },
  {
   "cell_type": "code",
   "execution_count": 638,
   "id": "40bf00ac-9ef7-4de4-9500-58e1396d8cf6",
   "metadata": {},
   "outputs": [
    {
     "data": {
      "text/plain": [
       "{'n_estimators': array([ 50, 162, 275, 387, 500]),\n",
       " 'max_depth': [1, 5, 10, 20, 50, 100],\n",
       " 'min_samples_split': [1, 2, 5, 10, 15, 20],\n",
       " 'min_samples_leaf': [2, 5, 8],\n",
       " 'bootstrap': [True, False],\n",
       " 'criterion': ['gini', 'entropy']}"
      ]
     },
     "execution_count": 638,
     "metadata": {},
     "output_type": "execute_result"
    }
   ],
   "source": [
    "random_grid"
   ]
  },
  {
   "cell_type": "markdown",
   "id": "ccf85da9-4853-408e-b7d2-cbc4179433ef",
   "metadata": {},
   "source": [
    "**[4.3]** Task: Create RF Model, and use Randomized Search to find GridSearch range"
   ]
  },
  {
   "cell_type": "code",
   "execution_count": 639,
   "id": "a28a49b7-3d63-4ec9-a7a7-85253587cb75",
   "metadata": {},
   "outputs": [],
   "source": [
    " from sklearn.ensemble import RandomForestClassifier"
   ]
  },
  {
   "cell_type": "code",
   "execution_count": 640,
   "id": "c68beb4c-62ca-4547-804a-e34fa110bb14",
   "metadata": {},
   "outputs": [],
   "source": [
    "rf_base = RandomForestClassifier()\n",
    "rf_random = RandomizedSearchCV(estimator = rf_base,\n",
    "                               param_distributions = random_grid,\n",
    "                               n_iter = 30, \n",
    "                               cv = 5,\n",
    "                               verbose=2,\n",
    "                               random_state=8, \n",
    "                               n_jobs = 4)"
   ]
  },
  {
   "cell_type": "markdown",
   "id": "57fb7bed-4a4e-44bb-9767-3f8944b91502",
   "metadata": {},
   "source": [
    "**[4.4]** Train Model"
   ]
  },
  {
   "cell_type": "code",
   "execution_count": 641,
   "id": "656e3a75-8940-421d-8b54-69f0b26b5fdc",
   "metadata": {},
   "outputs": [],
   "source": [
    "## Import up sound alert dependencies\n",
    "from IPython.display import Audio, display"
   ]
  },
  {
   "cell_type": "code",
   "execution_count": null,
   "id": "01425cd9-c536-4fdb-888e-18ce322cfd61",
   "metadata": {},
   "outputs": [],
   "source": []
  },
  {
   "cell_type": "code",
   "execution_count": 642,
   "id": "8cca7752-c0a9-4d10-85b9-1579ea3df15d",
   "metadata": {},
   "outputs": [],
   "source": [
    "# Define a function to beep when done.\n",
    "def allDone():\n",
    "    display(Audio(url='https://upload.wikimedia.org/wikipedia/commons/0/05/Beep-09.ogg', autoplay=True))\n",
    "    return"
   ]
  },
  {
   "cell_type": "markdown",
   "id": "989d91db-1c9d-4a40-95a2-f9f67c270d8b",
   "metadata": {},
   "source": []
  },
  {
   "cell_type": "code",
   "execution_count": 643,
   "id": "8a3a61fc-9a67-4788-82b5-4d42d91ac5a6",
   "metadata": {},
   "outputs": [
    {
     "name": "stdout",
     "output_type": "stream",
     "text": [
      "Fitting 5 folds for each of 30 candidates, totalling 150 fits\n"
     ]
    },
    {
     "name": "stderr",
     "output_type": "stream",
     "text": [
      "/opt/conda/lib/python3.9/site-packages/sklearn/model_selection/_validation.py:372: FitFailedWarning: \n",
      "25 fits failed out of a total of 150.\n",
      "The score on these train-test partitions for these parameters will be set to nan.\n",
      "If these failures are not expected, you can try to debug them by setting error_score='raise'.\n",
      "\n",
      "Below are more details about the failures:\n",
      "--------------------------------------------------------------------------------\n",
      "10 fits failed with the following error:\n",
      "Traceback (most recent call last):\n",
      "  File \"/opt/conda/lib/python3.9/site-packages/sklearn/model_selection/_validation.py\", line 680, in _fit_and_score\n",
      "    estimator.fit(X_train, y_train, **fit_params)\n",
      "  File \"/opt/conda/lib/python3.9/site-packages/sklearn/ensemble/_forest.py\", line 450, in fit\n",
      "    trees = Parallel(\n",
      "  File \"/opt/conda/lib/python3.9/site-packages/joblib/parallel.py\", line 1043, in __call__\n",
      "    if self.dispatch_one_batch(iterator):\n",
      "  File \"/opt/conda/lib/python3.9/site-packages/joblib/parallel.py\", line 861, in dispatch_one_batch\n",
      "    self._dispatch(tasks)\n",
      "  File \"/opt/conda/lib/python3.9/site-packages/joblib/parallel.py\", line 779, in _dispatch\n",
      "    job = self._backend.apply_async(batch, callback=cb)\n",
      "  File \"/opt/conda/lib/python3.9/site-packages/joblib/_parallel_backends.py\", line 208, in apply_async\n",
      "    result = ImmediateResult(func)\n",
      "  File \"/opt/conda/lib/python3.9/site-packages/joblib/_parallel_backends.py\", line 572, in __init__\n",
      "    self.results = batch()\n",
      "  File \"/opt/conda/lib/python3.9/site-packages/joblib/parallel.py\", line 262, in __call__\n",
      "    return [func(*args, **kwargs)\n",
      "  File \"/opt/conda/lib/python3.9/site-packages/joblib/parallel.py\", line 262, in <listcomp>\n",
      "    return [func(*args, **kwargs)\n",
      "  File \"/opt/conda/lib/python3.9/site-packages/sklearn/utils/fixes.py\", line 216, in __call__\n",
      "    return self.function(*args, **kwargs)\n",
      "  File \"/opt/conda/lib/python3.9/site-packages/sklearn/ensemble/_forest.py\", line 185, in _parallel_build_trees\n",
      "    tree.fit(X, y, sample_weight=curr_sample_weight, check_input=False)\n",
      "  File \"/opt/conda/lib/python3.9/site-packages/sklearn/tree/_classes.py\", line 937, in fit\n",
      "    super().fit(\n",
      "  File \"/opt/conda/lib/python3.9/site-packages/sklearn/tree/_classes.py\", line 250, in fit\n",
      "    raise ValueError(\n",
      "ValueError: min_samples_split must be an integer greater than 1 or a float in (0.0, 1.0]; got the integer 1\n",
      "\n",
      "--------------------------------------------------------------------------------\n",
      "15 fits failed with the following error:\n",
      "Traceback (most recent call last):\n",
      "  File \"/opt/conda/lib/python3.9/site-packages/sklearn/model_selection/_validation.py\", line 680, in _fit_and_score\n",
      "    estimator.fit(X_train, y_train, **fit_params)\n",
      "  File \"/opt/conda/lib/python3.9/site-packages/sklearn/ensemble/_forest.py\", line 450, in fit\n",
      "    trees = Parallel(\n",
      "  File \"/opt/conda/lib/python3.9/site-packages/joblib/parallel.py\", line 1043, in __call__\n",
      "    if self.dispatch_one_batch(iterator):\n",
      "  File \"/opt/conda/lib/python3.9/site-packages/joblib/parallel.py\", line 861, in dispatch_one_batch\n",
      "    self._dispatch(tasks)\n",
      "  File \"/opt/conda/lib/python3.9/site-packages/joblib/parallel.py\", line 779, in _dispatch\n",
      "    job = self._backend.apply_async(batch, callback=cb)\n",
      "  File \"/opt/conda/lib/python3.9/site-packages/joblib/_parallel_backends.py\", line 208, in apply_async\n",
      "    result = ImmediateResult(func)\n",
      "  File \"/opt/conda/lib/python3.9/site-packages/joblib/_parallel_backends.py\", line 572, in __init__\n",
      "    self.results = batch()\n",
      "  File \"/opt/conda/lib/python3.9/site-packages/joblib/parallel.py\", line 262, in __call__\n",
      "    return [func(*args, **kwargs)\n",
      "  File \"/opt/conda/lib/python3.9/site-packages/joblib/parallel.py\", line 262, in <listcomp>\n",
      "    return [func(*args, **kwargs)\n",
      "  File \"/opt/conda/lib/python3.9/site-packages/sklearn/utils/fixes.py\", line 216, in __call__\n",
      "    return self.function(*args, **kwargs)\n",
      "  File \"/opt/conda/lib/python3.9/site-packages/sklearn/ensemble/_forest.py\", line 187, in _parallel_build_trees\n",
      "    tree.fit(X, y, sample_weight=sample_weight, check_input=False)\n",
      "  File \"/opt/conda/lib/python3.9/site-packages/sklearn/tree/_classes.py\", line 937, in fit\n",
      "    super().fit(\n",
      "  File \"/opt/conda/lib/python3.9/site-packages/sklearn/tree/_classes.py\", line 250, in fit\n",
      "    raise ValueError(\n",
      "ValueError: min_samples_split must be an integer greater than 1 or a float in (0.0, 1.0]; got the integer 1\n",
      "\n",
      "  warnings.warn(some_fits_failed_message, FitFailedWarning)\n",
      "/opt/conda/lib/python3.9/site-packages/sklearn/model_selection/_search.py:969: UserWarning: One or more of the test scores are non-finite: [0.83125    0.83359375        nan        nan 0.8325     0.833125\n",
      " 0.83265625 0.833125   0.83359375        nan 0.83265625 0.83359375\n",
      " 0.833125   0.8325     0.83359375 0.83328125 0.8325            nan\n",
      " 0.833125   0.83328125 0.83359375 0.83328125        nan 0.83375\n",
      " 0.833125   0.83296875 0.833125   0.83375    0.8325     0.83359375]\n",
      "  warnings.warn(\n"
     ]
    },
    {
     "data": {
      "text/html": [
       "\n",
       "                <audio  controls=\"controls\" autoplay=\"autoplay\">\n",
       "                    <source src=\"https://upload.wikimedia.org/wikipedia/commons/0/05/Beep-09.ogg\" type=\"audio/ogg\" />\n",
       "                    Your browser does not support the audio element.\n",
       "                </audio>\n",
       "              "
      ],
      "text/plain": [
       "<IPython.lib.display.Audio object>"
      ]
     },
     "metadata": {},
     "output_type": "display_data"
    },
    {
     "name": "stdout",
     "output_type": "stream",
     "text": [
      "{'n_estimators': 500, 'min_samples_split': 15, 'min_samples_leaf': 2, 'max_depth': 5, 'criterion': 'gini', 'bootstrap': True}\n"
     ]
    }
   ],
   "source": [
    "rf_random.fit(X_train, y_train)\n",
    "\n",
    "# Beep when completed\n",
    "allDone()\n",
    "\n",
    "print(rf_random.best_params_)"
   ]
  },
  {
   "cell_type": "markdown",
   "id": "7395b8e3-9d5f-43da-8723-8825d5747789",
   "metadata": {},
   "source": [
    "*print(rf_random.best_params_)*\n",
    "\n",
    "{'n_estimators': 275, 'min_samples_split': 2, 'min_samples_leaf': 8, 'max_depth': 100, 'criterion': 'gini', 'bootstrap': True}"
   ]
  },
  {
   "cell_type": "code",
   "execution_count": 644,
   "id": "5db57386-8114-4dcd-97aa-681765fac8e2",
   "metadata": {},
   "outputs": [],
   "source": [
    "rf_best = RandomForestClassifier(random_state=8, n_estimators=275, max_depth=100, min_samples_leaf=8, max_features=None).fit(X_train, y_train)"
   ]
  },
  {
   "cell_type": "code",
   "execution_count": 645,
   "id": "c91663c7-9218-404e-a121-fbab3a3ba8df",
   "metadata": {},
   "outputs": [
    {
     "name": "stdout",
     "output_type": "stream",
     "text": [
      "--- Accuracy Scores Best Fit Model ---\n",
      "Baseline:  0.83359375\n",
      "Train:     0.8675\n",
      "Validate:  0.8275\n"
     ]
    }
   ],
   "source": [
    "print(\"--- Accuracy Scores Best Fit Model ---\")\n",
    "print(\"Baseline: \",accuracy_score(y_train, y_base))\n",
    "print(\"Train:    \",rf_best.score(X_train, y_train))\n",
    "print(\"Validate: \",rf_best.score(X_validate, y_validate))"
   ]
  },
  {
   "cell_type": "markdown",
   "id": "6583af27-1abb-4fb2-a96f-ac341f6a90cb",
   "metadata": {},
   "source": [
    "**Observation** Training Model is overfitting"
   ]
  },
  {
   "cell_type": "markdown",
   "id": "337ffca3-08e8-4d53-a70e-c3f00e57ab61",
   "metadata": {},
   "source": [
    "**[4.5]** Tune Hyperparameters to better reduce overfitting.\n",
    "\n",
    "1. Reduce Depth to and \n",
    "2. increase min samples per leaf to 10"
   ]
  },
  {
   "cell_type": "code",
   "execution_count": 646,
   "id": "6862fd22-23d5-4cec-8697-c3a9abcd21ce",
   "metadata": {},
   "outputs": [],
   "source": [
    "rf_best_1 = RandomForestClassifier(random_state=8, n_estimators=100, max_depth=10, min_samples_leaf=10, max_features=None, class_weight=None).fit(X_train, y_train)"
   ]
  },
  {
   "cell_type": "code",
   "execution_count": 647,
   "id": "53b8b44e-2670-4049-9a72-f51adaca55f2",
   "metadata": {},
   "outputs": [
    {
     "name": "stdout",
     "output_type": "stream",
     "text": [
      "--- Accuracy Scores Best Fit Model ---\n",
      "Baseline:  0.83359375\n",
      "Train:     0.85703125\n",
      "Validate:  0.8275\n"
     ]
    }
   ],
   "source": [
    "print(\"--- Accuracy Scores Best Fit Model ---\")\n",
    "print(\"Baseline: \",accuracy_score(y_train, y_base))\n",
    "print(\"Train:    \",rf_best_1.score(X_train, y_train))\n",
    "print(\"Validate: \",rf_best_1.score(X_validate, y_validate))"
   ]
  },
  {
   "cell_type": "markdown",
   "id": "eaee372e-8dfa-4c36-8d21-9b0dacd3316a",
   "metadata": {},
   "source": [
    "**Observations**\n",
    "* Validation Dataset is not performing well for the model, indicating Model is overfitting on Train Dataset"
   ]
  },
  {
   "cell_type": "markdown",
   "id": "6a9f1c58-6a3c-4b56-9178-d6bb15e870a8",
   "metadata": {},
   "source": [
    "**[4.6]** Task: Plot Confusion Matrix\n",
    "\n",
    "Identify how well the model is performing at predicting the outcome"
   ]
  },
  {
   "cell_type": "code",
   "execution_count": 648,
   "id": "291c41e0-dac8-439c-af3b-6bb9b6198b63",
   "metadata": {},
   "outputs": [],
   "source": [
    "from sklearn.metrics import ConfusionMatrixDisplay\n",
    "import matplotlib.pyplot as plt"
   ]
  },
  {
   "cell_type": "code",
   "execution_count": 649,
   "id": "0763c405-d095-47fd-81d0-24ddb4a2cbca",
   "metadata": {},
   "outputs": [
    {
     "name": "stderr",
     "output_type": "stream",
     "text": [
      "/opt/conda/lib/python3.9/site-packages/sklearn/utils/deprecation.py:87: FutureWarning: Function plot_confusion_matrix is deprecated; Function `plot_confusion_matrix` is deprecated in 1.0 and will be removed in 1.2. Use one of the class methods: ConfusionMatrixDisplay.from_predictions or ConfusionMatrixDisplay.from_estimator.\n",
      "  warnings.warn(msg, category=FutureWarning)\n",
      "/opt/conda/lib/python3.9/site-packages/sklearn/utils/deprecation.py:87: FutureWarning: Function plot_confusion_matrix is deprecated; Function `plot_confusion_matrix` is deprecated in 1.0 and will be removed in 1.2. Use one of the class methods: ConfusionMatrixDisplay.from_predictions or ConfusionMatrixDisplay.from_estimator.\n",
      "  warnings.warn(msg, category=FutureWarning)\n"
     ]
    },
    {
     "data": {
      "text/plain": [
       "<sklearn.metrics._plot.confusion_matrix.ConfusionMatrixDisplay at 0x7f1aa83a41f0>"
      ]
     },
     "execution_count": 649,
     "metadata": {},
     "output_type": "execute_result"
    },
    {
     "data": {
      "image/png": "[encoded data removed]",
      "text/plain": [
       "<Figure size 432x288 with 2 Axes>"
      ]
     },
     "metadata": {
      "needs_background": "light"
     },
     "output_type": "display_data"
    },
    {
     "data": {
      "image/png": "[encoded data removed]",
      "text/plain": [
       "<Figure size 432x288 with 2 Axes>"
      ]
     },
     "metadata": {
      "needs_background": "light"
     },
     "output_type": "display_data"
    }
   ],
   "source": [
    "plot_confusion_matrix(rf_best_1, X_train, y_train, cmap=plt.cm.Blues, normalize='true')\n",
    "plot_confusion_matrix(rf_best_1, X_validate, y_validate, cmap=plt.cm.Blues, normalize='true')"
   ]
  },
  {
   "cell_type": "markdown",
   "id": "e27fe1b7-c5fd-403e-abe0-dd45e0c23c9a",
   "metadata": {},
   "source": [
    "**Observation** Both Models is predicting alot of False Positives (FP) in both training and validation datasets"
   ]
  },
  {
   "cell_type": "markdown",
   "id": "013db129-34d0-4bda-ab01-de28ced9f900",
   "metadata": {},
   "source": [
    "**[4.7]** Task: Calculate AUROC"
   ]
  },
  {
   "cell_type": "code",
   "execution_count": 650,
   "id": "d9fc1685-7dea-4391-b1c5-df33ac3dabee",
   "metadata": {},
   "outputs": [],
   "source": [
    "from sklearn.metrics import roc_auc_score"
   ]
  },
  {
   "cell_type": "code",
   "execution_count": 651,
   "id": "d57a3114-300b-40f0-933b-6c5ef1adf11c",
   "metadata": {},
   "outputs": [
    {
     "name": "stdout",
     "output_type": "stream",
     "text": [
      "rf_best_1_proba: [0.88705378 0.4699647  0.85968869 ... 0.83058625 0.69707417 0.92845285]\n"
     ]
    }
   ],
   "source": [
    "rf_best_1_X_train_proba = rf_best_1.predict_proba(X_train)[:, 1]\n",
    "rf_best_1_X_validate_proba = rf_best_1.predict_proba(X_validate)[:, 1]\n",
    "print(\"rf_best_1_proba:\", rf_best_1_X_train_proba)"
   ]
  },
  {
   "cell_type": "code",
   "execution_count": 652,
   "id": "79b00fed-f40e-4470-be93-bcf54e6cbaa3",
   "metadata": {},
   "outputs": [
    {
     "data": {
      "text/plain": [
       "0.9059804374513247"
      ]
     },
     "execution_count": 652,
     "metadata": {},
     "output_type": "execute_result"
    }
   ],
   "source": [
    "roc_auc_score(y_train, rf_best_1_X_train_proba)"
   ]
  },
  {
   "cell_type": "code",
   "execution_count": 653,
   "id": "bfda5baf-952f-4520-ae12-429701203645",
   "metadata": {},
   "outputs": [
    {
     "data": {
      "text/plain": [
       "0.6669719651452469"
      ]
     },
     "execution_count": 653,
     "metadata": {},
     "output_type": "execute_result"
    }
   ],
   "source": [
    "roc_auc_score(y_validate, rf_best_1_X_validate_proba)"
   ]
  },
  {
   "cell_type": "markdown",
   "id": "068089aa-40a3-4c19-8bd6-dcd5aac6d9b2",
   "metadata": {},
   "source": [
    "**Observations** \n",
    "* Training Dataset has a good AUROC prediction.\n",
    "* Validation Dataset has a poor AUROC prediction. This indicates the model is over-fitting and not working well on unseen data\n",
    "* The finaly Kaggle result AUROC 0.54153 continues this trend\n",
    "* More work to be done"
   ]
  },
  {
   "cell_type": "markdown",
   "id": "b64bf39c-8aa2-4a98-93c5-81346645d12c",
   "metadata": {},
   "source": [
    "## 5. Random Forest - Feature Importance"
   ]
  },
  {
   "cell_type": "markdown",
   "id": "f0cc7273-bffa-4eb4-812d-950d6d35e1e0",
   "metadata": {},
   "source": [
    "**[5.1]** Task: Print feature importance"
   ]
  },
  {
   "cell_type": "code",
   "execution_count": 654,
   "id": "1aec0c78-7c8c-4c12-b55f-9cc8184c58a1",
   "metadata": {},
   "outputs": [
    {
     "data": {
      "text/plain": [
       "array([0.27053539, 0.09553735, 0.06340835, 0.03542695, 0.05606036,\n",
       "       0.15555889, 0.05246931, 0.04643681, 0.06543929, 0.05796589,\n",
       "       0.04375613, 0.05740528])"
      ]
     },
     "execution_count": 654,
     "metadata": {},
     "output_type": "execute_result"
    }
   ],
   "source": [
    "rf_best_1.feature_importances_"
   ]
  },
  {
   "cell_type": "markdown",
   "id": "d5b3cab3-aede-407a-afb4-ba035018ae89",
   "metadata": {},
   "source": [
    "**[5.2]** Task: Create a Data Frame with feature importance values"
   ]
  },
  {
   "cell_type": "code",
   "execution_count": 655,
   "id": "3617c805-8717-4f62-afb3-9f64289bfd50",
   "metadata": {},
   "outputs": [],
   "source": [
    "feat_imp_rf_df = pd.DataFrame(\n",
    "    {'feature': X_train.columns,\n",
    "     'feature_importance': rf_best_1.feature_importances_\n",
    "     }\n",
    "     )"
   ]
  },
  {
   "cell_type": "markdown",
   "id": "318f2f40-34ba-4022-849a-4cb13dfd9681",
   "metadata": {},
   "source": [
    "**[5.3]** Task: Sort dataframe and reset index"
   ]
  },
  {
   "cell_type": "code",
   "execution_count": 656,
   "id": "5809ef22-cf6e-4dbc-a6ff-83bb26a2780d",
   "metadata": {},
   "outputs": [],
   "source": [
    "feat_imp_rf_df = feat_imp_rf_df.sort_values('feature_importance', ascending=False).reset_index(drop=True)"
   ]
  },
  {
   "cell_type": "markdown",
   "id": "e4e31baa-f2f0-42da-bedc-a8e7abe09c58",
   "metadata": {},
   "source": [
    "**[5.4]** Task: Display the first 10 rows of important features"
   ]
  },
  {
   "cell_type": "code",
   "execution_count": 657,
   "id": "a305eef4-95aa-4cee-b1b1-35403bf2d16e",
   "metadata": {},
   "outputs": [
    {
     "data": {
      "text/html": [
       "<div>\n",
       "<style scoped>\n",
       "    .dataframe tbody tr th:only-of-type {\n",
       "        vertical-align: middle;\n",
       "    }\n",
       "\n",
       "    .dataframe tbody tr th {\n",
       "        vertical-align: top;\n",
       "    }\n",
       "\n",
       "    .dataframe thead th {\n",
       "        text-align: right;\n",
       "    }\n",
       "</style>\n",
       "<table border=\"1\" class=\"dataframe\">\n",
       "  <thead>\n",
       "    <tr style=\"text-align: right;\">\n",
       "      <th></th>\n",
       "      <th>feature</th>\n",
       "      <th>feature_importance</th>\n",
       "    </tr>\n",
       "  </thead>\n",
       "  <tbody>\n",
       "    <tr>\n",
       "      <th>0</th>\n",
       "      <td>GP</td>\n",
       "      <td>0.270535</td>\n",
       "    </tr>\n",
       "    <tr>\n",
       "      <th>1</th>\n",
       "      <td>FG%</td>\n",
       "      <td>0.155559</td>\n",
       "    </tr>\n",
       "    <tr>\n",
       "      <th>2</th>\n",
       "      <td>MIN</td>\n",
       "      <td>0.095537</td>\n",
       "    </tr>\n",
       "    <tr>\n",
       "      <th>3</th>\n",
       "      <td>REB</td>\n",
       "      <td>0.065439</td>\n",
       "    </tr>\n",
       "    <tr>\n",
       "      <th>4</th>\n",
       "      <td>PTS</td>\n",
       "      <td>0.063408</td>\n",
       "    </tr>\n",
       "    <tr>\n",
       "      <th>5</th>\n",
       "      <td>AST</td>\n",
       "      <td>0.057966</td>\n",
       "    </tr>\n",
       "    <tr>\n",
       "      <th>6</th>\n",
       "      <td>TOV</td>\n",
       "      <td>0.057405</td>\n",
       "    </tr>\n",
       "    <tr>\n",
       "      <th>7</th>\n",
       "      <td>FGA</td>\n",
       "      <td>0.056060</td>\n",
       "    </tr>\n",
       "    <tr>\n",
       "      <th>8</th>\n",
       "      <td>OREB</td>\n",
       "      <td>0.052469</td>\n",
       "    </tr>\n",
       "    <tr>\n",
       "      <th>9</th>\n",
       "      <td>DREB</td>\n",
       "      <td>0.046437</td>\n",
       "    </tr>\n",
       "  </tbody>\n",
       "</table>\n",
       "</div>"
      ],
      "text/plain": [
       "  feature  feature_importance\n",
       "0      GP            0.270535\n",
       "1     FG%            0.155559\n",
       "2     MIN            0.095537\n",
       "3     REB            0.065439\n",
       "4     PTS            0.063408\n",
       "5     AST            0.057966\n",
       "6     TOV            0.057405\n",
       "7     FGA            0.056060\n",
       "8    OREB            0.052469\n",
       "9    DREB            0.046437"
      ]
     },
     "execution_count": 657,
     "metadata": {},
     "output_type": "execute_result"
    }
   ],
   "source": [
    "feat_imp_rf_df.head(10)"
   ]
  },
  {
   "cell_type": "markdown",
   "id": "29a1718c-745f-48fd-8c7f-82be235c30bc",
   "metadata": {},
   "source": [
    "**[5.5]**  Task: Create graph of Feature Importance"
   ]
  },
  {
   "cell_type": "code",
   "execution_count": 658,
   "id": "4850e8af-7660-4f7a-9979-545ac38906f2",
   "metadata": {},
   "outputs": [],
   "source": [
    "import altair as alt"
   ]
  },
  {
   "cell_type": "code",
   "execution_count": 659,
   "id": "4ed0bc2e-43aa-492c-9527-d6bc98dad2fd",
   "metadata": {},
   "outputs": [
    {
     "data": {
      "text/html": [
       "\n",
       "<div id=\"altair-viz-2451355fb6d64e1db5dc875e22c90674\"></div>\n",
       "<script type=\"text/javascript\">\n",
       "  var VEGA_DEBUG = (typeof VEGA_DEBUG == \"undefined\") ? {} : VEGA_DEBUG;\n",
       "  (function(spec, embedOpt){\n",
       "    let outputDiv = document.currentScript.previousElementSibling;\n",
       "    if (outputDiv.id !== \"altair-viz-2451355fb6d64e1db5dc875e22c90674\") {\n",
       "      outputDiv = document.getElementById(\"altair-viz-2451355fb6d64e1db5dc875e22c90674\");\n",
       "    }\n",
       "    const paths = {\n",
       "      \"vega\": \"https://cdn.jsdelivr.net/npm//vega@5?noext\",\n",
       "      \"vega-lib\": \"https://cdn.jsdelivr.net/npm//vega-lib?noext\",\n",
       "      \"vega-lite\": \"https://cdn.jsdelivr.net/npm//vega-lite@4.17.0?noext\",\n",
       "      \"vega-embed\": \"https://cdn.jsdelivr.net/npm//vega-embed@6?noext\",\n",
       "    };\n",
       "\n",
       "    function maybeLoadScript(lib, version) {\n",
       "      var key = `${lib.replace(\"-\", \"\")}_version`;\n",
       "      return (VEGA_DEBUG[key] == version) ?\n",
       "        Promise.resolve(paths[lib]) :\n",
       "        new Promise(function(resolve, reject) {\n",
       "          var s = document.createElement('script');\n",
       "          document.getElementsByTagName(\"head\")[0].appendChild(s);\n",
       "          s.async = true;\n",
       "          s.onload = () => {\n",
       "            VEGA_DEBUG[key] = version;\n",
       "            return resolve(paths[lib]);\n",
       "          };\n",
       "          s.onerror = () => reject(`Error loading script: ${paths[lib]}`);\n",
       "          s.src = paths[lib];\n",
       "        });\n",
       "    }\n",
       "\n",
       "    function showError(err) {\n",
       "      outputDiv.innerHTML = `<div class=\"error\" style=\"color:red;\">${err}</div>`;\n",
       "      throw err;\n",
       "    }\n",
       "\n",
       "    function displayChart(vegaEmbed) {\n",
       "      vegaEmbed(outputDiv, spec, embedOpt)\n",
       "        .catch(err => showError(`Javascript Error: ${err.message}<br>This usually means there's a typo in your chart specification. See the javascript console for the full traceback.`));\n",
       "    }\n",
       "\n",
       "    if(typeof define === \"function\" && define.amd) {\n",
       "      requirejs.config({paths});\n",
       "      require([\"vega-embed\"], displayChart, err => showError(`Error loading script: ${err.message}`));\n",
       "    } else {\n",
       "      maybeLoadScript(\"vega\", \"5\")\n",
       "        .then(() => maybeLoadScript(\"vega-lite\", \"4.17.0\"))\n",
       "        .then(() => maybeLoadScript(\"vega-embed\", \"6\"))\n",
       "        .catch(showError)\n",
       "        .then(() => displayChart(vegaEmbed));\n",
       "    }\n",
       "  })({\"config\": {\"view\": {\"continuousWidth\": 400, \"continuousHeight\": 300}}, \"data\": {\"name\": \"data-94506f0361153db55efdae33584a02aa\"}, \"mark\": \"bar\", \"encoding\": {\"tooltip\": [{\"field\": \"feature\", \"type\": \"nominal\"}, {\"field\": \"feature_importance\", \"type\": \"quantitative\"}], \"x\": {\"field\": \"feature_importance\", \"type\": \"quantitative\"}, \"y\": {\"field\": \"feature\", \"sort\": \"-x\", \"type\": \"nominal\"}}, \"$schema\": \"https://vega.github.io/schema/vega-lite/v4.17.0.json\", \"datasets\": {\"data-94506f0361153db55efdae33584a02aa\": [{\"feature\": \"GP\", \"feature_importance\": 0.2705353875528786}, {\"feature\": \"FG%\", \"feature_importance\": 0.15555888972182444}, {\"feature\": \"MIN\", \"feature_importance\": 0.09553735207225528}, {\"feature\": \"REB\", \"feature_importance\": 0.06543929305449918}, {\"feature\": \"PTS\", \"feature_importance\": 0.06340834975585691}, {\"feature\": \"AST\", \"feature_importance\": 0.05796589165072094}, {\"feature\": \"TOV\", \"feature_importance\": 0.05740527869768862}, {\"feature\": \"FGA\", \"feature_importance\": 0.056060357147577566}, {\"feature\": \"OREB\", \"feature_importance\": 0.05246931262126625}, {\"feature\": \"DREB\", \"feature_importance\": 0.046436805668000146}, {\"feature\": \"STL\", \"feature_importance\": 0.043756130710875474}, {\"feature\": \"FGM\", \"feature_importance\": 0.035426951346556504}]}}, {\"mode\": \"vega-lite\"});\n",
       "</script>"
      ],
      "text/plain": [
       "alt.Chart(...)"
      ]
     },
     "execution_count": 659,
     "metadata": {},
     "output_type": "execute_result"
    }
   ],
   "source": [
    "alt.Chart(feat_imp_rf_df).mark_bar().encode(\n",
    "    x='feature_importance',\n",
    "    y=alt.Y(\"feature\", sort='-x'),\n",
    "    tooltip=['feature','feature_importance'])"
   ]
  },
  {
   "cell_type": "markdown",
   "id": "f0fcdf46-0db9-449b-beab-7a335d13354c",
   "metadata": {},
   "source": [
    "## 6. Random Forest - Kaggle Competition Preparation"
   ]
  },
  {
   "cell_type": "markdown",
   "id": "95ac6bdf-49de-430a-a810-523fda2ca663",
   "metadata": {},
   "source": [
    "**[6.1]** Prepare Kaggle Input File using rf_best Random Forest Model"
   ]
  },
  {
   "cell_type": "code",
   "execution_count": 660,
   "id": "eb8779e6-30a6-4351-b417-75af0c5d7060",
   "metadata": {},
   "outputs": [],
   "source": [
    "# Drop Target and ID for X, and create target from y\n",
    "df_test_id = df_test_cleaned['Id']\n",
    "X_test = df_test_cleaned.drop(['Id'], axis=1)"
   ]
  },
  {
   "cell_type": "markdown",
   "id": "3b0a1642-e83d-4784-94f7-c89057829fbc",
   "metadata": {},
   "source": [
    "**[6.2]** Check Test Dataset is ready for predicting"
   ]
  },
  {
   "cell_type": "code",
   "execution_count": 661,
   "id": "2ff4404e-4433-43fe-8e5c-f1d3da4e7cd0",
   "metadata": {},
   "outputs": [
    {
     "name": "stdout",
     "output_type": "stream",
     "text": [
      "<class 'pandas.core.frame.DataFrame'>\n",
      "RangeIndex: 3799 entries, 0 to 3798\n",
      "Data columns (total 12 columns):\n",
      " #   Column  Non-Null Count  Dtype  \n",
      "---  ------  --------------  -----  \n",
      " 0   GP      3799 non-null   float64\n",
      " 1   MIN     3799 non-null   float64\n",
      " 2   PTS     3799 non-null   float64\n",
      " 3   FGM     3799 non-null   float64\n",
      " 4   FGA     3799 non-null   float64\n",
      " 5   FG%     3799 non-null   float64\n",
      " 6   OREB    3799 non-null   float64\n",
      " 7   DREB    3799 non-null   float64\n",
      " 8   REB     3799 non-null   float64\n",
      " 9   AST     3799 non-null   float64\n",
      " 10  STL     3799 non-null   float64\n",
      " 11  TOV     3799 non-null   float64\n",
      "dtypes: float64(12)\n",
      "memory usage: 356.3 KB\n"
     ]
    }
   ],
   "source": [
    "X_test.info()"
   ]
  },
  {
   "cell_type": "markdown",
   "id": "83c4ef83-1e64-453b-9dca-d358aa3c5486",
   "metadata": {},
   "source": [
    "**[6.3]** Create y Prediction using the Test Dataset"
   ]
  },
  {
   "cell_type": "code",
   "execution_count": 662,
   "id": "bd8c1325-8ae1-4a06-a435-5f42bb6cdce4",
   "metadata": {},
   "outputs": [],
   "source": [
    "y_predict = rf_best_1.predict(X_test)"
   ]
  },
  {
   "cell_type": "code",
   "execution_count": 663,
   "id": "427dccd0-8944-46fc-b5dd-535dc1d5d720",
   "metadata": {},
   "outputs": [
    {
     "name": "stdout",
     "output_type": "stream",
     "text": [
      "[1 1 1 ... 1 1 1]\n"
     ]
    }
   ],
   "source": [
    "print(y_predict)"
   ]
  },
  {
   "cell_type": "markdown",
   "id": "3358c9b7-13d1-48b8-ad95-41215d0bff9f",
   "metadata": {},
   "source": [
    "**[6.4]** Convert the Numpy Array into a Pandas Dataframe with a Column Name TARGET_5Yrs"
   ]
  },
  {
   "cell_type": "code",
   "execution_count": 664,
   "id": "58fb81e7-6af3-4bcd-930f-49b24e0c1c78",
   "metadata": {},
   "outputs": [],
   "source": [
    "# Convert numpy arrany y_predict values back to df_train_cleaned_scaled data frame \n",
    "y_predict = pd.DataFrame(np.squeeze(y_predict), columns=['TARGET_5Yrs']) "
   ]
  },
  {
   "cell_type": "markdown",
   "id": "c802c901-1ea2-487f-8a4c-d540330b5b0d",
   "metadata": {},
   "source": [
    "**[6.5]** Concatenate Player ID and Prediction into on Data Frame and Sort by Id"
   ]
  },
  {
   "cell_type": "code",
   "execution_count": 665,
   "id": "116ef162-791d-4574-a6be-3ed5f0289297",
   "metadata": {},
   "outputs": [],
   "source": [
    "y_predict = pd.concat([df_test_id, y_predict], axis=1)"
   ]
  },
  {
   "cell_type": "code",
   "execution_count": 666,
   "id": "e738cf48-eeff-4205-b7a4-05f27c381369",
   "metadata": {},
   "outputs": [],
   "source": [
    "y_predict = y_predict.sort_values(by=['Id'])"
   ]
  },
  {
   "cell_type": "markdown",
   "id": "d2430a87-7502-42df-bb97-43dc645d9fe9",
   "metadata": {},
   "source": [
    "**[6.6]** Export Dataframe to CSV and save model"
   ]
  },
  {
   "cell_type": "code",
   "execution_count": 668,
   "id": "0aa7d879-f6b6-4604-b874-b89f0bdd2b8a",
   "metadata": {},
   "outputs": [
    {
     "data": {
      "text/plain": [
       "(3799, 2)"
      ]
     },
     "execution_count": 668,
     "metadata": {},
     "output_type": "execute_result"
    }
   ],
   "source": [
    "joblib.dump(rf_best_1, \"../models/nfragar_20220212_random_forest_v1.joblib\", compress=3)\n",
    "y_predict.to_csv(\"../data/external/submission_nfragar_20220212_random_forest_v1.csv\", index = False)\n",
    "y_predict.shape"
   ]
  }
 ],
 "metadata": {
  "kernelspec": {
   "display_name": "Python 3 (ipykernel)",
   "language": "python",
   "name": "python3"
  },
  "language_info": {
   "codemirror_mode": {
    "name": "ipython",
    "version": 3
   },
   "file_extension": ".py",
   "mimetype": "text/x-python",
   "name": "python",
   "nbconvert_exporter": "python",
   "pygments_lexer": "ipython3",
   "version": "3.9.7"
  }
 },
 "nbformat": 4,
 "nbformat_minor": 5
}
