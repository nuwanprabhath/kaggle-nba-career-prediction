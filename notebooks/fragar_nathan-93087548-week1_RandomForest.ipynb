{
 "cells": [
  {
   "cell_type": "markdown",
   "id": "1072d7ee-da99-4b15-8ded-496c770836dc",
   "metadata": {},
   "source": [
    "# **AdvDS - Assignment 1: Binary Classification - NBA Player Prediction - Data Preparation**"
   ]
  },
  {
   "cell_type": "markdown",
   "id": "92ff0a16-0385-4f56-bee2-d54827025980",
   "metadata": {},
   "source": [
    "Build a binary classification model that can predict if a rookie player will last at least 5 years in the NBA"
   ]
  },
  {
   "cell_type": "markdown",
   "id": "dcde699c-0dcd-4cb5-90db-9989080eed90",
   "metadata": {},
   "source": [
    "**Student Name:** Nathan Fragar\n",
    "\n",
    "**Student No. :** 93087548\n",
    "\n",
    "**Team Name:** Group 1\n",
    "* Nuwan Munasinghe\n",
    "* Wenyingwuwy\n",
    "* Nathan Fragar\n",
    "* Sean Williams"
   ]
  },
  {
   "cell_type": "markdown",
   "id": "cc73ed60-6381-4db4-82c6-db70b15b0b4f",
   "metadata": {},
   "source": [
    "## 1. Load and Discover Dataset"
   ]
  },
  {
   "cell_type": "markdown",
   "id": "fcb5f006-c249-4004-83f8-fe7c39347f77",
   "metadata": {},
   "source": [
    "**[1.1]** TEask: Import required packages: Pandas, Numpy, joblib"
   ]
  },
  {
   "cell_type": "code",
   "execution_count": null,
   "id": "5c9960da-6c55-45d6-b7da-b59eec80c83c",
   "metadata": {},
   "outputs": [],
   "source": [
    "# Task: Import the pandas, numpy and joblib package\n",
    "import pandas as pd\n",
    "import numpy as np\n",
    "import joblib as job"
   ]
  },
  {
   "cell_type": "markdown",
   "id": "911b8028-e258-4282-81aa-bc238e9b8eab",
   "metadata": {},
   "source": [
    "**[1.2]** Task: Identify correct directory"
   ]
  },
  {
   "cell_type": "code",
   "execution_count": null,
   "id": "ecaa7d55-841f-4e38-b018-d50ab7169d21",
   "metadata": {},
   "outputs": [],
   "source": [
    "! ls -l ../data/raw"
   ]
  },
  {
   "cell_type": "markdown",
   "id": "e5f578bd-f9ef-4533-ac47-ee021a208e6f",
   "metadata": {},
   "source": [
    "**[1.3]** Task: Load Test and Train Files into Pandas Data Frames"
   ]
  },
  {
   "cell_type": "code",
   "execution_count": null,
   "id": "77cc417f-bd39-4b91-abb2-492fcc64e236",
   "metadata": {},
   "outputs": [],
   "source": [
    "# File URLs\n",
    "file_path_train = \"../data/raw/train.csv\"\n",
    "file_path_test= \"../data/raw/test.csv\"\n",
    "\n",
    "# Load files into df_training and df_validation data frames\n",
    "df_train = pd.read_csv(file_path_train)\n",
    "df_test = pd.read_csv(file_path_test)"
   ]
  },
  {
   "cell_type": "markdown",
   "id": "2f83b321-4bd8-4bc6-9bbf-8aa375acff46",
   "metadata": {},
   "source": [
    "**[1.4]** Task: Display Train and Test Data Frames"
   ]
  },
  {
   "cell_type": "code",
   "execution_count": null,
   "id": "796cd7e2-a3d3-4a2e-9770-17995c8032a9",
   "metadata": {},
   "outputs": [],
   "source": [
    "# Task: Display first 5 rows of df_train\n",
    "df_train.head()"
   ]
  },
  {
   "cell_type": "code",
   "execution_count": null,
   "id": "98e41569-f531-4746-b6a1-ab7c6082edad",
   "metadata": {},
   "outputs": [],
   "source": [
    "# Task: Display first 5 rows of df_train\n",
    "df_test.head()"
   ]
  },
  {
   "cell_type": "markdown",
   "id": "2e213bb3-e474-4f68-b590-e37b3c6220e0",
   "metadata": {},
   "source": [
    "**Observation:** Both datasets are identical with the exception the Test Dataset does not have the Target Variable. This is to be expected"
   ]
  },
  {
   "cell_type": "markdown",
   "id": "516cb05f-2071-4338-9ea9-8e5b35d4d726",
   "metadata": {},
   "source": [
    "**[1.5]** Task: Display Train and Test Shape"
   ]
  },
  {
   "cell_type": "code",
   "execution_count": null,
   "id": "b5e1115d-6a0a-4978-99d6-f8116e2006ba",
   "metadata": {},
   "outputs": [],
   "source": [
    "# Task: Display shape of df_train\n",
    "df_train.shape"
   ]
  },
  {
   "cell_type": "code",
   "execution_count": null,
   "id": "bf3ced10-248d-41e0-b950-44ae01fcb43f",
   "metadata": {},
   "outputs": [],
   "source": [
    "# Task: Display shape of df_test\n",
    "df_test.shape"
   ]
  },
  {
   "cell_type": "markdown",
   "id": "97e2adda-fef2-4f57-8a06-1451d2ac805c",
   "metadata": {},
   "source": [
    "**[1.6]** Task: Display descriptive statistics for Train and Test Datasets"
   ]
  },
  {
   "cell_type": "code",
   "execution_count": null,
   "id": "73822357-d868-4f05-a90f-553893940608",
   "metadata": {},
   "outputs": [],
   "source": [
    "# Task: Describe df_train\n",
    "df_train.describe()"
   ]
  },
  {
   "cell_type": "markdown",
   "id": "bcdb171e-236e-4c50-a178-cceacccbebd8",
   "metadata": {},
   "source": [
    "**Observations**\n",
    "\n",
    "**Outlier - Minimum Values** - Negative for GP, 3P Made, 3PA, FTM, BLK\n",
    "* GP: -8 games\n",
    "* 3P Made: -1.1 \n",
    "* 3PA: -3.1\n",
    "* FTM: \n",
    "* BLK: -17.9\n",
    "\n",
    "**Outlier - Maximum Values**\n",
    "* MIN - A max value of 73.8 minutes played per game appears high, particularly with 75% at 23.5 - may have some outlier records\n",
    "* a NBA Game has 48 minutes per game\n"
   ]
  },
  {
   "cell_type": "code",
   "execution_count": null,
   "id": "a156bc81-95de-491f-ade7-3db6c7b17032",
   "metadata": {},
   "outputs": [],
   "source": [
    "# Task: Describe df_train\n",
    "df_test.describe()"
   ]
  },
  {
   "cell_type": "markdown",
   "id": "7310f492-1cc8-44af-9711-e2a4dc5eb298",
   "metadata": {},
   "source": [
    "**Obervations**\n",
    "* No Negative minimums\n",
    "* Outlier Maximum Values - MIN - a max value of 68 mins per game appears high\n",
    "* Mean and Standard Deviation between train and test appear to be reasonably well aligned\n"
   ]
  },
  {
   "cell_type": "markdown",
   "id": "eb650160-6861-47f3-b9fa-107128596366",
   "metadata": {},
   "source": [
    "**[1.7]** Task: Identify Missing Values"
   ]
  },
  {
   "cell_type": "code",
   "execution_count": null,
   "id": "1a4c7f4c-85e3-4407-b1b2-949ae40145d2",
   "metadata": {},
   "outputs": [],
   "source": [
    "# Task: Display Summary (Info)\n",
    "df_train.info()"
   ]
  },
  {
   "cell_type": "markdown",
   "id": "7f2e0cd0-6f96-47ff-89fc-e6c99ccb5bea",
   "metadata": {},
   "source": [
    "**Oberservation** \n",
    "There are no missing values in this dataset"
   ]
  },
  {
   "cell_type": "markdown",
   "id": "4b9a1024-f701-43b5-93d6-0d15272de31e",
   "metadata": {},
   "source": [
    "**[1.8]** Task: Investigate Column Details - Find Min Values for each columns"
   ]
  },
  {
   "cell_type": "code",
   "execution_count": null,
   "id": "0444afea-22a8-4672-8c22-45001d34a454",
   "metadata": {},
   "outputs": [],
   "source": [
    "df_train.min()"
   ]
  },
  {
   "cell_type": "markdown",
   "id": "970c31cf-796c-4207-b9a2-523e5651ed85",
   "metadata": {},
   "source": [
    "**[1.8.1]** Task: Find Rows where GP (Games Played) is negative"
   ]
  },
  {
   "cell_type": "code",
   "execution_count": null,
   "id": "670bb7c1-e3bc-4a62-86af-3607ae155692",
   "metadata": {},
   "outputs": [],
   "source": [
    "df_train_mask_GP = df_train['GP'] < 0\n",
    "df_train_GP_less_zero = df_train[df_train_mask_GP]\n",
    "print(df_train_GP_less_zero)"
   ]
  },
  {
   "cell_type": "markdown",
   "id": "e40e184b-2351-46ce-b2ad-98da15d27d3d",
   "metadata": {},
   "source": [
    "**[1.8.2]** Task: Find Rows where 3P Made (3 Points Made) is negative"
   ]
  },
  {
   "cell_type": "code",
   "execution_count": null,
   "id": "7f7c14b6-d592-4ba0-92cc-1c66b310db4f",
   "metadata": {},
   "outputs": [],
   "source": [
    "# Identify how many rows are positive, negative and zero\n",
    "#df_train_mask_3PMade = df_train['3P Made'] > 0\n",
    "#df_train_mask_3PMade = df_train['3P Made'] == 0\n",
    "df_train_mask_3PMade = df_train['3P Made'] < 0\n",
    "df_train_3PMade_less_zero = df_train[df_train_mask_3PMade]\n",
    "print(df_train_3PMade_less_zero[['Id','GP','MIN','3P Made','3PA','3P%']])"
   ]
  },
  {
   "cell_type": "markdown",
   "id": "3d1b849b-06f0-49f6-9495-8c1e8a6c99ad",
   "metadata": {},
   "source": [
    "**Observed Statistics - Negative Values for 3P Made**\n",
    "* Negative - 1629 (20.4%)\n",
    "* Zero - 673 (8.4%)\n",
    "* Positive - 5698 (71.2%)\n"
   ]
  },
  {
   "cell_type": "markdown",
   "id": "f96af6df-6227-46f2-b4e2-49564f112c7d",
   "metadata": {},
   "source": [
    "**[1.8.3]** Task: Find Rows where 3PA (3 Points Attempted) is negative"
   ]
  },
  {
   "cell_type": "code",
   "execution_count": null,
   "id": "13689121-ea25-45c2-8ec6-b34b65e52211",
   "metadata": {},
   "outputs": [],
   "source": [
    "# Identify how many rows are positive, negative and zero\n",
    "#df_train_mask_3PMade = df_train['3PA'] > 0\n",
    "#df_train_mask_3PMade = df_train['3PA'] == 0\n",
    "df_train_mask_3PMade = (df_train['3PA'] > 0)\n",
    "df_train_3PMade_less_zero = df_train[df_train_mask_3PMade]\n",
    "print(df_train_3PMade_less_zero[['Id','GP','MIN','3P Made','3PA','3P%']])"
   ]
  },
  {
   "cell_type": "markdown",
   "id": "e1a35d7e-2eb1-4b82-8afe-8b3674cb53a0",
   "metadata": {},
   "source": [
    "**Observated Statistics**\n",
    "* Negative - 1658 (20.7%)\n",
    "* Zero - 220 (2.8%)\n",
    "* Positive - 6342  (76.5%)\n",
    "\n",
    "**Observation:** The 3 point statistics do not look reliable.\n",
    "\n",
    "**Proposal:** Remove 3 point statistics from initial analysis\n",
    "\n",
    "**Notes**\n",
    "The following columns do not appear to have reliable information, they do not fit the profile of the statistic\n",
    "* 3P Made - Negative Numbers should not be possible\n",
    "* 3PA - Points Attempted should always be the same or greater than Points Made\n",
    "* 3P% - Calculation of % should be (Points Made / Points Attempted) within a certain tolerance of error (due to rounding)\n",
    "* FTM - Negative Numbers should not be possible\n",
    "* FTA - Points Attempted should always be the same or greater than Points Made\n",
    "* FT% \n",
    "* BLK  - Negative Numbers should not be possible\n"
   ]
  },
  {
   "cell_type": "markdown",
   "id": "83017dc3-7ee9-47df-a0b1-f34284cf4bdb",
   "metadata": {},
   "source": [
    "## 2. Feature Engineering"
   ]
  },
  {
   "cell_type": "markdown",
   "id": "447cd444-997a-40d4-9e3b-db09eddd8fca",
   "metadata": {},
   "source": [
    "No creation of new features at this time."
   ]
  },
  {
   "cell_type": "markdown",
   "id": "9c9bdb24-0541-4b38-b89d-195fb3e84fc5",
   "metadata": {},
   "source": [
    "**[2.1]** Create copy of Training and Test Datasets\n"
   ]
  },
  {
   "cell_type": "code",
   "execution_count": null,
   "id": "72021fb1-9f8f-4501-a0f5-417ab40d39c5",
   "metadata": {},
   "outputs": [],
   "source": [
    "# Create copy of df_train and df_test\n",
    "df_train_cleaned = df_train\n",
    "df_test_cleaned = df_test"
   ]
  },
  {
   "cell_type": "markdown",
   "id": "4904fcac-915f-48e8-89e9-7d7d4c206b09",
   "metadata": {},
   "source": [
    "**[2.2]** Task:Create Training and Test Datasets\n",
    "\n",
    "Drop Columns: 3P Made,3PA ,3P%, FTM,FTA,FT%, ,BLK"
   ]
  },
  {
   "cell_type": "code",
   "execution_count": null,
   "id": "d0dfb17b-2356-4e80-b78c-c8a951cc739c",
   "metadata": {},
   "outputs": [],
   "source": [
    "# Drop Columns for Train and Test Datasets\n",
    "df_train_cleaned = df_train_cleaned.drop(['3P Made','3PA','3P%','FTM','FTA','FT%','BLK'],axis=1)\n",
    "df_test_cleaned = df_test_cleaned.drop(['3P Made','3PA','3P%','FTM','FTA','FT%','BLK'],axis=1)"
   ]
  },
  {
   "cell_type": "markdown",
   "id": "f0637f15-ecbd-46b0-bda9-8689ad2dad4c",
   "metadata": {},
   "source": [
    "Task: Display df_train_cleaned Information"
   ]
  },
  {
   "cell_type": "code",
   "execution_count": null,
   "id": "a7080de6-4371-4079-84b2-7fc8bd77babf",
   "metadata": {},
   "outputs": [],
   "source": [
    "# Display df_train_cleaned information\n",
    "df_train_cleaned.info()"
   ]
  },
  {
   "cell_type": "code",
   "execution_count": null,
   "id": "f357a83e-225c-42e6-b466-7b639a33cf28",
   "metadata": {},
   "outputs": [],
   "source": [
    "df_test_cleaned.info()"
   ]
  },
  {
   "cell_type": "markdown",
   "id": "62edd976-7876-47fc-aea2-aab49a17ba97",
   "metadata": {},
   "source": [
    "**[2.3]** Task: Import and Normalise all statistic columns"
   ]
  },
  {
   "cell_type": "code",
   "execution_count": null,
   "id": "f1827fde-adcd-4df6-a715-880d013eae29",
   "metadata": {},
   "outputs": [],
   "source": [
    "# Import MinMaxScaler\n",
    "from sklearn.preprocessing import MinMaxScaler\n",
    "# Instantiate Scaler\n",
    "scaler = MinMaxScaler()"
   ]
  },
  {
   "cell_type": "code",
   "execution_count": null,
   "id": "15ae8713-6241-4317-a7c7-a2fd21f7be86",
   "metadata": {},
   "outputs": [],
   "source": [
    "# Create df_train_cleaned_scaled_cols with columns to be scaled \n",
    "df_train_cleaned_scaled_cols = df_train_cleaned[['GP','MIN','PTS','FGM','FGA','FG%','OREB','DREB','REB','AST','STL','TOV']]\n",
    "df_test_cleaned_scaled_cols = df_test_cleaned[['GP','MIN','PTS','FGM','FGA','FG%','OREB','DREB','REB','AST','STL','TOV']]\n",
    "df_train_cleaned_scaled_cols.head()"
   ]
  },
  {
   "cell_type": "code",
   "execution_count": null,
   "id": "2f378121-b7bd-4c33-8eba-49ecbc565c79",
   "metadata": {},
   "outputs": [],
   "source": [
    "# Scale Columns\n",
    "df_train_cleaned_scaled = scaler.fit_transform(df_train_cleaned_scaled_cols)\n",
    "df_test_cleaned_scaled = scaler.fit_transform(df_test_cleaned_scaled_cols)"
   ]
  },
  {
   "cell_type": "code",
   "execution_count": null,
   "id": "4d877a9c-0b2c-43df-a4a4-a9715a9fd7be",
   "metadata": {},
   "outputs": [],
   "source": [
    "# Convert numpy arrany df_train_cleaned_scaled values back to df_train_cleaned_scaled data frame \n",
    "df_train_cleaned_scaled = pd.DataFrame(np.squeeze(df_train_cleaned_scaled), columns=df_train_cleaned_scaled_cols.columns) \n",
    "df_test_cleaned_scaled = pd.DataFrame(np.squeeze(df_test_cleaned_scaled), columns=df_test_cleaned_scaled_cols.columns) "
   ]
  },
  {
   "cell_type": "code",
   "execution_count": null,
   "id": "66830fc5-a4d4-450b-a598-316cc19c5a31",
   "metadata": {},
   "outputs": [],
   "source": [
    "df_train_cleaned_scaled.describe()"
   ]
  },
  {
   "cell_type": "code",
   "execution_count": null,
   "id": "637b42e3-8d1e-4491-b32b-98c52bf9dd6c",
   "metadata": {},
   "outputs": [],
   "source": [
    "df_train_cleaned.describe()"
   ]
  },
  {
   "cell_type": "code",
   "execution_count": null,
   "id": "dbc9c273-55cf-4c99-bd49-85340a39b9c4",
   "metadata": {},
   "outputs": [],
   "source": [
    "df_train_cleaned = df_train_cleaned.drop(['GP','MIN','PTS','FGM','FGA','FG%','OREB','DREB','REB','AST','STL','TOV'],axis=1)\n",
    "df_test_cleaned = df_test_cleaned.drop(['GP','MIN','PTS','FGM','FGA','FG%','OREB','DREB','REB','AST','STL','TOV'],axis=1)"
   ]
  },
  {
   "cell_type": "code",
   "execution_count": null,
   "id": "e0bb57b7-a43f-489e-b3bd-9e52733f1458",
   "metadata": {},
   "outputs": [],
   "source": [
    "df_train_cleaned = pd.concat([df_train_cleaned, df_train_cleaned_scaled], axis=1)\n",
    "df_test_cleaned = pd.concat([df_test_cleaned, df_test_cleaned_scaled], axis=1)"
   ]
  },
  {
   "cell_type": "code",
   "execution_count": null,
   "id": "8efb548b-41cf-4890-a17d-07e18850da05",
   "metadata": {},
   "outputs": [],
   "source": [
    "df_train_cleaned.head(10)"
   ]
  },
  {
   "cell_type": "code",
   "execution_count": null,
   "id": "2d1a8e8a-86fd-45ee-8ee7-7259a578dd14",
   "metadata": {},
   "outputs": [],
   "source": [
    "df_test_cleaned.head(10)"
   ]
  },
  {
   "cell_type": "code",
   "execution_count": null,
   "id": "a2d742ac-f907-482d-8d44-974b1476b2cc",
   "metadata": {},
   "outputs": [],
   "source": [
    "df_train_cleaned.shape"
   ]
  },
  {
   "cell_type": "code",
   "execution_count": null,
   "id": "d0f9492e-a44e-40cc-81ec-1fe757b0bdea",
   "metadata": {},
   "outputs": [],
   "source": [
    "df_test_cleaned.shape"
   ]
  },
  {
   "cell_type": "code",
   "execution_count": null,
   "id": "67a507dc-697d-4fb2-89d7-eeb2525c6bbe",
   "metadata": {},
   "outputs": [],
   "source": [
    "df_train_cleaned.describe()"
   ]
  },
  {
   "cell_type": "code",
   "execution_count": null,
   "id": "5c9485dd-a06f-4b42-86d6-b40010a59619",
   "metadata": {},
   "outputs": [],
   "source": [
    "df_test_cleaned.describe()"
   ]
  },
  {
   "cell_type": "markdown",
   "id": "f816b8ce-2829-42a8-b813-5e28ad8c1940",
   "metadata": {},
   "source": [
    "**[2.4]** Task: Create Train and Validate Datasets"
   ]
  },
  {
   "cell_type": "code",
   "execution_count": null,
   "id": "91617b30-e4a5-46fd-a2d3-1742604b3774",
   "metadata": {},
   "outputs": [],
   "source": [
    "# Drop Target and ID for X, and create target from y\n",
    "df_train_id = df_train_cleaned['Id']\n",
    "X = df_train_cleaned.drop(['Id', 'TARGET_5Yrs'], axis=1)\n",
    "y = df_train_cleaned['TARGET_5Yrs']"
   ]
  },
  {
   "cell_type": "code",
   "execution_count": null,
   "id": "7f2687fe-e417-4f8c-89a8-70fe2ebb1e60",
   "metadata": {},
   "outputs": [],
   "source": [
    "X.info()"
   ]
  },
  {
   "cell_type": "code",
   "execution_count": null,
   "id": "75473db3-5789-4b27-b7d3-d7abb37b9e00",
   "metadata": {},
   "outputs": [],
   "source": [
    "from sklearn.model_selection import train_test_split"
   ]
  },
  {
   "cell_type": "code",
   "execution_count": null,
   "id": "baae14b5-891d-49bd-b9db-36d475a002c5",
   "metadata": {},
   "outputs": [],
   "source": [
    "# split the data in training and remaining dataset. 80:10:10 for train:valid:test\n",
    "X_train, X_validate, y_train, y_validate  = train_test_split(X, y, train_size=0.8, shuffle = True, stratify=y, random_state = 8)"
   ]
  },
  {
   "cell_type": "markdown",
   "id": "c6d7b202-92ad-469c-8537-b7c62aa86bfe",
   "metadata": {},
   "source": [
    "Task: Check train and validate datasets have been distributed well"
   ]
  },
  {
   "cell_type": "code",
   "execution_count": null,
   "id": "726c34ae-c308-4a80-b37b-a0eaeebc7530",
   "metadata": {},
   "outputs": [],
   "source": [
    "y.value_counts(normalize=True)"
   ]
  },
  {
   "cell_type": "code",
   "execution_count": null,
   "id": "8f89087e-ff4e-4f89-ae09-1d2f371e146e",
   "metadata": {},
   "outputs": [],
   "source": [
    "y_train.value_counts(normalize=True)"
   ]
  },
  {
   "cell_type": "code",
   "execution_count": null,
   "id": "2c142302-62ba-460e-a122-d99336b6ccf1",
   "metadata": {},
   "outputs": [],
   "source": [
    "y_validate.value_counts(normalize=True)"
   ]
  },
  {
   "cell_type": "markdown",
   "id": "cab31dbb-e054-432b-9da0-2f191650418c",
   "metadata": {},
   "source": [
    "## 3. Create Baseline Model"
   ]
  },
  {
   "cell_type": "markdown",
   "id": "9bd312b4-9221-42e2-8855-ba0862a7abf8",
   "metadata": {},
   "source": [
    "**[3.1]** Task: Find the mode of the target variable and print it's value"
   ]
  },
  {
   "cell_type": "code",
   "execution_count": null,
   "id": "1f1d57f3-0869-4f09-83d8-f0b59e259f17",
   "metadata": {},
   "outputs": [],
   "source": [
    "y_mode = y_train.mode()\n",
    "y_mode"
   ]
  },
  {
   "cell_type": "markdown",
   "id": "0c80bc44-2540-4562-8fcc-921485da5aef",
   "metadata": {},
   "source": [
    "**[3.2]** Task: Create a numpy array called y_base filled with this value"
   ]
  },
  {
   "cell_type": "code",
   "execution_count": null,
   "id": "945c5aac-59fe-4932-86dc-0476c25752cd",
   "metadata": {},
   "outputs": [],
   "source": [
    "y_shape = (len(y_train), 1)\n",
    "y_base = np.full(y_shape, y_mode)"
   ]
  },
  {
   "cell_type": "markdown",
   "id": "9467fadb-38a6-4ec0-99db-d24a7b17206c",
   "metadata": {},
   "source": [
    "**[3.3]** Task: Import the accuracy score from sklearn"
   ]
  },
  {
   "cell_type": "code",
   "execution_count": null,
   "id": "8909debd-762c-4a2b-a61f-9dafa58cf115",
   "metadata": {},
   "outputs": [],
   "source": [
    "from sklearn.metrics import accuracy_score"
   ]
  },
  {
   "cell_type": "markdown",
   "id": "fb877509-84ce-41fe-a5ac-5b915314239e",
   "metadata": {},
   "source": [
    "**[3.4]** Task: Display the accuracy score of this baseline model"
   ]
  },
  {
   "cell_type": "code",
   "execution_count": null,
   "id": "104e83af-6237-438c-8914-94b943003809",
   "metadata": {},
   "outputs": [],
   "source": [
    "accuracy_score(y_train, y_base)"
   ]
  },
  {
   "cell_type": "markdown",
   "id": "5c50b1f4-aa1c-4888-a1cb-5999529e36a0",
   "metadata": {},
   "source": [
    "The null accuracty is 83.35%\n",
    "If we predict 1, we'll be correct 83.35% of the time"
   ]
  },
  {
   "cell_type": "markdown",
   "id": "eaf47a54-da6e-400d-9374-cf8a3aa0816c",
   "metadata": {},
   "source": [
    "## 4. Random Forest - Hyperparameter Tuning with Grid Search and KFold"
   ]
  },
  {
   "cell_type": "markdown",
   "id": "31018efc-3693-4388-904b-a9adb273560f",
   "metadata": {},
   "source": [
    "Train Random Forest Algorithm\n",
    "\n",
    "1.   Use Grid Search to tune Hyper Parameters\n",
    "2.   Use KFold with 5 Splits\n",
    "3.   Fit Algorithm"
   ]
  },
  {
   "cell_type": "markdown",
   "id": "ced0eb4e-e5fa-4952-b28e-f9db78bd6ad9",
   "metadata": {},
   "source": [
    "**[4.1]** Task: Import GridSearchCV, KFold from sklearn.model_selection"
   ]
  },
  {
   "cell_type": "code",
   "execution_count": null,
   "id": "940fef9a-17ec-47f3-ace0-abafc87c5e2b",
   "metadata": {},
   "outputs": [],
   "source": [
    "from sklearn.model_selection import RandomizedSearchCV,GridSearchCV,KFold"
   ]
  },
  {
   "cell_type": "markdown",
   "id": "2fb063f6-55c6-41e1-bfd4-4323de13b253",
   "metadata": {},
   "source": [
    "**[4.2]** Create a dictionary containing the Randomized Grid Search Parameters"
   ]
  },
  {
   "cell_type": "code",
   "execution_count": 385,
   "id": "1a5ad469-5108-44bc-ae36-7288bf864814",
   "metadata": {},
   "outputs": [],
   "source": [
    "# Number of trees in random forest\n",
    "n_estimators = np.linspace(50, 500, int((2000-100)/400) + 1, dtype=int)\n",
    "# Number of features to consider at every split\n",
    "max_features = ['auto', 'sqrt']\n",
    "# Maximum number of levels in tree\n",
    "max_depth = [1, 5, 10, 20, 50, 100]\n",
    "# Minimum number of samples required to split a node\n",
    "# min_samples_split = [int(x) for x in np.linspace(start = 2, stop = 10, num = 9)]\n",
    "min_samples_split = [1, 2, 5, 10, 15, 20]\n",
    "# Minimum number of samples required at each leaf node\n",
    "min_samples_leaf = [2, 5, 8]\n",
    "# Method of selecting samples for training each tree\n",
    "bootstrap = [True, False]\n",
    "# Criterion\n",
    "criterion=['gini', 'entropy']\n",
    "random_grid = {'n_estimators': n_estimators,\n",
    "#                'max_features': max_features,\n",
    "               'max_depth': max_depth,\n",
    "               'min_samples_split': min_samples_split,\n",
    "               'min_samples_leaf': min_samples_leaf,\n",
    "               'bootstrap': bootstrap,\n",
    "               'criterion': criterion}"
   ]
  },
  {
   "cell_type": "code",
   "execution_count": 387,
   "id": "40bf00ac-9ef7-4de4-9500-58e1396d8cf6",
   "metadata": {},
   "outputs": [
    {
     "data": {
      "text/plain": [
       "{'n_estimators': array([ 50, 162, 275, 387, 500]),\n",
       " 'max_depth': [1, 5, 10, 20, 50, 100],\n",
       " 'min_samples_split': [1, 2, 5, 10, 15, 20],\n",
       " 'min_samples_leaf': [2, 5, 8],\n",
       " 'bootstrap': [True, False],\n",
       " 'criterion': ['gini', 'entropy']}"
      ]
     },
     "execution_count": 387,
     "metadata": {},
     "output_type": "execute_result"
    }
   ],
   "source": [
    "random_grid"
   ]
  },
  {
   "cell_type": "markdown",
   "id": "ccf85da9-4853-408e-b7d2-cbc4179433ef",
   "metadata": {},
   "source": [
    "**[4.3]** Task: Create RF Model, and use Randomized Search to find GridSearch range"
   ]
  },
  {
   "cell_type": "code",
   "execution_count": 388,
   "id": "a28a49b7-3d63-4ec9-a7a7-85253587cb75",
   "metadata": {},
   "outputs": [],
   "source": [
    " from sklearn.ensemble import RandomForestClassifier"
   ]
  },
  {
   "cell_type": "code",
   "execution_count": 389,
   "id": "c68beb4c-62ca-4547-804a-e34fa110bb14",
   "metadata": {},
   "outputs": [],
   "source": [
    "rf_base = RandomForestClassifier()\n",
    "rf_random = RandomizedSearchCV(estimator = rf_base,\n",
    "                               param_distributions = random_grid,\n",
    "                               n_iter = 30, \n",
    "                               cv = 5,\n",
    "                               verbose=2,\n",
    "                               random_state=8, \n",
    "                               n_jobs = 4)"
   ]
  },
  {
   "cell_type": "markdown",
   "id": "57fb7bed-4a4e-44bb-9767-3f8944b91502",
   "metadata": {},
   "source": [
    "**[4.4]** Train Model"
   ]
  },
  {
   "cell_type": "code",
   "execution_count": 384,
   "id": "656e3a75-8940-421d-8b54-69f0b26b5fdc",
   "metadata": {},
   "outputs": [],
   "source": [
    "## Import up sound alert dependencies\n",
    "from IPython.display import Audio, display"
   ]
  },
  {
   "cell_type": "code",
   "execution_count": null,
   "id": "01425cd9-c536-4fdb-888e-18ce322cfd61",
   "metadata": {},
   "outputs": [],
   "source": []
  },
  {
   "cell_type": "code",
   "execution_count": 380,
   "id": "8cca7752-c0a9-4d10-85b9-1579ea3df15d",
   "metadata": {},
   "outputs": [],
   "source": [
    "# Define a function to beep when done.\n",
    "def allDone():\n",
    "    display(Audio(url='https://upload.wikimedia.org/wikipedia/commons/0/05/Beep-09.ogg', autoplay=True))\n",
    "    return"
   ]
  },
  {
   "cell_type": "markdown",
   "id": "989d91db-1c9d-4a40-95a2-f9f67c270d8b",
   "metadata": {},
   "source": []
  },
  {
   "cell_type": "code",
   "execution_count": 390,
   "id": "8a3a61fc-9a67-4788-82b5-4d42d91ac5a6",
   "metadata": {},
   "outputs": [
    {
     "name": "stdout",
     "output_type": "stream",
     "text": [
      "Fitting 5 folds for each of 30 candidates, totalling 150 fits\n"
     ]
    },
    {
     "name": "stderr",
     "output_type": "stream",
     "text": [
      "/opt/conda/lib/python3.9/site-packages/sklearn/model_selection/_validation.py:372: FitFailedWarning: \n",
      "25 fits failed out of a total of 150.\n",
      "The score on these train-test partitions for these parameters will be set to nan.\n",
      "If these failures are not expected, you can try to debug them by setting error_score='raise'.\n",
      "\n",
      "Below are more details about the failures:\n",
      "--------------------------------------------------------------------------------\n",
      "10 fits failed with the following error:\n",
      "Traceback (most recent call last):\n",
      "  File \"/opt/conda/lib/python3.9/site-packages/sklearn/model_selection/_validation.py\", line 680, in _fit_and_score\n",
      "    estimator.fit(X_train, y_train, **fit_params)\n",
      "  File \"/opt/conda/lib/python3.9/site-packages/sklearn/ensemble/_forest.py\", line 450, in fit\n",
      "    trees = Parallel(\n",
      "  File \"/opt/conda/lib/python3.9/site-packages/joblib/parallel.py\", line 1043, in __call__\n",
      "    if self.dispatch_one_batch(iterator):\n",
      "  File \"/opt/conda/lib/python3.9/site-packages/joblib/parallel.py\", line 861, in dispatch_one_batch\n",
      "    self._dispatch(tasks)\n",
      "  File \"/opt/conda/lib/python3.9/site-packages/joblib/parallel.py\", line 779, in _dispatch\n",
      "    job = self._backend.apply_async(batch, callback=cb)\n",
      "  File \"/opt/conda/lib/python3.9/site-packages/joblib/_parallel_backends.py\", line 208, in apply_async\n",
      "    result = ImmediateResult(func)\n",
      "  File \"/opt/conda/lib/python3.9/site-packages/joblib/_parallel_backends.py\", line 572, in __init__\n",
      "    self.results = batch()\n",
      "  File \"/opt/conda/lib/python3.9/site-packages/joblib/parallel.py\", line 262, in __call__\n",
      "    return [func(*args, **kwargs)\n",
      "  File \"/opt/conda/lib/python3.9/site-packages/joblib/parallel.py\", line 262, in <listcomp>\n",
      "    return [func(*args, **kwargs)\n",
      "  File \"/opt/conda/lib/python3.9/site-packages/sklearn/utils/fixes.py\", line 216, in __call__\n",
      "    return self.function(*args, **kwargs)\n",
      "  File \"/opt/conda/lib/python3.9/site-packages/sklearn/ensemble/_forest.py\", line 185, in _parallel_build_trees\n",
      "    tree.fit(X, y, sample_weight=curr_sample_weight, check_input=False)\n",
      "  File \"/opt/conda/lib/python3.9/site-packages/sklearn/tree/_classes.py\", line 937, in fit\n",
      "    super().fit(\n",
      "  File \"/opt/conda/lib/python3.9/site-packages/sklearn/tree/_classes.py\", line 250, in fit\n",
      "    raise ValueError(\n",
      "ValueError: min_samples_split must be an integer greater than 1 or a float in (0.0, 1.0]; got the integer 1\n",
      "\n",
      "--------------------------------------------------------------------------------\n",
      "15 fits failed with the following error:\n",
      "Traceback (most recent call last):\n",
      "  File \"/opt/conda/lib/python3.9/site-packages/sklearn/model_selection/_validation.py\", line 680, in _fit_and_score\n",
      "    estimator.fit(X_train, y_train, **fit_params)\n",
      "  File \"/opt/conda/lib/python3.9/site-packages/sklearn/ensemble/_forest.py\", line 450, in fit\n",
      "    trees = Parallel(\n",
      "  File \"/opt/conda/lib/python3.9/site-packages/joblib/parallel.py\", line 1043, in __call__\n",
      "    if self.dispatch_one_batch(iterator):\n",
      "  File \"/opt/conda/lib/python3.9/site-packages/joblib/parallel.py\", line 861, in dispatch_one_batch\n",
      "    self._dispatch(tasks)\n",
      "  File \"/opt/conda/lib/python3.9/site-packages/joblib/parallel.py\", line 779, in _dispatch\n",
      "    job = self._backend.apply_async(batch, callback=cb)\n",
      "  File \"/opt/conda/lib/python3.9/site-packages/joblib/_parallel_backends.py\", line 208, in apply_async\n",
      "    result = ImmediateResult(func)\n",
      "  File \"/opt/conda/lib/python3.9/site-packages/joblib/_parallel_backends.py\", line 572, in __init__\n",
      "    self.results = batch()\n",
      "  File \"/opt/conda/lib/python3.9/site-packages/joblib/parallel.py\", line 262, in __call__\n",
      "    return [func(*args, **kwargs)\n",
      "  File \"/opt/conda/lib/python3.9/site-packages/joblib/parallel.py\", line 262, in <listcomp>\n",
      "    return [func(*args, **kwargs)\n",
      "  File \"/opt/conda/lib/python3.9/site-packages/sklearn/utils/fixes.py\", line 216, in __call__\n",
      "    return self.function(*args, **kwargs)\n",
      "  File \"/opt/conda/lib/python3.9/site-packages/sklearn/ensemble/_forest.py\", line 187, in _parallel_build_trees\n",
      "    tree.fit(X, y, sample_weight=sample_weight, check_input=False)\n",
      "  File \"/opt/conda/lib/python3.9/site-packages/sklearn/tree/_classes.py\", line 937, in fit\n",
      "    super().fit(\n",
      "  File \"/opt/conda/lib/python3.9/site-packages/sklearn/tree/_classes.py\", line 250, in fit\n",
      "    raise ValueError(\n",
      "ValueError: min_samples_split must be an integer greater than 1 or a float in (0.0, 1.0]; got the integer 1\n",
      "\n",
      "  warnings.warn(some_fits_failed_message, FitFailedWarning)\n",
      "/opt/conda/lib/python3.9/site-packages/sklearn/model_selection/_search.py:969: UserWarning: One or more of the test scores are non-finite: [0.83328125 0.833125          nan        nan 0.8328125  0.83359375\n",
      " 0.83171875 0.8334375  0.83421875        nan 0.8321875  0.83359375\n",
      " 0.8334375  0.83234375 0.83359375 0.83375    0.83328125        nan\n",
      " 0.83375    0.83296875 0.83359375 0.834375          nan 0.83203125\n",
      " 0.8334375  0.83265625 0.833125   0.83265625 0.833125   0.8325    ]\n",
      "  warnings.warn(\n"
     ]
    },
    {
     "data": {
      "text/html": [
       "\n",
       "                <audio  controls=\"controls\" autoplay=\"autoplay\">\n",
       "                    <source src=\"https://upload.wikimedia.org/wikipedia/commons/0/05/Beep-09.ogg\" type=\"audio/ogg\" />\n",
       "                    Your browser does not support the audio element.\n",
       "                </audio>\n",
       "              "
      ],
      "text/plain": [
       "<IPython.lib.display.Audio object>"
      ]
     },
     "metadata": {},
     "output_type": "display_data"
    },
    {
     "name": "stdout",
     "output_type": "stream",
     "text": [
      "{'n_estimators': 275, 'min_samples_split': 2, 'min_samples_leaf': 8, 'max_depth': 100, 'criterion': 'gini', 'bootstrap': True}\n"
     ]
    }
   ],
   "source": [
    "rf_random.fit(X_train, y_train)\n",
    "\n",
    "# Beep when completed\n",
    "allDone()\n",
    "\n",
    "print(rf_random.best_params_)"
   ]
  },
  {
   "cell_type": "markdown",
   "id": "7395b8e3-9d5f-43da-8723-8825d5747789",
   "metadata": {},
   "source": [
    "*print(rf_random.best_params_)*\n",
    "\n",
    "{'n_estimators': 275, 'min_samples_split': 2, 'min_samples_leaf': 8, 'max_depth': 100, 'criterion': 'gini', 'bootstrap': True}"
   ]
  },
  {
   "cell_type": "code",
   "execution_count": 393,
   "id": "5db57386-8114-4dcd-97aa-681765fac8e2",
   "metadata": {},
   "outputs": [],
   "source": [
    "rf_best = RandomForestClassifier(random_state=8, n_estimators=275, max_depth=100, min_samples_leaf=8, max_features=None).fit(X_train, y_train)"
   ]
  },
  {
   "cell_type": "code",
   "execution_count": 464,
   "id": "c91663c7-9218-404e-a121-fbab3a3ba8df",
   "metadata": {},
   "outputs": [
    {
     "name": "stdout",
     "output_type": "stream",
     "text": [
      "--- Accuracy Scores Best Fit Model ---\n",
      "Baseline:  0.83359375\n",
      "Train:     0.8675\n",
      "Validate:  0.8275\n"
     ]
    }
   ],
   "source": [
    "print(\"--- Accuracy Scores Best Fit Model ---\")\n",
    "print(\"Baseline: \",accuracy_score(y_train, y_base))\n",
    "print(\"Train:    \",rf_best.score(X_train, y_train))\n",
    "print(\"Validate: \",rf_best.score(X_validate, y_validate))"
   ]
  },
  {
   "cell_type": "markdown",
   "id": "6583af27-1abb-4fb2-a96f-ac341f6a90cb",
   "metadata": {},
   "source": [
    "**Observation** Training Model is overfitting"
   ]
  },
  {
   "cell_type": "markdown",
   "id": "337ffca3-08e8-4d53-a70e-c3f00e57ab61",
   "metadata": {},
   "source": [
    "**[4.5]** Tune Hyperparameters to better reduce overfitting.\n",
    "\n",
    "1. Reduce Depth to 50"
   ]
  },
  {
   "cell_type": "code",
   "execution_count": 513,
   "id": "6862fd22-23d5-4cec-8697-c3a9abcd21ce",
   "metadata": {},
   "outputs": [],
   "source": [
    "rf_best_1 = RandomForestClassifier(random_state=8, n_estimators=100, max_depth=10, min_samples_leaf=10, max_features=None, class_weight=None).fit(X_train, y_train)"
   ]
  },
  {
   "cell_type": "code",
   "execution_count": 514,
   "id": "53b8b44e-2670-4049-9a72-f51adaca55f2",
   "metadata": {},
   "outputs": [
    {
     "name": "stdout",
     "output_type": "stream",
     "text": [
      "--- Accuracy Scores Best Fit Model ---\n",
      "Baseline:  0.83359375\n",
      "Train:     0.85703125\n",
      "Validate:  0.8275\n"
     ]
    }
   ],
   "source": [
    "print(\"--- Accuracy Scores Best Fit Model ---\")\n",
    "print(\"Baseline: \",accuracy_score(y_train, y_base))\n",
    "print(\"Train:    \",rf_best_1.score(X_train, y_train))\n",
    "print(\"Validate: \",rf_best_1.score(X_validate, y_validate))"
   ]
  },
  {
   "cell_type": "code",
   "execution_count": 487,
   "id": "291c41e0-dac8-439c-af3b-6bb9b6198b63",
   "metadata": {},
   "outputs": [],
   "source": [
    "from sklearn.metrics import ConfusionMatrixDisplay\n",
    "import matplotlib.pyplot as plt"
   ]
  },
  {
   "cell_type": "code",
   "execution_count": 515,
   "id": "0763c405-d095-47fd-81d0-24ddb4a2cbca",
   "metadata": {},
   "outputs": [
    {
     "name": "stderr",
     "output_type": "stream",
     "text": [
      "/opt/conda/lib/python3.9/site-packages/sklearn/utils/deprecation.py:87: FutureWarning: Function plot_confusion_matrix is deprecated; Function `plot_confusion_matrix` is deprecated in 1.0 and will be removed in 1.2. Use one of the class methods: ConfusionMatrixDisplay.from_predictions or ConfusionMatrixDisplay.from_estimator.\n",
      "  warnings.warn(msg, category=FutureWarning)\n",
      "/opt/conda/lib/python3.9/site-packages/sklearn/utils/deprecation.py:87: FutureWarning: Function plot_confusion_matrix is deprecated; Function `plot_confusion_matrix` is deprecated in 1.0 and will be removed in 1.2. Use one of the class methods: ConfusionMatrixDisplay.from_predictions or ConfusionMatrixDisplay.from_estimator.\n",
      "  warnings.warn(msg, category=FutureWarning)\n"
     ]
    },
    {
     "data": {
      "text/plain": [
       "<sklearn.metrics._plot.confusion_matrix.ConfusionMatrixDisplay at 0x7f1aac070550>"
      ]
     },
     "execution_count": 515,
     "metadata": {},
     "output_type": "execute_result"
    },
    {
     "data": {
      "image/png": "[encoded data removed]",
      "text/plain": [
       "<Figure size 432x288 with 2 Axes>"
      ]
     },
     "metadata": {
      "needs_background": "light"
     },
     "output_type": "display_data"
    },
    {
     "data": {
      "image/png": "[encoded data removed]",
      "text/plain": [
       "<Figure size 432x288 with 2 Axes>"
      ]
     },
     "metadata": {
      "needs_background": "light"
     },
     "output_type": "display_data"
    }
   ],
   "source": [
    "plot_confusion_matrix(rf_best_1, X_train, y_train, cmap=plt.cm.Blues, normalize='true')\n",
    "plot_confusion_matrix(rf_best_1, X_validate, y_validate, cmap=plt.cm.Blues, normalize='true')"
   ]
  },
  {
   "cell_type": "markdown",
   "id": "013db129-34d0-4bda-ab01-de28ced9f900",
   "metadata": {},
   "source": [
    "Calculate AUROC"
   ]
  },
  {
   "cell_type": "code",
   "execution_count": 509,
   "id": "d9fc1685-7dea-4391-b1c5-df33ac3dabee",
   "metadata": {},
   "outputs": [],
   "source": [
    "from sklearn.metrics import roc_auc_score"
   ]
  },
  {
   "cell_type": "code",
   "execution_count": 510,
   "id": "d57a3114-300b-40f0-933b-6c5ef1adf11c",
   "metadata": {},
   "outputs": [
    {
     "name": "stdout",
     "output_type": "stream",
     "text": [
      "rf_best_1_proba: [0.88705378 0.4699647  0.85968869 ... 0.83058625 0.69707417 0.92845285]\n"
     ]
    }
   ],
   "source": [
    "rf_best_1_X_train_proba = rf_best_1.predict_proba(X_train)[:, 1]\n",
    "rf_best_1_X_validate_proba = rf_best_1.predict_proba(X_validate)[:, 1]\n",
    "print(\"rf_best_1_proba:\", rf_best_1_X_train_proba)"
   ]
  },
  {
   "cell_type": "code",
   "execution_count": 511,
   "id": "79b00fed-f40e-4470-be93-bcf54e6cbaa3",
   "metadata": {},
   "outputs": [
    {
     "data": {
      "text/plain": [
       "0.9059804374513247"
      ]
     },
     "execution_count": 511,
     "metadata": {},
     "output_type": "execute_result"
    }
   ],
   "source": [
    "roc_auc_score(y_train, rf_best_1_X_train_proba)"
   ]
  },
  {
   "cell_type": "code",
   "execution_count": 512,
   "id": "bfda5baf-952f-4520-ae12-429701203645",
   "metadata": {},
   "outputs": [
    {
     "data": {
      "text/plain": [
       "0.6669719651452469"
      ]
     },
     "execution_count": 512,
     "metadata": {},
     "output_type": "execute_result"
    }
   ],
   "source": [
    "roc_auc_score(y_validate, rf_best_1_X_validate_proba)"
   ]
  },
  {
   "cell_type": "markdown",
   "id": "f0fcdf46-0db9-449b-beab-7a335d13354c",
   "metadata": {},
   "source": [
    "## 5. Random Forest - Kaggle Competition Preparation"
   ]
  },
  {
   "cell_type": "markdown",
   "id": "95ac6bdf-49de-430a-a810-523fda2ca663",
   "metadata": {},
   "source": [
    "Prepare Kaggle Input File using rf_best Random Forest Model"
   ]
  },
  {
   "cell_type": "code",
   "execution_count": 519,
   "id": "eb8779e6-30a6-4351-b417-75af0c5d7060",
   "metadata": {},
   "outputs": [],
   "source": [
    "# Drop Target and ID for X, and create target from y\n",
    "df_test_id = df_test_cleaned['Id']\n",
    "X_test = df_test_cleaned.drop(['Id'], axis=1)"
   ]
  },
  {
   "cell_type": "code",
   "execution_count": 523,
   "id": "2ff4404e-4433-43fe-8e5c-f1d3da4e7cd0",
   "metadata": {},
   "outputs": [
    {
     "name": "stdout",
     "output_type": "stream",
     "text": [
      "<class 'pandas.core.frame.DataFrame'>\n",
      "RangeIndex: 3799 entries, 0 to 3798\n",
      "Data columns (total 12 columns):\n",
      " #   Column  Non-Null Count  Dtype  \n",
      "---  ------  --------------  -----  \n",
      " 0   GP      3799 non-null   float64\n",
      " 1   MIN     3799 non-null   float64\n",
      " 2   PTS     3799 non-null   float64\n",
      " 3   FGM     3799 non-null   float64\n",
      " 4   FGA     3799 non-null   float64\n",
      " 5   FG%     3799 non-null   float64\n",
      " 6   OREB    3799 non-null   float64\n",
      " 7   DREB    3799 non-null   float64\n",
      " 8   REB     3799 non-null   float64\n",
      " 9   AST     3799 non-null   float64\n",
      " 10  STL     3799 non-null   float64\n",
      " 11  TOV     3799 non-null   float64\n",
      "dtypes: float64(12)\n",
      "memory usage: 356.3 KB\n"
     ]
    }
   ],
   "source": [
    "X_test.info()"
   ]
  },
  {
   "cell_type": "code",
   "execution_count": 531,
   "id": "bd8c1325-8ae1-4a06-a435-5f42bb6cdce4",
   "metadata": {},
   "outputs": [],
   "source": [
    "y_predict = rf_best_1.predict(X_test)"
   ]
  },
  {
   "cell_type": "code",
   "execution_count": 532,
   "id": "427dccd0-8944-46fc-b5dd-535dc1d5d720",
   "metadata": {},
   "outputs": [
    {
     "name": "stdout",
     "output_type": "stream",
     "text": [
      "[1 1 1 ... 1 1 1]\n"
     ]
    }
   ],
   "source": [
    "print(y_predict)"
   ]
  },
  {
   "cell_type": "code",
   "execution_count": 534,
   "id": "58fb81e7-6af3-4bcd-930f-49b24e0c1c78",
   "metadata": {},
   "outputs": [],
   "source": [
    "# Convert numpy arrany df_train_cleaned_scaled values back to df_train_cleaned_scaled data frame \n",
    "y_predict = pd.DataFrame(np.squeeze(y_predict), columns=['TARGET_5Yrs']) "
   ]
  },
  {
   "cell_type": "code",
   "execution_count": 537,
   "id": "116ef162-791d-4574-a6be-3ed5f0289297",
   "metadata": {},
   "outputs": [],
   "source": [
    "y_predict = pd.concat([df_test_id, y_predict], axis=1)"
   ]
  },
  {
   "cell_type": "code",
   "execution_count": 550,
   "id": "e738cf48-eeff-4205-b7a4-05f27c381369",
   "metadata": {},
   "outputs": [],
   "source": [
    "y_predict = y_predict.sort_values(by=['Id'])"
   ]
  },
  {
   "cell_type": "code",
   "execution_count": 551,
   "id": "0aa7d879-f6b6-4604-b874-b89f0bdd2b8a",
   "metadata": {},
   "outputs": [
    {
     "data": {
      "text/plain": [
       "(3799, 2)"
      ]
     },
     "execution_count": 551,
     "metadata": {},
     "output_type": "execute_result"
    }
   ],
   "source": [
    "joblib.dump(rf_best_1, \"../models/nfragar_20220212_random_forest_v1.joblib\", compress=3)\n",
    "y_predict.to_csv(\"../data/external/submission_nfragar_20220212_random_forest_v1.csv\", index = False)\n",
    "y_predict.shape"
   ]
  }
 ],
 "metadata": {
  "kernelspec": {
   "display_name": "Python 3 (ipykernel)",
   "language": "python",
   "name": "python3"
  },
  "language_info": {
   "codemirror_mode": {
    "name": "ipython",
    "version": 3
   },
   "file_extension": ".py",
   "mimetype": "text/x-python",
   "name": "python",
   "nbconvert_exporter": "python",
   "pygments_lexer": "ipython3",
   "version": "3.9.7"
  }
 },
 "nbformat": 4,
 "nbformat_minor": 5
}
